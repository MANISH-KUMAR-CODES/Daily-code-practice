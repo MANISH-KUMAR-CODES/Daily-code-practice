{
  "nbformat": 4,
  "nbformat_minor": 0,
  "metadata": {
    "colab": {
      "name": "Daily code practice",
      "provenance": [],
      "collapsed_sections": [],
      "authorship_tag": "ABX9TyMn2HdBCaP/wFK6zoX/Hyzh",
      "include_colab_link": true
    },
    "kernelspec": {
      "name": "python3",
      "display_name": "Python 3"
    },
    "language_info": {
      "name": "python"
    }
  },
  "cells": [
    {
      "cell_type": "markdown",
      "metadata": {
        "id": "view-in-github",
        "colab_type": "text"
      },
      "source": [
        "<a href=\"https://colab.research.google.com/github/MANISH-KUMAR-CODES/Daily-code-practice/blob/main/Daily_code_practice.ipynb\" target=\"_parent\"><img src=\"https://colab.research.google.com/assets/colab-badge.svg\" alt=\"Open In Colab\"/></a>"
      ]
    },
    {
      "cell_type": "markdown",
      "source": [
        "## **In this notebook i will daily practice some codes. so  i never forget how to code and make myself strong in codings**"
      ],
      "metadata": {
        "id": "ojZlx7z4dul_"
      }
    },
    {
      "cell_type": "markdown",
      "source": [
        "## practice on one hot encoding using python"
      ],
      "metadata": {
        "id": "88xkaoP4ePEX"
      }
    },
    {
      "cell_type": "code",
      "source": [
        "import pandas as pd"
      ],
      "metadata": {
        "id": "FDkuS7haeGQq"
      },
      "execution_count": null,
      "outputs": []
    },
    {
      "cell_type": "code",
      "source": [
        "df= pd.DataFrame({'Team' :[\"A\",\"A\",\"B\",\"B\",\"B\",\"B\",\"C\",\"C\",\"C\"],\n",
        "                    'points':[25,12,15,14,19,23,25,29,30]})\n",
        "#view DataFrame\n",
        "print(df)"
      ],
      "metadata": {
        "colab": {
          "base_uri": "https://localhost:8080/"
        },
        "id": "k4C62rcdech0",
        "outputId": "a0da7041-c328-47b9-b6ab-5a44f644b282"
      },
      "execution_count": null,
      "outputs": [
        {
          "output_type": "stream",
          "name": "stdout",
          "text": [
            "  Team  points\n",
            "0    A      25\n",
            "1    A      12\n",
            "2    B      15\n",
            "3    B      14\n",
            "4    B      19\n",
            "5    B      23\n",
            "6    C      25\n",
            "7    C      29\n",
            "8    C      30\n"
          ]
        }
      ]
    },
    {
      "cell_type": "code",
      "source": [
        "from sklearn.preprocessing import OneHotEncoder\n",
        "#creating instance of one-hot-encoder\n",
        "Encoder = OneHotEncoder(handle_unknown = 'ignore')\n",
        "\n",
        "#perform one-hot encoding on 'team' column \n",
        "encoder_df = pd.DataFrame(Encoder.fit_transform(df[['Team']]).toarray()) # in fir transform we have to put a dataframe only ,we cannot put a series \n",
        "\n",
        "#merge one-hot encoded columns back with original DataFrame\n",
        "final_df = df.join(encoder_df)\n",
        "\n",
        "#view final df\n",
        "print(final_df)\n",
        "\n",
        "#drop 'team' column\n",
        "final_df.drop('Team',axis = 1,inplace = True)\n",
        "\n",
        "#view final df\n",
        "print(final_df)\n",
        "\n",
        "final_df.columns = ['points','TeamA','TeamB','TeamC']"
      ],
      "metadata": {
        "colab": {
          "base_uri": "https://localhost:8080/"
        },
        "id": "K6yvAZIxfdBO",
        "outputId": "522f266e-a79c-4c75-d864-af0376fbca9d"
      },
      "execution_count": null,
      "outputs": [
        {
          "output_type": "stream",
          "name": "stdout",
          "text": [
            "  Team  points    0    1    2\n",
            "0    A      25  1.0  0.0  0.0\n",
            "1    A      12  1.0  0.0  0.0\n",
            "2    B      15  0.0  1.0  0.0\n",
            "3    B      14  0.0  1.0  0.0\n",
            "4    B      19  0.0  1.0  0.0\n",
            "5    B      23  0.0  1.0  0.0\n",
            "6    C      25  0.0  0.0  1.0\n",
            "7    C      29  0.0  0.0  1.0\n",
            "8    C      30  0.0  0.0  1.0\n",
            "   points    0    1    2\n",
            "0      25  1.0  0.0  0.0\n",
            "1      12  1.0  0.0  0.0\n",
            "2      15  0.0  1.0  0.0\n",
            "3      14  0.0  1.0  0.0\n",
            "4      19  0.0  1.0  0.0\n",
            "5      23  0.0  1.0  0.0\n",
            "6      25  0.0  0.0  1.0\n",
            "7      29  0.0  0.0  1.0\n",
            "8      30  0.0  0.0  1.0\n"
          ]
        }
      ]
    },
    {
      "cell_type": "code",
      "source": [
        "#view final df\n",
        "print(final_df)"
      ],
      "metadata": {
        "colab": {
          "base_uri": "https://localhost:8080/"
        },
        "id": "QLG6s-D2jvce",
        "outputId": "cf806627-d19a-4f25-cca5-aa391078b8be"
      },
      "execution_count": null,
      "outputs": [
        {
          "output_type": "stream",
          "name": "stdout",
          "text": [
            "   points  TeamA  TeamB  TeamC\n",
            "0      25    1.0    0.0    0.0\n",
            "1      12    1.0    0.0    0.0\n",
            "2      15    0.0    1.0    0.0\n",
            "3      14    0.0    1.0    0.0\n",
            "4      19    0.0    1.0    0.0\n",
            "5      23    0.0    1.0    0.0\n",
            "6      25    0.0    0.0    1.0\n",
            "7      29    0.0    0.0    1.0\n",
            "8      30    0.0    0.0    1.0\n"
          ]
        }
      ]
    },
    {
      "cell_type": "code",
      "source": [
        "Encoder.fit_transform(df[['Team']]).toarray()"
      ],
      "metadata": {
        "colab": {
          "base_uri": "https://localhost:8080/"
        },
        "id": "Qnzh8pAjhtvo",
        "outputId": "64614bf8-7509-4056-ddb3-2fe7c96bf330"
      },
      "execution_count": null,
      "outputs": [
        {
          "output_type": "execute_result",
          "data": {
            "text/plain": [
              "array([[1., 0., 0.],\n",
              "       [1., 0., 0.],\n",
              "       [0., 1., 0.],\n",
              "       [0., 1., 0.],\n",
              "       [0., 1., 0.],\n",
              "       [0., 1., 0.],\n",
              "       [0., 0., 1.],\n",
              "       [0., 0., 1.],\n",
              "       [0., 0., 1.]])"
            ]
          },
          "metadata": {},
          "execution_count": 29
        }
      ]
    },
    {
      "cell_type": "markdown",
      "source": [
        "### **using split function of python**"
      ],
      "metadata": {
        "id": "34u5FHBNbBZr"
      }
    },
    {
      "cell_type": "code",
      "source": [
        "x,y = input('Enter two Inputs:').split(\",\")\n",
        "print(\"Number of boys:\",x)\n",
        "print(\"Number of girls:\", y)"
      ],
      "metadata": {
        "colab": {
          "base_uri": "https://localhost:8080/"
        },
        "id": "BLeo0iJFbLJn",
        "outputId": "a329612e-7b14-4427-81b0-f5676aa7b3ed"
      },
      "execution_count": null,
      "outputs": [
        {
          "output_type": "stream",
          "name": "stdout",
          "text": [
            "Enter two Inputs:45,67\n",
            "Number of boys: 45\n",
            "Number of girls: 67\n"
          ]
        }
      ]
    },
    {
      "cell_type": "code",
      "source": [
        "x,y,z = input(\"Taking three inputs:\").split(\",\")\n",
        "print(\"No. of boys:\",(x))\n",
        "print(\"No. of girls\",(y))\n",
        "print(\"No. of teachers:\",(z))\n",
        "print(\"No. of students in total:\",x+y+z)"
      ],
      "metadata": {
        "colab": {
          "base_uri": "https://localhost:8080/"
        },
        "id": "vx76vt1abT0n",
        "outputId": "9703cb6f-a0df-4b45-c1a4-9e63d3f2a431"
      },
      "execution_count": null,
      "outputs": [
        {
          "output_type": "stream",
          "name": "stdout",
          "text": [
            "Taking three inputs:444,555,66\n",
            "No. of boys: 444\n",
            "No. of girls 555\n",
            "No. of teachers: 66\n",
            "No. of students in total: 44455566\n"
          ]
        }
      ]
    },
    {
      "cell_type": "code",
      "source": [
        "a,b = input(\"The two numbers are:\").split(',')\n",
        "print(\"First number is {} and second number is {}\".format(a,b))"
      ],
      "metadata": {
        "colab": {
          "base_uri": "https://localhost:8080/"
        },
        "id": "wuWme_GYeJQl",
        "outputId": "ada22306-a66d-4ed1-cc4f-a562483385c6"
      },
      "execution_count": null,
      "outputs": [
        {
          "output_type": "stream",
          "name": "stdout",
          "text": [
            "The two numbers are:45,56\n",
            "First number is 45 and second number is 56\n"
          ]
        }
      ]
    },
    {
      "cell_type": "code",
      "source": [
        "# taking multiple inputs at a time \n",
        "# and type casting using list() function\n",
        "x = list(map(int,input(\"multiple inputs:\").split(',')))\n",
        "print(\"list of multiple inputs are:\",x)"
      ],
      "metadata": {
        "colab": {
          "base_uri": "https://localhost:8080/"
        },
        "id": "W2a8_0tZg8Hg",
        "outputId": "03527908-cf45-4c08-f825-9e872bd4beb9"
      },
      "execution_count": null,
      "outputs": [
        {
          "output_type": "stream",
          "name": "stdout",
          "text": [
            "multiple inputs:46,235,35,35,34,23\n",
            "list of multiple inputs are: [46, 235, 35, 35, 34, 23]\n"
          ]
        }
      ]
    },
    {
      "cell_type": "code",
      "source": [
        "print(\"Geeks of Geeks \\n is the best for Dsa content\")\n",
        "print(\"Geeks of geeks \\n is the best for DSA\", end = '**')\n",
        "print('Geeks of geeks is the best')"
      ],
      "metadata": {
        "colab": {
          "base_uri": "https://localhost:8080/"
        },
        "id": "SZrXDxs5iaYc",
        "outputId": "c3c05a71-1f08-4d34-f540-60d94316655e"
      },
      "execution_count": null,
      "outputs": [
        {
          "output_type": "stream",
          "name": "stdout",
          "text": [
            "Geeks of Geeks \n",
            " is the best for Dsa content\n",
            "Geeks of geeks \n",
            " is the best for DSA**Geeks of geeks is the best\n"
          ]
        }
      ]
    },
    {
      "cell_type": "markdown",
      "source": [
        "### **code to print in same line**"
      ],
      "metadata": {
        "id": "JAM3z-NNka-r"
      }
    },
    {
      "cell_type": "code",
      "source": [
        "print('Geeks',end = ' ')\n",
        "print(\"GeeksofGeeks\")"
      ],
      "metadata": {
        "colab": {
          "base_uri": "https://localhost:8080/"
        },
        "id": "Bzg-_w0QkaSv",
        "outputId": "45fe293e-bdcc-4752-e788-aa1547edfca9"
      },
      "execution_count": null,
      "outputs": [
        {
          "output_type": "stream",
          "name": "stdout",
          "text": [
            "Geeks GeeksofGeeks\n"
          ]
        }
      ]
    },
    {
      "cell_type": "code",
      "source": [
        "a= [1,2,3,4,5]\n",
        "for i in range(5):\n",
        "   print(a[i],end =' ')"
      ],
      "metadata": {
        "colab": {
          "base_uri": "https://localhost:8080/"
        },
        "id": "JnFtcStMksRv",
        "outputId": "9beed354-798c-4278-f09b-4f5fe1532a1b"
      },
      "execution_count": null,
      "outputs": [
        {
          "output_type": "stream",
          "name": "stdout",
          "text": [
            "1 2 3 4 5 "
          ]
        }
      ]
    },
    {
      "cell_type": "code",
      "source": [
        "l = [1,2,3,45,6,7]\n",
        "print(*l)"
      ],
      "metadata": {
        "colab": {
          "base_uri": "https://localhost:8080/"
        },
        "id": "CrT_6k2hljpE",
        "outputId": "508ac29b-f35e-44e4-c7ef-d81a422766c6"
      },
      "execution_count": null,
      "outputs": [
        {
          "output_type": "stream",
          "name": "stdout",
          "text": [
            "1 2 3 45 6 7\n"
          ]
        }
      ]
    },
    {
      "cell_type": "code",
      "source": [
        "print('Red',\"Blue\",\"Green\", sep = \",\",end = '@')\n",
        "print('GeeksforGeeks')"
      ],
      "metadata": {
        "colab": {
          "base_uri": "https://localhost:8080/"
        },
        "id": "Zatt3AnrmmU1",
        "outputId": "8443191f-043b-44e9-af0d-d3d61290eab9"
      },
      "execution_count": null,
      "outputs": [
        {
          "output_type": "stream",
          "name": "stdout",
          "text": [
            "Red,Blue,Green@GeeksforGeeks\n"
          ]
        }
      ]
    },
    {
      "cell_type": "code",
      "source": [
        "# using format() method with number\n",
        "print(\"Geeks :{0:2d}, Portal :{1:8.2f}\".\n",
        "      format(1200, 555.546))"
      ],
      "metadata": {
        "colab": {
          "base_uri": "https://localhost:8080/"
        },
        "id": "M9ZtePZ0pWxA",
        "outputId": "2cf5ed7c-233d-4b09-c215-e22f476b8502"
      },
      "execution_count": null,
      "outputs": [
        {
          "output_type": "stream",
          "name": "stdout",
          "text": [
            "Geeks :1200, Portal :  555.55\n"
          ]
        }
      ]
    },
    {
      "cell_type": "code",
      "source": [
        "tab = {'geeks': 4127, 'for': 4098, 'geek': 8637678}\n",
        "\n",
        "print('Geeks: {0[geeks]:2d}; For: {0[for]:d}; '\n",
        "    'Geeks: {0[geek]:d}'.format(tab))"
      ],
      "metadata": {
        "colab": {
          "base_uri": "https://localhost:8080/"
        },
        "id": "kcN-1G7Jq2bB",
        "outputId": "b2d6a491-c1b1-40d4-9ef6-0659e91c9a42"
      },
      "execution_count": null,
      "outputs": [
        {
          "output_type": "stream",
          "name": "stdout",
          "text": [
            "Geeks: 4127; For: 4098; Geeks: 8637678\n"
          ]
        }
      ]
    },
    {
      "cell_type": "code",
      "source": [
        "data = dict(fun =\"GeeksForGeeks\", adj =\"Portal\")\n",
        " \n",
        "# using format() in dictionary\n",
        "print(\"I love {fun} computer {adj}\".format(**data))"
      ],
      "metadata": {
        "colab": {
          "base_uri": "https://localhost:8080/"
        },
        "id": "kd5UsErprQKz",
        "outputId": "acc8c5c1-ec4f-4105-db65-cd00c0ea2846"
      },
      "execution_count": null,
      "outputs": [
        {
          "output_type": "stream",
          "name": "stdout",
          "text": [
            "I love GeeksForGeeks computer Portal\n"
          ]
        }
      ]
    },
    {
      "cell_type": "code",
      "source": [
        "cstr = \"I love geeksforgeeks\"\n",
        "print(\"Centre alingned\")\n",
        "print(cstr.center(40,\"*\"))\n",
        "#left alingned\n",
        "print(cstr.ljust(40,'*'))\n",
        "#right alinged\n",
        "print(cstr.rjust(40,\"*\"))"
      ],
      "metadata": {
        "colab": {
          "base_uri": "https://localhost:8080/"
        },
        "id": "SzW_riON6vum",
        "outputId": "9d676c8b-ceee-422c-e624-eb3d4aa95e97"
      },
      "execution_count": null,
      "outputs": [
        {
          "output_type": "stream",
          "name": "stdout",
          "text": [
            "Centre alingned\n",
            "**********I love geeksforgeeks**********\n",
            "I love geeksforgeeks********************\n",
            "********************I love geeksforgeeks\n"
          ]
        }
      ]
    },
    {
      "cell_type": "code",
      "source": [
        "# Examples of Bitwise operators\n",
        "a = 10\n",
        "b = 4\n",
        " \n",
        "# Print bitwise AND operation\n",
        "print(a & b)\n",
        " \n",
        "# Print bitwise OR operation\n",
        "print(a | b)\n",
        " \n",
        "# Print bitwise NOT operation\n",
        "print(~a)\n",
        " \n",
        "# print bitwise XOR operation\n",
        "print(a ^ b)\n",
        " \n",
        "# print bitwise right shift operation\n",
        "print(a >> 2)\n",
        " \n",
        "# print bitwise left shift operation\n",
        "print(a << 2)"
      ],
      "metadata": {
        "colab": {
          "base_uri": "https://localhost:8080/"
        },
        "id": "EMptYEsm-cCj",
        "outputId": "2c5e47f9-6cf5-420d-89ee-9faeabf17949"
      },
      "execution_count": null,
      "outputs": [
        {
          "output_type": "stream",
          "name": "stdout",
          "text": [
            "0\n",
            "14\n",
            "-11\n",
            "14\n",
            "2\n",
            "40\n"
          ]
        }
      ]
    },
    {
      "cell_type": "code",
      "source": [
        "a ,b= 10, 20\n",
        "if a >b :\n",
        "  print(\"a is greater than b\")\n",
        "else:\n",
        "    print(\" b is greater than a\")"
      ],
      "metadata": {
        "colab": {
          "base_uri": "https://localhost:8080/"
        },
        "id": "-lkC_drqHgz4",
        "outputId": "d80ece51-1845-4418-e429-4b47b595f290"
      },
      "execution_count": null,
      "outputs": [
        {
          "output_type": "stream",
          "name": "stdout",
          "text": [
            " b is greater than a\n"
          ]
        }
      ]
    },
    {
      "cell_type": "code",
      "source": [
        "print(a,\" is greater than b\")if (a>b) else print(b,\" is greater\")"
      ],
      "metadata": {
        "colab": {
          "base_uri": "https://localhost:8080/"
        },
        "id": "cdM6-e8XILhL",
        "outputId": "2f40b939-3de7-42ea-e78b-18000069f28f"
      },
      "execution_count": null,
      "outputs": [
        {
          "output_type": "stream",
          "name": "stdout",
          "text": [
            "20  is greater\n"
          ]
        }
      ]
    },
    {
      "cell_type": "code",
      "source": [
        "print(1 + 2 + 5)\n",
        " \n",
        "# concatenate two strings\n",
        "print(\"Geeks\"+\"For\"+ \"Geeks\")\n",
        " \n",
        "# Product two numbers\n",
        "print(3 * 4 * 9)\n",
        " \n",
        "# Repeat the String\n",
        "print(\"Geeks\"*4+5*\"for\")"
      ],
      "metadata": {
        "colab": {
          "base_uri": "https://localhost:8080/"
        },
        "id": "yHMigYq-JgsL",
        "outputId": "cbb20fce-0017-40e2-c2a2-9522839b95e9"
      },
      "execution_count": null,
      "outputs": [
        {
          "output_type": "stream",
          "name": "stdout",
          "text": [
            "8\n",
            "GeeksForGeeks\n",
            "108\n",
            "GeeksGeeksGeeksGeeksforforforforfor\n"
          ]
        }
      ]
    },
    {
      "cell_type": "code",
      "source": [
        "## to overload an binary + operator\n",
        "class A:\n",
        "     def __init__(self,a,b):\n",
        "        self.a = a\n",
        "        self.b = b\n",
        "\n",
        "     def __add__(self , o):\n",
        "        self.o = o\n",
        "        return self.a + o.a   "
      ],
      "metadata": {
        "id": "i-o9l8G5J2Gs"
      },
      "execution_count": null,
      "outputs": []
    },
    {
      "cell_type": "code",
      "source": [
        "obj1 = A(1,5)\n",
        "obj2 = A(2,4)\n",
        "print(obj1 + obj2)"
      ],
      "metadata": {
        "colab": {
          "base_uri": "https://localhost:8080/"
        },
        "id": "80ubhP3yTmtc",
        "outputId": "22ae0022-9097-4ce7-f74c-edd291593fe9"
      },
      "execution_count": null,
      "outputs": [
        {
          "output_type": "stream",
          "name": "stdout",
          "text": [
            "3\n"
          ]
        }
      ]
    },
    {
      "cell_type": "code",
      "source": [
        "\n",
        "# A Sample class with init method\n",
        "class Person:\n",
        "   \n",
        "    # init method or constructor \n",
        "    def __init__(self, name,age):\n",
        "        self.age = age\n",
        "        self.name = name\n",
        "   \n",
        "    # Sample Method \n",
        "    def say_hi(self):\n",
        "        print('Hello, my name is {},and my age is {}'.format(self.name,self.age))"
      ],
      "metadata": {
        "id": "DRGJVUOvaIIl"
      },
      "execution_count": null,
      "outputs": []
    },
    {
      "cell_type": "code",
      "source": [
        "p = Person('Nikhil',35)\n",
        "p.say_hi()"
      ],
      "metadata": {
        "colab": {
          "base_uri": "https://localhost:8080/"
        },
        "id": "TScJ3G_Gaoxo",
        "outputId": "01ae63d5-22b1-4502-c8f6-c7597315619c"
      },
      "execution_count": null,
      "outputs": [
        {
          "output_type": "stream",
          "name": "stdout",
          "text": [
            "Hello, my name is Nikhil,and my age is 35\n"
          ]
        }
      ]
    },
    {
      "cell_type": "code",
      "source": [
        "class Dog:\n",
        "     animal = \"dog\"\n",
        "     def __init__(self,breed,color):\n",
        "        self.breed = breed\n",
        "        self.color = color\n",
        "\n",
        "     def setcolor(self,color):\n",
        "         self.color = color\n",
        "\n",
        "     def getcolor(self):\n",
        "         return self.color       \n",
        "\n",
        "     print(Dog.animal)  ##Class variables can be accessed using class"
      ],
      "metadata": {
        "colab": {
          "base_uri": "https://localhost:8080/"
        },
        "id": "VJg3EnqVJyxw",
        "outputId": "405f2100-8769-495c-f4ef-005c53c4aad4"
      },
      "execution_count": null,
      "outputs": [
        {
          "output_type": "stream",
          "name": "stdout",
          "text": [
            "dog\n"
          ]
        }
      ]
    },
    {
      "cell_type": "code",
      "source": [
        "# Objects of Dog class\n",
        "Rodger = Dog(\"Pug\", \"brown\")\n",
        "Buzo = Dog(\"Bulldog\", \"black\")"
      ],
      "metadata": {
        "id": "n1NsrPq5Khq1"
      },
      "execution_count": null,
      "outputs": []
    },
    {
      "cell_type": "code",
      "source": [
        "print(\"Rodger details:\")\n",
        "print(\"Rodger class:\",Rodger.animal)\n",
        "print(\"Rodger breed:\",Rodger.breed)\n",
        "print(\"Rodger color:\",Rodger.color)"
      ],
      "metadata": {
        "colab": {
          "base_uri": "https://localhost:8080/"
        },
        "id": "gD3g5srNKpWX",
        "outputId": "67f4e8d5-54af-4922-d9e6-8aee37264395"
      },
      "execution_count": null,
      "outputs": [
        {
          "output_type": "stream",
          "name": "stdout",
          "text": [
            "Rodger details:\n",
            "Rodger class: dog\n",
            "Rodger breed: Pug\n",
            "Rodger color: brown\n"
          ]
        }
      ]
    },
    {
      "cell_type": "code",
      "source": [
        "print(\"Buzo details:\")\n",
        "print(\"Buzo class:\",Buzo.animal)\n",
        "print(\"Buzo breed:\",Buzo.breed)\n",
        "print(\"Buzo color:\",Buzo.color)"
      ],
      "metadata": {
        "colab": {
          "base_uri": "https://localhost:8080/"
        },
        "id": "i3JkCISXLdp9",
        "outputId": "29ba5363-c6ef-4e15-a749-9abf39ac9ffb"
      },
      "execution_count": null,
      "outputs": [
        {
          "output_type": "stream",
          "name": "stdout",
          "text": [
            "Buzo details:\n",
            "Buzo class: dog\n",
            "Buzo breed: Bulldog\n",
            "Buzo color: black\n"
          ]
        }
      ]
    },
    {
      "cell_type": "code",
      "source": [
        "Rodger = Dog('Pug','yellow')\n",
        "Rodger.setcolor(\"green\")\n",
        "print(Rodger.getcolor())"
      ],
      "metadata": {
        "colab": {
          "base_uri": "https://localhost:8080/"
        },
        "id": "UitS4DRbNCeF",
        "outputId": "40d854ae-a2d7-4f0c-fe84-88adc603c31f"
      },
      "execution_count": null,
      "outputs": [
        {
          "output_type": "stream",
          "name": "stdout",
          "text": [
            "green\n"
          ]
        }
      ]
    },
    {
      "cell_type": "code",
      "source": [
        "class GeekForGeeks:\n",
        "      def __init__(self):\n",
        "         self.geek = \"GeekForGeeks\"\n",
        "\n",
        "      def printGeek(self):\n",
        "          return print(self.geek)"
      ],
      "metadata": {
        "id": "fXeXhy-JaZdD"
      },
      "execution_count": null,
      "outputs": []
    },
    {
      "cell_type": "code",
      "source": [
        "obj = GeekForGeeks()\n",
        "obj.printGeek()"
      ],
      "metadata": {
        "colab": {
          "base_uri": "https://localhost:8080/"
        },
        "id": "NCUzvhYtb7z6",
        "outputId": "d58b8b32-f081-45d2-cb22-3cb1681016b8"
      },
      "execution_count": null,
      "outputs": [
        {
          "output_type": "stream",
          "name": "stdout",
          "text": [
            "GeekForGeeks\n"
          ]
        }
      ]
    },
    {
      "cell_type": "code",
      "source": [
        "class Addition:\n",
        "      first = 0\n",
        "      second = 0\n",
        "      answer = 0\n",
        "      def __init__(self,f,s):\n",
        "          self.first = f\n",
        "          self.second = s\n",
        "           \n",
        "      def display(self):\n",
        "        print(\"First number = \" + str(self.first))\n",
        "        print(\"Second number = \" + str(self.second))\n",
        "        print(\"Addition of two numbers = \" + str(self.answer))     \n",
        "\n",
        "      def calculate(self):\n",
        "          self.answer = (self.first + self.second )\n",
        "          return print(\"The answer is:\",self.answer)  \n"
      ],
      "metadata": {
        "id": "Qc6w0UeUd9zE"
      },
      "execution_count": null,
      "outputs": []
    },
    {
      "cell_type": "code",
      "source": [
        "obj = Addition(19,56)\n",
        "obj.calculate()\n",
        "obj.display()"
      ],
      "metadata": {
        "colab": {
          "base_uri": "https://localhost:8080/"
        },
        "id": "siXRHHIzfCvP",
        "outputId": "17bd1aae-faf2-4ff6-bb24-1ccd97467272"
      },
      "execution_count": null,
      "outputs": [
        {
          "output_type": "stream",
          "name": "stdout",
          "text": [
            "The answer is: 75\n",
            "First number = 19\n",
            "Second number = 56\n",
            "Addition of two numbers = 75\n"
          ]
        }
      ]
    },
    {
      "cell_type": "markdown",
      "source": [
        "## **Inheritance in python oops**"
      ],
      "metadata": {
        "id": "X1AESi1gQ2LI"
      }
    },
    {
      "cell_type": "code",
      "source": [
        "class person(object):\n",
        "      def __init__(self,name):\n",
        "         self.name = name\n",
        "\n",
        "      def getname(self):\n",
        "          return self.name  \n",
        "\n",
        "      def isemployee(self):\n",
        "          return False  \n",
        "\n",
        "class employee(person):\n",
        "     def isemployee(self):\n",
        "        return True             "
      ],
      "metadata": {
        "id": "m-xhcJzJREEV"
      },
      "execution_count": null,
      "outputs": []
    },
    {
      "cell_type": "code",
      "source": [
        "obj = person(\"mahesh\")\n",
        "print(obj.getname(),obj.isemployee())\n",
        "obj = employee(\"bupesh\")\n",
        "print(obj.getname(),obj.isemployee())"
      ],
      "metadata": {
        "colab": {
          "base_uri": "https://localhost:8080/"
        },
        "id": "WdOYtiJ3R3SW",
        "outputId": "3a53afff-dff4-40a3-dc5c-f7130e98f00c"
      },
      "execution_count": null,
      "outputs": [
        {
          "output_type": "stream",
          "name": "stdout",
          "text": [
            "mahesh False\n",
            "bupesh True\n"
          ]
        }
      ]
    },
    {
      "cell_type": "code",
      "source": [
        "class person(object):\n",
        "    def __init__(self,name,person_id):\n",
        "        self.name = name \n",
        "        self.person_id = person_id\n",
        "\n",
        "    def display(self):\n",
        "        print(self.name,self.person_id,self.salary,self.department)    \n",
        "\n",
        "class employee(person):\n",
        "      def __init__(self,name,person_id,salary,department):\n",
        "          self.salary = salary\n",
        "          self.department= department\n",
        "\n",
        "          person.__init__(self,name,person_id)\n",
        "            "
      ],
      "metadata": {
        "id": "Xa3U3fFMUb7g"
      },
      "execution_count": null,
      "outputs": []
    },
    {
      "cell_type": "code",
      "source": [
        "a = employee(\"mahesh\",23,300000,\"health\")\n",
        "a.display()"
      ],
      "metadata": {
        "colab": {
          "base_uri": "https://localhost:8080/"
        },
        "id": "a2WMTXsAVncX",
        "outputId": "5d473bad-6e5d-422f-d4dc-a16ed7d3c350"
      },
      "execution_count": null,
      "outputs": [
        {
          "output_type": "stream",
          "name": "stdout",
          "text": [
            "mahesh 23 300000 health\n"
          ]
        }
      ]
    },
    {
      "cell_type": "code",
      "source": [
        "class base1():\n",
        "     def __init__(self):\n",
        "        self.str1 = \"geek1\"\n",
        "        self.str3 = \"For\"\n",
        "        print(\"base1\")\n",
        "class base2():\n",
        "     def __init__(self):\n",
        "        self.str2 = \"geek2\"\n",
        "        print(\"base2\")\n",
        "\n",
        "class derived(base1,base2):\n",
        "      def __init__(self):\n",
        "          base1.__init__(self)\n",
        "          base2.__init__(self)\n",
        "          print(\"derived\")\n",
        "\n",
        "      def printstrs(self):\n",
        "          print(self.str1,self.str3,self.str2)    "
      ],
      "metadata": {
        "id": "HHqJ05uFZ2bL"
      },
      "execution_count": null,
      "outputs": []
    },
    {
      "cell_type": "code",
      "source": [
        "obj = derived()\n",
        "obj.printstrs()"
      ],
      "metadata": {
        "colab": {
          "base_uri": "https://localhost:8080/"
        },
        "id": "myNF24clbTZs",
        "outputId": "032c4d74-5541-48d6-ff4c-bf338c2f3769"
      },
      "execution_count": null,
      "outputs": [
        {
          "output_type": "stream",
          "name": "stdout",
          "text": [
            "base1\n",
            "base2\n",
            "derived\n",
            "geek1 For geek2\n"
          ]
        }
      ]
    },
    {
      "cell_type": "code",
      "source": [
        "class base(object):\n",
        "     def __init__(self,name):\n",
        "         self.name = name\n",
        "\n",
        "     def getname(self):\n",
        "         return self.name\n",
        "\n",
        "class child(base):\n",
        "     def __init__(self,name,age):\n",
        "       self.age = age\n",
        "       base.__init__(self,name)\n",
        "\n",
        "     def getage(self):\n",
        "         return self.age\n",
        "\n",
        "class grandchild(child):\n",
        "     def __init__(self,name,age,address):\n",
        "        self.address = address\n",
        "        child.__init__(self,name,age) \n",
        "\n",
        "     def getaddress(self):\n",
        "         return self.address\n"
      ],
      "metadata": {
        "id": "lMR2qLQ_badm"
      },
      "execution_count": null,
      "outputs": []
    },
    {
      "cell_type": "code",
      "source": [
        "a = grandchild(\"mojhan\",23,\"bhagalpur\")\n",
        "print(a.getname(),a.getage(),a.getaddress())"
      ],
      "metadata": {
        "colab": {
          "base_uri": "https://localhost:8080/"
        },
        "id": "llDb3btse88M",
        "outputId": "0f3022fd-22db-45f4-dd60-615a3315299c"
      },
      "execution_count": null,
      "outputs": [
        {
          "output_type": "stream",
          "name": "stdout",
          "text": [
            "mojhan 23 bhagalpur\n"
          ]
        }
      ]
    },
    {
      "cell_type": "code",
      "source": [
        "class Child1:\n",
        "    def __init__(self, name):\n",
        "        self.name = name\n",
        "    def getName(self):\n",
        "        return self.name\n",
        "    def isStudent(self):\n",
        "        return False\n",
        "\n",
        "class Student1(Child1):\n",
        "    def isStudent(self):\n",
        "        return True"
      ],
      "metadata": {
        "id": "fDvzEXQFjxLJ"
      },
      "execution_count": null,
      "outputs": []
    },
    {
      "cell_type": "code",
      "source": [
        "a = Child1(\"mohan\")\n",
        "print(a.getName(),a.isStudent())\n",
        "a = Student1('Rakesh')\n",
        "print(a.getName(),a.isStudent())"
      ],
      "metadata": {
        "colab": {
          "base_uri": "https://localhost:8080/"
        },
        "id": "7icld3Jvj_7t",
        "outputId": "1708e79c-5490-4c95-9698-ac64f3a4fc89"
      },
      "execution_count": null,
      "outputs": [
        {
          "output_type": "stream",
          "name": "stdout",
          "text": [
            "mohan False\n",
            "Rakesh True\n"
          ]
        }
      ]
    },
    {
      "cell_type": "code",
      "source": [
        "class mother:\n",
        "      mothername = \"\"\n",
        "      def mother(self):\n",
        "         print(self.mothername)\n",
        "\n",
        "class father:\n",
        "      fathername = \"\"\n",
        "      def father(self):\n",
        "         print(self.fathername)\n",
        "\n",
        "class child(mother,father):\n",
        "      def parents(self):\n",
        "          print(\"Father :\", self.fathername)\n",
        "          print(\"Mother :\", self.mothername)\n",
        "       "
      ],
      "metadata": {
        "id": "DiSb22JXmfbt"
      },
      "execution_count": null,
      "outputs": []
    },
    {
      "cell_type": "code",
      "source": [
        "a = child()\n",
        "a.fathername = \"Ram\"\n",
        "a.mothername = \"sita\"\n",
        "a.parents()"
      ],
      "metadata": {
        "colab": {
          "base_uri": "https://localhost:8080/"
        },
        "id": "H1cvBuRPnynF",
        "outputId": "2e203eb8-7718-490d-803c-ad185e9a131c"
      },
      "execution_count": null,
      "outputs": [
        {
          "output_type": "stream",
          "name": "stdout",
          "text": [
            "Father : Ram\n",
            "Mother : sita\n"
          ]
        }
      ]
    },
    {
      "cell_type": "code",
      "source": [
        "class Grandfather:\n",
        " \n",
        "    def __init__(self, grandfathername):\n",
        "        self.grandfathername = grandfathername\n",
        " \n",
        "# Intermediate class\n",
        "class Father(Grandfather):\n",
        "    def __init__(self, fathername, grandfathername):\n",
        "        self.fathername = fathername\n",
        " \n",
        "        # invoking constructor of Grandfather class\n",
        "        Grandfather.__init__(self, grandfathername)\n",
        " \n",
        "# Derived class\n",
        "class Son(Father):\n",
        "    def __init__(self,sonname, fathername, grandfathername):\n",
        "        self.sonname = sonname\n",
        " \n",
        "        # invoking constructor of Father class\n",
        "        Father.__init__(self, fathername, grandfathername)\n",
        " \n",
        "    def print_name(self):\n",
        "        print('Grandfather name :', self.grandfathername)\n",
        "        print(\"Father name :\", self.fathername)\n",
        "        print(\"Son name :\", self.sonname)"
      ],
      "metadata": {
        "id": "l4ctVRGKqS20"
      },
      "execution_count": null,
      "outputs": []
    },
    {
      "cell_type": "code",
      "source": [
        "s1 = Son('Prince', 'Rampal', 'Lal mani')\n",
        "print(s1.grandfathername)\n",
        "s1.print_name()"
      ],
      "metadata": {
        "colab": {
          "base_uri": "https://localhost:8080/"
        },
        "id": "R7kNJbLsqegp",
        "outputId": "9f797fa9-4d0a-45e1-addb-c44edcca9af1"
      },
      "execution_count": null,
      "outputs": [
        {
          "output_type": "stream",
          "name": "stdout",
          "text": [
            "Lal mani\n",
            "Grandfather name : Lal mani\n",
            "Father name : Rampal\n",
            "Son name : Prince\n"
          ]
        }
      ]
    },
    {
      "cell_type": "code",
      "source": [
        "class India():\n",
        "    def capital(self):\n",
        "        print(\"New Delhi is the capital of India.\")\n",
        " \n",
        "    def language(self):\n",
        "        print(\"Hindi is the most widely spoken language of India.\")\n",
        " \n",
        "    def type(self):\n",
        "        print(\"India is a developing country.\")\n",
        " \n",
        "class USA():\n",
        "    def capital(self):\n",
        "        print(\"Washington, D.C. is the capital of USA.\")\n",
        " \n",
        "    def language(self):\n",
        "        print(\"English is the primary language of USA.\")\n",
        " \n",
        "    def type(self):\n",
        "        print(\"USA is a developed country.\")"
      ],
      "metadata": {
        "id": "tLkcFqTOQ3t5"
      },
      "execution_count": null,
      "outputs": []
    },
    {
      "cell_type": "code",
      "source": [
        "obj_ind = India()\n",
        "obj_usa = USA()\n",
        "for country in (obj_ind, obj_usa):\n",
        "    country.capital()\n",
        "    country.language()\n",
        "    country.type()"
      ],
      "metadata": {
        "colab": {
          "base_uri": "https://localhost:8080/"
        },
        "id": "m0Hwzo_iRAOO",
        "outputId": "a7483159-d94f-4b65-e051-a179a15bfa8e"
      },
      "execution_count": null,
      "outputs": [
        {
          "output_type": "stream",
          "name": "stdout",
          "text": [
            "New Delhi is the capital of India.\n",
            "Hindi is the most widely spoken language of India.\n",
            "India is a developing country.\n",
            "Washington, D.C. is the capital of USA.\n",
            "English is the primary language of USA.\n",
            "USA is a developed country.\n"
          ]
        }
      ]
    },
    {
      "cell_type": "code",
      "source": [
        "class bird:\n",
        "     def intro(self):\n",
        "        print(\"there are different types of bird\")\n",
        "         \n",
        "     def flight(self):\n",
        "        print(\" it can fly\")\n",
        "\n",
        "class sparrow(bird):\n",
        "     def flight(self):\n",
        "        print(\"sparrow can fly\")\n",
        "\n",
        "class ostrich(bird):\n",
        "     def flight(self):\n",
        "        print(\"ostrich cannot fly\")             "
      ],
      "metadata": {
        "id": "DzKsKcL2R4N8"
      },
      "execution_count": null,
      "outputs": []
    },
    {
      "cell_type": "code",
      "source": [
        "obj_bird = bird()\n",
        "obj_bird.intro()\n",
        "obj_bird.flight()\n",
        "\n",
        "obj_sparrow = sparrow()\n",
        "obj_sparrow.intro()\n",
        "obj_sparrow.flight()\n",
        "\n",
        "obj_ostrich = ostrich()\n",
        "obj_ostrich.intro()\n",
        "obj_ostrich.flight()"
      ],
      "metadata": {
        "colab": {
          "base_uri": "https://localhost:8080/"
        },
        "id": "oXDpDMThStzz",
        "outputId": "756d7e47-3cb4-4855-ee5c-8e30855e8015"
      },
      "execution_count": null,
      "outputs": [
        {
          "output_type": "stream",
          "name": "stdout",
          "text": [
            "there are different types of bird\n",
            " it can fly\n",
            "there are different types of bird\n",
            "sparrow can fly\n",
            "there are different types of bird\n",
            "ostrich cannot fly\n"
          ]
        }
      ]
    },
    {
      "cell_type": "code",
      "source": [
        "class India():\n",
        "    def capital(self):\n",
        "        print(\"New Delhi is the capital of India.\")\n",
        "  \n",
        "    def language(self):\n",
        "        print(\"Hindi is the most widely spoken language of India.\")\n",
        "  \n",
        "    def type(self):\n",
        "        print(\"India is a developing country.\")\n",
        "  \n",
        "class USA():\n",
        "    def capital(self):\n",
        "        print(\"Washington, D.C. is the capital of USA.\")\n",
        "  \n",
        "    def language(self):\n",
        "        print(\"English is the primary language of USA.\")\n",
        "  \n",
        "    def type(self):\n",
        "        print(\"USA is a developed country.\")\n",
        " \n",
        "def func(obj):\n",
        "    obj.capital()\n",
        "    obj.language()\n",
        "    obj.type()\n",
        "  \n",
        "obj_ind = India()\n",
        "obj_usa = USA()\n",
        "  \n",
        "func(obj_ind)\n",
        "func(obj_usa)"
      ],
      "metadata": {
        "colab": {
          "base_uri": "https://localhost:8080/"
        },
        "id": "Y_P_yIEZUC9B",
        "outputId": "812543af-ea22-45c5-9bba-577a09b612ce"
      },
      "execution_count": null,
      "outputs": [
        {
          "output_type": "stream",
          "name": "stdout",
          "text": [
            "New Delhi is the capital of India.\n",
            "Hindi is the most widely spoken language of India.\n",
            "India is a developing country.\n",
            "Washington, D.C. is the capital of USA.\n",
            "English is the primary language of USA.\n",
            "USA is a developed country.\n"
          ]
        }
      ]
    },
    {
      "cell_type": "code",
      "source": [
        "from datetime import date\n",
        " \n",
        " \n",
        "class Person:\n",
        "    def __init__(self, name, age):\n",
        "        self.name = name\n",
        "        self.age = age\n",
        " \n",
        "    # a class method to create a Person object by birth year.\n",
        "    @classmethod\n",
        "    def fromBirthYear(cls, name, year):\n",
        "        return cls(name, date.today().year - year)\n",
        " \n",
        "    # a static method to check if a Person is adult or not.\n",
        "    @staticmethod\n",
        "    def isAdult(age):\n",
        "        return age > 18\n",
        " \n",
        " \n",
        "person1 = Person('mayank', 21)\n",
        "person2 = Person.fromBirthYear('mayank', 1996)\n",
        " \n",
        "print(person1.age)\n",
        "print(person2.age)\n",
        " \n",
        "# print the result\n",
        "print(Person.isAdult(22))"
      ],
      "metadata": {
        "colab": {
          "base_uri": "https://localhost:8080/"
        },
        "id": "8cSTynRCVtGL",
        "outputId": "df79e819-d78f-4c77-d825-8b810335da12"
      },
      "execution_count": null,
      "outputs": [
        {
          "output_type": "stream",
          "name": "stdout",
          "text": [
            "21\n",
            "26\n",
            "True\n"
          ]
        }
      ]
    },
    {
      "cell_type": "markdown",
      "source": [
        "### **Try and Except Statement – Catching Exceptions**"
      ],
      "metadata": {
        "id": "wIAXaAl_WXIb"
      }
    },
    {
      "cell_type": "code",
      "source": [
        "def fun(a):\n",
        "    if a < 4:\n",
        " \n",
        "        # throws ZeroDivisionError for a = 3\n",
        "        b = a/(a-3)\n",
        " \n",
        "    # throws NameError if a >= 4\n",
        "    print(\"Value of b = \", b)\n",
        "     \n",
        "try:\n",
        "    fun(3)\n",
        "    fun(5)\n",
        " \n",
        "# note that braces () are necessary here for\n",
        "# multiple exceptions\n",
        "except ZeroDivisionError:\n",
        "    print(\"ZeroDivisionError Occurred and Handled\")\n",
        "except NameError:\n",
        "    print(\"NameError Occurred and Handled\")"
      ],
      "metadata": {
        "colab": {
          "base_uri": "https://localhost:8080/"
        },
        "id": "HMfVVRYBXYxt",
        "outputId": "9194637b-e9a5-4c2f-a0e6-cec2dd48c171"
      },
      "execution_count": null,
      "outputs": [
        {
          "output_type": "stream",
          "name": "stdout",
          "text": [
            "ZeroDivisionError Occurred and Handled\n"
          ]
        }
      ]
    },
    {
      "cell_type": "code",
      "source": [
        "def AbyB(a , b):\n",
        "    try:\n",
        "        c = ((a+b) / (a-b))\n",
        "    except ZeroDivisionError:\n",
        "        print (\"a/b result in 0\")\n",
        "    else:\n",
        "        print (c)\n",
        " "
      ],
      "metadata": {
        "id": "fh7KShW0X3n0"
      },
      "execution_count": null,
      "outputs": []
    },
    {
      "cell_type": "code",
      "source": [
        "AbyB(2.0, 3.0)\n",
        "AbyB(3.0, 3.0)"
      ],
      "metadata": {
        "colab": {
          "base_uri": "https://localhost:8080/"
        },
        "id": "QbREocO1YAlT",
        "outputId": "90fa8e3e-76a0-4f1e-a64f-12463654b164"
      },
      "execution_count": null,
      "outputs": [
        {
          "output_type": "stream",
          "name": "stdout",
          "text": [
            "-5.0\n",
            "a/b result in 0\n"
          ]
        }
      ]
    },
    {
      "cell_type": "code",
      "source": [
        "def division(x, y):\n",
        "    try:\n",
        "         result = x//y\n",
        "         print(\"the answer is:\",result)\n",
        "\n",
        "    except ZeroDivisionError:\n",
        "           print(\"you are diving by zero\")      "
      ],
      "metadata": {
        "id": "KubDtwxUYu0H"
      },
      "execution_count": null,
      "outputs": []
    },
    {
      "cell_type": "code",
      "source": [
        "division(4,0)"
      ],
      "metadata": {
        "colab": {
          "base_uri": "https://localhost:8080/"
        },
        "id": "PDHNqfbTZjru",
        "outputId": "b4c5c440-a89b-4944-c1fa-d7909ac05ff4"
      },
      "execution_count": null,
      "outputs": [
        {
          "output_type": "stream",
          "name": "stdout",
          "text": [
            "you are diving by zero\n"
          ]
        }
      ]
    },
    {
      "cell_type": "code",
      "source": [
        " \n",
        "class MyError(Exception):\n",
        " \n",
        "    # Constructor or Initializer\n",
        "    def __init__(self, value):\n",
        "        self.value = value\n",
        " \n",
        "    # __str__ is to print() the value\n",
        "    def __str__(self):\n",
        "        return(repr(self.value))\n",
        " \n",
        " \n",
        "try:\n",
        "    raise(MyError(3*2))\n",
        " \n",
        "# Value of Exception is stored in error\n",
        "except MyError as error:\n",
        "    print('A New Exception occurred: ', error.value)"
      ],
      "metadata": {
        "colab": {
          "base_uri": "https://localhost:8080/"
        },
        "id": "w3qxg3YbaTQa",
        "outputId": "4d1bf9f6-8b9a-4634-eb0d-cf98cdfbaceb"
      },
      "execution_count": null,
      "outputs": [
        {
          "output_type": "stream",
          "name": "stdout",
          "text": [
            "A New Exception occurred:  6\n"
          ]
        }
      ]
    },
    {
      "cell_type": "code",
      "source": [
        "\n",
        "# define Python user-defined exceptions\n",
        "class Error(Exception):\n",
        "   \"\"\"Base class for other exceptions\"\"\"\n",
        "   pass\n",
        "class zerodivision(Error):\n",
        "   \"\"\"Raised when the input value is zero\"\"\"\n",
        "   pass\n",
        "try:\n",
        "   i_num = int(input(\"Enter a number: \"))\n",
        "   if i_num ==0:\n",
        "      raise zerodivision\n",
        "except zerodivision:\n",
        "   print(\"Input value is zero, try again!\")\n",
        "   print()"
      ],
      "metadata": {
        "colab": {
          "base_uri": "https://localhost:8080/"
        },
        "id": "_dpGMIlIajCy",
        "outputId": "f83859da-dd28-4a24-c2be-fa75f32449f2"
      },
      "execution_count": null,
      "outputs": [
        {
          "output_type": "stream",
          "name": "stdout",
          "text": [
            "Enter a number: 0\n",
            "Input value is zero, try again!\n",
            "\n"
          ]
        }
      ]
    },
    {
      "cell_type": "code",
      "source": [
        "class Error(Exception):\n",
        "     pass\n",
        " \n",
        "class TransitionError(Error):\n",
        " \n",
        "    def __init__(self, prev, nex, msg):\n",
        "        self.prev = prev\n",
        "        self.next = nex\n",
        " \n",
        "        self.msg = msg\n",
        "try:\n",
        "    raise(TransitionError(2,3*2,\"Not Allowed\"))\n",
        "\n",
        "except TransitionError as error:\n",
        "    print('Exception occurred: ',error.msg)"
      ],
      "metadata": {
        "colab": {
          "base_uri": "https://localhost:8080/"
        },
        "id": "6wzaGkr6bFij",
        "outputId": "c537b74a-d737-434b-a18b-fab5717d8d63"
      },
      "execution_count": null,
      "outputs": [
        {
          "output_type": "stream",
          "name": "stdout",
          "text": [
            "Exception occurred:  Not Allowed\n"
          ]
        }
      ]
    },
    {
      "cell_type": "markdown",
      "source": [
        "## **Numpy **"
      ],
      "metadata": {
        "id": "zbIyulrBalSI"
      }
    },
    {
      "cell_type": "code",
      "source": [
        "# Python program for\n",
        "# Creation of Arrays\n",
        "import numpy as np\n",
        " \n",
        "# Creating a rank 1 Array\n",
        "arr = np.array([1, 2, 3])\n",
        "print(\"Array with Rank 1: \\n\",arr)\n",
        " \n",
        "# Creating a rank 2 Array\n",
        "arr = np.array([[1, 2, 3],\n",
        "                [4, 5, 6]])\n",
        "print(\"Array with Rank 2: \\n\", arr)\n",
        " \n",
        "# Creating an array from tuple\n",
        "arr = np.array((1, 3, 2))\n",
        "print(\"\\nArray created using \"\n",
        "      \"passed tuple:\\n\", arr)"
      ],
      "metadata": {
        "colab": {
          "base_uri": "https://localhost:8080/"
        },
        "id": "m9IZ0tJ6Xh5E",
        "outputId": "2ae7c28a-88e5-4157-f8fa-2062f395d27c"
      },
      "execution_count": null,
      "outputs": [
        {
          "output_type": "stream",
          "name": "stdout",
          "text": [
            "Array with Rank 1: \n",
            " [1 2 3]\n",
            "Array with Rank 2: \n",
            " [[1 2 3]\n",
            " [4 5 6]]\n",
            "\n",
            "Array created using passed tuple:\n",
            " [1 3 2]\n"
          ]
        }
      ]
    },
    {
      "cell_type": "code",
      "source": [
        "import numpy as np\n",
        " \n",
        "# Initial Array\n",
        "arr = np.array([[-1, 2, 0, 4],\n",
        "                [4, -0.5, 6, 0],\n",
        "                [2.6, 0, 7, 8],\n",
        "                [3, -7, 4, 2.0]])\n",
        "print(\"Initial Array: \")\n",
        "print(arr)\n",
        " \n",
        "# Printing a range of Array\n",
        "# with the use of slicing method\n",
        "sliced_arr = arr[:2, ::2]\n",
        "print (\"Array with first 2 rows and\"\n",
        "    \" alternate columns(0 and 2):\\n\", sliced_arr)\n",
        " \n",
        "# Printing elements at\n",
        "# specific Indices\n",
        "Index_arr = arr[[1, 1, 0, 3], \n",
        "                [3, 2, 1, 0]]\n",
        "print (\"\\nElements at indices (1, 3), \"\n",
        "    \"(1, 2), (0, 1), (3, 0):\\n\", Index_arr)"
      ],
      "metadata": {
        "colab": {
          "base_uri": "https://localhost:8080/"
        },
        "id": "YDUlrzWkX75_",
        "outputId": "69ac35f7-e47a-4754-fc60-cce477cb4331"
      },
      "execution_count": null,
      "outputs": [
        {
          "output_type": "stream",
          "name": "stdout",
          "text": [
            "Initial Array: \n",
            "[[-1.   2.   0.   4. ]\n",
            " [ 4.  -0.5  6.   0. ]\n",
            " [ 2.6  0.   7.   8. ]\n",
            " [ 3.  -7.   4.   2. ]]\n",
            "Array with first 2 rows and alternate columns(0 and 2):\n",
            " [[-1.  0.]\n",
            " [ 4.  6.]]\n",
            "\n",
            "Elements at indices (1, 3), (1, 2), (0, 1), (3, 0):\n",
            " [0. 6. 2. 3.]\n"
          ]
        }
      ]
    },
    {
      "cell_type": "code",
      "source": [
        "# Defining Array 1\n",
        "a = np.array([[1, 2],\n",
        "              [3, 4]])\n",
        " \n",
        "# Defining Array 2\n",
        "b = np.array([[4, 3],\n",
        "              [2, 1]])\n",
        "               \n",
        "# Adding 1 to every element\n",
        "print (\"Adding 1 to every element:\", a + 1)\n",
        " \n",
        "# Subtracting 2 from each element\n",
        "print (\"\\nSubtracting 2 from each element:\", b - 2)\n",
        " \n",
        "# sum of array elements\n",
        "# Performing Unary operations\n",
        "print (\"\\nSum of all array \"\n",
        "       \"elements: \", a.sum())\n",
        " \n",
        "# Adding two arrays\n",
        "# Performing Binary operations\n",
        "print (\"\\nArray sum:\\n\", a + b)"
      ],
      "metadata": {
        "colab": {
          "base_uri": "https://localhost:8080/"
        },
        "id": "lbVSumRPYW7A",
        "outputId": "dce6809d-2483-471c-e8d3-daaea88cd1ba"
      },
      "execution_count": null,
      "outputs": [
        {
          "output_type": "stream",
          "name": "stdout",
          "text": [
            "Adding 1 to every element: [[2 3]\n",
            " [4 5]]\n",
            "\n",
            "Subtracting 2 from each element: [[ 2  1]\n",
            " [ 0 -1]]\n",
            "\n",
            "Sum of all array elements:  10\n",
            "\n",
            "Array sum:\n",
            " [[5 5]\n",
            " [5 5]]\n"
          ]
        }
      ]
    },
    {
      "cell_type": "code",
      "source": [
        "x = np.array([1, 2])  \n",
        "print(\"Integer Datatype: \")\n",
        "print(x.dtype)         \n",
        "\n",
        "x = np.array([1.0, 2.0]) \n",
        "print(\"\\nFloat Datatype: \")\n",
        "print(x.dtype)  \n",
        " \n",
        "x = np.array([1, 2], dtype = np.int64)   \n",
        "print(\"\\nForcing a Datatype: \")\n",
        "print(x.dtype)"
      ],
      "metadata": {
        "colab": {
          "base_uri": "https://localhost:8080/"
        },
        "id": "RoV_ic0iYvJR",
        "outputId": "e1138c6f-e753-4c30-eba5-93ae0934ab17"
      },
      "execution_count": null,
      "outputs": [
        {
          "output_type": "stream",
          "name": "stdout",
          "text": [
            "Integer Datatype: \n",
            "int64\n",
            "\n",
            "Float Datatype: \n",
            "float64\n",
            "\n",
            "Forcing a Datatype: \n",
            "int64\n"
          ]
        }
      ]
    },
    {
      "cell_type": "code",
      "source": [
        "arr1 = np.array([[4, 7], [2, 6]], \n",
        "                 dtype = np.float64)\n",
        "                  \n",
        "# Second Array\n",
        "arr2 = np.array([[3, 6], [2, 8]], \n",
        "                 dtype = np.float64) \n",
        " \n",
        "# Addition of two Arrays\n",
        "Sum = np.add(arr1, arr2)\n",
        "print(\"Addition of Two Arrays: \")\n",
        "print(Sum)\\\n",
        "\n",
        "Sum1 = np.sum(arr1)\n",
        "print(\"\\nAddition of Array elements: \")\n",
        "print(Sum1)\n",
        "\n",
        "Sqrt = np.sqrt(arr1)\n",
        "print(\"\\nSquare root of Array1 elements: \")\n",
        "print(Sqrt)\n",
        "\n",
        "Trans_arr = arr1.T\n",
        "print(\"\\nTranspose of Array: \")\n",
        "print(Trans_arr) "
      ],
      "metadata": {
        "colab": {
          "base_uri": "https://localhost:8080/"
        },
        "id": "JQr81OznY9Wf",
        "outputId": "919b1f97-278d-4306-b3fb-638473372775"
      },
      "execution_count": null,
      "outputs": [
        {
          "output_type": "stream",
          "name": "stdout",
          "text": [
            "Addition of Two Arrays: \n",
            "[[ 7. 13.]\n",
            " [ 4. 14.]]\n",
            "\n",
            "Addition of Array elements: \n",
            "19.0\n",
            "\n",
            "Square root of Array1 elements: \n",
            "[[2.         2.64575131]\n",
            " [1.41421356 2.44948974]]\n",
            "\n",
            "Transpose of Array: \n",
            "[[4. 2.]\n",
            " [7. 6.]]\n"
          ]
        }
      ]
    },
    {
      "cell_type": "code",
      "source": [
        "arr = np.array( [[ 1, 2, 3],\n",
        "                 [ 4, 2, 5]] )\n",
        " \n",
        "# Printing type of arr object\n",
        "print(\"Array is of type: \", type(arr))\n",
        " \n",
        "# Printing array dimensions (axes)\n",
        "print(\"No. of dimensions: \", arr.ndim)\n",
        " \n",
        "# Printing shape of array\n",
        "print(\"Shape of array: \", arr.shape)\n",
        " \n",
        "# Printing size (total number of elements) of array\n",
        "print(\"Size of array: \", arr.size)\n",
        " \n",
        "# Printing type of elements in array\n",
        "print(\"Array stores elements of type: \", arr.dtype)"
      ],
      "metadata": {
        "colab": {
          "base_uri": "https://localhost:8080/"
        },
        "id": "peQ_0JSJZvKa",
        "outputId": "ff7c049b-a40e-4a5a-e316-aae7e6c6fb66"
      },
      "execution_count": null,
      "outputs": [
        {
          "output_type": "stream",
          "name": "stdout",
          "text": [
            "Array is of type:  <class 'numpy.ndarray'>\n",
            "No. of dimensions:  2\n",
            "Shape of array:  (2, 3)\n",
            "Size of array:  6\n",
            "Array stores elements of type:  int64\n"
          ]
        }
      ]
    },
    {
      "cell_type": "code",
      "source": [
        "import numpy as np\n",
        " \n",
        "# Creating array from list with type float\n",
        "a = np.array([[1, 2, 4], [5, 8, 7]], dtype = 'float')\n",
        "print (\"Array created using passed list:\\n\", a)\n",
        " \n",
        "# Creating array from tuple\n",
        "b = np.array((1 , 3, 2))\n",
        "print (\"\\nArray created using passed tuple:\\n\", b)\n",
        " \n",
        "# Creating a 3X4 array with all zeros\n",
        "c = np.zeros((3, 4))\n",
        "print (\"\\nAn array initialized with all zeros:\\n\", c)\n",
        " \n",
        "# Create a constant value array of complex type\n",
        "d = np.full((3, 3), 6, dtype = 'complex')\n",
        "print (\"\\nAn array initialized with all 6s.\"\n",
        "            \"Array type is complex:\\n\", d)"
      ],
      "metadata": {
        "colab": {
          "base_uri": "https://localhost:8080/"
        },
        "id": "6lVfTWskadeK",
        "outputId": "f3749686-0a33-46d5-e3b5-6048529d8806"
      },
      "execution_count": null,
      "outputs": [
        {
          "output_type": "stream",
          "name": "stdout",
          "text": [
            "Array created using passed list:\n",
            " [[1. 2. 4.]\n",
            " [5. 8. 7.]]\n",
            "\n",
            "Array created using passed tuple:\n",
            " [1 3 2]\n",
            "\n",
            "An array initialized with all zeros:\n",
            " [[0. 0. 0. 0.]\n",
            " [0. 0. 0. 0.]\n",
            " [0. 0. 0. 0.]]\n",
            "\n",
            "An array initialized with all 6s.Array type is complex:\n",
            " [[6.+0.j 6.+0.j 6.+0.j]\n",
            " [6.+0.j 6.+0.j 6.+0.j]\n",
            " [6.+0.j 6.+0.j 6.+0.j]]\n"
          ]
        }
      ]
    },
    {
      "cell_type": "code",
      "source": [
        "arr = np.array([[-1, 2, 0, 4],\n",
        "                [4, -0.5, 6, 0],\n",
        "                [2.6, 0, 7, 8],\n",
        "                [3, -7, 4, 2.0]])\n",
        " \n",
        "# Slicing array\n",
        "temp = arr[:2, ::2]\n",
        "print (\"Array with first 2 rows and alternate\"\n",
        "                    \"columns(0 and 2):\\n\", temp)\n",
        " \n",
        "# Integer array indexing example\n",
        "temp = arr[[0, 1, 2, 3], [3, 2, 1, 0]]\n",
        "print (\"\\nElements at indices (0, 3), (1, 2), (2, 1),\"\n",
        "                                    \"(3, 0):\\n\", temp)\n",
        " \n",
        "# boolean array indexing example\n",
        "cond = arr > 0 # cond is a boolean array\n",
        "temp = arr[cond]\n",
        "print (\"\\nElements greater than 0:\\n\", temp)"
      ],
      "metadata": {
        "colab": {
          "base_uri": "https://localhost:8080/"
        },
        "id": "fHO-EDuJbNrA",
        "outputId": "8f717dfa-b4f3-4a99-9b2c-b76a4227f23f"
      },
      "execution_count": null,
      "outputs": [
        {
          "output_type": "stream",
          "name": "stdout",
          "text": [
            "Array with first 2 rows and alternatecolumns(0 and 2):\n",
            " [[-1.  0.]\n",
            " [ 4.  6.]]\n",
            "\n",
            "Elements at indices (0, 3), (1, 2), (2, 1),(3, 0):\n",
            " [4. 6. 0. 3.]\n",
            "\n",
            "Elements greater than 0:\n",
            " [2.  4.  4.  6.  2.6 7.  8.  3.  4.  2. ]\n"
          ]
        }
      ]
    },
    {
      "cell_type": "code",
      "source": [
        "\n",
        "a = np.array([1, 2, 5, 3])\n",
        " \n",
        "# add 1 to every element\n",
        "print (\"Adding 1 to every element:\", a+1)\n",
        " \n",
        "# subtract 3 from each element\n",
        "print (\"Subtracting 3 from each element:\", a-3)\n",
        " \n",
        "# multiply each element by 10\n",
        "print (\"Multiplying each element by 10:\", a*10)\n",
        " \n",
        "# square each element\n",
        "print (\"Squaring each element:\", a**2)\n",
        " \n",
        "# modify existing array\n",
        "a *= 2\n",
        "print (\"Doubled each element of original array:\", a)\n",
        " \n",
        "# transpose of array\n",
        "a = np.array([[1, 2, 3], [3, 4, 5], [9, 6, 0]])\n",
        " \n",
        "print (\"\\nOriginal array:\\n\", a)\n",
        "print (\"Transpose of array:\\n\", a.T)"
      ],
      "metadata": {
        "colab": {
          "base_uri": "https://localhost:8080/"
        },
        "id": "2ZXlLYJ3bf4i",
        "outputId": "ca60b04b-0251-4499-8b7f-11709a00b11f"
      },
      "execution_count": null,
      "outputs": [
        {
          "output_type": "stream",
          "name": "stdout",
          "text": [
            "Adding 1 to every element: [2 3 6 4]\n",
            "Subtracting 3 from each element: [-2 -1  2  0]\n",
            "Multiplying each element by 10: [10 20 50 30]\n",
            "Squaring each element: [ 1  4 25  9]\n",
            "Doubled each element of original array: [ 2  4 10  6]\n",
            "\n",
            "Original array:\n",
            " [[1 2 3]\n",
            " [3 4 5]\n",
            " [9 6 0]]\n",
            "Transpose of array:\n",
            " [[1 3 9]\n",
            " [2 4 6]\n",
            " [3 5 0]]\n"
          ]
        }
      ]
    },
    {
      "cell_type": "code",
      "source": [
        "arr = np.array([[1, 5, 6],\n",
        "                [4, 7, 2],\n",
        "                [3, 1, 9]])\n",
        " \n",
        "# maximum element of array\n",
        "print (\"Largest element is:\", arr.max())\n",
        "print (\"Row-wise maximum elements:\",\n",
        "                    arr.max(axis = 1))\n",
        " \n",
        "# minimum element of array\n",
        "print (\"Column-wise minimum elements:\",\n",
        "                        arr.min(axis = 0))\n",
        " \n",
        "# sum of array elements\n",
        "print (\"Sum of all array elements:\",\n",
        "                            arr.sum())\n",
        " \n",
        "# cumulative sum along each row\n",
        "print (\"Cumulative sum along each row:\\n\",\n",
        "                        arr.cumsum(axis = 1))"
      ],
      "metadata": {
        "colab": {
          "base_uri": "https://localhost:8080/"
        },
        "id": "T8K-tEEycf1R",
        "outputId": "57d48b47-a755-4075-a9da-47287b8a97f6"
      },
      "execution_count": null,
      "outputs": [
        {
          "output_type": "stream",
          "name": "stdout",
          "text": [
            "Largest element is: 9\n",
            "Row-wise maximum elements: [6 7 9]\n",
            "Column-wise minimum elements: [1 1 2]\n",
            "Sum of all array elements: 38\n",
            "Cumulative sum along each row:\n",
            " [[ 1  6 12]\n",
            " [ 4 11 13]\n",
            " [ 3  4 13]]\n"
          ]
        }
      ]
    },
    {
      "cell_type": "code",
      "source": [
        "a = np.array([[1, 2],\n",
        "            [3, 4]])\n",
        "b = np.array([[4, 3],\n",
        "            [2, 1]])\n",
        " \n",
        "# add arrays\n",
        "print (\"Array sum:\\n\", a + b)\n",
        " \n",
        "# multiply arrays (elementwise multiplication)\n",
        "print (\"Array multiplication:\\n\", a*b)\n",
        " \n",
        "# matrix multiplication\n",
        "print (\"Matrix multiplication:\\n\", a.dot(b))"
      ],
      "metadata": {
        "colab": {
          "base_uri": "https://localhost:8080/"
        },
        "id": "Ha_WAMcbcxua",
        "outputId": "24515c9b-3e92-4589-b79e-20c0e70b7672"
      },
      "execution_count": null,
      "outputs": [
        {
          "output_type": "stream",
          "name": "stdout",
          "text": [
            "Array sum:\n",
            " [[5 5]\n",
            " [5 5]]\n",
            "Array multiplication:\n",
            " [[4 6]\n",
            " [6 4]]\n",
            "Matrix multiplication:\n",
            " [[ 8  5]\n",
            " [20 13]]\n"
          ]
        }
      ]
    },
    {
      "cell_type": "code",
      "source": [
        "# create an array of sine values\n",
        "a = np.array([0, np.pi/2, np.pi])\n",
        "print (\"Sine values of array elements:\", np.sin(a))\n",
        " \n",
        "# exponential values\n",
        "a = np.array([0, 1, 2, 3])\n",
        "print (\"Exponent of array elements:\", np.exp(a))\n",
        " \n",
        "# square root of array values\n",
        "print (\"Square root of array elements:\", np.sqrt(a))"
      ],
      "metadata": {
        "colab": {
          "base_uri": "https://localhost:8080/"
        },
        "id": "e3f_y-S_c__C",
        "outputId": "a37be25a-1fbd-4576-d50e-514496e46799"
      },
      "execution_count": null,
      "outputs": [
        {
          "output_type": "stream",
          "name": "stdout",
          "text": [
            "Sine values of array elements: [0.0000000e+00 1.0000000e+00 1.2246468e-16]\n",
            "Exponent of array elements: [ 1.          2.71828183  7.3890561  20.08553692]\n",
            "Square root of array elements: [0.         1.         1.41421356 1.73205081]\n"
          ]
        }
      ]
    },
    {
      "cell_type": "code",
      "source": [
        "arr=[1, 2, 3, 4, 5]\n",
        "for i in arr:\n",
        "        print(i)"
      ],
      "metadata": {
        "colab": {
          "base_uri": "https://localhost:8080/"
        },
        "id": "BYQnwq6XdXr_",
        "outputId": "7c67b834-35ba-4e14-8b88-0c52e2d53e17"
      },
      "execution_count": null,
      "outputs": [
        {
          "output_type": "stream",
          "name": "stdout",
          "text": [
            "1\n",
            "2\n",
            "3\n",
            "4\n",
            "5\n"
          ]
        }
      ]
    },
    {
      "cell_type": "code",
      "source": [
        "import array\n",
        "arr = array.array('i', [1, 2, 3]) \n",
        " \n",
        "# printing original array\n",
        "print (\"The new created array is : \",end=\"\")\n",
        "for i in range (0,3):\n",
        "    print (arr[i], end=\" \")\n",
        " \n",
        "print (\"\\r\")"
      ],
      "metadata": {
        "colab": {
          "base_uri": "https://localhost:8080/"
        },
        "id": "YSUWNZP3dxeq",
        "outputId": "5077307e-1349-4f4f-955d-508cd9296ebb"
      },
      "execution_count": null,
      "outputs": [
        {
          "output_type": "stream",
          "name": "stdout",
          "text": [
            "The new created array is : 1 2 3 \r\n"
          ]
        }
      ]
    },
    {
      "cell_type": "code",
      "source": [
        "import numpy as geek\n",
        " \n",
        "b = geek.empty(2, dtype = int)\n",
        "print(\"Matrix b : \\n\", b)\n",
        " \n",
        "a = geek.empty([2, 2], dtype = int)\n",
        "print(\"\\nMatrix a : \\n\", a)\n",
        " \n",
        "c = geek.empty([3, 3])\n",
        "print(\"\\nMatrix c : \\n\", c)"
      ],
      "metadata": {
        "colab": {
          "base_uri": "https://localhost:8080/"
        },
        "id": "PwchsZTweBUC",
        "outputId": "90656e6f-c51e-4035-8525-1737f30cff6d"
      },
      "execution_count": null,
      "outputs": [
        {
          "output_type": "stream",
          "name": "stdout",
          "text": [
            "Matrix b : \n",
            " [4607182418800017408 4368955796522032135]\n",
            "\n",
            "Matrix a : \n",
            " [[                  0 4607182418800017408]\n",
            " [4609047870845172685 4610479282544200874]]\n",
            "\n",
            "Matrix c : \n",
            " [[4.9e-324 2.5e-323 3.0e-323]\n",
            " [2.0e-323 3.5e-323 9.9e-324]\n",
            " [1.5e-323 4.9e-324 4.4e-323]]\n"
          ]
        }
      ]
    },
    {
      "cell_type": "code",
      "source": [
        "import numpy as geek\n",
        " \n",
        "b = geek.zeros(2, dtype = int)\n",
        "print(\"Matrix b : \\n\", b)\n",
        " \n",
        "a = geek.zeros([2, 2], dtype = int)\n",
        "print(\"\\nMatrix a : \\n\", a)\n",
        " \n",
        "c = geek.zeros([3, 3])\n",
        "print(\"\\nMatrix c : \\n\", c)"
      ],
      "metadata": {
        "colab": {
          "base_uri": "https://localhost:8080/"
        },
        "id": "B7XKM1k7eOY-",
        "outputId": "1b286477-5603-45f3-eeb5-4415b8ea7859"
      },
      "execution_count": null,
      "outputs": [
        {
          "output_type": "stream",
          "name": "stdout",
          "text": [
            "Matrix b : \n",
            " [0 0]\n",
            "\n",
            "Matrix a : \n",
            " [[0 0]\n",
            " [0 0]]\n",
            "\n",
            "Matrix c : \n",
            " [[0. 0. 0.]\n",
            " [0. 0. 0.]\n",
            " [0. 0. 0.]]\n"
          ]
        }
      ]
    },
    {
      "cell_type": "code",
      "source": [
        "import numpy as geek\n",
        " \n",
        "array = geek.arange(8)\n",
        "print(\"Original array : \\n\", array)\n",
        " \n",
        "# shape array with 2 rows and 4 columns\n",
        "array = geek.arange(8).reshape(2, 4)\n",
        "print(\"\\narray reshaped with 2 rows and 4 columns : \\n\", array)\n",
        " \n",
        "# shape array with 2 rows and 4 columns\n",
        "array = geek.arange(8).reshape(4 ,2)\n",
        "print(\"\\narray reshaped with 2 rows and 4 columns : \\n\", array)\n",
        " \n",
        "# Constructs 3D array\n",
        "array = geek.arange(8).reshape(2, 2, 2)\n",
        "print(\"\\nOriginal array reshaped to 3D : \\n\", array)"
      ],
      "metadata": {
        "colab": {
          "base_uri": "https://localhost:8080/"
        },
        "id": "4OpACGqheeew",
        "outputId": "08ff1829-693f-4276-b137-420bdbe1b97e"
      },
      "execution_count": null,
      "outputs": [
        {
          "output_type": "stream",
          "name": "stdout",
          "text": [
            "Original array : \n",
            " [0 1 2 3 4 5 6 7]\n",
            "\n",
            "array reshaped with 2 rows and 4 columns : \n",
            " [[0 1 2 3]\n",
            " [4 5 6 7]]\n",
            "\n",
            "array reshaped with 2 rows and 4 columns : \n",
            " [[0 1]\n",
            " [2 3]\n",
            " [4 5]\n",
            " [6 7]]\n",
            "\n",
            "Original array reshaped to 3D : \n",
            " [[[0 1]\n",
            "  [2 3]]\n",
            "\n",
            " [[4 5]\n",
            "  [6 7]]]\n"
          ]
        }
      ]
    },
    {
      "cell_type": "code",
      "source": [
        "import numpy as geek\n",
        " \n",
        "print(\"A\\n\", geek.arange(4).reshape(2, 2), \"\\n\")\n",
        " \n",
        "print(\"A\\n\", geek.arange(4, 10), \"\\n\")\n",
        " \n",
        "print(\"A\\n\", geek.arange(4, 20, 3), \"\\n\")"
      ],
      "metadata": {
        "colab": {
          "base_uri": "https://localhost:8080/"
        },
        "id": "BW8n-r1hKqjn",
        "outputId": "7b446c94-c422-4603-b404-e9471512eb40"
      },
      "execution_count": null,
      "outputs": [
        {
          "output_type": "stream",
          "name": "stdout",
          "text": [
            "A\n",
            " [[0 1]\n",
            " [2 3]] \n",
            "\n",
            "A\n",
            " [4 5 6 7 8 9] \n",
            "\n",
            "A\n",
            " [ 4  7 10 13 16 19] \n",
            "\n"
          ]
        }
      ]
    },
    {
      "cell_type": "code",
      "source": [
        "print(\"B\\n\", geek.linspace(2.0, 3.0, num=5, retstep=True), \"\\n\")\n",
        " \n",
        "# To evaluate sin() in long range \n",
        "x = geek.linspace(0, 2, 10)\n",
        "print(\"A\\n\", geek.sin(x))"
      ],
      "metadata": {
        "colab": {
          "base_uri": "https://localhost:8080/"
        },
        "id": "_pNjrjuZKvew",
        "outputId": "2ca8fd31-441f-471a-cb4c-700ab8461fa0"
      },
      "execution_count": null,
      "outputs": [
        {
          "output_type": "stream",
          "name": "stdout",
          "text": [
            "B\n",
            " (array([2.  , 2.25, 2.5 , 2.75, 3.  ]), 0.25) \n",
            "\n",
            "A\n",
            " [0.         0.22039774 0.42995636 0.6183698  0.77637192 0.8961922\n",
            " 0.9719379  0.99988386 0.9786557  0.90929743]\n"
          ]
        }
      ]
    },
    {
      "cell_type": "code",
      "source": [
        "array = geek.array([[1, 2], [3, 4]])\n",
        " \n",
        "# using flatten method\n",
        "array.flatten()\n",
        "print(array)\n",
        " \n",
        "#using fatten method \n",
        "array.flatten('F')\n",
        "print(array)"
      ],
      "metadata": {
        "colab": {
          "base_uri": "https://localhost:8080/"
        },
        "id": "qUvvQqBFK7EC",
        "outputId": "590883f5-88ea-4ea8-9901-be9fd2075ed9"
      },
      "execution_count": null,
      "outputs": [
        {
          "output_type": "stream",
          "name": "stdout",
          "text": [
            "[[1 2]\n",
            " [3 4]]\n",
            "[[1 2]\n",
            " [3 4]]\n"
          ]
        }
      ]
    },
    {
      "cell_type": "code",
      "source": [
        "import numpy as np\n",
        "a = [[1, 2], [3, 4]]\n",
        "#using eye \n",
        "print(np.eye(4))\n",
        "\n",
        "print(np.identity(3))\n",
        "\n",
        "print(np.ones(45))"
      ],
      "metadata": {
        "colab": {
          "base_uri": "https://localhost:8080/"
        },
        "id": "cJaKuQ7qLpvi",
        "outputId": "a7a1221d-e34b-414b-8d05-51ab8114f837"
      },
      "execution_count": null,
      "outputs": [
        {
          "output_type": "stream",
          "name": "stdout",
          "text": [
            "[[1. 0. 0. 0.]\n",
            " [0. 1. 0. 0.]\n",
            " [0. 0. 1. 0.]\n",
            " [0. 0. 0. 1.]]\n",
            "[[1. 0. 0.]\n",
            " [0. 1. 0.]\n",
            " [0. 0. 1.]]\n",
            "[1. 1. 1. 1. 1. 1. 1. 1. 1. 1. 1. 1. 1. 1. 1. 1. 1. 1. 1. 1. 1. 1. 1. 1.\n",
            " 1. 1. 1. 1. 1. 1. 1. 1. 1. 1. 1. 1. 1. 1. 1. 1. 1. 1. 1. 1. 1.]\n"
          ]
        }
      ]
    },
    {
      "cell_type": "code",
      "source": [
        "np.arange(56)"
      ],
      "metadata": {
        "colab": {
          "base_uri": "https://localhost:8080/"
        },
        "id": "m6DXGCuQM2P3",
        "outputId": "ee62aa4e-9f92-4213-a203-695fc5bc3dc4"
      },
      "execution_count": null,
      "outputs": [
        {
          "output_type": "execute_result",
          "data": {
            "text/plain": [
              "array([ 0,  1,  2,  3,  4,  5,  6,  7,  8,  9, 10, 11, 12, 13, 14, 15, 16,\n",
              "       17, 18, 19, 20, 21, 22, 23, 24, 25, 26, 27, 28, 29, 30, 31, 32, 33,\n",
              "       34, 35, 36, 37, 38, 39, 40, 41, 42, 43, 44, 45, 46, 47, 48, 49, 50,\n",
              "       51, 52, 53, 54, 55])"
            ]
          },
          "metadata": {},
          "execution_count": 23
        }
      ]
    },
    {
      "cell_type": "code",
      "source": [
        "list1 = [1, 2, 3, 4, 5, 6]\n",
        "list2 = [10, 9, 8, 7, 6, 5]\n",
        " \n",
        "# Convert list1 into a NumPy array\n",
        "a1 = np.array(list1)\n",
        " \n",
        "# Convert list2 into a NumPy array\n",
        "a2 = np.array(list2)\n",
        " \n",
        "print(a1*a2)"
      ],
      "metadata": {
        "colab": {
          "base_uri": "https://localhost:8080/"
        },
        "id": "E0-4IkkSnAnB",
        "outputId": "dbbfa8ce-c976-4cae-d315-00cf96bbc4dc"
      },
      "execution_count": null,
      "outputs": [
        {
          "output_type": "stream",
          "name": "stdout",
          "text": [
            "[10 18 24 28 30 30]\n"
          ]
        }
      ]
    },
    {
      "cell_type": "code",
      "source": [
        "import numpy as np\n",
        "\n",
        "a = np.arange(10, 1, -2) \n",
        "print(\"\\n A sequential array with a negative step: \\n\",a)\n",
        " \n",
        "newarr = a[np.array([3, 1, 2 ])]\n",
        "print(\"\\n Elements at these indices are:\\n\",newarr)"
      ],
      "metadata": {
        "colab": {
          "base_uri": "https://localhost:8080/"
        },
        "id": "ERkvUxM9nFDm",
        "outputId": "a94311ff-ed50-4b51-96a1-bdb3c7ba027d"
      },
      "execution_count": null,
      "outputs": [
        {
          "output_type": "stream",
          "name": "stdout",
          "text": [
            "\n",
            " A sequential array with a negative step: \n",
            " [10  8  6  4  2]\n",
            "\n",
            " Elements at these indices are:\n",
            " [4 8 6]\n"
          ]
        }
      ]
    },
    {
      "cell_type": "code",
      "source": [
        "x = np.array([1, 2, 3, 4, 5, 6, 7, 8, 9])\n",
        " \n",
        "# Index values can be negative.\n",
        "arr = x[np.array([1, 3, -3])]\n",
        "print(\"\\n Elements are : \\n\",arr)"
      ],
      "metadata": {
        "colab": {
          "base_uri": "https://localhost:8080/"
        },
        "id": "JLPTbod_nXfP",
        "outputId": "03a125ea-9579-4485-a344-b1dcffe0bdf8"
      },
      "execution_count": null,
      "outputs": [
        {
          "output_type": "stream",
          "name": "stdout",
          "text": [
            "\n",
            " Elements are : \n",
            " [2 4 7]\n"
          ]
        }
      ]
    },
    {
      "cell_type": "code",
      "source": [
        "import numpy as np\n",
        "a = np.arange(30)\n",
        "print(\"range from 8 to 20 wih step soze of 2:\", a[8:20:2],'\\n')\n",
        "\n",
        "print(\" count of range from right side with step  size of 2:\",a[-30:17:1])\n",
        "\n",
        "print(\"\\n a[10:]  = \",a[10:])"
      ],
      "metadata": {
        "colab": {
          "base_uri": "https://localhost:8080/"
        },
        "id": "a4HED_AD0R6M",
        "outputId": "74efd863-8c7a-4272-8da3-5f542c882dc5"
      },
      "execution_count": null,
      "outputs": [
        {
          "output_type": "stream",
          "name": "stdout",
          "text": [
            "range from 8 to 20 wih step soze of 2: [ 8 10 12 14 16 18] \n",
            "\n",
            " count of range from right side with step  size of 2: [ 0  1  2  3  4  5  6  7  8  9 10 11 12 13 14 15 16]\n",
            "\n",
            " a[10:]  =  [10 11 12 13 14 15 16 17 18 19 20 21 22 23 24 25 26 27 28 29]\n"
          ]
        }
      ]
    },
    {
      "cell_type": "code",
      "source": [
        "a = np.array([[0, 1, 2, 3, 4, 5],\n",
        "              [6, 7, 8, 9, 10, 11],\n",
        "              [12, 13, 14, 15, 16, 17],\n",
        "              [18, 19, 20, 21, 22, 23],\n",
        "              [24, 25, 26, 27, 28, 29],\n",
        "              [30, 31, 32, 33, 34, 35]])\n",
        "             \n",
        "print(\"\\n Array is:\\n \",a)\n",
        " \n",
        "# slicing and indexing\n",
        "print(\"\\n a[0, 3:5]  = \",a[0, 3:5]) \n",
        " \n",
        "print(\"\\n a[4:, 4:]  = \",a[4:, 4:])\n",
        " \n",
        "print(\"\\n a[:, 2]  = \",a[:, 2]) \n",
        " \n",
        "print(\"\\n a[2:;2, ::2]  = \",a[2::2, ::2]) ##As there is step size of 2 in row\n",
        "                                            # thats why its taking only 2 rowsfirst is [18,19,20...] and [24,25,26...]"
      ],
      "metadata": {
        "colab": {
          "base_uri": "https://localhost:8080/"
        },
        "id": "vZGGG5ge2ZWq",
        "outputId": "24942abe-cf40-451c-b16d-2cbb5a4926e7"
      },
      "execution_count": null,
      "outputs": [
        {
          "output_type": "stream",
          "name": "stdout",
          "text": [
            "\n",
            " Array is:\n",
            "  [[ 0  1  2  3  4  5]\n",
            " [ 6  7  8  9 10 11]\n",
            " [12 13 14 15 16 17]\n",
            " [18 19 20 21 22 23]\n",
            " [24 25 26 27 28 29]\n",
            " [30 31 32 33 34 35]]\n",
            "\n",
            " a[0, 3:5]  =  [3 4]\n",
            "\n",
            " a[4:, 4:]  =  [[28 29]\n",
            " [34 35]]\n",
            "\n",
            " a[:, 2]  =  [ 2  8 14 20 26 32]\n",
            "\n",
            " a[2:;2, ::2]  =  [[12 14 16]\n",
            " [24 26 28]]\n"
          ]
        }
      ]
    },
    {
      "cell_type": "code",
      "source": [
        "a = np.array([[0 ,1 ,2],[3 ,4 ,5 ],\n",
        "              [6 ,7 ,8],[9 ,10 ,11]])\n",
        " \n",
        "print(a[1:2 ,1:3 ])\n",
        "print(a[1:2 ,[1,2]])"
      ],
      "metadata": {
        "colab": {
          "base_uri": "https://localhost:8080/"
        },
        "id": "gLOZGDHH4wga",
        "outputId": "d01cba71-0ff2-4ff2-caa4-97276301b2ee"
      },
      "execution_count": null,
      "outputs": [
        {
          "output_type": "stream",
          "name": "stdout",
          "text": [
            "[[4 5]]\n",
            "[[4 5]]\n"
          ]
        }
      ]
    },
    {
      "cell_type": "code",
      "source": [
        "a = np.array([10, 40, 80, 50, 100])\n",
        "print(a[a>50])"
      ],
      "metadata": {
        "colab": {
          "base_uri": "https://localhost:8080/"
        },
        "id": "9Gw6iK6w42Cm",
        "outputId": "802b2c74-c20b-45f3-b172-a641f5c9ab52"
      },
      "execution_count": null,
      "outputs": [
        {
          "output_type": "stream",
          "name": "stdout",
          "text": [
            "[ 80 100]\n"
          ]
        }
      ]
    },
    {
      "cell_type": "code",
      "source": [
        "a = np.array([10, 40, 80, 50, 100])\n",
        "print(a[a%40==0]**2)"
      ],
      "metadata": {
        "colab": {
          "base_uri": "https://localhost:8080/"
        },
        "id": "PZ1aruf746zE",
        "outputId": "09c5a6d5-536d-4966-8a72-2bf11942ab2e"
      },
      "execution_count": null,
      "outputs": [
        {
          "output_type": "stream",
          "name": "stdout",
          "text": [
            "[1600 6400]\n"
          ]
        }
      ]
    },
    {
      "cell_type": "code",
      "source": [
        "b = np.array([[5, 5],[4, 5],[16, 4]])\n",
        "print(b,\"\\n\")\n",
        "sumrow = b.sum(1)    # here 1 is axis\n",
        "print(sumrow,\"\\n\")\n",
        "print(b[sumrow%10==0])# it means remainder is zero after diving"
      ],
      "metadata": {
        "colab": {
          "base_uri": "https://localhost:8080/"
        },
        "id": "7nXLinke5L26",
        "outputId": "5816f5c6-78bf-4b36-c147-22d90d66b776"
      },
      "execution_count": null,
      "outputs": [
        {
          "output_type": "stream",
          "name": "stdout",
          "text": [
            "[[ 5  5]\n",
            " [ 4  5]\n",
            " [16  4]] \n",
            "\n",
            "[10  9 20] \n",
            "\n",
            "[[ 5  5]\n",
            " [16  4]]\n"
          ]
        }
      ]
    },
    {
      "cell_type": "code",
      "source": [
        "import numpy as np\n",
        "a = np.arange(16)\n",
        "print(a,\"\\n\")\n",
        "\n",
        "a = a.reshape(4,4)\n",
        "print(a,\"\\n\")\n",
        "\n",
        "for i in np.nditer(a):\n",
        "   print(i,\"\\n\")\n",
        "\n",
        "for x in np.nditer(a, order = 'C'):\n",
        "    print('Modified array in C-style order:') \n",
        "    print(x,\"\\n\")   \n",
        "\n",
        "for x in np.nditer(a, order = 'F'):\n",
        "    print('Modified array in F-style order:') \n",
        "    print(x,\"\\n\")   "
      ],
      "metadata": {
        "colab": {
          "base_uri": "https://localhost:8080/"
        },
        "id": "VSVD57xR64QR",
        "outputId": "ff9276cb-5229-4c44-be32-23ab91a6bc35"
      },
      "execution_count": null,
      "outputs": [
        {
          "output_type": "stream",
          "name": "stdout",
          "text": [
            "[ 0  1  2  3  4  5  6  7  8  9 10 11 12 13 14 15] \n",
            "\n",
            "[[ 0  1  2  3]\n",
            " [ 4  5  6  7]\n",
            " [ 8  9 10 11]\n",
            " [12 13 14 15]] \n",
            "\n",
            "0 \n",
            "\n",
            "1 \n",
            "\n",
            "2 \n",
            "\n",
            "3 \n",
            "\n",
            "4 \n",
            "\n",
            "5 \n",
            "\n",
            "6 \n",
            "\n",
            "7 \n",
            "\n",
            "8 \n",
            "\n",
            "9 \n",
            "\n",
            "10 \n",
            "\n",
            "11 \n",
            "\n",
            "12 \n",
            "\n",
            "13 \n",
            "\n",
            "14 \n",
            "\n",
            "15 \n",
            "\n",
            "Modified array in C-style order:\n",
            "0 \n",
            "\n",
            "Modified array in C-style order:\n",
            "1 \n",
            "\n",
            "Modified array in C-style order:\n",
            "2 \n",
            "\n",
            "Modified array in C-style order:\n",
            "3 \n",
            "\n",
            "Modified array in C-style order:\n",
            "4 \n",
            "\n",
            "Modified array in C-style order:\n",
            "5 \n",
            "\n",
            "Modified array in C-style order:\n",
            "6 \n",
            "\n",
            "Modified array in C-style order:\n",
            "7 \n",
            "\n",
            "Modified array in C-style order:\n",
            "8 \n",
            "\n",
            "Modified array in C-style order:\n",
            "9 \n",
            "\n",
            "Modified array in C-style order:\n",
            "10 \n",
            "\n",
            "Modified array in C-style order:\n",
            "11 \n",
            "\n",
            "Modified array in C-style order:\n",
            "12 \n",
            "\n",
            "Modified array in C-style order:\n",
            "13 \n",
            "\n",
            "Modified array in C-style order:\n",
            "14 \n",
            "\n",
            "Modified array in C-style order:\n",
            "15 \n",
            "\n",
            "Modified array in F-style order:\n",
            "0 \n",
            "\n",
            "Modified array in F-style order:\n",
            "4 \n",
            "\n",
            "Modified array in F-style order:\n",
            "8 \n",
            "\n",
            "Modified array in F-style order:\n",
            "12 \n",
            "\n",
            "Modified array in F-style order:\n",
            "1 \n",
            "\n",
            "Modified array in F-style order:\n",
            "5 \n",
            "\n",
            "Modified array in F-style order:\n",
            "9 \n",
            "\n",
            "Modified array in F-style order:\n",
            "13 \n",
            "\n",
            "Modified array in F-style order:\n",
            "2 \n",
            "\n",
            "Modified array in F-style order:\n",
            "6 \n",
            "\n",
            "Modified array in F-style order:\n",
            "10 \n",
            "\n",
            "Modified array in F-style order:\n",
            "14 \n",
            "\n",
            "Modified array in F-style order:\n",
            "3 \n",
            "\n",
            "Modified array in F-style order:\n",
            "7 \n",
            "\n",
            "Modified array in F-style order:\n",
            "11 \n",
            "\n",
            "Modified array in F-style order:\n",
            "15 \n",
            "\n"
          ]
        }
      ]
    },
    {
      "cell_type": "code",
      "source": [
        "a = np.arange(12)\n",
        " \n",
        " # shape array with 3 rows and \n",
        "# 4 columns \n",
        "a = a.reshape(3,4) \n",
        " \n",
        "print('First array is:') \n",
        "print(a)\n",
        "print()  \n",
        " \n",
        "# Creating second array using \n",
        "# array method\n",
        "print('Second array is:') \n",
        "b = np.array([5, 6, 7, 8], dtype = int) \n",
        "print(b)  \n",
        "print() \n",
        " \n",
        "print('Modified array is:')\n",
        "for x,y in np.nditer([a,b]): \n",
        "    print(\"%d:%d\" % (x,y))"
      ],
      "metadata": {
        "colab": {
          "base_uri": "https://localhost:8080/"
        },
        "id": "z5eR08xe979w",
        "outputId": "8743aac2-67e6-4625-c5a1-51377b85ce2c"
      },
      "execution_count": null,
      "outputs": [
        {
          "output_type": "stream",
          "name": "stdout",
          "text": [
            "First array is:\n",
            "[[ 0  1  2  3]\n",
            " [ 4  5  6  7]\n",
            " [ 8  9 10 11]]\n",
            "\n",
            "Second array is:\n",
            "[5 6 7 8]\n",
            "\n",
            "Modified array is:\n",
            "0:5\n",
            "1:6\n",
            "2:7\n",
            "3:8\n",
            "4:5\n",
            "5:6\n",
            "6:7\n",
            "7:8\n",
            "8:5\n",
            "9:6\n",
            "10:7\n",
            "11:8\n"
          ]
        }
      ]
    },
    {
      "cell_type": "code",
      "source": [
        "import numpy as geek\n",
        "in_num1 = 10\n",
        "in_num2 = 11\n",
        " \n",
        "print (\"Input  number1 : \", in_num1)\n",
        "print (\"Input  number2 : \", in_num2) \n",
        "   \n",
        "out_num = geek.bitwise_and(in_num1, in_num2) \n",
        "print (\"bitwise_and of 10 and 11 : \", out_num) "
      ],
      "metadata": {
        "colab": {
          "base_uri": "https://localhost:8080/"
        },
        "id": "76_WDMpx-gdo",
        "outputId": "f5dafeb0-048d-497e-bc35-8ea84708020c"
      },
      "execution_count": null,
      "outputs": [
        {
          "output_type": "stream",
          "name": "stdout",
          "text": [
            "Input  number1 :  10\n",
            "Input  number2 :  11\n",
            "bitwise_and of 10 and 11 :  10\n"
          ]
        }
      ]
    },
    {
      "cell_type": "code",
      "source": [
        "in_arr1 = [2, 8, 125]\n",
        "in_arr2 = [3, 3, 115]\n",
        "  \n",
        "print (\"Input array1 : \", in_arr1) \n",
        "print (\"Input array2 : \", in_arr2)\n",
        "   \n",
        "out_arr = geek.bitwise_and(in_arr1, in_arr2) \n",
        "print (\"Output array after bitwise_and: \", out_arr) "
      ],
      "metadata": {
        "colab": {
          "base_uri": "https://localhost:8080/"
        },
        "id": "N_x5WIIA-lWM",
        "outputId": "4bb36a13-dffd-4dfa-8329-45fd66cca10f"
      },
      "execution_count": null,
      "outputs": [
        {
          "output_type": "stream",
          "name": "stdout",
          "text": [
            "Input array1 :  [2, 8, 125]\n",
            "Input array2 :  [3, 3, 115]\n",
            "Output array after bitwise_and:  [  2   0 113]\n"
          ]
        }
      ]
    },
    {
      "cell_type": "code",
      "source": [
        "import numpy as geek\n",
        "in_num1 = 10\n",
        "in_num2 = 11\n",
        " \n",
        "print (\"Input  number1 : \", in_num1)\n",
        "print (\"Input  number2 : \", in_num2) \n",
        "   \n",
        "out_num = geek.bitwise_or(in_num1, in_num2) \n",
        "print (\"bitwise_or of 10 and 11 : \", out_num) "
      ],
      "metadata": {
        "colab": {
          "base_uri": "https://localhost:8080/"
        },
        "id": "vggNPBUq-xzK",
        "outputId": "1f46ed2b-ab57-4b0a-aacf-f9350266ca72"
      },
      "execution_count": null,
      "outputs": [
        {
          "output_type": "stream",
          "name": "stdout",
          "text": [
            "Input  number1 :  10\n",
            "Input  number2 :  11\n",
            "bitwise_or of 10 and 11 :  11\n"
          ]
        }
      ]
    },
    {
      "cell_type": "code",
      "source": [
        "in_arr1 = [2, 8, 125]\n",
        "in_arr2 = [3, 3, 115]\n",
        "  \n",
        "print (\"Input array1 : \", in_arr1) \n",
        "print (\"Input array2 : \", in_arr2)\n",
        "   \n",
        "out_arr = geek.bitwise_or(in_arr1, in_arr2) \n",
        "print (\"Output array after bitwise_or: \", out_arr) "
      ],
      "metadata": {
        "colab": {
          "base_uri": "https://localhost:8080/"
        },
        "id": "RmsHTizw_JhL",
        "outputId": "98bd73a5-3d74-4958-e243-a47b1a1a0c01"
      },
      "execution_count": null,
      "outputs": [
        {
          "output_type": "stream",
          "name": "stdout",
          "text": [
            "Input array1 :  [2, 8, 125]\n",
            "Input array2 :  [3, 3, 115]\n",
            "Output array after bitwise_or:  [  3  11 127]\n"
          ]
        }
      ]
    },
    {
      "cell_type": "code",
      "source": [
        "in_num1 = 10\n",
        "in_num2 = 11\n",
        " \n",
        "print (\"Input  number1 : \", in_num1)\n",
        "print (\"Input  number2 : \", in_num2) \n",
        "   \n",
        "out_num = geek.bitwise_xor(in_num1, in_num2) \n",
        "print (\"bitwise_xor of 10 and 11 : \", out_num) "
      ],
      "metadata": {
        "colab": {
          "base_uri": "https://localhost:8080/"
        },
        "id": "9zB41Nqx_QJt",
        "outputId": "b48fc818-eae8-4250-de2a-8e7a72cdc7e4"
      },
      "execution_count": null,
      "outputs": [
        {
          "output_type": "stream",
          "name": "stdout",
          "text": [
            "Input  number1 :  10\n",
            "Input  number2 :  11\n",
            "bitwise_xor of 10 and 11 :  1\n"
          ]
        }
      ]
    },
    {
      "cell_type": "code",
      "source": [
        "in_arr1 = [2, 8, 125]\n",
        "in_arr2 = [3, 3, 115]\n",
        "  \n",
        "print (\"Input array1 : \", in_arr1) \n",
        "print (\"Input array2 : \", in_arr2)\n",
        "   \n",
        "out_arr = geek.bitwise_xor(in_arr1, in_arr2) \n",
        "print (\"Output array after bitwise_xor: \", out_arr) "
      ],
      "metadata": {
        "colab": {
          "base_uri": "https://localhost:8080/"
        },
        "id": "pAXbVTVi_VlY",
        "outputId": "25be5118-4671-40d3-e5c3-fada6c02cd51"
      },
      "execution_count": null,
      "outputs": [
        {
          "output_type": "stream",
          "name": "stdout",
          "text": [
            "Input array1 :  [2, 8, 125]\n",
            "Input array2 :  [3, 3, 115]\n",
            "Output array after bitwise_xor:  [ 1 11 14]\n"
          ]
        }
      ]
    },
    {
      "cell_type": "code",
      "source": [
        "in_num = 10\n",
        "print (\"Input  number : \", in_num)\n",
        "   \n",
        "out_num = geek.invert(in_num) \n",
        "print (\"inversion of 10 : \", out_num) "
      ],
      "metadata": {
        "colab": {
          "base_uri": "https://localhost:8080/"
        },
        "id": "E_TFcrZg_cO4",
        "outputId": "301716ec-f4bd-48ad-ca60-de29c6bd5d16"
      },
      "execution_count": null,
      "outputs": [
        {
          "output_type": "stream",
          "name": "stdout",
          "text": [
            "Input  number :  10\n",
            "inversion of 10 :  -11\n"
          ]
        }
      ]
    },
    {
      "cell_type": "code",
      "source": [
        "in_arr = [2, 0, 25]\n",
        "print (\"Input array : \", in_arr)\n",
        "   \n",
        "out_arr = geek.invert(in_arr) \n",
        "print (\"Output array after inversion: \", out_arr) "
      ],
      "metadata": {
        "colab": {
          "base_uri": "https://localhost:8080/"
        },
        "id": "B9KLmLky_jV5",
        "outputId": "d88cac48-eca9-4d11-a729-b01fe1e4d67a"
      },
      "execution_count": null,
      "outputs": [
        {
          "output_type": "stream",
          "name": "stdout",
          "text": [
            "Input array :  [2, 0, 25]\n",
            "Output array after inversion:  [ -3  -1 -26]\n"
          ]
        }
      ]
    },
    {
      "cell_type": "code",
      "source": [
        "in_num = 5\n",
        "bit_shift = 2\n",
        " \n",
        "print (\"Input  number : \", in_num)\n",
        "print (\"Number of bit shift : \", bit_shift ) \n",
        "   \n",
        "out_num = geek.left_shift(in_num, bit_shift) \n",
        "print (\"After left shifting 2 bit  : \", out_num) "
      ],
      "metadata": {
        "colab": {
          "base_uri": "https://localhost:8080/"
        },
        "id": "z72UXCQq_1EG",
        "outputId": "c1058b78-dd74-4120-9e79-2504b4061cc0"
      },
      "execution_count": null,
      "outputs": [
        {
          "output_type": "stream",
          "name": "stdout",
          "text": [
            "Input  number :  5\n",
            "Number of bit shift :  2\n",
            "After left shifting 2 bit  :  20\n"
          ]
        }
      ]
    },
    {
      "cell_type": "code",
      "source": [
        "in_arr = [2, 8, 15]\n",
        "bit_shift =[3, 4, 5]\n",
        "  \n",
        "print (\"Input array : \", in_arr) \n",
        "print (\"Number of bit shift : \", bit_shift)\n",
        "   \n",
        "out_arr = geek.left_shift(in_arr, bit_shift) \n",
        "print (\"Output array after left shifting: \", out_arr) "
      ],
      "metadata": {
        "colab": {
          "base_uri": "https://localhost:8080/"
        },
        "id": "NBx_udz5_58P",
        "outputId": "9bc916be-404b-4eeb-cdba-2a87daf8d8d2"
      },
      "execution_count": null,
      "outputs": [
        {
          "output_type": "stream",
          "name": "stdout",
          "text": [
            "Input array :  [2, 8, 15]\n",
            "Number of bit shift :  [3, 4, 5]\n",
            "Output array after left shifting:  [ 16 128 480]\n"
          ]
        }
      ]
    },
    {
      "cell_type": "code",
      "source": [
        "in_num = 10\n",
        " \n",
        "print (\"Input  number : \", in_num)\n",
        " \n",
        "out_num = geek.binary_repr(in_num) \n",
        "print (\"binary representation of 10 : \", out_num) "
      ],
      "metadata": {
        "colab": {
          "base_uri": "https://localhost:8080/"
        },
        "id": "JNTCsdObFJlD",
        "outputId": "0bc0fad1-9c36-4211-c2b1-78700016449e"
      },
      "execution_count": null,
      "outputs": [
        {
          "output_type": "stream",
          "name": "stdout",
          "text": [
            "Input  number :  10\n",
            "binary representation of 10 :  1010\n"
          ]
        }
      ]
    },
    {
      "cell_type": "code",
      "source": [
        "in_arr = [5, -8 ]\n",
        "  \n",
        "print (\"Input array : \", in_arr) \n",
        " \n",
        "\n",
        "out_num = geek.binary_repr(in_arr[0])\n",
        "print(\"Binary representation of 5\")\n",
        "print (\"Without using width parameter : \", out_num) \n",
        " \n",
        "\n",
        "out_num = geek.binary_repr(in_arr[0], width = 5)\n",
        "print (\"Using width parameter: \", out_num) \n",
        " \n",
        "print(\"\\nBinary representation of -8\")\n",
        " \n",
        "\n",
        "out_num = geek.binary_repr(in_arr[1])\n",
        "print (\"Without using width parameter : \", out_num) \n",
        " \n",
        "\n",
        "out_num = geek.binary_repr(in_arr[1], width = 5)\n",
        "print (\"Using width parameter : \", out_num) \n"
      ],
      "metadata": {
        "colab": {
          "base_uri": "https://localhost:8080/"
        },
        "id": "L9MMVLKPFPcV",
        "outputId": "e98200b5-8dd4-4657-d6d2-ae71f9ef56ff"
      },
      "execution_count": null,
      "outputs": [
        {
          "output_type": "stream",
          "name": "stdout",
          "text": [
            "Input array :  [5, -8]\n",
            "Binary representation of 5\n",
            "Without using width parameter :  101\n",
            "Using width parameter:  00101\n",
            "\n",
            "Binary representation of -8\n",
            "Without using width parameter :  -1000\n",
            "Using width parameter :  11000\n"
          ]
        }
      ]
    },
    {
      "cell_type": "code",
      "source": [
        "a = np.array([[[1,0,1],\n",
        "             [0,1,0]],\n",
        "             [[1,1,0],\n",
        "             [0,0,1]]])\n",
        " \n",
        "# packing elements of an array\n",
        "# using packbits() function\n",
        "b = np.packbits(a, axis=-1)\n",
        " \n",
        "print(b)"
      ],
      "metadata": {
        "colab": {
          "base_uri": "https://localhost:8080/"
        },
        "id": "hHdfTTi_FdIf",
        "outputId": "0a20c8d4-e65c-4b64-9291-74d38f587e11"
      },
      "execution_count": null,
      "outputs": [
        {
          "output_type": "stream",
          "name": "stdout",
          "text": [
            "[[[160]\n",
            "  [ 64]]\n",
            "\n",
            " [[192]\n",
            "  [ 32]]]\n"
          ]
        }
      ]
    },
    {
      "cell_type": "code",
      "source": [
        "# creating an array using \n",
        "# array function\n",
        "a = np.array([[2], [7], [23]], dtype=np.uint8)\n",
        " \n",
        "# packing elements of an array\n",
        "# using packbits() function\n",
        "b = np.unpackbits(a, axis = 1)\n",
        " \n",
        "print(b)"
      ],
      "metadata": {
        "colab": {
          "base_uri": "https://localhost:8080/"
        },
        "id": "B6HlpKdOFksH",
        "outputId": "dba8f61a-bd97-44ee-fe88-40957cb8fb97"
      },
      "execution_count": null,
      "outputs": [
        {
          "output_type": "stream",
          "name": "stdout",
          "text": [
            "[[0 0 0 0 0 0 1 0]\n",
            " [0 0 0 0 0 1 1 1]\n",
            " [0 0 0 1 0 1 1 1]]\n"
          ]
        }
      ]
    },
    {
      "cell_type": "code",
      "source": [
        "import numpy as np\n",
        "import math\n",
        " \n",
        "in_array = [0, math.pi / 2, np.pi / 3, np.pi]\n",
        "print (\"Input array : \\n\", in_array)\n",
        " \n",
        "Sin_Values = np.sin(in_array)\n",
        "print (\"\\nSine values : \\n\", Sin_Values)"
      ],
      "metadata": {
        "colab": {
          "base_uri": "https://localhost:8080/"
        },
        "id": "eDo-ywImF5Rs",
        "outputId": "e4f65549-3b7e-4895-91a6-9de585594543"
      },
      "execution_count": null,
      "outputs": [
        {
          "output_type": "stream",
          "name": "stdout",
          "text": [
            "Input array : \n",
            " [0, 1.5707963267948966, 1.0471975511965976, 3.141592653589793]\n",
            "\n",
            "Sine values : \n",
            " [0.00000000e+00 1.00000000e+00 8.66025404e-01 1.22464680e-16]\n"
          ]
        }
      ]
    },
    {
      "cell_type": "code",
      "source": [
        "import numpy as np\n",
        "import math\n",
        " \n",
        "in_array = [0, math.pi / 2, np.pi / 3, np.pi]\n",
        "print (\"Input array : \\n\", in_array)\n",
        " \n",
        "cos_Values = np.cos(in_array)\n",
        "print (\"\\nCosine values : \\n\", cos_Values)"
      ],
      "metadata": {
        "colab": {
          "base_uri": "https://localhost:8080/"
        },
        "id": "MOmN9nixpQjq",
        "outputId": "914e3bdf-c767-41cd-8fac-34dcf2e75eb0"
      },
      "execution_count": null,
      "outputs": [
        {
          "output_type": "stream",
          "name": "stdout",
          "text": [
            "Input array : \n",
            " [0, 1.5707963267948966, 1.0471975511965976, 3.141592653589793]\n",
            "\n",
            "Cosine values : \n",
            " [ 1.000000e+00  6.123234e-17  5.000000e-01 -1.000000e+00]\n"
          ]
        }
      ]
    },
    {
      "cell_type": "code",
      "source": [
        "in_array = [0, math.pi / 2, np.pi / 3, np.pi]\n",
        "print (\"Input array : \\n\", in_array)\n",
        " \n",
        "Sinh_Values = np.sinh(in_array)\n",
        "print (\"\\nSine Hyperbolic values : \\n\", Sinh_Values)"
      ],
      "metadata": {
        "colab": {
          "base_uri": "https://localhost:8080/"
        },
        "id": "acuo8WWgpUkk",
        "outputId": "d8f6da3e-20f6-4b77-93c4-fd36d25313aa"
      },
      "execution_count": null,
      "outputs": [
        {
          "output_type": "stream",
          "name": "stdout",
          "text": [
            "Input array : \n",
            " [0, 1.5707963267948966, 1.0471975511965976, 3.141592653589793]\n",
            "\n",
            "Sine Hyperbolic values : \n",
            " [ 0.          2.3012989   1.24936705 11.54873936]\n"
          ]
        }
      ]
    },
    {
      "cell_type": "code",
      "source": [
        "in_array = [0, math.pi / 2, np.pi / 3, np.pi]\n",
        "print (\"Input array : \\n\", in_array)\n",
        " \n",
        "cosh_Values = np.cosh(in_array)\n",
        "print (\"\\ncosine Hyperbolic values : \\n\", cosh_Values)"
      ],
      "metadata": {
        "colab": {
          "base_uri": "https://localhost:8080/"
        },
        "id": "Q35L3BfkpZQC",
        "outputId": "b3b8555b-994c-4acc-869b-e4793e870208"
      },
      "execution_count": null,
      "outputs": [
        {
          "output_type": "stream",
          "name": "stdout",
          "text": [
            "Input array : \n",
            " [0, 1.5707963267948966, 1.0471975511965976, 3.141592653589793]\n",
            "\n",
            "cosine Hyperbolic values : \n",
            " [ 1.          2.50917848  1.60028686 11.59195328]\n"
          ]
        }
      ]
    },
    {
      "cell_type": "code",
      "source": [
        "import numpy as np\n",
        " \n",
        "in_array = [.5, 1.5, 2.5, 3.5, 4.5, 10.1]\n",
        "print (\"Input array : \\n\", in_array)\n",
        " \n",
        "round_off_values = np.around(in_array)\n",
        "print (\"\\nRounded values : \\n\", round_off_values)\n",
        " \n",
        " \n",
        "in_array = [.53, 1.54, .71]\n",
        "print (\"\\nInput array : \\n\", in_array)\n",
        " \n",
        "round_off_values = np.around(in_array)\n",
        "print (\"\\nRounded values : \\n\", round_off_values)\n",
        " \n",
        "in_array = [.5538, 1.33354, .71445]\n",
        "print (\"\\nInput array : \\n\", in_array)\n",
        " \n",
        "round_off_values = np.around(in_array, decimals = 3)\n",
        "print (\"\\nRounded values : \\n\", round_off_values)"
      ],
      "metadata": {
        "colab": {
          "base_uri": "https://localhost:8080/"
        },
        "id": "nMGbAzprpm8A",
        "outputId": "e9c34fbe-3f25-49fb-d235-b797aa9b6b0b"
      },
      "execution_count": null,
      "outputs": [
        {
          "output_type": "stream",
          "name": "stdout",
          "text": [
            "Input array : \n",
            " [0.5, 1.5, 2.5, 3.5, 4.5, 10.1]\n",
            "\n",
            "Rounded values : \n",
            " [ 0.  2.  2.  4.  4. 10.]\n",
            "\n",
            "Input array : \n",
            " [0.53, 1.54, 0.71]\n",
            "\n",
            "Rounded values : \n",
            " [1. 2. 1.]\n",
            "\n",
            "Input array : \n",
            " [0.5538, 1.33354, 0.71445]\n",
            "\n",
            "Rounded values : \n",
            " [0.554 1.334 0.714]\n"
          ]
        }
      ]
    },
    {
      "cell_type": "code",
      "source": [
        "in_array = [.5, 1.5, 2.5, 3.5, 4.5, 10.1]\n",
        "print (\"Input array : \\n\", in_array)\n",
        " \n",
        "round_off_values = np.round_(in_array)\n",
        "print (\"\\nRounded values : \\n\", round_off_values)\n",
        " \n",
        " \n",
        "in_array = [.53, 1.54, .71]\n",
        "print (\"\\nInput array : \\n\", in_array)\n",
        " \n",
        "round_off_values = np.round_(in_array)\n",
        "print (\"\\nRounded values : \\n\", round_off_values)\n",
        " \n",
        "in_array = [.5538, 1.33354, .71445]\n",
        "print (\"\\nInput array : \\n\", in_array)\n",
        " \n",
        "round_off_values = np.round_(in_array, decimals = 3)\n",
        "print (\"\\nRounded values : \\n\", round_off_values)"
      ],
      "metadata": {
        "colab": {
          "base_uri": "https://localhost:8080/"
        },
        "id": "XMjHYB7FpwRy",
        "outputId": "7e64cadb-31f8-40f5-e4b8-b4ef5bb58d6f"
      },
      "execution_count": null,
      "outputs": [
        {
          "output_type": "stream",
          "name": "stdout",
          "text": [
            "Input array : \n",
            " [0.5, 1.5, 2.5, 3.5, 4.5, 10.1]\n",
            "\n",
            "Rounded values : \n",
            " [ 0.  2.  2.  4.  4. 10.]\n",
            "\n",
            "Input array : \n",
            " [0.53, 1.54, 0.71]\n",
            "\n",
            "Rounded values : \n",
            " [1. 2. 1.]\n",
            "\n",
            "Input array : \n",
            " [0.5538, 1.33354, 0.71445]\n",
            "\n",
            "Rounded values : \n",
            " [0.554 1.334 0.714]\n"
          ]
        }
      ]
    },
    {
      "cell_type": "code",
      "source": [
        "import numpy as np\n",
        " \n",
        "in_array = [1, 3, 5]\n",
        "print (\"Input array : \", in_array)\n",
        " \n",
        "out_array = np.exp(in_array)\n",
        "print (\"Output array : \", out_array)"
      ],
      "metadata": {
        "colab": {
          "base_uri": "https://localhost:8080/"
        },
        "id": "wbZ3MNs2qsHq",
        "outputId": "00bc4d9d-12c7-43c5-88ef-929d0c8d8c4f"
      },
      "execution_count": null,
      "outputs": [
        {
          "output_type": "stream",
          "name": "stdout",
          "text": [
            "Input array :  [1, 3, 5]\n",
            "Output array :  [  2.71828183  20.08553692 148.4131591 ]\n"
          ]
        }
      ]
    },
    {
      "cell_type": "code",
      "source": [
        "in_array = [1, 3, 5, 2**8]\n",
        "print (\"Input array : \", in_array)\n",
        " \n",
        "out_array = np.log(in_array)\n",
        "print (\"Output array : \", out_array)\n",
        " \n",
        " \n",
        "print(\"\\nnp.log(4**4) : \", np.log(4**4))\n",
        "print(\"np.log(2**8) : \", np.log(2**8))"
      ],
      "metadata": {
        "colab": {
          "base_uri": "https://localhost:8080/"
        },
        "id": "Hm9a5VdXqzf1",
        "outputId": "9df394bd-ed1b-443a-821b-4259980a039b"
      },
      "execution_count": null,
      "outputs": [
        {
          "output_type": "stream",
          "name": "stdout",
          "text": [
            "Input array :  [1, 3, 5, 256]\n",
            "Output array :  [0.         1.09861229 1.60943791 5.54517744]\n",
            "\n",
            "np.log(4**4) :  5.545177444479562\n",
            "np.log(2**8) :  5.545177444479562\n"
          ]
        }
      ]
    },
    {
      "cell_type": "code",
      "source": [
        "in_num = 2.0\n",
        "print (\"Input  number : \", in_num)\n",
        " \n",
        "out_num = np.reciprocal(in_num)\n",
        "print (\"Output number : \", out_num)"
      ],
      "metadata": {
        "colab": {
          "base_uri": "https://localhost:8080/"
        },
        "id": "kYPaULEkq2qC",
        "outputId": "a378c3b1-9575-4714-f58c-dd9feeddab4f"
      },
      "execution_count": null,
      "outputs": [
        {
          "output_type": "stream",
          "name": "stdout",
          "text": [
            "Input  number :  2.0\n",
            "Output number :  0.5\n"
          ]
        }
      ]
    },
    {
      "cell_type": "code",
      "source": [
        "# input_array\n",
        "arr1 = [2, 27, 2, 21, 23]\n",
        "arr2 = [2, 3, 4, 5, 6]\n",
        "print (\"arr1         : \", arr1)\n",
        "print (\"arr2         : \", arr2)\n",
        " \n",
        "# output_array\n",
        "out = np.divide(arr1, arr2)\n",
        "print (\"\\nOutput array : \\n\", out)"
      ],
      "metadata": {
        "colab": {
          "base_uri": "https://localhost:8080/"
        },
        "id": "MbnanPo_q5jk",
        "outputId": "8e99f1c4-4bc0-4e81-eef6-12f2bbcbd94e"
      },
      "execution_count": null,
      "outputs": [
        {
          "output_type": "stream",
          "name": "stdout",
          "text": [
            "arr1         :  [2, 27, 2, 21, 23]\n",
            "arr2         :  [2, 3, 4, 5, 6]\n",
            "\n",
            "Output array : \n",
            " [1.         9.         0.5        4.2        3.83333333]\n"
          ]
        }
      ]
    },
    {
      "cell_type": "code",
      "source": [
        "import numpy as geek \n",
        " \n",
        "print(\"Is Real : \", geek.isreal([1+1j, 0j]), \"\\n\")\n",
        " \n",
        "print(\"Is Real : \", geek.isreal([1, 0]), \"\\n\")"
      ],
      "metadata": {
        "colab": {
          "base_uri": "https://localhost:8080/"
        },
        "id": "wky3VHfWq8H5",
        "outputId": "15af100d-cc11-4c43-c9ae-f74c208525e7"
      },
      "execution_count": null,
      "outputs": [
        {
          "output_type": "stream",
          "name": "stdout",
          "text": [
            "Is Real :  [False  True] \n",
            "\n",
            "Is Real :  [ True  True] \n",
            "\n"
          ]
        }
      ]
    },
    {
      "cell_type": "code",
      "source": [
        "import numpy as np\n",
        " \n",
        "in_complx1 = 2+4j\n",
        "out_complx1 = np.conj(in_complx1)\n",
        "print (\"Output conjugated complex number of  2+4j : \", out_complx1)\n",
        " \n",
        "in_complx2 =5-8j\n",
        "out_complx2 = np.conj(in_complx2)\n",
        "print (\"Output conjugated complex number of 5-8j: \", out_complx2)"
      ],
      "metadata": {
        "colab": {
          "base_uri": "https://localhost:8080/"
        },
        "id": "KxoRC0Dtq_fY",
        "outputId": "9cb8afd3-5c2a-410f-c30e-5f49ab8c219e"
      },
      "execution_count": null,
      "outputs": [
        {
          "output_type": "stream",
          "name": "stdout",
          "text": [
            "Output conjugated complex number of  2+4j :  (2-4j)\n",
            "Output conjugated complex number of 5-8j:  (5+8j)\n"
          ]
        }
      ]
    },
    {
      "cell_type": "code",
      "source": [
        "  \n",
        "arr1 = [1, 27000, 64, -1000]\n",
        "print (\"cbrt Value of arr1 : \\n\", np.cbrt(arr1))\n",
        "  \n",
        "arr2 = [1024 ,-128]\n",
        "print (\"\\ncbrt Value of arr2 : \", np.cbrt(arr2))"
      ],
      "metadata": {
        "colab": {
          "base_uri": "https://localhost:8080/"
        },
        "id": "JKfE3weprCVA",
        "outputId": "0e000bea-a865-4b20-fd28-ab9d24bbd233"
      },
      "execution_count": null,
      "outputs": [
        {
          "output_type": "stream",
          "name": "stdout",
          "text": [
            "cbrt Value of arr1 : \n",
            " [  1.  30.   4. -10.]\n",
            "\n",
            "cbrt Value of arr2 :  [10.0793684 -5.0396842]\n"
          ]
        }
      ]
    },
    {
      "cell_type": "code",
      "source": [
        "in_array = [1, 2, 3, 4, 5, 6, 7, 8 ]\n",
        "print (\"Input array : \", in_array)\n",
        " \n",
        "out_array = np.clip(in_array, a_min = 2, a_max = 6)\n",
        "print (\"Output array : \", out_array)"
      ],
      "metadata": {
        "colab": {
          "base_uri": "https://localhost:8080/"
        },
        "id": "NS9Ow3JCrFWA",
        "outputId": "0750199b-d421-4898-cd14-64e0e46e432b"
      },
      "execution_count": null,
      "outputs": [
        {
          "output_type": "stream",
          "name": "stdout",
          "text": [
            "Input array :  [1, 2, 3, 4, 5, 6, 7, 8]\n",
            "Output array :  [2 2 3 4 5 6 6 6]\n"
          ]
        }
      ]
    },
    {
      "cell_type": "code",
      "source": [
        "import numpy as np\n",
        " \n",
        "# converting to lowercase\n",
        "print(np.char.lower(['GEEKS', 'FOR']))\n",
        " \n",
        "# converting to lowercase\n",
        "print(np.char.lower('GEEKS'))"
      ],
      "metadata": {
        "colab": {
          "base_uri": "https://localhost:8080/"
        },
        "id": "rGH7JwU1rND4",
        "outputId": "ae628482-cb6e-4dc0-fe0b-895ff16d5572"
      },
      "execution_count": null,
      "outputs": [
        {
          "output_type": "stream",
          "name": "stdout",
          "text": [
            "['geeks' 'for']\n",
            "geeks\n"
          ]
        }
      ]
    },
    {
      "cell_type": "code",
      "source": [
        "# splitting a string\n",
        "print(np.char.split('geeks for geeks'))\n",
        " \n",
        "# splitting a string\n",
        "print(np.char.split('geeks, for, geeks', sep = ','))"
      ],
      "metadata": {
        "colab": {
          "base_uri": "https://localhost:8080/"
        },
        "id": "NwvAIjtBrQKg",
        "outputId": "386ebf79-cbe4-4f20-d410-7344efb82df7"
      },
      "execution_count": null,
      "outputs": [
        {
          "output_type": "stream",
          "name": "stdout",
          "text": [
            "['geeks', 'for', 'geeks']\n",
            "['geeks', ' for', ' geeks']\n"
          ]
        }
      ]
    },
    {
      "cell_type": "code",
      "source": [
        "import numpy as np\n",
        " \n",
        "# splitting a string\n",
        "print(np.char.join('-', 'geeks'))\n",
        " \n",
        "# splitting a string\n",
        "print(np.char.join(['-', ':'], ['geeks', 'for']))"
      ],
      "metadata": {
        "colab": {
          "base_uri": "https://localhost:8080/"
        },
        "id": "NufJnH6orSrB",
        "outputId": "648baa78-6afb-455e-ad1f-93c12af0fb4e"
      },
      "execution_count": null,
      "outputs": [
        {
          "output_type": "stream",
          "name": "stdout",
          "text": [
            "g-e-e-k-s\n",
            "['g-e-e-k-s' 'f:o:r']\n"
          ]
        }
      ]
    },
    {
      "cell_type": "code",
      "source": [
        "import numpy as np\n",
        " \n",
        "a=np.array(['geeks', 'for', 'geeks'])\n",
        " \n",
        "# counting a substring\n",
        "print(np.char.count(a,'geek'))\n",
        " \n",
        "# counting a substring\n",
        "print(np.char.count(a, 'fo'))"
      ],
      "metadata": {
        "colab": {
          "base_uri": "https://localhost:8080/"
        },
        "id": "Ihg_8hFnrWLx",
        "outputId": "8f961280-2e67-48d0-b285-91b7d47361d3"
      },
      "execution_count": null,
      "outputs": [
        {
          "output_type": "stream",
          "name": "stdout",
          "text": [
            "[1 0 1]\n",
            "[0 1 0]\n"
          ]
        }
      ]
    },
    {
      "cell_type": "code",
      "source": [
        "import numpy as np\n",
        " \n",
        "a=np.array(['geeks', 'for', 'geeks'])\n",
        " \n",
        "# counting a substring\n",
        "print(np.char.rfind(a,'geek'))\n",
        " \n",
        "# counting a substring\n",
        "print(np.char.rfind(a, 'fo'))"
      ],
      "metadata": {
        "colab": {
          "base_uri": "https://localhost:8080/"
        },
        "id": "iFNIZi3DrZLM",
        "outputId": "c23f5ed2-6795-41d8-dc3f-e45961638c85"
      },
      "execution_count": null,
      "outputs": [
        {
          "output_type": "stream",
          "name": "stdout",
          "text": [
            "[ 0 -1  0]\n",
            "[-1  0 -1]\n"
          ]
        }
      ]
    },
    {
      "cell_type": "code",
      "source": [
        "# counting a substring\n",
        "print(np.char.isnumeric('geeks'))\n",
        " \n",
        "# counting a substring\n",
        "print(np.char.isnumeric('12geeks'))"
      ],
      "metadata": {
        "colab": {
          "base_uri": "https://localhost:8080/"
        },
        "id": "Dn5EA1K_rcln",
        "outputId": "9f613b7c-fe34-4dcf-892c-51fa43743cc2"
      },
      "execution_count": null,
      "outputs": [
        {
          "output_type": "stream",
          "name": "stdout",
          "text": [
            "False\n",
            "False\n"
          ]
        }
      ]
    },
    {
      "cell_type": "code",
      "source": [
        "A = np.array([[6, 1, 1],\n",
        "              [4, -2, 5],\n",
        "              [2, 8, 7]])\n",
        " \n",
        "# Rank of a matrix\n",
        "print(\"Rank of A:\", np.linalg.matrix_rank(A))\n",
        " \n",
        "# Trace of matrix A\n",
        "print(\"\\nTrace of A:\", np.trace(A))\n",
        " \n",
        "# Determinant of a matrix\n",
        "print(\"\\nDeterminant of A:\", np.linalg.det(A))\n",
        " \n",
        "# Inverse of matrix A\n",
        "print(\"\\nInverse of A:\\n\", np.linalg.inv(A))\n",
        " \n",
        "print(\"\\nMatrix A raised to power 3:\\n\",\n",
        "           np.linalg.matrix_power(A, 3))"
      ],
      "metadata": {
        "colab": {
          "base_uri": "https://localhost:8080/"
        },
        "id": "FihnXJHjrpcQ",
        "outputId": "ae44a36c-e6fe-4fd5-91f7-2e05f636b9e8"
      },
      "execution_count": null,
      "outputs": [
        {
          "output_type": "stream",
          "name": "stdout",
          "text": [
            "Rank of A: 3\n",
            "\n",
            "Trace of A: 11\n",
            "\n",
            "Determinant of A: -306.0\n",
            "\n",
            "Inverse of A:\n",
            " [[ 0.17647059 -0.00326797 -0.02287582]\n",
            " [ 0.05882353 -0.13071895  0.08496732]\n",
            " [-0.11764706  0.1503268   0.05228758]]\n",
            "\n",
            "Matrix A raised to power 3:\n",
            " [[336 162 228]\n",
            " [406 162 469]\n",
            " [698 702 905]]\n"
          ]
        }
      ]
    },
    {
      "cell_type": "code",
      "source": [
        "from numpy import linalg as geek\n",
        " \n",
        "# Creating an array using array \n",
        "# function\n",
        "a = np.array([[1, -2j], [2j, 5]])\n",
        " \n",
        "print(\"Array is :\",a)\n",
        " \n",
        "# calculating an eigen value\n",
        "# using eigh() function\n",
        "c, d = geek.eigh(a)\n",
        " \n",
        "print(\"Eigen value is :\", c)\n",
        "print(\"Eigen value is :\", d)"
      ],
      "metadata": {
        "colab": {
          "base_uri": "https://localhost:8080/"
        },
        "id": "MTECJdoartuR",
        "outputId": "79f9174e-ac81-4190-f0fb-298b95a5e25e"
      },
      "execution_count": null,
      "outputs": [
        {
          "output_type": "stream",
          "name": "stdout",
          "text": [
            "Array is : [[ 1.+0.j -0.-2.j]\n",
            " [ 0.+2.j  5.+0.j]]\n",
            "Eigen value is : [0.17157288 5.82842712]\n",
            "Eigen value is : [[-0.92387953+0.j         -0.38268343+0.j        ]\n",
            " [ 0.        +0.38268343j  0.        -0.92387953j]]\n"
          ]
        }
      ]
    },
    {
      "cell_type": "code",
      "source": [
        "from numpy import linalg as geek\n",
        " \n",
        "# Creating an array using diag \n",
        "# function\n",
        "a = np.diag((1, 2, 3))\n",
        " \n",
        "print(\"Array is :\",a)\n",
        " \n",
        "# calculating an eigen value\n",
        "# using eig() function\n",
        "c, d = geek.eig(a)\n",
        " \n",
        "print(\"Eigen value is :\",c)\n",
        "print(\"Eigen value is :\",d)"
      ],
      "metadata": {
        "colab": {
          "base_uri": "https://localhost:8080/"
        },
        "id": "TrHkl9Dmr9t2",
        "outputId": "f6bd0b8a-277b-4fd0-a656-2fdd50736c91"
      },
      "execution_count": null,
      "outputs": [
        {
          "output_type": "stream",
          "name": "stdout",
          "text": [
            "Array is : [[1 0 0]\n",
            " [0 2 0]\n",
            " [0 0 3]]\n",
            "Eigen value is : [1. 2. 3.]\n",
            "Eigen value is : [[1. 0. 0.]\n",
            " [0. 1. 0.]\n",
            " [0. 0. 1.]]\n"
          ]
        }
      ]
    },
    {
      "cell_type": "code",
      "source": [
        "import numpy as geek\n",
        " \n",
        "# Scalars\n",
        "product = geek.dot(5, 4)\n",
        "print(\"Dot Product of scalar values  : \", product)\n",
        " \n",
        "# 1D array\n",
        "vector_a = 2 + 3j\n",
        "vector_b = 4 + 5j\n",
        " \n",
        "product = geek.dot(vector_a, vector_b)\n",
        "print(\"Dot Product  : \", product)\n"
      ],
      "metadata": {
        "colab": {
          "base_uri": "https://localhost:8080/"
        },
        "id": "0rCX1tkssAjf",
        "outputId": "41178add-4d68-48f8-e1ed-eea56b15bd93"
      },
      "execution_count": null,
      "outputs": [
        {
          "output_type": "stream",
          "name": "stdout",
          "text": [
            "Dot Product of scalar values  :  20\n",
            "Dot Product  :  (-7+22j)\n"
          ]
        }
      ]
    },
    {
      "cell_type": "code",
      "source": [
        " \n",
        "# 1D array\n",
        "vector_a = 2 + 3j\n",
        "vector_b = 4 + 5j\n",
        " \n",
        "product = geek.vdot(vector_a, vector_b)\n",
        "print(\"Dot Product  : \", product)"
      ],
      "metadata": {
        "colab": {
          "base_uri": "https://localhost:8080/"
        },
        "id": "nGQNtHwysDKY",
        "outputId": "85be6b7c-ff5a-4c39-a9c6-0c38ce1c8b99"
      },
      "execution_count": null,
      "outputs": [
        {
          "output_type": "stream",
          "name": "stdout",
          "text": [
            "Dot Product  :  (23-2j)\n"
          ]
        }
      ]
    },
    {
      "cell_type": "code",
      "source": [
        "import numpy as np\n",
        " \n",
        "# Creating an array using array\n",
        "# function\n",
        "a = np.array([[1, 2], [3, 4]])\n",
        " \n",
        "# Creating an array using array\n",
        "# function\n",
        "b = np.array([8, 18])\n",
        " \n",
        "print((\"Solution of linear equations:\", \n",
        "      np.linalg.solve(a, b)))"
      ],
      "metadata": {
        "colab": {
          "base_uri": "https://localhost:8080/"
        },
        "id": "moKPhqufsDUL",
        "outputId": "04c316ae-dd29-43ec-aea2-8b5cd4d8b66b"
      },
      "execution_count": null,
      "outputs": [
        {
          "output_type": "stream",
          "name": "stdout",
          "text": [
            "('Solution of linear equations:', array([2., 3.]))\n"
          ]
        }
      ]
    },
    {
      "cell_type": "code",
      "source": [
        "import numpy as np\n",
        "import matplotlib.pyplot as plt\n",
        " \n",
        "# x co-ordinates\n",
        "x = np.arange(0, 9)\n",
        "A = np.array([x, np.ones(9)])\n",
        " \n",
        "# linearly generated sequence\n",
        "y = [19, 20, 20.5, 21.5, 22, 23, 23, 25.5, 24]\n",
        "# obtaining the parameters of regression line\n",
        "w = np.linalg.lstsq(A.T, y)[0] \n",
        " \n",
        "# plotting the line\n",
        "line = w[0]*x + w[1] # regression line\n",
        "plt.plot(x, line, 'r-')\n",
        "plt.plot(x, y, 'o')\n",
        "plt.show()"
      ],
      "metadata": {
        "colab": {
          "base_uri": "https://localhost:8080/",
          "height": 340
        },
        "id": "wLdIsvGPsJse",
        "outputId": "0fd951c9-0377-4f12-997a-3bbaca06fb29"
      },
      "execution_count": null,
      "outputs": [
        {
          "output_type": "stream",
          "name": "stderr",
          "text": [
            "/usr/local/lib/python3.7/dist-packages/ipykernel_launcher.py:11: FutureWarning: `rcond` parameter will change to the default of machine precision times ``max(M, N)`` where M and N are the input matrix dimensions.\n",
            "To use the future default and silence this warning we advise to pass `rcond=None`, to keep using the old, explicitly pass `rcond=-1`.\n",
            "  # This is added back by InteractiveShellApp.init_path()\n"
          ]
        },
        {
          "output_type": "display_data",
          "data": {
            "text/plain": [
              "<Figure size 432x288 with 1 Axes>"
            ],
            "image/png": "[encoded data removed]"
          },
          "metadata": {
            "needs_background": "light"
          }
        }
      ]
    },
    {
      "cell_type": "code",
      "source": [
        "import numpy as np\n",
        " \n",
        "# sort along the first axis\n",
        "a = np.array([[12, 15], [10, 1]])\n",
        "arr1 = np.sort(a, axis = 0)        \n",
        "print (\"Along first axis : \\n\", arr1)        \n",
        " \n",
        " \n",
        "# sort along the last axis\n",
        "a = np.array([[10, 15], [12, 1]])\n",
        "arr2 = np.sort(a, axis = -1)        \n",
        "print (\"\\nAlong first axis : \\n\", arr2)\n",
        " \n",
        " \n",
        "a = np.array([[12, 15], [10, 1]])\n",
        "arr1 = np.sort(a, axis = None)        \n",
        "print (\"\\nAlong none axis : \\n\", arr1)"
      ],
      "metadata": {
        "colab": {
          "base_uri": "https://localhost:8080/"
        },
        "id": "9GU9Q6wqrCKK",
        "outputId": "b9eef6d7-e365-45b4-f3ac-85c68836e61c"
      },
      "execution_count": null,
      "outputs": [
        {
          "output_type": "stream",
          "name": "stdout",
          "text": [
            "Along first axis : \n",
            " [[10  1]\n",
            " [12 15]]\n",
            "\n",
            "Along first axis : \n",
            " [[10 15]\n",
            " [ 1 12]]\n",
            "\n",
            "Along none axis : \n",
            " [ 1 10 12 15]\n"
          ]
        }
      ]
    },
    {
      "cell_type": "code",
      "source": [
        "import numpy as np\n",
        " \n",
        "# Numpy array created\n",
        "a = np.array([9, 3, 1, 7, 4, 3, 6])\n",
        " \n",
        "# unsorted array print\n",
        "print('Original array:\\n', a)\n",
        " \n",
        "# Sort array indices\n",
        "b = np.argsort(a)\n",
        "print('Sorted indices of original array->', b)\n",
        " \n",
        "# To get sorted array using sorted indices\n",
        "# c is temp array created of same len as of b\n",
        "c = np.zeros(len(b), dtype = int)\n",
        "for i in range(0, len(b)):\n",
        "    c[i]= a[b[i]]\n",
        "print('Sorted array->', c)"
      ],
      "metadata": {
        "colab": {
          "base_uri": "https://localhost:8080/"
        },
        "id": "cbB6JPqarS8h",
        "outputId": "33b36dbd-4320-43ed-bd4f-05d765f9ea89"
      },
      "execution_count": null,
      "outputs": [
        {
          "output_type": "stream",
          "name": "stdout",
          "text": [
            "Original array:\n",
            " [9 3 1 7 4 3 6]\n",
            "Sorted indices of original array-> [2 1 5 4 6 3 0]\n",
            "Sorted array-> [1 3 3 4 6 7 9]\n"
          ]
        }
      ]
    },
    {
      "cell_type": "code",
      "source": [
        "import numpy as np\n",
        " \n",
        "# Numpy array created\n",
        "# First column\n",
        "a = np.array([9, 3, 1, 3, 4, 3, 6])\n",
        " \n",
        "# Second column \n",
        "b = np.array([4, 6, 9, 2, 1, 8, 7]) \n",
        "print('column a, column b')\n",
        "for (i, j) in zip(a, b):\n",
        "    print(i, ' ', j)\n",
        " \n",
        "# Sort by a then by b\n",
        "ind = np.lexsort((b, a)) \n",
        "print('Sorted indices->', ind)"
      ],
      "metadata": {
        "colab": {
          "base_uri": "https://localhost:8080/"
        },
        "id": "VqFuhjR5rpdm",
        "outputId": "a78e3ffe-daa0-4b8a-ff9d-b6647350f152"
      },
      "execution_count": null,
      "outputs": [
        {
          "output_type": "stream",
          "name": "stdout",
          "text": [
            "column a, column b\n",
            "9   4\n",
            "3   6\n",
            "1   9\n",
            "3   2\n",
            "4   1\n",
            "3   8\n",
            "6   7\n",
            "Sorted indices-> [2 3 1 5 4 6 0]\n"
          ]
        }
      ]
    },
    {
      "cell_type": "code",
      "source": [
        "import numpy as geek \n",
        " \n",
        "# Working on 2D array\n",
        "array = geek.arange(12).reshape(3, 4)\n",
        "print(\"INPUT ARRAY : \\n\", array)\n",
        " \n",
        "# No axis mentioned, so works on entire array\n",
        "print(\"\\nMax element : \", geek.argmax(array))\n",
        " \n",
        "# returning Indices of the max element\n",
        "# as per the indices\n",
        "print((\"\\nIndices of Max element : \"\n",
        "      , geek.argmax(array, axis=0)))\n",
        "print((\"\\nIndices of Max element : \"\n",
        "      , geek.argmax(array, axis=1)))"
      ],
      "metadata": {
        "colab": {
          "base_uri": "https://localhost:8080/"
        },
        "id": "eofFPjcprt-Y",
        "outputId": "3aad35a0-46db-4e53-a797-69d537249aa1"
      },
      "execution_count": null,
      "outputs": [
        {
          "output_type": "stream",
          "name": "stdout",
          "text": [
            "INPUT ARRAY : \n",
            " [[ 0  1  2  3]\n",
            " [ 4  5  6  7]\n",
            " [ 8  9 10 11]]\n",
            "\n",
            "Max element :  11\n",
            "('\\nIndices of Max element : ', array([2, 2, 2, 2]))\n",
            "('\\nIndices of Max element : ', array([3, 3, 3]))\n"
          ]
        }
      ]
    },
    {
      "cell_type": "code",
      "source": [
        "import numpy as geek \n",
        " \n",
        "# Working on 1D array\n",
        "array = [geek.nan, 4, 2, 3, 1]\n",
        "print(\"INPUT ARRAY 1 : \\n\", array)\n",
        " \n",
        "array2 = geek.array([[geek.nan, 4], [1, 3]])\n",
        " \n",
        "# returning Indices of the max element\n",
        "# as per the indices ingnoring NaN\n",
        "print((\"\\nIndices of max in array1 : \"\n",
        "       , geek.nanargmax(array)))\n",
        " \n",
        "# Working on 2D array\n",
        "print(\"\\nINPUT ARRAY 2 : \\n\", array2)\n",
        "print((\"\\nIndices of max in array2 : \"\n",
        "      , geek.nanargmax(array2)))\n",
        " \n",
        "print((\"\\nIndices at axis 1 of array2 : \"\n",
        "      , geek.nanargmax(array2, axis = 1)))"
      ],
      "metadata": {
        "colab": {
          "base_uri": "https://localhost:8080/"
        },
        "id": "r9JTB7hGrylv",
        "outputId": "d2f6f97b-680d-421c-8065-84def70f6f7a"
      },
      "execution_count": null,
      "outputs": [
        {
          "output_type": "stream",
          "name": "stdout",
          "text": [
            "INPUT ARRAY 1 : \n",
            " [nan, 4, 2, 3, 1]\n",
            "('\\nIndices of max in array1 : ', 1)\n",
            "\n",
            "INPUT ARRAY 2 : \n",
            " [[nan  4.]\n",
            " [ 1.  3.]]\n",
            "('\\nIndices of max in array2 : ', 1)\n",
            "('\\nIndices at axis 1 of array2 : ', array([1, 1]))\n"
          ]
        }
      ]
    },
    {
      "cell_type": "code",
      "source": [
        "import numpy as geek \n",
        " \n",
        "# Working on 1D array\n",
        "array = geek.arange(8)\n",
        "print(\"INPUT ARRAY : \\n\", array)\n",
        " \n",
        " \n",
        "# returning Indices of the min element\n",
        "# as per the indices\n",
        "print(\"\\nIndices of min element : \", geek.argmin(array, axis=0))"
      ],
      "metadata": {
        "colab": {
          "base_uri": "https://localhost:8080/"
        },
        "id": "JEKyfPPDr3sS",
        "outputId": "7a57f7cc-cd99-4a84-87db-f97977590abd"
      },
      "execution_count": null,
      "outputs": [
        {
          "output_type": "stream",
          "name": "stdout",
          "text": [
            "INPUT ARRAY : \n",
            " [0 1 2 3 4 5 6 7]\n",
            "\n",
            "Indices of min element :  0\n"
          ]
        }
      ]
    },
    {
      "cell_type": "code",
      "source": [
        "import numpy as np\n",
        "  \n",
        "# create an array of angles\n",
        "angles = np.array([0, 30, 45, 60, 90, 180]) \n",
        "  \n",
        "# conversion of degree into radians\n",
        "# using deg2rad function\n",
        "radians = np.deg2rad(angles)\n",
        "  \n",
        "# sine of angles\n",
        "print('Sine of angles in the array:')\n",
        "sine_value = np.sin(radians)\n",
        "print(np.sin(radians))\n",
        "  \n",
        "# inverse sine of sine values\n",
        "print('Inverse Sine of sine values:')\n",
        "print(np.rad2deg(np.arcsin(sine_value)))\n",
        "  \n",
        "# hyperbolic sine of angles\n",
        "print('Sine hyperbolic of angles in the array:')\n",
        "sineh_value = np.sinh(radians)\n",
        "print(np.sinh(radians))\n",
        "  \n",
        "# inverse sine hyperbolic \n",
        "print('Inverse Sine hyperbolic:')\n",
        "print(np.sin(sineh_value)) \n",
        "  \n",
        "# hypot function demonstration\n",
        "base = 4\n",
        "height = 3\n",
        "print('hypotenuse of right triangle is:')\n",
        "print(np.hypot(base, height))"
      ],
      "metadata": {
        "colab": {
          "base_uri": "https://localhost:8080/"
        },
        "id": "afeOLvJYCO65",
        "outputId": "86163fc7-d61e-4143-d45e-8c29a00a30c4"
      },
      "execution_count": null,
      "outputs": [
        {
          "output_type": "stream",
          "name": "stdout",
          "text": [
            "Sine of angles in the array:\n",
            "[0.00000000e+00 5.00000000e-01 7.07106781e-01 8.66025404e-01\n",
            " 1.00000000e+00 1.22464680e-16]\n",
            "Inverse Sine of sine values:\n",
            "[0.0000000e+00 3.0000000e+01 4.5000000e+01 6.0000000e+01 9.0000000e+01\n",
            " 7.0167093e-15]\n",
            "Sine hyperbolic of angles in the array:\n",
            "[ 0.          0.54785347  0.86867096  1.24936705  2.3012989  11.54873936]\n",
            "Inverse Sine hyperbolic:\n",
            "[ 0.          0.52085606  0.76347126  0.94878485  0.74483916 -0.85086591]\n",
            "hypotenuse of right triangle is:\n",
            "5.0\n"
          ]
        }
      ]
    },
    {
      "cell_type": "code",
      "source": [
        "import numpy as np\n",
        "  \n",
        "# construct a weight array\n",
        "weight = np.array([50.7, 52.5, 50, 58, 55.63, 73.25, 49.5, 45])\n",
        "  \n",
        "# minimum and maximum \n",
        "print('Minimum and maximum weight of the students: ')\n",
        "print(np.amin(weight), np.amax(weight))\n",
        "  \n",
        "# range of weight i.e. max weight-min weight\n",
        "print('Range of the weight of the students: ')\n",
        "print(np.ptp(weight))\n",
        "  \n",
        "# percentile\n",
        "print('Weight below which 70 % student fall: ')\n",
        "print(np.percentile(weight, 70))\n",
        "   \n",
        "# mean \n",
        "print('Mean weight of the students: ')\n",
        "print(np.mean(weight))\n",
        "  \n",
        "# median \n",
        "print('Median weight of the students: ')\n",
        "print(np.median(weight))\n",
        "  \n",
        "# standard deviation \n",
        "print('Standard deviation of weight of the students: ')\n",
        "print(np.std(weight))\n",
        "  \n",
        "# variance \n",
        "print('Variance of weight of the students: ')\n",
        "print(np.var(weight))\n",
        "  \n",
        "# average \n",
        "print('Average weight of the students: ')\n",
        "print(np.average(weight))"
      ],
      "metadata": {
        "colab": {
          "base_uri": "https://localhost:8080/"
        },
        "id": "KhWT1IaSCVtA",
        "outputId": "f4b442c5-cb50-4c0f-8bd7-11270d821e72"
      },
      "execution_count": null,
      "outputs": [
        {
          "output_type": "stream",
          "name": "stdout",
          "text": [
            "Minimum and maximum weight of the students: \n",
            "45.0 73.25\n",
            "Range of the weight of the students: \n",
            "28.25\n",
            "Weight below which 70 % student fall: \n",
            "55.317\n",
            "Mean weight of the students: \n",
            "54.3225\n",
            "Median weight of the students: \n",
            "51.6\n",
            "Standard deviation of weight of the students: \n",
            "8.052773978574091\n",
            "Variance of weight of the students: \n",
            "64.84716875\n",
            "Average weight of the students: \n",
            "54.3225\n"
          ]
        }
      ]
    },
    {
      "cell_type": "code",
      "source": [
        "import numpy as np\n",
        "  \n",
        "# construct an array of even and odd numbers\n",
        "even = np.array([0, 2, 4, 6, 8, 16, 32])\n",
        "odd = np.array([1, 3, 5, 7, 9, 17, 33])\n",
        "  \n",
        "# bitwise_and\n",
        "print('bitwise_and of two arrays: ')\n",
        "print(np.bitwise_and(even, odd))\n",
        "  \n",
        "# bitwise_or\n",
        "print('bitwise_or of two arrays: ')\n",
        "print(np.bitwise_or(even, odd))\n",
        "  \n",
        "# bitwise_xor\n",
        "print('bitwise_xor of two arrays: ')\n",
        "print(np.bitwise_xor(even, odd))\n",
        "   \n",
        "# invert or not\n",
        "print('inversion of even no. array: ')\n",
        "print(np.invert(even))\n",
        "  \n",
        "# left_shift \n",
        "print('left_shift of even no. array: ')\n",
        "print(np.left_shift(even, 1))\n",
        "  \n",
        "# right_shift \n",
        "print('right_shift of even no. array: ')\n",
        "print(np.right_shift(even, 1))"
      ],
      "metadata": {
        "colab": {
          "base_uri": "https://localhost:8080/"
        },
        "id": "YLRLTdE9Cbu9",
        "outputId": "ce0eb766-b12d-403c-cac5-82302b293022"
      },
      "execution_count": null,
      "outputs": [
        {
          "output_type": "stream",
          "name": "stdout",
          "text": [
            "bitwise_and of two arrays: \n",
            "[ 0  2  4  6  8 16 32]\n",
            "bitwise_or of two arrays: \n",
            "[ 1  3  5  7  9 17 33]\n",
            "bitwise_xor of two arrays: \n",
            "[1 1 1 1 1 1 1]\n",
            "inversion of even no. array: \n",
            "[ -1  -3  -5  -7  -9 -17 -33]\n",
            "left_shift of even no. array: \n",
            "[ 0  4  8 12 16 32 64]\n",
            "right_shift of even no. array: \n",
            "[ 0  1  2  3  4  8 16]\n"
          ]
        }
      ]
    },
    {
      "cell_type": "code",
      "source": [
        "import pandas as pd\n",
        " \n",
        "# Define a dictionary containing employee data\n",
        "data = {'Name':['Jai', 'Princi', 'Gaurav', 'Anuj'],\n",
        "        'Age':[27, 24, 22, 32],\n",
        "        'Address':['Delhi', 'Kanpur', 'Allahabad', 'Kannauj'],\n",
        "        'Qualification':['Msc', 'MA', 'MCA', 'Phd']}\n",
        " \n",
        "# Convert the dictionary into DataFrame \n",
        "df = pd.DataFrame(data)\n",
        " \n",
        "# select two columns\n",
        "print(df[['Name', 'Qualification']])"
      ],
      "metadata": {
        "colab": {
          "base_uri": "https://localhost:8080/"
        },
        "id": "V1Kf8s_SCoIs",
        "outputId": "ff8ed5aa-6407-45df-febb-8fb04d23025d"
      },
      "execution_count": null,
      "outputs": [
        {
          "output_type": "stream",
          "name": "stdout",
          "text": [
            "     Name Qualification\n",
            "0     Jai           Msc\n",
            "1  Princi            MA\n",
            "2  Gaurav           MCA\n",
            "3    Anuj           Phd\n"
          ]
        }
      ]
    },
    {
      "cell_type": "code",
      "source": [
        "import pandas as pd\n",
        " \n",
        "# importing numpy as np\n",
        "import numpy as np\n",
        " \n",
        "# dictionary of lists\n",
        "dict = {'First Score':[100, 90, np.nan, 95],\n",
        "        'Second Score': [30, 45, 56, np.nan],\n",
        "        'Third Score':[np.nan, 40, 80, 98]}\n",
        " \n",
        "# creating a dataframe from list\n",
        "df = pd.DataFrame(dict)\n",
        " \n",
        "# using isnull() function  \n",
        "df.isnull()"
      ],
      "metadata": {
        "id": "mUtvw7M8C02M",
        "outputId": "72d129e6-9106-47a6-acff-2dbcf7ec4030",
        "colab": {
          "base_uri": "https://localhost:8080/",
          "height": 175
        }
      },
      "execution_count": null,
      "outputs": [
        {
          "output_type": "execute_result",
          "data": {
            "text/plain": [
              "   First Score  Second Score  Third Score\n",
              "0        False         False         True\n",
              "1        False         False        False\n",
              "2         True         False        False\n",
              "3        False          True        False"
            ],
            "text/html": [
              "\n",
              "  <div id=\"df-d3c22e55-ec8a-4eb7-a3b9-ed64935eb572\">\n",
              "    <div class=\"colab-df-container\">\n",
              "      <div>\n",
              "<style scoped>\n",
              "    .dataframe tbody tr th:only-of-type {\n",
              "        vertical-align: middle;\n",
              "    }\n",
              "\n",
              "    .dataframe tbody tr th {\n",
              "        vertical-align: top;\n",
              "    }\n",
              "\n",
              "    .dataframe thead th {\n",
              "        text-align: right;\n",
              "    }\n",
              "</style>\n",
              "<table border=\"1\" class=\"dataframe\">\n",
              "  <thead>\n",
              "    <tr style=\"text-align: right;\">\n",
              "      <th></th>\n",
              "      <th>First Score</th>\n",
              "      <th>Second Score</th>\n",
              "      <th>Third Score</th>\n",
              "    </tr>\n",
              "  </thead>\n",
              "  <tbody>\n",
              "    <tr>\n",
              "      <th>0</th>\n",
              "      <td>False</td>\n",
              "      <td>False</td>\n",
              "      <td>True</td>\n",
              "    </tr>\n",
              "    <tr>\n",
              "      <th>1</th>\n",
              "      <td>False</td>\n",
              "      <td>False</td>\n",
              "      <td>False</td>\n",
              "    </tr>\n",
              "    <tr>\n",
              "      <th>2</th>\n",
              "      <td>True</td>\n",
              "      <td>False</td>\n",
              "      <td>False</td>\n",
              "    </tr>\n",
              "    <tr>\n",
              "      <th>3</th>\n",
              "      <td>False</td>\n",
              "      <td>True</td>\n",
              "      <td>False</td>\n",
              "    </tr>\n",
              "  </tbody>\n",
              "</table>\n",
              "</div>\n",
              "      <button class=\"colab-df-convert\" onclick=\"convertToInteractive('df-d3c22e55-ec8a-4eb7-a3b9-ed64935eb572')\"\n",
              "              title=\"Convert this dataframe to an interactive table.\"\n",
              "              style=\"display:none;\">\n",
              "        \n",
              "  <svg xmlns=\"http://www.w3.org/2000/svg\" height=\"24px\"viewBox=\"0 0 24 24\"\n",
              "       width=\"24px\">\n",
              "    <path d=\"M0 0h24v24H0V0z\" fill=\"none\"/>\n",
              "    <path d=\"M18.56 5.44l.94 2.06.94-2.06 2.06-.94-2.06-.94-.94-2.06-.94 2.06-2.06.94zm-11 1L8.5 8.5l.94-2.06 2.06-.94-2.06-.94L8.5 2.5l-.94 2.06-2.06.94zm10 10l.94 2.06.94-2.06 2.06-.94-2.06-.94-.94-2.06-.94 2.06-2.06.94z\"/><path d=\"M17.41 7.96l-1.37-1.37c-.4-.4-.92-.59-1.43-.59-.52 0-1.04.2-1.43.59L10.3 9.45l-7.72 7.72c-.78.78-.78 2.05 0 2.83L4 21.41c.39.39.9.59 1.41.59.51 0 1.02-.2 1.41-.59l7.78-7.78 2.81-2.81c.8-.78.8-2.07 0-2.86zM5.41 20L4 18.59l7.72-7.72 1.47 1.35L5.41 20z\"/>\n",
              "  </svg>\n",
              "      </button>\n",
              "      \n",
              "  <style>\n",
              "    .colab-df-container {\n",
              "      display:flex;\n",
              "      flex-wrap:wrap;\n",
              "      gap: 12px;\n",
              "    }\n",
              "\n",
              "    .colab-df-convert {\n",
              "      background-color: #E8F0FE;\n",
              "      border: none;\n",
              "      border-radius: 50%;\n",
              "      cursor: pointer;\n",
              "      display: none;\n",
              "      fill: #1967D2;\n",
              "      height: 32px;\n",
              "      padding: 0 0 0 0;\n",
              "      width: 32px;\n",
              "    }\n",
              "\n",
              "    .colab-df-convert:hover {\n",
              "      background-color: #E2EBFA;\n",
              "      box-shadow: 0px 1px 2px rgba(60, 64, 67, 0.3), 0px 1px 3px 1px rgba(60, 64, 67, 0.15);\n",
              "      fill: #174EA6;\n",
              "    }\n",
              "\n",
              "    [theme=dark] .colab-df-convert {\n",
              "      background-color: #3B4455;\n",
              "      fill: #D2E3FC;\n",
              "    }\n",
              "\n",
              "    [theme=dark] .colab-df-convert:hover {\n",
              "      background-color: #434B5C;\n",
              "      box-shadow: 0px 1px 3px 1px rgba(0, 0, 0, 0.15);\n",
              "      filter: drop-shadow(0px 1px 2px rgba(0, 0, 0, 0.3));\n",
              "      fill: #FFFFFF;\n",
              "    }\n",
              "  </style>\n",
              "\n",
              "      <script>\n",
              "        const buttonEl =\n",
              "          document.querySelector('#df-d3c22e55-ec8a-4eb7-a3b9-ed64935eb572 button.colab-df-convert');\n",
              "        buttonEl.style.display =\n",
              "          google.colab.kernel.accessAllowed ? 'block' : 'none';\n",
              "\n",
              "        async function convertToInteractive(key) {\n",
              "          const element = document.querySelector('#df-d3c22e55-ec8a-4eb7-a3b9-ed64935eb572');\n",
              "          const dataTable =\n",
              "            await google.colab.kernel.invokeFunction('convertToInteractive',\n",
              "                                                     [key], {});\n",
              "          if (!dataTable) return;\n",
              "\n",
              "          const docLinkHtml = 'Like what you see? Visit the ' +\n",
              "            '<a target=\"_blank\" href=https://colab.research.google.com/notebooks/data_table.ipynb>data table notebook</a>'\n",
              "            + ' to learn more about interactive tables.';\n",
              "          element.innerHTML = '';\n",
              "          dataTable['output_type'] = 'display_data';\n",
              "          await google.colab.output.renderOutput(dataTable, element);\n",
              "          const docLink = document.createElement('div');\n",
              "          docLink.innerHTML = docLinkHtml;\n",
              "          element.appendChild(docLink);\n",
              "        }\n",
              "      </script>\n",
              "    </div>\n",
              "  </div>\n",
              "  "
            ]
          },
          "metadata": {},
          "execution_count": 13
        }
      ]
    },
    {
      "cell_type": "code",
      "source": [
        "# importing pandas as pd\n",
        "import pandas as pd\n",
        " \n",
        "# importing numpy as np\n",
        "import numpy as np\n",
        " \n",
        "# dictionary of lists\n",
        "dict = {'First Score':[100, 90, np.nan, 95],\n",
        "        'Second Score': [30, 45, 56, np.nan],\n",
        "        'Third Score':[np.nan, 40, 80, 98]}\n",
        " \n",
        "# creating a dataframe from dictionary\n",
        "df = pd.DataFrame(dict)\n",
        " \n",
        "# filling missing value using fillna()  \n",
        "df.fillna(0)"
      ],
      "metadata": {
        "colab": {
          "base_uri": "https://localhost:8080/",
          "height": 175
        },
        "id": "0mgONQfTwxq_",
        "outputId": "53a497b6-2e23-4c63-c8f8-689eab72807f"
      },
      "execution_count": null,
      "outputs": [
        {
          "output_type": "execute_result",
          "data": {
            "text/plain": [
              "   First Score  Second Score  Third Score\n",
              "0        100.0          30.0          0.0\n",
              "1         90.0          45.0         40.0\n",
              "2          0.0          56.0         80.0\n",
              "3         95.0           0.0         98.0"
            ],
            "text/html": [
              "\n",
              "  <div id=\"df-95c5bfca-011c-461e-9dcf-04e088926678\">\n",
              "    <div class=\"colab-df-container\">\n",
              "      <div>\n",
              "<style scoped>\n",
              "    .dataframe tbody tr th:only-of-type {\n",
              "        vertical-align: middle;\n",
              "    }\n",
              "\n",
              "    .dataframe tbody tr th {\n",
              "        vertical-align: top;\n",
              "    }\n",
              "\n",
              "    .dataframe thead th {\n",
              "        text-align: right;\n",
              "    }\n",
              "</style>\n",
              "<table border=\"1\" class=\"dataframe\">\n",
              "  <thead>\n",
              "    <tr style=\"text-align: right;\">\n",
              "      <th></th>\n",
              "      <th>First Score</th>\n",
              "      <th>Second Score</th>\n",
              "      <th>Third Score</th>\n",
              "    </tr>\n",
              "  </thead>\n",
              "  <tbody>\n",
              "    <tr>\n",
              "      <th>0</th>\n",
              "      <td>100.0</td>\n",
              "      <td>30.0</td>\n",
              "      <td>0.0</td>\n",
              "    </tr>\n",
              "    <tr>\n",
              "      <th>1</th>\n",
              "      <td>90.0</td>\n",
              "      <td>45.0</td>\n",
              "      <td>40.0</td>\n",
              "    </tr>\n",
              "    <tr>\n",
              "      <th>2</th>\n",
              "      <td>0.0</td>\n",
              "      <td>56.0</td>\n",
              "      <td>80.0</td>\n",
              "    </tr>\n",
              "    <tr>\n",
              "      <th>3</th>\n",
              "      <td>95.0</td>\n",
              "      <td>0.0</td>\n",
              "      <td>98.0</td>\n",
              "    </tr>\n",
              "  </tbody>\n",
              "</table>\n",
              "</div>\n",
              "      <button class=\"colab-df-convert\" onclick=\"convertToInteractive('df-95c5bfca-011c-461e-9dcf-04e088926678')\"\n",
              "              title=\"Convert this dataframe to an interactive table.\"\n",
              "              style=\"display:none;\">\n",
              "        \n",
              "  <svg xmlns=\"http://www.w3.org/2000/svg\" height=\"24px\"viewBox=\"0 0 24 24\"\n",
              "       width=\"24px\">\n",
              "    <path d=\"M0 0h24v24H0V0z\" fill=\"none\"/>\n",
              "    <path d=\"M18.56 5.44l.94 2.06.94-2.06 2.06-.94-2.06-.94-.94-2.06-.94 2.06-2.06.94zm-11 1L8.5 8.5l.94-2.06 2.06-.94-2.06-.94L8.5 2.5l-.94 2.06-2.06.94zm10 10l.94 2.06.94-2.06 2.06-.94-2.06-.94-.94-2.06-.94 2.06-2.06.94z\"/><path d=\"M17.41 7.96l-1.37-1.37c-.4-.4-.92-.59-1.43-.59-.52 0-1.04.2-1.43.59L10.3 9.45l-7.72 7.72c-.78.78-.78 2.05 0 2.83L4 21.41c.39.39.9.59 1.41.59.51 0 1.02-.2 1.41-.59l7.78-7.78 2.81-2.81c.8-.78.8-2.07 0-2.86zM5.41 20L4 18.59l7.72-7.72 1.47 1.35L5.41 20z\"/>\n",
              "  </svg>\n",
              "      </button>\n",
              "      \n",
              "  <style>\n",
              "    .colab-df-container {\n",
              "      display:flex;\n",
              "      flex-wrap:wrap;\n",
              "      gap: 12px;\n",
              "    }\n",
              "\n",
              "    .colab-df-convert {\n",
              "      background-color: #E8F0FE;\n",
              "      border: none;\n",
              "      border-radius: 50%;\n",
              "      cursor: pointer;\n",
              "      display: none;\n",
              "      fill: #1967D2;\n",
              "      height: 32px;\n",
              "      padding: 0 0 0 0;\n",
              "      width: 32px;\n",
              "    }\n",
              "\n",
              "    .colab-df-convert:hover {\n",
              "      background-color: #E2EBFA;\n",
              "      box-shadow: 0px 1px 2px rgba(60, 64, 67, 0.3), 0px 1px 3px 1px rgba(60, 64, 67, 0.15);\n",
              "      fill: #174EA6;\n",
              "    }\n",
              "\n",
              "    [theme=dark] .colab-df-convert {\n",
              "      background-color: #3B4455;\n",
              "      fill: #D2E3FC;\n",
              "    }\n",
              "\n",
              "    [theme=dark] .colab-df-convert:hover {\n",
              "      background-color: #434B5C;\n",
              "      box-shadow: 0px 1px 3px 1px rgba(0, 0, 0, 0.15);\n",
              "      filter: drop-shadow(0px 1px 2px rgba(0, 0, 0, 0.3));\n",
              "      fill: #FFFFFF;\n",
              "    }\n",
              "  </style>\n",
              "\n",
              "      <script>\n",
              "        const buttonEl =\n",
              "          document.querySelector('#df-95c5bfca-011c-461e-9dcf-04e088926678 button.colab-df-convert');\n",
              "        buttonEl.style.display =\n",
              "          google.colab.kernel.accessAllowed ? 'block' : 'none';\n",
              "\n",
              "        async function convertToInteractive(key) {\n",
              "          const element = document.querySelector('#df-95c5bfca-011c-461e-9dcf-04e088926678');\n",
              "          const dataTable =\n",
              "            await google.colab.kernel.invokeFunction('convertToInteractive',\n",
              "                                                     [key], {});\n",
              "          if (!dataTable) return;\n",
              "\n",
              "          const docLinkHtml = 'Like what you see? Visit the ' +\n",
              "            '<a target=\"_blank\" href=https://colab.research.google.com/notebooks/data_table.ipynb>data table notebook</a>'\n",
              "            + ' to learn more about interactive tables.';\n",
              "          element.innerHTML = '';\n",
              "          dataTable['output_type'] = 'display_data';\n",
              "          await google.colab.output.renderOutput(dataTable, element);\n",
              "          const docLink = document.createElement('div');\n",
              "          docLink.innerHTML = docLinkHtml;\n",
              "          element.appendChild(docLink);\n",
              "        }\n",
              "      </script>\n",
              "    </div>\n",
              "  </div>\n",
              "  "
            ]
          },
          "metadata": {},
          "execution_count": 1
        }
      ]
    },
    {
      "cell_type": "code",
      "source": [
        "import pandas as pd\n",
        " \n",
        "# importing numpy as np\n",
        "import numpy as np\n",
        " \n",
        "# dictionary of lists\n",
        "dict = {'First Score':[100, 90, np.nan, 95],\n",
        "        'Second Score': [30, np.nan, 45, 56],\n",
        "        'Third Score':[52, 40, 80, 98],\n",
        "        'Fourth Score':[np.nan, np.nan, np.nan, 65]}\n",
        " \n",
        "# creating a dataframe from dictionary\n",
        "df = pd.DataFrame(dict)\n",
        "   \n",
        "df"
      ],
      "metadata": {
        "colab": {
          "base_uri": "https://localhost:8080/",
          "height": 175
        },
        "id": "74OsrRd1w37w",
        "outputId": "309cfa70-0700-48a6-debb-cc856ff0d07f"
      },
      "execution_count": null,
      "outputs": [
        {
          "output_type": "execute_result",
          "data": {
            "text/plain": [
              "   First Score  Second Score  Third Score  Fourth Score\n",
              "0        100.0          30.0           52           NaN\n",
              "1         90.0           NaN           40           NaN\n",
              "2          NaN          45.0           80           NaN\n",
              "3         95.0          56.0           98          65.0"
            ],
            "text/html": [
              "\n",
              "  <div id=\"df-7a55a8a6-5b48-4c4b-920f-13e1b860b820\">\n",
              "    <div class=\"colab-df-container\">\n",
              "      <div>\n",
              "<style scoped>\n",
              "    .dataframe tbody tr th:only-of-type {\n",
              "        vertical-align: middle;\n",
              "    }\n",
              "\n",
              "    .dataframe tbody tr th {\n",
              "        vertical-align: top;\n",
              "    }\n",
              "\n",
              "    .dataframe thead th {\n",
              "        text-align: right;\n",
              "    }\n",
              "</style>\n",
              "<table border=\"1\" class=\"dataframe\">\n",
              "  <thead>\n",
              "    <tr style=\"text-align: right;\">\n",
              "      <th></th>\n",
              "      <th>First Score</th>\n",
              "      <th>Second Score</th>\n",
              "      <th>Third Score</th>\n",
              "      <th>Fourth Score</th>\n",
              "    </tr>\n",
              "  </thead>\n",
              "  <tbody>\n",
              "    <tr>\n",
              "      <th>0</th>\n",
              "      <td>100.0</td>\n",
              "      <td>30.0</td>\n",
              "      <td>52</td>\n",
              "      <td>NaN</td>\n",
              "    </tr>\n",
              "    <tr>\n",
              "      <th>1</th>\n",
              "      <td>90.0</td>\n",
              "      <td>NaN</td>\n",
              "      <td>40</td>\n",
              "      <td>NaN</td>\n",
              "    </tr>\n",
              "    <tr>\n",
              "      <th>2</th>\n",
              "      <td>NaN</td>\n",
              "      <td>45.0</td>\n",
              "      <td>80</td>\n",
              "      <td>NaN</td>\n",
              "    </tr>\n",
              "    <tr>\n",
              "      <th>3</th>\n",
              "      <td>95.0</td>\n",
              "      <td>56.0</td>\n",
              "      <td>98</td>\n",
              "      <td>65.0</td>\n",
              "    </tr>\n",
              "  </tbody>\n",
              "</table>\n",
              "</div>\n",
              "      <button class=\"colab-df-convert\" onclick=\"convertToInteractive('df-7a55a8a6-5b48-4c4b-920f-13e1b860b820')\"\n",
              "              title=\"Convert this dataframe to an interactive table.\"\n",
              "              style=\"display:none;\">\n",
              "        \n",
              "  <svg xmlns=\"http://www.w3.org/2000/svg\" height=\"24px\"viewBox=\"0 0 24 24\"\n",
              "       width=\"24px\">\n",
              "    <path d=\"M0 0h24v24H0V0z\" fill=\"none\"/>\n",
              "    <path d=\"M18.56 5.44l.94 2.06.94-2.06 2.06-.94-2.06-.94-.94-2.06-.94 2.06-2.06.94zm-11 1L8.5 8.5l.94-2.06 2.06-.94-2.06-.94L8.5 2.5l-.94 2.06-2.06.94zm10 10l.94 2.06.94-2.06 2.06-.94-2.06-.94-.94-2.06-.94 2.06-2.06.94z\"/><path d=\"M17.41 7.96l-1.37-1.37c-.4-.4-.92-.59-1.43-.59-.52 0-1.04.2-1.43.59L10.3 9.45l-7.72 7.72c-.78.78-.78 2.05 0 2.83L4 21.41c.39.39.9.59 1.41.59.51 0 1.02-.2 1.41-.59l7.78-7.78 2.81-2.81c.8-.78.8-2.07 0-2.86zM5.41 20L4 18.59l7.72-7.72 1.47 1.35L5.41 20z\"/>\n",
              "  </svg>\n",
              "      </button>\n",
              "      \n",
              "  <style>\n",
              "    .colab-df-container {\n",
              "      display:flex;\n",
              "      flex-wrap:wrap;\n",
              "      gap: 12px;\n",
              "    }\n",
              "\n",
              "    .colab-df-convert {\n",
              "      background-color: #E8F0FE;\n",
              "      border: none;\n",
              "      border-radius: 50%;\n",
              "      cursor: pointer;\n",
              "      display: none;\n",
              "      fill: #1967D2;\n",
              "      height: 32px;\n",
              "      padding: 0 0 0 0;\n",
              "      width: 32px;\n",
              "    }\n",
              "\n",
              "    .colab-df-convert:hover {\n",
              "      background-color: #E2EBFA;\n",
              "      box-shadow: 0px 1px 2px rgba(60, 64, 67, 0.3), 0px 1px 3px 1px rgba(60, 64, 67, 0.15);\n",
              "      fill: #174EA6;\n",
              "    }\n",
              "\n",
              "    [theme=dark] .colab-df-convert {\n",
              "      background-color: #3B4455;\n",
              "      fill: #D2E3FC;\n",
              "    }\n",
              "\n",
              "    [theme=dark] .colab-df-convert:hover {\n",
              "      background-color: #434B5C;\n",
              "      box-shadow: 0px 1px 3px 1px rgba(0, 0, 0, 0.15);\n",
              "      filter: drop-shadow(0px 1px 2px rgba(0, 0, 0, 0.3));\n",
              "      fill: #FFFFFF;\n",
              "    }\n",
              "  </style>\n",
              "\n",
              "      <script>\n",
              "        const buttonEl =\n",
              "          document.querySelector('#df-7a55a8a6-5b48-4c4b-920f-13e1b860b820 button.colab-df-convert');\n",
              "        buttonEl.style.display =\n",
              "          google.colab.kernel.accessAllowed ? 'block' : 'none';\n",
              "\n",
              "        async function convertToInteractive(key) {\n",
              "          const element = document.querySelector('#df-7a55a8a6-5b48-4c4b-920f-13e1b860b820');\n",
              "          const dataTable =\n",
              "            await google.colab.kernel.invokeFunction('convertToInteractive',\n",
              "                                                     [key], {});\n",
              "          if (!dataTable) return;\n",
              "\n",
              "          const docLinkHtml = 'Like what you see? Visit the ' +\n",
              "            '<a target=\"_blank\" href=https://colab.research.google.com/notebooks/data_table.ipynb>data table notebook</a>'\n",
              "            + ' to learn more about interactive tables.';\n",
              "          element.innerHTML = '';\n",
              "          dataTable['output_type'] = 'display_data';\n",
              "          await google.colab.output.renderOutput(dataTable, element);\n",
              "          const docLink = document.createElement('div');\n",
              "          docLink.innerHTML = docLinkHtml;\n",
              "          element.appendChild(docLink);\n",
              "        }\n",
              "      </script>\n",
              "    </div>\n",
              "  </div>\n",
              "  "
            ]
          },
          "metadata": {},
          "execution_count": 2
        }
      ]
    },
    {
      "cell_type": "code",
      "source": [
        "import pandas as pd\n",
        " \n",
        "# importing numpy as np\n",
        "import numpy as np\n",
        " \n",
        "# dictionary of lists\n",
        "dict = {'First Score':[100, 90, np.nan, 95],\n",
        "        'Second Score': [30, np.nan, 45, 56],\n",
        "        'Third Score':[52, 40, 80, 98],\n",
        "        'Fourth Score':[np.nan, np.nan, np.nan, 65]}\n",
        " \n",
        "# creating a dataframe from dictionary\n",
        "df = pd.DataFrame(dict)\n",
        " \n",
        "# using dropna() function  \n",
        "df.dropna()"
      ],
      "metadata": {
        "colab": {
          "base_uri": "https://localhost:8080/",
          "height": 81
        },
        "id": "GvfWVQVow8w4",
        "outputId": "ec4f6f09-dddf-49d4-9e3a-2ac9bd3f104a"
      },
      "execution_count": null,
      "outputs": [
        {
          "output_type": "execute_result",
          "data": {
            "text/plain": [
              "   First Score  Second Score  Third Score  Fourth Score\n",
              "3         95.0          56.0           98          65.0"
            ],
            "text/html": [
              "\n",
              "  <div id=\"df-947def01-4cfd-4ed7-b4a9-e6e557fdeb1a\">\n",
              "    <div class=\"colab-df-container\">\n",
              "      <div>\n",
              "<style scoped>\n",
              "    .dataframe tbody tr th:only-of-type {\n",
              "        vertical-align: middle;\n",
              "    }\n",
              "\n",
              "    .dataframe tbody tr th {\n",
              "        vertical-align: top;\n",
              "    }\n",
              "\n",
              "    .dataframe thead th {\n",
              "        text-align: right;\n",
              "    }\n",
              "</style>\n",
              "<table border=\"1\" class=\"dataframe\">\n",
              "  <thead>\n",
              "    <tr style=\"text-align: right;\">\n",
              "      <th></th>\n",
              "      <th>First Score</th>\n",
              "      <th>Second Score</th>\n",
              "      <th>Third Score</th>\n",
              "      <th>Fourth Score</th>\n",
              "    </tr>\n",
              "  </thead>\n",
              "  <tbody>\n",
              "    <tr>\n",
              "      <th>3</th>\n",
              "      <td>95.0</td>\n",
              "      <td>56.0</td>\n",
              "      <td>98</td>\n",
              "      <td>65.0</td>\n",
              "    </tr>\n",
              "  </tbody>\n",
              "</table>\n",
              "</div>\n",
              "      <button class=\"colab-df-convert\" onclick=\"convertToInteractive('df-947def01-4cfd-4ed7-b4a9-e6e557fdeb1a')\"\n",
              "              title=\"Convert this dataframe to an interactive table.\"\n",
              "              style=\"display:none;\">\n",
              "        \n",
              "  <svg xmlns=\"http://www.w3.org/2000/svg\" height=\"24px\"viewBox=\"0 0 24 24\"\n",
              "       width=\"24px\">\n",
              "    <path d=\"M0 0h24v24H0V0z\" fill=\"none\"/>\n",
              "    <path d=\"M18.56 5.44l.94 2.06.94-2.06 2.06-.94-2.06-.94-.94-2.06-.94 2.06-2.06.94zm-11 1L8.5 8.5l.94-2.06 2.06-.94-2.06-.94L8.5 2.5l-.94 2.06-2.06.94zm10 10l.94 2.06.94-2.06 2.06-.94-2.06-.94-.94-2.06-.94 2.06-2.06.94z\"/><path d=\"M17.41 7.96l-1.37-1.37c-.4-.4-.92-.59-1.43-.59-.52 0-1.04.2-1.43.59L10.3 9.45l-7.72 7.72c-.78.78-.78 2.05 0 2.83L4 21.41c.39.39.9.59 1.41.59.51 0 1.02-.2 1.41-.59l7.78-7.78 2.81-2.81c.8-.78.8-2.07 0-2.86zM5.41 20L4 18.59l7.72-7.72 1.47 1.35L5.41 20z\"/>\n",
              "  </svg>\n",
              "      </button>\n",
              "      \n",
              "  <style>\n",
              "    .colab-df-container {\n",
              "      display:flex;\n",
              "      flex-wrap:wrap;\n",
              "      gap: 12px;\n",
              "    }\n",
              "\n",
              "    .colab-df-convert {\n",
              "      background-color: #E8F0FE;\n",
              "      border: none;\n",
              "      border-radius: 50%;\n",
              "      cursor: pointer;\n",
              "      display: none;\n",
              "      fill: #1967D2;\n",
              "      height: 32px;\n",
              "      padding: 0 0 0 0;\n",
              "      width: 32px;\n",
              "    }\n",
              "\n",
              "    .colab-df-convert:hover {\n",
              "      background-color: #E2EBFA;\n",
              "      box-shadow: 0px 1px 2px rgba(60, 64, 67, 0.3), 0px 1px 3px 1px rgba(60, 64, 67, 0.15);\n",
              "      fill: #174EA6;\n",
              "    }\n",
              "\n",
              "    [theme=dark] .colab-df-convert {\n",
              "      background-color: #3B4455;\n",
              "      fill: #D2E3FC;\n",
              "    }\n",
              "\n",
              "    [theme=dark] .colab-df-convert:hover {\n",
              "      background-color: #434B5C;\n",
              "      box-shadow: 0px 1px 3px 1px rgba(0, 0, 0, 0.15);\n",
              "      filter: drop-shadow(0px 1px 2px rgba(0, 0, 0, 0.3));\n",
              "      fill: #FFFFFF;\n",
              "    }\n",
              "  </style>\n",
              "\n",
              "      <script>\n",
              "        const buttonEl =\n",
              "          document.querySelector('#df-947def01-4cfd-4ed7-b4a9-e6e557fdeb1a button.colab-df-convert');\n",
              "        buttonEl.style.display =\n",
              "          google.colab.kernel.accessAllowed ? 'block' : 'none';\n",
              "\n",
              "        async function convertToInteractive(key) {\n",
              "          const element = document.querySelector('#df-947def01-4cfd-4ed7-b4a9-e6e557fdeb1a');\n",
              "          const dataTable =\n",
              "            await google.colab.kernel.invokeFunction('convertToInteractive',\n",
              "                                                     [key], {});\n",
              "          if (!dataTable) return;\n",
              "\n",
              "          const docLinkHtml = 'Like what you see? Visit the ' +\n",
              "            '<a target=\"_blank\" href=https://colab.research.google.com/notebooks/data_table.ipynb>data table notebook</a>'\n",
              "            + ' to learn more about interactive tables.';\n",
              "          element.innerHTML = '';\n",
              "          dataTable['output_type'] = 'display_data';\n",
              "          await google.colab.output.renderOutput(dataTable, element);\n",
              "          const docLink = document.createElement('div');\n",
              "          docLink.innerHTML = docLinkHtml;\n",
              "          element.appendChild(docLink);\n",
              "        }\n",
              "      </script>\n",
              "    </div>\n",
              "  </div>\n",
              "  "
            ]
          },
          "metadata": {},
          "execution_count": 3
        }
      ]
    },
    {
      "cell_type": "code",
      "source": [
        "# importing pandas as pd\n",
        "import pandas as pd\n",
        "  \n",
        "# dictionary of lists\n",
        "dict = {'name':[\"aparna\", \"pankaj\", \"sudhir\", \"Geeku\"],\n",
        "        'degree': [\"MBA\", \"BCA\", \"M.Tech\", \"MBA\"],\n",
        "        'score':[90, 40, 80, 98]}\n",
        " \n",
        "# creating a dataframe from a dictionary \n",
        "df = pd.DataFrame(dict)\n",
        " \n",
        "print(df)"
      ],
      "metadata": {
        "colab": {
          "base_uri": "https://localhost:8080/"
        },
        "id": "Bwkc0otWxCFd",
        "outputId": "ddedcb03-e28b-4543-8257-9e8c8b052af3"
      },
      "execution_count": null,
      "outputs": [
        {
          "output_type": "stream",
          "name": "stdout",
          "text": [
            "     name  degree  score\n",
            "0  aparna     MBA     90\n",
            "1  pankaj     BCA     40\n",
            "2  sudhir  M.Tech     80\n",
            "3   Geeku     MBA     98\n"
          ]
        }
      ]
    },
    {
      "cell_type": "code",
      "source": [
        "import pandas as pd\n",
        "  \n",
        "# dictionary of lists\n",
        "dict = {'name':[\"aparna\", \"pankaj\", \"sudhir\", \"Geeku\"],\n",
        "        'degree': [\"MBA\", \"BCA\", \"M.Tech\", \"MBA\"],\n",
        "        'score':[90, 40, 80, 98]}\n",
        " \n",
        "# creating a dataframe from a dictionary \n",
        "df = pd.DataFrame(dict)\n",
        " \n",
        "# iterating over rows using iterrows() function \n",
        "for i, j in df.iterrows():\n",
        "    print(i, j)\n",
        "    print()"
      ],
      "metadata": {
        "colab": {
          "base_uri": "https://localhost:8080/"
        },
        "id": "50caEX_ixHyO",
        "outputId": "495a695c-7d96-4ace-d796-7a9f33240a6e"
      },
      "execution_count": null,
      "outputs": [
        {
          "output_type": "stream",
          "name": "stdout",
          "text": [
            "0 name      aparna\n",
            "degree       MBA\n",
            "score         90\n",
            "Name: 0, dtype: object\n",
            "\n",
            "1 name      pankaj\n",
            "degree       BCA\n",
            "score         40\n",
            "Name: 1, dtype: object\n",
            "\n",
            "2 name      sudhir\n",
            "degree    M.Tech\n",
            "score         80\n",
            "Name: 2, dtype: object\n",
            "\n",
            "3 name      Geeku\n",
            "degree      MBA\n",
            "score        98\n",
            "Name: 3, dtype: object\n",
            "\n"
          ]
        }
      ]
    },
    {
      "cell_type": "code",
      "source": [
        "dict = {'name':[\"aparna\", \"pankaj\", \"sudhir\", \"Geeku\"],\n",
        "        'degree': [\"MBA\", \"BCA\", \"M.Tech\", \"MBA\"],\n",
        "        'score':[90, 40, 80, 98]}\n",
        "  \n",
        "# creating a dataframe from a dictionary \n",
        "df = pd.DataFrame(dict)\n",
        " \n",
        "print(df)\n",
        "\n",
        "\n",
        "columns = list(df)\n",
        " \n",
        "for i in columns:\n",
        " \n",
        "    # printing the third element of the column\n",
        "    print (df[i][2])"
      ],
      "metadata": {
        "colab": {
          "base_uri": "https://localhost:8080/"
        },
        "id": "SwQL5QpGxken",
        "outputId": "b796dd3b-a2a2-46e2-943f-64f139c26742"
      },
      "execution_count": null,
      "outputs": [
        {
          "output_type": "stream",
          "name": "stdout",
          "text": [
            "     name  degree  score\n",
            "0  aparna     MBA     90\n",
            "1  pankaj     BCA     40\n",
            "2  sudhir  M.Tech     80\n",
            "3   Geeku     MBA     98\n",
            "sudhir\n",
            "M.Tech\n",
            "80\n"
          ]
        }
      ]
    },
    {
      "cell_type": "code",
      "source": [
        "import pandas as pd\n",
        "\n",
        "data = {'Name':[\"Avinash\",\"Ashish\",\"Arvind\",\"Mohan\",\"Vaishali\"],'Age':[23,45,67,23,55]}\n",
        "\n",
        "# Create DataFrame\n",
        "df = pd.DataFrame(data)\n",
        " \n",
        "# Print the output.\n",
        "print(df)"
      ],
      "metadata": {
        "colab": {
          "base_uri": "https://localhost:8080/"
        },
        "id": "kjCUccP3x8pV",
        "outputId": "6d1eb588-c576-471f-8f49-9a0baefc7c75"
      },
      "execution_count": null,
      "outputs": [
        {
          "output_type": "stream",
          "name": "stdout",
          "text": [
            "       Name  Age\n",
            "0   Avinash   23\n",
            "1    Ashish   45\n",
            "2    Arvind   67\n",
            "3     Mohan   23\n",
            "4  Vaishali   55\n"
          ]
        }
      ]
    },
    {
      "cell_type": "code",
      "source": [
        "# import numpy as np\n",
        "import numpy as np\n",
        " \n",
        "# simple array\n",
        "data = np.array(['g','e','e','k','s'])\n",
        " \n",
        "ser = pd.Series(data)\n",
        "print(ser)"
      ],
      "metadata": {
        "colab": {
          "base_uri": "https://localhost:8080/"
        },
        "id": "RBZXPbMLyqVr",
        "outputId": "ad4d265e-0aa2-493a-9b0a-ae6261890e43"
      },
      "execution_count": null,
      "outputs": [
        {
          "output_type": "stream",
          "name": "stdout",
          "text": [
            "0    g\n",
            "1    e\n",
            "2    e\n",
            "3    k\n",
            "4    s\n",
            "dtype: object\n"
          ]
        }
      ]
    },
    {
      "cell_type": "code",
      "source": [
        "data = np.array(['g','e','e','k','s','f', 'o','r','g','e','e','k','s'])\n",
        "ser = pd.Series(data)\n",
        "  \n",
        "  \n",
        "#retrieve the first element\n",
        "print(ser[:5])"
      ],
      "metadata": {
        "colab": {
          "base_uri": "https://localhost:8080/"
        },
        "id": "RVBhATTGy5A2",
        "outputId": "b9898a91-6cbb-4c3d-aae2-102237c39a02"
      },
      "execution_count": null,
      "outputs": [
        {
          "output_type": "stream",
          "name": "stdout",
          "text": [
            "0    g\n",
            "1    e\n",
            "2    e\n",
            "3    k\n",
            "4    s\n",
            "dtype: object\n"
          ]
        }
      ]
    },
    {
      "cell_type": "code",
      "source": [
        "data = np.array(['g','e','e','k','s','f', 'o','r','g','e','e','k','s'])\n",
        "ser = pd.Series(data,index=[10,11,12,13,14,15,16,17,18,19,20,21,22])\n",
        "  \n",
        "  \n",
        "# accessing a element using index element\n",
        "print(ser[16])"
      ],
      "metadata": {
        "colab": {
          "base_uri": "https://localhost:8080/"
        },
        "id": "TiE4DISdy-6C",
        "outputId": "c4b843a4-8fe4-48f1-cfd6-4e33640e00a8"
      },
      "execution_count": null,
      "outputs": [
        {
          "output_type": "stream",
          "name": "stdout",
          "text": [
            "o\n"
          ]
        }
      ]
    },
    {
      "cell_type": "code",
      "source": [
        "import pandas as pd\n",
        "\n",
        "data =pd.Series([1,2,3,45,5],index =['a','c','b','r','d'])\n",
        "data1 = pd.Series([1, 6, 4, 9], index=['a', 'b', 'd', 'e'])\n",
        "\n",
        "print(data, \"\\n\\n\", data1,'\\n')\n",
        "\n",
        "data.add(data1, fill_value=0)\n",
        "data.sub(data1, fill_value=0)"
      ],
      "metadata": {
        "colab": {
          "base_uri": "https://localhost:8080/"
        },
        "id": "IExYZi4YzO7I",
        "outputId": "41328589-f3d3-48f7-d6c7-915495e2e893"
      },
      "execution_count": null,
      "outputs": [
        {
          "output_type": "stream",
          "name": "stdout",
          "text": [
            "a     1\n",
            "c     2\n",
            "b     3\n",
            "r    45\n",
            "d     5\n",
            "dtype: int64 \n",
            "\n",
            " a    1\n",
            "b    6\n",
            "d    4\n",
            "e    9\n",
            "dtype: int64 \n",
            "\n"
          ]
        },
        {
          "output_type": "execute_result",
          "data": {
            "text/plain": [
              "a     0.0\n",
              "b    -3.0\n",
              "c     2.0\n",
              "d     1.0\n",
              "e    -9.0\n",
              "r    45.0\n",
              "dtype: float64"
            ]
          },
          "metadata": {},
          "execution_count": 21
        }
      ]
    },
    {
      "cell_type": "code",
      "source": [
        "import pandas as pd\n",
        "import numpy as np\n",
        " \n",
        "# series with numpy linspace()\n",
        "ser1 = pd.Series(np.linspace(3, 33, 3))\n",
        "print(ser1)\n",
        " \n",
        "# series with numpy linspace()\n",
        "ser2 = pd.Series(np.linspace(1, 100, 10))\n",
        "print( \"\\n\" , ser2)"
      ],
      "metadata": {
        "colab": {
          "base_uri": "https://localhost:8080/"
        },
        "id": "v0QkTZ4z0c-x",
        "outputId": "2ff21e3e-b4da-468a-be01-75f9fb6ea107"
      },
      "execution_count": null,
      "outputs": [
        {
          "output_type": "stream",
          "name": "stdout",
          "text": [
            "0     3.0\n",
            "1    18.0\n",
            "2    33.0\n",
            "dtype: float64\n",
            "\n",
            " 0      1.0\n",
            "1     12.0\n",
            "2     23.0\n",
            "3     34.0\n",
            "4     45.0\n",
            "5     56.0\n",
            "6     67.0\n",
            "7     78.0\n",
            "8     89.0\n",
            "9    100.0\n",
            "dtype: float64\n"
          ]
        }
      ]
    },
    {
      "cell_type": "code",
      "source": [
        "import pandas as pd\n",
        "ser=pd.Series(range(1,20,3), index=[x for x in 'abcdefg'])\n",
        "print(ser)"
      ],
      "metadata": {
        "colab": {
          "base_uri": "https://localhost:8080/"
        },
        "id": "wbmtN0s60wRI",
        "outputId": "27e17c95-8c66-4a03-c28a-1221a024de7b"
      },
      "execution_count": null,
      "outputs": [
        {
          "output_type": "stream",
          "name": "stdout",
          "text": [
            "a     1\n",
            "b     4\n",
            "c     7\n",
            "d    10\n",
            "e    13\n",
            "f    16\n",
            "g    19\n",
            "dtype: int64\n"
          ]
        }
      ]
    },
    {
      "cell_type": "code",
      "source": [
        "ser=np.arange(10,15)\n",
        "serobj=pd.Series(ser*5,index=ser)\n",
        "print(serobj)"
      ],
      "metadata": {
        "colab": {
          "base_uri": "https://localhost:8080/"
        },
        "id": "J4kmg2ua0_OF",
        "outputId": "f4627766-abd3-4e0c-8f93-35aceb78744b"
      },
      "execution_count": null,
      "outputs": [
        {
          "output_type": "stream",
          "name": "stdout",
          "text": [
            "10    50\n",
            "11    55\n",
            "12    60\n",
            "13    65\n",
            "14    70\n",
            "dtype: int64\n"
          ]
        }
      ]
    },
    {
      "cell_type": "code",
      "source": [
        "import pandas as pd\n",
        "  \n",
        "# dictionary of lists\n",
        "dict = {'name':[\"aparna\", \"pankaj\", \"sudhir\", \"Geeku\"],\n",
        "        'degree': [\"MBA\", \"BCA\", \"M.Tech\", \"MBA\"],\n",
        "        'score':[90, 40, 80, 98]}\n",
        "  \n",
        "df = pd.DataFrame(dict, index = [True, False, True, False])\n",
        "  \n",
        "print(df)"
      ],
      "metadata": {
        "colab": {
          "base_uri": "https://localhost:8080/"
        },
        "id": "cmjzvytVLwu3",
        "outputId": "fcbcdd52-e69e-48f3-b0a4-c1000acc7238"
      },
      "execution_count": null,
      "outputs": [
        {
          "output_type": "stream",
          "name": "stdout",
          "text": [
            "         name  degree  score\n",
            "True   aparna     MBA     90\n",
            "False  pankaj     BCA     40\n",
            "True   sudhir  M.Tech     80\n",
            "False   Geeku     MBA     98\n"
          ]
        }
      ]
    },
    {
      "cell_type": "code",
      "source": [
        "dict = {'name':[\"aparna\", \"pankaj\", \"sudhir\", \"Geeku\"],\n",
        "        'degree': [\"MBA\", \"BCA\", \"M.Tech\", \"MBA\"],\n",
        "        'score':[90, 40, 80, 98]}\n",
        " \n",
        "# creating a dataframe with boolean index\n",
        "df = pd.DataFrame(dict, index = [True, False, True, False])\n",
        " \n",
        "# accessing a dataframe using .loc[] function\n",
        "print(df.loc[True])\n"
      ],
      "metadata": {
        "colab": {
          "base_uri": "https://localhost:8080/"
        },
        "id": "Pm2jFGQ1L2nL",
        "outputId": "327e1535-9174-4077-8a5c-7f7fb6fe6d34"
      },
      "execution_count": null,
      "outputs": [
        {
          "output_type": "stream",
          "name": "stdout",
          "text": [
            "        name  degree  score\n",
            "True  aparna     MBA     90\n",
            "True  sudhir  M.Tech     80\n"
          ]
        }
      ]
    },
    {
      "cell_type": "code",
      "source": [
        "import pandas as pd\n",
        "  \n",
        "# dictionary of lists\n",
        "dict = {'name':[\"aparna\", \"pankaj\", \"sudhir\", \"Geeku\"],\n",
        "        'degree': [\"MBA\", \"BCA\", \"M.Tech\", \"MBA\"],\n",
        "        'score':[90, 40, 80, 98]}\n",
        " \n",
        "# creating a dataframe with boolean index \n",
        "df = pd.DataFrame(dict, index = [True, False, True, False])\n",
        "  \n",
        " \n",
        "# accessing a dataframe using .iloc[] function\n",
        "print(df.iloc[1])"
      ],
      "metadata": {
        "colab": {
          "base_uri": "https://localhost:8080/"
        },
        "id": "NhfXHBGtMQMj",
        "outputId": "dcd1ca23-b884-4d40-ece8-3f01efe1f6c0"
      },
      "execution_count": null,
      "outputs": [
        {
          "output_type": "stream",
          "name": "stdout",
          "text": [
            "name      pankaj\n",
            "degree       BCA\n",
            "score         40\n",
            "dtype: object\n"
          ]
        }
      ]
    },
    {
      "cell_type": "code",
      "source": [
        "import pandas as pd\n",
        "  \n",
        "# Define a dictionary containing employee data\n",
        "data1 = {'Name':['Jai', 'Anuj', 'Jai', 'Princi',\n",
        "                 'Gaurav', 'Anuj', 'Princi', 'Abhi'],\n",
        "        'Age':[27, 24, 22, 32,\n",
        "               33, 36, 27, 32],\n",
        "        'Address':['Nagpur', 'Kanpur', 'Allahabad', 'Kannuaj',\n",
        "                   'Jaunpur', 'Kanpur', 'Allahabad', 'Aligarh'],\n",
        "        'Qualification':['Msc', 'MA', 'MCA', 'Phd',\n",
        "                         'B.Tech', 'B.com', 'Msc', 'MA']}\n",
        "    \n",
        "  \n",
        "# Convert the dictionary into DataFrame \n",
        "df = pd.DataFrame(data1)\n",
        "  \n",
        "print(df)"
      ],
      "metadata": {
        "colab": {
          "base_uri": "https://localhost:8080/"
        },
        "id": "PdiNpMSnNG0j",
        "outputId": "981e1cf3-19bf-4a21-ff05-3092f5ffb566"
      },
      "execution_count": null,
      "outputs": [
        {
          "output_type": "stream",
          "name": "stdout",
          "text": [
            "     Name  Age    Address Qualification\n",
            "0     Jai   27     Nagpur           Msc\n",
            "1    Anuj   24     Kanpur            MA\n",
            "2     Jai   22  Allahabad           MCA\n",
            "3  Princi   32    Kannuaj           Phd\n",
            "4  Gaurav   33    Jaunpur        B.Tech\n",
            "5    Anuj   36     Kanpur         B.com\n",
            "6  Princi   27  Allahabad           Msc\n",
            "7    Abhi   32    Aligarh            MA\n"
          ]
        }
      ]
    },
    {
      "cell_type": "code",
      "source": [
        "df.groupby('Name')\n",
        "print(df.groupby('Name').groups)"
      ],
      "metadata": {
        "colab": {
          "base_uri": "https://localhost:8080/"
        },
        "id": "x3geeKbpNM0c",
        "outputId": "b9a4ac0b-b5d3-44e9-8f47-ac0ed9048edf"
      },
      "execution_count": null,
      "outputs": [
        {
          "output_type": "stream",
          "name": "stdout",
          "text": [
            "{'Abhi': [7], 'Anuj': [1, 5], 'Gaurav': [4], 'Jai': [0, 2], 'Princi': [3, 6]}\n"
          ]
        }
      ]
    },
    {
      "cell_type": "code",
      "source": [
        "gk = df.groupby('Name')\n",
        "gk.first()"
      ],
      "metadata": {
        "colab": {
          "base_uri": "https://localhost:8080/",
          "height": 238
        },
        "id": "Un9bApqrNR-H",
        "outputId": "c37f8c2d-94f3-48c6-8736-f282b5088ef6"
      },
      "execution_count": null,
      "outputs": [
        {
          "output_type": "execute_result",
          "data": {
            "text/plain": [
              "        Age  Address Qualification\n",
              "Name                              \n",
              "Abhi     32  Aligarh            MA\n",
              "Anuj     24   Kanpur            MA\n",
              "Gaurav   33  Jaunpur        B.Tech\n",
              "Jai      27   Nagpur           Msc\n",
              "Princi   32  Kannuaj           Phd"
            ],
            "text/html": [
              "\n",
              "  <div id=\"df-7840bb4d-307b-4441-8fa1-c97ce9eef8f7\">\n",
              "    <div class=\"colab-df-container\">\n",
              "      <div>\n",
              "<style scoped>\n",
              "    .dataframe tbody tr th:only-of-type {\n",
              "        vertical-align: middle;\n",
              "    }\n",
              "\n",
              "    .dataframe tbody tr th {\n",
              "        vertical-align: top;\n",
              "    }\n",
              "\n",
              "    .dataframe thead th {\n",
              "        text-align: right;\n",
              "    }\n",
              "</style>\n",
              "<table border=\"1\" class=\"dataframe\">\n",
              "  <thead>\n",
              "    <tr style=\"text-align: right;\">\n",
              "      <th></th>\n",
              "      <th>Age</th>\n",
              "      <th>Address</th>\n",
              "      <th>Qualification</th>\n",
              "    </tr>\n",
              "    <tr>\n",
              "      <th>Name</th>\n",
              "      <th></th>\n",
              "      <th></th>\n",
              "      <th></th>\n",
              "    </tr>\n",
              "  </thead>\n",
              "  <tbody>\n",
              "    <tr>\n",
              "      <th>Abhi</th>\n",
              "      <td>32</td>\n",
              "      <td>Aligarh</td>\n",
              "      <td>MA</td>\n",
              "    </tr>\n",
              "    <tr>\n",
              "      <th>Anuj</th>\n",
              "      <td>24</td>\n",
              "      <td>Kanpur</td>\n",
              "      <td>MA</td>\n",
              "    </tr>\n",
              "    <tr>\n",
              "      <th>Gaurav</th>\n",
              "      <td>33</td>\n",
              "      <td>Jaunpur</td>\n",
              "      <td>B.Tech</td>\n",
              "    </tr>\n",
              "    <tr>\n",
              "      <th>Jai</th>\n",
              "      <td>27</td>\n",
              "      <td>Nagpur</td>\n",
              "      <td>Msc</td>\n",
              "    </tr>\n",
              "    <tr>\n",
              "      <th>Princi</th>\n",
              "      <td>32</td>\n",
              "      <td>Kannuaj</td>\n",
              "      <td>Phd</td>\n",
              "    </tr>\n",
              "  </tbody>\n",
              "</table>\n",
              "</div>\n",
              "      <button class=\"colab-df-convert\" onclick=\"convertToInteractive('df-7840bb4d-307b-4441-8fa1-c97ce9eef8f7')\"\n",
              "              title=\"Convert this dataframe to an interactive table.\"\n",
              "              style=\"display:none;\">\n",
              "        \n",
              "  <svg xmlns=\"http://www.w3.org/2000/svg\" height=\"24px\"viewBox=\"0 0 24 24\"\n",
              "       width=\"24px\">\n",
              "    <path d=\"M0 0h24v24H0V0z\" fill=\"none\"/>\n",
              "    <path d=\"M18.56 5.44l.94 2.06.94-2.06 2.06-.94-2.06-.94-.94-2.06-.94 2.06-2.06.94zm-11 1L8.5 8.5l.94-2.06 2.06-.94-2.06-.94L8.5 2.5l-.94 2.06-2.06.94zm10 10l.94 2.06.94-2.06 2.06-.94-2.06-.94-.94-2.06-.94 2.06-2.06.94z\"/><path d=\"M17.41 7.96l-1.37-1.37c-.4-.4-.92-.59-1.43-.59-.52 0-1.04.2-1.43.59L10.3 9.45l-7.72 7.72c-.78.78-.78 2.05 0 2.83L4 21.41c.39.39.9.59 1.41.59.51 0 1.02-.2 1.41-.59l7.78-7.78 2.81-2.81c.8-.78.8-2.07 0-2.86zM5.41 20L4 18.59l7.72-7.72 1.47 1.35L5.41 20z\"/>\n",
              "  </svg>\n",
              "      </button>\n",
              "      \n",
              "  <style>\n",
              "    .colab-df-container {\n",
              "      display:flex;\n",
              "      flex-wrap:wrap;\n",
              "      gap: 12px;\n",
              "    }\n",
              "\n",
              "    .colab-df-convert {\n",
              "      background-color: #E8F0FE;\n",
              "      border: none;\n",
              "      border-radius: 50%;\n",
              "      cursor: pointer;\n",
              "      display: none;\n",
              "      fill: #1967D2;\n",
              "      height: 32px;\n",
              "      padding: 0 0 0 0;\n",
              "      width: 32px;\n",
              "    }\n",
              "\n",
              "    .colab-df-convert:hover {\n",
              "      background-color: #E2EBFA;\n",
              "      box-shadow: 0px 1px 2px rgba(60, 64, 67, 0.3), 0px 1px 3px 1px rgba(60, 64, 67, 0.15);\n",
              "      fill: #174EA6;\n",
              "    }\n",
              "\n",
              "    [theme=dark] .colab-df-convert {\n",
              "      background-color: #3B4455;\n",
              "      fill: #D2E3FC;\n",
              "    }\n",
              "\n",
              "    [theme=dark] .colab-df-convert:hover {\n",
              "      background-color: #434B5C;\n",
              "      box-shadow: 0px 1px 3px 1px rgba(0, 0, 0, 0.15);\n",
              "      filter: drop-shadow(0px 1px 2px rgba(0, 0, 0, 0.3));\n",
              "      fill: #FFFFFF;\n",
              "    }\n",
              "  </style>\n",
              "\n",
              "      <script>\n",
              "        const buttonEl =\n",
              "          document.querySelector('#df-7840bb4d-307b-4441-8fa1-c97ce9eef8f7 button.colab-df-convert');\n",
              "        buttonEl.style.display =\n",
              "          google.colab.kernel.accessAllowed ? 'block' : 'none';\n",
              "\n",
              "        async function convertToInteractive(key) {\n",
              "          const element = document.querySelector('#df-7840bb4d-307b-4441-8fa1-c97ce9eef8f7');\n",
              "          const dataTable =\n",
              "            await google.colab.kernel.invokeFunction('convertToInteractive',\n",
              "                                                     [key], {});\n",
              "          if (!dataTable) return;\n",
              "\n",
              "          const docLinkHtml = 'Like what you see? Visit the ' +\n",
              "            '<a target=\"_blank\" href=https://colab.research.google.com/notebooks/data_table.ipynb>data table notebook</a>'\n",
              "            + ' to learn more about interactive tables.';\n",
              "          element.innerHTML = '';\n",
              "          dataTable['output_type'] = 'display_data';\n",
              "          await google.colab.output.renderOutput(dataTable, element);\n",
              "          const docLink = document.createElement('div');\n",
              "          docLink.innerHTML = docLinkHtml;\n",
              "          element.appendChild(docLink);\n",
              "        }\n",
              "      </script>\n",
              "    </div>\n",
              "  </div>\n",
              "  "
            ]
          },
          "metadata": {},
          "execution_count": 11
        }
      ]
    },
    {
      "cell_type": "code",
      "source": [
        "df.groupby(['Name', 'Qualification'])\n",
        " \n",
        "print(df.groupby(['Name', 'Qualification']).groups)"
      ],
      "metadata": {
        "colab": {
          "base_uri": "https://localhost:8080/"
        },
        "id": "MeLJQkYiNhQr",
        "outputId": "6d142f56-cba5-4889-8448-df34aef7fd25"
      },
      "execution_count": null,
      "outputs": [
        {
          "output_type": "stream",
          "name": "stdout",
          "text": [
            "{('Abhi', 'MA'): [7], ('Anuj', 'B.com'): [5], ('Anuj', 'MA'): [1], ('Gaurav', 'B.Tech'): [4], ('Jai', 'MCA'): [2], ('Jai', 'Msc'): [0], ('Princi', 'Msc'): [6], ('Princi', 'Phd'): [3]}\n"
          ]
        }
      ]
    },
    {
      "cell_type": "code",
      "source": [
        "data1 = {'Name':['Jai', 'Anuj', 'Jai', 'Princi',\n",
        "                 'Gaurav', 'Anuj', 'Princi', 'Abhi'],\n",
        "        'Age':[27, 24, 22, 32,\n",
        "               33, 36, 27, 32], }\n",
        "    \n",
        "  \n",
        "# Convert the dictionary into DataFrame \n",
        "df = pd.DataFrame(data1)\n",
        "  \n",
        "print(df)"
      ],
      "metadata": {
        "colab": {
          "base_uri": "https://localhost:8080/"
        },
        "id": "qo94Pm4uNsTi",
        "outputId": "8da10fcb-ea16-4421-80b0-6005e93afaf5"
      },
      "execution_count": null,
      "outputs": [
        {
          "output_type": "stream",
          "name": "stdout",
          "text": [
            "     Name  Age\n",
            "0     Jai   27\n",
            "1    Anuj   24\n",
            "2     Jai   22\n",
            "3  Princi   32\n",
            "4  Gaurav   33\n",
            "5    Anuj   36\n",
            "6  Princi   27\n",
            "7    Abhi   32\n"
          ]
        }
      ]
    },
    {
      "cell_type": "code",
      "source": [
        "df.groupby(['Name']).sum()"
      ],
      "metadata": {
        "colab": {
          "base_uri": "https://localhost:8080/",
          "height": 238
        },
        "id": "6jgDIWsoNvcr",
        "outputId": "a457b9b2-657c-4845-a833-88bb4dfeaac8"
      },
      "execution_count": null,
      "outputs": [
        {
          "output_type": "execute_result",
          "data": {
            "text/plain": [
              "        Age\n",
              "Name       \n",
              "Abhi     32\n",
              "Anuj     60\n",
              "Gaurav   33\n",
              "Jai      49\n",
              "Princi   59"
            ],
            "text/html": [
              "\n",
              "  <div id=\"df-1a27729d-931b-4bc1-8a3a-56c023740484\">\n",
              "    <div class=\"colab-df-container\">\n",
              "      <div>\n",
              "<style scoped>\n",
              "    .dataframe tbody tr th:only-of-type {\n",
              "        vertical-align: middle;\n",
              "    }\n",
              "\n",
              "    .dataframe tbody tr th {\n",
              "        vertical-align: top;\n",
              "    }\n",
              "\n",
              "    .dataframe thead th {\n",
              "        text-align: right;\n",
              "    }\n",
              "</style>\n",
              "<table border=\"1\" class=\"dataframe\">\n",
              "  <thead>\n",
              "    <tr style=\"text-align: right;\">\n",
              "      <th></th>\n",
              "      <th>Age</th>\n",
              "    </tr>\n",
              "    <tr>\n",
              "      <th>Name</th>\n",
              "      <th></th>\n",
              "    </tr>\n",
              "  </thead>\n",
              "  <tbody>\n",
              "    <tr>\n",
              "      <th>Abhi</th>\n",
              "      <td>32</td>\n",
              "    </tr>\n",
              "    <tr>\n",
              "      <th>Anuj</th>\n",
              "      <td>60</td>\n",
              "    </tr>\n",
              "    <tr>\n",
              "      <th>Gaurav</th>\n",
              "      <td>33</td>\n",
              "    </tr>\n",
              "    <tr>\n",
              "      <th>Jai</th>\n",
              "      <td>49</td>\n",
              "    </tr>\n",
              "    <tr>\n",
              "      <th>Princi</th>\n",
              "      <td>59</td>\n",
              "    </tr>\n",
              "  </tbody>\n",
              "</table>\n",
              "</div>\n",
              "      <button class=\"colab-df-convert\" onclick=\"convertToInteractive('df-1a27729d-931b-4bc1-8a3a-56c023740484')\"\n",
              "              title=\"Convert this dataframe to an interactive table.\"\n",
              "              style=\"display:none;\">\n",
              "        \n",
              "  <svg xmlns=\"http://www.w3.org/2000/svg\" height=\"24px\"viewBox=\"0 0 24 24\"\n",
              "       width=\"24px\">\n",
              "    <path d=\"M0 0h24v24H0V0z\" fill=\"none\"/>\n",
              "    <path d=\"M18.56 5.44l.94 2.06.94-2.06 2.06-.94-2.06-.94-.94-2.06-.94 2.06-2.06.94zm-11 1L8.5 8.5l.94-2.06 2.06-.94-2.06-.94L8.5 2.5l-.94 2.06-2.06.94zm10 10l.94 2.06.94-2.06 2.06-.94-2.06-.94-.94-2.06-.94 2.06-2.06.94z\"/><path d=\"M17.41 7.96l-1.37-1.37c-.4-.4-.92-.59-1.43-.59-.52 0-1.04.2-1.43.59L10.3 9.45l-7.72 7.72c-.78.78-.78 2.05 0 2.83L4 21.41c.39.39.9.59 1.41.59.51 0 1.02-.2 1.41-.59l7.78-7.78 2.81-2.81c.8-.78.8-2.07 0-2.86zM5.41 20L4 18.59l7.72-7.72 1.47 1.35L5.41 20z\"/>\n",
              "  </svg>\n",
              "      </button>\n",
              "      \n",
              "  <style>\n",
              "    .colab-df-container {\n",
              "      display:flex;\n",
              "      flex-wrap:wrap;\n",
              "      gap: 12px;\n",
              "    }\n",
              "\n",
              "    .colab-df-convert {\n",
              "      background-color: #E8F0FE;\n",
              "      border: none;\n",
              "      border-radius: 50%;\n",
              "      cursor: pointer;\n",
              "      display: none;\n",
              "      fill: #1967D2;\n",
              "      height: 32px;\n",
              "      padding: 0 0 0 0;\n",
              "      width: 32px;\n",
              "    }\n",
              "\n",
              "    .colab-df-convert:hover {\n",
              "      background-color: #E2EBFA;\n",
              "      box-shadow: 0px 1px 2px rgba(60, 64, 67, 0.3), 0px 1px 3px 1px rgba(60, 64, 67, 0.15);\n",
              "      fill: #174EA6;\n",
              "    }\n",
              "\n",
              "    [theme=dark] .colab-df-convert {\n",
              "      background-color: #3B4455;\n",
              "      fill: #D2E3FC;\n",
              "    }\n",
              "\n",
              "    [theme=dark] .colab-df-convert:hover {\n",
              "      background-color: #434B5C;\n",
              "      box-shadow: 0px 1px 3px 1px rgba(0, 0, 0, 0.15);\n",
              "      filter: drop-shadow(0px 1px 2px rgba(0, 0, 0, 0.3));\n",
              "      fill: #FFFFFF;\n",
              "    }\n",
              "  </style>\n",
              "\n",
              "      <script>\n",
              "        const buttonEl =\n",
              "          document.querySelector('#df-1a27729d-931b-4bc1-8a3a-56c023740484 button.colab-df-convert');\n",
              "        buttonEl.style.display =\n",
              "          google.colab.kernel.accessAllowed ? 'block' : 'none';\n",
              "\n",
              "        async function convertToInteractive(key) {\n",
              "          const element = document.querySelector('#df-1a27729d-931b-4bc1-8a3a-56c023740484');\n",
              "          const dataTable =\n",
              "            await google.colab.kernel.invokeFunction('convertToInteractive',\n",
              "                                                     [key], {});\n",
              "          if (!dataTable) return;\n",
              "\n",
              "          const docLinkHtml = 'Like what you see? Visit the ' +\n",
              "            '<a target=\"_blank\" href=https://colab.research.google.com/notebooks/data_table.ipynb>data table notebook</a>'\n",
              "            + ' to learn more about interactive tables.';\n",
              "          element.innerHTML = '';\n",
              "          dataTable['output_type'] = 'display_data';\n",
              "          await google.colab.output.renderOutput(dataTable, element);\n",
              "          const docLink = document.createElement('div');\n",
              "          docLink.innerHTML = docLinkHtml;\n",
              "          element.appendChild(docLink);\n",
              "        }\n",
              "      </script>\n",
              "    </div>\n",
              "  </div>\n",
              "  "
            ]
          },
          "metadata": {},
          "execution_count": 14
        }
      ]
    },
    {
      "cell_type": "code",
      "source": [
        "df.groupby(['Name'], sort = False).sum()"
      ],
      "metadata": {
        "colab": {
          "base_uri": "https://localhost:8080/",
          "height": 238
        },
        "id": "xLLfUxtUN2zr",
        "outputId": "8a6a04ad-ae33-46c9-da5e-ffd7d661c0ce"
      },
      "execution_count": null,
      "outputs": [
        {
          "output_type": "execute_result",
          "data": {
            "text/plain": [
              "        Age\n",
              "Name       \n",
              "Jai      49\n",
              "Anuj     60\n",
              "Princi   59\n",
              "Gaurav   33\n",
              "Abhi     32"
            ],
            "text/html": [
              "\n",
              "  <div id=\"df-1de7a993-3616-4452-99cc-4b9d7b712876\">\n",
              "    <div class=\"colab-df-container\">\n",
              "      <div>\n",
              "<style scoped>\n",
              "    .dataframe tbody tr th:only-of-type {\n",
              "        vertical-align: middle;\n",
              "    }\n",
              "\n",
              "    .dataframe tbody tr th {\n",
              "        vertical-align: top;\n",
              "    }\n",
              "\n",
              "    .dataframe thead th {\n",
              "        text-align: right;\n",
              "    }\n",
              "</style>\n",
              "<table border=\"1\" class=\"dataframe\">\n",
              "  <thead>\n",
              "    <tr style=\"text-align: right;\">\n",
              "      <th></th>\n",
              "      <th>Age</th>\n",
              "    </tr>\n",
              "    <tr>\n",
              "      <th>Name</th>\n",
              "      <th></th>\n",
              "    </tr>\n",
              "  </thead>\n",
              "  <tbody>\n",
              "    <tr>\n",
              "      <th>Jai</th>\n",
              "      <td>49</td>\n",
              "    </tr>\n",
              "    <tr>\n",
              "      <th>Anuj</th>\n",
              "      <td>60</td>\n",
              "    </tr>\n",
              "    <tr>\n",
              "      <th>Princi</th>\n",
              "      <td>59</td>\n",
              "    </tr>\n",
              "    <tr>\n",
              "      <th>Gaurav</th>\n",
              "      <td>33</td>\n",
              "    </tr>\n",
              "    <tr>\n",
              "      <th>Abhi</th>\n",
              "      <td>32</td>\n",
              "    </tr>\n",
              "  </tbody>\n",
              "</table>\n",
              "</div>\n",
              "      <button class=\"colab-df-convert\" onclick=\"convertToInteractive('df-1de7a993-3616-4452-99cc-4b9d7b712876')\"\n",
              "              title=\"Convert this dataframe to an interactive table.\"\n",
              "              style=\"display:none;\">\n",
              "        \n",
              "  <svg xmlns=\"http://www.w3.org/2000/svg\" height=\"24px\"viewBox=\"0 0 24 24\"\n",
              "       width=\"24px\">\n",
              "    <path d=\"M0 0h24v24H0V0z\" fill=\"none\"/>\n",
              "    <path d=\"M18.56 5.44l.94 2.06.94-2.06 2.06-.94-2.06-.94-.94-2.06-.94 2.06-2.06.94zm-11 1L8.5 8.5l.94-2.06 2.06-.94-2.06-.94L8.5 2.5l-.94 2.06-2.06.94zm10 10l.94 2.06.94-2.06 2.06-.94-2.06-.94-.94-2.06-.94 2.06-2.06.94z\"/><path d=\"M17.41 7.96l-1.37-1.37c-.4-.4-.92-.59-1.43-.59-.52 0-1.04.2-1.43.59L10.3 9.45l-7.72 7.72c-.78.78-.78 2.05 0 2.83L4 21.41c.39.39.9.59 1.41.59.51 0 1.02-.2 1.41-.59l7.78-7.78 2.81-2.81c.8-.78.8-2.07 0-2.86zM5.41 20L4 18.59l7.72-7.72 1.47 1.35L5.41 20z\"/>\n",
              "  </svg>\n",
              "      </button>\n",
              "      \n",
              "  <style>\n",
              "    .colab-df-container {\n",
              "      display:flex;\n",
              "      flex-wrap:wrap;\n",
              "      gap: 12px;\n",
              "    }\n",
              "\n",
              "    .colab-df-convert {\n",
              "      background-color: #E8F0FE;\n",
              "      border: none;\n",
              "      border-radius: 50%;\n",
              "      cursor: pointer;\n",
              "      display: none;\n",
              "      fill: #1967D2;\n",
              "      height: 32px;\n",
              "      padding: 0 0 0 0;\n",
              "      width: 32px;\n",
              "    }\n",
              "\n",
              "    .colab-df-convert:hover {\n",
              "      background-color: #E2EBFA;\n",
              "      box-shadow: 0px 1px 2px rgba(60, 64, 67, 0.3), 0px 1px 3px 1px rgba(60, 64, 67, 0.15);\n",
              "      fill: #174EA6;\n",
              "    }\n",
              "\n",
              "    [theme=dark] .colab-df-convert {\n",
              "      background-color: #3B4455;\n",
              "      fill: #D2E3FC;\n",
              "    }\n",
              "\n",
              "    [theme=dark] .colab-df-convert:hover {\n",
              "      background-color: #434B5C;\n",
              "      box-shadow: 0px 1px 3px 1px rgba(0, 0, 0, 0.15);\n",
              "      filter: drop-shadow(0px 1px 2px rgba(0, 0, 0, 0.3));\n",
              "      fill: #FFFFFF;\n",
              "    }\n",
              "  </style>\n",
              "\n",
              "      <script>\n",
              "        const buttonEl =\n",
              "          document.querySelector('#df-1de7a993-3616-4452-99cc-4b9d7b712876 button.colab-df-convert');\n",
              "        buttonEl.style.display =\n",
              "          google.colab.kernel.accessAllowed ? 'block' : 'none';\n",
              "\n",
              "        async function convertToInteractive(key) {\n",
              "          const element = document.querySelector('#df-1de7a993-3616-4452-99cc-4b9d7b712876');\n",
              "          const dataTable =\n",
              "            await google.colab.kernel.invokeFunction('convertToInteractive',\n",
              "                                                     [key], {});\n",
              "          if (!dataTable) return;\n",
              "\n",
              "          const docLinkHtml = 'Like what you see? Visit the ' +\n",
              "            '<a target=\"_blank\" href=https://colab.research.google.com/notebooks/data_table.ipynb>data table notebook</a>'\n",
              "            + ' to learn more about interactive tables.';\n",
              "          element.innerHTML = '';\n",
              "          dataTable['output_type'] = 'display_data';\n",
              "          await google.colab.output.renderOutput(dataTable, element);\n",
              "          const docLink = document.createElement('div');\n",
              "          docLink.innerHTML = docLinkHtml;\n",
              "          element.appendChild(docLink);\n",
              "        }\n",
              "      </script>\n",
              "    </div>\n",
              "  </div>\n",
              "  "
            ]
          },
          "metadata": {},
          "execution_count": 15
        }
      ]
    },
    {
      "cell_type": "code",
      "source": [
        "grp = df.groupby('Name')\n",
        "for name, group in grp:\n",
        "    print(name)\n",
        "    print(group)\n",
        "    print()"
      ],
      "metadata": {
        "colab": {
          "base_uri": "https://localhost:8080/"
        },
        "id": "O5mgCi8IOEdq",
        "outputId": "1c2ece55-9a91-41d5-f3a8-bf07a227c0df"
      },
      "execution_count": null,
      "outputs": [
        {
          "output_type": "stream",
          "name": "stdout",
          "text": [
            "Abhi\n",
            "   Name  Age\n",
            "7  Abhi   32\n",
            "\n",
            "Anuj\n",
            "   Name  Age\n",
            "1  Anuj   24\n",
            "5  Anuj   36\n",
            "\n",
            "Gaurav\n",
            "     Name  Age\n",
            "4  Gaurav   33\n",
            "\n",
            "Jai\n",
            "  Name  Age\n",
            "0  Jai   27\n",
            "2  Jai   22\n",
            "\n",
            "Princi\n",
            "     Name  Age\n",
            "3  Princi   32\n",
            "6  Princi   27\n",
            "\n"
          ]
        }
      ]
    },
    {
      "cell_type": "code",
      "source": [
        "import pandas as pd\n",
        "  \n",
        "# Define a dictionary containing employee data\n",
        "data1 = {'Name':['Jai', 'Anuj', 'Jai', 'Princi',\n",
        "                 'Gaurav', 'Anuj', 'Princi', 'Abhi'],\n",
        "        'Age':[27, 24, 22, 32,\n",
        "               33, 36, 27, 32],\n",
        "        'Address':['Nagpur', 'Kanpur', 'Allahabad', 'Kannuaj',\n",
        "                   'Jaunpur', 'Kanpur', 'Allahabad', 'Aligarh'],\n",
        "        'Qualification':['Msc', 'MA', 'MCA', 'Phd',\n",
        "                         'B.Tech', 'B.com', 'Msc', 'MA']}\n",
        "    \n",
        "  \n",
        "# Convert the dictionary into DataFrame \n",
        "df = pd.DataFrame(data1)\n",
        "  \n",
        "print(df,'\\n')\n",
        "\n",
        "grp = df.groupby(['Name','Qualification'])\n",
        "for name,Qualification in grp:\n",
        "    print(name)\n",
        "    print(group)\n",
        "    print()"
      ],
      "metadata": {
        "colab": {
          "base_uri": "https://localhost:8080/"
        },
        "id": "tTX3_v1oOQAM",
        "outputId": "2f664c03-2238-4018-afd4-8dd10f9f88a3"
      },
      "execution_count": null,
      "outputs": [
        {
          "output_type": "stream",
          "name": "stdout",
          "text": [
            "     Name  Age    Address Qualification\n",
            "0     Jai   27     Nagpur           Msc\n",
            "1    Anuj   24     Kanpur            MA\n",
            "2     Jai   22  Allahabad           MCA\n",
            "3  Princi   32    Kannuaj           Phd\n",
            "4  Gaurav   33    Jaunpur        B.Tech\n",
            "5    Anuj   36     Kanpur         B.com\n",
            "6  Princi   27  Allahabad           Msc\n",
            "7    Abhi   32    Aligarh            MA \n",
            "\n",
            "('Abhi', 'MA')\n",
            "     Name  Age\n",
            "3  Princi   32\n",
            "6  Princi   27\n",
            "\n",
            "('Anuj', 'B.com')\n",
            "     Name  Age\n",
            "3  Princi   32\n",
            "6  Princi   27\n",
            "\n",
            "('Anuj', 'MA')\n",
            "     Name  Age\n",
            "3  Princi   32\n",
            "6  Princi   27\n",
            "\n",
            "('Gaurav', 'B.Tech')\n",
            "     Name  Age\n",
            "3  Princi   32\n",
            "6  Princi   27\n",
            "\n",
            "('Jai', 'MCA')\n",
            "     Name  Age\n",
            "3  Princi   32\n",
            "6  Princi   27\n",
            "\n",
            "('Jai', 'Msc')\n",
            "     Name  Age\n",
            "3  Princi   32\n",
            "6  Princi   27\n",
            "\n",
            "('Princi', 'Msc')\n",
            "     Name  Age\n",
            "3  Princi   32\n",
            "6  Princi   27\n",
            "\n",
            "('Princi', 'Phd')\n",
            "     Name  Age\n",
            "3  Princi   32\n",
            "6  Princi   27\n",
            "\n"
          ]
        }
      ]
    },
    {
      "cell_type": "code",
      "source": [
        "grp = df.groupby('Name')\n",
        "grp.get_group('Jai')"
      ],
      "metadata": {
        "colab": {
          "base_uri": "https://localhost:8080/",
          "height": 112
        },
        "id": "V6wMsB40Q_XI",
        "outputId": "e613400e-2e71-4296-c76d-e73aacdf4342"
      },
      "execution_count": null,
      "outputs": [
        {
          "output_type": "execute_result",
          "data": {
            "text/plain": [
              "  Name  Age    Address Qualification\n",
              "0  Jai   27     Nagpur           Msc\n",
              "2  Jai   22  Allahabad           MCA"
            ],
            "text/html": [
              "\n",
              "  <div id=\"df-a1ded676-d571-4441-bdcf-c74eb583304b\">\n",
              "    <div class=\"colab-df-container\">\n",
              "      <div>\n",
              "<style scoped>\n",
              "    .dataframe tbody tr th:only-of-type {\n",
              "        vertical-align: middle;\n",
              "    }\n",
              "\n",
              "    .dataframe tbody tr th {\n",
              "        vertical-align: top;\n",
              "    }\n",
              "\n",
              "    .dataframe thead th {\n",
              "        text-align: right;\n",
              "    }\n",
              "</style>\n",
              "<table border=\"1\" class=\"dataframe\">\n",
              "  <thead>\n",
              "    <tr style=\"text-align: right;\">\n",
              "      <th></th>\n",
              "      <th>Name</th>\n",
              "      <th>Age</th>\n",
              "      <th>Address</th>\n",
              "      <th>Qualification</th>\n",
              "    </tr>\n",
              "  </thead>\n",
              "  <tbody>\n",
              "    <tr>\n",
              "      <th>0</th>\n",
              "      <td>Jai</td>\n",
              "      <td>27</td>\n",
              "      <td>Nagpur</td>\n",
              "      <td>Msc</td>\n",
              "    </tr>\n",
              "    <tr>\n",
              "      <th>2</th>\n",
              "      <td>Jai</td>\n",
              "      <td>22</td>\n",
              "      <td>Allahabad</td>\n",
              "      <td>MCA</td>\n",
              "    </tr>\n",
              "  </tbody>\n",
              "</table>\n",
              "</div>\n",
              "      <button class=\"colab-df-convert\" onclick=\"convertToInteractive('df-a1ded676-d571-4441-bdcf-c74eb583304b')\"\n",
              "              title=\"Convert this dataframe to an interactive table.\"\n",
              "              style=\"display:none;\">\n",
              "        \n",
              "  <svg xmlns=\"http://www.w3.org/2000/svg\" height=\"24px\"viewBox=\"0 0 24 24\"\n",
              "       width=\"24px\">\n",
              "    <path d=\"M0 0h24v24H0V0z\" fill=\"none\"/>\n",
              "    <path d=\"M18.56 5.44l.94 2.06.94-2.06 2.06-.94-2.06-.94-.94-2.06-.94 2.06-2.06.94zm-11 1L8.5 8.5l.94-2.06 2.06-.94-2.06-.94L8.5 2.5l-.94 2.06-2.06.94zm10 10l.94 2.06.94-2.06 2.06-.94-2.06-.94-.94-2.06-.94 2.06-2.06.94z\"/><path d=\"M17.41 7.96l-1.37-1.37c-.4-.4-.92-.59-1.43-.59-.52 0-1.04.2-1.43.59L10.3 9.45l-7.72 7.72c-.78.78-.78 2.05 0 2.83L4 21.41c.39.39.9.59 1.41.59.51 0 1.02-.2 1.41-.59l7.78-7.78 2.81-2.81c.8-.78.8-2.07 0-2.86zM5.41 20L4 18.59l7.72-7.72 1.47 1.35L5.41 20z\"/>\n",
              "  </svg>\n",
              "      </button>\n",
              "      \n",
              "  <style>\n",
              "    .colab-df-container {\n",
              "      display:flex;\n",
              "      flex-wrap:wrap;\n",
              "      gap: 12px;\n",
              "    }\n",
              "\n",
              "    .colab-df-convert {\n",
              "      background-color: #E8F0FE;\n",
              "      border: none;\n",
              "      border-radius: 50%;\n",
              "      cursor: pointer;\n",
              "      display: none;\n",
              "      fill: #1967D2;\n",
              "      height: 32px;\n",
              "      padding: 0 0 0 0;\n",
              "      width: 32px;\n",
              "    }\n",
              "\n",
              "    .colab-df-convert:hover {\n",
              "      background-color: #E2EBFA;\n",
              "      box-shadow: 0px 1px 2px rgba(60, 64, 67, 0.3), 0px 1px 3px 1px rgba(60, 64, 67, 0.15);\n",
              "      fill: #174EA6;\n",
              "    }\n",
              "\n",
              "    [theme=dark] .colab-df-convert {\n",
              "      background-color: #3B4455;\n",
              "      fill: #D2E3FC;\n",
              "    }\n",
              "\n",
              "    [theme=dark] .colab-df-convert:hover {\n",
              "      background-color: #434B5C;\n",
              "      box-shadow: 0px 1px 3px 1px rgba(0, 0, 0, 0.15);\n",
              "      filter: drop-shadow(0px 1px 2px rgba(0, 0, 0, 0.3));\n",
              "      fill: #FFFFFF;\n",
              "    }\n",
              "  </style>\n",
              "\n",
              "      <script>\n",
              "        const buttonEl =\n",
              "          document.querySelector('#df-a1ded676-d571-4441-bdcf-c74eb583304b button.colab-df-convert');\n",
              "        buttonEl.style.display =\n",
              "          google.colab.kernel.accessAllowed ? 'block' : 'none';\n",
              "\n",
              "        async function convertToInteractive(key) {\n",
              "          const element = document.querySelector('#df-a1ded676-d571-4441-bdcf-c74eb583304b');\n",
              "          const dataTable =\n",
              "            await google.colab.kernel.invokeFunction('convertToInteractive',\n",
              "                                                     [key], {});\n",
              "          if (!dataTable) return;\n",
              "\n",
              "          const docLinkHtml = 'Like what you see? Visit the ' +\n",
              "            '<a target=\"_blank\" href=https://colab.research.google.com/notebooks/data_table.ipynb>data table notebook</a>'\n",
              "            + ' to learn more about interactive tables.';\n",
              "          element.innerHTML = '';\n",
              "          dataTable['output_type'] = 'display_data';\n",
              "          await google.colab.output.renderOutput(dataTable, element);\n",
              "          const docLink = document.createElement('div');\n",
              "          docLink.innerHTML = docLinkHtml;\n",
              "          element.appendChild(docLink);\n",
              "        }\n",
              "      </script>\n",
              "    </div>\n",
              "  </div>\n",
              "  "
            ]
          },
          "metadata": {},
          "execution_count": 27
        }
      ]
    },
    {
      "cell_type": "code",
      "source": [
        "grp = df.groupby(['Name', 'Qualification'])\n",
        "grp.get_group(('Jai', 'Msc'))"
      ],
      "metadata": {
        "colab": {
          "base_uri": "https://localhost:8080/",
          "height": 81
        },
        "id": "RW7Y484BRDl-",
        "outputId": "058f1e01-2288-47fa-eea9-a1ba6419c7fd"
      },
      "execution_count": null,
      "outputs": [
        {
          "output_type": "execute_result",
          "data": {
            "text/plain": [
              "  Name  Age Address Qualification\n",
              "0  Jai   27  Nagpur           Msc"
            ],
            "text/html": [
              "\n",
              "  <div id=\"df-582c87c6-c5af-4ff5-a698-cfd61b3e0b94\">\n",
              "    <div class=\"colab-df-container\">\n",
              "      <div>\n",
              "<style scoped>\n",
              "    .dataframe tbody tr th:only-of-type {\n",
              "        vertical-align: middle;\n",
              "    }\n",
              "\n",
              "    .dataframe tbody tr th {\n",
              "        vertical-align: top;\n",
              "    }\n",
              "\n",
              "    .dataframe thead th {\n",
              "        text-align: right;\n",
              "    }\n",
              "</style>\n",
              "<table border=\"1\" class=\"dataframe\">\n",
              "  <thead>\n",
              "    <tr style=\"text-align: right;\">\n",
              "      <th></th>\n",
              "      <th>Name</th>\n",
              "      <th>Age</th>\n",
              "      <th>Address</th>\n",
              "      <th>Qualification</th>\n",
              "    </tr>\n",
              "  </thead>\n",
              "  <tbody>\n",
              "    <tr>\n",
              "      <th>0</th>\n",
              "      <td>Jai</td>\n",
              "      <td>27</td>\n",
              "      <td>Nagpur</td>\n",
              "      <td>Msc</td>\n",
              "    </tr>\n",
              "  </tbody>\n",
              "</table>\n",
              "</div>\n",
              "      <button class=\"colab-df-convert\" onclick=\"convertToInteractive('df-582c87c6-c5af-4ff5-a698-cfd61b3e0b94')\"\n",
              "              title=\"Convert this dataframe to an interactive table.\"\n",
              "              style=\"display:none;\">\n",
              "        \n",
              "  <svg xmlns=\"http://www.w3.org/2000/svg\" height=\"24px\"viewBox=\"0 0 24 24\"\n",
              "       width=\"24px\">\n",
              "    <path d=\"M0 0h24v24H0V0z\" fill=\"none\"/>\n",
              "    <path d=\"M18.56 5.44l.94 2.06.94-2.06 2.06-.94-2.06-.94-.94-2.06-.94 2.06-2.06.94zm-11 1L8.5 8.5l.94-2.06 2.06-.94-2.06-.94L8.5 2.5l-.94 2.06-2.06.94zm10 10l.94 2.06.94-2.06 2.06-.94-2.06-.94-.94-2.06-.94 2.06-2.06.94z\"/><path d=\"M17.41 7.96l-1.37-1.37c-.4-.4-.92-.59-1.43-.59-.52 0-1.04.2-1.43.59L10.3 9.45l-7.72 7.72c-.78.78-.78 2.05 0 2.83L4 21.41c.39.39.9.59 1.41.59.51 0 1.02-.2 1.41-.59l7.78-7.78 2.81-2.81c.8-.78.8-2.07 0-2.86zM5.41 20L4 18.59l7.72-7.72 1.47 1.35L5.41 20z\"/>\n",
              "  </svg>\n",
              "      </button>\n",
              "      \n",
              "  <style>\n",
              "    .colab-df-container {\n",
              "      display:flex;\n",
              "      flex-wrap:wrap;\n",
              "      gap: 12px;\n",
              "    }\n",
              "\n",
              "    .colab-df-convert {\n",
              "      background-color: #E8F0FE;\n",
              "      border: none;\n",
              "      border-radius: 50%;\n",
              "      cursor: pointer;\n",
              "      display: none;\n",
              "      fill: #1967D2;\n",
              "      height: 32px;\n",
              "      padding: 0 0 0 0;\n",
              "      width: 32px;\n",
              "    }\n",
              "\n",
              "    .colab-df-convert:hover {\n",
              "      background-color: #E2EBFA;\n",
              "      box-shadow: 0px 1px 2px rgba(60, 64, 67, 0.3), 0px 1px 3px 1px rgba(60, 64, 67, 0.15);\n",
              "      fill: #174EA6;\n",
              "    }\n",
              "\n",
              "    [theme=dark] .colab-df-convert {\n",
              "      background-color: #3B4455;\n",
              "      fill: #D2E3FC;\n",
              "    }\n",
              "\n",
              "    [theme=dark] .colab-df-convert:hover {\n",
              "      background-color: #434B5C;\n",
              "      box-shadow: 0px 1px 3px 1px rgba(0, 0, 0, 0.15);\n",
              "      filter: drop-shadow(0px 1px 2px rgba(0, 0, 0, 0.3));\n",
              "      fill: #FFFFFF;\n",
              "    }\n",
              "  </style>\n",
              "\n",
              "      <script>\n",
              "        const buttonEl =\n",
              "          document.querySelector('#df-582c87c6-c5af-4ff5-a698-cfd61b3e0b94 button.colab-df-convert');\n",
              "        buttonEl.style.display =\n",
              "          google.colab.kernel.accessAllowed ? 'block' : 'none';\n",
              "\n",
              "        async function convertToInteractive(key) {\n",
              "          const element = document.querySelector('#df-582c87c6-c5af-4ff5-a698-cfd61b3e0b94');\n",
              "          const dataTable =\n",
              "            await google.colab.kernel.invokeFunction('convertToInteractive',\n",
              "                                                     [key], {});\n",
              "          if (!dataTable) return;\n",
              "\n",
              "          const docLinkHtml = 'Like what you see? Visit the ' +\n",
              "            '<a target=\"_blank\" href=https://colab.research.google.com/notebooks/data_table.ipynb>data table notebook</a>'\n",
              "            + ' to learn more about interactive tables.';\n",
              "          element.innerHTML = '';\n",
              "          dataTable['output_type'] = 'display_data';\n",
              "          await google.colab.output.renderOutput(dataTable, element);\n",
              "          const docLink = document.createElement('div');\n",
              "          docLink.innerHTML = docLinkHtml;\n",
              "          element.appendChild(docLink);\n",
              "        }\n",
              "      </script>\n",
              "    </div>\n",
              "  </div>\n",
              "  "
            ]
          },
          "metadata": {},
          "execution_count": 28
        }
      ]
    },
    {
      "cell_type": "code",
      "source": [
        "import numpy as np\n",
        "grp1 = df.groupby('Name')\n",
        " \n",
        "grp1.aggregate(np.sum)"
      ],
      "metadata": {
        "colab": {
          "base_uri": "https://localhost:8080/",
          "height": 238
        },
        "id": "GAzsgiPKRMU8",
        "outputId": "3e91b1d6-d9b1-4b01-8351-45c150e7c41f"
      },
      "execution_count": null,
      "outputs": [
        {
          "output_type": "execute_result",
          "data": {
            "text/plain": [
              "        Age\n",
              "Name       \n",
              "Abhi     32\n",
              "Anuj     60\n",
              "Gaurav   33\n",
              "Jai      49\n",
              "Princi   59"
            ],
            "text/html": [
              "\n",
              "  <div id=\"df-a5500f51-2e2a-4bf5-835a-3dde32964371\">\n",
              "    <div class=\"colab-df-container\">\n",
              "      <div>\n",
              "<style scoped>\n",
              "    .dataframe tbody tr th:only-of-type {\n",
              "        vertical-align: middle;\n",
              "    }\n",
              "\n",
              "    .dataframe tbody tr th {\n",
              "        vertical-align: top;\n",
              "    }\n",
              "\n",
              "    .dataframe thead th {\n",
              "        text-align: right;\n",
              "    }\n",
              "</style>\n",
              "<table border=\"1\" class=\"dataframe\">\n",
              "  <thead>\n",
              "    <tr style=\"text-align: right;\">\n",
              "      <th></th>\n",
              "      <th>Age</th>\n",
              "    </tr>\n",
              "    <tr>\n",
              "      <th>Name</th>\n",
              "      <th></th>\n",
              "    </tr>\n",
              "  </thead>\n",
              "  <tbody>\n",
              "    <tr>\n",
              "      <th>Abhi</th>\n",
              "      <td>32</td>\n",
              "    </tr>\n",
              "    <tr>\n",
              "      <th>Anuj</th>\n",
              "      <td>60</td>\n",
              "    </tr>\n",
              "    <tr>\n",
              "      <th>Gaurav</th>\n",
              "      <td>33</td>\n",
              "    </tr>\n",
              "    <tr>\n",
              "      <th>Jai</th>\n",
              "      <td>49</td>\n",
              "    </tr>\n",
              "    <tr>\n",
              "      <th>Princi</th>\n",
              "      <td>59</td>\n",
              "    </tr>\n",
              "  </tbody>\n",
              "</table>\n",
              "</div>\n",
              "      <button class=\"colab-df-convert\" onclick=\"convertToInteractive('df-a5500f51-2e2a-4bf5-835a-3dde32964371')\"\n",
              "              title=\"Convert this dataframe to an interactive table.\"\n",
              "              style=\"display:none;\">\n",
              "        \n",
              "  <svg xmlns=\"http://www.w3.org/2000/svg\" height=\"24px\"viewBox=\"0 0 24 24\"\n",
              "       width=\"24px\">\n",
              "    <path d=\"M0 0h24v24H0V0z\" fill=\"none\"/>\n",
              "    <path d=\"M18.56 5.44l.94 2.06.94-2.06 2.06-.94-2.06-.94-.94-2.06-.94 2.06-2.06.94zm-11 1L8.5 8.5l.94-2.06 2.06-.94-2.06-.94L8.5 2.5l-.94 2.06-2.06.94zm10 10l.94 2.06.94-2.06 2.06-.94-2.06-.94-.94-2.06-.94 2.06-2.06.94z\"/><path d=\"M17.41 7.96l-1.37-1.37c-.4-.4-.92-.59-1.43-.59-.52 0-1.04.2-1.43.59L10.3 9.45l-7.72 7.72c-.78.78-.78 2.05 0 2.83L4 21.41c.39.39.9.59 1.41.59.51 0 1.02-.2 1.41-.59l7.78-7.78 2.81-2.81c.8-.78.8-2.07 0-2.86zM5.41 20L4 18.59l7.72-7.72 1.47 1.35L5.41 20z\"/>\n",
              "  </svg>\n",
              "      </button>\n",
              "      \n",
              "  <style>\n",
              "    .colab-df-container {\n",
              "      display:flex;\n",
              "      flex-wrap:wrap;\n",
              "      gap: 12px;\n",
              "    }\n",
              "\n",
              "    .colab-df-convert {\n",
              "      background-color: #E8F0FE;\n",
              "      border: none;\n",
              "      border-radius: 50%;\n",
              "      cursor: pointer;\n",
              "      display: none;\n",
              "      fill: #1967D2;\n",
              "      height: 32px;\n",
              "      padding: 0 0 0 0;\n",
              "      width: 32px;\n",
              "    }\n",
              "\n",
              "    .colab-df-convert:hover {\n",
              "      background-color: #E2EBFA;\n",
              "      box-shadow: 0px 1px 2px rgba(60, 64, 67, 0.3), 0px 1px 3px 1px rgba(60, 64, 67, 0.15);\n",
              "      fill: #174EA6;\n",
              "    }\n",
              "\n",
              "    [theme=dark] .colab-df-convert {\n",
              "      background-color: #3B4455;\n",
              "      fill: #D2E3FC;\n",
              "    }\n",
              "\n",
              "    [theme=dark] .colab-df-convert:hover {\n",
              "      background-color: #434B5C;\n",
              "      box-shadow: 0px 1px 3px 1px rgba(0, 0, 0, 0.15);\n",
              "      filter: drop-shadow(0px 1px 2px rgba(0, 0, 0, 0.3));\n",
              "      fill: #FFFFFF;\n",
              "    }\n",
              "  </style>\n",
              "\n",
              "      <script>\n",
              "        const buttonEl =\n",
              "          document.querySelector('#df-a5500f51-2e2a-4bf5-835a-3dde32964371 button.colab-df-convert');\n",
              "        buttonEl.style.display =\n",
              "          google.colab.kernel.accessAllowed ? 'block' : 'none';\n",
              "\n",
              "        async function convertToInteractive(key) {\n",
              "          const element = document.querySelector('#df-a5500f51-2e2a-4bf5-835a-3dde32964371');\n",
              "          const dataTable =\n",
              "            await google.colab.kernel.invokeFunction('convertToInteractive',\n",
              "                                                     [key], {});\n",
              "          if (!dataTable) return;\n",
              "\n",
              "          const docLinkHtml = 'Like what you see? Visit the ' +\n",
              "            '<a target=\"_blank\" href=https://colab.research.google.com/notebooks/data_table.ipynb>data table notebook</a>'\n",
              "            + ' to learn more about interactive tables.';\n",
              "          element.innerHTML = '';\n",
              "          dataTable['output_type'] = 'display_data';\n",
              "          await google.colab.output.renderOutput(dataTable, element);\n",
              "          const docLink = document.createElement('div');\n",
              "          docLink.innerHTML = docLinkHtml;\n",
              "          element.appendChild(docLink);\n",
              "        }\n",
              "      </script>\n",
              "    </div>\n",
              "  </div>\n",
              "  "
            ]
          },
          "metadata": {},
          "execution_count": 30
        }
      ]
    },
    {
      "cell_type": "code",
      "source": [
        "grp1 = df.groupby(['Name', 'Qualification'])\n",
        " \n",
        "grp1.aggregate(np.sum)"
      ],
      "metadata": {
        "colab": {
          "base_uri": "https://localhost:8080/",
          "height": 332
        },
        "id": "29StbqNdRTU5",
        "outputId": "16dec2df-c522-4b6a-930e-a6a3ec823af4"
      },
      "execution_count": null,
      "outputs": [
        {
          "output_type": "execute_result",
          "data": {
            "text/plain": [
              "                      Age\n",
              "Name   Qualification     \n",
              "Abhi   MA              32\n",
              "Anuj   B.com           36\n",
              "       MA              24\n",
              "Gaurav B.Tech          33\n",
              "Jai    MCA             22\n",
              "       Msc             27\n",
              "Princi Msc             27\n",
              "       Phd             32"
            ],
            "text/html": [
              "\n",
              "  <div id=\"df-bbc3e9fb-6009-45c8-893a-37afbaace0b7\">\n",
              "    <div class=\"colab-df-container\">\n",
              "      <div>\n",
              "<style scoped>\n",
              "    .dataframe tbody tr th:only-of-type {\n",
              "        vertical-align: middle;\n",
              "    }\n",
              "\n",
              "    .dataframe tbody tr th {\n",
              "        vertical-align: top;\n",
              "    }\n",
              "\n",
              "    .dataframe thead th {\n",
              "        text-align: right;\n",
              "    }\n",
              "</style>\n",
              "<table border=\"1\" class=\"dataframe\">\n",
              "  <thead>\n",
              "    <tr style=\"text-align: right;\">\n",
              "      <th></th>\n",
              "      <th></th>\n",
              "      <th>Age</th>\n",
              "    </tr>\n",
              "    <tr>\n",
              "      <th>Name</th>\n",
              "      <th>Qualification</th>\n",
              "      <th></th>\n",
              "    </tr>\n",
              "  </thead>\n",
              "  <tbody>\n",
              "    <tr>\n",
              "      <th>Abhi</th>\n",
              "      <th>MA</th>\n",
              "      <td>32</td>\n",
              "    </tr>\n",
              "    <tr>\n",
              "      <th rowspan=\"2\" valign=\"top\">Anuj</th>\n",
              "      <th>B.com</th>\n",
              "      <td>36</td>\n",
              "    </tr>\n",
              "    <tr>\n",
              "      <th>MA</th>\n",
              "      <td>24</td>\n",
              "    </tr>\n",
              "    <tr>\n",
              "      <th>Gaurav</th>\n",
              "      <th>B.Tech</th>\n",
              "      <td>33</td>\n",
              "    </tr>\n",
              "    <tr>\n",
              "      <th rowspan=\"2\" valign=\"top\">Jai</th>\n",
              "      <th>MCA</th>\n",
              "      <td>22</td>\n",
              "    </tr>\n",
              "    <tr>\n",
              "      <th>Msc</th>\n",
              "      <td>27</td>\n",
              "    </tr>\n",
              "    <tr>\n",
              "      <th rowspan=\"2\" valign=\"top\">Princi</th>\n",
              "      <th>Msc</th>\n",
              "      <td>27</td>\n",
              "    </tr>\n",
              "    <tr>\n",
              "      <th>Phd</th>\n",
              "      <td>32</td>\n",
              "    </tr>\n",
              "  </tbody>\n",
              "</table>\n",
              "</div>\n",
              "      <button class=\"colab-df-convert\" onclick=\"convertToInteractive('df-bbc3e9fb-6009-45c8-893a-37afbaace0b7')\"\n",
              "              title=\"Convert this dataframe to an interactive table.\"\n",
              "              style=\"display:none;\">\n",
              "        \n",
              "  <svg xmlns=\"http://www.w3.org/2000/svg\" height=\"24px\"viewBox=\"0 0 24 24\"\n",
              "       width=\"24px\">\n",
              "    <path d=\"M0 0h24v24H0V0z\" fill=\"none\"/>\n",
              "    <path d=\"M18.56 5.44l.94 2.06.94-2.06 2.06-.94-2.06-.94-.94-2.06-.94 2.06-2.06.94zm-11 1L8.5 8.5l.94-2.06 2.06-.94-2.06-.94L8.5 2.5l-.94 2.06-2.06.94zm10 10l.94 2.06.94-2.06 2.06-.94-2.06-.94-.94-2.06-.94 2.06-2.06.94z\"/><path d=\"M17.41 7.96l-1.37-1.37c-.4-.4-.92-.59-1.43-.59-.52 0-1.04.2-1.43.59L10.3 9.45l-7.72 7.72c-.78.78-.78 2.05 0 2.83L4 21.41c.39.39.9.59 1.41.59.51 0 1.02-.2 1.41-.59l7.78-7.78 2.81-2.81c.8-.78.8-2.07 0-2.86zM5.41 20L4 18.59l7.72-7.72 1.47 1.35L5.41 20z\"/>\n",
              "  </svg>\n",
              "      </button>\n",
              "      \n",
              "  <style>\n",
              "    .colab-df-container {\n",
              "      display:flex;\n",
              "      flex-wrap:wrap;\n",
              "      gap: 12px;\n",
              "    }\n",
              "\n",
              "    .colab-df-convert {\n",
              "      background-color: #E8F0FE;\n",
              "      border: none;\n",
              "      border-radius: 50%;\n",
              "      cursor: pointer;\n",
              "      display: none;\n",
              "      fill: #1967D2;\n",
              "      height: 32px;\n",
              "      padding: 0 0 0 0;\n",
              "      width: 32px;\n",
              "    }\n",
              "\n",
              "    .colab-df-convert:hover {\n",
              "      background-color: #E2EBFA;\n",
              "      box-shadow: 0px 1px 2px rgba(60, 64, 67, 0.3), 0px 1px 3px 1px rgba(60, 64, 67, 0.15);\n",
              "      fill: #174EA6;\n",
              "    }\n",
              "\n",
              "    [theme=dark] .colab-df-convert {\n",
              "      background-color: #3B4455;\n",
              "      fill: #D2E3FC;\n",
              "    }\n",
              "\n",
              "    [theme=dark] .colab-df-convert:hover {\n",
              "      background-color: #434B5C;\n",
              "      box-shadow: 0px 1px 3px 1px rgba(0, 0, 0, 0.15);\n",
              "      filter: drop-shadow(0px 1px 2px rgba(0, 0, 0, 0.3));\n",
              "      fill: #FFFFFF;\n",
              "    }\n",
              "  </style>\n",
              "\n",
              "      <script>\n",
              "        const buttonEl =\n",
              "          document.querySelector('#df-bbc3e9fb-6009-45c8-893a-37afbaace0b7 button.colab-df-convert');\n",
              "        buttonEl.style.display =\n",
              "          google.colab.kernel.accessAllowed ? 'block' : 'none';\n",
              "\n",
              "        async function convertToInteractive(key) {\n",
              "          const element = document.querySelector('#df-bbc3e9fb-6009-45c8-893a-37afbaace0b7');\n",
              "          const dataTable =\n",
              "            await google.colab.kernel.invokeFunction('convertToInteractive',\n",
              "                                                     [key], {});\n",
              "          if (!dataTable) return;\n",
              "\n",
              "          const docLinkHtml = 'Like what you see? Visit the ' +\n",
              "            '<a target=\"_blank\" href=https://colab.research.google.com/notebooks/data_table.ipynb>data table notebook</a>'\n",
              "            + ' to learn more about interactive tables.';\n",
              "          element.innerHTML = '';\n",
              "          dataTable['output_type'] = 'display_data';\n",
              "          await google.colab.output.renderOutput(dataTable, element);\n",
              "          const docLink = document.createElement('div');\n",
              "          docLink.innerHTML = docLinkHtml;\n",
              "          element.appendChild(docLink);\n",
              "        }\n",
              "      </script>\n",
              "    </div>\n",
              "  </div>\n",
              "  "
            ]
          },
          "metadata": {},
          "execution_count": 31
        }
      ]
    },
    {
      "cell_type": "code",
      "source": [
        "data1 = {'Name':['Jai', 'Anuj', 'Jai', 'Princi',\n",
        "                 'Gaurav', 'Anuj', 'Princi', 'Abhi'],\n",
        "        'Age':[27, 24, 22, 32,\n",
        "               33, 36, 27, 32],\n",
        "        'Address':['Nagpur', 'Kanpur', 'Allahabad', 'Kannuaj',\n",
        "                   'Jaunpur', 'Kanpur', 'Allahabad', 'Aligarh'],\n",
        "        'Qualification':['Msc', 'MA', 'MCA', 'Phd',\n",
        "                         'B.Tech', 'B.com', 'Msc', 'MA']}\n",
        "    \n",
        "  \n",
        "# Convert the dictionary into DataFrame \n",
        "df = pd.DataFrame(data1)\n",
        "  \n",
        "print(df)"
      ],
      "metadata": {
        "colab": {
          "base_uri": "https://localhost:8080/"
        },
        "id": "UPJ6npXFRbHE",
        "outputId": "e77abf6e-1f82-4d27-a9af-9a8916e216c5"
      },
      "execution_count": null,
      "outputs": [
        {
          "output_type": "stream",
          "name": "stdout",
          "text": [
            "     Name  Age    Address Qualification\n",
            "0     Jai   27     Nagpur           Msc\n",
            "1    Anuj   24     Kanpur            MA\n",
            "2     Jai   22  Allahabad           MCA\n",
            "3  Princi   32    Kannuaj           Phd\n",
            "4  Gaurav   33    Jaunpur        B.Tech\n",
            "5    Anuj   36     Kanpur         B.com\n",
            "6  Princi   27  Allahabad           Msc\n",
            "7    Abhi   32    Aligarh            MA\n"
          ]
        }
      ]
    },
    {
      "cell_type": "code",
      "source": [
        "grp = df.groupby('Name')\n",
        " \n",
        "grp['Age'].agg([np.sum, np.mean, np.std])"
      ],
      "metadata": {
        "colab": {
          "base_uri": "https://localhost:8080/",
          "height": 238
        },
        "id": "bECR9Qm_Rhmj",
        "outputId": "1ecd6884-2337-48d6-b8ab-6fdf3763ca2b"
      },
      "execution_count": null,
      "outputs": [
        {
          "output_type": "execute_result",
          "data": {
            "text/plain": [
              "        sum  mean       std\n",
              "Name                       \n",
              "Abhi     32  32.0       NaN\n",
              "Anuj     60  30.0  8.485281\n",
              "Gaurav   33  33.0       NaN\n",
              "Jai      49  24.5  3.535534\n",
              "Princi   59  29.5  3.535534"
            ],
            "text/html": [
              "\n",
              "  <div id=\"df-18af479c-f768-4597-8c44-1f04c24f2004\">\n",
              "    <div class=\"colab-df-container\">\n",
              "      <div>\n",
              "<style scoped>\n",
              "    .dataframe tbody tr th:only-of-type {\n",
              "        vertical-align: middle;\n",
              "    }\n",
              "\n",
              "    .dataframe tbody tr th {\n",
              "        vertical-align: top;\n",
              "    }\n",
              "\n",
              "    .dataframe thead th {\n",
              "        text-align: right;\n",
              "    }\n",
              "</style>\n",
              "<table border=\"1\" class=\"dataframe\">\n",
              "  <thead>\n",
              "    <tr style=\"text-align: right;\">\n",
              "      <th></th>\n",
              "      <th>sum</th>\n",
              "      <th>mean</th>\n",
              "      <th>std</th>\n",
              "    </tr>\n",
              "    <tr>\n",
              "      <th>Name</th>\n",
              "      <th></th>\n",
              "      <th></th>\n",
              "      <th></th>\n",
              "    </tr>\n",
              "  </thead>\n",
              "  <tbody>\n",
              "    <tr>\n",
              "      <th>Abhi</th>\n",
              "      <td>32</td>\n",
              "      <td>32.0</td>\n",
              "      <td>NaN</td>\n",
              "    </tr>\n",
              "    <tr>\n",
              "      <th>Anuj</th>\n",
              "      <td>60</td>\n",
              "      <td>30.0</td>\n",
              "      <td>8.485281</td>\n",
              "    </tr>\n",
              "    <tr>\n",
              "      <th>Gaurav</th>\n",
              "      <td>33</td>\n",
              "      <td>33.0</td>\n",
              "      <td>NaN</td>\n",
              "    </tr>\n",
              "    <tr>\n",
              "      <th>Jai</th>\n",
              "      <td>49</td>\n",
              "      <td>24.5</td>\n",
              "      <td>3.535534</td>\n",
              "    </tr>\n",
              "    <tr>\n",
              "      <th>Princi</th>\n",
              "      <td>59</td>\n",
              "      <td>29.5</td>\n",
              "      <td>3.535534</td>\n",
              "    </tr>\n",
              "  </tbody>\n",
              "</table>\n",
              "</div>\n",
              "      <button class=\"colab-df-convert\" onclick=\"convertToInteractive('df-18af479c-f768-4597-8c44-1f04c24f2004')\"\n",
              "              title=\"Convert this dataframe to an interactive table.\"\n",
              "              style=\"display:none;\">\n",
              "        \n",
              "  <svg xmlns=\"http://www.w3.org/2000/svg\" height=\"24px\"viewBox=\"0 0 24 24\"\n",
              "       width=\"24px\">\n",
              "    <path d=\"M0 0h24v24H0V0z\" fill=\"none\"/>\n",
              "    <path d=\"M18.56 5.44l.94 2.06.94-2.06 2.06-.94-2.06-.94-.94-2.06-.94 2.06-2.06.94zm-11 1L8.5 8.5l.94-2.06 2.06-.94-2.06-.94L8.5 2.5l-.94 2.06-2.06.94zm10 10l.94 2.06.94-2.06 2.06-.94-2.06-.94-.94-2.06-.94 2.06-2.06.94z\"/><path d=\"M17.41 7.96l-1.37-1.37c-.4-.4-.92-.59-1.43-.59-.52 0-1.04.2-1.43.59L10.3 9.45l-7.72 7.72c-.78.78-.78 2.05 0 2.83L4 21.41c.39.39.9.59 1.41.59.51 0 1.02-.2 1.41-.59l7.78-7.78 2.81-2.81c.8-.78.8-2.07 0-2.86zM5.41 20L4 18.59l7.72-7.72 1.47 1.35L5.41 20z\"/>\n",
              "  </svg>\n",
              "      </button>\n",
              "      \n",
              "  <style>\n",
              "    .colab-df-container {\n",
              "      display:flex;\n",
              "      flex-wrap:wrap;\n",
              "      gap: 12px;\n",
              "    }\n",
              "\n",
              "    .colab-df-convert {\n",
              "      background-color: #E8F0FE;\n",
              "      border: none;\n",
              "      border-radius: 50%;\n",
              "      cursor: pointer;\n",
              "      display: none;\n",
              "      fill: #1967D2;\n",
              "      height: 32px;\n",
              "      padding: 0 0 0 0;\n",
              "      width: 32px;\n",
              "    }\n",
              "\n",
              "    .colab-df-convert:hover {\n",
              "      background-color: #E2EBFA;\n",
              "      box-shadow: 0px 1px 2px rgba(60, 64, 67, 0.3), 0px 1px 3px 1px rgba(60, 64, 67, 0.15);\n",
              "      fill: #174EA6;\n",
              "    }\n",
              "\n",
              "    [theme=dark] .colab-df-convert {\n",
              "      background-color: #3B4455;\n",
              "      fill: #D2E3FC;\n",
              "    }\n",
              "\n",
              "    [theme=dark] .colab-df-convert:hover {\n",
              "      background-color: #434B5C;\n",
              "      box-shadow: 0px 1px 3px 1px rgba(0, 0, 0, 0.15);\n",
              "      filter: drop-shadow(0px 1px 2px rgba(0, 0, 0, 0.3));\n",
              "      fill: #FFFFFF;\n",
              "    }\n",
              "  </style>\n",
              "\n",
              "      <script>\n",
              "        const buttonEl =\n",
              "          document.querySelector('#df-18af479c-f768-4597-8c44-1f04c24f2004 button.colab-df-convert');\n",
              "        buttonEl.style.display =\n",
              "          google.colab.kernel.accessAllowed ? 'block' : 'none';\n",
              "\n",
              "        async function convertToInteractive(key) {\n",
              "          const element = document.querySelector('#df-18af479c-f768-4597-8c44-1f04c24f2004');\n",
              "          const dataTable =\n",
              "            await google.colab.kernel.invokeFunction('convertToInteractive',\n",
              "                                                     [key], {});\n",
              "          if (!dataTable) return;\n",
              "\n",
              "          const docLinkHtml = 'Like what you see? Visit the ' +\n",
              "            '<a target=\"_blank\" href=https://colab.research.google.com/notebooks/data_table.ipynb>data table notebook</a>'\n",
              "            + ' to learn more about interactive tables.';\n",
              "          element.innerHTML = '';\n",
              "          dataTable['output_type'] = 'display_data';\n",
              "          await google.colab.output.renderOutput(dataTable, element);\n",
              "          const docLink = document.createElement('div');\n",
              "          docLink.innerHTML = docLinkHtml;\n",
              "          element.appendChild(docLink);\n",
              "        }\n",
              "      </script>\n",
              "    </div>\n",
              "  </div>\n",
              "  "
            ]
          },
          "metadata": {},
          "execution_count": 33
        }
      ]
    },
    {
      "cell_type": "code",
      "source": [
        "data1 = {'Name':['Jai', 'Anuj', 'Jai', 'Princi',\n",
        "                 'Gaurav', 'Anuj', 'Princi', 'Abhi'],\n",
        "        'Age':[27, 24, 22, 32,\n",
        "               33, 36, 27, 32],\n",
        "        'Address':['Nagpur', 'Kanpur', 'Allahabad', 'Kannuaj',\n",
        "                   'Jaunpur', 'Kanpur', 'Allahabad', 'Aligarh'],\n",
        "        'Qualification':['Msc', 'MA', 'MCA', 'Phd',\n",
        "                         'B.Tech', 'B.com', 'Msc', 'MA'],\n",
        "        'Score': [23, 34, 35, 45, 47, 50, 52, 53]}\n",
        "    \n",
        "  \n",
        "# Convert the dictionary into DataFrame \n",
        "df = pd.DataFrame(data1)\n",
        "  \n",
        "print(df)"
      ],
      "metadata": {
        "colab": {
          "base_uri": "https://localhost:8080/"
        },
        "id": "ulf37r_ERtNa",
        "outputId": "309254bc-653a-4013-ac3c-dedc63d59e5f"
      },
      "execution_count": null,
      "outputs": [
        {
          "output_type": "stream",
          "name": "stdout",
          "text": [
            "     Name  Age    Address Qualification  Score\n",
            "0     Jai   27     Nagpur           Msc     23\n",
            "1    Anuj   24     Kanpur            MA     34\n",
            "2     Jai   22  Allahabad           MCA     35\n",
            "3  Princi   32    Kannuaj           Phd     45\n",
            "4  Gaurav   33    Jaunpur        B.Tech     47\n",
            "5    Anuj   36     Kanpur         B.com     50\n",
            "6  Princi   27  Allahabad           Msc     52\n",
            "7    Abhi   32    Aligarh            MA     53\n"
          ]
        }
      ]
    },
    {
      "cell_type": "code",
      "source": [
        "grp = df.groupby('Name')\n",
        " \n",
        "grp.agg({'Age' : 'sum', 'Score' : 'std'})"
      ],
      "metadata": {
        "colab": {
          "base_uri": "https://localhost:8080/",
          "height": 238
        },
        "id": "M0nPFs59Rn9a",
        "outputId": "e7202683-bfdd-4e8f-9fad-e1f234a9b66c"
      },
      "execution_count": null,
      "outputs": [
        {
          "output_type": "execute_result",
          "data": {
            "text/plain": [
              "        Age      Score\n",
              "Name                  \n",
              "Abhi     32        NaN\n",
              "Anuj     60  11.313708\n",
              "Gaurav   33        NaN\n",
              "Jai      49   8.485281\n",
              "Princi   59   4.949747"
            ],
            "text/html": [
              "\n",
              "  <div id=\"df-8b8fd0e3-571a-4084-942d-4aa5efabcb90\">\n",
              "    <div class=\"colab-df-container\">\n",
              "      <div>\n",
              "<style scoped>\n",
              "    .dataframe tbody tr th:only-of-type {\n",
              "        vertical-align: middle;\n",
              "    }\n",
              "\n",
              "    .dataframe tbody tr th {\n",
              "        vertical-align: top;\n",
              "    }\n",
              "\n",
              "    .dataframe thead th {\n",
              "        text-align: right;\n",
              "    }\n",
              "</style>\n",
              "<table border=\"1\" class=\"dataframe\">\n",
              "  <thead>\n",
              "    <tr style=\"text-align: right;\">\n",
              "      <th></th>\n",
              "      <th>Age</th>\n",
              "      <th>Score</th>\n",
              "    </tr>\n",
              "    <tr>\n",
              "      <th>Name</th>\n",
              "      <th></th>\n",
              "      <th></th>\n",
              "    </tr>\n",
              "  </thead>\n",
              "  <tbody>\n",
              "    <tr>\n",
              "      <th>Abhi</th>\n",
              "      <td>32</td>\n",
              "      <td>NaN</td>\n",
              "    </tr>\n",
              "    <tr>\n",
              "      <th>Anuj</th>\n",
              "      <td>60</td>\n",
              "      <td>11.313708</td>\n",
              "    </tr>\n",
              "    <tr>\n",
              "      <th>Gaurav</th>\n",
              "      <td>33</td>\n",
              "      <td>NaN</td>\n",
              "    </tr>\n",
              "    <tr>\n",
              "      <th>Jai</th>\n",
              "      <td>49</td>\n",
              "      <td>8.485281</td>\n",
              "    </tr>\n",
              "    <tr>\n",
              "      <th>Princi</th>\n",
              "      <td>59</td>\n",
              "      <td>4.949747</td>\n",
              "    </tr>\n",
              "  </tbody>\n",
              "</table>\n",
              "</div>\n",
              "      <button class=\"colab-df-convert\" onclick=\"convertToInteractive('df-8b8fd0e3-571a-4084-942d-4aa5efabcb90')\"\n",
              "              title=\"Convert this dataframe to an interactive table.\"\n",
              "              style=\"display:none;\">\n",
              "        \n",
              "  <svg xmlns=\"http://www.w3.org/2000/svg\" height=\"24px\"viewBox=\"0 0 24 24\"\n",
              "       width=\"24px\">\n",
              "    <path d=\"M0 0h24v24H0V0z\" fill=\"none\"/>\n",
              "    <path d=\"M18.56 5.44l.94 2.06.94-2.06 2.06-.94-2.06-.94-.94-2.06-.94 2.06-2.06.94zm-11 1L8.5 8.5l.94-2.06 2.06-.94-2.06-.94L8.5 2.5l-.94 2.06-2.06.94zm10 10l.94 2.06.94-2.06 2.06-.94-2.06-.94-.94-2.06-.94 2.06-2.06.94z\"/><path d=\"M17.41 7.96l-1.37-1.37c-.4-.4-.92-.59-1.43-.59-.52 0-1.04.2-1.43.59L10.3 9.45l-7.72 7.72c-.78.78-.78 2.05 0 2.83L4 21.41c.39.39.9.59 1.41.59.51 0 1.02-.2 1.41-.59l7.78-7.78 2.81-2.81c.8-.78.8-2.07 0-2.86zM5.41 20L4 18.59l7.72-7.72 1.47 1.35L5.41 20z\"/>\n",
              "  </svg>\n",
              "      </button>\n",
              "      \n",
              "  <style>\n",
              "    .colab-df-container {\n",
              "      display:flex;\n",
              "      flex-wrap:wrap;\n",
              "      gap: 12px;\n",
              "    }\n",
              "\n",
              "    .colab-df-convert {\n",
              "      background-color: #E8F0FE;\n",
              "      border: none;\n",
              "      border-radius: 50%;\n",
              "      cursor: pointer;\n",
              "      display: none;\n",
              "      fill: #1967D2;\n",
              "      height: 32px;\n",
              "      padding: 0 0 0 0;\n",
              "      width: 32px;\n",
              "    }\n",
              "\n",
              "    .colab-df-convert:hover {\n",
              "      background-color: #E2EBFA;\n",
              "      box-shadow: 0px 1px 2px rgba(60, 64, 67, 0.3), 0px 1px 3px 1px rgba(60, 64, 67, 0.15);\n",
              "      fill: #174EA6;\n",
              "    }\n",
              "\n",
              "    [theme=dark] .colab-df-convert {\n",
              "      background-color: #3B4455;\n",
              "      fill: #D2E3FC;\n",
              "    }\n",
              "\n",
              "    [theme=dark] .colab-df-convert:hover {\n",
              "      background-color: #434B5C;\n",
              "      box-shadow: 0px 1px 3px 1px rgba(0, 0, 0, 0.15);\n",
              "      filter: drop-shadow(0px 1px 2px rgba(0, 0, 0, 0.3));\n",
              "      fill: #FFFFFF;\n",
              "    }\n",
              "  </style>\n",
              "\n",
              "      <script>\n",
              "        const buttonEl =\n",
              "          document.querySelector('#df-8b8fd0e3-571a-4084-942d-4aa5efabcb90 button.colab-df-convert');\n",
              "        buttonEl.style.display =\n",
              "          google.colab.kernel.accessAllowed ? 'block' : 'none';\n",
              "\n",
              "        async function convertToInteractive(key) {\n",
              "          const element = document.querySelector('#df-8b8fd0e3-571a-4084-942d-4aa5efabcb90');\n",
              "          const dataTable =\n",
              "            await google.colab.kernel.invokeFunction('convertToInteractive',\n",
              "                                                     [key], {});\n",
              "          if (!dataTable) return;\n",
              "\n",
              "          const docLinkHtml = 'Like what you see? Visit the ' +\n",
              "            '<a target=\"_blank\" href=https://colab.research.google.com/notebooks/data_table.ipynb>data table notebook</a>'\n",
              "            + ' to learn more about interactive tables.';\n",
              "          element.innerHTML = '';\n",
              "          dataTable['output_type'] = 'display_data';\n",
              "          await google.colab.output.renderOutput(dataTable, element);\n",
              "          const docLink = document.createElement('div');\n",
              "          docLink.innerHTML = docLinkHtml;\n",
              "          element.appendChild(docLink);\n",
              "        }\n",
              "      </script>\n",
              "    </div>\n",
              "  </div>\n",
              "  "
            ]
          },
          "metadata": {},
          "execution_count": 36
        }
      ]
    },
    {
      "cell_type": "code",
      "source": [
        "grp = df.groupby('Name')\n",
        "grp.filter(lambda x: len(x) >= 2)"
      ],
      "metadata": {
        "colab": {
          "base_uri": "https://localhost:8080/",
          "height": 238
        },
        "id": "tP0WORGFSZ2G",
        "outputId": "304ea0b2-1fee-4048-e692-dd4eba9edf23"
      },
      "execution_count": null,
      "outputs": [
        {
          "output_type": "execute_result",
          "data": {
            "text/plain": [
              "     Name  Age    Address Qualification  Score\n",
              "0     Jai   27     Nagpur           Msc     23\n",
              "1    Anuj   24     Kanpur            MA     34\n",
              "2     Jai   22  Allahabad           MCA     35\n",
              "3  Princi   32    Kannuaj           Phd     45\n",
              "5    Anuj   36     Kanpur         B.com     50\n",
              "6  Princi   27  Allahabad           Msc     52"
            ],
            "text/html": [
              "\n",
              "  <div id=\"df-b5957f6b-7825-4bea-ba77-2226f158d9a4\">\n",
              "    <div class=\"colab-df-container\">\n",
              "      <div>\n",
              "<style scoped>\n",
              "    .dataframe tbody tr th:only-of-type {\n",
              "        vertical-align: middle;\n",
              "    }\n",
              "\n",
              "    .dataframe tbody tr th {\n",
              "        vertical-align: top;\n",
              "    }\n",
              "\n",
              "    .dataframe thead th {\n",
              "        text-align: right;\n",
              "    }\n",
              "</style>\n",
              "<table border=\"1\" class=\"dataframe\">\n",
              "  <thead>\n",
              "    <tr style=\"text-align: right;\">\n",
              "      <th></th>\n",
              "      <th>Name</th>\n",
              "      <th>Age</th>\n",
              "      <th>Address</th>\n",
              "      <th>Qualification</th>\n",
              "      <th>Score</th>\n",
              "    </tr>\n",
              "  </thead>\n",
              "  <tbody>\n",
              "    <tr>\n",
              "      <th>0</th>\n",
              "      <td>Jai</td>\n",
              "      <td>27</td>\n",
              "      <td>Nagpur</td>\n",
              "      <td>Msc</td>\n",
              "      <td>23</td>\n",
              "    </tr>\n",
              "    <tr>\n",
              "      <th>1</th>\n",
              "      <td>Anuj</td>\n",
              "      <td>24</td>\n",
              "      <td>Kanpur</td>\n",
              "      <td>MA</td>\n",
              "      <td>34</td>\n",
              "    </tr>\n",
              "    <tr>\n",
              "      <th>2</th>\n",
              "      <td>Jai</td>\n",
              "      <td>22</td>\n",
              "      <td>Allahabad</td>\n",
              "      <td>MCA</td>\n",
              "      <td>35</td>\n",
              "    </tr>\n",
              "    <tr>\n",
              "      <th>3</th>\n",
              "      <td>Princi</td>\n",
              "      <td>32</td>\n",
              "      <td>Kannuaj</td>\n",
              "      <td>Phd</td>\n",
              "      <td>45</td>\n",
              "    </tr>\n",
              "    <tr>\n",
              "      <th>5</th>\n",
              "      <td>Anuj</td>\n",
              "      <td>36</td>\n",
              "      <td>Kanpur</td>\n",
              "      <td>B.com</td>\n",
              "      <td>50</td>\n",
              "    </tr>\n",
              "    <tr>\n",
              "      <th>6</th>\n",
              "      <td>Princi</td>\n",
              "      <td>27</td>\n",
              "      <td>Allahabad</td>\n",
              "      <td>Msc</td>\n",
              "      <td>52</td>\n",
              "    </tr>\n",
              "  </tbody>\n",
              "</table>\n",
              "</div>\n",
              "      <button class=\"colab-df-convert\" onclick=\"convertToInteractive('df-b5957f6b-7825-4bea-ba77-2226f158d9a4')\"\n",
              "              title=\"Convert this dataframe to an interactive table.\"\n",
              "              style=\"display:none;\">\n",
              "        \n",
              "  <svg xmlns=\"http://www.w3.org/2000/svg\" height=\"24px\"viewBox=\"0 0 24 24\"\n",
              "       width=\"24px\">\n",
              "    <path d=\"M0 0h24v24H0V0z\" fill=\"none\"/>\n",
              "    <path d=\"M18.56 5.44l.94 2.06.94-2.06 2.06-.94-2.06-.94-.94-2.06-.94 2.06-2.06.94zm-11 1L8.5 8.5l.94-2.06 2.06-.94-2.06-.94L8.5 2.5l-.94 2.06-2.06.94zm10 10l.94 2.06.94-2.06 2.06-.94-2.06-.94-.94-2.06-.94 2.06-2.06.94z\"/><path d=\"M17.41 7.96l-1.37-1.37c-.4-.4-.92-.59-1.43-.59-.52 0-1.04.2-1.43.59L10.3 9.45l-7.72 7.72c-.78.78-.78 2.05 0 2.83L4 21.41c.39.39.9.59 1.41.59.51 0 1.02-.2 1.41-.59l7.78-7.78 2.81-2.81c.8-.78.8-2.07 0-2.86zM5.41 20L4 18.59l7.72-7.72 1.47 1.35L5.41 20z\"/>\n",
              "  </svg>\n",
              "      </button>\n",
              "      \n",
              "  <style>\n",
              "    .colab-df-container {\n",
              "      display:flex;\n",
              "      flex-wrap:wrap;\n",
              "      gap: 12px;\n",
              "    }\n",
              "\n",
              "    .colab-df-convert {\n",
              "      background-color: #E8F0FE;\n",
              "      border: none;\n",
              "      border-radius: 50%;\n",
              "      cursor: pointer;\n",
              "      display: none;\n",
              "      fill: #1967D2;\n",
              "      height: 32px;\n",
              "      padding: 0 0 0 0;\n",
              "      width: 32px;\n",
              "    }\n",
              "\n",
              "    .colab-df-convert:hover {\n",
              "      background-color: #E2EBFA;\n",
              "      box-shadow: 0px 1px 2px rgba(60, 64, 67, 0.3), 0px 1px 3px 1px rgba(60, 64, 67, 0.15);\n",
              "      fill: #174EA6;\n",
              "    }\n",
              "\n",
              "    [theme=dark] .colab-df-convert {\n",
              "      background-color: #3B4455;\n",
              "      fill: #D2E3FC;\n",
              "    }\n",
              "\n",
              "    [theme=dark] .colab-df-convert:hover {\n",
              "      background-color: #434B5C;\n",
              "      box-shadow: 0px 1px 3px 1px rgba(0, 0, 0, 0.15);\n",
              "      filter: drop-shadow(0px 1px 2px rgba(0, 0, 0, 0.3));\n",
              "      fill: #FFFFFF;\n",
              "    }\n",
              "  </style>\n",
              "\n",
              "      <script>\n",
              "        const buttonEl =\n",
              "          document.querySelector('#df-b5957f6b-7825-4bea-ba77-2226f158d9a4 button.colab-df-convert');\n",
              "        buttonEl.style.display =\n",
              "          google.colab.kernel.accessAllowed ? 'block' : 'none';\n",
              "\n",
              "        async function convertToInteractive(key) {\n",
              "          const element = document.querySelector('#df-b5957f6b-7825-4bea-ba77-2226f158d9a4');\n",
              "          const dataTable =\n",
              "            await google.colab.kernel.invokeFunction('convertToInteractive',\n",
              "                                                     [key], {});\n",
              "          if (!dataTable) return;\n",
              "\n",
              "          const docLinkHtml = 'Like what you see? Visit the ' +\n",
              "            '<a target=\"_blank\" href=https://colab.research.google.com/notebooks/data_table.ipynb>data table notebook</a>'\n",
              "            + ' to learn more about interactive tables.';\n",
              "          element.innerHTML = '';\n",
              "          dataTable['output_type'] = 'display_data';\n",
              "          await google.colab.output.renderOutput(dataTable, element);\n",
              "          const docLink = document.createElement('div');\n",
              "          docLink.innerHTML = docLinkHtml;\n",
              "          element.appendChild(docLink);\n",
              "        }\n",
              "      </script>\n",
              "    </div>\n",
              "  </div>\n",
              "  "
            ]
          },
          "metadata": {},
          "execution_count": 37
        }
      ]
    },
    {
      "cell_type": "code",
      "source": [
        "import pandas as pd \n",
        " \n",
        "# Define a dictionary containing employee data \n",
        "data1 = {'Name':['Jai', 'Princi', 'Gaurav', 'Anuj'], \n",
        "        'Age':[27, 24, 22, 32], \n",
        "        'Address':['Nagpur', 'Kanpur', 'Allahabad', 'Kannuaj'], \n",
        "        'Qualification':['Msc', 'MA', 'MCA', 'Phd']} \n",
        "   \n",
        "# Define a dictionary containing employee data \n",
        "data2 = {'Name':['Abhi', 'Ayushi', 'Dhiraj', 'Hitesh'], \n",
        "        'Age':[17, 14, 12, 52], \n",
        "        'Address':['Nagpur', 'Kanpur', 'Allahabad', 'Kannuaj'], \n",
        "        'Qualification':['Btech', 'B.A', 'Bcom', 'B.hons']} \n",
        " \n",
        "# Convert the dictionary into DataFrame  \n",
        "df = pd.DataFrame(data1,index=[0, 1, 2, 3])\n",
        " \n",
        "# Convert the dictionary into DataFrame  \n",
        "df1 = pd.DataFrame(data2, index=[4, 5, 6, 7])\n",
        " \n",
        "print(df, \"\\n\\n\", df1) "
      ],
      "metadata": {
        "colab": {
          "base_uri": "https://localhost:8080/"
        },
        "id": "8r2QBK-eStVW",
        "outputId": "72395fe7-d2dc-408f-b9db-f7122c80c0ec"
      },
      "execution_count": null,
      "outputs": [
        {
          "output_type": "stream",
          "name": "stdout",
          "text": [
            "     Name  Age    Address Qualification\n",
            "0     Jai   27     Nagpur           Msc\n",
            "1  Princi   24     Kanpur            MA\n",
            "2  Gaurav   22  Allahabad           MCA\n",
            "3    Anuj   32    Kannuaj           Phd \n",
            "\n",
            "      Name  Age    Address Qualification\n",
            "4    Abhi   17     Nagpur         Btech\n",
            "5  Ayushi   14     Kanpur           B.A\n",
            "6  Dhiraj   12  Allahabad          Bcom\n",
            "7  Hitesh   52    Kannuaj        B.hons\n"
          ]
        }
      ]
    },
    {
      "cell_type": "code",
      "source": [
        "frames = [df, df1]\n",
        " \n",
        "res1 = pd.concat(frames)\n",
        "res1"
      ],
      "metadata": {
        "colab": {
          "base_uri": "https://localhost:8080/",
          "height": 300
        },
        "id": "__b3yZpWSxtf",
        "outputId": "2bbd2e5f-6e2b-4f20-cd9b-ee62ba357a5a"
      },
      "execution_count": null,
      "outputs": [
        {
          "output_type": "execute_result",
          "data": {
            "text/plain": [
              "     Name  Age    Address Qualification\n",
              "0     Jai   27     Nagpur           Msc\n",
              "1  Princi   24     Kanpur            MA\n",
              "2  Gaurav   22  Allahabad           MCA\n",
              "3    Anuj   32    Kannuaj           Phd\n",
              "4    Abhi   17     Nagpur         Btech\n",
              "5  Ayushi   14     Kanpur           B.A\n",
              "6  Dhiraj   12  Allahabad          Bcom\n",
              "7  Hitesh   52    Kannuaj        B.hons"
            ],
            "text/html": [
              "\n",
              "  <div id=\"df-94f79581-b891-474e-ba2c-4ac25a15a501\">\n",
              "    <div class=\"colab-df-container\">\n",
              "      <div>\n",
              "<style scoped>\n",
              "    .dataframe tbody tr th:only-of-type {\n",
              "        vertical-align: middle;\n",
              "    }\n",
              "\n",
              "    .dataframe tbody tr th {\n",
              "        vertical-align: top;\n",
              "    }\n",
              "\n",
              "    .dataframe thead th {\n",
              "        text-align: right;\n",
              "    }\n",
              "</style>\n",
              "<table border=\"1\" class=\"dataframe\">\n",
              "  <thead>\n",
              "    <tr style=\"text-align: right;\">\n",
              "      <th></th>\n",
              "      <th>Name</th>\n",
              "      <th>Age</th>\n",
              "      <th>Address</th>\n",
              "      <th>Qualification</th>\n",
              "    </tr>\n",
              "  </thead>\n",
              "  <tbody>\n",
              "    <tr>\n",
              "      <th>0</th>\n",
              "      <td>Jai</td>\n",
              "      <td>27</td>\n",
              "      <td>Nagpur</td>\n",
              "      <td>Msc</td>\n",
              "    </tr>\n",
              "    <tr>\n",
              "      <th>1</th>\n",
              "      <td>Princi</td>\n",
              "      <td>24</td>\n",
              "      <td>Kanpur</td>\n",
              "      <td>MA</td>\n",
              "    </tr>\n",
              "    <tr>\n",
              "      <th>2</th>\n",
              "      <td>Gaurav</td>\n",
              "      <td>22</td>\n",
              "      <td>Allahabad</td>\n",
              "      <td>MCA</td>\n",
              "    </tr>\n",
              "    <tr>\n",
              "      <th>3</th>\n",
              "      <td>Anuj</td>\n",
              "      <td>32</td>\n",
              "      <td>Kannuaj</td>\n",
              "      <td>Phd</td>\n",
              "    </tr>\n",
              "    <tr>\n",
              "      <th>4</th>\n",
              "      <td>Abhi</td>\n",
              "      <td>17</td>\n",
              "      <td>Nagpur</td>\n",
              "      <td>Btech</td>\n",
              "    </tr>\n",
              "    <tr>\n",
              "      <th>5</th>\n",
              "      <td>Ayushi</td>\n",
              "      <td>14</td>\n",
              "      <td>Kanpur</td>\n",
              "      <td>B.A</td>\n",
              "    </tr>\n",
              "    <tr>\n",
              "      <th>6</th>\n",
              "      <td>Dhiraj</td>\n",
              "      <td>12</td>\n",
              "      <td>Allahabad</td>\n",
              "      <td>Bcom</td>\n",
              "    </tr>\n",
              "    <tr>\n",
              "      <th>7</th>\n",
              "      <td>Hitesh</td>\n",
              "      <td>52</td>\n",
              "      <td>Kannuaj</td>\n",
              "      <td>B.hons</td>\n",
              "    </tr>\n",
              "  </tbody>\n",
              "</table>\n",
              "</div>\n",
              "      <button class=\"colab-df-convert\" onclick=\"convertToInteractive('df-94f79581-b891-474e-ba2c-4ac25a15a501')\"\n",
              "              title=\"Convert this dataframe to an interactive table.\"\n",
              "              style=\"display:none;\">\n",
              "        \n",
              "  <svg xmlns=\"http://www.w3.org/2000/svg\" height=\"24px\"viewBox=\"0 0 24 24\"\n",
              "       width=\"24px\">\n",
              "    <path d=\"M0 0h24v24H0V0z\" fill=\"none\"/>\n",
              "    <path d=\"M18.56 5.44l.94 2.06.94-2.06 2.06-.94-2.06-.94-.94-2.06-.94 2.06-2.06.94zm-11 1L8.5 8.5l.94-2.06 2.06-.94-2.06-.94L8.5 2.5l-.94 2.06-2.06.94zm10 10l.94 2.06.94-2.06 2.06-.94-2.06-.94-.94-2.06-.94 2.06-2.06.94z\"/><path d=\"M17.41 7.96l-1.37-1.37c-.4-.4-.92-.59-1.43-.59-.52 0-1.04.2-1.43.59L10.3 9.45l-7.72 7.72c-.78.78-.78 2.05 0 2.83L4 21.41c.39.39.9.59 1.41.59.51 0 1.02-.2 1.41-.59l7.78-7.78 2.81-2.81c.8-.78.8-2.07 0-2.86zM5.41 20L4 18.59l7.72-7.72 1.47 1.35L5.41 20z\"/>\n",
              "  </svg>\n",
              "      </button>\n",
              "      \n",
              "  <style>\n",
              "    .colab-df-container {\n",
              "      display:flex;\n",
              "      flex-wrap:wrap;\n",
              "      gap: 12px;\n",
              "    }\n",
              "\n",
              "    .colab-df-convert {\n",
              "      background-color: #E8F0FE;\n",
              "      border: none;\n",
              "      border-radius: 50%;\n",
              "      cursor: pointer;\n",
              "      display: none;\n",
              "      fill: #1967D2;\n",
              "      height: 32px;\n",
              "      padding: 0 0 0 0;\n",
              "      width: 32px;\n",
              "    }\n",
              "\n",
              "    .colab-df-convert:hover {\n",
              "      background-color: #E2EBFA;\n",
              "      box-shadow: 0px 1px 2px rgba(60, 64, 67, 0.3), 0px 1px 3px 1px rgba(60, 64, 67, 0.15);\n",
              "      fill: #174EA6;\n",
              "    }\n",
              "\n",
              "    [theme=dark] .colab-df-convert {\n",
              "      background-color: #3B4455;\n",
              "      fill: #D2E3FC;\n",
              "    }\n",
              "\n",
              "    [theme=dark] .colab-df-convert:hover {\n",
              "      background-color: #434B5C;\n",
              "      box-shadow: 0px 1px 3px 1px rgba(0, 0, 0, 0.15);\n",
              "      filter: drop-shadow(0px 1px 2px rgba(0, 0, 0, 0.3));\n",
              "      fill: #FFFFFF;\n",
              "    }\n",
              "  </style>\n",
              "\n",
              "      <script>\n",
              "        const buttonEl =\n",
              "          document.querySelector('#df-94f79581-b891-474e-ba2c-4ac25a15a501 button.colab-df-convert');\n",
              "        buttonEl.style.display =\n",
              "          google.colab.kernel.accessAllowed ? 'block' : 'none';\n",
              "\n",
              "        async function convertToInteractive(key) {\n",
              "          const element = document.querySelector('#df-94f79581-b891-474e-ba2c-4ac25a15a501');\n",
              "          const dataTable =\n",
              "            await google.colab.kernel.invokeFunction('convertToInteractive',\n",
              "                                                     [key], {});\n",
              "          if (!dataTable) return;\n",
              "\n",
              "          const docLinkHtml = 'Like what you see? Visit the ' +\n",
              "            '<a target=\"_blank\" href=https://colab.research.google.com/notebooks/data_table.ipynb>data table notebook</a>'\n",
              "            + ' to learn more about interactive tables.';\n",
              "          element.innerHTML = '';\n",
              "          dataTable['output_type'] = 'display_data';\n",
              "          await google.colab.output.renderOutput(dataTable, element);\n",
              "          const docLink = document.createElement('div');\n",
              "          docLink.innerHTML = docLinkHtml;\n",
              "          element.appendChild(docLink);\n",
              "        }\n",
              "      </script>\n",
              "    </div>\n",
              "  </div>\n",
              "  "
            ]
          },
          "metadata": {},
          "execution_count": 39
        }
      ]
    },
    {
      "cell_type": "code",
      "source": [
        "data1 = {'Name':['Jai', 'Princi', 'Gaurav', 'Anuj'], \n",
        "        'Age':[27, 24, 22, 32], \n",
        "        'Address':['Nagpur', 'Kanpur', 'Allahabad', 'Kannuaj'], \n",
        "        'Qualification':['Msc', 'MA', 'MCA', 'Phd'],\n",
        "        'Mobile No': [97, 91, 58, 76]} \n",
        "   \n",
        "# Define a dictionary containing employee data \n",
        "data2 = {'Name':['Gaurav', 'Anuj', 'Dhiraj', 'Hitesh'], \n",
        "        'Age':[22, 32, 12, 52], \n",
        "        'Address':['Allahabad', 'Kannuaj', 'Allahabad', 'Kannuaj'], \n",
        "        'Qualification':['MCA', 'Phd', 'Bcom', 'B.hons'],\n",
        "        'Salary':[1000, 2000, 3000, 4000]} \n",
        " \n",
        "# Convert the dictionary into DataFrame  \n",
        "df = pd.DataFrame(data1,index=[0, 1, 2, 3])\n",
        " \n",
        "# Convert the dictionary into DataFrame  \n",
        "df1 = pd.DataFrame(data2, index=[2, 3, 6, 7]) \n",
        " \n",
        "print(df, \"\\n\\n\", df1) "
      ],
      "metadata": {
        "colab": {
          "base_uri": "https://localhost:8080/"
        },
        "id": "9lWDW8AiTBGF",
        "outputId": "14a1ddaf-de30-4628-9644-d16722e75b82"
      },
      "execution_count": null,
      "outputs": [
        {
          "output_type": "stream",
          "name": "stdout",
          "text": [
            "     Name  Age    Address Qualification  Mobile No\n",
            "0     Jai   27     Nagpur           Msc         97\n",
            "1  Princi   24     Kanpur            MA         91\n",
            "2  Gaurav   22  Allahabad           MCA         58\n",
            "3    Anuj   32    Kannuaj           Phd         76 \n",
            "\n",
            "      Name  Age    Address Qualification  Salary\n",
            "2  Gaurav   22  Allahabad           MCA    1000\n",
            "3    Anuj   32    Kannuaj           Phd    2000\n",
            "6  Dhiraj   12  Allahabad          Bcom    3000\n",
            "7  Hitesh   52    Kannuaj        B.hons    4000\n"
          ]
        }
      ]
    },
    {
      "cell_type": "code",
      "source": [
        "res2 = pd.concat([df, df1], axis=1, join='inner')\n",
        " \n",
        "res2"
      ],
      "metadata": {
        "colab": {
          "base_uri": "https://localhost:8080/",
          "height": 112
        },
        "id": "elvNzWAUS29r",
        "outputId": "f6db67f8-6180-46df-a1f6-5a056851eea0"
      },
      "execution_count": null,
      "outputs": [
        {
          "output_type": "execute_result",
          "data": {
            "text/plain": [
              "     Name  Age    Address Qualification  Mobile No    Name  Age    Address  \\\n",
              "2  Gaurav   22  Allahabad           MCA         58  Gaurav   22  Allahabad   \n",
              "3    Anuj   32    Kannuaj           Phd         76    Anuj   32    Kannuaj   \n",
              "\n",
              "  Qualification  Salary  \n",
              "2           MCA    1000  \n",
              "3           Phd    2000  "
            ],
            "text/html": [
              "\n",
              "  <div id=\"df-d5d9a75e-6375-45b1-820d-a6c12484b0b3\">\n",
              "    <div class=\"colab-df-container\">\n",
              "      <div>\n",
              "<style scoped>\n",
              "    .dataframe tbody tr th:only-of-type {\n",
              "        vertical-align: middle;\n",
              "    }\n",
              "\n",
              "    .dataframe tbody tr th {\n",
              "        vertical-align: top;\n",
              "    }\n",
              "\n",
              "    .dataframe thead th {\n",
              "        text-align: right;\n",
              "    }\n",
              "</style>\n",
              "<table border=\"1\" class=\"dataframe\">\n",
              "  <thead>\n",
              "    <tr style=\"text-align: right;\">\n",
              "      <th></th>\n",
              "      <th>Name</th>\n",
              "      <th>Age</th>\n",
              "      <th>Address</th>\n",
              "      <th>Qualification</th>\n",
              "      <th>Mobile No</th>\n",
              "      <th>Name</th>\n",
              "      <th>Age</th>\n",
              "      <th>Address</th>\n",
              "      <th>Qualification</th>\n",
              "      <th>Salary</th>\n",
              "    </tr>\n",
              "  </thead>\n",
              "  <tbody>\n",
              "    <tr>\n",
              "      <th>2</th>\n",
              "      <td>Gaurav</td>\n",
              "      <td>22</td>\n",
              "      <td>Allahabad</td>\n",
              "      <td>MCA</td>\n",
              "      <td>58</td>\n",
              "      <td>Gaurav</td>\n",
              "      <td>22</td>\n",
              "      <td>Allahabad</td>\n",
              "      <td>MCA</td>\n",
              "      <td>1000</td>\n",
              "    </tr>\n",
              "    <tr>\n",
              "      <th>3</th>\n",
              "      <td>Anuj</td>\n",
              "      <td>32</td>\n",
              "      <td>Kannuaj</td>\n",
              "      <td>Phd</td>\n",
              "      <td>76</td>\n",
              "      <td>Anuj</td>\n",
              "      <td>32</td>\n",
              "      <td>Kannuaj</td>\n",
              "      <td>Phd</td>\n",
              "      <td>2000</td>\n",
              "    </tr>\n",
              "  </tbody>\n",
              "</table>\n",
              "</div>\n",
              "      <button class=\"colab-df-convert\" onclick=\"convertToInteractive('df-d5d9a75e-6375-45b1-820d-a6c12484b0b3')\"\n",
              "              title=\"Convert this dataframe to an interactive table.\"\n",
              "              style=\"display:none;\">\n",
              "        \n",
              "  <svg xmlns=\"http://www.w3.org/2000/svg\" height=\"24px\"viewBox=\"0 0 24 24\"\n",
              "       width=\"24px\">\n",
              "    <path d=\"M0 0h24v24H0V0z\" fill=\"none\"/>\n",
              "    <path d=\"M18.56 5.44l.94 2.06.94-2.06 2.06-.94-2.06-.94-.94-2.06-.94 2.06-2.06.94zm-11 1L8.5 8.5l.94-2.06 2.06-.94-2.06-.94L8.5 2.5l-.94 2.06-2.06.94zm10 10l.94 2.06.94-2.06 2.06-.94-2.06-.94-.94-2.06-.94 2.06-2.06.94z\"/><path d=\"M17.41 7.96l-1.37-1.37c-.4-.4-.92-.59-1.43-.59-.52 0-1.04.2-1.43.59L10.3 9.45l-7.72 7.72c-.78.78-.78 2.05 0 2.83L4 21.41c.39.39.9.59 1.41.59.51 0 1.02-.2 1.41-.59l7.78-7.78 2.81-2.81c.8-.78.8-2.07 0-2.86zM5.41 20L4 18.59l7.72-7.72 1.47 1.35L5.41 20z\"/>\n",
              "  </svg>\n",
              "      </button>\n",
              "      \n",
              "  <style>\n",
              "    .colab-df-container {\n",
              "      display:flex;\n",
              "      flex-wrap:wrap;\n",
              "      gap: 12px;\n",
              "    }\n",
              "\n",
              "    .colab-df-convert {\n",
              "      background-color: #E8F0FE;\n",
              "      border: none;\n",
              "      border-radius: 50%;\n",
              "      cursor: pointer;\n",
              "      display: none;\n",
              "      fill: #1967D2;\n",
              "      height: 32px;\n",
              "      padding: 0 0 0 0;\n",
              "      width: 32px;\n",
              "    }\n",
              "\n",
              "    .colab-df-convert:hover {\n",
              "      background-color: #E2EBFA;\n",
              "      box-shadow: 0px 1px 2px rgba(60, 64, 67, 0.3), 0px 1px 3px 1px rgba(60, 64, 67, 0.15);\n",
              "      fill: #174EA6;\n",
              "    }\n",
              "\n",
              "    [theme=dark] .colab-df-convert {\n",
              "      background-color: #3B4455;\n",
              "      fill: #D2E3FC;\n",
              "    }\n",
              "\n",
              "    [theme=dark] .colab-df-convert:hover {\n",
              "      background-color: #434B5C;\n",
              "      box-shadow: 0px 1px 3px 1px rgba(0, 0, 0, 0.15);\n",
              "      filter: drop-shadow(0px 1px 2px rgba(0, 0, 0, 0.3));\n",
              "      fill: #FFFFFF;\n",
              "    }\n",
              "  </style>\n",
              "\n",
              "      <script>\n",
              "        const buttonEl =\n",
              "          document.querySelector('#df-d5d9a75e-6375-45b1-820d-a6c12484b0b3 button.colab-df-convert');\n",
              "        buttonEl.style.display =\n",
              "          google.colab.kernel.accessAllowed ? 'block' : 'none';\n",
              "\n",
              "        async function convertToInteractive(key) {\n",
              "          const element = document.querySelector('#df-d5d9a75e-6375-45b1-820d-a6c12484b0b3');\n",
              "          const dataTable =\n",
              "            await google.colab.kernel.invokeFunction('convertToInteractive',\n",
              "                                                     [key], {});\n",
              "          if (!dataTable) return;\n",
              "\n",
              "          const docLinkHtml = 'Like what you see? Visit the ' +\n",
              "            '<a target=\"_blank\" href=https://colab.research.google.com/notebooks/data_table.ipynb>data table notebook</a>'\n",
              "            + ' to learn more about interactive tables.';\n",
              "          element.innerHTML = '';\n",
              "          dataTable['output_type'] = 'display_data';\n",
              "          await google.colab.output.renderOutput(dataTable, element);\n",
              "          const docLink = document.createElement('div');\n",
              "          docLink.innerHTML = docLinkHtml;\n",
              "          element.appendChild(docLink);\n",
              "        }\n",
              "      </script>\n",
              "    </div>\n",
              "  </div>\n",
              "  "
            ]
          },
          "metadata": {},
          "execution_count": 42
        }
      ]
    },
    {
      "cell_type": "code",
      "source": [
        "res2 = pd.concat([df, df1], axis=1, sort=False)\n",
        " \n",
        "res2"
      ],
      "metadata": {
        "colab": {
          "base_uri": "https://localhost:8080/",
          "height": 238
        },
        "id": "0jntAW5gTF7h",
        "outputId": "7c5021a9-1565-43c2-8660-82be840ed947"
      },
      "execution_count": null,
      "outputs": [
        {
          "output_type": "execute_result",
          "data": {
            "text/plain": [
              "     Name   Age    Address Qualification  Mobile No    Name   Age    Address  \\\n",
              "0     Jai  27.0     Nagpur           Msc       97.0     NaN   NaN        NaN   \n",
              "1  Princi  24.0     Kanpur            MA       91.0     NaN   NaN        NaN   \n",
              "2  Gaurav  22.0  Allahabad           MCA       58.0  Gaurav  22.0  Allahabad   \n",
              "3    Anuj  32.0    Kannuaj           Phd       76.0    Anuj  32.0    Kannuaj   \n",
              "6     NaN   NaN        NaN           NaN        NaN  Dhiraj  12.0  Allahabad   \n",
              "7     NaN   NaN        NaN           NaN        NaN  Hitesh  52.0    Kannuaj   \n",
              "\n",
              "  Qualification  Salary  \n",
              "0           NaN     NaN  \n",
              "1           NaN     NaN  \n",
              "2           MCA  1000.0  \n",
              "3           Phd  2000.0  \n",
              "6          Bcom  3000.0  \n",
              "7        B.hons  4000.0  "
            ],
            "text/html": [
              "\n",
              "  <div id=\"df-079a0aa7-943e-458a-8fa2-156a3c6853f7\">\n",
              "    <div class=\"colab-df-container\">\n",
              "      <div>\n",
              "<style scoped>\n",
              "    .dataframe tbody tr th:only-of-type {\n",
              "        vertical-align: middle;\n",
              "    }\n",
              "\n",
              "    .dataframe tbody tr th {\n",
              "        vertical-align: top;\n",
              "    }\n",
              "\n",
              "    .dataframe thead th {\n",
              "        text-align: right;\n",
              "    }\n",
              "</style>\n",
              "<table border=\"1\" class=\"dataframe\">\n",
              "  <thead>\n",
              "    <tr style=\"text-align: right;\">\n",
              "      <th></th>\n",
              "      <th>Name</th>\n",
              "      <th>Age</th>\n",
              "      <th>Address</th>\n",
              "      <th>Qualification</th>\n",
              "      <th>Mobile No</th>\n",
              "      <th>Name</th>\n",
              "      <th>Age</th>\n",
              "      <th>Address</th>\n",
              "      <th>Qualification</th>\n",
              "      <th>Salary</th>\n",
              "    </tr>\n",
              "  </thead>\n",
              "  <tbody>\n",
              "    <tr>\n",
              "      <th>0</th>\n",
              "      <td>Jai</td>\n",
              "      <td>27.0</td>\n",
              "      <td>Nagpur</td>\n",
              "      <td>Msc</td>\n",
              "      <td>97.0</td>\n",
              "      <td>NaN</td>\n",
              "      <td>NaN</td>\n",
              "      <td>NaN</td>\n",
              "      <td>NaN</td>\n",
              "      <td>NaN</td>\n",
              "    </tr>\n",
              "    <tr>\n",
              "      <th>1</th>\n",
              "      <td>Princi</td>\n",
              "      <td>24.0</td>\n",
              "      <td>Kanpur</td>\n",
              "      <td>MA</td>\n",
              "      <td>91.0</td>\n",
              "      <td>NaN</td>\n",
              "      <td>NaN</td>\n",
              "      <td>NaN</td>\n",
              "      <td>NaN</td>\n",
              "      <td>NaN</td>\n",
              "    </tr>\n",
              "    <tr>\n",
              "      <th>2</th>\n",
              "      <td>Gaurav</td>\n",
              "      <td>22.0</td>\n",
              "      <td>Allahabad</td>\n",
              "      <td>MCA</td>\n",
              "      <td>58.0</td>\n",
              "      <td>Gaurav</td>\n",
              "      <td>22.0</td>\n",
              "      <td>Allahabad</td>\n",
              "      <td>MCA</td>\n",
              "      <td>1000.0</td>\n",
              "    </tr>\n",
              "    <tr>\n",
              "      <th>3</th>\n",
              "      <td>Anuj</td>\n",
              "      <td>32.0</td>\n",
              "      <td>Kannuaj</td>\n",
              "      <td>Phd</td>\n",
              "      <td>76.0</td>\n",
              "      <td>Anuj</td>\n",
              "      <td>32.0</td>\n",
              "      <td>Kannuaj</td>\n",
              "      <td>Phd</td>\n",
              "      <td>2000.0</td>\n",
              "    </tr>\n",
              "    <tr>\n",
              "      <th>6</th>\n",
              "      <td>NaN</td>\n",
              "      <td>NaN</td>\n",
              "      <td>NaN</td>\n",
              "      <td>NaN</td>\n",
              "      <td>NaN</td>\n",
              "      <td>Dhiraj</td>\n",
              "      <td>12.0</td>\n",
              "      <td>Allahabad</td>\n",
              "      <td>Bcom</td>\n",
              "      <td>3000.0</td>\n",
              "    </tr>\n",
              "    <tr>\n",
              "      <th>7</th>\n",
              "      <td>NaN</td>\n",
              "      <td>NaN</td>\n",
              "      <td>NaN</td>\n",
              "      <td>NaN</td>\n",
              "      <td>NaN</td>\n",
              "      <td>Hitesh</td>\n",
              "      <td>52.0</td>\n",
              "      <td>Kannuaj</td>\n",
              "      <td>B.hons</td>\n",
              "      <td>4000.0</td>\n",
              "    </tr>\n",
              "  </tbody>\n",
              "</table>\n",
              "</div>\n",
              "      <button class=\"colab-df-convert\" onclick=\"convertToInteractive('df-079a0aa7-943e-458a-8fa2-156a3c6853f7')\"\n",
              "              title=\"Convert this dataframe to an interactive table.\"\n",
              "              style=\"display:none;\">\n",
              "        \n",
              "  <svg xmlns=\"http://www.w3.org/2000/svg\" height=\"24px\"viewBox=\"0 0 24 24\"\n",
              "       width=\"24px\">\n",
              "    <path d=\"M0 0h24v24H0V0z\" fill=\"none\"/>\n",
              "    <path d=\"M18.56 5.44l.94 2.06.94-2.06 2.06-.94-2.06-.94-.94-2.06-.94 2.06-2.06.94zm-11 1L8.5 8.5l.94-2.06 2.06-.94-2.06-.94L8.5 2.5l-.94 2.06-2.06.94zm10 10l.94 2.06.94-2.06 2.06-.94-2.06-.94-.94-2.06-.94 2.06-2.06.94z\"/><path d=\"M17.41 7.96l-1.37-1.37c-.4-.4-.92-.59-1.43-.59-.52 0-1.04.2-1.43.59L10.3 9.45l-7.72 7.72c-.78.78-.78 2.05 0 2.83L4 21.41c.39.39.9.59 1.41.59.51 0 1.02-.2 1.41-.59l7.78-7.78 2.81-2.81c.8-.78.8-2.07 0-2.86zM5.41 20L4 18.59l7.72-7.72 1.47 1.35L5.41 20z\"/>\n",
              "  </svg>\n",
              "      </button>\n",
              "      \n",
              "  <style>\n",
              "    .colab-df-container {\n",
              "      display:flex;\n",
              "      flex-wrap:wrap;\n",
              "      gap: 12px;\n",
              "    }\n",
              "\n",
              "    .colab-df-convert {\n",
              "      background-color: #E8F0FE;\n",
              "      border: none;\n",
              "      border-radius: 50%;\n",
              "      cursor: pointer;\n",
              "      display: none;\n",
              "      fill: #1967D2;\n",
              "      height: 32px;\n",
              "      padding: 0 0 0 0;\n",
              "      width: 32px;\n",
              "    }\n",
              "\n",
              "    .colab-df-convert:hover {\n",
              "      background-color: #E2EBFA;\n",
              "      box-shadow: 0px 1px 2px rgba(60, 64, 67, 0.3), 0px 1px 3px 1px rgba(60, 64, 67, 0.15);\n",
              "      fill: #174EA6;\n",
              "    }\n",
              "\n",
              "    [theme=dark] .colab-df-convert {\n",
              "      background-color: #3B4455;\n",
              "      fill: #D2E3FC;\n",
              "    }\n",
              "\n",
              "    [theme=dark] .colab-df-convert:hover {\n",
              "      background-color: #434B5C;\n",
              "      box-shadow: 0px 1px 3px 1px rgba(0, 0, 0, 0.15);\n",
              "      filter: drop-shadow(0px 1px 2px rgba(0, 0, 0, 0.3));\n",
              "      fill: #FFFFFF;\n",
              "    }\n",
              "  </style>\n",
              "\n",
              "      <script>\n",
              "        const buttonEl =\n",
              "          document.querySelector('#df-079a0aa7-943e-458a-8fa2-156a3c6853f7 button.colab-df-convert');\n",
              "        buttonEl.style.display =\n",
              "          google.colab.kernel.accessAllowed ? 'block' : 'none';\n",
              "\n",
              "        async function convertToInteractive(key) {\n",
              "          const element = document.querySelector('#df-079a0aa7-943e-458a-8fa2-156a3c6853f7');\n",
              "          const dataTable =\n",
              "            await google.colab.kernel.invokeFunction('convertToInteractive',\n",
              "                                                     [key], {});\n",
              "          if (!dataTable) return;\n",
              "\n",
              "          const docLinkHtml = 'Like what you see? Visit the ' +\n",
              "            '<a target=\"_blank\" href=https://colab.research.google.com/notebooks/data_table.ipynb>data table notebook</a>'\n",
              "            + ' to learn more about interactive tables.';\n",
              "          element.innerHTML = '';\n",
              "          dataTable['output_type'] = 'display_data';\n",
              "          await google.colab.output.renderOutput(dataTable, element);\n",
              "          const docLink = document.createElement('div');\n",
              "          docLink.innerHTML = docLinkHtml;\n",
              "          element.appendChild(docLink);\n",
              "        }\n",
              "      </script>\n",
              "    </div>\n",
              "  </div>\n",
              "  "
            ]
          },
          "metadata": {},
          "execution_count": 43
        }
      ]
    },
    {
      "cell_type": "code",
      "source": [
        "data1 = {'Name':['Jai', 'Princi', 'Gaurav', 'Anuj'], \n",
        "        'Age':[27, 24, 22, 32], \n",
        "        'Address':['Nagpur', 'Kanpur', 'Allahabad', 'Kannuaj'], \n",
        "        'Qualification':['Msc', 'MA', 'MCA', 'Phd']} \n",
        "   \n",
        "# Define a dictionary containing employee data \n",
        "data2 = {'Name':['Abhi', 'Ayushi', 'Dhiraj', 'Hitesh'], \n",
        "        'Age':[17, 14, 12, 52], \n",
        "        'Address':['Nagpur', 'Kanpur', 'Allahabad', 'Kannuaj'], \n",
        "        'Qualification':['Btech', 'B.A', 'Bcom', 'B.hons']} \n",
        " \n",
        "# Convert the dictionary into DataFrame  \n",
        "df = pd.DataFrame(data1,index=[0, 1, 2, 3])\n",
        " \n",
        "# Convert the dictionary into DataFrame  \n",
        "df1 = pd.DataFrame(data2, index=[4, 5, 6, 7])\n",
        " \n",
        "print(df, \"\\n\\n\", df1) "
      ],
      "metadata": {
        "colab": {
          "base_uri": "https://localhost:8080/"
        },
        "id": "bNaBOibxTndn",
        "outputId": "0c0a9cda-aba2-4441-fd50-45d791f9fa2d"
      },
      "execution_count": null,
      "outputs": [
        {
          "output_type": "stream",
          "name": "stdout",
          "text": [
            "     Name  Age    Address Qualification\n",
            "0     Jai   27     Nagpur           Msc\n",
            "1  Princi   24     Kanpur            MA\n",
            "2  Gaurav   22  Allahabad           MCA\n",
            "3    Anuj   32    Kannuaj           Phd \n",
            "\n",
            "      Name  Age    Address Qualification\n",
            "4    Abhi   17     Nagpur         Btech\n",
            "5  Ayushi   14     Kanpur           B.A\n",
            "6  Dhiraj   12  Allahabad          Bcom\n",
            "7  Hitesh   52    Kannuaj        B.hons\n"
          ]
        }
      ]
    },
    {
      "cell_type": "code",
      "source": [
        "res = df.append(df1)\n",
        "res"
      ],
      "metadata": {
        "colab": {
          "base_uri": "https://localhost:8080/",
          "height": 300
        },
        "id": "wLptjgGmTnmn",
        "outputId": "ae568dcb-07e7-43be-c36d-5d2b97a2abdf"
      },
      "execution_count": null,
      "outputs": [
        {
          "output_type": "execute_result",
          "data": {
            "text/plain": [
              "     Name  Age    Address Qualification\n",
              "0     Jai   27     Nagpur           Msc\n",
              "1  Princi   24     Kanpur            MA\n",
              "2  Gaurav   22  Allahabad           MCA\n",
              "3    Anuj   32    Kannuaj           Phd\n",
              "4    Abhi   17     Nagpur         Btech\n",
              "5  Ayushi   14     Kanpur           B.A\n",
              "6  Dhiraj   12  Allahabad          Bcom\n",
              "7  Hitesh   52    Kannuaj        B.hons"
            ],
            "text/html": [
              "\n",
              "  <div id=\"df-d192c0c5-b386-452b-be30-a9f7f160d273\">\n",
              "    <div class=\"colab-df-container\">\n",
              "      <div>\n",
              "<style scoped>\n",
              "    .dataframe tbody tr th:only-of-type {\n",
              "        vertical-align: middle;\n",
              "    }\n",
              "\n",
              "    .dataframe tbody tr th {\n",
              "        vertical-align: top;\n",
              "    }\n",
              "\n",
              "    .dataframe thead th {\n",
              "        text-align: right;\n",
              "    }\n",
              "</style>\n",
              "<table border=\"1\" class=\"dataframe\">\n",
              "  <thead>\n",
              "    <tr style=\"text-align: right;\">\n",
              "      <th></th>\n",
              "      <th>Name</th>\n",
              "      <th>Age</th>\n",
              "      <th>Address</th>\n",
              "      <th>Qualification</th>\n",
              "    </tr>\n",
              "  </thead>\n",
              "  <tbody>\n",
              "    <tr>\n",
              "      <th>0</th>\n",
              "      <td>Jai</td>\n",
              "      <td>27</td>\n",
              "      <td>Nagpur</td>\n",
              "      <td>Msc</td>\n",
              "    </tr>\n",
              "    <tr>\n",
              "      <th>1</th>\n",
              "      <td>Princi</td>\n",
              "      <td>24</td>\n",
              "      <td>Kanpur</td>\n",
              "      <td>MA</td>\n",
              "    </tr>\n",
              "    <tr>\n",
              "      <th>2</th>\n",
              "      <td>Gaurav</td>\n",
              "      <td>22</td>\n",
              "      <td>Allahabad</td>\n",
              "      <td>MCA</td>\n",
              "    </tr>\n",
              "    <tr>\n",
              "      <th>3</th>\n",
              "      <td>Anuj</td>\n",
              "      <td>32</td>\n",
              "      <td>Kannuaj</td>\n",
              "      <td>Phd</td>\n",
              "    </tr>\n",
              "    <tr>\n",
              "      <th>4</th>\n",
              "      <td>Abhi</td>\n",
              "      <td>17</td>\n",
              "      <td>Nagpur</td>\n",
              "      <td>Btech</td>\n",
              "    </tr>\n",
              "    <tr>\n",
              "      <th>5</th>\n",
              "      <td>Ayushi</td>\n",
              "      <td>14</td>\n",
              "      <td>Kanpur</td>\n",
              "      <td>B.A</td>\n",
              "    </tr>\n",
              "    <tr>\n",
              "      <th>6</th>\n",
              "      <td>Dhiraj</td>\n",
              "      <td>12</td>\n",
              "      <td>Allahabad</td>\n",
              "      <td>Bcom</td>\n",
              "    </tr>\n",
              "    <tr>\n",
              "      <th>7</th>\n",
              "      <td>Hitesh</td>\n",
              "      <td>52</td>\n",
              "      <td>Kannuaj</td>\n",
              "      <td>B.hons</td>\n",
              "    </tr>\n",
              "  </tbody>\n",
              "</table>\n",
              "</div>\n",
              "      <button class=\"colab-df-convert\" onclick=\"convertToInteractive('df-d192c0c5-b386-452b-be30-a9f7f160d273')\"\n",
              "              title=\"Convert this dataframe to an interactive table.\"\n",
              "              style=\"display:none;\">\n",
              "        \n",
              "  <svg xmlns=\"http://www.w3.org/2000/svg\" height=\"24px\"viewBox=\"0 0 24 24\"\n",
              "       width=\"24px\">\n",
              "    <path d=\"M0 0h24v24H0V0z\" fill=\"none\"/>\n",
              "    <path d=\"M18.56 5.44l.94 2.06.94-2.06 2.06-.94-2.06-.94-.94-2.06-.94 2.06-2.06.94zm-11 1L8.5 8.5l.94-2.06 2.06-.94-2.06-.94L8.5 2.5l-.94 2.06-2.06.94zm10 10l.94 2.06.94-2.06 2.06-.94-2.06-.94-.94-2.06-.94 2.06-2.06.94z\"/><path d=\"M17.41 7.96l-1.37-1.37c-.4-.4-.92-.59-1.43-.59-.52 0-1.04.2-1.43.59L10.3 9.45l-7.72 7.72c-.78.78-.78 2.05 0 2.83L4 21.41c.39.39.9.59 1.41.59.51 0 1.02-.2 1.41-.59l7.78-7.78 2.81-2.81c.8-.78.8-2.07 0-2.86zM5.41 20L4 18.59l7.72-7.72 1.47 1.35L5.41 20z\"/>\n",
              "  </svg>\n",
              "      </button>\n",
              "      \n",
              "  <style>\n",
              "    .colab-df-container {\n",
              "      display:flex;\n",
              "      flex-wrap:wrap;\n",
              "      gap: 12px;\n",
              "    }\n",
              "\n",
              "    .colab-df-convert {\n",
              "      background-color: #E8F0FE;\n",
              "      border: none;\n",
              "      border-radius: 50%;\n",
              "      cursor: pointer;\n",
              "      display: none;\n",
              "      fill: #1967D2;\n",
              "      height: 32px;\n",
              "      padding: 0 0 0 0;\n",
              "      width: 32px;\n",
              "    }\n",
              "\n",
              "    .colab-df-convert:hover {\n",
              "      background-color: #E2EBFA;\n",
              "      box-shadow: 0px 1px 2px rgba(60, 64, 67, 0.3), 0px 1px 3px 1px rgba(60, 64, 67, 0.15);\n",
              "      fill: #174EA6;\n",
              "    }\n",
              "\n",
              "    [theme=dark] .colab-df-convert {\n",
              "      background-color: #3B4455;\n",
              "      fill: #D2E3FC;\n",
              "    }\n",
              "\n",
              "    [theme=dark] .colab-df-convert:hover {\n",
              "      background-color: #434B5C;\n",
              "      box-shadow: 0px 1px 3px 1px rgba(0, 0, 0, 0.15);\n",
              "      filter: drop-shadow(0px 1px 2px rgba(0, 0, 0, 0.3));\n",
              "      fill: #FFFFFF;\n",
              "    }\n",
              "  </style>\n",
              "\n",
              "      <script>\n",
              "        const buttonEl =\n",
              "          document.querySelector('#df-d192c0c5-b386-452b-be30-a9f7f160d273 button.colab-df-convert');\n",
              "        buttonEl.style.display =\n",
              "          google.colab.kernel.accessAllowed ? 'block' : 'none';\n",
              "\n",
              "        async function convertToInteractive(key) {\n",
              "          const element = document.querySelector('#df-d192c0c5-b386-452b-be30-a9f7f160d273');\n",
              "          const dataTable =\n",
              "            await google.colab.kernel.invokeFunction('convertToInteractive',\n",
              "                                                     [key], {});\n",
              "          if (!dataTable) return;\n",
              "\n",
              "          const docLinkHtml = 'Like what you see? Visit the ' +\n",
              "            '<a target=\"_blank\" href=https://colab.research.google.com/notebooks/data_table.ipynb>data table notebook</a>'\n",
              "            + ' to learn more about interactive tables.';\n",
              "          element.innerHTML = '';\n",
              "          dataTable['output_type'] = 'display_data';\n",
              "          await google.colab.output.renderOutput(dataTable, element);\n",
              "          const docLink = document.createElement('div');\n",
              "          docLink.innerHTML = docLinkHtml;\n",
              "          element.appendChild(docLink);\n",
              "        }\n",
              "      </script>\n",
              "    </div>\n",
              "  </div>\n",
              "  "
            ]
          },
          "metadata": {},
          "execution_count": 47
        }
      ]
    },
    {
      "cell_type": "code",
      "source": [
        "data1 = {'Name':['Jai', 'Princi', 'Gaurav', 'Anuj'], \n",
        "        'Age':[27, 24, 22, 32], \n",
        "        'Address':['Nagpur', 'Kanpur', 'Allahabad', 'Kannuaj'], \n",
        "        'Qualification':['Msc', 'MA', 'MCA', 'Phd'],\n",
        "        'Mobile No': [97, 91, 58, 76]} \n",
        "    \n",
        "# Define a dictionary containing employee data \n",
        "data2 = {'Name':['Gaurav', 'Anuj', 'Dhiraj', 'Hitesh'], \n",
        "        'Age':[22, 32, 12, 52], \n",
        "        'Address':['Allahabad', 'Kannuaj', 'Allahabad', 'Kannuaj'], \n",
        "        'Qualification':['MCA', 'Phd', 'Bcom', 'B.hons'],\n",
        "        'Salary':[1000, 2000, 3000, 4000]} \n",
        "  \n",
        "# Convert the dictionary into DataFrame  \n",
        "df = pd.DataFrame(data1,index=[0, 1, 2, 3])\n",
        "  \n",
        "# Convert the dictionary into DataFrame  \n",
        "df1 = pd.DataFrame(data2, index=[2, 3, 6, 7]) \n",
        "  \n",
        "  \n",
        "print(df, \"\\n\\n\", df1) "
      ],
      "metadata": {
        "colab": {
          "base_uri": "https://localhost:8080/"
        },
        "id": "QGA_mcF-TyUh",
        "outputId": "3881d7e5-1f4d-4aa1-c3f5-ea01d78271b9"
      },
      "execution_count": null,
      "outputs": [
        {
          "output_type": "stream",
          "name": "stdout",
          "text": [
            "     Name  Age    Address Qualification  Mobile No\n",
            "0     Jai   27     Nagpur           Msc         97\n",
            "1  Princi   24     Kanpur            MA         91\n",
            "2  Gaurav   22  Allahabad           MCA         58\n",
            "3    Anuj   32    Kannuaj           Phd         76 \n",
            "\n",
            "      Name  Age    Address Qualification  Salary\n",
            "2  Gaurav   22  Allahabad           MCA    1000\n",
            "3    Anuj   32    Kannuaj           Phd    2000\n",
            "6  Dhiraj   12  Allahabad          Bcom    3000\n",
            "7  Hitesh   52    Kannuaj        B.hons    4000\n"
          ]
        }
      ]
    },
    {
      "cell_type": "code",
      "source": [
        "res = pd.concat([df, df1], ignore_index=True)\n",
        " \n",
        "res"
      ],
      "metadata": {
        "colab": {
          "base_uri": "https://localhost:8080/",
          "height": 300
        },
        "id": "UMQwPkcDT3Qu",
        "outputId": "cb5a0424-e9fb-46b4-a426-71fa9690574b"
      },
      "execution_count": null,
      "outputs": [
        {
          "output_type": "execute_result",
          "data": {
            "text/plain": [
              "     Name  Age    Address Qualification  Mobile No  Salary\n",
              "0     Jai   27     Nagpur           Msc       97.0     NaN\n",
              "1  Princi   24     Kanpur            MA       91.0     NaN\n",
              "2  Gaurav   22  Allahabad           MCA       58.0     NaN\n",
              "3    Anuj   32    Kannuaj           Phd       76.0     NaN\n",
              "4  Gaurav   22  Allahabad           MCA        NaN  1000.0\n",
              "5    Anuj   32    Kannuaj           Phd        NaN  2000.0\n",
              "6  Dhiraj   12  Allahabad          Bcom        NaN  3000.0\n",
              "7  Hitesh   52    Kannuaj        B.hons        NaN  4000.0"
            ],
            "text/html": [
              "\n",
              "  <div id=\"df-8bacad02-88f7-49bb-9e0f-3bcd27dbf1f7\">\n",
              "    <div class=\"colab-df-container\">\n",
              "      <div>\n",
              "<style scoped>\n",
              "    .dataframe tbody tr th:only-of-type {\n",
              "        vertical-align: middle;\n",
              "    }\n",
              "\n",
              "    .dataframe tbody tr th {\n",
              "        vertical-align: top;\n",
              "    }\n",
              "\n",
              "    .dataframe thead th {\n",
              "        text-align: right;\n",
              "    }\n",
              "</style>\n",
              "<table border=\"1\" class=\"dataframe\">\n",
              "  <thead>\n",
              "    <tr style=\"text-align: right;\">\n",
              "      <th></th>\n",
              "      <th>Name</th>\n",
              "      <th>Age</th>\n",
              "      <th>Address</th>\n",
              "      <th>Qualification</th>\n",
              "      <th>Mobile No</th>\n",
              "      <th>Salary</th>\n",
              "    </tr>\n",
              "  </thead>\n",
              "  <tbody>\n",
              "    <tr>\n",
              "      <th>0</th>\n",
              "      <td>Jai</td>\n",
              "      <td>27</td>\n",
              "      <td>Nagpur</td>\n",
              "      <td>Msc</td>\n",
              "      <td>97.0</td>\n",
              "      <td>NaN</td>\n",
              "    </tr>\n",
              "    <tr>\n",
              "      <th>1</th>\n",
              "      <td>Princi</td>\n",
              "      <td>24</td>\n",
              "      <td>Kanpur</td>\n",
              "      <td>MA</td>\n",
              "      <td>91.0</td>\n",
              "      <td>NaN</td>\n",
              "    </tr>\n",
              "    <tr>\n",
              "      <th>2</th>\n",
              "      <td>Gaurav</td>\n",
              "      <td>22</td>\n",
              "      <td>Allahabad</td>\n",
              "      <td>MCA</td>\n",
              "      <td>58.0</td>\n",
              "      <td>NaN</td>\n",
              "    </tr>\n",
              "    <tr>\n",
              "      <th>3</th>\n",
              "      <td>Anuj</td>\n",
              "      <td>32</td>\n",
              "      <td>Kannuaj</td>\n",
              "      <td>Phd</td>\n",
              "      <td>76.0</td>\n",
              "      <td>NaN</td>\n",
              "    </tr>\n",
              "    <tr>\n",
              "      <th>4</th>\n",
              "      <td>Gaurav</td>\n",
              "      <td>22</td>\n",
              "      <td>Allahabad</td>\n",
              "      <td>MCA</td>\n",
              "      <td>NaN</td>\n",
              "      <td>1000.0</td>\n",
              "    </tr>\n",
              "    <tr>\n",
              "      <th>5</th>\n",
              "      <td>Anuj</td>\n",
              "      <td>32</td>\n",
              "      <td>Kannuaj</td>\n",
              "      <td>Phd</td>\n",
              "      <td>NaN</td>\n",
              "      <td>2000.0</td>\n",
              "    </tr>\n",
              "    <tr>\n",
              "      <th>6</th>\n",
              "      <td>Dhiraj</td>\n",
              "      <td>12</td>\n",
              "      <td>Allahabad</td>\n",
              "      <td>Bcom</td>\n",
              "      <td>NaN</td>\n",
              "      <td>3000.0</td>\n",
              "    </tr>\n",
              "    <tr>\n",
              "      <th>7</th>\n",
              "      <td>Hitesh</td>\n",
              "      <td>52</td>\n",
              "      <td>Kannuaj</td>\n",
              "      <td>B.hons</td>\n",
              "      <td>NaN</td>\n",
              "      <td>4000.0</td>\n",
              "    </tr>\n",
              "  </tbody>\n",
              "</table>\n",
              "</div>\n",
              "      <button class=\"colab-df-convert\" onclick=\"convertToInteractive('df-8bacad02-88f7-49bb-9e0f-3bcd27dbf1f7')\"\n",
              "              title=\"Convert this dataframe to an interactive table.\"\n",
              "              style=\"display:none;\">\n",
              "        \n",
              "  <svg xmlns=\"http://www.w3.org/2000/svg\" height=\"24px\"viewBox=\"0 0 24 24\"\n",
              "       width=\"24px\">\n",
              "    <path d=\"M0 0h24v24H0V0z\" fill=\"none\"/>\n",
              "    <path d=\"M18.56 5.44l.94 2.06.94-2.06 2.06-.94-2.06-.94-.94-2.06-.94 2.06-2.06.94zm-11 1L8.5 8.5l.94-2.06 2.06-.94-2.06-.94L8.5 2.5l-.94 2.06-2.06.94zm10 10l.94 2.06.94-2.06 2.06-.94-2.06-.94-.94-2.06-.94 2.06-2.06.94z\"/><path d=\"M17.41 7.96l-1.37-1.37c-.4-.4-.92-.59-1.43-.59-.52 0-1.04.2-1.43.59L10.3 9.45l-7.72 7.72c-.78.78-.78 2.05 0 2.83L4 21.41c.39.39.9.59 1.41.59.51 0 1.02-.2 1.41-.59l7.78-7.78 2.81-2.81c.8-.78.8-2.07 0-2.86zM5.41 20L4 18.59l7.72-7.72 1.47 1.35L5.41 20z\"/>\n",
              "  </svg>\n",
              "      </button>\n",
              "      \n",
              "  <style>\n",
              "    .colab-df-container {\n",
              "      display:flex;\n",
              "      flex-wrap:wrap;\n",
              "      gap: 12px;\n",
              "    }\n",
              "\n",
              "    .colab-df-convert {\n",
              "      background-color: #E8F0FE;\n",
              "      border: none;\n",
              "      border-radius: 50%;\n",
              "      cursor: pointer;\n",
              "      display: none;\n",
              "      fill: #1967D2;\n",
              "      height: 32px;\n",
              "      padding: 0 0 0 0;\n",
              "      width: 32px;\n",
              "    }\n",
              "\n",
              "    .colab-df-convert:hover {\n",
              "      background-color: #E2EBFA;\n",
              "      box-shadow: 0px 1px 2px rgba(60, 64, 67, 0.3), 0px 1px 3px 1px rgba(60, 64, 67, 0.15);\n",
              "      fill: #174EA6;\n",
              "    }\n",
              "\n",
              "    [theme=dark] .colab-df-convert {\n",
              "      background-color: #3B4455;\n",
              "      fill: #D2E3FC;\n",
              "    }\n",
              "\n",
              "    [theme=dark] .colab-df-convert:hover {\n",
              "      background-color: #434B5C;\n",
              "      box-shadow: 0px 1px 3px 1px rgba(0, 0, 0, 0.15);\n",
              "      filter: drop-shadow(0px 1px 2px rgba(0, 0, 0, 0.3));\n",
              "      fill: #FFFFFF;\n",
              "    }\n",
              "  </style>\n",
              "\n",
              "      <script>\n",
              "        const buttonEl =\n",
              "          document.querySelector('#df-8bacad02-88f7-49bb-9e0f-3bcd27dbf1f7 button.colab-df-convert');\n",
              "        buttonEl.style.display =\n",
              "          google.colab.kernel.accessAllowed ? 'block' : 'none';\n",
              "\n",
              "        async function convertToInteractive(key) {\n",
              "          const element = document.querySelector('#df-8bacad02-88f7-49bb-9e0f-3bcd27dbf1f7');\n",
              "          const dataTable =\n",
              "            await google.colab.kernel.invokeFunction('convertToInteractive',\n",
              "                                                     [key], {});\n",
              "          if (!dataTable) return;\n",
              "\n",
              "          const docLinkHtml = 'Like what you see? Visit the ' +\n",
              "            '<a target=\"_blank\" href=https://colab.research.google.com/notebooks/data_table.ipynb>data table notebook</a>'\n",
              "            + ' to learn more about interactive tables.';\n",
              "          element.innerHTML = '';\n",
              "          dataTable['output_type'] = 'display_data';\n",
              "          await google.colab.output.renderOutput(dataTable, element);\n",
              "          const docLink = document.createElement('div');\n",
              "          docLink.innerHTML = docLinkHtml;\n",
              "          element.appendChild(docLink);\n",
              "        }\n",
              "      </script>\n",
              "    </div>\n",
              "  </div>\n",
              "  "
            ]
          },
          "metadata": {},
          "execution_count": 49
        }
      ]
    },
    {
      "cell_type": "code",
      "source": [
        "res = pd.concat([df, df1], ignore_index=True)\n",
        " \n",
        "res"
      ],
      "metadata": {
        "colab": {
          "base_uri": "https://localhost:8080/",
          "height": 300
        },
        "id": "Q6LdXTXpT8eT",
        "outputId": "da6311b7-2dbe-4c52-bafa-2eba046ee298"
      },
      "execution_count": null,
      "outputs": [
        {
          "output_type": "execute_result",
          "data": {
            "text/plain": [
              "     Name  Age    Address Qualification  Mobile No  Salary\n",
              "0     Jai   27     Nagpur           Msc       97.0     NaN\n",
              "1  Princi   24     Kanpur            MA       91.0     NaN\n",
              "2  Gaurav   22  Allahabad           MCA       58.0     NaN\n",
              "3    Anuj   32    Kannuaj           Phd       76.0     NaN\n",
              "4  Gaurav   22  Allahabad           MCA        NaN  1000.0\n",
              "5    Anuj   32    Kannuaj           Phd        NaN  2000.0\n",
              "6  Dhiraj   12  Allahabad          Bcom        NaN  3000.0\n",
              "7  Hitesh   52    Kannuaj        B.hons        NaN  4000.0"
            ],
            "text/html": [
              "\n",
              "  <div id=\"df-f6067140-76a6-492d-b54b-2d30b36cdffa\">\n",
              "    <div class=\"colab-df-container\">\n",
              "      <div>\n",
              "<style scoped>\n",
              "    .dataframe tbody tr th:only-of-type {\n",
              "        vertical-align: middle;\n",
              "    }\n",
              "\n",
              "    .dataframe tbody tr th {\n",
              "        vertical-align: top;\n",
              "    }\n",
              "\n",
              "    .dataframe thead th {\n",
              "        text-align: right;\n",
              "    }\n",
              "</style>\n",
              "<table border=\"1\" class=\"dataframe\">\n",
              "  <thead>\n",
              "    <tr style=\"text-align: right;\">\n",
              "      <th></th>\n",
              "      <th>Name</th>\n",
              "      <th>Age</th>\n",
              "      <th>Address</th>\n",
              "      <th>Qualification</th>\n",
              "      <th>Mobile No</th>\n",
              "      <th>Salary</th>\n",
              "    </tr>\n",
              "  </thead>\n",
              "  <tbody>\n",
              "    <tr>\n",
              "      <th>0</th>\n",
              "      <td>Jai</td>\n",
              "      <td>27</td>\n",
              "      <td>Nagpur</td>\n",
              "      <td>Msc</td>\n",
              "      <td>97.0</td>\n",
              "      <td>NaN</td>\n",
              "    </tr>\n",
              "    <tr>\n",
              "      <th>1</th>\n",
              "      <td>Princi</td>\n",
              "      <td>24</td>\n",
              "      <td>Kanpur</td>\n",
              "      <td>MA</td>\n",
              "      <td>91.0</td>\n",
              "      <td>NaN</td>\n",
              "    </tr>\n",
              "    <tr>\n",
              "      <th>2</th>\n",
              "      <td>Gaurav</td>\n",
              "      <td>22</td>\n",
              "      <td>Allahabad</td>\n",
              "      <td>MCA</td>\n",
              "      <td>58.0</td>\n",
              "      <td>NaN</td>\n",
              "    </tr>\n",
              "    <tr>\n",
              "      <th>3</th>\n",
              "      <td>Anuj</td>\n",
              "      <td>32</td>\n",
              "      <td>Kannuaj</td>\n",
              "      <td>Phd</td>\n",
              "      <td>76.0</td>\n",
              "      <td>NaN</td>\n",
              "    </tr>\n",
              "    <tr>\n",
              "      <th>4</th>\n",
              "      <td>Gaurav</td>\n",
              "      <td>22</td>\n",
              "      <td>Allahabad</td>\n",
              "      <td>MCA</td>\n",
              "      <td>NaN</td>\n",
              "      <td>1000.0</td>\n",
              "    </tr>\n",
              "    <tr>\n",
              "      <th>5</th>\n",
              "      <td>Anuj</td>\n",
              "      <td>32</td>\n",
              "      <td>Kannuaj</td>\n",
              "      <td>Phd</td>\n",
              "      <td>NaN</td>\n",
              "      <td>2000.0</td>\n",
              "    </tr>\n",
              "    <tr>\n",
              "      <th>6</th>\n",
              "      <td>Dhiraj</td>\n",
              "      <td>12</td>\n",
              "      <td>Allahabad</td>\n",
              "      <td>Bcom</td>\n",
              "      <td>NaN</td>\n",
              "      <td>3000.0</td>\n",
              "    </tr>\n",
              "    <tr>\n",
              "      <th>7</th>\n",
              "      <td>Hitesh</td>\n",
              "      <td>52</td>\n",
              "      <td>Kannuaj</td>\n",
              "      <td>B.hons</td>\n",
              "      <td>NaN</td>\n",
              "      <td>4000.0</td>\n",
              "    </tr>\n",
              "  </tbody>\n",
              "</table>\n",
              "</div>\n",
              "      <button class=\"colab-df-convert\" onclick=\"convertToInteractive('df-f6067140-76a6-492d-b54b-2d30b36cdffa')\"\n",
              "              title=\"Convert this dataframe to an interactive table.\"\n",
              "              style=\"display:none;\">\n",
              "        \n",
              "  <svg xmlns=\"http://www.w3.org/2000/svg\" height=\"24px\"viewBox=\"0 0 24 24\"\n",
              "       width=\"24px\">\n",
              "    <path d=\"M0 0h24v24H0V0z\" fill=\"none\"/>\n",
              "    <path d=\"M18.56 5.44l.94 2.06.94-2.06 2.06-.94-2.06-.94-.94-2.06-.94 2.06-2.06.94zm-11 1L8.5 8.5l.94-2.06 2.06-.94-2.06-.94L8.5 2.5l-.94 2.06-2.06.94zm10 10l.94 2.06.94-2.06 2.06-.94-2.06-.94-.94-2.06-.94 2.06-2.06.94z\"/><path d=\"M17.41 7.96l-1.37-1.37c-.4-.4-.92-.59-1.43-.59-.52 0-1.04.2-1.43.59L10.3 9.45l-7.72 7.72c-.78.78-.78 2.05 0 2.83L4 21.41c.39.39.9.59 1.41.59.51 0 1.02-.2 1.41-.59l7.78-7.78 2.81-2.81c.8-.78.8-2.07 0-2.86zM5.41 20L4 18.59l7.72-7.72 1.47 1.35L5.41 20z\"/>\n",
              "  </svg>\n",
              "      </button>\n",
              "      \n",
              "  <style>\n",
              "    .colab-df-container {\n",
              "      display:flex;\n",
              "      flex-wrap:wrap;\n",
              "      gap: 12px;\n",
              "    }\n",
              "\n",
              "    .colab-df-convert {\n",
              "      background-color: #E8F0FE;\n",
              "      border: none;\n",
              "      border-radius: 50%;\n",
              "      cursor: pointer;\n",
              "      display: none;\n",
              "      fill: #1967D2;\n",
              "      height: 32px;\n",
              "      padding: 0 0 0 0;\n",
              "      width: 32px;\n",
              "    }\n",
              "\n",
              "    .colab-df-convert:hover {\n",
              "      background-color: #E2EBFA;\n",
              "      box-shadow: 0px 1px 2px rgba(60, 64, 67, 0.3), 0px 1px 3px 1px rgba(60, 64, 67, 0.15);\n",
              "      fill: #174EA6;\n",
              "    }\n",
              "\n",
              "    [theme=dark] .colab-df-convert {\n",
              "      background-color: #3B4455;\n",
              "      fill: #D2E3FC;\n",
              "    }\n",
              "\n",
              "    [theme=dark] .colab-df-convert:hover {\n",
              "      background-color: #434B5C;\n",
              "      box-shadow: 0px 1px 3px 1px rgba(0, 0, 0, 0.15);\n",
              "      filter: drop-shadow(0px 1px 2px rgba(0, 0, 0, 0.3));\n",
              "      fill: #FFFFFF;\n",
              "    }\n",
              "  </style>\n",
              "\n",
              "      <script>\n",
              "        const buttonEl =\n",
              "          document.querySelector('#df-f6067140-76a6-492d-b54b-2d30b36cdffa button.colab-df-convert');\n",
              "        buttonEl.style.display =\n",
              "          google.colab.kernel.accessAllowed ? 'block' : 'none';\n",
              "\n",
              "        async function convertToInteractive(key) {\n",
              "          const element = document.querySelector('#df-f6067140-76a6-492d-b54b-2d30b36cdffa');\n",
              "          const dataTable =\n",
              "            await google.colab.kernel.invokeFunction('convertToInteractive',\n",
              "                                                     [key], {});\n",
              "          if (!dataTable) return;\n",
              "\n",
              "          const docLinkHtml = 'Like what you see? Visit the ' +\n",
              "            '<a target=\"_blank\" href=https://colab.research.google.com/notebooks/data_table.ipynb>data table notebook</a>'\n",
              "            + ' to learn more about interactive tables.';\n",
              "          element.innerHTML = '';\n",
              "          dataTable['output_type'] = 'display_data';\n",
              "          await google.colab.output.renderOutput(dataTable, element);\n",
              "          const docLink = document.createElement('div');\n",
              "          docLink.innerHTML = docLinkHtml;\n",
              "          element.appendChild(docLink);\n",
              "        }\n",
              "      </script>\n",
              "    </div>\n",
              "  </div>\n",
              "  "
            ]
          },
          "metadata": {},
          "execution_count": 52
        }
      ]
    },
    {
      "cell_type": "code",
      "source": [
        "data1 = {'Name':['Jai', 'Princi', 'Gaurav', 'Anuj'], \n",
        "        'Age':[27, 24, 22, 32], \n",
        "        'Address':['Nagpur', 'Kanpur', 'Allahabad', 'Kannuaj'], \n",
        "        'Qualification':['Msc', 'MA', 'MCA', 'Phd']} \n",
        "   \n",
        "# Define a dictionary containing employee data \n",
        "data2 = {'Name':['Abhi', 'Ayushi', 'Dhiraj', 'Hitesh'], \n",
        "        'Age':[17, 14, 12, 52], \n",
        "        'Address':['Nagpur', 'Kanpur', 'Allahabad', 'Kannuaj'], \n",
        "        'Qualification':['Btech', 'B.A', 'Bcom', 'B.hons']} \n",
        " \n",
        "# Convert the dictionary into DataFrame  \n",
        "df = pd.DataFrame(data1,index=[0, 1, 2, 3])\n",
        " \n",
        "# Convert the dictionary into DataFrame  \n",
        "df1 = pd.DataFrame(data2, index=[4, 5, 6, 7])\n",
        " \n",
        "print(df, \"\\n\\n\", df1)  "
      ],
      "metadata": {
        "colab": {
          "base_uri": "https://localhost:8080/"
        },
        "id": "jWnxgrJkUQqE",
        "outputId": "5f9d6bdd-ce7a-4f45-edf7-25260939605a"
      },
      "execution_count": null,
      "outputs": [
        {
          "output_type": "stream",
          "name": "stdout",
          "text": [
            "     Name  Age    Address Qualification\n",
            "0     Jai   27     Nagpur           Msc\n",
            "1  Princi   24     Kanpur            MA\n",
            "2  Gaurav   22  Allahabad           MCA\n",
            "3    Anuj   32    Kannuaj           Phd \n",
            "\n",
            "      Name  Age    Address Qualification\n",
            "4    Abhi   17     Nagpur         Btech\n",
            "5  Ayushi   14     Kanpur           B.A\n",
            "6  Dhiraj   12  Allahabad          Bcom\n",
            "7  Hitesh   52    Kannuaj        B.hons\n"
          ]
        }
      ]
    },
    {
      "cell_type": "code",
      "source": [
        "frames = [df, df1 ]\n",
        " \n",
        "res = pd.concat(frames, keys=['x', 'y'])\n",
        "res"
      ],
      "metadata": {
        "colab": {
          "base_uri": "https://localhost:8080/",
          "height": 300
        },
        "id": "suLDpC9nUTUs",
        "outputId": "38f798bd-f59e-4488-eea3-0fdd3e6c26f1"
      },
      "execution_count": null,
      "outputs": [
        {
          "output_type": "execute_result",
          "data": {
            "text/plain": [
              "       Name  Age    Address Qualification\n",
              "x 0     Jai   27     Nagpur           Msc\n",
              "  1  Princi   24     Kanpur            MA\n",
              "  2  Gaurav   22  Allahabad           MCA\n",
              "  3    Anuj   32    Kannuaj           Phd\n",
              "y 4    Abhi   17     Nagpur         Btech\n",
              "  5  Ayushi   14     Kanpur           B.A\n",
              "  6  Dhiraj   12  Allahabad          Bcom\n",
              "  7  Hitesh   52    Kannuaj        B.hons"
            ],
            "text/html": [
              "\n",
              "  <div id=\"df-24646950-ba67-4ba3-aec4-bd9782032bb1\">\n",
              "    <div class=\"colab-df-container\">\n",
              "      <div>\n",
              "<style scoped>\n",
              "    .dataframe tbody tr th:only-of-type {\n",
              "        vertical-align: middle;\n",
              "    }\n",
              "\n",
              "    .dataframe tbody tr th {\n",
              "        vertical-align: top;\n",
              "    }\n",
              "\n",
              "    .dataframe thead th {\n",
              "        text-align: right;\n",
              "    }\n",
              "</style>\n",
              "<table border=\"1\" class=\"dataframe\">\n",
              "  <thead>\n",
              "    <tr style=\"text-align: right;\">\n",
              "      <th></th>\n",
              "      <th></th>\n",
              "      <th>Name</th>\n",
              "      <th>Age</th>\n",
              "      <th>Address</th>\n",
              "      <th>Qualification</th>\n",
              "    </tr>\n",
              "  </thead>\n",
              "  <tbody>\n",
              "    <tr>\n",
              "      <th rowspan=\"4\" valign=\"top\">x</th>\n",
              "      <th>0</th>\n",
              "      <td>Jai</td>\n",
              "      <td>27</td>\n",
              "      <td>Nagpur</td>\n",
              "      <td>Msc</td>\n",
              "    </tr>\n",
              "    <tr>\n",
              "      <th>1</th>\n",
              "      <td>Princi</td>\n",
              "      <td>24</td>\n",
              "      <td>Kanpur</td>\n",
              "      <td>MA</td>\n",
              "    </tr>\n",
              "    <tr>\n",
              "      <th>2</th>\n",
              "      <td>Gaurav</td>\n",
              "      <td>22</td>\n",
              "      <td>Allahabad</td>\n",
              "      <td>MCA</td>\n",
              "    </tr>\n",
              "    <tr>\n",
              "      <th>3</th>\n",
              "      <td>Anuj</td>\n",
              "      <td>32</td>\n",
              "      <td>Kannuaj</td>\n",
              "      <td>Phd</td>\n",
              "    </tr>\n",
              "    <tr>\n",
              "      <th rowspan=\"4\" valign=\"top\">y</th>\n",
              "      <th>4</th>\n",
              "      <td>Abhi</td>\n",
              "      <td>17</td>\n",
              "      <td>Nagpur</td>\n",
              "      <td>Btech</td>\n",
              "    </tr>\n",
              "    <tr>\n",
              "      <th>5</th>\n",
              "      <td>Ayushi</td>\n",
              "      <td>14</td>\n",
              "      <td>Kanpur</td>\n",
              "      <td>B.A</td>\n",
              "    </tr>\n",
              "    <tr>\n",
              "      <th>6</th>\n",
              "      <td>Dhiraj</td>\n",
              "      <td>12</td>\n",
              "      <td>Allahabad</td>\n",
              "      <td>Bcom</td>\n",
              "    </tr>\n",
              "    <tr>\n",
              "      <th>7</th>\n",
              "      <td>Hitesh</td>\n",
              "      <td>52</td>\n",
              "      <td>Kannuaj</td>\n",
              "      <td>B.hons</td>\n",
              "    </tr>\n",
              "  </tbody>\n",
              "</table>\n",
              "</div>\n",
              "      <button class=\"colab-df-convert\" onclick=\"convertToInteractive('df-24646950-ba67-4ba3-aec4-bd9782032bb1')\"\n",
              "              title=\"Convert this dataframe to an interactive table.\"\n",
              "              style=\"display:none;\">\n",
              "        \n",
              "  <svg xmlns=\"http://www.w3.org/2000/svg\" height=\"24px\"viewBox=\"0 0 24 24\"\n",
              "       width=\"24px\">\n",
              "    <path d=\"M0 0h24v24H0V0z\" fill=\"none\"/>\n",
              "    <path d=\"M18.56 5.44l.94 2.06.94-2.06 2.06-.94-2.06-.94-.94-2.06-.94 2.06-2.06.94zm-11 1L8.5 8.5l.94-2.06 2.06-.94-2.06-.94L8.5 2.5l-.94 2.06-2.06.94zm10 10l.94 2.06.94-2.06 2.06-.94-2.06-.94-.94-2.06-.94 2.06-2.06.94z\"/><path d=\"M17.41 7.96l-1.37-1.37c-.4-.4-.92-.59-1.43-.59-.52 0-1.04.2-1.43.59L10.3 9.45l-7.72 7.72c-.78.78-.78 2.05 0 2.83L4 21.41c.39.39.9.59 1.41.59.51 0 1.02-.2 1.41-.59l7.78-7.78 2.81-2.81c.8-.78.8-2.07 0-2.86zM5.41 20L4 18.59l7.72-7.72 1.47 1.35L5.41 20z\"/>\n",
              "  </svg>\n",
              "      </button>\n",
              "      \n",
              "  <style>\n",
              "    .colab-df-container {\n",
              "      display:flex;\n",
              "      flex-wrap:wrap;\n",
              "      gap: 12px;\n",
              "    }\n",
              "\n",
              "    .colab-df-convert {\n",
              "      background-color: #E8F0FE;\n",
              "      border: none;\n",
              "      border-radius: 50%;\n",
              "      cursor: pointer;\n",
              "      display: none;\n",
              "      fill: #1967D2;\n",
              "      height: 32px;\n",
              "      padding: 0 0 0 0;\n",
              "      width: 32px;\n",
              "    }\n",
              "\n",
              "    .colab-df-convert:hover {\n",
              "      background-color: #E2EBFA;\n",
              "      box-shadow: 0px 1px 2px rgba(60, 64, 67, 0.3), 0px 1px 3px 1px rgba(60, 64, 67, 0.15);\n",
              "      fill: #174EA6;\n",
              "    }\n",
              "\n",
              "    [theme=dark] .colab-df-convert {\n",
              "      background-color: #3B4455;\n",
              "      fill: #D2E3FC;\n",
              "    }\n",
              "\n",
              "    [theme=dark] .colab-df-convert:hover {\n",
              "      background-color: #434B5C;\n",
              "      box-shadow: 0px 1px 3px 1px rgba(0, 0, 0, 0.15);\n",
              "      filter: drop-shadow(0px 1px 2px rgba(0, 0, 0, 0.3));\n",
              "      fill: #FFFFFF;\n",
              "    }\n",
              "  </style>\n",
              "\n",
              "      <script>\n",
              "        const buttonEl =\n",
              "          document.querySelector('#df-24646950-ba67-4ba3-aec4-bd9782032bb1 button.colab-df-convert');\n",
              "        buttonEl.style.display =\n",
              "          google.colab.kernel.accessAllowed ? 'block' : 'none';\n",
              "\n",
              "        async function convertToInteractive(key) {\n",
              "          const element = document.querySelector('#df-24646950-ba67-4ba3-aec4-bd9782032bb1');\n",
              "          const dataTable =\n",
              "            await google.colab.kernel.invokeFunction('convertToInteractive',\n",
              "                                                     [key], {});\n",
              "          if (!dataTable) return;\n",
              "\n",
              "          const docLinkHtml = 'Like what you see? Visit the ' +\n",
              "            '<a target=\"_blank\" href=https://colab.research.google.com/notebooks/data_table.ipynb>data table notebook</a>'\n",
              "            + ' to learn more about interactive tables.';\n",
              "          element.innerHTML = '';\n",
              "          dataTable['output_type'] = 'display_data';\n",
              "          await google.colab.output.renderOutput(dataTable, element);\n",
              "          const docLink = document.createElement('div');\n",
              "          docLink.innerHTML = docLinkHtml;\n",
              "          element.appendChild(docLink);\n",
              "        }\n",
              "      </script>\n",
              "    </div>\n",
              "  </div>\n",
              "  "
            ]
          },
          "metadata": {},
          "execution_count": 54
        }
      ]
    },
    {
      "cell_type": "code",
      "source": [
        "import pandas as pd \n",
        " \n",
        "# Define a dictionary containing employee data \n",
        "data1 = {'Name':['Jai', 'Princi', 'Gaurav', 'Anuj'], \n",
        "        'Age':[27, 24, 22, 32], \n",
        "        'Address':['Nagpur', 'Kanpur', 'Allahabad', 'Kannuaj'], \n",
        "        'Qualification':['Msc', 'MA', 'MCA', 'Phd']} \n",
        "   \n",
        "# Convert the dictionary into DataFrame  \n",
        "df = pd.DataFrame(data1,index=[0, 1, 2, 3])\n",
        " \n",
        "# creating a series\n",
        "s1 = pd.Series([1000, 2000, 3000, 4000], name='Salary')\n",
        " \n",
        "print(df, \"\\n\\n\", s1) \n",
        "\n",
        "# combining series and dataframe\n",
        "res = pd.concat([df, s1], axis=1)\n",
        " \n",
        "res"
      ],
      "metadata": {
        "colab": {
          "base_uri": "https://localhost:8080/",
          "height": 366
        },
        "id": "hP6aEVhC3ugH",
        "outputId": "f2dfac87-9722-4c4e-ae74-80649228bf7b"
      },
      "execution_count": null,
      "outputs": [
        {
          "output_type": "stream",
          "name": "stdout",
          "text": [
            "     Name  Age    Address Qualification\n",
            "0     Jai   27     Nagpur           Msc\n",
            "1  Princi   24     Kanpur            MA\n",
            "2  Gaurav   22  Allahabad           MCA\n",
            "3    Anuj   32    Kannuaj           Phd \n",
            "\n",
            " 0    1000\n",
            "1    2000\n",
            "2    3000\n",
            "3    4000\n",
            "Name: Salary, dtype: int64\n"
          ]
        },
        {
          "output_type": "execute_result",
          "data": {
            "text/plain": [
              "     Name  Age    Address Qualification  Salary\n",
              "0     Jai   27     Nagpur           Msc    1000\n",
              "1  Princi   24     Kanpur            MA    2000\n",
              "2  Gaurav   22  Allahabad           MCA    3000\n",
              "3    Anuj   32    Kannuaj           Phd    4000"
            ],
            "text/html": [
              "\n",
              "  <div id=\"df-ef170550-06af-4b6c-b685-4a25aa0ffb01\">\n",
              "    <div class=\"colab-df-container\">\n",
              "      <div>\n",
              "<style scoped>\n",
              "    .dataframe tbody tr th:only-of-type {\n",
              "        vertical-align: middle;\n",
              "    }\n",
              "\n",
              "    .dataframe tbody tr th {\n",
              "        vertical-align: top;\n",
              "    }\n",
              "\n",
              "    .dataframe thead th {\n",
              "        text-align: right;\n",
              "    }\n",
              "</style>\n",
              "<table border=\"1\" class=\"dataframe\">\n",
              "  <thead>\n",
              "    <tr style=\"text-align: right;\">\n",
              "      <th></th>\n",
              "      <th>Name</th>\n",
              "      <th>Age</th>\n",
              "      <th>Address</th>\n",
              "      <th>Qualification</th>\n",
              "      <th>Salary</th>\n",
              "    </tr>\n",
              "  </thead>\n",
              "  <tbody>\n",
              "    <tr>\n",
              "      <th>0</th>\n",
              "      <td>Jai</td>\n",
              "      <td>27</td>\n",
              "      <td>Nagpur</td>\n",
              "      <td>Msc</td>\n",
              "      <td>1000</td>\n",
              "    </tr>\n",
              "    <tr>\n",
              "      <th>1</th>\n",
              "      <td>Princi</td>\n",
              "      <td>24</td>\n",
              "      <td>Kanpur</td>\n",
              "      <td>MA</td>\n",
              "      <td>2000</td>\n",
              "    </tr>\n",
              "    <tr>\n",
              "      <th>2</th>\n",
              "      <td>Gaurav</td>\n",
              "      <td>22</td>\n",
              "      <td>Allahabad</td>\n",
              "      <td>MCA</td>\n",
              "      <td>3000</td>\n",
              "    </tr>\n",
              "    <tr>\n",
              "      <th>3</th>\n",
              "      <td>Anuj</td>\n",
              "      <td>32</td>\n",
              "      <td>Kannuaj</td>\n",
              "      <td>Phd</td>\n",
              "      <td>4000</td>\n",
              "    </tr>\n",
              "  </tbody>\n",
              "</table>\n",
              "</div>\n",
              "      <button class=\"colab-df-convert\" onclick=\"convertToInteractive('df-ef170550-06af-4b6c-b685-4a25aa0ffb01')\"\n",
              "              title=\"Convert this dataframe to an interactive table.\"\n",
              "              style=\"display:none;\">\n",
              "        \n",
              "  <svg xmlns=\"http://www.w3.org/2000/svg\" height=\"24px\"viewBox=\"0 0 24 24\"\n",
              "       width=\"24px\">\n",
              "    <path d=\"M0 0h24v24H0V0z\" fill=\"none\"/>\n",
              "    <path d=\"M18.56 5.44l.94 2.06.94-2.06 2.06-.94-2.06-.94-.94-2.06-.94 2.06-2.06.94zm-11 1L8.5 8.5l.94-2.06 2.06-.94-2.06-.94L8.5 2.5l-.94 2.06-2.06.94zm10 10l.94 2.06.94-2.06 2.06-.94-2.06-.94-.94-2.06-.94 2.06-2.06.94z\"/><path d=\"M17.41 7.96l-1.37-1.37c-.4-.4-.92-.59-1.43-.59-.52 0-1.04.2-1.43.59L10.3 9.45l-7.72 7.72c-.78.78-.78 2.05 0 2.83L4 21.41c.39.39.9.59 1.41.59.51 0 1.02-.2 1.41-.59l7.78-7.78 2.81-2.81c.8-.78.8-2.07 0-2.86zM5.41 20L4 18.59l7.72-7.72 1.47 1.35L5.41 20z\"/>\n",
              "  </svg>\n",
              "      </button>\n",
              "      \n",
              "  <style>\n",
              "    .colab-df-container {\n",
              "      display:flex;\n",
              "      flex-wrap:wrap;\n",
              "      gap: 12px;\n",
              "    }\n",
              "\n",
              "    .colab-df-convert {\n",
              "      background-color: #E8F0FE;\n",
              "      border: none;\n",
              "      border-radius: 50%;\n",
              "      cursor: pointer;\n",
              "      display: none;\n",
              "      fill: #1967D2;\n",
              "      height: 32px;\n",
              "      padding: 0 0 0 0;\n",
              "      width: 32px;\n",
              "    }\n",
              "\n",
              "    .colab-df-convert:hover {\n",
              "      background-color: #E2EBFA;\n",
              "      box-shadow: 0px 1px 2px rgba(60, 64, 67, 0.3), 0px 1px 3px 1px rgba(60, 64, 67, 0.15);\n",
              "      fill: #174EA6;\n",
              "    }\n",
              "\n",
              "    [theme=dark] .colab-df-convert {\n",
              "      background-color: #3B4455;\n",
              "      fill: #D2E3FC;\n",
              "    }\n",
              "\n",
              "    [theme=dark] .colab-df-convert:hover {\n",
              "      background-color: #434B5C;\n",
              "      box-shadow: 0px 1px 3px 1px rgba(0, 0, 0, 0.15);\n",
              "      filter: drop-shadow(0px 1px 2px rgba(0, 0, 0, 0.3));\n",
              "      fill: #FFFFFF;\n",
              "    }\n",
              "  </style>\n",
              "\n",
              "      <script>\n",
              "        const buttonEl =\n",
              "          document.querySelector('#df-ef170550-06af-4b6c-b685-4a25aa0ffb01 button.colab-df-convert');\n",
              "        buttonEl.style.display =\n",
              "          google.colab.kernel.accessAllowed ? 'block' : 'none';\n",
              "\n",
              "        async function convertToInteractive(key) {\n",
              "          const element = document.querySelector('#df-ef170550-06af-4b6c-b685-4a25aa0ffb01');\n",
              "          const dataTable =\n",
              "            await google.colab.kernel.invokeFunction('convertToInteractive',\n",
              "                                                     [key], {});\n",
              "          if (!dataTable) return;\n",
              "\n",
              "          const docLinkHtml = 'Like what you see? Visit the ' +\n",
              "            '<a target=\"_blank\" href=https://colab.research.google.com/notebooks/data_table.ipynb>data table notebook</a>'\n",
              "            + ' to learn more about interactive tables.';\n",
              "          element.innerHTML = '';\n",
              "          dataTable['output_type'] = 'display_data';\n",
              "          await google.colab.output.renderOutput(dataTable, element);\n",
              "          const docLink = document.createElement('div');\n",
              "          docLink.innerHTML = docLinkHtml;\n",
              "          element.appendChild(docLink);\n",
              "        }\n",
              "      </script>\n",
              "    </div>\n",
              "  </div>\n",
              "  "
            ]
          },
          "metadata": {},
          "execution_count": 2
        }
      ]
    },
    {
      "cell_type": "code",
      "source": [
        "import pandas as pd \n",
        " \n",
        "# Define a dictionary containing employee data \n",
        "data1 = {'key': ['K0', 'K1', 'K2', 'K3'],\n",
        "         'Name':['Jai', 'Princi', 'Gaurav', 'Anuj'], \n",
        "        'Age':[27, 24, 22, 32],} \n",
        "   \n",
        "# Define a dictionary containing employee data \n",
        "data2 = {'key': ['K0', 'K1', 'K2', 'K3'],\n",
        "         'Address':['Nagpur', 'Kanpur', 'Allahabad', 'Kannuaj'], \n",
        "        'Qualification':['Btech', 'B.A', 'Bcom', 'B.hons']} \n",
        " \n",
        "# Convert the dictionary into DataFrame  \n",
        "df = pd.DataFrame(data1)\n",
        " \n",
        "# Convert the dictionary into DataFrame  \n",
        "df1 = pd.DataFrame(data2) \n",
        "  \n",
        " \n",
        "print(df, \"\\n\\n\", df1) "
      ],
      "metadata": {
        "colab": {
          "base_uri": "https://localhost:8080/"
        },
        "id": "oEM5I5Rm34M1",
        "outputId": "0f7826dc-7602-4e8c-f928-94ea4a4c6230"
      },
      "execution_count": null,
      "outputs": [
        {
          "output_type": "stream",
          "name": "stdout",
          "text": [
            "  key    Name  Age\n",
            "0  K0     Jai   27\n",
            "1  K1  Princi   24\n",
            "2  K2  Gaurav   22\n",
            "3  K3    Anuj   32 \n",
            "\n",
            "   key    Address Qualification\n",
            "0  K0     Nagpur         Btech\n",
            "1  K1     Kanpur           B.A\n",
            "2  K2  Allahabad          Bcom\n",
            "3  K3    Kannuaj        B.hons\n"
          ]
        }
      ]
    },
    {
      "cell_type": "code",
      "source": [
        "data1 = {'key': ['K0', 'K1', 'K2', 'K3'],\n",
        "         'key1': ['K0', 'K1', 'K0', 'K1'],\n",
        "         'Name':['Jai', 'Princi', 'Gaurav', 'Anuj'], \n",
        "        'Age':[27, 24, 22, 32],} \n",
        "   \n",
        "# Define a dictionary containing employee data \n",
        "data2 = {'key': ['K0', 'K1', 'K2', 'K3'],\n",
        "         'key1': ['K0', 'K0', 'K0', 'K0'],\n",
        "         'Address':['Nagpur', 'Kanpur', 'Allahabad', 'Kannuaj'], \n",
        "        'Qualification':['Btech', 'B.A', 'Bcom', 'B.hons']} \n",
        " \n",
        "# Convert the dictionary into DataFrame  \n",
        "df = pd.DataFrame(data1)\n",
        " \n",
        "# Convert the dictionary into DataFrame  \n",
        "df1 = pd.DataFrame(data2) \n",
        "  \n",
        " \n",
        "print(df, \"\\n\\n\", df1) "
      ],
      "metadata": {
        "colab": {
          "base_uri": "https://localhost:8080/"
        },
        "id": "UGDslr2i4CtW",
        "outputId": "3f57902f-e9c4-45f9-a330-25328cb51873"
      },
      "execution_count": null,
      "outputs": [
        {
          "output_type": "stream",
          "name": "stdout",
          "text": [
            "  key key1    Name  Age\n",
            "0  K0   K0     Jai   27\n",
            "1  K1   K1  Princi   24\n",
            "2  K2   K0  Gaurav   22\n",
            "3  K3   K1    Anuj   32 \n",
            "\n",
            "   key key1    Address Qualification\n",
            "0  K0   K0     Nagpur         Btech\n",
            "1  K1   K0     Kanpur           B.A\n",
            "2  K2   K0  Allahabad          Bcom\n",
            "3  K3   K0    Kannuaj        B.hons\n"
          ]
        }
      ]
    },
    {
      "cell_type": "code",
      "source": [
        "res1 = pd.merge(df, df1, on=['key', 'key1'])\n",
        " \n",
        "res1"
      ],
      "metadata": {
        "colab": {
          "base_uri": "https://localhost:8080/",
          "height": 112
        },
        "id": "74z7IXpj4MTG",
        "outputId": "8db1470f-c1d3-4aca-aefb-06b99bf884b4"
      },
      "execution_count": null,
      "outputs": [
        {
          "output_type": "execute_result",
          "data": {
            "text/plain": [
              "  key key1    Name  Age    Address Qualification\n",
              "0  K0   K0     Jai   27     Nagpur         Btech\n",
              "1  K2   K0  Gaurav   22  Allahabad          Bcom"
            ],
            "text/html": [
              "\n",
              "  <div id=\"df-44583127-788e-4a05-a043-a57c233daf2e\">\n",
              "    <div class=\"colab-df-container\">\n",
              "      <div>\n",
              "<style scoped>\n",
              "    .dataframe tbody tr th:only-of-type {\n",
              "        vertical-align: middle;\n",
              "    }\n",
              "\n",
              "    .dataframe tbody tr th {\n",
              "        vertical-align: top;\n",
              "    }\n",
              "\n",
              "    .dataframe thead th {\n",
              "        text-align: right;\n",
              "    }\n",
              "</style>\n",
              "<table border=\"1\" class=\"dataframe\">\n",
              "  <thead>\n",
              "    <tr style=\"text-align: right;\">\n",
              "      <th></th>\n",
              "      <th>key</th>\n",
              "      <th>key1</th>\n",
              "      <th>Name</th>\n",
              "      <th>Age</th>\n",
              "      <th>Address</th>\n",
              "      <th>Qualification</th>\n",
              "    </tr>\n",
              "  </thead>\n",
              "  <tbody>\n",
              "    <tr>\n",
              "      <th>0</th>\n",
              "      <td>K0</td>\n",
              "      <td>K0</td>\n",
              "      <td>Jai</td>\n",
              "      <td>27</td>\n",
              "      <td>Nagpur</td>\n",
              "      <td>Btech</td>\n",
              "    </tr>\n",
              "    <tr>\n",
              "      <th>1</th>\n",
              "      <td>K2</td>\n",
              "      <td>K0</td>\n",
              "      <td>Gaurav</td>\n",
              "      <td>22</td>\n",
              "      <td>Allahabad</td>\n",
              "      <td>Bcom</td>\n",
              "    </tr>\n",
              "  </tbody>\n",
              "</table>\n",
              "</div>\n",
              "      <button class=\"colab-df-convert\" onclick=\"convertToInteractive('df-44583127-788e-4a05-a043-a57c233daf2e')\"\n",
              "              title=\"Convert this dataframe to an interactive table.\"\n",
              "              style=\"display:none;\">\n",
              "        \n",
              "  <svg xmlns=\"http://www.w3.org/2000/svg\" height=\"24px\"viewBox=\"0 0 24 24\"\n",
              "       width=\"24px\">\n",
              "    <path d=\"M0 0h24v24H0V0z\" fill=\"none\"/>\n",
              "    <path d=\"M18.56 5.44l.94 2.06.94-2.06 2.06-.94-2.06-.94-.94-2.06-.94 2.06-2.06.94zm-11 1L8.5 8.5l.94-2.06 2.06-.94-2.06-.94L8.5 2.5l-.94 2.06-2.06.94zm10 10l.94 2.06.94-2.06 2.06-.94-2.06-.94-.94-2.06-.94 2.06-2.06.94z\"/><path d=\"M17.41 7.96l-1.37-1.37c-.4-.4-.92-.59-1.43-.59-.52 0-1.04.2-1.43.59L10.3 9.45l-7.72 7.72c-.78.78-.78 2.05 0 2.83L4 21.41c.39.39.9.59 1.41.59.51 0 1.02-.2 1.41-.59l7.78-7.78 2.81-2.81c.8-.78.8-2.07 0-2.86zM5.41 20L4 18.59l7.72-7.72 1.47 1.35L5.41 20z\"/>\n",
              "  </svg>\n",
              "      </button>\n",
              "      \n",
              "  <style>\n",
              "    .colab-df-container {\n",
              "      display:flex;\n",
              "      flex-wrap:wrap;\n",
              "      gap: 12px;\n",
              "    }\n",
              "\n",
              "    .colab-df-convert {\n",
              "      background-color: #E8F0FE;\n",
              "      border: none;\n",
              "      border-radius: 50%;\n",
              "      cursor: pointer;\n",
              "      display: none;\n",
              "      fill: #1967D2;\n",
              "      height: 32px;\n",
              "      padding: 0 0 0 0;\n",
              "      width: 32px;\n",
              "    }\n",
              "\n",
              "    .colab-df-convert:hover {\n",
              "      background-color: #E2EBFA;\n",
              "      box-shadow: 0px 1px 2px rgba(60, 64, 67, 0.3), 0px 1px 3px 1px rgba(60, 64, 67, 0.15);\n",
              "      fill: #174EA6;\n",
              "    }\n",
              "\n",
              "    [theme=dark] .colab-df-convert {\n",
              "      background-color: #3B4455;\n",
              "      fill: #D2E3FC;\n",
              "    }\n",
              "\n",
              "    [theme=dark] .colab-df-convert:hover {\n",
              "      background-color: #434B5C;\n",
              "      box-shadow: 0px 1px 3px 1px rgba(0, 0, 0, 0.15);\n",
              "      filter: drop-shadow(0px 1px 2px rgba(0, 0, 0, 0.3));\n",
              "      fill: #FFFFFF;\n",
              "    }\n",
              "  </style>\n",
              "\n",
              "      <script>\n",
              "        const buttonEl =\n",
              "          document.querySelector('#df-44583127-788e-4a05-a043-a57c233daf2e button.colab-df-convert');\n",
              "        buttonEl.style.display =\n",
              "          google.colab.kernel.accessAllowed ? 'block' : 'none';\n",
              "\n",
              "        async function convertToInteractive(key) {\n",
              "          const element = document.querySelector('#df-44583127-788e-4a05-a043-a57c233daf2e');\n",
              "          const dataTable =\n",
              "            await google.colab.kernel.invokeFunction('convertToInteractive',\n",
              "                                                     [key], {});\n",
              "          if (!dataTable) return;\n",
              "\n",
              "          const docLinkHtml = 'Like what you see? Visit the ' +\n",
              "            '<a target=\"_blank\" href=https://colab.research.google.com/notebooks/data_table.ipynb>data table notebook</a>'\n",
              "            + ' to learn more about interactive tables.';\n",
              "          element.innerHTML = '';\n",
              "          dataTable['output_type'] = 'display_data';\n",
              "          await google.colab.output.renderOutput(dataTable, element);\n",
              "          const docLink = document.createElement('div');\n",
              "          docLink.innerHTML = docLinkHtml;\n",
              "          element.appendChild(docLink);\n",
              "        }\n",
              "      </script>\n",
              "    </div>\n",
              "  </div>\n",
              "  "
            ]
          },
          "metadata": {},
          "execution_count": 6
        }
      ]
    },
    {
      "cell_type": "code",
      "source": [
        "import pandas as pd \n",
        " \n",
        "# Define a dictionary containing employee data \n",
        "data1 = {'key': ['K0', 'K1', 'K2', 'K3'],\n",
        "         'key1': ['K0', 'K1', 'K0', 'K1'],\n",
        "         'Name':['Jai', 'Princi', 'Gaurav', 'Anuj'], \n",
        "        'Age':[27, 24, 22, 32],} \n",
        "   \n",
        "# Define a dictionary containing employee data \n",
        "data2 = {'key': ['K0', 'K1', 'K2', 'K3'],\n",
        "         'key1': ['K0', 'K0', 'K0', 'K0'],\n",
        "         'Address':['Nagpur', 'Kanpur', 'Allahabad', 'Kannuaj'], \n",
        "        'Qualification':['Btech', 'B.A', 'Bcom', 'B.hons']} \n",
        " \n",
        "# Convert the dictionary into DataFrame  \n",
        "df = pd.DataFrame(data1)\n",
        " \n",
        "# Convert the dictionary into DataFrame  \n",
        "df1 = pd.DataFrame(data2) \n",
        "  \n",
        " \n",
        "print(df, \"\\n\\n\", df1) "
      ],
      "metadata": {
        "colab": {
          "base_uri": "https://localhost:8080/"
        },
        "id": "ogqjEtUf4QU3",
        "outputId": "7a65107d-7c62-406f-8502-b00d519510fb"
      },
      "execution_count": null,
      "outputs": [
        {
          "output_type": "stream",
          "name": "stdout",
          "text": [
            "  key key1    Name  Age\n",
            "0  K0   K0     Jai   27\n",
            "1  K1   K1  Princi   24\n",
            "2  K2   K0  Gaurav   22\n",
            "3  K3   K1    Anuj   32 \n",
            "\n",
            "   key key1    Address Qualification\n",
            "0  K0   K0     Nagpur         Btech\n",
            "1  K1   K0     Kanpur           B.A\n",
            "2  K2   K0  Allahabad          Bcom\n",
            "3  K3   K0    Kannuaj        B.hons\n"
          ]
        }
      ]
    },
    {
      "cell_type": "code",
      "source": [
        "res = pd.merge(df, df1, how='left', on=['key', 'key1'])\n",
        " \n",
        "res"
      ],
      "metadata": {
        "colab": {
          "base_uri": "https://localhost:8080/",
          "height": 175
        },
        "id": "WAHAtoim4UkJ",
        "outputId": "86c045c4-9d9b-4de9-98cb-eaa2c856c03e"
      },
      "execution_count": null,
      "outputs": [
        {
          "output_type": "execute_result",
          "data": {
            "text/plain": [
              "  key key1    Name  Age    Address Qualification\n",
              "0  K0   K0     Jai   27     Nagpur         Btech\n",
              "1  K1   K1  Princi   24        NaN           NaN\n",
              "2  K2   K0  Gaurav   22  Allahabad          Bcom\n",
              "3  K3   K1    Anuj   32        NaN           NaN"
            ],
            "text/html": [
              "\n",
              "  <div id=\"df-40bee8bd-8d9a-4122-8433-efc7e5352aef\">\n",
              "    <div class=\"colab-df-container\">\n",
              "      <div>\n",
              "<style scoped>\n",
              "    .dataframe tbody tr th:only-of-type {\n",
              "        vertical-align: middle;\n",
              "    }\n",
              "\n",
              "    .dataframe tbody tr th {\n",
              "        vertical-align: top;\n",
              "    }\n",
              "\n",
              "    .dataframe thead th {\n",
              "        text-align: right;\n",
              "    }\n",
              "</style>\n",
              "<table border=\"1\" class=\"dataframe\">\n",
              "  <thead>\n",
              "    <tr style=\"text-align: right;\">\n",
              "      <th></th>\n",
              "      <th>key</th>\n",
              "      <th>key1</th>\n",
              "      <th>Name</th>\n",
              "      <th>Age</th>\n",
              "      <th>Address</th>\n",
              "      <th>Qualification</th>\n",
              "    </tr>\n",
              "  </thead>\n",
              "  <tbody>\n",
              "    <tr>\n",
              "      <th>0</th>\n",
              "      <td>K0</td>\n",
              "      <td>K0</td>\n",
              "      <td>Jai</td>\n",
              "      <td>27</td>\n",
              "      <td>Nagpur</td>\n",
              "      <td>Btech</td>\n",
              "    </tr>\n",
              "    <tr>\n",
              "      <th>1</th>\n",
              "      <td>K1</td>\n",
              "      <td>K1</td>\n",
              "      <td>Princi</td>\n",
              "      <td>24</td>\n",
              "      <td>NaN</td>\n",
              "      <td>NaN</td>\n",
              "    </tr>\n",
              "    <tr>\n",
              "      <th>2</th>\n",
              "      <td>K2</td>\n",
              "      <td>K0</td>\n",
              "      <td>Gaurav</td>\n",
              "      <td>22</td>\n",
              "      <td>Allahabad</td>\n",
              "      <td>Bcom</td>\n",
              "    </tr>\n",
              "    <tr>\n",
              "      <th>3</th>\n",
              "      <td>K3</td>\n",
              "      <td>K1</td>\n",
              "      <td>Anuj</td>\n",
              "      <td>32</td>\n",
              "      <td>NaN</td>\n",
              "      <td>NaN</td>\n",
              "    </tr>\n",
              "  </tbody>\n",
              "</table>\n",
              "</div>\n",
              "      <button class=\"colab-df-convert\" onclick=\"convertToInteractive('df-40bee8bd-8d9a-4122-8433-efc7e5352aef')\"\n",
              "              title=\"Convert this dataframe to an interactive table.\"\n",
              "              style=\"display:none;\">\n",
              "        \n",
              "  <svg xmlns=\"http://www.w3.org/2000/svg\" height=\"24px\"viewBox=\"0 0 24 24\"\n",
              "       width=\"24px\">\n",
              "    <path d=\"M0 0h24v24H0V0z\" fill=\"none\"/>\n",
              "    <path d=\"M18.56 5.44l.94 2.06.94-2.06 2.06-.94-2.06-.94-.94-2.06-.94 2.06-2.06.94zm-11 1L8.5 8.5l.94-2.06 2.06-.94-2.06-.94L8.5 2.5l-.94 2.06-2.06.94zm10 10l.94 2.06.94-2.06 2.06-.94-2.06-.94-.94-2.06-.94 2.06-2.06.94z\"/><path d=\"M17.41 7.96l-1.37-1.37c-.4-.4-.92-.59-1.43-.59-.52 0-1.04.2-1.43.59L10.3 9.45l-7.72 7.72c-.78.78-.78 2.05 0 2.83L4 21.41c.39.39.9.59 1.41.59.51 0 1.02-.2 1.41-.59l7.78-7.78 2.81-2.81c.8-.78.8-2.07 0-2.86zM5.41 20L4 18.59l7.72-7.72 1.47 1.35L5.41 20z\"/>\n",
              "  </svg>\n",
              "      </button>\n",
              "      \n",
              "  <style>\n",
              "    .colab-df-container {\n",
              "      display:flex;\n",
              "      flex-wrap:wrap;\n",
              "      gap: 12px;\n",
              "    }\n",
              "\n",
              "    .colab-df-convert {\n",
              "      background-color: #E8F0FE;\n",
              "      border: none;\n",
              "      border-radius: 50%;\n",
              "      cursor: pointer;\n",
              "      display: none;\n",
              "      fill: #1967D2;\n",
              "      height: 32px;\n",
              "      padding: 0 0 0 0;\n",
              "      width: 32px;\n",
              "    }\n",
              "\n",
              "    .colab-df-convert:hover {\n",
              "      background-color: #E2EBFA;\n",
              "      box-shadow: 0px 1px 2px rgba(60, 64, 67, 0.3), 0px 1px 3px 1px rgba(60, 64, 67, 0.15);\n",
              "      fill: #174EA6;\n",
              "    }\n",
              "\n",
              "    [theme=dark] .colab-df-convert {\n",
              "      background-color: #3B4455;\n",
              "      fill: #D2E3FC;\n",
              "    }\n",
              "\n",
              "    [theme=dark] .colab-df-convert:hover {\n",
              "      background-color: #434B5C;\n",
              "      box-shadow: 0px 1px 3px 1px rgba(0, 0, 0, 0.15);\n",
              "      filter: drop-shadow(0px 1px 2px rgba(0, 0, 0, 0.3));\n",
              "      fill: #FFFFFF;\n",
              "    }\n",
              "  </style>\n",
              "\n",
              "      <script>\n",
              "        const buttonEl =\n",
              "          document.querySelector('#df-40bee8bd-8d9a-4122-8433-efc7e5352aef button.colab-df-convert');\n",
              "        buttonEl.style.display =\n",
              "          google.colab.kernel.accessAllowed ? 'block' : 'none';\n",
              "\n",
              "        async function convertToInteractive(key) {\n",
              "          const element = document.querySelector('#df-40bee8bd-8d9a-4122-8433-efc7e5352aef');\n",
              "          const dataTable =\n",
              "            await google.colab.kernel.invokeFunction('convertToInteractive',\n",
              "                                                     [key], {});\n",
              "          if (!dataTable) return;\n",
              "\n",
              "          const docLinkHtml = 'Like what you see? Visit the ' +\n",
              "            '<a target=\"_blank\" href=https://colab.research.google.com/notebooks/data_table.ipynb>data table notebook</a>'\n",
              "            + ' to learn more about interactive tables.';\n",
              "          element.innerHTML = '';\n",
              "          dataTable['output_type'] = 'display_data';\n",
              "          await google.colab.output.renderOutput(dataTable, element);\n",
              "          const docLink = document.createElement('div');\n",
              "          docLink.innerHTML = docLinkHtml;\n",
              "          element.appendChild(docLink);\n",
              "        }\n",
              "      </script>\n",
              "    </div>\n",
              "  </div>\n",
              "  "
            ]
          },
          "metadata": {},
          "execution_count": 8
        }
      ]
    },
    {
      "cell_type": "code",
      "source": [
        "res1 = pd.merge(df, df1, how='right', on=['key', 'key1'])\n",
        " \n",
        "res1"
      ],
      "metadata": {
        "colab": {
          "base_uri": "https://localhost:8080/",
          "height": 175
        },
        "id": "LWW0xuyyrVdn",
        "outputId": "e12713f6-42e0-4562-ac0c-c414c3ee51e2"
      },
      "execution_count": null,
      "outputs": [
        {
          "output_type": "execute_result",
          "data": {
            "text/plain": [
              "  key key1    Name   Age    Address Qualification\n",
              "0  K0   K0     Jai  27.0     Nagpur         Btech\n",
              "1  K1   K0     NaN   NaN     Kanpur           B.A\n",
              "2  K2   K0  Gaurav  22.0  Allahabad          Bcom\n",
              "3  K3   K0     NaN   NaN    Kannuaj        B.hons"
            ],
            "text/html": [
              "\n",
              "  <div id=\"df-d3057734-4038-464c-9fae-90dabe0985db\">\n",
              "    <div class=\"colab-df-container\">\n",
              "      <div>\n",
              "<style scoped>\n",
              "    .dataframe tbody tr th:only-of-type {\n",
              "        vertical-align: middle;\n",
              "    }\n",
              "\n",
              "    .dataframe tbody tr th {\n",
              "        vertical-align: top;\n",
              "    }\n",
              "\n",
              "    .dataframe thead th {\n",
              "        text-align: right;\n",
              "    }\n",
              "</style>\n",
              "<table border=\"1\" class=\"dataframe\">\n",
              "  <thead>\n",
              "    <tr style=\"text-align: right;\">\n",
              "      <th></th>\n",
              "      <th>key</th>\n",
              "      <th>key1</th>\n",
              "      <th>Name</th>\n",
              "      <th>Age</th>\n",
              "      <th>Address</th>\n",
              "      <th>Qualification</th>\n",
              "    </tr>\n",
              "  </thead>\n",
              "  <tbody>\n",
              "    <tr>\n",
              "      <th>0</th>\n",
              "      <td>K0</td>\n",
              "      <td>K0</td>\n",
              "      <td>Jai</td>\n",
              "      <td>27.0</td>\n",
              "      <td>Nagpur</td>\n",
              "      <td>Btech</td>\n",
              "    </tr>\n",
              "    <tr>\n",
              "      <th>1</th>\n",
              "      <td>K1</td>\n",
              "      <td>K0</td>\n",
              "      <td>NaN</td>\n",
              "      <td>NaN</td>\n",
              "      <td>Kanpur</td>\n",
              "      <td>B.A</td>\n",
              "    </tr>\n",
              "    <tr>\n",
              "      <th>2</th>\n",
              "      <td>K2</td>\n",
              "      <td>K0</td>\n",
              "      <td>Gaurav</td>\n",
              "      <td>22.0</td>\n",
              "      <td>Allahabad</td>\n",
              "      <td>Bcom</td>\n",
              "    </tr>\n",
              "    <tr>\n",
              "      <th>3</th>\n",
              "      <td>K3</td>\n",
              "      <td>K0</td>\n",
              "      <td>NaN</td>\n",
              "      <td>NaN</td>\n",
              "      <td>Kannuaj</td>\n",
              "      <td>B.hons</td>\n",
              "    </tr>\n",
              "  </tbody>\n",
              "</table>\n",
              "</div>\n",
              "      <button class=\"colab-df-convert\" onclick=\"convertToInteractive('df-d3057734-4038-464c-9fae-90dabe0985db')\"\n",
              "              title=\"Convert this dataframe to an interactive table.\"\n",
              "              style=\"display:none;\">\n",
              "        \n",
              "  <svg xmlns=\"http://www.w3.org/2000/svg\" height=\"24px\"viewBox=\"0 0 24 24\"\n",
              "       width=\"24px\">\n",
              "    <path d=\"M0 0h24v24H0V0z\" fill=\"none\"/>\n",
              "    <path d=\"M18.56 5.44l.94 2.06.94-2.06 2.06-.94-2.06-.94-.94-2.06-.94 2.06-2.06.94zm-11 1L8.5 8.5l.94-2.06 2.06-.94-2.06-.94L8.5 2.5l-.94 2.06-2.06.94zm10 10l.94 2.06.94-2.06 2.06-.94-2.06-.94-.94-2.06-.94 2.06-2.06.94z\"/><path d=\"M17.41 7.96l-1.37-1.37c-.4-.4-.92-.59-1.43-.59-.52 0-1.04.2-1.43.59L10.3 9.45l-7.72 7.72c-.78.78-.78 2.05 0 2.83L4 21.41c.39.39.9.59 1.41.59.51 0 1.02-.2 1.41-.59l7.78-7.78 2.81-2.81c.8-.78.8-2.07 0-2.86zM5.41 20L4 18.59l7.72-7.72 1.47 1.35L5.41 20z\"/>\n",
              "  </svg>\n",
              "      </button>\n",
              "      \n",
              "  <style>\n",
              "    .colab-df-container {\n",
              "      display:flex;\n",
              "      flex-wrap:wrap;\n",
              "      gap: 12px;\n",
              "    }\n",
              "\n",
              "    .colab-df-convert {\n",
              "      background-color: #E8F0FE;\n",
              "      border: none;\n",
              "      border-radius: 50%;\n",
              "      cursor: pointer;\n",
              "      display: none;\n",
              "      fill: #1967D2;\n",
              "      height: 32px;\n",
              "      padding: 0 0 0 0;\n",
              "      width: 32px;\n",
              "    }\n",
              "\n",
              "    .colab-df-convert:hover {\n",
              "      background-color: #E2EBFA;\n",
              "      box-shadow: 0px 1px 2px rgba(60, 64, 67, 0.3), 0px 1px 3px 1px rgba(60, 64, 67, 0.15);\n",
              "      fill: #174EA6;\n",
              "    }\n",
              "\n",
              "    [theme=dark] .colab-df-convert {\n",
              "      background-color: #3B4455;\n",
              "      fill: #D2E3FC;\n",
              "    }\n",
              "\n",
              "    [theme=dark] .colab-df-convert:hover {\n",
              "      background-color: #434B5C;\n",
              "      box-shadow: 0px 1px 3px 1px rgba(0, 0, 0, 0.15);\n",
              "      filter: drop-shadow(0px 1px 2px rgba(0, 0, 0, 0.3));\n",
              "      fill: #FFFFFF;\n",
              "    }\n",
              "  </style>\n",
              "\n",
              "      <script>\n",
              "        const buttonEl =\n",
              "          document.querySelector('#df-d3057734-4038-464c-9fae-90dabe0985db button.colab-df-convert');\n",
              "        buttonEl.style.display =\n",
              "          google.colab.kernel.accessAllowed ? 'block' : 'none';\n",
              "\n",
              "        async function convertToInteractive(key) {\n",
              "          const element = document.querySelector('#df-d3057734-4038-464c-9fae-90dabe0985db');\n",
              "          const dataTable =\n",
              "            await google.colab.kernel.invokeFunction('convertToInteractive',\n",
              "                                                     [key], {});\n",
              "          if (!dataTable) return;\n",
              "\n",
              "          const docLinkHtml = 'Like what you see? Visit the ' +\n",
              "            '<a target=\"_blank\" href=https://colab.research.google.com/notebooks/data_table.ipynb>data table notebook</a>'\n",
              "            + ' to learn more about interactive tables.';\n",
              "          element.innerHTML = '';\n",
              "          dataTable['output_type'] = 'display_data';\n",
              "          await google.colab.output.renderOutput(dataTable, element);\n",
              "          const docLink = document.createElement('div');\n",
              "          docLink.innerHTML = docLinkHtml;\n",
              "          element.appendChild(docLink);\n",
              "        }\n",
              "      </script>\n",
              "    </div>\n",
              "  </div>\n",
              "  "
            ]
          },
          "metadata": {},
          "execution_count": 2
        }
      ]
    },
    {
      "cell_type": "code",
      "source": [
        "res2 = pd.merge(df, df1, how='outer', on=['key', 'key1'])\n",
        " \n",
        "res2"
      ],
      "metadata": {
        "colab": {
          "base_uri": "https://localhost:8080/",
          "height": 238
        },
        "id": "NCFx2IUZrbAL",
        "outputId": "5d5fb2b1-e7e7-45d5-c364-785fd66d4519"
      },
      "execution_count": null,
      "outputs": [
        {
          "output_type": "execute_result",
          "data": {
            "text/plain": [
              "  key key1    Name   Age    Address Qualification\n",
              "0  K0   K0     Jai  27.0     Nagpur         Btech\n",
              "1  K1   K1  Princi  24.0        NaN           NaN\n",
              "2  K2   K0  Gaurav  22.0  Allahabad          Bcom\n",
              "3  K3   K1    Anuj  32.0        NaN           NaN\n",
              "4  K1   K0     NaN   NaN     Kanpur           B.A\n",
              "5  K3   K0     NaN   NaN    Kannuaj        B.hons"
            ],
            "text/html": [
              "\n",
              "  <div id=\"df-8b5d73ca-5ddb-45b8-b503-16e5908d3b13\">\n",
              "    <div class=\"colab-df-container\">\n",
              "      <div>\n",
              "<style scoped>\n",
              "    .dataframe tbody tr th:only-of-type {\n",
              "        vertical-align: middle;\n",
              "    }\n",
              "\n",
              "    .dataframe tbody tr th {\n",
              "        vertical-align: top;\n",
              "    }\n",
              "\n",
              "    .dataframe thead th {\n",
              "        text-align: right;\n",
              "    }\n",
              "</style>\n",
              "<table border=\"1\" class=\"dataframe\">\n",
              "  <thead>\n",
              "    <tr style=\"text-align: right;\">\n",
              "      <th></th>\n",
              "      <th>key</th>\n",
              "      <th>key1</th>\n",
              "      <th>Name</th>\n",
              "      <th>Age</th>\n",
              "      <th>Address</th>\n",
              "      <th>Qualification</th>\n",
              "    </tr>\n",
              "  </thead>\n",
              "  <tbody>\n",
              "    <tr>\n",
              "      <th>0</th>\n",
              "      <td>K0</td>\n",
              "      <td>K0</td>\n",
              "      <td>Jai</td>\n",
              "      <td>27.0</td>\n",
              "      <td>Nagpur</td>\n",
              "      <td>Btech</td>\n",
              "    </tr>\n",
              "    <tr>\n",
              "      <th>1</th>\n",
              "      <td>K1</td>\n",
              "      <td>K1</td>\n",
              "      <td>Princi</td>\n",
              "      <td>24.0</td>\n",
              "      <td>NaN</td>\n",
              "      <td>NaN</td>\n",
              "    </tr>\n",
              "    <tr>\n",
              "      <th>2</th>\n",
              "      <td>K2</td>\n",
              "      <td>K0</td>\n",
              "      <td>Gaurav</td>\n",
              "      <td>22.0</td>\n",
              "      <td>Allahabad</td>\n",
              "      <td>Bcom</td>\n",
              "    </tr>\n",
              "    <tr>\n",
              "      <th>3</th>\n",
              "      <td>K3</td>\n",
              "      <td>K1</td>\n",
              "      <td>Anuj</td>\n",
              "      <td>32.0</td>\n",
              "      <td>NaN</td>\n",
              "      <td>NaN</td>\n",
              "    </tr>\n",
              "    <tr>\n",
              "      <th>4</th>\n",
              "      <td>K1</td>\n",
              "      <td>K0</td>\n",
              "      <td>NaN</td>\n",
              "      <td>NaN</td>\n",
              "      <td>Kanpur</td>\n",
              "      <td>B.A</td>\n",
              "    </tr>\n",
              "    <tr>\n",
              "      <th>5</th>\n",
              "      <td>K3</td>\n",
              "      <td>K0</td>\n",
              "      <td>NaN</td>\n",
              "      <td>NaN</td>\n",
              "      <td>Kannuaj</td>\n",
              "      <td>B.hons</td>\n",
              "    </tr>\n",
              "  </tbody>\n",
              "</table>\n",
              "</div>\n",
              "      <button class=\"colab-df-convert\" onclick=\"convertToInteractive('df-8b5d73ca-5ddb-45b8-b503-16e5908d3b13')\"\n",
              "              title=\"Convert this dataframe to an interactive table.\"\n",
              "              style=\"display:none;\">\n",
              "        \n",
              "  <svg xmlns=\"http://www.w3.org/2000/svg\" height=\"24px\"viewBox=\"0 0 24 24\"\n",
              "       width=\"24px\">\n",
              "    <path d=\"M0 0h24v24H0V0z\" fill=\"none\"/>\n",
              "    <path d=\"M18.56 5.44l.94 2.06.94-2.06 2.06-.94-2.06-.94-.94-2.06-.94 2.06-2.06.94zm-11 1L8.5 8.5l.94-2.06 2.06-.94-2.06-.94L8.5 2.5l-.94 2.06-2.06.94zm10 10l.94 2.06.94-2.06 2.06-.94-2.06-.94-.94-2.06-.94 2.06-2.06.94z\"/><path d=\"M17.41 7.96l-1.37-1.37c-.4-.4-.92-.59-1.43-.59-.52 0-1.04.2-1.43.59L10.3 9.45l-7.72 7.72c-.78.78-.78 2.05 0 2.83L4 21.41c.39.39.9.59 1.41.59.51 0 1.02-.2 1.41-.59l7.78-7.78 2.81-2.81c.8-.78.8-2.07 0-2.86zM5.41 20L4 18.59l7.72-7.72 1.47 1.35L5.41 20z\"/>\n",
              "  </svg>\n",
              "      </button>\n",
              "      \n",
              "  <style>\n",
              "    .colab-df-container {\n",
              "      display:flex;\n",
              "      flex-wrap:wrap;\n",
              "      gap: 12px;\n",
              "    }\n",
              "\n",
              "    .colab-df-convert {\n",
              "      background-color: #E8F0FE;\n",
              "      border: none;\n",
              "      border-radius: 50%;\n",
              "      cursor: pointer;\n",
              "      display: none;\n",
              "      fill: #1967D2;\n",
              "      height: 32px;\n",
              "      padding: 0 0 0 0;\n",
              "      width: 32px;\n",
              "    }\n",
              "\n",
              "    .colab-df-convert:hover {\n",
              "      background-color: #E2EBFA;\n",
              "      box-shadow: 0px 1px 2px rgba(60, 64, 67, 0.3), 0px 1px 3px 1px rgba(60, 64, 67, 0.15);\n",
              "      fill: #174EA6;\n",
              "    }\n",
              "\n",
              "    [theme=dark] .colab-df-convert {\n",
              "      background-color: #3B4455;\n",
              "      fill: #D2E3FC;\n",
              "    }\n",
              "\n",
              "    [theme=dark] .colab-df-convert:hover {\n",
              "      background-color: #434B5C;\n",
              "      box-shadow: 0px 1px 3px 1px rgba(0, 0, 0, 0.15);\n",
              "      filter: drop-shadow(0px 1px 2px rgba(0, 0, 0, 0.3));\n",
              "      fill: #FFFFFF;\n",
              "    }\n",
              "  </style>\n",
              "\n",
              "      <script>\n",
              "        const buttonEl =\n",
              "          document.querySelector('#df-8b5d73ca-5ddb-45b8-b503-16e5908d3b13 button.colab-df-convert');\n",
              "        buttonEl.style.display =\n",
              "          google.colab.kernel.accessAllowed ? 'block' : 'none';\n",
              "\n",
              "        async function convertToInteractive(key) {\n",
              "          const element = document.querySelector('#df-8b5d73ca-5ddb-45b8-b503-16e5908d3b13');\n",
              "          const dataTable =\n",
              "            await google.colab.kernel.invokeFunction('convertToInteractive',\n",
              "                                                     [key], {});\n",
              "          if (!dataTable) return;\n",
              "\n",
              "          const docLinkHtml = 'Like what you see? Visit the ' +\n",
              "            '<a target=\"_blank\" href=https://colab.research.google.com/notebooks/data_table.ipynb>data table notebook</a>'\n",
              "            + ' to learn more about interactive tables.';\n",
              "          element.innerHTML = '';\n",
              "          dataTable['output_type'] = 'display_data';\n",
              "          await google.colab.output.renderOutput(dataTable, element);\n",
              "          const docLink = document.createElement('div');\n",
              "          docLink.innerHTML = docLinkHtml;\n",
              "          element.appendChild(docLink);\n",
              "        }\n",
              "      </script>\n",
              "    </div>\n",
              "  </div>\n",
              "  "
            ]
          },
          "metadata": {},
          "execution_count": 3
        }
      ]
    },
    {
      "cell_type": "code",
      "source": [
        "res3 = pd.merge(df, df1, how='inner', on=['key', 'key1'])\n",
        " \n",
        "res3"
      ],
      "metadata": {
        "colab": {
          "base_uri": "https://localhost:8080/",
          "height": 112
        },
        "id": "hnY5phS8rdmq",
        "outputId": "fa99aa0d-c0e7-4d42-f110-723f0ed23dd1"
      },
      "execution_count": null,
      "outputs": [
        {
          "output_type": "execute_result",
          "data": {
            "text/plain": [
              "  key key1    Name  Age    Address Qualification\n",
              "0  K0   K0     Jai   27     Nagpur         Btech\n",
              "1  K2   K0  Gaurav   22  Allahabad          Bcom"
            ],
            "text/html": [
              "\n",
              "  <div id=\"df-34a7bf79-f15a-45fa-89ea-1b036bfd2b3d\">\n",
              "    <div class=\"colab-df-container\">\n",
              "      <div>\n",
              "<style scoped>\n",
              "    .dataframe tbody tr th:only-of-type {\n",
              "        vertical-align: middle;\n",
              "    }\n",
              "\n",
              "    .dataframe tbody tr th {\n",
              "        vertical-align: top;\n",
              "    }\n",
              "\n",
              "    .dataframe thead th {\n",
              "        text-align: right;\n",
              "    }\n",
              "</style>\n",
              "<table border=\"1\" class=\"dataframe\">\n",
              "  <thead>\n",
              "    <tr style=\"text-align: right;\">\n",
              "      <th></th>\n",
              "      <th>key</th>\n",
              "      <th>key1</th>\n",
              "      <th>Name</th>\n",
              "      <th>Age</th>\n",
              "      <th>Address</th>\n",
              "      <th>Qualification</th>\n",
              "    </tr>\n",
              "  </thead>\n",
              "  <tbody>\n",
              "    <tr>\n",
              "      <th>0</th>\n",
              "      <td>K0</td>\n",
              "      <td>K0</td>\n",
              "      <td>Jai</td>\n",
              "      <td>27</td>\n",
              "      <td>Nagpur</td>\n",
              "      <td>Btech</td>\n",
              "    </tr>\n",
              "    <tr>\n",
              "      <th>1</th>\n",
              "      <td>K2</td>\n",
              "      <td>K0</td>\n",
              "      <td>Gaurav</td>\n",
              "      <td>22</td>\n",
              "      <td>Allahabad</td>\n",
              "      <td>Bcom</td>\n",
              "    </tr>\n",
              "  </tbody>\n",
              "</table>\n",
              "</div>\n",
              "      <button class=\"colab-df-convert\" onclick=\"convertToInteractive('df-34a7bf79-f15a-45fa-89ea-1b036bfd2b3d')\"\n",
              "              title=\"Convert this dataframe to an interactive table.\"\n",
              "              style=\"display:none;\">\n",
              "        \n",
              "  <svg xmlns=\"http://www.w3.org/2000/svg\" height=\"24px\"viewBox=\"0 0 24 24\"\n",
              "       width=\"24px\">\n",
              "    <path d=\"M0 0h24v24H0V0z\" fill=\"none\"/>\n",
              "    <path d=\"M18.56 5.44l.94 2.06.94-2.06 2.06-.94-2.06-.94-.94-2.06-.94 2.06-2.06.94zm-11 1L8.5 8.5l.94-2.06 2.06-.94-2.06-.94L8.5 2.5l-.94 2.06-2.06.94zm10 10l.94 2.06.94-2.06 2.06-.94-2.06-.94-.94-2.06-.94 2.06-2.06.94z\"/><path d=\"M17.41 7.96l-1.37-1.37c-.4-.4-.92-.59-1.43-.59-.52 0-1.04.2-1.43.59L10.3 9.45l-7.72 7.72c-.78.78-.78 2.05 0 2.83L4 21.41c.39.39.9.59 1.41.59.51 0 1.02-.2 1.41-.59l7.78-7.78 2.81-2.81c.8-.78.8-2.07 0-2.86zM5.41 20L4 18.59l7.72-7.72 1.47 1.35L5.41 20z\"/>\n",
              "  </svg>\n",
              "      </button>\n",
              "      \n",
              "  <style>\n",
              "    .colab-df-container {\n",
              "      display:flex;\n",
              "      flex-wrap:wrap;\n",
              "      gap: 12px;\n",
              "    }\n",
              "\n",
              "    .colab-df-convert {\n",
              "      background-color: #E8F0FE;\n",
              "      border: none;\n",
              "      border-radius: 50%;\n",
              "      cursor: pointer;\n",
              "      display: none;\n",
              "      fill: #1967D2;\n",
              "      height: 32px;\n",
              "      padding: 0 0 0 0;\n",
              "      width: 32px;\n",
              "    }\n",
              "\n",
              "    .colab-df-convert:hover {\n",
              "      background-color: #E2EBFA;\n",
              "      box-shadow: 0px 1px 2px rgba(60, 64, 67, 0.3), 0px 1px 3px 1px rgba(60, 64, 67, 0.15);\n",
              "      fill: #174EA6;\n",
              "    }\n",
              "\n",
              "    [theme=dark] .colab-df-convert {\n",
              "      background-color: #3B4455;\n",
              "      fill: #D2E3FC;\n",
              "    }\n",
              "\n",
              "    [theme=dark] .colab-df-convert:hover {\n",
              "      background-color: #434B5C;\n",
              "      box-shadow: 0px 1px 3px 1px rgba(0, 0, 0, 0.15);\n",
              "      filter: drop-shadow(0px 1px 2px rgba(0, 0, 0, 0.3));\n",
              "      fill: #FFFFFF;\n",
              "    }\n",
              "  </style>\n",
              "\n",
              "      <script>\n",
              "        const buttonEl =\n",
              "          document.querySelector('#df-34a7bf79-f15a-45fa-89ea-1b036bfd2b3d button.colab-df-convert');\n",
              "        buttonEl.style.display =\n",
              "          google.colab.kernel.accessAllowed ? 'block' : 'none';\n",
              "\n",
              "        async function convertToInteractive(key) {\n",
              "          const element = document.querySelector('#df-34a7bf79-f15a-45fa-89ea-1b036bfd2b3d');\n",
              "          const dataTable =\n",
              "            await google.colab.kernel.invokeFunction('convertToInteractive',\n",
              "                                                     [key], {});\n",
              "          if (!dataTable) return;\n",
              "\n",
              "          const docLinkHtml = 'Like what you see? Visit the ' +\n",
              "            '<a target=\"_blank\" href=https://colab.research.google.com/notebooks/data_table.ipynb>data table notebook</a>'\n",
              "            + ' to learn more about interactive tables.';\n",
              "          element.innerHTML = '';\n",
              "          dataTable['output_type'] = 'display_data';\n",
              "          await google.colab.output.renderOutput(dataTable, element);\n",
              "          const docLink = document.createElement('div');\n",
              "          docLink.innerHTML = docLinkHtml;\n",
              "          element.appendChild(docLink);\n",
              "        }\n",
              "      </script>\n",
              "    </div>\n",
              "  </div>\n",
              "  "
            ]
          },
          "metadata": {},
          "execution_count": 4
        }
      ]
    },
    {
      "cell_type": "code",
      "source": [
        "import pandas as pd \n",
        "  \n",
        "# Define a dictionary containing employee data \n",
        "data1 = {'Name':['Jai', 'Princi', 'Gaurav', 'Anuj'], \n",
        "        'Age':[27, 24, 22, 32]} \n",
        "    \n",
        "# Define a dictionary containing employee data \n",
        "data2 = {'Address':['Allahabad', 'Kannuaj', 'Allahabad', 'Kannuaj'], \n",
        "        'Qualification':['MCA', 'Phd', 'Bcom', 'B.hons']} \n",
        "  \n",
        "# Convert the dictionary into DataFrame  \n",
        "df = pd.DataFrame(data1,index=['K0', 'K1', 'K2', 'K3'])\n",
        "  \n",
        "# Convert the dictionary into DataFrame  \n",
        "df1 = pd.DataFrame(data2, index=['K0', 'K2', 'K3', 'K4'])\n",
        " \n",
        " \n",
        "print(df, \"\\n\\n\", df1)  "
      ],
      "metadata": {
        "colab": {
          "base_uri": "https://localhost:8080/"
        },
        "id": "-OM7tXcdrhT1",
        "outputId": "17b6b9c6-0279-40b4-83fa-e72504e0855f"
      },
      "execution_count": null,
      "outputs": [
        {
          "output_type": "stream",
          "name": "stdout",
          "text": [
            "      Name  Age\n",
            "K0     Jai   27\n",
            "K1  Princi   24\n",
            "K2  Gaurav   22\n",
            "K3    Anuj   32 \n",
            "\n",
            "       Address Qualification\n",
            "K0  Allahabad           MCA\n",
            "K2    Kannuaj           Phd\n",
            "K3  Allahabad          Bcom\n",
            "K4    Kannuaj        B.hons\n"
          ]
        }
      ]
    },
    {
      "cell_type": "code",
      "source": [
        "res = df.join(df1)\n",
        " \n",
        "res"
      ],
      "metadata": {
        "colab": {
          "base_uri": "https://localhost:8080/",
          "height": 175
        },
        "id": "STU32DXtrmBp",
        "outputId": "a153172f-9828-470c-e886-1db583351371"
      },
      "execution_count": null,
      "outputs": [
        {
          "output_type": "execute_result",
          "data": {
            "text/plain": [
              "      Name  Age    Address Qualification\n",
              "K0     Jai   27  Allahabad           MCA\n",
              "K1  Princi   24        NaN           NaN\n",
              "K2  Gaurav   22    Kannuaj           Phd\n",
              "K3    Anuj   32  Allahabad          Bcom"
            ],
            "text/html": [
              "\n",
              "  <div id=\"df-86b9f0c2-8eac-4a1a-83a7-fbf011238bae\">\n",
              "    <div class=\"colab-df-container\">\n",
              "      <div>\n",
              "<style scoped>\n",
              "    .dataframe tbody tr th:only-of-type {\n",
              "        vertical-align: middle;\n",
              "    }\n",
              "\n",
              "    .dataframe tbody tr th {\n",
              "        vertical-align: top;\n",
              "    }\n",
              "\n",
              "    .dataframe thead th {\n",
              "        text-align: right;\n",
              "    }\n",
              "</style>\n",
              "<table border=\"1\" class=\"dataframe\">\n",
              "  <thead>\n",
              "    <tr style=\"text-align: right;\">\n",
              "      <th></th>\n",
              "      <th>Name</th>\n",
              "      <th>Age</th>\n",
              "      <th>Address</th>\n",
              "      <th>Qualification</th>\n",
              "    </tr>\n",
              "  </thead>\n",
              "  <tbody>\n",
              "    <tr>\n",
              "      <th>K0</th>\n",
              "      <td>Jai</td>\n",
              "      <td>27</td>\n",
              "      <td>Allahabad</td>\n",
              "      <td>MCA</td>\n",
              "    </tr>\n",
              "    <tr>\n",
              "      <th>K1</th>\n",
              "      <td>Princi</td>\n",
              "      <td>24</td>\n",
              "      <td>NaN</td>\n",
              "      <td>NaN</td>\n",
              "    </tr>\n",
              "    <tr>\n",
              "      <th>K2</th>\n",
              "      <td>Gaurav</td>\n",
              "      <td>22</td>\n",
              "      <td>Kannuaj</td>\n",
              "      <td>Phd</td>\n",
              "    </tr>\n",
              "    <tr>\n",
              "      <th>K3</th>\n",
              "      <td>Anuj</td>\n",
              "      <td>32</td>\n",
              "      <td>Allahabad</td>\n",
              "      <td>Bcom</td>\n",
              "    </tr>\n",
              "  </tbody>\n",
              "</table>\n",
              "</div>\n",
              "      <button class=\"colab-df-convert\" onclick=\"convertToInteractive('df-86b9f0c2-8eac-4a1a-83a7-fbf011238bae')\"\n",
              "              title=\"Convert this dataframe to an interactive table.\"\n",
              "              style=\"display:none;\">\n",
              "        \n",
              "  <svg xmlns=\"http://www.w3.org/2000/svg\" height=\"24px\"viewBox=\"0 0 24 24\"\n",
              "       width=\"24px\">\n",
              "    <path d=\"M0 0h24v24H0V0z\" fill=\"none\"/>\n",
              "    <path d=\"M18.56 5.44l.94 2.06.94-2.06 2.06-.94-2.06-.94-.94-2.06-.94 2.06-2.06.94zm-11 1L8.5 8.5l.94-2.06 2.06-.94-2.06-.94L8.5 2.5l-.94 2.06-2.06.94zm10 10l.94 2.06.94-2.06 2.06-.94-2.06-.94-.94-2.06-.94 2.06-2.06.94z\"/><path d=\"M17.41 7.96l-1.37-1.37c-.4-.4-.92-.59-1.43-.59-.52 0-1.04.2-1.43.59L10.3 9.45l-7.72 7.72c-.78.78-.78 2.05 0 2.83L4 21.41c.39.39.9.59 1.41.59.51 0 1.02-.2 1.41-.59l7.78-7.78 2.81-2.81c.8-.78.8-2.07 0-2.86zM5.41 20L4 18.59l7.72-7.72 1.47 1.35L5.41 20z\"/>\n",
              "  </svg>\n",
              "      </button>\n",
              "      \n",
              "  <style>\n",
              "    .colab-df-container {\n",
              "      display:flex;\n",
              "      flex-wrap:wrap;\n",
              "      gap: 12px;\n",
              "    }\n",
              "\n",
              "    .colab-df-convert {\n",
              "      background-color: #E8F0FE;\n",
              "      border: none;\n",
              "      border-radius: 50%;\n",
              "      cursor: pointer;\n",
              "      display: none;\n",
              "      fill: #1967D2;\n",
              "      height: 32px;\n",
              "      padding: 0 0 0 0;\n",
              "      width: 32px;\n",
              "    }\n",
              "\n",
              "    .colab-df-convert:hover {\n",
              "      background-color: #E2EBFA;\n",
              "      box-shadow: 0px 1px 2px rgba(60, 64, 67, 0.3), 0px 1px 3px 1px rgba(60, 64, 67, 0.15);\n",
              "      fill: #174EA6;\n",
              "    }\n",
              "\n",
              "    [theme=dark] .colab-df-convert {\n",
              "      background-color: #3B4455;\n",
              "      fill: #D2E3FC;\n",
              "    }\n",
              "\n",
              "    [theme=dark] .colab-df-convert:hover {\n",
              "      background-color: #434B5C;\n",
              "      box-shadow: 0px 1px 3px 1px rgba(0, 0, 0, 0.15);\n",
              "      filter: drop-shadow(0px 1px 2px rgba(0, 0, 0, 0.3));\n",
              "      fill: #FFFFFF;\n",
              "    }\n",
              "  </style>\n",
              "\n",
              "      <script>\n",
              "        const buttonEl =\n",
              "          document.querySelector('#df-86b9f0c2-8eac-4a1a-83a7-fbf011238bae button.colab-df-convert');\n",
              "        buttonEl.style.display =\n",
              "          google.colab.kernel.accessAllowed ? 'block' : 'none';\n",
              "\n",
              "        async function convertToInteractive(key) {\n",
              "          const element = document.querySelector('#df-86b9f0c2-8eac-4a1a-83a7-fbf011238bae');\n",
              "          const dataTable =\n",
              "            await google.colab.kernel.invokeFunction('convertToInteractive',\n",
              "                                                     [key], {});\n",
              "          if (!dataTable) return;\n",
              "\n",
              "          const docLinkHtml = 'Like what you see? Visit the ' +\n",
              "            '<a target=\"_blank\" href=https://colab.research.google.com/notebooks/data_table.ipynb>data table notebook</a>'\n",
              "            + ' to learn more about interactive tables.';\n",
              "          element.innerHTML = '';\n",
              "          dataTable['output_type'] = 'display_data';\n",
              "          await google.colab.output.renderOutput(dataTable, element);\n",
              "          const docLink = document.createElement('div');\n",
              "          docLink.innerHTML = docLinkHtml;\n",
              "          element.appendChild(docLink);\n",
              "        }\n",
              "      </script>\n",
              "    </div>\n",
              "  </div>\n",
              "  "
            ]
          },
          "metadata": {},
          "execution_count": 7
        }
      ]
    },
    {
      "cell_type": "code",
      "source": [
        "res1 = df.join(df1, how='outer')\n",
        " \n",
        "res1"
      ],
      "metadata": {
        "colab": {
          "base_uri": "https://localhost:8080/",
          "height": 206
        },
        "id": "bsNLEwm9ruze",
        "outputId": "8dc159eb-66a8-46e1-fce5-d7a194a8faca"
      },
      "execution_count": null,
      "outputs": [
        {
          "output_type": "execute_result",
          "data": {
            "text/plain": [
              "      Name   Age    Address Qualification\n",
              "K0     Jai  27.0  Allahabad           MCA\n",
              "K1  Princi  24.0        NaN           NaN\n",
              "K2  Gaurav  22.0    Kannuaj           Phd\n",
              "K3    Anuj  32.0  Allahabad          Bcom\n",
              "K4     NaN   NaN    Kannuaj        B.hons"
            ],
            "text/html": [
              "\n",
              "  <div id=\"df-419d0215-6a5b-4273-b990-8bec69f28a93\">\n",
              "    <div class=\"colab-df-container\">\n",
              "      <div>\n",
              "<style scoped>\n",
              "    .dataframe tbody tr th:only-of-type {\n",
              "        vertical-align: middle;\n",
              "    }\n",
              "\n",
              "    .dataframe tbody tr th {\n",
              "        vertical-align: top;\n",
              "    }\n",
              "\n",
              "    .dataframe thead th {\n",
              "        text-align: right;\n",
              "    }\n",
              "</style>\n",
              "<table border=\"1\" class=\"dataframe\">\n",
              "  <thead>\n",
              "    <tr style=\"text-align: right;\">\n",
              "      <th></th>\n",
              "      <th>Name</th>\n",
              "      <th>Age</th>\n",
              "      <th>Address</th>\n",
              "      <th>Qualification</th>\n",
              "    </tr>\n",
              "  </thead>\n",
              "  <tbody>\n",
              "    <tr>\n",
              "      <th>K0</th>\n",
              "      <td>Jai</td>\n",
              "      <td>27.0</td>\n",
              "      <td>Allahabad</td>\n",
              "      <td>MCA</td>\n",
              "    </tr>\n",
              "    <tr>\n",
              "      <th>K1</th>\n",
              "      <td>Princi</td>\n",
              "      <td>24.0</td>\n",
              "      <td>NaN</td>\n",
              "      <td>NaN</td>\n",
              "    </tr>\n",
              "    <tr>\n",
              "      <th>K2</th>\n",
              "      <td>Gaurav</td>\n",
              "      <td>22.0</td>\n",
              "      <td>Kannuaj</td>\n",
              "      <td>Phd</td>\n",
              "    </tr>\n",
              "    <tr>\n",
              "      <th>K3</th>\n",
              "      <td>Anuj</td>\n",
              "      <td>32.0</td>\n",
              "      <td>Allahabad</td>\n",
              "      <td>Bcom</td>\n",
              "    </tr>\n",
              "    <tr>\n",
              "      <th>K4</th>\n",
              "      <td>NaN</td>\n",
              "      <td>NaN</td>\n",
              "      <td>Kannuaj</td>\n",
              "      <td>B.hons</td>\n",
              "    </tr>\n",
              "  </tbody>\n",
              "</table>\n",
              "</div>\n",
              "      <button class=\"colab-df-convert\" onclick=\"convertToInteractive('df-419d0215-6a5b-4273-b990-8bec69f28a93')\"\n",
              "              title=\"Convert this dataframe to an interactive table.\"\n",
              "              style=\"display:none;\">\n",
              "        \n",
              "  <svg xmlns=\"http://www.w3.org/2000/svg\" height=\"24px\"viewBox=\"0 0 24 24\"\n",
              "       width=\"24px\">\n",
              "    <path d=\"M0 0h24v24H0V0z\" fill=\"none\"/>\n",
              "    <path d=\"M18.56 5.44l.94 2.06.94-2.06 2.06-.94-2.06-.94-.94-2.06-.94 2.06-2.06.94zm-11 1L8.5 8.5l.94-2.06 2.06-.94-2.06-.94L8.5 2.5l-.94 2.06-2.06.94zm10 10l.94 2.06.94-2.06 2.06-.94-2.06-.94-.94-2.06-.94 2.06-2.06.94z\"/><path d=\"M17.41 7.96l-1.37-1.37c-.4-.4-.92-.59-1.43-.59-.52 0-1.04.2-1.43.59L10.3 9.45l-7.72 7.72c-.78.78-.78 2.05 0 2.83L4 21.41c.39.39.9.59 1.41.59.51 0 1.02-.2 1.41-.59l7.78-7.78 2.81-2.81c.8-.78.8-2.07 0-2.86zM5.41 20L4 18.59l7.72-7.72 1.47 1.35L5.41 20z\"/>\n",
              "  </svg>\n",
              "      </button>\n",
              "      \n",
              "  <style>\n",
              "    .colab-df-container {\n",
              "      display:flex;\n",
              "      flex-wrap:wrap;\n",
              "      gap: 12px;\n",
              "    }\n",
              "\n",
              "    .colab-df-convert {\n",
              "      background-color: #E8F0FE;\n",
              "      border: none;\n",
              "      border-radius: 50%;\n",
              "      cursor: pointer;\n",
              "      display: none;\n",
              "      fill: #1967D2;\n",
              "      height: 32px;\n",
              "      padding: 0 0 0 0;\n",
              "      width: 32px;\n",
              "    }\n",
              "\n",
              "    .colab-df-convert:hover {\n",
              "      background-color: #E2EBFA;\n",
              "      box-shadow: 0px 1px 2px rgba(60, 64, 67, 0.3), 0px 1px 3px 1px rgba(60, 64, 67, 0.15);\n",
              "      fill: #174EA6;\n",
              "    }\n",
              "\n",
              "    [theme=dark] .colab-df-convert {\n",
              "      background-color: #3B4455;\n",
              "      fill: #D2E3FC;\n",
              "    }\n",
              "\n",
              "    [theme=dark] .colab-df-convert:hover {\n",
              "      background-color: #434B5C;\n",
              "      box-shadow: 0px 1px 3px 1px rgba(0, 0, 0, 0.15);\n",
              "      filter: drop-shadow(0px 1px 2px rgba(0, 0, 0, 0.3));\n",
              "      fill: #FFFFFF;\n",
              "    }\n",
              "  </style>\n",
              "\n",
              "      <script>\n",
              "        const buttonEl =\n",
              "          document.querySelector('#df-419d0215-6a5b-4273-b990-8bec69f28a93 button.colab-df-convert');\n",
              "        buttonEl.style.display =\n",
              "          google.colab.kernel.accessAllowed ? 'block' : 'none';\n",
              "\n",
              "        async function convertToInteractive(key) {\n",
              "          const element = document.querySelector('#df-419d0215-6a5b-4273-b990-8bec69f28a93');\n",
              "          const dataTable =\n",
              "            await google.colab.kernel.invokeFunction('convertToInteractive',\n",
              "                                                     [key], {});\n",
              "          if (!dataTable) return;\n",
              "\n",
              "          const docLinkHtml = 'Like what you see? Visit the ' +\n",
              "            '<a target=\"_blank\" href=https://colab.research.google.com/notebooks/data_table.ipynb>data table notebook</a>'\n",
              "            + ' to learn more about interactive tables.';\n",
              "          element.innerHTML = '';\n",
              "          dataTable['output_type'] = 'display_data';\n",
              "          await google.colab.output.renderOutput(dataTable, element);\n",
              "          const docLink = document.createElement('div');\n",
              "          docLink.innerHTML = docLinkHtml;\n",
              "          element.appendChild(docLink);\n",
              "        }\n",
              "      </script>\n",
              "    </div>\n",
              "  </div>\n",
              "  "
            ]
          },
          "metadata": {},
          "execution_count": 8
        }
      ]
    },
    {
      "cell_type": "code",
      "source": [
        "import pandas as pd \n",
        "  \n",
        "# Define a dictionary containing employee data \n",
        "data1 = {'Name':['Jai', 'Princi', 'Gaurav', 'Anuj'], \n",
        "        'Age':[27, 24, 22, 32],\n",
        "        'Key':['K0', 'K1', 'K2', 'K3']} \n",
        "    \n",
        "# Define a dictionary containing employee data \n",
        "data2 = {'Address':['Allahabad', 'Kannuaj', 'Allahabad', 'Kannuaj'], \n",
        "        'Qualification':['MCA', 'Phd', 'Bcom', 'B.hons']} \n",
        "  \n",
        "# Convert the dictionary into DataFrame  \n",
        "df = pd.DataFrame(data1)\n",
        "  \n",
        "# Convert the dictionary into DataFrame  \n",
        "df1 = pd.DataFrame(data2, index=['K0', 'K2', 'K3', 'K4'])\n",
        " \n",
        " \n",
        "print(df, \"\\n\\n\", df1) "
      ],
      "metadata": {
        "colab": {
          "base_uri": "https://localhost:8080/"
        },
        "id": "rcW5xqear5AH",
        "outputId": "265d2e64-f5de-43eb-e0ce-186a468affa0"
      },
      "execution_count": null,
      "outputs": [
        {
          "output_type": "stream",
          "name": "stdout",
          "text": [
            "     Name  Age Key\n",
            "0     Jai   27  K0\n",
            "1  Princi   24  K1\n",
            "2  Gaurav   22  K2\n",
            "3    Anuj   32  K3 \n",
            "\n",
            "       Address Qualification\n",
            "K0  Allahabad           MCA\n",
            "K2    Kannuaj           Phd\n",
            "K3  Allahabad          Bcom\n",
            "K4    Kannuaj        B.hons\n"
          ]
        }
      ]
    },
    {
      "cell_type": "code",
      "source": [
        "res2 = df.join(df1, on='Key')\n",
        " \n",
        "res2"
      ],
      "metadata": {
        "colab": {
          "base_uri": "https://localhost:8080/",
          "height": 175
        },
        "id": "NarRPmpxr8sY",
        "outputId": "454d5994-9000-4744-ac34-696d8f0d38e4"
      },
      "execution_count": null,
      "outputs": [
        {
          "output_type": "execute_result",
          "data": {
            "text/plain": [
              "     Name  Age Key    Address Qualification\n",
              "0     Jai   27  K0  Allahabad           MCA\n",
              "1  Princi   24  K1        NaN           NaN\n",
              "2  Gaurav   22  K2    Kannuaj           Phd\n",
              "3    Anuj   32  K3  Allahabad          Bcom"
            ],
            "text/html": [
              "\n",
              "  <div id=\"df-6bd40420-94e7-47db-b479-de9a50d35228\">\n",
              "    <div class=\"colab-df-container\">\n",
              "      <div>\n",
              "<style scoped>\n",
              "    .dataframe tbody tr th:only-of-type {\n",
              "        vertical-align: middle;\n",
              "    }\n",
              "\n",
              "    .dataframe tbody tr th {\n",
              "        vertical-align: top;\n",
              "    }\n",
              "\n",
              "    .dataframe thead th {\n",
              "        text-align: right;\n",
              "    }\n",
              "</style>\n",
              "<table border=\"1\" class=\"dataframe\">\n",
              "  <thead>\n",
              "    <tr style=\"text-align: right;\">\n",
              "      <th></th>\n",
              "      <th>Name</th>\n",
              "      <th>Age</th>\n",
              "      <th>Key</th>\n",
              "      <th>Address</th>\n",
              "      <th>Qualification</th>\n",
              "    </tr>\n",
              "  </thead>\n",
              "  <tbody>\n",
              "    <tr>\n",
              "      <th>0</th>\n",
              "      <td>Jai</td>\n",
              "      <td>27</td>\n",
              "      <td>K0</td>\n",
              "      <td>Allahabad</td>\n",
              "      <td>MCA</td>\n",
              "    </tr>\n",
              "    <tr>\n",
              "      <th>1</th>\n",
              "      <td>Princi</td>\n",
              "      <td>24</td>\n",
              "      <td>K1</td>\n",
              "      <td>NaN</td>\n",
              "      <td>NaN</td>\n",
              "    </tr>\n",
              "    <tr>\n",
              "      <th>2</th>\n",
              "      <td>Gaurav</td>\n",
              "      <td>22</td>\n",
              "      <td>K2</td>\n",
              "      <td>Kannuaj</td>\n",
              "      <td>Phd</td>\n",
              "    </tr>\n",
              "    <tr>\n",
              "      <th>3</th>\n",
              "      <td>Anuj</td>\n",
              "      <td>32</td>\n",
              "      <td>K3</td>\n",
              "      <td>Allahabad</td>\n",
              "      <td>Bcom</td>\n",
              "    </tr>\n",
              "  </tbody>\n",
              "</table>\n",
              "</div>\n",
              "      <button class=\"colab-df-convert\" onclick=\"convertToInteractive('df-6bd40420-94e7-47db-b479-de9a50d35228')\"\n",
              "              title=\"Convert this dataframe to an interactive table.\"\n",
              "              style=\"display:none;\">\n",
              "        \n",
              "  <svg xmlns=\"http://www.w3.org/2000/svg\" height=\"24px\"viewBox=\"0 0 24 24\"\n",
              "       width=\"24px\">\n",
              "    <path d=\"M0 0h24v24H0V0z\" fill=\"none\"/>\n",
              "    <path d=\"M18.56 5.44l.94 2.06.94-2.06 2.06-.94-2.06-.94-.94-2.06-.94 2.06-2.06.94zm-11 1L8.5 8.5l.94-2.06 2.06-.94-2.06-.94L8.5 2.5l-.94 2.06-2.06.94zm10 10l.94 2.06.94-2.06 2.06-.94-2.06-.94-.94-2.06-.94 2.06-2.06.94z\"/><path d=\"M17.41 7.96l-1.37-1.37c-.4-.4-.92-.59-1.43-.59-.52 0-1.04.2-1.43.59L10.3 9.45l-7.72 7.72c-.78.78-.78 2.05 0 2.83L4 21.41c.39.39.9.59 1.41.59.51 0 1.02-.2 1.41-.59l7.78-7.78 2.81-2.81c.8-.78.8-2.07 0-2.86zM5.41 20L4 18.59l7.72-7.72 1.47 1.35L5.41 20z\"/>\n",
              "  </svg>\n",
              "      </button>\n",
              "      \n",
              "  <style>\n",
              "    .colab-df-container {\n",
              "      display:flex;\n",
              "      flex-wrap:wrap;\n",
              "      gap: 12px;\n",
              "    }\n",
              "\n",
              "    .colab-df-convert {\n",
              "      background-color: #E8F0FE;\n",
              "      border: none;\n",
              "      border-radius: 50%;\n",
              "      cursor: pointer;\n",
              "      display: none;\n",
              "      fill: #1967D2;\n",
              "      height: 32px;\n",
              "      padding: 0 0 0 0;\n",
              "      width: 32px;\n",
              "    }\n",
              "\n",
              "    .colab-df-convert:hover {\n",
              "      background-color: #E2EBFA;\n",
              "      box-shadow: 0px 1px 2px rgba(60, 64, 67, 0.3), 0px 1px 3px 1px rgba(60, 64, 67, 0.15);\n",
              "      fill: #174EA6;\n",
              "    }\n",
              "\n",
              "    [theme=dark] .colab-df-convert {\n",
              "      background-color: #3B4455;\n",
              "      fill: #D2E3FC;\n",
              "    }\n",
              "\n",
              "    [theme=dark] .colab-df-convert:hover {\n",
              "      background-color: #434B5C;\n",
              "      box-shadow: 0px 1px 3px 1px rgba(0, 0, 0, 0.15);\n",
              "      filter: drop-shadow(0px 1px 2px rgba(0, 0, 0, 0.3));\n",
              "      fill: #FFFFFF;\n",
              "    }\n",
              "  </style>\n",
              "\n",
              "      <script>\n",
              "        const buttonEl =\n",
              "          document.querySelector('#df-6bd40420-94e7-47db-b479-de9a50d35228 button.colab-df-convert');\n",
              "        buttonEl.style.display =\n",
              "          google.colab.kernel.accessAllowed ? 'block' : 'none';\n",
              "\n",
              "        async function convertToInteractive(key) {\n",
              "          const element = document.querySelector('#df-6bd40420-94e7-47db-b479-de9a50d35228');\n",
              "          const dataTable =\n",
              "            await google.colab.kernel.invokeFunction('convertToInteractive',\n",
              "                                                     [key], {});\n",
              "          if (!dataTable) return;\n",
              "\n",
              "          const docLinkHtml = 'Like what you see? Visit the ' +\n",
              "            '<a target=\"_blank\" href=https://colab.research.google.com/notebooks/data_table.ipynb>data table notebook</a>'\n",
              "            + ' to learn more about interactive tables.';\n",
              "          element.innerHTML = '';\n",
              "          dataTable['output_type'] = 'display_data';\n",
              "          await google.colab.output.renderOutput(dataTable, element);\n",
              "          const docLink = document.createElement('div');\n",
              "          docLink.innerHTML = docLinkHtml;\n",
              "          element.appendChild(docLink);\n",
              "        }\n",
              "      </script>\n",
              "    </div>\n",
              "  </div>\n",
              "  "
            ]
          },
          "metadata": {},
          "execution_count": 10
        }
      ]
    },
    {
      "cell_type": "code",
      "source": [
        "data1 = {'Name':['Jai', 'Princi', 'Gaurav'], \n",
        "        'Age':[27, 24, 22]} \n",
        "    \n",
        "# Define a dictionary containing employee data \n",
        "data2 = {'Address':['Allahabad', 'Kannuaj', 'Allahabad', 'Kanpur'], \n",
        "        'Qualification':['MCA', 'Phd', 'Bcom', 'B.hons']} \n",
        "  \n",
        "# Convert the dictionary into DataFrame  \n",
        "df = pd.DataFrame(data1, index=pd.Index(['K0', 'K1', 'K2'], name='key'))\n",
        " \n",
        "index = pd.MultiIndex.from_tuples([('K0', 'Y0'), ('K1', 'Y1'),\n",
        "                                   ('K2', 'Y2'), ('K2', 'Y3')],\n",
        "                                   names=['key', 'Y'])\n",
        "  \n",
        "# Convert the dictionary into DataFrame  \n",
        "df1 = pd.DataFrame(data2, index= index)\n",
        " \n",
        " \n",
        "print(df, \"\\n\\n\", df1)"
      ],
      "metadata": {
        "colab": {
          "base_uri": "https://localhost:8080/"
        },
        "id": "8x-zQKD0sEm4",
        "outputId": "b74e59af-afbb-4af7-bdf3-3806b14a3497"
      },
      "execution_count": null,
      "outputs": [
        {
          "output_type": "stream",
          "name": "stdout",
          "text": [
            "       Name  Age\n",
            "key             \n",
            "K0      Jai   27\n",
            "K1   Princi   24\n",
            "K2   Gaurav   22 \n",
            "\n",
            "           Address Qualification\n",
            "key Y                          \n",
            "K0  Y0  Allahabad           MCA\n",
            "K1  Y1    Kannuaj           Phd\n",
            "K2  Y2  Allahabad          Bcom\n",
            "    Y3     Kanpur        B.hons\n"
          ]
        }
      ]
    },
    {
      "cell_type": "code",
      "source": [
        "result = df.join(df1, how='inner')\n",
        " \n",
        "result"
      ],
      "metadata": {
        "colab": {
          "base_uri": "https://localhost:8080/",
          "height": 206
        },
        "id": "sH1-5bacsAhc",
        "outputId": "f8e45d68-72f0-48be-e3c9-843af61cf994"
      },
      "execution_count": null,
      "outputs": [
        {
          "output_type": "execute_result",
          "data": {
            "text/plain": [
              "          Name  Age    Address Qualification\n",
              "key Y                                       \n",
              "K0  Y0     Jai   27  Allahabad           MCA\n",
              "K1  Y1  Princi   24    Kannuaj           Phd\n",
              "K2  Y2  Gaurav   22  Allahabad          Bcom\n",
              "    Y3  Gaurav   22     Kanpur        B.hons"
            ],
            "text/html": [
              "\n",
              "  <div id=\"df-d090ed1f-82ec-4c60-9632-38da20424ff6\">\n",
              "    <div class=\"colab-df-container\">\n",
              "      <div>\n",
              "<style scoped>\n",
              "    .dataframe tbody tr th:only-of-type {\n",
              "        vertical-align: middle;\n",
              "    }\n",
              "\n",
              "    .dataframe tbody tr th {\n",
              "        vertical-align: top;\n",
              "    }\n",
              "\n",
              "    .dataframe thead th {\n",
              "        text-align: right;\n",
              "    }\n",
              "</style>\n",
              "<table border=\"1\" class=\"dataframe\">\n",
              "  <thead>\n",
              "    <tr style=\"text-align: right;\">\n",
              "      <th></th>\n",
              "      <th></th>\n",
              "      <th>Name</th>\n",
              "      <th>Age</th>\n",
              "      <th>Address</th>\n",
              "      <th>Qualification</th>\n",
              "    </tr>\n",
              "    <tr>\n",
              "      <th>key</th>\n",
              "      <th>Y</th>\n",
              "      <th></th>\n",
              "      <th></th>\n",
              "      <th></th>\n",
              "      <th></th>\n",
              "    </tr>\n",
              "  </thead>\n",
              "  <tbody>\n",
              "    <tr>\n",
              "      <th>K0</th>\n",
              "      <th>Y0</th>\n",
              "      <td>Jai</td>\n",
              "      <td>27</td>\n",
              "      <td>Allahabad</td>\n",
              "      <td>MCA</td>\n",
              "    </tr>\n",
              "    <tr>\n",
              "      <th>K1</th>\n",
              "      <th>Y1</th>\n",
              "      <td>Princi</td>\n",
              "      <td>24</td>\n",
              "      <td>Kannuaj</td>\n",
              "      <td>Phd</td>\n",
              "    </tr>\n",
              "    <tr>\n",
              "      <th rowspan=\"2\" valign=\"top\">K2</th>\n",
              "      <th>Y2</th>\n",
              "      <td>Gaurav</td>\n",
              "      <td>22</td>\n",
              "      <td>Allahabad</td>\n",
              "      <td>Bcom</td>\n",
              "    </tr>\n",
              "    <tr>\n",
              "      <th>Y3</th>\n",
              "      <td>Gaurav</td>\n",
              "      <td>22</td>\n",
              "      <td>Kanpur</td>\n",
              "      <td>B.hons</td>\n",
              "    </tr>\n",
              "  </tbody>\n",
              "</table>\n",
              "</div>\n",
              "      <button class=\"colab-df-convert\" onclick=\"convertToInteractive('df-d090ed1f-82ec-4c60-9632-38da20424ff6')\"\n",
              "              title=\"Convert this dataframe to an interactive table.\"\n",
              "              style=\"display:none;\">\n",
              "        \n",
              "  <svg xmlns=\"http://www.w3.org/2000/svg\" height=\"24px\"viewBox=\"0 0 24 24\"\n",
              "       width=\"24px\">\n",
              "    <path d=\"M0 0h24v24H0V0z\" fill=\"none\"/>\n",
              "    <path d=\"M18.56 5.44l.94 2.06.94-2.06 2.06-.94-2.06-.94-.94-2.06-.94 2.06-2.06.94zm-11 1L8.5 8.5l.94-2.06 2.06-.94-2.06-.94L8.5 2.5l-.94 2.06-2.06.94zm10 10l.94 2.06.94-2.06 2.06-.94-2.06-.94-.94-2.06-.94 2.06-2.06.94z\"/><path d=\"M17.41 7.96l-1.37-1.37c-.4-.4-.92-.59-1.43-.59-.52 0-1.04.2-1.43.59L10.3 9.45l-7.72 7.72c-.78.78-.78 2.05 0 2.83L4 21.41c.39.39.9.59 1.41.59.51 0 1.02-.2 1.41-.59l7.78-7.78 2.81-2.81c.8-.78.8-2.07 0-2.86zM5.41 20L4 18.59l7.72-7.72 1.47 1.35L5.41 20z\"/>\n",
              "  </svg>\n",
              "      </button>\n",
              "      \n",
              "  <style>\n",
              "    .colab-df-container {\n",
              "      display:flex;\n",
              "      flex-wrap:wrap;\n",
              "      gap: 12px;\n",
              "    }\n",
              "\n",
              "    .colab-df-convert {\n",
              "      background-color: #E8F0FE;\n",
              "      border: none;\n",
              "      border-radius: 50%;\n",
              "      cursor: pointer;\n",
              "      display: none;\n",
              "      fill: #1967D2;\n",
              "      height: 32px;\n",
              "      padding: 0 0 0 0;\n",
              "      width: 32px;\n",
              "    }\n",
              "\n",
              "    .colab-df-convert:hover {\n",
              "      background-color: #E2EBFA;\n",
              "      box-shadow: 0px 1px 2px rgba(60, 64, 67, 0.3), 0px 1px 3px 1px rgba(60, 64, 67, 0.15);\n",
              "      fill: #174EA6;\n",
              "    }\n",
              "\n",
              "    [theme=dark] .colab-df-convert {\n",
              "      background-color: #3B4455;\n",
              "      fill: #D2E3FC;\n",
              "    }\n",
              "\n",
              "    [theme=dark] .colab-df-convert:hover {\n",
              "      background-color: #434B5C;\n",
              "      box-shadow: 0px 1px 3px 1px rgba(0, 0, 0, 0.15);\n",
              "      filter: drop-shadow(0px 1px 2px rgba(0, 0, 0, 0.3));\n",
              "      fill: #FFFFFF;\n",
              "    }\n",
              "  </style>\n",
              "\n",
              "      <script>\n",
              "        const buttonEl =\n",
              "          document.querySelector('#df-d090ed1f-82ec-4c60-9632-38da20424ff6 button.colab-df-convert');\n",
              "        buttonEl.style.display =\n",
              "          google.colab.kernel.accessAllowed ? 'block' : 'none';\n",
              "\n",
              "        async function convertToInteractive(key) {\n",
              "          const element = document.querySelector('#df-d090ed1f-82ec-4c60-9632-38da20424ff6');\n",
              "          const dataTable =\n",
              "            await google.colab.kernel.invokeFunction('convertToInteractive',\n",
              "                                                     [key], {});\n",
              "          if (!dataTable) return;\n",
              "\n",
              "          const docLinkHtml = 'Like what you see? Visit the ' +\n",
              "            '<a target=\"_blank\" href=https://colab.research.google.com/notebooks/data_table.ipynb>data table notebook</a>'\n",
              "            + ' to learn more about interactive tables.';\n",
              "          element.innerHTML = '';\n",
              "          dataTable['output_type'] = 'display_data';\n",
              "          await google.colab.output.renderOutput(dataTable, element);\n",
              "          const docLink = document.createElement('div');\n",
              "          docLink.innerHTML = docLinkHtml;\n",
              "          element.appendChild(docLink);\n",
              "        }\n",
              "      </script>\n",
              "    </div>\n",
              "  </div>\n",
              "  "
            ]
          },
          "metadata": {},
          "execution_count": 13
        }
      ]
    },
    {
      "cell_type": "code",
      "source": [
        "\n",
        "import pandas as pd\n",
        " \n",
        "# Create dates dataframe with frequency \n",
        "data = pd.date_range('1/1/2011', periods = 10, freq ='H')\n",
        " \n",
        "data"
      ],
      "metadata": {
        "colab": {
          "base_uri": "https://localhost:8080/"
        },
        "id": "B5tmj6c4sdZE",
        "outputId": "db0a165d-8c75-4a0e-f23b-e2cad60a7f71"
      },
      "execution_count": null,
      "outputs": [
        {
          "output_type": "execute_result",
          "data": {
            "text/plain": [
              "DatetimeIndex(['2011-01-01 00:00:00', '2011-01-01 01:00:00',\n",
              "               '2011-01-01 02:00:00', '2011-01-01 03:00:00',\n",
              "               '2011-01-01 04:00:00', '2011-01-01 05:00:00',\n",
              "               '2011-01-01 06:00:00', '2011-01-01 07:00:00',\n",
              "               '2011-01-01 08:00:00', '2011-01-01 09:00:00'],\n",
              "              dtype='datetime64[ns]', freq='H')"
            ]
          },
          "metadata": {},
          "execution_count": 14
        }
      ]
    },
    {
      "cell_type": "code",
      "source": [
        "data = pd.date_range('1/1/2011', periods = 10, freq ='H')\n",
        " \n",
        "x = pd.datetime.now()\n",
        "x.month, x.year"
      ],
      "metadata": {
        "colab": {
          "base_uri": "https://localhost:8080/"
        },
        "id": "UQ6J58V9ZSGg",
        "outputId": "9164beff-79ee-451b-866d-39b8b06282fe"
      },
      "execution_count": null,
      "outputs": [
        {
          "output_type": "stream",
          "name": "stderr",
          "text": [
            "/usr/local/lib/python3.7/dist-packages/ipykernel_launcher.py:3: FutureWarning: The pandas.datetime class is deprecated and will be removed from pandas in a future version. Import from datetime module instead.\n",
            "  This is separate from the ipykernel package so we can avoid doing imports until\n"
          ]
        },
        {
          "output_type": "execute_result",
          "data": {
            "text/plain": [
              "(7, 2022)"
            ]
          },
          "metadata": {},
          "execution_count": 6
        }
      ]
    },
    {
      "cell_type": "code",
      "source": [
        "rng = pd.DataFrame()\n",
        "rng['date'] = pd.date_range('1/1/2011', periods = 72, freq ='H')\n",
        " \n",
        "# Print the dates in dd-mm-yy format\n",
        "rng[:5]\n",
        " \n",
        "# Create features for year, month, day, hour, and minute\n",
        "rng['year'] = rng['date'].dt.year\n",
        "rng['month'] = rng['date'].dt.month\n",
        "rng['day'] = rng['date'].dt.day\n",
        "rng['hour'] = rng['date'].dt.hour\n",
        "rng['minute'] = rng['date'].dt.minute\n",
        " \n",
        "# Print the dates divided into features\n",
        "rng.head(3)"
      ],
      "metadata": {
        "colab": {
          "base_uri": "https://localhost:8080/",
          "height": 143
        },
        "id": "VUyFXOH3Zj6v",
        "outputId": "cce8a728-dcb0-4671-e79d-9d5ad2a23b80"
      },
      "execution_count": null,
      "outputs": [
        {
          "output_type": "execute_result",
          "data": {
            "text/plain": [
              "                 date  year  month  day  hour  minute\n",
              "0 2011-01-01 00:00:00  2011      1    1     0       0\n",
              "1 2011-01-01 01:00:00  2011      1    1     1       0\n",
              "2 2011-01-01 02:00:00  2011      1    1     2       0"
            ],
            "text/html": [
              "\n",
              "  <div id=\"df-39f0d721-2404-425c-be4e-79d6392a570f\">\n",
              "    <div class=\"colab-df-container\">\n",
              "      <div>\n",
              "<style scoped>\n",
              "    .dataframe tbody tr th:only-of-type {\n",
              "        vertical-align: middle;\n",
              "    }\n",
              "\n",
              "    .dataframe tbody tr th {\n",
              "        vertical-align: top;\n",
              "    }\n",
              "\n",
              "    .dataframe thead th {\n",
              "        text-align: right;\n",
              "    }\n",
              "</style>\n",
              "<table border=\"1\" class=\"dataframe\">\n",
              "  <thead>\n",
              "    <tr style=\"text-align: right;\">\n",
              "      <th></th>\n",
              "      <th>date</th>\n",
              "      <th>year</th>\n",
              "      <th>month</th>\n",
              "      <th>day</th>\n",
              "      <th>hour</th>\n",
              "      <th>minute</th>\n",
              "    </tr>\n",
              "  </thead>\n",
              "  <tbody>\n",
              "    <tr>\n",
              "      <th>0</th>\n",
              "      <td>2011-01-01 00:00:00</td>\n",
              "      <td>2011</td>\n",
              "      <td>1</td>\n",
              "      <td>1</td>\n",
              "      <td>0</td>\n",
              "      <td>0</td>\n",
              "    </tr>\n",
              "    <tr>\n",
              "      <th>1</th>\n",
              "      <td>2011-01-01 01:00:00</td>\n",
              "      <td>2011</td>\n",
              "      <td>1</td>\n",
              "      <td>1</td>\n",
              "      <td>1</td>\n",
              "      <td>0</td>\n",
              "    </tr>\n",
              "    <tr>\n",
              "      <th>2</th>\n",
              "      <td>2011-01-01 02:00:00</td>\n",
              "      <td>2011</td>\n",
              "      <td>1</td>\n",
              "      <td>1</td>\n",
              "      <td>2</td>\n",
              "      <td>0</td>\n",
              "    </tr>\n",
              "  </tbody>\n",
              "</table>\n",
              "</div>\n",
              "      <button class=\"colab-df-convert\" onclick=\"convertToInteractive('df-39f0d721-2404-425c-be4e-79d6392a570f')\"\n",
              "              title=\"Convert this dataframe to an interactive table.\"\n",
              "              style=\"display:none;\">\n",
              "        \n",
              "  <svg xmlns=\"http://www.w3.org/2000/svg\" height=\"24px\"viewBox=\"0 0 24 24\"\n",
              "       width=\"24px\">\n",
              "    <path d=\"M0 0h24v24H0V0z\" fill=\"none\"/>\n",
              "    <path d=\"M18.56 5.44l.94 2.06.94-2.06 2.06-.94-2.06-.94-.94-2.06-.94 2.06-2.06.94zm-11 1L8.5 8.5l.94-2.06 2.06-.94-2.06-.94L8.5 2.5l-.94 2.06-2.06.94zm10 10l.94 2.06.94-2.06 2.06-.94-2.06-.94-.94-2.06-.94 2.06-2.06.94z\"/><path d=\"M17.41 7.96l-1.37-1.37c-.4-.4-.92-.59-1.43-.59-.52 0-1.04.2-1.43.59L10.3 9.45l-7.72 7.72c-.78.78-.78 2.05 0 2.83L4 21.41c.39.39.9.59 1.41.59.51 0 1.02-.2 1.41-.59l7.78-7.78 2.81-2.81c.8-.78.8-2.07 0-2.86zM5.41 20L4 18.59l7.72-7.72 1.47 1.35L5.41 20z\"/>\n",
              "  </svg>\n",
              "      </button>\n",
              "      \n",
              "  <style>\n",
              "    .colab-df-container {\n",
              "      display:flex;\n",
              "      flex-wrap:wrap;\n",
              "      gap: 12px;\n",
              "    }\n",
              "\n",
              "    .colab-df-convert {\n",
              "      background-color: #E8F0FE;\n",
              "      border: none;\n",
              "      border-radius: 50%;\n",
              "      cursor: pointer;\n",
              "      display: none;\n",
              "      fill: #1967D2;\n",
              "      height: 32px;\n",
              "      padding: 0 0 0 0;\n",
              "      width: 32px;\n",
              "    }\n",
              "\n",
              "    .colab-df-convert:hover {\n",
              "      background-color: #E2EBFA;\n",
              "      box-shadow: 0px 1px 2px rgba(60, 64, 67, 0.3), 0px 1px 3px 1px rgba(60, 64, 67, 0.15);\n",
              "      fill: #174EA6;\n",
              "    }\n",
              "\n",
              "    [theme=dark] .colab-df-convert {\n",
              "      background-color: #3B4455;\n",
              "      fill: #D2E3FC;\n",
              "    }\n",
              "\n",
              "    [theme=dark] .colab-df-convert:hover {\n",
              "      background-color: #434B5C;\n",
              "      box-shadow: 0px 1px 3px 1px rgba(0, 0, 0, 0.15);\n",
              "      filter: drop-shadow(0px 1px 2px rgba(0, 0, 0, 0.3));\n",
              "      fill: #FFFFFF;\n",
              "    }\n",
              "  </style>\n",
              "\n",
              "      <script>\n",
              "        const buttonEl =\n",
              "          document.querySelector('#df-39f0d721-2404-425c-be4e-79d6392a570f button.colab-df-convert');\n",
              "        buttonEl.style.display =\n",
              "          google.colab.kernel.accessAllowed ? 'block' : 'none';\n",
              "\n",
              "        async function convertToInteractive(key) {\n",
              "          const element = document.querySelector('#df-39f0d721-2404-425c-be4e-79d6392a570f');\n",
              "          const dataTable =\n",
              "            await google.colab.kernel.invokeFunction('convertToInteractive',\n",
              "                                                     [key], {});\n",
              "          if (!dataTable) return;\n",
              "\n",
              "          const docLinkHtml = 'Like what you see? Visit the ' +\n",
              "            '<a target=\"_blank\" href=https://colab.research.google.com/notebooks/data_table.ipynb>data table notebook</a>'\n",
              "            + ' to learn more about interactive tables.';\n",
              "          element.innerHTML = '';\n",
              "          dataTable['output_type'] = 'display_data';\n",
              "          await google.colab.output.renderOutput(dataTable, element);\n",
              "          const docLink = document.createElement('div');\n",
              "          docLink.innerHTML = docLinkHtml;\n",
              "          element.appendChild(docLink);\n",
              "        }\n",
              "      </script>\n",
              "    </div>\n",
              "  </div>\n",
              "  "
            ]
          },
          "metadata": {},
          "execution_count": 7
        }
      ]
    },
    {
      "cell_type": "code",
      "source": [
        "import pandas as pd \n",
        "   \n",
        "# Define a dictionary containing employee data \n",
        "data = {'Name':['Jai', 'Princi', 'Gaurav', 'Anuj'], \n",
        "        'Age':[27, 24, 22, 32], \n",
        "        'Address':['Delhi', 'Kanpur', 'Allahabad', 'Kannauj'], \n",
        "        'Qualification':['Msc', 'MA', 'MCA', 'Phd']} \n",
        "   \n",
        "# Convert the dictionary into DataFrame  \n",
        "df = pd.DataFrame(data) \n",
        "   \n",
        "# converting and overwriting values in column \n",
        "df[\"Name\"]= df[\"Name\"].str.lower()\n",
        " \n",
        "print(df)"
      ],
      "metadata": {
        "colab": {
          "base_uri": "https://localhost:8080/"
        },
        "id": "1o9mtVAzZ-5g",
        "outputId": "da45c5a3-0e28-48d8-9d0b-c63b92a6ae08"
      },
      "execution_count": null,
      "outputs": [
        {
          "output_type": "stream",
          "name": "stdout",
          "text": [
            "     Name  Age    Address Qualification\n",
            "0     jai   27      Delhi           Msc\n",
            "1  princi   24     Kanpur            MA\n",
            "2  gaurav   22  Allahabad           MCA\n",
            "3    anuj   32    Kannauj           Phd\n"
          ]
        }
      ]
    },
    {
      "cell_type": "code",
      "source": [
        "import pandas as pd \n",
        "   \n",
        "# Define a dictionary containing employee data \n",
        "data = {'Name':['Jai', 'Princi', 'Gaurav', 'Anuj'], \n",
        "        'Age':[27, 24, 22, 32], \n",
        "        'Address':['Nagpur', 'Kanpur', 'Allahabad', 'Kannuaj'], \n",
        "        'Qualification':['Msc', 'MA', 'MCA', 'Phd']} \n",
        " \n",
        "# Convert the dictionary into DataFrame  \n",
        "df = pd.DataFrame(data) \n",
        " \n",
        "# making copy of address column \n",
        "new = df[\"Address\"].copy() \n",
        "   \n",
        "# concatenating address with name column \n",
        "# overwriting name column \n",
        "df[\"Name\"]= df[\"Name\"].str.cat(new, sep =\", \") \n",
        "   \n",
        "# display \n",
        "print(df)"
      ],
      "metadata": {
        "colab": {
          "base_uri": "https://localhost:8080/"
        },
        "id": "ETIn8mL6aUqp",
        "outputId": "87559a5a-0fa5-415a-d4e5-2f0a60cbdea6"
      },
      "execution_count": null,
      "outputs": [
        {
          "output_type": "stream",
          "name": "stdout",
          "text": [
            "                Name  Age    Address Qualification\n",
            "0        Jai, Nagpur   27     Nagpur           Msc\n",
            "1     Princi, Kanpur   24     Kanpur            MA\n",
            "2  Gaurav, Allahabad   22  Allahabad           MCA\n",
            "3      Anuj, Kannuaj   32    Kannuaj           Phd\n"
          ]
        }
      ]
    },
    {
      "cell_type": "code",
      "source": [
        "data = {'Name':['Jai', 'Princi', 'Gaurav', 'Anuj'], \n",
        "        'Age':[27, 24, 22, 32], \n",
        "        'Address':['Nagpur junction', 'Kanpur junction', \n",
        "                   'Nagpur junction', 'Kannuaj junction'], \n",
        "        'Qualification':['Msc', 'MA', 'MCA', 'Phd']} \n",
        " \n",
        "# Convert the dictionary into DataFrame  \n",
        "df = pd.DataFrame(data)\n",
        "   \n",
        "# replacing address name and adding spaces in start and end \n",
        "new = df[\"Address\"].replace(\"Nagpur junction\", \"  Nagpur junction  \").copy() \n",
        "   \n",
        "# checking with custom string \n",
        "print(new.str.strip()==\" Nagpur junction\")\n",
        "print(new.str.strip()==\"Nagpur junction \")\n",
        "print(new.str.strip()==\" Nagpur junction \")"
      ],
      "metadata": {
        "colab": {
          "base_uri": "https://localhost:8080/"
        },
        "id": "hfxPzmPZaZY5",
        "outputId": "97f455b1-0a5f-4a75-9137-772e57c1ca87"
      },
      "execution_count": null,
      "outputs": [
        {
          "output_type": "stream",
          "name": "stdout",
          "text": [
            "0    False\n",
            "1    False\n",
            "2    False\n",
            "3    False\n",
            "Name: Address, dtype: bool\n",
            "0    False\n",
            "1    False\n",
            "2    False\n",
            "3    False\n",
            "Name: Address, dtype: bool\n",
            "0    False\n",
            "1    False\n",
            "2    False\n",
            "3    False\n",
            "Name: Address, dtype: bool\n"
          ]
        }
      ]
    },
    {
      "cell_type": "code",
      "source": [
        "String1 = 'Welcome to the Geeks World'\n",
        "print(\"String with the use of Single Quotes: \")\n",
        "print(String1)\n",
        "  \n",
        "# Creating a String\n",
        "# with double Quotes\n",
        "String1 = \"I'm a Geek\"\n",
        "print(\"\\nString with the use of Double Quotes: \")\n",
        "print(String1)\n",
        "  \n",
        "# Creating a String\n",
        "# with triple Quotes\n",
        "String1 = '''I'm a Geek and I live in a world of \"Geeks\"'''\n",
        "print(\"\\nString with the use of Triple Quotes: \")\n",
        "print(String1)\n",
        "  \n",
        "# Creating String with triple\n",
        "# Quotes allows multiple lines\n",
        "String1 = '''Geeks\n",
        "            For\n",
        "            Life'''\n",
        "print(\"\\nCreating a multiline String: \")\n",
        "print(String1)"
      ],
      "metadata": {
        "colab": {
          "base_uri": "https://localhost:8080/"
        },
        "id": "JL2FZEkmbVqE",
        "outputId": "3ec9a5f0-7a3a-4277-a572-6ca0f707090c"
      },
      "execution_count": null,
      "outputs": [
        {
          "output_type": "stream",
          "name": "stdout",
          "text": [
            "String with the use of Single Quotes: \n",
            "Welcome to the Geeks World\n",
            "\n",
            "String with the use of Double Quotes: \n",
            "I'm a Geek\n",
            "\n",
            "String with the use of Triple Quotes: \n",
            "I'm a Geek and I live in a world of \"Geeks\"\n",
            "\n",
            "Creating a multiline String: \n",
            "Geeks\n",
            "            For\n",
            "            Life\n"
          ]
        }
      ]
    },
    {
      "cell_type": "code",
      "source": [
        "String1 = \"GeeksForGeeks\"\n",
        "print(\"Initial String: \")\n",
        "print(String1)\n",
        "  \n",
        "# Printing First character\n",
        "print(\"\\nFirst character of String is: \")\n",
        "print(String1[0])\n",
        "  \n",
        "# Printing Last character\n",
        "print(\"\\nLast character of String is: \")\n",
        "print(String1[-1])"
      ],
      "metadata": {
        "colab": {
          "base_uri": "https://localhost:8080/"
        },
        "id": "SPkvSUaMbibv",
        "outputId": "d4896575-c67b-4e0f-89d2-7c250c9acdeb"
      },
      "execution_count": null,
      "outputs": [
        {
          "output_type": "stream",
          "name": "stdout",
          "text": [
            "Initial String: \n",
            "GeeksForGeeks\n",
            "\n",
            "First character of String is: \n",
            "G\n",
            "\n",
            "Last character of String is: \n",
            "s\n"
          ]
        }
      ]
    },
    {
      "cell_type": "code",
      "source": [
        "gfg = \"geeksforgeeks\"\n",
        "print(gfg[::-1])"
      ],
      "metadata": {
        "colab": {
          "base_uri": "https://localhost:8080/"
        },
        "id": "AV5QKoiXbnON",
        "outputId": "d1223d55-1660-4ab2-c19c-6c857bd461e0"
      },
      "execution_count": null,
      "outputs": [
        {
          "output_type": "stream",
          "name": "stdout",
          "text": [
            "skeegrofskeeg\n"
          ]
        }
      ]
    },
    {
      "cell_type": "code",
      "source": [
        "gfg = \"geeksforgeeks\"\n",
        "  \n",
        "# Reverse the string using reversed and join function\n",
        "gfg = \"\".join(reversed(gfg))\n",
        "  \n",
        "print(gfg)"
      ],
      "metadata": {
        "colab": {
          "base_uri": "https://localhost:8080/"
        },
        "id": "8qxJULOobrNO",
        "outputId": "48d0ce40-f306-42e0-bea9-3da61f2606ca"
      },
      "execution_count": null,
      "outputs": [
        {
          "output_type": "stream",
          "name": "stdout",
          "text": [
            "skeegrofskeeg\n"
          ]
        }
      ]
    },
    {
      "cell_type": "code",
      "source": [
        "String1 = \"GeeksForGeeks\"\n",
        "print(\"Initial String: \")\n",
        "print(String1)\n",
        "  \n",
        "# Printing 3rd to 12th character\n",
        "print(\"\\nSlicing characters from 3-12: \")\n",
        "print(String1[3:12])\n",
        "  \n",
        "# Printing characters between\n",
        "# 3rd and 2nd last character\n",
        "print(\"\\nSlicing characters between \" +\n",
        "      \"3rd and 2nd last character: \")\n",
        "print(String1[3:-2])"
      ],
      "metadata": {
        "colab": {
          "base_uri": "https://localhost:8080/"
        },
        "id": "Kz9KMDjub4Zx",
        "outputId": "c66c0d44-aad8-4e1e-e7cb-5de2e4ffe221"
      },
      "execution_count": null,
      "outputs": [
        {
          "output_type": "stream",
          "name": "stdout",
          "text": [
            "Initial String: \n",
            "GeeksForGeeks\n",
            "\n",
            "Slicing characters from 3-12: \n",
            "ksForGeek\n",
            "\n",
            "Slicing characters between 3rd and 2nd last character: \n",
            "ksForGee\n"
          ]
        }
      ]
    },
    {
      "cell_type": "code",
      "source": [
        "String1 = \"Hello, I'm a Geek\"\n",
        "print(\"Initial String: \")\n",
        "print(String1)\n",
        "  \n",
        "# Updating a character of the String\n",
        "## As python strings are immutable, they don't support item updation directly\n",
        "### there are following two ways\n",
        "#1\n",
        "list1 = list(String1)\n",
        "list1[2] = 'p'\n",
        "String2 = ''.join(list1)\n",
        "print(\"\\nUpdating character at 2nd Index: \")\n",
        "print(String2)\n",
        "  \n",
        "#2\n",
        "String3 = String1[0:2] + 'p' + String1[3:]\n",
        "print(String3)"
      ],
      "metadata": {
        "colab": {
          "base_uri": "https://localhost:8080/"
        },
        "id": "P930aC2JE0CY",
        "outputId": "d704ba92-5c3c-4ab5-807e-991f402b63fa"
      },
      "execution_count": null,
      "outputs": [
        {
          "output_type": "stream",
          "name": "stdout",
          "text": [
            "Initial String: \n",
            "Hello, I'm a Geek\n",
            "\n",
            "Updating character at 2nd Index: \n",
            "Heplo, I'm a Geek\n",
            "Heplo, I'm a Geek\n"
          ]
        }
      ]
    },
    {
      "cell_type": "code",
      "source": [
        "String1 = \"Hello, I'm a Geek\"\n",
        "print(\"Initial String: \")\n",
        "print(String1)\n",
        "  \n",
        "# Updating a String\n",
        "String1 = \"Welcome to the Geek World\"\n",
        "print(\"\\nUpdated String: \")\n",
        "print(String1)"
      ],
      "metadata": {
        "colab": {
          "base_uri": "https://localhost:8080/"
        },
        "id": "9eva1pgVE4yc",
        "outputId": "fb812bb3-2e20-438e-ab39-af3328c17114"
      },
      "execution_count": null,
      "outputs": [
        {
          "output_type": "stream",
          "name": "stdout",
          "text": [
            "Initial String: \n",
            "Hello, I'm a Geek\n",
            "\n",
            "Updated String: \n",
            "Welcome to the Geek World\n"
          ]
        }
      ]
    },
    {
      "cell_type": "code",
      "source": [
        "String1 = \"Hello, I'm a Geek\"\n",
        "print(\"Initial String: \")\n",
        "print(String1)\n",
        "  \n",
        "# Deleting a character\n",
        "# of the String\n",
        "String2 = String1[0:2] + String1[3:]\n",
        "print(\"\\nDeleting character at 2nd Index: \")\n",
        "print(String2)"
      ],
      "metadata": {
        "colab": {
          "base_uri": "https://localhost:8080/"
        },
        "id": "KsQ_v2dfE7Z7",
        "outputId": "4079f6e5-b8ba-4bd2-b345-735176d6e386"
      },
      "execution_count": null,
      "outputs": [
        {
          "output_type": "stream",
          "name": "stdout",
          "text": [
            "Initial String: \n",
            "Hello, I'm a Geek\n",
            "\n",
            "Deleting character at 2nd Index: \n",
            "Helo, I'm a Geek\n"
          ]
        }
      ]
    },
    {
      "cell_type": "code",
      "source": [
        "String1 = \"Hello, I'm a Geek\"\n",
        "print(\"Initial String: \")\n",
        "print(String1)\n",
        "  \n",
        "# Deleting a String\n",
        "# with the use of del\n",
        "del String1\n",
        "print(\"\\nDeleting entire String: \")\n"
      ],
      "metadata": {
        "colab": {
          "base_uri": "https://localhost:8080/"
        },
        "id": "lZT_uHX9E92w",
        "outputId": "9ea7d898-077c-434b-9fbd-47ce93ab7dee"
      },
      "execution_count": null,
      "outputs": [
        {
          "output_type": "stream",
          "name": "stdout",
          "text": [
            "Initial String: \n",
            "Hello, I'm a Geek\n",
            "\n",
            "Deleting entire String: \n"
          ]
        }
      ]
    },
    {
      "cell_type": "code",
      "source": [
        "String1 = '''I'm a \"Geek\"'''\n",
        "print(\"Initial String with use of Triple Quotes: \")\n",
        "print(String1)\n",
        "  \n",
        "# Escaping Single Quote\n",
        "String1 = 'I\\'m a \"Geek\"'\n",
        "print(\"\\nEscaping Single Quote: \")\n",
        "print(String1)\n",
        "  \n",
        "# Escaping Double Quotes\n",
        "String1 = \"I'm a \\\"Geek\\\"\"\n",
        "print(\"\\nEscaping Double Quotes: \")\n",
        "print(String1)\n",
        "  \n",
        "# Printing Paths with the\n",
        "# use of Escape Sequences\n",
        "String1 = \"C:\\\\Python\\\\Geeks\\\\\"\n",
        "print(\"\\nEscaping Backslashes: \")\n",
        "print(String1)\n",
        "  \n",
        "# Printing Paths with the\n",
        "# use of Tab\n",
        "String1 = \"Hi\\tGeeks\"\n",
        "print(\"\\nTab: \")\n",
        "print(String1)\n",
        "  \n",
        "# Printing Paths with the\n",
        "# use of New Line\n",
        "String1 = \"Python\\nGeeks\"\n",
        "print(\"\\nNew Line: \")\n",
        "print(String1)\n"
      ],
      "metadata": {
        "colab": {
          "base_uri": "https://localhost:8080/"
        },
        "id": "owz7IDIiFLSz",
        "outputId": "b26431a7-9f10-432f-aa80-1b26b2d7384d"
      },
      "execution_count": null,
      "outputs": [
        {
          "output_type": "stream",
          "name": "stdout",
          "text": [
            "Initial String with use of Triple Quotes: \n",
            "I'm a \"Geek\"\n",
            "\n",
            "Escaping Single Quote: \n",
            "I'm a \"Geek\"\n",
            "\n",
            "Escaping Double Quotes: \n",
            "I'm a \"Geek\"\n",
            "\n",
            "Escaping Backslashes: \n",
            "C:\\Python\\Geeks\\\n",
            "\n",
            "Tab: \n",
            "Hi\tGeeks\n",
            "\n",
            "New Line: \n",
            "Python\n",
            "Geeks\n"
          ]
        }
      ]
    },
    {
      "cell_type": "code",
      "source": [
        "String1 = \"{} {} {}\".format('Geeks', 'For', 'Life')\n",
        "print(\"Print String in default order: \")\n",
        "print(String1)\n",
        "  \n",
        "# Positional Formatting\n",
        "String1 = \"{1} {0} {2}\".format('Geeks', 'For', 'Life')\n",
        "print(\"\\nPrint String in Positional order: \")\n",
        "print(String1)\n",
        "  \n",
        "# Keyword Formatting\n",
        "String1 = \"{l} {f} {g}\".format(g='Geeks', f='For', l='Life')\n",
        "print(\"\\nPrint String in order of Keywords: \")\n",
        "print(String1)"
      ],
      "metadata": {
        "colab": {
          "base_uri": "https://localhost:8080/"
        },
        "id": "sAcJEI6WjE7n",
        "outputId": "f08439e2-2551-4fda-e71f-a15cf06f34d8"
      },
      "execution_count": null,
      "outputs": [
        {
          "output_type": "stream",
          "name": "stdout",
          "text": [
            "Print String in default order: \n",
            "Geeks For Life\n",
            "\n",
            "Print String in Positional order: \n",
            "For Geeks Life\n",
            "\n",
            "Print String in order of Keywords: \n",
            "Life For Geeks\n"
          ]
        }
      ]
    },
    {
      "cell_type": "code",
      "source": [
        "String1 = \"{0:b}\".format(16)\n",
        "print(\"\\nBinary representation of 16 is \")\n",
        "print(String1)\n",
        "  \n",
        "# Formatting of Floats\n",
        "String1 = \"{0:e}\".format(165.6458)\n",
        "print(\"\\nExponent representation of 165.6458 is \")\n",
        "print(String1)\n",
        "  \n",
        "# Rounding off Integers\n",
        "String1 = \"{0:.2f}\".format(1/6)\n",
        "print(\"\\none-sixth is : \")\n",
        "print(String1)"
      ],
      "metadata": {
        "colab": {
          "base_uri": "https://localhost:8080/"
        },
        "id": "oKkRAC8ZjJ4O",
        "outputId": "a36e6149-8785-41f7-a7b0-e0099353bfe7"
      },
      "execution_count": null,
      "outputs": [
        {
          "output_type": "stream",
          "name": "stdout",
          "text": [
            "\n",
            "Binary representation of 16 is \n",
            "10000\n",
            "\n",
            "Exponent representation of 165.6458 is \n",
            "1.656458e+02\n",
            "\n",
            "one-sixth is : \n",
            "0.17\n"
          ]
        }
      ]
    },
    {
      "cell_type": "code",
      "source": [
        "String1 = \"|{:<10}|{:^10}|{:>10}|\".format('Geeks',\n",
        "                                          'for', \n",
        "                                          'Geeks')\n",
        "print(\"\\nLeft, center and right alignment with Formatting: \")\n",
        "print(String1)\n",
        "  \n",
        "# To demonstrate aligning of spaces\n",
        "String1 = \"\\n{0:^16} was founded in {1:<4}!\".format(\"GeeksforGeeks\",\n",
        "                                                    2009)\n",
        "print(String1)"
      ],
      "metadata": {
        "colab": {
          "base_uri": "https://localhost:8080/"
        },
        "id": "w0A9t-3_jMsx",
        "outputId": "10f8298f-0e14-41c9-f22a-d3346f7f6eaf"
      },
      "execution_count": null,
      "outputs": [
        {
          "output_type": "stream",
          "name": "stdout",
          "text": [
            "\n",
            "Left, center and right alignment with Formatting: \n",
            "|Geeks     |   for    |     Geeks|\n",
            "\n",
            " GeeksforGeeks   was founded in 2009!\n"
          ]
        }
      ]
    },
    {
      "cell_type": "code",
      "source": [
        "Integer1 = 12.3456789\n",
        "print(\"Formatting in 3.2f format: \")\n",
        "print('The value of Integer1 is %0.2f' % Integer1)\n",
        "print(\"\\nFormatting in 3.4f format: \")\n",
        "print('The value of Integer1 is %3.4f' % Integer1)"
      ],
      "metadata": {
        "colab": {
          "base_uri": "https://localhost:8080/"
        },
        "id": "mNEylttwjQ1_",
        "outputId": "4c7307d3-56e3-4599-b500-1dfb219b715a"
      },
      "execution_count": null,
      "outputs": [
        {
          "output_type": "stream",
          "name": "stdout",
          "text": [
            "Formatting in 3.2f format: \n",
            "The value of Integer1 is 12.35\n",
            "\n",
            "Formatting in 3.4f format: \n",
            "The value of Integer1 is 12.3457\n"
          ]
        }
      ]
    },
    {
      "cell_type": "code",
      "source": [
        "List = []\n",
        "print(\"Blank List: \")\n",
        "print(List)\n",
        "  \n",
        "# Creating a List of numbers\n",
        "List = [10, 20, 14]\n",
        "print(\"\\nList of numbers: \")\n",
        "print(List)\n",
        "  \n",
        "# Creating a List of strings and accessing\n",
        "# using index\n",
        "List = [\"Geeks\", \"For\", \"Geeks\"]\n",
        "print(\"\\nList Items: \")\n",
        "print(List[0])\n",
        "print(List[2])\n",
        "  \n",
        "# Creating a Multi-Dimensional List\n",
        "# (By Nesting a list inside a List)\n",
        "List = [['Geeks', 'For'], ['Geeks']]\n",
        "print(\"\\nMulti-Dimensional List: \")\n",
        "print(List)"
      ],
      "metadata": {
        "colab": {
          "base_uri": "https://localhost:8080/"
        },
        "id": "yhPSdDAnzTWT",
        "outputId": "f5dd471c-f385-4978-8037-8278590a1f57"
      },
      "execution_count": null,
      "outputs": [
        {
          "output_type": "stream",
          "name": "stdout",
          "text": [
            "Blank List: \n",
            "[]\n",
            "\n",
            "List of numbers: \n",
            "[10, 20, 14]\n",
            "\n",
            "List Items: \n",
            "Geeks\n",
            "Geeks\n",
            "\n",
            "Multi-Dimensional List: \n",
            "[['Geeks', 'For'], ['Geeks']]\n"
          ]
        }
      ]
    },
    {
      "cell_type": "code",
      "source": [
        "List = [1, 2, 4, 4, 3, 3, 3, 6, 5]\n",
        "print(\"\\nList with the use of Numbers: \")\n",
        "print(List)\n",
        "  \n",
        "# Creating a List with\n",
        "# mixed type of values\n",
        "# (Having numbers and strings)\n",
        "List = [1, 2, 'Geeks', 4, 'For', 6, 'Geeks']\n",
        "print(\"\\nList with the use of Mixed Values: \")\n",
        "print(List)"
      ],
      "metadata": {
        "colab": {
          "base_uri": "https://localhost:8080/"
        },
        "id": "dq5ZHdXczW0R",
        "outputId": "38f4d83f-6572-48be-ee66-8f636f6b3eb5"
      },
      "execution_count": null,
      "outputs": [
        {
          "output_type": "stream",
          "name": "stdout",
          "text": [
            "\n",
            "List with the use of Numbers: \n",
            "[1, 2, 4, 4, 3, 3, 3, 6, 5]\n",
            "\n",
            "List with the use of Mixed Values: \n",
            "[1, 2, 'Geeks', 4, 'For', 6, 'Geeks']\n"
          ]
        }
      ]
    },
    {
      "cell_type": "code",
      "source": [
        "List1 = []\n",
        "print(len(List1))\n",
        "  \n",
        "# Creating a List of numbers\n",
        "List2 = [10, 20, 14]\n",
        "print(len(List2))"
      ],
      "metadata": {
        "colab": {
          "base_uri": "https://localhost:8080/"
        },
        "id": "s_02WdTZzaBt",
        "outputId": "9ea0f30d-e29c-41fc-cb9a-10e254d37d34"
      },
      "execution_count": null,
      "outputs": [
        {
          "output_type": "stream",
          "name": "stdout",
          "text": [
            "0\n",
            "3\n"
          ]
        }
      ]
    },
    {
      "cell_type": "code",
      "source": [
        "\n",
        "f = [1, 1, 2, 3, 5, 8]\n",
        "p = [2, 3, 5, 7]\n",
        "grading = [\"Tests\", \"Quizzes\", \"Individual Labs\", \"Group Labs\", \"Hackathons\"]\n",
        "grades = [300, 60, 120, 60, 120]\n",
        "oddjob = [1, 5.6, True, 4-7j, \"Hello\", [1, 2], [3.9, \"World\"]]\n",
        "print(len(grading))\n",
        "print(sum(f), sum(p))"
      ],
      "metadata": {
        "colab": {
          "base_uri": "https://localhost:8080/"
        },
        "id": "6wn22y8izche",
        "outputId": "752f8658-6239-4865-e908-47b49d6f9ade"
      },
      "execution_count": null,
      "outputs": [
        {
          "output_type": "stream",
          "name": "stdout",
          "text": [
            "5\n",
            "20 17\n"
          ]
        }
      ]
    },
    {
      "cell_type": "code",
      "source": [
        "\n",
        "grading = [\"Tests\", \"Quizzes\", \"Individual Labs\", \"Group Labs\", \"Hackathons\"]\n",
        "grades = [300, 60, 120, 60, 120]\n",
        "oddjob = [1, 5.6, True, 4-7j, \"Hello\", [1, 2], [3.9, \"World\"]]\n",
        "# We access individual elements using the index\n",
        "# The first element is at index 0\n",
        "print(grades[1], oddjob[4])\n",
        "# We access the elements from the back using negative indices\n",
        "# -1 is the last, -2 is the last but one and so on\n",
        "print(grading[-1], grading[-3])\n",
        "print(max(grades), min(grades))"
      ],
      "metadata": {
        "colab": {
          "base_uri": "https://localhost:8080/"
        },
        "id": "IzwcIQrxziN4",
        "outputId": "fc74f35e-edcf-4f78-f016-184801334372"
      },
      "execution_count": null,
      "outputs": [
        {
          "output_type": "stream",
          "name": "stdout",
          "text": [
            "60 Hello\n",
            "Hackathons Individual Labs\n",
            "300 60\n"
          ]
        }
      ]
    },
    {
      "cell_type": "code",
      "source": [
        "List = []\n",
        "print(\"Initial blank List: \")\n",
        "print(List)\n",
        "  \n",
        "# Addition of Elements\n",
        "# in the List\n",
        "List.append(1)\n",
        "List.append(2)\n",
        "List.append(4)\n",
        "print(\"\\nList after Addition of Three elements: \")\n",
        "print(List)\n",
        "  \n",
        "# Adding elements to the List\n",
        "# using Iterator\n",
        "for i in range(1, 4):\n",
        "    List.append(i)\n",
        "print(\"\\nList after Addition of elements from 1-3: \")\n",
        "print(List)\n",
        "  \n",
        "# Adding Tuples to the List\n",
        "List.append((5, 6))\n",
        "print(\"\\nList after Addition of a Tuple: \")\n",
        "print(List)\n",
        "  \n",
        "# Addition of List to a List\n",
        "List2 = ['For', 'Geeks']\n",
        "List.append(List2)\n",
        "print(\"\\nList after Addition of a List: \")\n",
        "print(List)"
      ],
      "metadata": {
        "colab": {
          "base_uri": "https://localhost:8080/"
        },
        "id": "85yXO5hUvDnp",
        "outputId": "6b35dccb-5edf-4049-fa2a-eb556e174194"
      },
      "execution_count": null,
      "outputs": [
        {
          "output_type": "stream",
          "name": "stdout",
          "text": [
            "Initial blank List: \n",
            "[]\n",
            "\n",
            "List after Addition of Three elements: \n",
            "[1, 2, 4]\n",
            "\n",
            "List after Addition of elements from 1-3: \n",
            "[1, 2, 4, 1, 2, 3]\n",
            "\n",
            "List after Addition of a Tuple: \n",
            "[1, 2, 4, 1, 2, 3, (5, 6)]\n",
            "\n",
            "List after Addition of a List: \n",
            "[1, 2, 4, 1, 2, 3, (5, 6), ['For', 'Geeks']]\n"
          ]
        }
      ]
    },
    {
      "cell_type": "code",
      "source": [
        "List = [1,2,3,4]\n",
        "print(\"Initial List: \")\n",
        "print(List)\n",
        "  \n",
        "# Addition of Element at \n",
        "# specific Position\n",
        "# (using Insert Method)\n",
        "List.insert(3, 12)\n",
        "List.insert(0, 'Geeks')\n",
        "print(\"\\nList after performing Insert Operation: \")\n",
        "print(List)"
      ],
      "metadata": {
        "colab": {
          "base_uri": "https://localhost:8080/"
        },
        "id": "8Bl5PXbjvYPS",
        "outputId": "af3ed5e5-46a0-4507-eb45-5ca28b2d23ca"
      },
      "execution_count": null,
      "outputs": [
        {
          "output_type": "stream",
          "name": "stdout",
          "text": [
            "Initial List: \n",
            "[1, 2, 3, 4]\n",
            "\n",
            "List after performing Insert Operation: \n",
            "['Geeks', 1, 2, 3, 12, 4]\n"
          ]
        }
      ]
    },
    {
      "cell_type": "code",
      "source": [
        "List = [1, 2, 3, 4]\n",
        "print(\"Initial List: \")\n",
        "print(List)\n",
        "  \n",
        "# Addition of multiple elements\n",
        "# to the List at the end\n",
        "# (using Extend Method)\n",
        "List.extend([8, 'Geeks', 'Always'])\n",
        "print(\"\\nList after performing Extend Operation: \")\n",
        "print(List)"
      ],
      "metadata": {
        "colab": {
          "base_uri": "https://localhost:8080/"
        },
        "id": "9-_WLyoCvcET",
        "outputId": "c540beb3-1dae-42ac-9d0f-6a2865083358"
      },
      "execution_count": null,
      "outputs": [
        {
          "output_type": "stream",
          "name": "stdout",
          "text": [
            "Initial List: \n",
            "[1, 2, 3, 4]\n",
            "\n",
            "List after performing Extend Operation: \n",
            "[1, 2, 3, 4, 8, 'Geeks', 'Always']\n"
          ]
        }
      ]
    },
    {
      "cell_type": "code",
      "source": [
        "List = [\"Geeks\", \"For\", \"Geeks\"]\n",
        "  \n",
        "# accessing a element from the\n",
        "# list using index number\n",
        "print(\"Accessing a element from the list\")\n",
        "print(List[0])\n",
        "print(List[2])\n",
        "  \n",
        "# Creating a Multi-Dimensional List\n",
        "# (By Nesting a list inside a List)\n",
        "List = [['Geeks', 'For'], ['Geeks']]\n",
        "  \n",
        "# accessing an element from the\n",
        "# Multi-Dimensional List using\n",
        "# index number\n",
        "print(\"Accessing a element from a Multi-Dimensional list\")\n",
        "print(List[0][1])\n",
        "print(List[1][0])"
      ],
      "metadata": {
        "colab": {
          "base_uri": "https://localhost:8080/"
        },
        "id": "6y6mLSURvfQo",
        "outputId": "b3b17092-5e4e-4e2d-c3c7-9748e67d21ff"
      },
      "execution_count": null,
      "outputs": [
        {
          "output_type": "stream",
          "name": "stdout",
          "text": [
            "Accessing a element from the list\n",
            "Geeks\n",
            "Geeks\n",
            "Accessing a element from a Multi-Dimensional list\n",
            "For\n",
            "Geeks\n"
          ]
        }
      ]
    },
    {
      "cell_type": "code",
      "source": [
        "Tuple1 = ()\n",
        "print(\"Initial empty Tuple: \")\n",
        "print(Tuple1)\n",
        " \n",
        "# Creating a Tuple\n",
        "# with the use of string\n",
        "Tuple1 = ('Geeks', 'For')\n",
        "print(\"\\nTuple with the use of String: \")\n",
        "print(Tuple1)\n",
        " \n",
        "# Creating a Tuple with\n",
        "# the use of list\n",
        "list1 = [1, 2, 4, 5, 6]\n",
        "print(\"\\nTuple using List: \")\n",
        "print(tuple(list1))\n",
        " \n",
        "# Creating a Tuple\n",
        "# with the use of built-in function\n",
        "Tuple1 = tuple('Geeks')\n",
        "print(\"\\nTuple with the use of function: \")\n",
        "print(Tuple1)"
      ],
      "metadata": {
        "colab": {
          "base_uri": "https://localhost:8080/"
        },
        "id": "McUVHvkEFyoR",
        "outputId": "f696c7cf-efb5-49dc-a01d-57041281b26c"
      },
      "execution_count": null,
      "outputs": [
        {
          "output_type": "stream",
          "name": "stdout",
          "text": [
            "Initial empty Tuple: \n",
            "()\n",
            "\n",
            "Tuple with the use of String: \n",
            "('Geeks', 'For')\n",
            "\n",
            "Tuple using List: \n",
            "(1, 2, 4, 5, 6)\n",
            "\n",
            "Tuple with the use of function: \n",
            "('G', 'e', 'e', 'k', 's')\n"
          ]
        }
      ]
    },
    {
      "cell_type": "code",
      "source": [
        "# Creating a Tuple\n",
        "# with Mixed Datatype\n",
        "Tuple1 = (5, 'Welcome', 7, 'Geeks')\n",
        "print(\"\\nTuple with Mixed Datatypes: \")\n",
        "print(Tuple1)\n",
        " \n",
        "# Creating a Tuple\n",
        "# with nested tuples\n",
        "Tuple1 = (0, 1, 2, 3)\n",
        "Tuple2 = ('python', 'geek')\n",
        "Tuple3 = (Tuple1, Tuple2)\n",
        "print(\"\\nTuple with nested tuples: \")\n",
        "print(Tuple3)\n",
        " \n",
        "# Creating a Tuple\n",
        "# with repetition\n",
        "Tuple1 = ('Geeks',) * 3\n",
        "print(\"\\nTuple with repetition: \")\n",
        "print(Tuple1)\n",
        " \n",
        "# Creating a Tuple\n",
        "# with the use of loop\n",
        "Tuple1 = ('Geeks')\n",
        "n = 5\n",
        "print(\"\\nTuple with a loop\")\n",
        "for i in range(int(n)):\n",
        "    Tuple1 = (Tuple1,)\n",
        "    print(Tuple1)"
      ],
      "metadata": {
        "colab": {
          "base_uri": "https://localhost:8080/"
        },
        "id": "53ygKUq8F2XG",
        "outputId": "4c6b8932-b511-452e-f54b-e1bca267c357"
      },
      "execution_count": null,
      "outputs": [
        {
          "output_type": "stream",
          "name": "stdout",
          "text": [
            "\n",
            "Tuple with Mixed Datatypes: \n",
            "(5, 'Welcome', 7, 'Geeks')\n",
            "\n",
            "Tuple with nested tuples: \n",
            "((0, 1, 2, 3), ('python', 'geek'))\n",
            "\n",
            "Tuple with repetition: \n",
            "('Geeks', 'Geeks', 'Geeks')\n",
            "\n",
            "Tuple with a loop\n",
            "('Geeks',)\n",
            "(('Geeks',),)\n",
            "((('Geeks',),),)\n",
            "(((('Geeks',),),),)\n",
            "((((('Geeks',),),),),)\n"
          ]
        }
      ]
    },
    {
      "cell_type": "code",
      "source": [
        "# Accessing Tuple\n",
        "# with Indexing\n",
        "Tuple1 = tuple(\"Geeks\")\n",
        "print(\"\\nFirst element of Tuple: \")\n",
        "print(Tuple1[0])\n",
        " \n",
        " \n",
        "# Tuple unpacking\n",
        "Tuple1 = (\"Geeks\", \"For\", \"Geeks\")\n",
        " \n",
        "# This line unpack\n",
        "# values of Tuple1\n",
        "a, b, c = Tuple1\n",
        "print(\"\\nValues after unpacking: \")\n",
        "print(a)\n",
        "print(b)\n",
        "print(c)"
      ],
      "metadata": {
        "colab": {
          "base_uri": "https://localhost:8080/"
        },
        "id": "bOzcFzYlF63H",
        "outputId": "66c5a78b-a58b-4933-ceb5-99993400d02c"
      },
      "execution_count": null,
      "outputs": [
        {
          "output_type": "stream",
          "name": "stdout",
          "text": [
            "\n",
            "First element of Tuple: \n",
            "G\n",
            "\n",
            "Values after unpacking: \n",
            "Geeks\n",
            "For\n",
            "Geeks\n"
          ]
        }
      ]
    },
    {
      "cell_type": "code",
      "source": [
        "Tuple1 = (0, 1, 2, 3)\n",
        "Tuple2 = ('Geeks', 'For', 'Geeks')\n",
        " \n",
        "Tuple3 = Tuple1 + Tuple2\n",
        " \n",
        "# Printing first Tuple\n",
        "print(\"Tuple 1: \")\n",
        "print(Tuple1)\n",
        " \n",
        "# Printing Second Tuple\n",
        "print(\"\\nTuple2: \")\n",
        "print(Tuple2)\n",
        " \n",
        "# Printing Final Tuple\n",
        "print(\"\\nTuples after Concatenation: \")\n",
        "print(Tuple3)"
      ],
      "metadata": {
        "colab": {
          "base_uri": "https://localhost:8080/"
        },
        "id": "tiDC93s6F-1F",
        "outputId": "1e848a58-d135-4bbe-b6d7-3a7980d8bd6d"
      },
      "execution_count": null,
      "outputs": [
        {
          "output_type": "stream",
          "name": "stdout",
          "text": [
            "Tuple 1: \n",
            "(0, 1, 2, 3)\n",
            "\n",
            "Tuple2: \n",
            "('Geeks', 'For', 'Geeks')\n",
            "\n",
            "Tuples after Concatenation: \n",
            "(0, 1, 2, 3, 'Geeks', 'For', 'Geeks')\n"
          ]
        }
      ]
    },
    {
      "cell_type": "code",
      "source": [
        "Tuple1 = tuple('GEEKSFORGEEKS')\n",
        " \n",
        "# Removing First element\n",
        "print(\"Removal of First Element: \")\n",
        "print(Tuple1[1:])\n",
        " \n",
        "# Reversing the Tuple\n",
        "print(\"\\nTuple after sequence of Element is reversed: \")\n",
        "print(Tuple1[::-1])\n",
        " \n",
        "# Printing elements of a Range\n",
        "print(\"\\nPrinting elements between Range 4-9: \")\n",
        "print(Tuple1[4:9])"
      ],
      "metadata": {
        "colab": {
          "base_uri": "https://localhost:8080/"
        },
        "id": "elBvWpdqLdak",
        "outputId": "22f2d9cf-5b40-4c10-d74c-2184abec4914"
      },
      "execution_count": null,
      "outputs": [
        {
          "output_type": "stream",
          "name": "stdout",
          "text": [
            "Removal of First Element: \n",
            "('E', 'E', 'K', 'S', 'F', 'O', 'R', 'G', 'E', 'E', 'K', 'S')\n",
            "\n",
            "Tuple after sequence of Element is reversed: \n",
            "('S', 'K', 'E', 'E', 'G', 'R', 'O', 'F', 'S', 'K', 'E', 'E', 'G')\n",
            "\n",
            "Printing elements between Range 4-9: \n",
            "('S', 'F', 'O', 'R', 'G')\n"
          ]
        }
      ]
    },
    {
      "cell_type": "code",
      "source": [
        "set1 = set()\n",
        "print(\"Initial blank Set: \")\n",
        "print(set1)\n",
        " \n",
        "# Creating a Set with\n",
        "# the use of a String\n",
        "set1 = set(\"GeeksForGeeks\")\n",
        "print(\"\\nSet with the use of String: \")\n",
        "print(set1)\n",
        " \n",
        "# Creating a Set with\n",
        "# the use of Constructor\n",
        "# (Using object to Store String)\n",
        "String = 'GeeksForGeeks'\n",
        "set1 = set(String)\n",
        "print(\"\\nSet with the use of an Object: \" )\n",
        "print(set1)\n",
        " \n",
        "# Creating a Set with\n",
        "# the use of a List\n",
        "set1 = set([\"Geeks\", \"For\", \"Geeks\"])\n",
        "print(\"\\nSet with the use of List: \")\n",
        "print(set1)"
      ],
      "metadata": {
        "colab": {
          "base_uri": "https://localhost:8080/"
        },
        "id": "f7Cd1GFvL0Of",
        "outputId": "42ea7703-9cfd-4e34-ec6a-f6b3c00906f5"
      },
      "execution_count": null,
      "outputs": [
        {
          "output_type": "stream",
          "name": "stdout",
          "text": [
            "Initial blank Set: \n",
            "set()\n",
            "\n",
            "Set with the use of String: \n",
            "{'G', 's', 'F', 'r', 'e', 'k', 'o'}\n",
            "\n",
            "Set with the use of an Object: \n",
            "{'G', 's', 'F', 'r', 'e', 'k', 'o'}\n",
            "\n",
            "Set with the use of List: \n",
            "{'Geeks', 'For'}\n"
          ]
        }
      ]
    },
    {
      "cell_type": "code",
      "source": [
        "set1 = set([1, 2, 4, 4, 3, 3, 3, 6, 5])\n",
        "print(\"\\nSet with the use of Numbers: \")\n",
        "print(set1)\n",
        " \n",
        "# Creating a Set with\n",
        "# a mixed type of values\n",
        "# (Having numbers and strings)\n",
        "set1 = set([1, 2, 'Geeks', 4, 'For', 6, 'Geeks'])\n",
        "print(\"\\nSet with the use of Mixed Values\")\n",
        "print(set1)"
      ],
      "metadata": {
        "colab": {
          "base_uri": "https://localhost:8080/"
        },
        "id": "QCJSgHsvL6XP",
        "outputId": "9a3f4856-1f56-46d6-afea-a80f3a9d7ef1"
      },
      "execution_count": null,
      "outputs": [
        {
          "output_type": "stream",
          "name": "stdout",
          "text": [
            "\n",
            "Set with the use of Numbers: \n",
            "{1, 2, 3, 4, 5, 6}\n",
            "\n",
            "Set with the use of Mixed Values\n",
            "{1, 2, 4, 6, 'Geeks', 'For'}\n"
          ]
        }
      ]
    },
    {
      "cell_type": "code",
      "source": [
        "set1 = set()\n",
        "print(\"Initial blank Set: \")\n",
        "print(set1)\n",
        " \n",
        "# Adding element and tuple to the Set\n",
        "set1.add(8)\n",
        "set1.add(9)\n",
        "set1.add((6, 7))\n",
        "print(\"\\nSet after Addition of Three elements: \")\n",
        "print(set1)\n",
        " \n",
        "# Adding elements to the Set\n",
        "# using Iterator\n",
        "for i in range(1, 6):\n",
        "    set1.add(i)\n",
        "print(\"\\nSet after Addition of elements from 1-5: \")\n",
        "print(set1)"
      ],
      "metadata": {
        "id": "8XSh9pypMA-O",
        "outputId": "153eead5-17c3-4426-c60b-640af52bd68f",
        "colab": {
          "base_uri": "https://localhost:8080/"
        }
      },
      "execution_count": null,
      "outputs": [
        {
          "output_type": "stream",
          "name": "stdout",
          "text": [
            "Initial blank Set: \n",
            "set()\n",
            "\n",
            "Set after Addition of Three elements: \n",
            "{8, 9, (6, 7)}\n",
            "\n",
            "Set after Addition of elements from 1-5: \n",
            "{1, 2, 3, (6, 7), 4, 5, 8, 9}\n"
          ]
        }
      ]
    },
    {
      "cell_type": "code",
      "source": [
        "set1 = set([4, 5, (6, 7)])\n",
        "set1.update([10, 11])\n",
        "print(\"\\nSet after Addition of elements using Update: \")\n",
        "print(set1)"
      ],
      "metadata": {
        "id": "PiNY3hQwMEbu",
        "outputId": "5f5e3890-63ab-45b4-8176-7cc9ca18e87a",
        "colab": {
          "base_uri": "https://localhost:8080/"
        }
      },
      "execution_count": null,
      "outputs": [
        {
          "output_type": "stream",
          "name": "stdout",
          "text": [
            "\n",
            "Set after Addition of elements using Update: \n",
            "{4, 5, (6, 7), 10, 11}\n"
          ]
        }
      ]
    },
    {
      "cell_type": "code",
      "source": [
        "set1 = set([1, 2, 3, 4, 5, 6,\n",
        "            7, 8, 9, 10, 11, 12])\n",
        "print(\"Initial Set: \")\n",
        "print(set1)\n",
        " \n",
        "# Removing elements from Set\n",
        "# using Remove() method\n",
        "set1.remove(5)\n",
        "set1.remove(6)\n",
        "print(\"\\nSet after Removal of two elements: \")\n",
        "print(set1)\n",
        " \n",
        "# Removing elements from Set\n",
        "# using Discard() method\n",
        "set1.discard(8)\n",
        "set1.discard(9)\n",
        "print(\"\\nSet after Discarding two elements: \")\n",
        "print(set1)\n",
        " \n",
        "# Removing elements from Set\n",
        "# using iterator method\n",
        "for i in range(1, 5):\n",
        "    set1.remove(i)\n",
        "print(\"\\nSet after Removing a range of elements: \")\n",
        "print(set1)"
      ],
      "metadata": {
        "colab": {
          "base_uri": "https://localhost:8080/"
        },
        "id": "UMQEGJcLeemU",
        "outputId": "ba0da900-1432-4b61-8f34-149c06ca3339"
      },
      "execution_count": null,
      "outputs": [
        {
          "output_type": "stream",
          "name": "stdout",
          "text": [
            "Initial Set: \n",
            "{1, 2, 3, 4, 5, 6, 7, 8, 9, 10, 11, 12}\n",
            "\n",
            "Set after Removal of two elements: \n",
            "{1, 2, 3, 4, 7, 8, 9, 10, 11, 12}\n",
            "\n",
            "Set after Discarding two elements: \n",
            "{1, 2, 3, 4, 7, 10, 11, 12}\n",
            "\n",
            "Set after Removing a range of elements: \n",
            "{7, 10, 11, 12}\n"
          ]
        }
      ]
    },
    {
      "cell_type": "code",
      "source": [
        "set1 = set([1, 2, 3, 4, 5, 6,\n",
        "            7, 8, 9, 10, 11, 12])\n",
        "print(\"Initial Set: \")\n",
        "print(set1)\n",
        " \n",
        "# Removing element from the\n",
        "# Set using the pop() method\n",
        "set1.pop()\n",
        "print(\"\\nSet after popping an element: \")\n",
        "print(set1)"
      ],
      "metadata": {
        "colab": {
          "base_uri": "https://localhost:8080/"
        },
        "id": "9qreqWjoeo1X",
        "outputId": "73e44268-9eac-4648-cdd3-42a2db18ffbf"
      },
      "execution_count": null,
      "outputs": [
        {
          "output_type": "stream",
          "name": "stdout",
          "text": [
            "Initial Set: \n",
            "{1, 2, 3, 4, 5, 6, 7, 8, 9, 10, 11, 12}\n",
            "\n",
            "Set after popping an element: \n",
            "{2, 3, 4, 5, 6, 7, 8, 9, 10, 11, 12}\n"
          ]
        }
      ]
    },
    {
      "cell_type": "code",
      "source": [
        "set1 = set([1,2,3,4,5])\n",
        "print(\"\\n Initial set: \")\n",
        "print(set1)\n",
        " \n",
        " \n",
        "# Removing all the elements from\n",
        "# Set using clear() method\n",
        "set1.clear()\n",
        "print(\"\\nSet after clearing all the elements: \")\n",
        "print(set1)"
      ],
      "metadata": {
        "colab": {
          "base_uri": "https://localhost:8080/"
        },
        "id": "WHk7sRPtesB3",
        "outputId": "f5fae980-0d83-4968-e447-37f6a982b693"
      },
      "execution_count": null,
      "outputs": [
        {
          "output_type": "stream",
          "name": "stdout",
          "text": [
            "\n",
            " Initial set: \n",
            "{1, 2, 3, 4, 5}\n",
            "\n",
            "Set after clearing all the elements: \n",
            "set()\n"
          ]
        }
      ]
    },
    {
      "cell_type": "code",
      "source": [
        "String = ('G', 'e', 'e', 'k', 's', 'F', 'o', 'r')\n",
        " \n",
        "Fset1 = frozenset(String)\n",
        "print(\"The FrozenSet is: \")\n",
        "print(Fset1)\n",
        " \n",
        "# To print Empty Frozen Set\n",
        "# No parameter is passed\n",
        "print(\"\\nEmpty FrozenSet: \")\n",
        "print(frozenset())"
      ],
      "metadata": {
        "colab": {
          "base_uri": "https://localhost:8080/"
        },
        "id": "nadRlDMMe0XR",
        "outputId": "18ae167d-3e6c-4acc-8d63-27c033cdde22"
      },
      "execution_count": null,
      "outputs": [
        {
          "output_type": "stream",
          "name": "stdout",
          "text": [
            "The FrozenSet is: \n",
            "frozenset({'e', 'G', 'k', 'F', 'r', 's', 'o'})\n",
            "\n",
            "Empty FrozenSet: \n",
            "frozenset()\n"
          ]
        }
      ]
    },
    {
      "cell_type": "code",
      "source": [
        "my_list = [1, 2, 3, 3, 4, 5, 5, 6, 2]\n",
        "my_set = set(my_list)\n",
        "print(\"my_list as a set: \", my_set)\n",
        " \n",
        "# Typecasting string into set\n",
        "my_str = \"GeeksforGeeks\"\n",
        "my_set1 = set(my_str)\n",
        "print(\"my_str as a set: \", my_set1)\n",
        " \n",
        "# Typecasting dictionary into set\n",
        "my_dict = {1: \"One\", 2: \"Two\", 3: \"Three\"}\n",
        "my_set2 = set(my_dict)\n",
        "print(\"my_dict as a set: \", my_set2)"
      ],
      "metadata": {
        "colab": {
          "base_uri": "https://localhost:8080/"
        },
        "id": "ZYuiSLQge5FS",
        "outputId": "8cc73c12-9638-43db-8570-adc6a5d08da8"
      },
      "execution_count": null,
      "outputs": [
        {
          "output_type": "stream",
          "name": "stdout",
          "text": [
            "my_list as a set:  {1, 2, 3, 4, 5, 6}\n",
            "my_str as a set:  {'e', 'G', 'k', 'r', 's', 'o', 'f'}\n",
            "my_dict as a set:  {1, 2, 3}\n"
          ]
        }
      ]
    },
    {
      "cell_type": "code",
      "source": [
        "Dict = {1: 'Geeks', 2: 'For', 3: 'Geeks'}\n",
        "print(\"\\nDictionary with the use of Integer Keys: \")\n",
        "print(Dict)\n",
        "  \n",
        "# Creating a Dictionary\n",
        "# with Mixed keys\n",
        "Dict = {'Name': 'Geeks', 1: [1, 2, 3, 4]}\n",
        "print(\"\\nDictionary with the use of Mixed Keys: \")\n",
        "print(Dict)"
      ],
      "metadata": {
        "colab": {
          "base_uri": "https://localhost:8080/"
        },
        "id": "4KC_GPcge_e9",
        "outputId": "d282f71c-608d-43a0-bea6-358e5234bfef"
      },
      "execution_count": null,
      "outputs": [
        {
          "output_type": "stream",
          "name": "stdout",
          "text": [
            "\n",
            "Dictionary with the use of Integer Keys: \n",
            "{1: 'Geeks', 2: 'For', 3: 'Geeks'}\n",
            "\n",
            "Dictionary with the use of Mixed Keys: \n",
            "{'Name': 'Geeks', 1: [1, 2, 3, 4]}\n"
          ]
        }
      ]
    },
    {
      "cell_type": "code",
      "source": [
        "Dict = {}\n",
        "print(\"Empty Dictionary: \")\n",
        "print(Dict)\n",
        "  \n",
        "# Creating a Dictionary\n",
        "# with dict() method\n",
        "Dict = dict({1: 'Geeks', 2: 'For', 3: 'Geeks'})\n",
        "print(\"\\nDictionary with the use of dict(): \")\n",
        "print(Dict)\n",
        "  \n",
        "# Creating a Dictionary\n",
        "# with each item as a Pair\n",
        "Dict = dict([(1, 'Geeks'), (2, 'For')])\n",
        "print(\"\\nDictionary with each item as a pair: \")\n",
        "print(Dict)"
      ],
      "metadata": {
        "colab": {
          "base_uri": "https://localhost:8080/"
        },
        "id": "vHZ3PAaDfC60",
        "outputId": "763d628d-c37a-4c58-96f0-59a9bc4cf54b"
      },
      "execution_count": null,
      "outputs": [
        {
          "output_type": "stream",
          "name": "stdout",
          "text": [
            "Empty Dictionary: \n",
            "{}\n",
            "\n",
            "Dictionary with the use of dict(): \n",
            "{1: 'Geeks', 2: 'For', 3: 'Geeks'}\n",
            "\n",
            "Dictionary with each item as a pair: \n",
            "{1: 'Geeks', 2: 'For'}\n"
          ]
        }
      ]
    },
    {
      "cell_type": "code",
      "source": [
        "Dict = {1: 'Geeks', 2: 'For',\n",
        "        3: {'A': 'Welcome', 'B': 'To', 'C': 'Geeks'}}\n",
        "  \n",
        "print(Dict)"
      ],
      "metadata": {
        "id": "xqRzmOI_fGCf",
        "outputId": "0242b0c7-e204-4271-945a-144aede8e8e3",
        "colab": {
          "base_uri": "https://localhost:8080/"
        }
      },
      "execution_count": null,
      "outputs": [
        {
          "output_type": "stream",
          "name": "stdout",
          "text": [
            "{1: 'Geeks', 2: 'For', 3: {'A': 'Welcome', 'B': 'To', 'C': 'Geeks'}}\n"
          ]
        }
      ]
    },
    {
      "cell_type": "code",
      "source": [
        "Dict = {}\n",
        "print(\"Empty Dictionary: \")\n",
        "print(Dict)\n",
        "  \n",
        "# Adding elements one at a time\n",
        "Dict[0] = 'Geeks'\n",
        "Dict[2] = 'For'\n",
        "Dict[3] = 1\n",
        "print(\"\\nDictionary after adding 3 elements: \")\n",
        "print(Dict)\n",
        "  \n",
        "# Adding set of values\n",
        "# to a single Key\n",
        "Dict['Value_set'] = 2, 3, 4\n",
        "print(\"\\nDictionary after adding 3 elements: \")\n",
        "print(Dict)\n",
        "  \n",
        "# Updating existing Key's Value\n",
        "Dict[2] = 'Welcome'\n",
        "print(\"\\nUpdated key value: \")\n",
        "print(Dict)\n",
        "  \n",
        "# Adding Nested Key value to Dictionary\n",
        "Dict[5] = {'Nested': {'1': 'Life', '2': 'Geeks'}}\n",
        "print(\"\\nAdding a Nested Key: \")\n",
        "print(Dict)"
      ],
      "metadata": {
        "id": "aZb5OWv8fJzO",
        "outputId": "f1f14bc0-7ff3-47d3-dcab-d13135c900f9",
        "colab": {
          "base_uri": "https://localhost:8080/"
        }
      },
      "execution_count": null,
      "outputs": [
        {
          "output_type": "stream",
          "name": "stdout",
          "text": [
            "Empty Dictionary: \n",
            "{}\n",
            "\n",
            "Dictionary after adding 3 elements: \n",
            "{0: 'Geeks', 2: 'For', 3: 1}\n",
            "\n",
            "Dictionary after adding 3 elements: \n",
            "{0: 'Geeks', 2: 'For', 3: 1, 'Value_set': (2, 3, 4)}\n",
            "\n",
            "Updated key value: \n",
            "{0: 'Geeks', 2: 'Welcome', 3: 1, 'Value_set': (2, 3, 4)}\n",
            "\n",
            "Adding a Nested Key: \n",
            "{0: 'Geeks', 2: 'Welcome', 3: 1, 'Value_set': (2, 3, 4), 5: {'Nested': {'1': 'Life', '2': 'Geeks'}}}\n"
          ]
        }
      ]
    },
    {
      "cell_type": "code",
      "source": [
        "dict1 = {1: \"Python\", 2: \"Java\", 3: \"Ruby\", 4: \"Scala\"}\n",
        "  \n",
        "# copy() method\n",
        "dict2 = dict1.copy()\n",
        "print(dict2)\n",
        "  \n",
        "# clear() method\n",
        "dict1.clear()\n",
        "print(dict1)\n",
        "  \n",
        "# get() method\n",
        "print(dict2.get(1))\n",
        "  \n",
        "# items() method\n",
        "print(dict2.items())\n",
        "  \n",
        "# keys() method\n",
        "print(dict2.keys())\n",
        "  \n",
        "# pop() method\n",
        "dict2.pop(4)\n",
        "print(dict2)\n",
        "  \n",
        "# popitem() method\n",
        "dict2.popitem()\n",
        "print(dict2)\n",
        "  \n",
        "# update() method\n",
        "dict2.update({3: \"Scala\"})\n",
        "print(dict2)\n",
        "  \n",
        "# values() method\n",
        "print(dict2.values())"
      ],
      "metadata": {
        "colab": {
          "base_uri": "https://localhost:8080/"
        },
        "id": "RL5q7gNDLpnS",
        "outputId": "6d86914d-09c5-4dd1-8100-11192d4627da"
      },
      "execution_count": null,
      "outputs": [
        {
          "output_type": "stream",
          "name": "stdout",
          "text": [
            "{1: 'Python', 2: 'Java', 3: 'Ruby', 4: 'Scala'}\n",
            "{}\n",
            "Python\n",
            "dict_items([(1, 'Python'), (2, 'Java'), (3, 'Ruby'), (4, 'Scala')])\n",
            "dict_keys([1, 2, 3, 4])\n",
            "{1: 'Python', 2: 'Java', 3: 'Ruby'}\n",
            "{1: 'Python', 2: 'Java'}\n",
            "{1: 'Python', 2: 'Java', 3: 'Scala'}\n",
            "dict_values(['Python', 'Java', 'Scala'])\n"
          ]
        }
      ]
    },
    {
      "cell_type": "code",
      "source": [
        "  \n",
        "i = 20\n",
        "if (i < 15):\n",
        "    print(\"i is smaller than 15\")\n",
        "    print(\"i'm in if Block\")\n",
        "else:\n",
        "    print(\"i is greater than 15\")\n",
        "    print(\"i'm in else Block\")\n",
        "print(\"i'm not in if and not in else Block\")"
      ],
      "metadata": {
        "colab": {
          "base_uri": "https://localhost:8080/"
        },
        "id": "9PX634DiLy_N",
        "outputId": "73cb8f4a-c433-46b4-e051-12f8f531bedf"
      },
      "execution_count": null,
      "outputs": [
        {
          "output_type": "stream",
          "name": "stdout",
          "text": [
            "i is greater than 15\n",
            "i'm in else Block\n",
            "i'm not in if and not in else Block\n"
          ]
        }
      ]
    },
    {
      "cell_type": "code",
      "source": [
        "def digitSum(n):\n",
        "    dsum = 0\n",
        "    for ele in str(n):\n",
        "        dsum += int(ele)\n",
        "    return dsum\n",
        "  \n",
        "  \n",
        "# Initializing list\n",
        "List = [367, 111, 562, 945, 6726, 873]\n",
        "  \n",
        "# Using the function on odd elements of the list\n",
        "newList = [digitSum(i) for i in List if i & 1]\n",
        "  \n",
        "# Displaying new list\n",
        "print(newList)"
      ],
      "metadata": {
        "colab": {
          "base_uri": "https://localhost:8080/"
        },
        "id": "2wskOx6zL3ka",
        "outputId": "d3d3cef2-b1e7-4d78-ef91-8057a1f9b827"
      },
      "execution_count": null,
      "outputs": [
        {
          "output_type": "stream",
          "name": "stdout",
          "text": [
            "[16, 3, 18, 18]\n"
          ]
        }
      ]
    },
    {
      "cell_type": "code",
      "source": [
        "i = 10\n",
        "if (i == 10):\n",
        "    \n",
        "    #  First if statement\n",
        "    if (i < 15):\n",
        "        print(\"i is smaller than 15\")\n",
        "          \n",
        "    # Nested - if statement\n",
        "    # Will only be executed if statement above\n",
        "    # it is true\n",
        "    if (i < 12):\n",
        "        print(\"i is smaller than 12 too\")\n",
        "    else:\n",
        "        print(\"i is greater than 15\")"
      ],
      "metadata": {
        "colab": {
          "base_uri": "https://localhost:8080/"
        },
        "id": "O1GoAj2kMBTb",
        "outputId": "12ee33c2-3026-4a29-e2ce-0caa5026abf2"
      },
      "execution_count": null,
      "outputs": [
        {
          "output_type": "stream",
          "name": "stdout",
          "text": [
            "i is smaller than 15\n",
            "i is smaller than 12 too\n"
          ]
        }
      ]
    },
    {
      "cell_type": "code",
      "source": [
        "i = 20\n",
        "if (i == 10):\n",
        "    print(\"i is 10\")\n",
        "elif (i == 15):\n",
        "    print(\"i is 15\")\n",
        "elif (i == 20):\n",
        "    print(\"i is 20\")\n",
        "else:\n",
        "    print(\"i is not present\")"
      ],
      "metadata": {
        "colab": {
          "base_uri": "https://localhost:8080/"
        },
        "id": "Bmxm31z5MFVk",
        "outputId": "f798a1b4-0c66-4f9a-fd40-fa171dfeb09c"
      },
      "execution_count": null,
      "outputs": [
        {
          "output_type": "stream",
          "name": "stdout",
          "text": [
            "i is 20\n"
          ]
        }
      ]
    },
    {
      "cell_type": "code",
      "source": [
        "i = 10\n",
        "if i < 15:\n",
        "    print(\"i is less than 15\")"
      ],
      "metadata": {
        "colab": {
          "base_uri": "https://localhost:8080/"
        },
        "id": "Nx6HPuwyMIsq",
        "outputId": "18839f2f-4391-4fb9-934a-b6345bdd16d4"
      },
      "execution_count": null,
      "outputs": [
        {
          "output_type": "stream",
          "name": "stdout",
          "text": [
            "i is less than 15\n"
          ]
        }
      ]
    },
    {
      "cell_type": "code",
      "source": [
        "x = 5\n",
        "print(1 < x < 10)\n",
        "print(10 < x < 20 )\n",
        "print(x < 10 < x*10 < 100)\n",
        "print(10 > x <= 9)\n",
        "print(5 == x > 4)"
      ],
      "metadata": {
        "id": "fBYl79QMMLQp",
        "colab": {
          "base_uri": "https://localhost:8080/"
        },
        "outputId": "82a002a8-95be-4001-bcfb-1ac58b94afd8"
      },
      "execution_count": 1,
      "outputs": [
        {
          "output_type": "stream",
          "name": "stdout",
          "text": [
            "True\n",
            "False\n",
            "True\n",
            "True\n",
            "True\n"
          ]
        }
      ]
    },
    {
      "cell_type": "code",
      "source": [
        "print(\"Dictionary Iteration\")\n",
        "d = dict()\n",
        "d['xyz'] = 123\n",
        "d['abc'] = 345\n",
        "for i in d:\n",
        "    print(\"% s % d\" % (i, d[i]))"
      ],
      "metadata": {
        "colab": {
          "base_uri": "https://localhost:8080/"
        },
        "id": "Wq-vaJDCpCKI",
        "outputId": "b40e319f-5c27-4866-c688-e7bd04478099"
      },
      "execution_count": 3,
      "outputs": [
        {
          "output_type": "stream",
          "name": "stdout",
          "text": [
            "Dictionary Iteration\n",
            "xyz  123\n",
            "abc  345\n"
          ]
        }
      ]
    },
    {
      "cell_type": "code",
      "source": [
        "print(\"String Iteration\")\n",
        "s = \"Geeks\"\n",
        "for i in s:\n",
        "    print(i)"
      ],
      "metadata": {
        "colab": {
          "base_uri": "https://localhost:8080/"
        },
        "id": "boL9AMDXpJl3",
        "outputId": "c29bc438-925b-4c19-ac72-b8ca30e261c8"
      },
      "execution_count": 4,
      "outputs": [
        {
          "output_type": "stream",
          "name": "stdout",
          "text": [
            "String Iteration\n",
            "G\n",
            "e\n",
            "e\n",
            "k\n",
            "s\n"
          ]
        }
      ]
    },
    {
      "cell_type": "code",
      "source": [
        "\n",
        "for letter in 'geeksforgeeks':\n",
        " \n",
        "    # break the loop as soon it sees 'e'\n",
        "    # or 's'\n",
        "    if letter == 'e' or letter == 's':\n",
        "        break\n",
        " \n",
        "print('Current Letter :', letter)"
      ],
      "metadata": {
        "colab": {
          "base_uri": "https://localhost:8080/"
        },
        "id": "OW25AK3UpcDR",
        "outputId": "f606b398-613c-4791-f803-165b86aa4540"
      },
      "execution_count": 7,
      "outputs": [
        {
          "output_type": "stream",
          "name": "stdout",
          "text": [
            "Current Letter : e\n"
          ]
        }
      ]
    },
    {
      "cell_type": "code",
      "source": [
        "for i in range(10):\n",
        "    print(i, end=\" \")\n",
        " \n",
        "# performing sum of first 10 numbers\n",
        "sum = 0\n",
        "for i in range(1, 10):\n",
        "    sum = sum + i\n",
        "print(\"\\nSum of first 10 numbers :\", sum)"
      ],
      "metadata": {
        "colab": {
          "base_uri": "https://localhost:8080/"
        },
        "id": "tgQOb_i4pgVI",
        "outputId": "8899712b-6b83-481e-adf6-cbacb88f563a"
      },
      "execution_count": 8,
      "outputs": [
        {
          "output_type": "stream",
          "name": "stdout",
          "text": [
            "0 1 2 3 4 5 6 7 8 9 \n",
            "Sum of first 10 numbers : 45\n"
          ]
        }
      ]
    },
    {
      "cell_type": "code",
      "source": [
        "for i in range(1, 4):\n",
        "    print(i)\n",
        "else:  # Executed because no break in for\n",
        "    print(\"No Break\\n\")"
      ],
      "metadata": {
        "colab": {
          "base_uri": "https://localhost:8080/"
        },
        "id": "KDRbNK5gpi4K",
        "outputId": "ef950362-fc2f-49f6-84c5-9f1befa1d1ea"
      },
      "execution_count": 9,
      "outputs": [
        {
          "output_type": "stream",
          "name": "stdout",
          "text": [
            "1\n",
            "2\n",
            "3\n",
            "No Break\n",
            "\n"
          ]
        }
      ]
    },
    {
      "cell_type": "code",
      "source": [
        "count = 0\n",
        "while (count < 3):\n",
        "    count = count + 1\n",
        "    print(\"Hello Geek\")"
      ],
      "metadata": {
        "colab": {
          "base_uri": "https://localhost:8080/"
        },
        "id": "H6HIc_SIprOd",
        "outputId": "5b40acce-262d-42e5-f39a-299556ed094a"
      },
      "execution_count": 10,
      "outputs": [
        {
          "output_type": "stream",
          "name": "stdout",
          "text": [
            "Hello Geek\n",
            "Hello Geek\n",
            "Hello Geek\n"
          ]
        }
      ]
    },
    {
      "cell_type": "code",
      "source": [
        "a = [1, 2, 3, 4]\n",
        " \n",
        "while a:\n",
        "    print(a.pop())"
      ],
      "metadata": {
        "colab": {
          "base_uri": "https://localhost:8080/"
        },
        "id": "5nz5v4Zmptfd",
        "outputId": "f0418c8a-4396-417f-e8cf-e1d6f5a23dbf"
      },
      "execution_count": 11,
      "outputs": [
        {
          "output_type": "stream",
          "name": "stdout",
          "text": [
            "4\n",
            "3\n",
            "2\n",
            "1\n"
          ]
        }
      ]
    },
    {
      "cell_type": "code",
      "source": [
        "i = 0\n",
        "a = 'geeksforgeeks'\n",
        " \n",
        "while i < len(a):\n",
        "    if a[i] == 'e' or a[i] == 's':\n",
        "        i += 1\n",
        "        continue\n",
        "         \n",
        "    print('Current Letter :', a[i])\n",
        "    i += 1"
      ],
      "metadata": {
        "colab": {
          "base_uri": "https://localhost:8080/"
        },
        "id": "aeV1-n0hpwNa",
        "outputId": "b2970d58-e06d-4eab-be07-5771b8c941a2"
      },
      "execution_count": 12,
      "outputs": [
        {
          "output_type": "stream",
          "name": "stdout",
          "text": [
            "Current Letter : g\n",
            "Current Letter : k\n",
            "Current Letter : f\n",
            "Current Letter : o\n",
            "Current Letter : r\n",
            "Current Letter : g\n",
            "Current Letter : k\n"
          ]
        }
      ]
    }
  ]
}