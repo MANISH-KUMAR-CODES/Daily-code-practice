{
  "nbformat": 4,
  "nbformat_minor": 0,
  "metadata": {
    "colab": {
      "name": "Daily code practice",
      "provenance": [],
      "collapsed_sections": [],
      "authorship_tag": "ABX9TyNdQpy1SDzxqdUum+ctXeSq",
      "include_colab_link": true
    },
    "kernelspec": {
      "name": "python3",
      "display_name": "Python 3"
    },
    "language_info": {
      "name": "python"
    }
  },
  "cells": [
    {
      "cell_type": "markdown",
      "metadata": {
        "id": "view-in-github",
        "colab_type": "text"
      },
      "source": [
        "<a href=\"https://colab.research.google.com/github/MANISH-KUMAR-CODES/Daily-code-practice/blob/main/Daily_code_practice.ipynb\" target=\"_parent\"><img src=\"https://colab.research.google.com/assets/colab-badge.svg\" alt=\"Open In Colab\"/></a>"
      ]
    },
    {
      "cell_type": "markdown",
      "source": [
        "## **In this notebook i will daily practice some codes. so  i never forget how to code and make myself strong in codings**"
      ],
      "metadata": {
        "id": "ojZlx7z4dul_"
      }
    },
    {
      "cell_type": "markdown",
      "source": [
        "## practice on one hot encoding using python"
      ],
      "metadata": {
        "id": "88xkaoP4ePEX"
      }
    },
    {
      "cell_type": "code",
      "source": [
        "import pandas as pd"
      ],
      "metadata": {
        "id": "FDkuS7haeGQq"
      },
      "execution_count": 1,
      "outputs": []
    },
    {
      "cell_type": "code",
      "source": [
        "df= pd.DataFrame({'Team' :[\"A\",\"A\",\"B\",\"B\",\"B\",\"B\",\"C\",\"C\",\"C\"],\n",
        "                    'points':[25,12,15,14,19,23,25,29,30]})\n",
        "#view DataFrame\n",
        "print(df)"
      ],
      "metadata": {
        "colab": {
          "base_uri": "https://localhost:8080/"
        },
        "id": "k4C62rcdech0",
        "outputId": "a0da7041-c328-47b9-b6ab-5a44f644b282"
      },
      "execution_count": 8,
      "outputs": [
        {
          "output_type": "stream",
          "name": "stdout",
          "text": [
            "  Team  points\n",
            "0    A      25\n",
            "1    A      12\n",
            "2    B      15\n",
            "3    B      14\n",
            "4    B      19\n",
            "5    B      23\n",
            "6    C      25\n",
            "7    C      29\n",
            "8    C      30\n"
          ]
        }
      ]
    },
    {
      "cell_type": "code",
      "source": [
        "from sklearn.preprocessing import OneHotEncoder\n",
        "#creating instance of one-hot-encoder\n",
        "Encoder = OneHotEncoder(handle_unknown = 'ignore')\n",
        "\n",
        "#perform one-hot encoding on 'team' column \n",
        "encoder_df = pd.DataFrame(Encoder.fit_transform(df[['Team']]).toarray()) # in fir transform we have to put a dataframe only ,we cannot put a series \n",
        "\n",
        "#merge one-hot encoded columns back with original DataFrame\n",
        "final_df = df.join(encoder_df)\n",
        "\n",
        "#view final df\n",
        "print(final_df)\n",
        "\n",
        "#drop 'team' column\n",
        "final_df.drop('Team',axis = 1,inplace = True)\n",
        "\n",
        "#view final df\n",
        "print(final_df)\n",
        "\n",
        "final_df.columns = ['points','TeamA','TeamB','TeamC']"
      ],
      "metadata": {
        "colab": {
          "base_uri": "https://localhost:8080/"
        },
        "id": "K6yvAZIxfdBO",
        "outputId": "522f266e-a79c-4c75-d864-af0376fbca9d"
      },
      "execution_count": 39,
      "outputs": [
        {
          "output_type": "stream",
          "name": "stdout",
          "text": [
            "  Team  points    0    1    2\n",
            "0    A      25  1.0  0.0  0.0\n",
            "1    A      12  1.0  0.0  0.0\n",
            "2    B      15  0.0  1.0  0.0\n",
            "3    B      14  0.0  1.0  0.0\n",
            "4    B      19  0.0  1.0  0.0\n",
            "5    B      23  0.0  1.0  0.0\n",
            "6    C      25  0.0  0.0  1.0\n",
            "7    C      29  0.0  0.0  1.0\n",
            "8    C      30  0.0  0.0  1.0\n",
            "   points    0    1    2\n",
            "0      25  1.0  0.0  0.0\n",
            "1      12  1.0  0.0  0.0\n",
            "2      15  0.0  1.0  0.0\n",
            "3      14  0.0  1.0  0.0\n",
            "4      19  0.0  1.0  0.0\n",
            "5      23  0.0  1.0  0.0\n",
            "6      25  0.0  0.0  1.0\n",
            "7      29  0.0  0.0  1.0\n",
            "8      30  0.0  0.0  1.0\n"
          ]
        }
      ]
    },
    {
      "cell_type": "code",
      "source": [
        "#view final df\n",
        "print(final_df)"
      ],
      "metadata": {
        "colab": {
          "base_uri": "https://localhost:8080/"
        },
        "id": "QLG6s-D2jvce",
        "outputId": "cf806627-d19a-4f25-cca5-aa391078b8be"
      },
      "execution_count": 37,
      "outputs": [
        {
          "output_type": "stream",
          "name": "stdout",
          "text": [
            "   points  TeamA  TeamB  TeamC\n",
            "0      25    1.0    0.0    0.0\n",
            "1      12    1.0    0.0    0.0\n",
            "2      15    0.0    1.0    0.0\n",
            "3      14    0.0    1.0    0.0\n",
            "4      19    0.0    1.0    0.0\n",
            "5      23    0.0    1.0    0.0\n",
            "6      25    0.0    0.0    1.0\n",
            "7      29    0.0    0.0    1.0\n",
            "8      30    0.0    0.0    1.0\n"
          ]
        }
      ]
    },
    {
      "cell_type": "code",
      "source": [
        "Encoder.fit_transform(df[['Team']]).toarray()"
      ],
      "metadata": {
        "colab": {
          "base_uri": "https://localhost:8080/"
        },
        "id": "Qnzh8pAjhtvo",
        "outputId": "64614bf8-7509-4056-ddb3-2fe7c96bf330"
      },
      "execution_count": 29,
      "outputs": [
        {
          "output_type": "execute_result",
          "data": {
            "text/plain": [
              "array([[1., 0., 0.],\n",
              "       [1., 0., 0.],\n",
              "       [0., 1., 0.],\n",
              "       [0., 1., 0.],\n",
              "       [0., 1., 0.],\n",
              "       [0., 1., 0.],\n",
              "       [0., 0., 1.],\n",
              "       [0., 0., 1.],\n",
              "       [0., 0., 1.]])"
            ]
          },
          "metadata": {},
          "execution_count": 29
        }
      ]
    },
    {
      "cell_type": "markdown",
      "source": [
        "### **using split function of python**"
      ],
      "metadata": {
        "id": "34u5FHBNbBZr"
      }
    },
    {
      "cell_type": "code",
      "source": [
        "x,y = input('Enter two Inputs:').split(\",\")\n",
        "print(\"Number of boys:\",x)\n",
        "print(\"Number of girls:\", y)"
      ],
      "metadata": {
        "colab": {
          "base_uri": "https://localhost:8080/"
        },
        "id": "BLeo0iJFbLJn",
        "outputId": "a329612e-7b14-4427-81b0-f5676aa7b3ed"
      },
      "execution_count": 5,
      "outputs": [
        {
          "output_type": "stream",
          "name": "stdout",
          "text": [
            "Enter two Inputs:45,67\n",
            "Number of boys: 45\n",
            "Number of girls: 67\n"
          ]
        }
      ]
    },
    {
      "cell_type": "code",
      "source": [
        "x,y,z = input(\"Taking three inputs:\").split(\",\")\n",
        "print(\"No. of boys:\",(x))\n",
        "print(\"No. of girls\",(y))\n",
        "print(\"No. of teachers:\",(z))\n",
        "print(\"No. of students in total:\",x+y+z)"
      ],
      "metadata": {
        "colab": {
          "base_uri": "https://localhost:8080/"
        },
        "id": "vx76vt1abT0n",
        "outputId": "9703cb6f-a0df-4b45-c1a4-9e63d3f2a431"
      },
      "execution_count": 16,
      "outputs": [
        {
          "output_type": "stream",
          "name": "stdout",
          "text": [
            "Taking three inputs:444,555,66\n",
            "No. of boys: 444\n",
            "No. of girls 555\n",
            "No. of teachers: 66\n",
            "No. of students in total: 44455566\n"
          ]
        }
      ]
    },
    {
      "cell_type": "code",
      "source": [
        "a,b = input(\"The two numbers are:\").split(',')\n",
        "print(\"First number is {} and second number is {}\".format(a,b))"
      ],
      "metadata": {
        "colab": {
          "base_uri": "https://localhost:8080/"
        },
        "id": "wuWme_GYeJQl",
        "outputId": "ada22306-a66d-4ed1-cc4f-a562483385c6"
      },
      "execution_count": 18,
      "outputs": [
        {
          "output_type": "stream",
          "name": "stdout",
          "text": [
            "The two numbers are:45,56\n",
            "First number is 45 and second number is 56\n"
          ]
        }
      ]
    },
    {
      "cell_type": "code",
      "source": [
        "# taking multiple inputs at a time \n",
        "# and type casting using list() function\n",
        "x = list(map(int,input(\"multiple inputs:\").split(',')))\n",
        "print(\"list of multiple inputs are:\",x)"
      ],
      "metadata": {
        "colab": {
          "base_uri": "https://localhost:8080/"
        },
        "id": "W2a8_0tZg8Hg",
        "outputId": "03527908-cf45-4c08-f825-9e872bd4beb9"
      },
      "execution_count": 23,
      "outputs": [
        {
          "output_type": "stream",
          "name": "stdout",
          "text": [
            "multiple inputs:46,235,35,35,34,23\n",
            "list of multiple inputs are: [46, 235, 35, 35, 34, 23]\n"
          ]
        }
      ]
    },
    {
      "cell_type": "code",
      "source": [
        "print(\"Geeks of Geeks \\n is the best for Dsa content\")\n",
        "print(\"Geeks of geeks \\n is the best for DSA\", end = '**')\n",
        "print('Geeks of geeks is the best')"
      ],
      "metadata": {
        "colab": {
          "base_uri": "https://localhost:8080/"
        },
        "id": "SZrXDxs5iaYc",
        "outputId": "c3c05a71-1f08-4d34-f540-60d94316655e"
      },
      "execution_count": 25,
      "outputs": [
        {
          "output_type": "stream",
          "name": "stdout",
          "text": [
            "Geeks of Geeks \n",
            " is the best for Dsa content\n",
            "Geeks of geeks \n",
            " is the best for DSA**Geeks of geeks is the best\n"
          ]
        }
      ]
    },
    {
      "cell_type": "markdown",
      "source": [
        "### **code to print in same line**"
      ],
      "metadata": {
        "id": "JAM3z-NNka-r"
      }
    },
    {
      "cell_type": "code",
      "source": [
        "print('Geeks',end = ' ')\n",
        "print(\"GeeksofGeeks\")"
      ],
      "metadata": {
        "colab": {
          "base_uri": "https://localhost:8080/"
        },
        "id": "Bzg-_w0QkaSv",
        "outputId": "45fe293e-bdcc-4752-e788-aa1547edfca9"
      },
      "execution_count": 27,
      "outputs": [
        {
          "output_type": "stream",
          "name": "stdout",
          "text": [
            "Geeks GeeksofGeeks\n"
          ]
        }
      ]
    },
    {
      "cell_type": "code",
      "source": [
        "a= [1,2,3,4,5]\n",
        "for i in range(5):\n",
        "   print(a[i],end =' ')"
      ],
      "metadata": {
        "colab": {
          "base_uri": "https://localhost:8080/"
        },
        "id": "JnFtcStMksRv",
        "outputId": "9beed354-798c-4278-f09b-4f5fe1532a1b"
      },
      "execution_count": 31,
      "outputs": [
        {
          "output_type": "stream",
          "name": "stdout",
          "text": [
            "1 2 3 4 5 "
          ]
        }
      ]
    },
    {
      "cell_type": "code",
      "source": [
        "l = [1,2,3,45,6,7]\n",
        "print(*l)"
      ],
      "metadata": {
        "colab": {
          "base_uri": "https://localhost:8080/"
        },
        "id": "CrT_6k2hljpE",
        "outputId": "508ac29b-f35e-44e4-c7ef-d81a422766c6"
      },
      "execution_count": 36,
      "outputs": [
        {
          "output_type": "stream",
          "name": "stdout",
          "text": [
            "1 2 3 45 6 7\n"
          ]
        }
      ]
    },
    {
      "cell_type": "code",
      "source": [
        "print('Red',\"Blue\",\"Green\", sep = \",\",end = '@')\n",
        "print('GeeksforGeeks')"
      ],
      "metadata": {
        "colab": {
          "base_uri": "https://localhost:8080/"
        },
        "id": "Zatt3AnrmmU1",
        "outputId": "8443191f-043b-44e9-af0d-d3d61290eab9"
      },
      "execution_count": 39,
      "outputs": [
        {
          "output_type": "stream",
          "name": "stdout",
          "text": [
            "Red,Blue,Green@GeeksforGeeks\n"
          ]
        }
      ]
    },
    {
      "cell_type": "code",
      "source": [
        "# using format() method with number\n",
        "print(\"Geeks :{0:2d}, Portal :{1:8.2f}\".\n",
        "      format(1200, 555.546))"
      ],
      "metadata": {
        "colab": {
          "base_uri": "https://localhost:8080/"
        },
        "id": "M9ZtePZ0pWxA",
        "outputId": "2cf5ed7c-233d-4b09-c215-e22f476b8502"
      },
      "execution_count": 47,
      "outputs": [
        {
          "output_type": "stream",
          "name": "stdout",
          "text": [
            "Geeks :1200, Portal :  555.55\n"
          ]
        }
      ]
    },
    {
      "cell_type": "code",
      "source": [
        "tab = {'geeks': 4127, 'for': 4098, 'geek': 8637678}\n",
        "\n",
        "print('Geeks: {0[geeks]:2d}; For: {0[for]:d}; '\n",
        "    'Geeks: {0[geek]:d}'.format(tab))"
      ],
      "metadata": {
        "colab": {
          "base_uri": "https://localhost:8080/"
        },
        "id": "kcN-1G7Jq2bB",
        "outputId": "b2d6a491-c1b1-40d4-9ef6-0659e91c9a42"
      },
      "execution_count": 51,
      "outputs": [
        {
          "output_type": "stream",
          "name": "stdout",
          "text": [
            "Geeks: 4127; For: 4098; Geeks: 8637678\n"
          ]
        }
      ]
    },
    {
      "cell_type": "code",
      "source": [
        "data = dict(fun =\"GeeksForGeeks\", adj =\"Portal\")\n",
        " \n",
        "# using format() in dictionary\n",
        "print(\"I love {fun} computer {adj}\".format(**data))"
      ],
      "metadata": {
        "colab": {
          "base_uri": "https://localhost:8080/"
        },
        "id": "kd5UsErprQKz",
        "outputId": "acc8c5c1-ec4f-4105-db65-cd00c0ea2846"
      },
      "execution_count": 55,
      "outputs": [
        {
          "output_type": "stream",
          "name": "stdout",
          "text": [
            "I love GeeksForGeeks computer Portal\n"
          ]
        }
      ]
    },
    {
      "cell_type": "code",
      "source": [
        "cstr = \"I love geeksforgeeks\"\n",
        "print(\"Centre alingned\")\n",
        "print(cstr.center(40,\"*\"))\n",
        "#left alingned\n",
        "print(cstr.ljust(40,'*'))\n",
        "#right alinged\n",
        "print(cstr.rjust(40,\"*\"))"
      ],
      "metadata": {
        "colab": {
          "base_uri": "https://localhost:8080/"
        },
        "id": "SzW_riON6vum",
        "outputId": "9d676c8b-ceee-422c-e624-eb3d4aa95e97"
      },
      "execution_count": 64,
      "outputs": [
        {
          "output_type": "stream",
          "name": "stdout",
          "text": [
            "Centre alingned\n",
            "**********I love geeksforgeeks**********\n",
            "I love geeksforgeeks********************\n",
            "********************I love geeksforgeeks\n"
          ]
        }
      ]
    },
    {
      "cell_type": "code",
      "source": [
        "# Examples of Bitwise operators\n",
        "a = 10\n",
        "b = 4\n",
        " \n",
        "# Print bitwise AND operation\n",
        "print(a & b)\n",
        " \n",
        "# Print bitwise OR operation\n",
        "print(a | b)\n",
        " \n",
        "# Print bitwise NOT operation\n",
        "print(~a)\n",
        " \n",
        "# print bitwise XOR operation\n",
        "print(a ^ b)\n",
        " \n",
        "# print bitwise right shift operation\n",
        "print(a >> 2)\n",
        " \n",
        "# print bitwise left shift operation\n",
        "print(a << 2)"
      ],
      "metadata": {
        "colab": {
          "base_uri": "https://localhost:8080/"
        },
        "id": "EMptYEsm-cCj",
        "outputId": "2c5e47f9-6cf5-420d-89ee-9faeabf17949"
      },
      "execution_count": 65,
      "outputs": [
        {
          "output_type": "stream",
          "name": "stdout",
          "text": [
            "0\n",
            "14\n",
            "-11\n",
            "14\n",
            "2\n",
            "40\n"
          ]
        }
      ]
    },
    {
      "cell_type": "code",
      "source": [
        "a ,b= 10, 20\n",
        "if a >b :\n",
        "  print(\"a is greater than b\")\n",
        "else:\n",
        "    print(\" b is greater than a\")"
      ],
      "metadata": {
        "colab": {
          "base_uri": "https://localhost:8080/"
        },
        "id": "-lkC_drqHgz4",
        "outputId": "d80ece51-1845-4418-e429-4b47b595f290"
      },
      "execution_count": 2,
      "outputs": [
        {
          "output_type": "stream",
          "name": "stdout",
          "text": [
            " b is greater than a\n"
          ]
        }
      ]
    },
    {
      "cell_type": "code",
      "source": [
        "print(a,\" is greater than b\")if (a>b) else print(b,\" is greater\")"
      ],
      "metadata": {
        "colab": {
          "base_uri": "https://localhost:8080/"
        },
        "id": "cdM6-e8XILhL",
        "outputId": "2f40b939-3de7-42ea-e78b-18000069f28f"
      },
      "execution_count": 5,
      "outputs": [
        {
          "output_type": "stream",
          "name": "stdout",
          "text": [
            "20  is greater\n"
          ]
        }
      ]
    },
    {
      "cell_type": "code",
      "source": [
        "print(1 + 2 + 5)\n",
        " \n",
        "# concatenate two strings\n",
        "print(\"Geeks\"+\"For\"+ \"Geeks\")\n",
        " \n",
        "# Product two numbers\n",
        "print(3 * 4 * 9)\n",
        " \n",
        "# Repeat the String\n",
        "print(\"Geeks\"*4+5*\"for\")"
      ],
      "metadata": {
        "colab": {
          "base_uri": "https://localhost:8080/"
        },
        "id": "yHMigYq-JgsL",
        "outputId": "cbb20fce-0017-40e2-c2a2-9522839b95e9"
      },
      "execution_count": 6,
      "outputs": [
        {
          "output_type": "stream",
          "name": "stdout",
          "text": [
            "8\n",
            "GeeksForGeeks\n",
            "108\n",
            "GeeksGeeksGeeksGeeksforforforforfor\n"
          ]
        }
      ]
    },
    {
      "cell_type": "code",
      "source": [
        "## to overload an binary + operator\n",
        "class A:\n",
        "     def __init__(self,a,b):\n",
        "        self.a = a\n",
        "        self.b = b\n",
        "\n",
        "     def __add__(self , o):\n",
        "        self.o = o\n",
        "        return self.a + o.a   "
      ],
      "metadata": {
        "id": "i-o9l8G5J2Gs"
      },
      "execution_count": 29,
      "outputs": []
    },
    {
      "cell_type": "code",
      "source": [
        "obj1 = A(1,5)\n",
        "obj2 = A(2,4)\n",
        "print(obj1 + obj2)"
      ],
      "metadata": {
        "colab": {
          "base_uri": "https://localhost:8080/"
        },
        "id": "80ubhP3yTmtc",
        "outputId": "22ae0022-9097-4ce7-f74c-edd291593fe9"
      },
      "execution_count": 30,
      "outputs": [
        {
          "output_type": "stream",
          "name": "stdout",
          "text": [
            "3\n"
          ]
        }
      ]
    },
    {
      "cell_type": "code",
      "source": [
        "\n",
        "# A Sample class with init method\n",
        "class Person:\n",
        "   \n",
        "    # init method or constructor \n",
        "    def __init__(self, name,age):\n",
        "        self.age = age\n",
        "        self.name = name\n",
        "   \n",
        "    # Sample Method \n",
        "    def say_hi(self):\n",
        "        print('Hello, my name is {},and my age is {}'.format(self.name,self.age))"
      ],
      "metadata": {
        "id": "DRGJVUOvaIIl"
      },
      "execution_count": 36,
      "outputs": []
    },
    {
      "cell_type": "code",
      "source": [
        "p = Person('Nikhil',35)\n",
        "p.say_hi()"
      ],
      "metadata": {
        "colab": {
          "base_uri": "https://localhost:8080/"
        },
        "id": "TScJ3G_Gaoxo",
        "outputId": "01ae63d5-22b1-4502-c8f6-c7597315619c"
      },
      "execution_count": 37,
      "outputs": [
        {
          "output_type": "stream",
          "name": "stdout",
          "text": [
            "Hello, my name is Nikhil,and my age is 35\n"
          ]
        }
      ]
    },
    {
      "cell_type": "code",
      "source": [
        "class Dog:\n",
        "     animal = \"dog\"\n",
        "     def __init__(self,breed,color):\n",
        "        self.breed = breed\n",
        "        self.color = color\n",
        "\n",
        "     def setcolor(self,color):\n",
        "         self.color = color\n",
        "\n",
        "     def getcolor(self):\n",
        "         return self.color       \n",
        "\n",
        "     print(Dog.animal)  ##Class variables can be accessed using class"
      ],
      "metadata": {
        "colab": {
          "base_uri": "https://localhost:8080/"
        },
        "id": "VJg3EnqVJyxw",
        "outputId": "405f2100-8769-495c-f4ef-005c53c4aad4"
      },
      "execution_count": 14,
      "outputs": [
        {
          "output_type": "stream",
          "name": "stdout",
          "text": [
            "dog\n"
          ]
        }
      ]
    },
    {
      "cell_type": "code",
      "source": [
        "# Objects of Dog class\n",
        "Rodger = Dog(\"Pug\", \"brown\")\n",
        "Buzo = Dog(\"Bulldog\", \"black\")"
      ],
      "metadata": {
        "id": "n1NsrPq5Khq1"
      },
      "execution_count": 6,
      "outputs": []
    },
    {
      "cell_type": "code",
      "source": [
        "print(\"Rodger details:\")\n",
        "print(\"Rodger class:\",Rodger.animal)\n",
        "print(\"Rodger breed:\",Rodger.breed)\n",
        "print(\"Rodger color:\",Rodger.color)"
      ],
      "metadata": {
        "colab": {
          "base_uri": "https://localhost:8080/"
        },
        "id": "gD3g5srNKpWX",
        "outputId": "67f4e8d5-54af-4922-d9e6-8aee37264395"
      },
      "execution_count": 7,
      "outputs": [
        {
          "output_type": "stream",
          "name": "stdout",
          "text": [
            "Rodger details:\n",
            "Rodger class: dog\n",
            "Rodger breed: Pug\n",
            "Rodger color: brown\n"
          ]
        }
      ]
    },
    {
      "cell_type": "code",
      "source": [
        "print(\"Buzo details:\")\n",
        "print(\"Buzo class:\",Buzo.animal)\n",
        "print(\"Buzo breed:\",Buzo.breed)\n",
        "print(\"Buzo color:\",Buzo.color)"
      ],
      "metadata": {
        "colab": {
          "base_uri": "https://localhost:8080/"
        },
        "id": "i3JkCISXLdp9",
        "outputId": "29ba5363-c6ef-4e15-a749-9abf39ac9ffb"
      },
      "execution_count": 8,
      "outputs": [
        {
          "output_type": "stream",
          "name": "stdout",
          "text": [
            "Buzo details:\n",
            "Buzo class: dog\n",
            "Buzo breed: Bulldog\n",
            "Buzo color: black\n"
          ]
        }
      ]
    },
    {
      "cell_type": "code",
      "source": [
        "Rodger = Dog('Pug','yellow')\n",
        "Rodger.setcolor(\"green\")\n",
        "print(Rodger.getcolor())"
      ],
      "metadata": {
        "colab": {
          "base_uri": "https://localhost:8080/"
        },
        "id": "UitS4DRbNCeF",
        "outputId": "40d854ae-a2d7-4f0c-fe84-88adc603c31f"
      },
      "execution_count": 16,
      "outputs": [
        {
          "output_type": "stream",
          "name": "stdout",
          "text": [
            "green\n"
          ]
        }
      ]
    },
    {
      "cell_type": "code",
      "source": [
        "class GeekForGeeks:\n",
        "      def __init__(self):\n",
        "         self.geek = \"GeekForGeeks\"\n",
        "\n",
        "      def printGeek(self):\n",
        "          return print(self.geek)"
      ],
      "metadata": {
        "id": "fXeXhy-JaZdD"
      },
      "execution_count": 18,
      "outputs": []
    },
    {
      "cell_type": "code",
      "source": [
        "obj = GeekForGeeks()\n",
        "obj.printGeek()"
      ],
      "metadata": {
        "colab": {
          "base_uri": "https://localhost:8080/"
        },
        "id": "NCUzvhYtb7z6",
        "outputId": "d58b8b32-f081-45d2-cb22-3cb1681016b8"
      },
      "execution_count": 19,
      "outputs": [
        {
          "output_type": "stream",
          "name": "stdout",
          "text": [
            "GeekForGeeks\n"
          ]
        }
      ]
    },
    {
      "cell_type": "code",
      "source": [
        "class Addition:\n",
        "      first = 0\n",
        "      second = 0\n",
        "      answer = 0\n",
        "      def __init__(self,f,s):\n",
        "          self.first = f\n",
        "          self.second = s\n",
        "           \n",
        "      def display(self):\n",
        "        print(\"First number = \" + str(self.first))\n",
        "        print(\"Second number = \" + str(self.second))\n",
        "        print(\"Addition of two numbers = \" + str(self.answer))     \n",
        "\n",
        "      def calculate(self):\n",
        "          self.answer = (self.first + self.second )\n",
        "          return print(\"The answer is:\",self.answer)  \n"
      ],
      "metadata": {
        "id": "Qc6w0UeUd9zE"
      },
      "execution_count": 29,
      "outputs": []
    },
    {
      "cell_type": "code",
      "source": [
        "obj = Addition(19,56)\n",
        "obj.calculate()\n",
        "obj.display()"
      ],
      "metadata": {
        "colab": {
          "base_uri": "https://localhost:8080/"
        },
        "id": "siXRHHIzfCvP",
        "outputId": "17bd1aae-faf2-4ff6-bb24-1ccd97467272"
      },
      "execution_count": 30,
      "outputs": [
        {
          "output_type": "stream",
          "name": "stdout",
          "text": [
            "The answer is: 75\n",
            "First number = 19\n",
            "Second number = 56\n",
            "Addition of two numbers = 75\n"
          ]
        }
      ]
    },
    {
      "cell_type": "markdown",
      "source": [
        "## **Inheritance in python oops**"
      ],
      "metadata": {
        "id": "X1AESi1gQ2LI"
      }
    },
    {
      "cell_type": "code",
      "source": [
        "class person(object):\n",
        "      def __init__(self,name):\n",
        "         self.name = name\n",
        "\n",
        "      def getname(self):\n",
        "          return self.name  \n",
        "\n",
        "      def isemployee(self):\n",
        "          return False  \n",
        "\n",
        "class employee(person):\n",
        "     def isemployee(self):\n",
        "        return True             "
      ],
      "metadata": {
        "id": "m-xhcJzJREEV"
      },
      "execution_count": 7,
      "outputs": []
    },
    {
      "cell_type": "code",
      "source": [
        "obj = person(\"mahesh\")\n",
        "print(obj.getname(),obj.isemployee())\n",
        "obj = employee(\"bupesh\")\n",
        "print(obj.getname(),obj.isemployee())"
      ],
      "metadata": {
        "colab": {
          "base_uri": "https://localhost:8080/"
        },
        "id": "WdOYtiJ3R3SW",
        "outputId": "3a53afff-dff4-40a3-dc5c-f7130e98f00c"
      },
      "execution_count": 9,
      "outputs": [
        {
          "output_type": "stream",
          "name": "stdout",
          "text": [
            "mahesh False\n",
            "bupesh True\n"
          ]
        }
      ]
    },
    {
      "cell_type": "code",
      "source": [
        "class person(object):\n",
        "    def __init__(self,name,person_id):\n",
        "        self.name = name \n",
        "        self.person_id = person_id\n",
        "\n",
        "    def display(self):\n",
        "        print(self.name,self.person_id,self.salary,self.department)    \n",
        "\n",
        "class employee(person):\n",
        "      def __init__(self,name,person_id,salary,department):\n",
        "          self.salary = salary\n",
        "          self.department= department\n",
        "\n",
        "          person.__init__(self,name,person_id)\n",
        "            "
      ],
      "metadata": {
        "id": "Xa3U3fFMUb7g"
      },
      "execution_count": 15,
      "outputs": []
    },
    {
      "cell_type": "code",
      "source": [
        "a = employee(\"mahesh\",23,300000,\"health\")\n",
        "a.display()"
      ],
      "metadata": {
        "colab": {
          "base_uri": "https://localhost:8080/"
        },
        "id": "a2WMTXsAVncX",
        "outputId": "5d473bad-6e5d-422f-d4dc-a16ed7d3c350"
      },
      "execution_count": 16,
      "outputs": [
        {
          "output_type": "stream",
          "name": "stdout",
          "text": [
            "mahesh 23 300000 health\n"
          ]
        }
      ]
    },
    {
      "cell_type": "code",
      "source": [
        "class base1():\n",
        "     def __init__(self):\n",
        "        self.str1 = \"geek1\"\n",
        "        self.str3 = \"For\"\n",
        "        print(\"base1\")\n",
        "class base2():\n",
        "     def __init__(self):\n",
        "        self.str2 = \"geek2\"\n",
        "        print(\"base2\")\n",
        "\n",
        "class derived(base1,base2):\n",
        "      def __init__(self):\n",
        "          base1.__init__(self)\n",
        "          base2.__init__(self)\n",
        "          print(\"derived\")\n",
        "\n",
        "      def printstrs(self):\n",
        "          print(self.str1,self.str3,self.str2)    "
      ],
      "metadata": {
        "id": "HHqJ05uFZ2bL"
      },
      "execution_count": 23,
      "outputs": []
    },
    {
      "cell_type": "code",
      "source": [
        "obj = derived()\n",
        "obj.printstrs()"
      ],
      "metadata": {
        "colab": {
          "base_uri": "https://localhost:8080/"
        },
        "id": "myNF24clbTZs",
        "outputId": "032c4d74-5541-48d6-ff4c-bf338c2f3769"
      },
      "execution_count": 24,
      "outputs": [
        {
          "output_type": "stream",
          "name": "stdout",
          "text": [
            "base1\n",
            "base2\n",
            "derived\n",
            "geek1 For geek2\n"
          ]
        }
      ]
    },
    {
      "cell_type": "code",
      "source": [
        "class base(object):\n",
        "     def __init__(self,name):\n",
        "         self.name = name\n",
        "\n",
        "     def getname(self):\n",
        "         return self.name\n",
        "\n",
        "class child(base):\n",
        "     def __init__(self,name,age):\n",
        "       self.age = age\n",
        "       base.__init__(self,name)\n",
        "\n",
        "     def getage(self):\n",
        "         return self.age\n",
        "\n",
        "class grandchild(child):\n",
        "     def __init__(self,name,age,address):\n",
        "        self.address = address\n",
        "        child.__init__(self,name,age) \n",
        "\n",
        "     def getaddress(self):\n",
        "         return self.address\n"
      ],
      "metadata": {
        "id": "lMR2qLQ_badm"
      },
      "execution_count": 29,
      "outputs": []
    },
    {
      "cell_type": "code",
      "source": [
        "a = grandchild(\"mojhan\",23,\"bhagalpur\")\n",
        "print(a.getname(),a.getage(),a.getaddress())"
      ],
      "metadata": {
        "colab": {
          "base_uri": "https://localhost:8080/"
        },
        "id": "llDb3btse88M",
        "outputId": "0f3022fd-22db-45f4-dd60-615a3315299c"
      },
      "execution_count": 30,
      "outputs": [
        {
          "output_type": "stream",
          "name": "stdout",
          "text": [
            "mojhan 23 bhagalpur\n"
          ]
        }
      ]
    },
    {
      "cell_type": "code",
      "source": [
        "class Child1:\n",
        "    def __init__(self, name):\n",
        "        self.name = name\n",
        "    def getName(self):\n",
        "        return self.name\n",
        "    def isStudent(self):\n",
        "        return False\n",
        "\n",
        "class Student1(Child1):\n",
        "    def isStudent(self):\n",
        "        return True"
      ],
      "metadata": {
        "id": "fDvzEXQFjxLJ"
      },
      "execution_count": 50,
      "outputs": []
    },
    {
      "cell_type": "code",
      "source": [
        "a = Child1(\"mohan\")\n",
        "print(a.getName(),a.isStudent())\n",
        "a = Student1('Rakesh')\n",
        "print(a.getName(),a.isStudent())"
      ],
      "metadata": {
        "colab": {
          "base_uri": "https://localhost:8080/"
        },
        "id": "7icld3Jvj_7t",
        "outputId": "1708e79c-5490-4c95-9698-ac64f3a4fc89"
      },
      "execution_count": 56,
      "outputs": [
        {
          "output_type": "stream",
          "name": "stdout",
          "text": [
            "mohan False\n",
            "Rakesh True\n"
          ]
        }
      ]
    },
    {
      "cell_type": "code",
      "source": [
        "class mother:\n",
        "      mothername = \"\"\n",
        "      def mother(self):\n",
        "         print(self.mothername)\n",
        "\n",
        "class father:\n",
        "      fathername = \"\"\n",
        "      def father(self):\n",
        "         print(self.fathername)\n",
        "\n",
        "class child(mother,father):\n",
        "      def parents(self):\n",
        "          print(\"Father :\", self.fathername)\n",
        "          print(\"Mother :\", self.mothername)\n",
        "       "
      ],
      "metadata": {
        "id": "DiSb22JXmfbt"
      },
      "execution_count": 72,
      "outputs": []
    },
    {
      "cell_type": "code",
      "source": [
        "a = child()\n",
        "a.fathername = \"Ram\"\n",
        "a.mothername = \"sita\"\n",
        "a.parents()"
      ],
      "metadata": {
        "colab": {
          "base_uri": "https://localhost:8080/"
        },
        "id": "H1cvBuRPnynF",
        "outputId": "2e203eb8-7718-490d-803c-ad185e9a131c"
      },
      "execution_count": 74,
      "outputs": [
        {
          "output_type": "stream",
          "name": "stdout",
          "text": [
            "Father : Ram\n",
            "Mother : sita\n"
          ]
        }
      ]
    },
    {
      "cell_type": "code",
      "source": [
        "class Grandfather:\n",
        " \n",
        "    def __init__(self, grandfathername):\n",
        "        self.grandfathername = grandfathername\n",
        " \n",
        "# Intermediate class\n",
        "class Father(Grandfather):\n",
        "    def __init__(self, fathername, grandfathername):\n",
        "        self.fathername = fathername\n",
        " \n",
        "        # invoking constructor of Grandfather class\n",
        "        Grandfather.__init__(self, grandfathername)\n",
        " \n",
        "# Derived class\n",
        "class Son(Father):\n",
        "    def __init__(self,sonname, fathername, grandfathername):\n",
        "        self.sonname = sonname\n",
        " \n",
        "        # invoking constructor of Father class\n",
        "        Father.__init__(self, fathername, grandfathername)\n",
        " \n",
        "    def print_name(self):\n",
        "        print('Grandfather name :', self.grandfathername)\n",
        "        print(\"Father name :\", self.fathername)\n",
        "        print(\"Son name :\", self.sonname)"
      ],
      "metadata": {
        "id": "l4ctVRGKqS20"
      },
      "execution_count": 75,
      "outputs": []
    },
    {
      "cell_type": "code",
      "source": [
        "s1 = Son('Prince', 'Rampal', 'Lal mani')\n",
        "print(s1.grandfathername)\n",
        "s1.print_name()"
      ],
      "metadata": {
        "colab": {
          "base_uri": "https://localhost:8080/"
        },
        "id": "R7kNJbLsqegp",
        "outputId": "9f797fa9-4d0a-45e1-addb-c44edcca9af1"
      },
      "execution_count": 76,
      "outputs": [
        {
          "output_type": "stream",
          "name": "stdout",
          "text": [
            "Lal mani\n",
            "Grandfather name : Lal mani\n",
            "Father name : Rampal\n",
            "Son name : Prince\n"
          ]
        }
      ]
    },
    {
      "cell_type": "code",
      "source": [
        "class India():\n",
        "    def capital(self):\n",
        "        print(\"New Delhi is the capital of India.\")\n",
        " \n",
        "    def language(self):\n",
        "        print(\"Hindi is the most widely spoken language of India.\")\n",
        " \n",
        "    def type(self):\n",
        "        print(\"India is a developing country.\")\n",
        " \n",
        "class USA():\n",
        "    def capital(self):\n",
        "        print(\"Washington, D.C. is the capital of USA.\")\n",
        " \n",
        "    def language(self):\n",
        "        print(\"English is the primary language of USA.\")\n",
        " \n",
        "    def type(self):\n",
        "        print(\"USA is a developed country.\")"
      ],
      "metadata": {
        "id": "tLkcFqTOQ3t5"
      },
      "execution_count": 1,
      "outputs": []
    },
    {
      "cell_type": "code",
      "source": [
        "obj_ind = India()\n",
        "obj_usa = USA()\n",
        "for country in (obj_ind, obj_usa):\n",
        "    country.capital()\n",
        "    country.language()\n",
        "    country.type()"
      ],
      "metadata": {
        "colab": {
          "base_uri": "https://localhost:8080/"
        },
        "id": "m0Hwzo_iRAOO",
        "outputId": "a7483159-d94f-4b65-e051-a179a15bfa8e"
      },
      "execution_count": 2,
      "outputs": [
        {
          "output_type": "stream",
          "name": "stdout",
          "text": [
            "New Delhi is the capital of India.\n",
            "Hindi is the most widely spoken language of India.\n",
            "India is a developing country.\n",
            "Washington, D.C. is the capital of USA.\n",
            "English is the primary language of USA.\n",
            "USA is a developed country.\n"
          ]
        }
      ]
    },
    {
      "cell_type": "code",
      "source": [
        "class bird:\n",
        "     def intro(self):\n",
        "        print(\"there are different types of bird\")\n",
        "         \n",
        "     def flight(self):\n",
        "        print(\" it can fly\")\n",
        "\n",
        "class sparrow(bird):\n",
        "     def flight(self):\n",
        "        print(\"sparrow can fly\")\n",
        "\n",
        "class ostrich(bird):\n",
        "     def flight(self):\n",
        "        print(\"ostrich cannot fly\")             "
      ],
      "metadata": {
        "id": "DzKsKcL2R4N8"
      },
      "execution_count": 3,
      "outputs": []
    },
    {
      "cell_type": "code",
      "source": [
        "obj_bird = bird()\n",
        "obj_bird.intro()\n",
        "obj_bird.flight()\n",
        "\n",
        "obj_sparrow = sparrow()\n",
        "obj_sparrow.intro()\n",
        "obj_sparrow.flight()\n",
        "\n",
        "obj_ostrich = ostrich()\n",
        "obj_ostrich.intro()\n",
        "obj_ostrich.flight()"
      ],
      "metadata": {
        "colab": {
          "base_uri": "https://localhost:8080/"
        },
        "id": "oXDpDMThStzz",
        "outputId": "756d7e47-3cb4-4855-ee5c-8e30855e8015"
      },
      "execution_count": 6,
      "outputs": [
        {
          "output_type": "stream",
          "name": "stdout",
          "text": [
            "there are different types of bird\n",
            " it can fly\n",
            "there are different types of bird\n",
            "sparrow can fly\n",
            "there are different types of bird\n",
            "ostrich cannot fly\n"
          ]
        }
      ]
    },
    {
      "cell_type": "code",
      "source": [
        "class India():\n",
        "    def capital(self):\n",
        "        print(\"New Delhi is the capital of India.\")\n",
        "  \n",
        "    def language(self):\n",
        "        print(\"Hindi is the most widely spoken language of India.\")\n",
        "  \n",
        "    def type(self):\n",
        "        print(\"India is a developing country.\")\n",
        "  \n",
        "class USA():\n",
        "    def capital(self):\n",
        "        print(\"Washington, D.C. is the capital of USA.\")\n",
        "  \n",
        "    def language(self):\n",
        "        print(\"English is the primary language of USA.\")\n",
        "  \n",
        "    def type(self):\n",
        "        print(\"USA is a developed country.\")\n",
        " \n",
        "def func(obj):\n",
        "    obj.capital()\n",
        "    obj.language()\n",
        "    obj.type()\n",
        "  \n",
        "obj_ind = India()\n",
        "obj_usa = USA()\n",
        "  \n",
        "func(obj_ind)\n",
        "func(obj_usa)"
      ],
      "metadata": {
        "colab": {
          "base_uri": "https://localhost:8080/"
        },
        "id": "Y_P_yIEZUC9B",
        "outputId": "812543af-ea22-45c5-9bba-577a09b612ce"
      },
      "execution_count": 7,
      "outputs": [
        {
          "output_type": "stream",
          "name": "stdout",
          "text": [
            "New Delhi is the capital of India.\n",
            "Hindi is the most widely spoken language of India.\n",
            "India is a developing country.\n",
            "Washington, D.C. is the capital of USA.\n",
            "English is the primary language of USA.\n",
            "USA is a developed country.\n"
          ]
        }
      ]
    },
    {
      "cell_type": "code",
      "source": [
        "from datetime import date\n",
        " \n",
        " \n",
        "class Person:\n",
        "    def __init__(self, name, age):\n",
        "        self.name = name\n",
        "        self.age = age\n",
        " \n",
        "    # a class method to create a Person object by birth year.\n",
        "    @classmethod\n",
        "    def fromBirthYear(cls, name, year):\n",
        "        return cls(name, date.today().year - year)\n",
        " \n",
        "    # a static method to check if a Person is adult or not.\n",
        "    @staticmethod\n",
        "    def isAdult(age):\n",
        "        return age > 18\n",
        " \n",
        " \n",
        "person1 = Person('mayank', 21)\n",
        "person2 = Person.fromBirthYear('mayank', 1996)\n",
        " \n",
        "print(person1.age)\n",
        "print(person2.age)\n",
        " \n",
        "# print the result\n",
        "print(Person.isAdult(22))"
      ],
      "metadata": {
        "colab": {
          "base_uri": "https://localhost:8080/"
        },
        "id": "8cSTynRCVtGL",
        "outputId": "df79e819-d78f-4c77-d825-8b810335da12"
      },
      "execution_count": 8,
      "outputs": [
        {
          "output_type": "stream",
          "name": "stdout",
          "text": [
            "21\n",
            "26\n",
            "True\n"
          ]
        }
      ]
    },
    {
      "cell_type": "markdown",
      "source": [
        "### **Try and Except Statement – Catching Exceptions**"
      ],
      "metadata": {
        "id": "wIAXaAl_WXIb"
      }
    },
    {
      "cell_type": "code",
      "source": [
        "def fun(a):\n",
        "    if a < 4:\n",
        " \n",
        "        # throws ZeroDivisionError for a = 3\n",
        "        b = a/(a-3)\n",
        " \n",
        "    # throws NameError if a >= 4\n",
        "    print(\"Value of b = \", b)\n",
        "     \n",
        "try:\n",
        "    fun(3)\n",
        "    fun(5)\n",
        " \n",
        "# note that braces () are necessary here for\n",
        "# multiple exceptions\n",
        "except ZeroDivisionError:\n",
        "    print(\"ZeroDivisionError Occurred and Handled\")\n",
        "except NameError:\n",
        "    print(\"NameError Occurred and Handled\")"
      ],
      "metadata": {
        "colab": {
          "base_uri": "https://localhost:8080/"
        },
        "id": "HMfVVRYBXYxt",
        "outputId": "9194637b-e9a5-4c2f-a0e6-cec2dd48c171"
      },
      "execution_count": 9,
      "outputs": [
        {
          "output_type": "stream",
          "name": "stdout",
          "text": [
            "ZeroDivisionError Occurred and Handled\n"
          ]
        }
      ]
    },
    {
      "cell_type": "code",
      "source": [
        "def AbyB(a , b):\n",
        "    try:\n",
        "        c = ((a+b) / (a-b))\n",
        "    except ZeroDivisionError:\n",
        "        print (\"a/b result in 0\")\n",
        "    else:\n",
        "        print (c)\n",
        " "
      ],
      "metadata": {
        "id": "fh7KShW0X3n0"
      },
      "execution_count": 1,
      "outputs": []
    },
    {
      "cell_type": "code",
      "source": [
        "AbyB(2.0, 3.0)\n",
        "AbyB(3.0, 3.0)"
      ],
      "metadata": {
        "colab": {
          "base_uri": "https://localhost:8080/"
        },
        "id": "QbREocO1YAlT",
        "outputId": "90fa8e3e-76a0-4f1e-a64f-12463654b164"
      },
      "execution_count": 2,
      "outputs": [
        {
          "output_type": "stream",
          "name": "stdout",
          "text": [
            "-5.0\n",
            "a/b result in 0\n"
          ]
        }
      ]
    },
    {
      "cell_type": "code",
      "source": [
        "def division(x, y):\n",
        "    try:\n",
        "         result = x//y\n",
        "         print(\"the answer is:\",result)\n",
        "\n",
        "    except ZeroDivisionError:\n",
        "           print(\"you are diving by zero\")      "
      ],
      "metadata": {
        "id": "KubDtwxUYu0H"
      },
      "execution_count": 3,
      "outputs": []
    },
    {
      "cell_type": "code",
      "source": [
        "division(4,0)"
      ],
      "metadata": {
        "colab": {
          "base_uri": "https://localhost:8080/"
        },
        "id": "PDHNqfbTZjru",
        "outputId": "b4c5c440-a89b-4944-c1fa-d7909ac05ff4"
      },
      "execution_count": 6,
      "outputs": [
        {
          "output_type": "stream",
          "name": "stdout",
          "text": [
            "you are diving by zero\n"
          ]
        }
      ]
    },
    {
      "cell_type": "code",
      "source": [
        " \n",
        "class MyError(Exception):\n",
        " \n",
        "    # Constructor or Initializer\n",
        "    def __init__(self, value):\n",
        "        self.value = value\n",
        " \n",
        "    # __str__ is to print() the value\n",
        "    def __str__(self):\n",
        "        return(repr(self.value))\n",
        " \n",
        " \n",
        "try:\n",
        "    raise(MyError(3*2))\n",
        " \n",
        "# Value of Exception is stored in error\n",
        "except MyError as error:\n",
        "    print('A New Exception occurred: ', error.value)"
      ],
      "metadata": {
        "colab": {
          "base_uri": "https://localhost:8080/"
        },
        "id": "w3qxg3YbaTQa",
        "outputId": "4d1bf9f6-8b9a-4634-eb0d-cf98cdfbaceb"
      },
      "execution_count": 7,
      "outputs": [
        {
          "output_type": "stream",
          "name": "stdout",
          "text": [
            "A New Exception occurred:  6\n"
          ]
        }
      ]
    },
    {
      "cell_type": "code",
      "source": [
        "\n",
        "# define Python user-defined exceptions\n",
        "class Error(Exception):\n",
        "   \"\"\"Base class for other exceptions\"\"\"\n",
        "   pass\n",
        "class zerodivision(Error):\n",
        "   \"\"\"Raised when the input value is zero\"\"\"\n",
        "   pass\n",
        "try:\n",
        "   i_num = int(input(\"Enter a number: \"))\n",
        "   if i_num ==0:\n",
        "      raise zerodivision\n",
        "except zerodivision:\n",
        "   print(\"Input value is zero, try again!\")\n",
        "   print()"
      ],
      "metadata": {
        "colab": {
          "base_uri": "https://localhost:8080/"
        },
        "id": "_dpGMIlIajCy",
        "outputId": "f83859da-dd28-4a24-c2be-fa75f32449f2"
      },
      "execution_count": 9,
      "outputs": [
        {
          "output_type": "stream",
          "name": "stdout",
          "text": [
            "Enter a number: 0\n",
            "Input value is zero, try again!\n",
            "\n"
          ]
        }
      ]
    },
    {
      "cell_type": "code",
      "source": [
        "class Error(Exception):\n",
        "     pass\n",
        " \n",
        "class TransitionError(Error):\n",
        " \n",
        "    def __init__(self, prev, nex, msg):\n",
        "        self.prev = prev\n",
        "        self.next = nex\n",
        " \n",
        "        self.msg = msg\n",
        "try:\n",
        "    raise(TransitionError(2,3*2,\"Not Allowed\"))\n",
        "\n",
        "except TransitionError as error:\n",
        "    print('Exception occurred: ',error.msg)"
      ],
      "metadata": {
        "colab": {
          "base_uri": "https://localhost:8080/"
        },
        "id": "6wzaGkr6bFij",
        "outputId": "c537b74a-d737-434b-a18b-fab5717d8d63"
      },
      "execution_count": 10,
      "outputs": [
        {
          "output_type": "stream",
          "name": "stdout",
          "text": [
            "Exception occurred:  Not Allowed\n"
          ]
        }
      ]
    },
    {
      "cell_type": "markdown",
      "source": [
        "## **Numpy **"
      ],
      "metadata": {
        "id": "zbIyulrBalSI"
      }
    },
    {
      "cell_type": "code",
      "source": [
        "# Python program for\n",
        "# Creation of Arrays\n",
        "import numpy as np\n",
        " \n",
        "# Creating a rank 1 Array\n",
        "arr = np.array([1, 2, 3])\n",
        "print(\"Array with Rank 1: \\n\",arr)\n",
        " \n",
        "# Creating a rank 2 Array\n",
        "arr = np.array([[1, 2, 3],\n",
        "                [4, 5, 6]])\n",
        "print(\"Array with Rank 2: \\n\", arr)\n",
        " \n",
        "# Creating an array from tuple\n",
        "arr = np.array((1, 3, 2))\n",
        "print(\"\\nArray created using \"\n",
        "      \"passed tuple:\\n\", arr)"
      ],
      "metadata": {
        "colab": {
          "base_uri": "https://localhost:8080/"
        },
        "id": "m9IZ0tJ6Xh5E",
        "outputId": "2ae7c28a-88e5-4157-f8fa-2062f395d27c"
      },
      "execution_count": 1,
      "outputs": [
        {
          "output_type": "stream",
          "name": "stdout",
          "text": [
            "Array with Rank 1: \n",
            " [1 2 3]\n",
            "Array with Rank 2: \n",
            " [[1 2 3]\n",
            " [4 5 6]]\n",
            "\n",
            "Array created using passed tuple:\n",
            " [1 3 2]\n"
          ]
        }
      ]
    },
    {
      "cell_type": "code",
      "source": [
        "import numpy as np\n",
        " \n",
        "# Initial Array\n",
        "arr = np.array([[-1, 2, 0, 4],\n",
        "                [4, -0.5, 6, 0],\n",
        "                [2.6, 0, 7, 8],\n",
        "                [3, -7, 4, 2.0]])\n",
        "print(\"Initial Array: \")\n",
        "print(arr)\n",
        " \n",
        "# Printing a range of Array\n",
        "# with the use of slicing method\n",
        "sliced_arr = arr[:2, ::2]\n",
        "print (\"Array with first 2 rows and\"\n",
        "    \" alternate columns(0 and 2):\\n\", sliced_arr)\n",
        " \n",
        "# Printing elements at\n",
        "# specific Indices\n",
        "Index_arr = arr[[1, 1, 0, 3], \n",
        "                [3, 2, 1, 0]]\n",
        "print (\"\\nElements at indices (1, 3), \"\n",
        "    \"(1, 2), (0, 1), (3, 0):\\n\", Index_arr)"
      ],
      "metadata": {
        "colab": {
          "base_uri": "https://localhost:8080/"
        },
        "id": "YDUlrzWkX75_",
        "outputId": "69ac35f7-e47a-4754-fc60-cce477cb4331"
      },
      "execution_count": 2,
      "outputs": [
        {
          "output_type": "stream",
          "name": "stdout",
          "text": [
            "Initial Array: \n",
            "[[-1.   2.   0.   4. ]\n",
            " [ 4.  -0.5  6.   0. ]\n",
            " [ 2.6  0.   7.   8. ]\n",
            " [ 3.  -7.   4.   2. ]]\n",
            "Array with first 2 rows and alternate columns(0 and 2):\n",
            " [[-1.  0.]\n",
            " [ 4.  6.]]\n",
            "\n",
            "Elements at indices (1, 3), (1, 2), (0, 1), (3, 0):\n",
            " [0. 6. 2. 3.]\n"
          ]
        }
      ]
    },
    {
      "cell_type": "code",
      "source": [
        "# Defining Array 1\n",
        "a = np.array([[1, 2],\n",
        "              [3, 4]])\n",
        " \n",
        "# Defining Array 2\n",
        "b = np.array([[4, 3],\n",
        "              [2, 1]])\n",
        "               \n",
        "# Adding 1 to every element\n",
        "print (\"Adding 1 to every element:\", a + 1)\n",
        " \n",
        "# Subtracting 2 from each element\n",
        "print (\"\\nSubtracting 2 from each element:\", b - 2)\n",
        " \n",
        "# sum of array elements\n",
        "# Performing Unary operations\n",
        "print (\"\\nSum of all array \"\n",
        "       \"elements: \", a.sum())\n",
        " \n",
        "# Adding two arrays\n",
        "# Performing Binary operations\n",
        "print (\"\\nArray sum:\\n\", a + b)"
      ],
      "metadata": {
        "colab": {
          "base_uri": "https://localhost:8080/"
        },
        "id": "lbVSumRPYW7A",
        "outputId": "dce6809d-2483-471c-e8d3-daaea88cd1ba"
      },
      "execution_count": 3,
      "outputs": [
        {
          "output_type": "stream",
          "name": "stdout",
          "text": [
            "Adding 1 to every element: [[2 3]\n",
            " [4 5]]\n",
            "\n",
            "Subtracting 2 from each element: [[ 2  1]\n",
            " [ 0 -1]]\n",
            "\n",
            "Sum of all array elements:  10\n",
            "\n",
            "Array sum:\n",
            " [[5 5]\n",
            " [5 5]]\n"
          ]
        }
      ]
    },
    {
      "cell_type": "code",
      "source": [
        "x = np.array([1, 2])  \n",
        "print(\"Integer Datatype: \")\n",
        "print(x.dtype)         \n",
        "\n",
        "x = np.array([1.0, 2.0]) \n",
        "print(\"\\nFloat Datatype: \")\n",
        "print(x.dtype)  \n",
        " \n",
        "x = np.array([1, 2], dtype = np.int64)   \n",
        "print(\"\\nForcing a Datatype: \")\n",
        "print(x.dtype)"
      ],
      "metadata": {
        "colab": {
          "base_uri": "https://localhost:8080/"
        },
        "id": "RoV_ic0iYvJR",
        "outputId": "e1138c6f-e753-4c30-eba5-93ae0934ab17"
      },
      "execution_count": 4,
      "outputs": [
        {
          "output_type": "stream",
          "name": "stdout",
          "text": [
            "Integer Datatype: \n",
            "int64\n",
            "\n",
            "Float Datatype: \n",
            "float64\n",
            "\n",
            "Forcing a Datatype: \n",
            "int64\n"
          ]
        }
      ]
    },
    {
      "cell_type": "code",
      "source": [
        "arr1 = np.array([[4, 7], [2, 6]], \n",
        "                 dtype = np.float64)\n",
        "                  \n",
        "# Second Array\n",
        "arr2 = np.array([[3, 6], [2, 8]], \n",
        "                 dtype = np.float64) \n",
        " \n",
        "# Addition of two Arrays\n",
        "Sum = np.add(arr1, arr2)\n",
        "print(\"Addition of Two Arrays: \")\n",
        "print(Sum)\\\n",
        "\n",
        "Sum1 = np.sum(arr1)\n",
        "print(\"\\nAddition of Array elements: \")\n",
        "print(Sum1)\n",
        "\n",
        "Sqrt = np.sqrt(arr1)\n",
        "print(\"\\nSquare root of Array1 elements: \")\n",
        "print(Sqrt)\n",
        "\n",
        "Trans_arr = arr1.T\n",
        "print(\"\\nTranspose of Array: \")\n",
        "print(Trans_arr) "
      ],
      "metadata": {
        "colab": {
          "base_uri": "https://localhost:8080/"
        },
        "id": "JQr81OznY9Wf",
        "outputId": "919b1f97-278d-4306-b3fb-638473372775"
      },
      "execution_count": 8,
      "outputs": [
        {
          "output_type": "stream",
          "name": "stdout",
          "text": [
            "Addition of Two Arrays: \n",
            "[[ 7. 13.]\n",
            " [ 4. 14.]]\n",
            "\n",
            "Addition of Array elements: \n",
            "19.0\n",
            "\n",
            "Square root of Array1 elements: \n",
            "[[2.         2.64575131]\n",
            " [1.41421356 2.44948974]]\n",
            "\n",
            "Transpose of Array: \n",
            "[[4. 2.]\n",
            " [7. 6.]]\n"
          ]
        }
      ]
    },
    {
      "cell_type": "code",
      "source": [
        "arr = np.array( [[ 1, 2, 3],\n",
        "                 [ 4, 2, 5]] )\n",
        " \n",
        "# Printing type of arr object\n",
        "print(\"Array is of type: \", type(arr))\n",
        " \n",
        "# Printing array dimensions (axes)\n",
        "print(\"No. of dimensions: \", arr.ndim)\n",
        " \n",
        "# Printing shape of array\n",
        "print(\"Shape of array: \", arr.shape)\n",
        " \n",
        "# Printing size (total number of elements) of array\n",
        "print(\"Size of array: \", arr.size)\n",
        " \n",
        "# Printing type of elements in array\n",
        "print(\"Array stores elements of type: \", arr.dtype)"
      ],
      "metadata": {
        "colab": {
          "base_uri": "https://localhost:8080/"
        },
        "id": "peQ_0JSJZvKa",
        "outputId": "ff7c049b-a40e-4a5a-e316-aae7e6c6fb66"
      },
      "execution_count": 9,
      "outputs": [
        {
          "output_type": "stream",
          "name": "stdout",
          "text": [
            "Array is of type:  <class 'numpy.ndarray'>\n",
            "No. of dimensions:  2\n",
            "Shape of array:  (2, 3)\n",
            "Size of array:  6\n",
            "Array stores elements of type:  int64\n"
          ]
        }
      ]
    },
    {
      "cell_type": "code",
      "source": [
        "import numpy as np\n",
        " \n",
        "# Creating array from list with type float\n",
        "a = np.array([[1, 2, 4], [5, 8, 7]], dtype = 'float')\n",
        "print (\"Array created using passed list:\\n\", a)\n",
        " \n",
        "# Creating array from tuple\n",
        "b = np.array((1 , 3, 2))\n",
        "print (\"\\nArray created using passed tuple:\\n\", b)\n",
        " \n",
        "# Creating a 3X4 array with all zeros\n",
        "c = np.zeros((3, 4))\n",
        "print (\"\\nAn array initialized with all zeros:\\n\", c)\n",
        " \n",
        "# Create a constant value array of complex type\n",
        "d = np.full((3, 3), 6, dtype = 'complex')\n",
        "print (\"\\nAn array initialized with all 6s.\"\n",
        "            \"Array type is complex:\\n\", d)"
      ],
      "metadata": {
        "colab": {
          "base_uri": "https://localhost:8080/"
        },
        "id": "6lVfTWskadeK",
        "outputId": "f3749686-0a33-46d5-e3b5-6048529d8806"
      },
      "execution_count": 10,
      "outputs": [
        {
          "output_type": "stream",
          "name": "stdout",
          "text": [
            "Array created using passed list:\n",
            " [[1. 2. 4.]\n",
            " [5. 8. 7.]]\n",
            "\n",
            "Array created using passed tuple:\n",
            " [1 3 2]\n",
            "\n",
            "An array initialized with all zeros:\n",
            " [[0. 0. 0. 0.]\n",
            " [0. 0. 0. 0.]\n",
            " [0. 0. 0. 0.]]\n",
            "\n",
            "An array initialized with all 6s.Array type is complex:\n",
            " [[6.+0.j 6.+0.j 6.+0.j]\n",
            " [6.+0.j 6.+0.j 6.+0.j]\n",
            " [6.+0.j 6.+0.j 6.+0.j]]\n"
          ]
        }
      ]
    },
    {
      "cell_type": "code",
      "source": [
        "arr = np.array([[-1, 2, 0, 4],\n",
        "                [4, -0.5, 6, 0],\n",
        "                [2.6, 0, 7, 8],\n",
        "                [3, -7, 4, 2.0]])\n",
        " \n",
        "# Slicing array\n",
        "temp = arr[:2, ::2]\n",
        "print (\"Array with first 2 rows and alternate\"\n",
        "                    \"columns(0 and 2):\\n\", temp)\n",
        " \n",
        "# Integer array indexing example\n",
        "temp = arr[[0, 1, 2, 3], [3, 2, 1, 0]]\n",
        "print (\"\\nElements at indices (0, 3), (1, 2), (2, 1),\"\n",
        "                                    \"(3, 0):\\n\", temp)\n",
        " \n",
        "# boolean array indexing example\n",
        "cond = arr > 0 # cond is a boolean array\n",
        "temp = arr[cond]\n",
        "print (\"\\nElements greater than 0:\\n\", temp)"
      ],
      "metadata": {
        "colab": {
          "base_uri": "https://localhost:8080/"
        },
        "id": "fHO-EDuJbNrA",
        "outputId": "8f717dfa-b4f3-4a99-9b2c-b76a4227f23f"
      },
      "execution_count": 11,
      "outputs": [
        {
          "output_type": "stream",
          "name": "stdout",
          "text": [
            "Array with first 2 rows and alternatecolumns(0 and 2):\n",
            " [[-1.  0.]\n",
            " [ 4.  6.]]\n",
            "\n",
            "Elements at indices (0, 3), (1, 2), (2, 1),(3, 0):\n",
            " [4. 6. 0. 3.]\n",
            "\n",
            "Elements greater than 0:\n",
            " [2.  4.  4.  6.  2.6 7.  8.  3.  4.  2. ]\n"
          ]
        }
      ]
    },
    {
      "cell_type": "code",
      "source": [
        "\n",
        "a = np.array([1, 2, 5, 3])\n",
        " \n",
        "# add 1 to every element\n",
        "print (\"Adding 1 to every element:\", a+1)\n",
        " \n",
        "# subtract 3 from each element\n",
        "print (\"Subtracting 3 from each element:\", a-3)\n",
        " \n",
        "# multiply each element by 10\n",
        "print (\"Multiplying each element by 10:\", a*10)\n",
        " \n",
        "# square each element\n",
        "print (\"Squaring each element:\", a**2)\n",
        " \n",
        "# modify existing array\n",
        "a *= 2\n",
        "print (\"Doubled each element of original array:\", a)\n",
        " \n",
        "# transpose of array\n",
        "a = np.array([[1, 2, 3], [3, 4, 5], [9, 6, 0]])\n",
        " \n",
        "print (\"\\nOriginal array:\\n\", a)\n",
        "print (\"Transpose of array:\\n\", a.T)"
      ],
      "metadata": {
        "colab": {
          "base_uri": "https://localhost:8080/"
        },
        "id": "2ZXlLYJ3bf4i",
        "outputId": "ca60b04b-0251-4499-8b7f-11709a00b11f"
      },
      "execution_count": 12,
      "outputs": [
        {
          "output_type": "stream",
          "name": "stdout",
          "text": [
            "Adding 1 to every element: [2 3 6 4]\n",
            "Subtracting 3 from each element: [-2 -1  2  0]\n",
            "Multiplying each element by 10: [10 20 50 30]\n",
            "Squaring each element: [ 1  4 25  9]\n",
            "Doubled each element of original array: [ 2  4 10  6]\n",
            "\n",
            "Original array:\n",
            " [[1 2 3]\n",
            " [3 4 5]\n",
            " [9 6 0]]\n",
            "Transpose of array:\n",
            " [[1 3 9]\n",
            " [2 4 6]\n",
            " [3 5 0]]\n"
          ]
        }
      ]
    },
    {
      "cell_type": "code",
      "source": [
        "arr = np.array([[1, 5, 6],\n",
        "                [4, 7, 2],\n",
        "                [3, 1, 9]])\n",
        " \n",
        "# maximum element of array\n",
        "print (\"Largest element is:\", arr.max())\n",
        "print (\"Row-wise maximum elements:\",\n",
        "                    arr.max(axis = 1))\n",
        " \n",
        "# minimum element of array\n",
        "print (\"Column-wise minimum elements:\",\n",
        "                        arr.min(axis = 0))\n",
        " \n",
        "# sum of array elements\n",
        "print (\"Sum of all array elements:\",\n",
        "                            arr.sum())\n",
        " \n",
        "# cumulative sum along each row\n",
        "print (\"Cumulative sum along each row:\\n\",\n",
        "                        arr.cumsum(axis = 1))"
      ],
      "metadata": {
        "colab": {
          "base_uri": "https://localhost:8080/"
        },
        "id": "T8K-tEEycf1R",
        "outputId": "57d48b47-a755-4075-a9da-47287b8a97f6"
      },
      "execution_count": 13,
      "outputs": [
        {
          "output_type": "stream",
          "name": "stdout",
          "text": [
            "Largest element is: 9\n",
            "Row-wise maximum elements: [6 7 9]\n",
            "Column-wise minimum elements: [1 1 2]\n",
            "Sum of all array elements: 38\n",
            "Cumulative sum along each row:\n",
            " [[ 1  6 12]\n",
            " [ 4 11 13]\n",
            " [ 3  4 13]]\n"
          ]
        }
      ]
    },
    {
      "cell_type": "code",
      "source": [
        "a = np.array([[1, 2],\n",
        "            [3, 4]])\n",
        "b = np.array([[4, 3],\n",
        "            [2, 1]])\n",
        " \n",
        "# add arrays\n",
        "print (\"Array sum:\\n\", a + b)\n",
        " \n",
        "# multiply arrays (elementwise multiplication)\n",
        "print (\"Array multiplication:\\n\", a*b)\n",
        " \n",
        "# matrix multiplication\n",
        "print (\"Matrix multiplication:\\n\", a.dot(b))"
      ],
      "metadata": {
        "colab": {
          "base_uri": "https://localhost:8080/"
        },
        "id": "Ha_WAMcbcxua",
        "outputId": "24515c9b-3e92-4589-b79e-20c0e70b7672"
      },
      "execution_count": 14,
      "outputs": [
        {
          "output_type": "stream",
          "name": "stdout",
          "text": [
            "Array sum:\n",
            " [[5 5]\n",
            " [5 5]]\n",
            "Array multiplication:\n",
            " [[4 6]\n",
            " [6 4]]\n",
            "Matrix multiplication:\n",
            " [[ 8  5]\n",
            " [20 13]]\n"
          ]
        }
      ]
    },
    {
      "cell_type": "code",
      "source": [
        "# create an array of sine values\n",
        "a = np.array([0, np.pi/2, np.pi])\n",
        "print (\"Sine values of array elements:\", np.sin(a))\n",
        " \n",
        "# exponential values\n",
        "a = np.array([0, 1, 2, 3])\n",
        "print (\"Exponent of array elements:\", np.exp(a))\n",
        " \n",
        "# square root of array values\n",
        "print (\"Square root of array elements:\", np.sqrt(a))"
      ],
      "metadata": {
        "colab": {
          "base_uri": "https://localhost:8080/"
        },
        "id": "e3f_y-S_c__C",
        "outputId": "a37be25a-1fbd-4576-d50e-514496e46799"
      },
      "execution_count": 15,
      "outputs": [
        {
          "output_type": "stream",
          "name": "stdout",
          "text": [
            "Sine values of array elements: [0.0000000e+00 1.0000000e+00 1.2246468e-16]\n",
            "Exponent of array elements: [ 1.          2.71828183  7.3890561  20.08553692]\n",
            "Square root of array elements: [0.         1.         1.41421356 1.73205081]\n"
          ]
        }
      ]
    },
    {
      "cell_type": "code",
      "source": [
        "arr=[1, 2, 3, 4, 5]\n",
        "for i in arr:\n",
        "        print(i)"
      ],
      "metadata": {
        "colab": {
          "base_uri": "https://localhost:8080/"
        },
        "id": "BYQnwq6XdXr_",
        "outputId": "7c67b834-35ba-4e14-8b88-0c52e2d53e17"
      },
      "execution_count": 17,
      "outputs": [
        {
          "output_type": "stream",
          "name": "stdout",
          "text": [
            "1\n",
            "2\n",
            "3\n",
            "4\n",
            "5\n"
          ]
        }
      ]
    },
    {
      "cell_type": "code",
      "source": [
        "import array\n",
        "arr = array.array('i', [1, 2, 3]) \n",
        " \n",
        "# printing original array\n",
        "print (\"The new created array is : \",end=\"\")\n",
        "for i in range (0,3):\n",
        "    print (arr[i], end=\" \")\n",
        " \n",
        "print (\"\\r\")"
      ],
      "metadata": {
        "colab": {
          "base_uri": "https://localhost:8080/"
        },
        "id": "YSUWNZP3dxeq",
        "outputId": "5077307e-1349-4f4f-955d-508cd9296ebb"
      },
      "execution_count": 19,
      "outputs": [
        {
          "output_type": "stream",
          "name": "stdout",
          "text": [
            "The new created array is : 1 2 3 \r\n"
          ]
        }
      ]
    },
    {
      "cell_type": "code",
      "source": [
        "import numpy as geek\n",
        " \n",
        "b = geek.empty(2, dtype = int)\n",
        "print(\"Matrix b : \\n\", b)\n",
        " \n",
        "a = geek.empty([2, 2], dtype = int)\n",
        "print(\"\\nMatrix a : \\n\", a)\n",
        " \n",
        "c = geek.empty([3, 3])\n",
        "print(\"\\nMatrix c : \\n\", c)"
      ],
      "metadata": {
        "colab": {
          "base_uri": "https://localhost:8080/"
        },
        "id": "PwchsZTweBUC",
        "outputId": "90656e6f-c51e-4035-8525-1737f30cff6d"
      },
      "execution_count": 20,
      "outputs": [
        {
          "output_type": "stream",
          "name": "stdout",
          "text": [
            "Matrix b : \n",
            " [4607182418800017408 4368955796522032135]\n",
            "\n",
            "Matrix a : \n",
            " [[                  0 4607182418800017408]\n",
            " [4609047870845172685 4610479282544200874]]\n",
            "\n",
            "Matrix c : \n",
            " [[4.9e-324 2.5e-323 3.0e-323]\n",
            " [2.0e-323 3.5e-323 9.9e-324]\n",
            " [1.5e-323 4.9e-324 4.4e-323]]\n"
          ]
        }
      ]
    },
    {
      "cell_type": "code",
      "source": [
        "import numpy as geek\n",
        " \n",
        "b = geek.zeros(2, dtype = int)\n",
        "print(\"Matrix b : \\n\", b)\n",
        " \n",
        "a = geek.zeros([2, 2], dtype = int)\n",
        "print(\"\\nMatrix a : \\n\", a)\n",
        " \n",
        "c = geek.zeros([3, 3])\n",
        "print(\"\\nMatrix c : \\n\", c)"
      ],
      "metadata": {
        "colab": {
          "base_uri": "https://localhost:8080/"
        },
        "id": "B7XKM1k7eOY-",
        "outputId": "1b286477-5603-45f3-eeb5-4415b8ea7859"
      },
      "execution_count": 21,
      "outputs": [
        {
          "output_type": "stream",
          "name": "stdout",
          "text": [
            "Matrix b : \n",
            " [0 0]\n",
            "\n",
            "Matrix a : \n",
            " [[0 0]\n",
            " [0 0]]\n",
            "\n",
            "Matrix c : \n",
            " [[0. 0. 0.]\n",
            " [0. 0. 0.]\n",
            " [0. 0. 0.]]\n"
          ]
        }
      ]
    },
    {
      "cell_type": "code",
      "source": [
        "import numpy as geek\n",
        " \n",
        "array = geek.arange(8)\n",
        "print(\"Original array : \\n\", array)\n",
        " \n",
        "# shape array with 2 rows and 4 columns\n",
        "array = geek.arange(8).reshape(2, 4)\n",
        "print(\"\\narray reshaped with 2 rows and 4 columns : \\n\", array)\n",
        " \n",
        "# shape array with 2 rows and 4 columns\n",
        "array = geek.arange(8).reshape(4 ,2)\n",
        "print(\"\\narray reshaped with 2 rows and 4 columns : \\n\", array)\n",
        " \n",
        "# Constructs 3D array\n",
        "array = geek.arange(8).reshape(2, 2, 2)\n",
        "print(\"\\nOriginal array reshaped to 3D : \\n\", array)"
      ],
      "metadata": {
        "colab": {
          "base_uri": "https://localhost:8080/"
        },
        "id": "4OpACGqheeew",
        "outputId": "08ff1829-693f-4276-b137-420bdbe1b97e"
      },
      "execution_count": 22,
      "outputs": [
        {
          "output_type": "stream",
          "name": "stdout",
          "text": [
            "Original array : \n",
            " [0 1 2 3 4 5 6 7]\n",
            "\n",
            "array reshaped with 2 rows and 4 columns : \n",
            " [[0 1 2 3]\n",
            " [4 5 6 7]]\n",
            "\n",
            "array reshaped with 2 rows and 4 columns : \n",
            " [[0 1]\n",
            " [2 3]\n",
            " [4 5]\n",
            " [6 7]]\n",
            "\n",
            "Original array reshaped to 3D : \n",
            " [[[0 1]\n",
            "  [2 3]]\n",
            "\n",
            " [[4 5]\n",
            "  [6 7]]]\n"
          ]
        }
      ]
    },
    {
      "cell_type": "code",
      "source": [
        "import numpy as geek\n",
        " \n",
        "print(\"A\\n\", geek.arange(4).reshape(2, 2), \"\\n\")\n",
        " \n",
        "print(\"A\\n\", geek.arange(4, 10), \"\\n\")\n",
        " \n",
        "print(\"A\\n\", geek.arange(4, 20, 3), \"\\n\")"
      ],
      "metadata": {
        "colab": {
          "base_uri": "https://localhost:8080/"
        },
        "id": "BW8n-r1hKqjn",
        "outputId": "7b446c94-c422-4603-b404-e9471512eb40"
      },
      "execution_count": 1,
      "outputs": [
        {
          "output_type": "stream",
          "name": "stdout",
          "text": [
            "A\n",
            " [[0 1]\n",
            " [2 3]] \n",
            "\n",
            "A\n",
            " [4 5 6 7 8 9] \n",
            "\n",
            "A\n",
            " [ 4  7 10 13 16 19] \n",
            "\n"
          ]
        }
      ]
    },
    {
      "cell_type": "code",
      "source": [
        "print(\"B\\n\", geek.linspace(2.0, 3.0, num=5, retstep=True), \"\\n\")\n",
        " \n",
        "# To evaluate sin() in long range \n",
        "x = geek.linspace(0, 2, 10)\n",
        "print(\"A\\n\", geek.sin(x))"
      ],
      "metadata": {
        "colab": {
          "base_uri": "https://localhost:8080/"
        },
        "id": "_pNjrjuZKvew",
        "outputId": "2ca8fd31-441f-471a-cb4c-700ab8461fa0"
      },
      "execution_count": 2,
      "outputs": [
        {
          "output_type": "stream",
          "name": "stdout",
          "text": [
            "B\n",
            " (array([2.  , 2.25, 2.5 , 2.75, 3.  ]), 0.25) \n",
            "\n",
            "A\n",
            " [0.         0.22039774 0.42995636 0.6183698  0.77637192 0.8961922\n",
            " 0.9719379  0.99988386 0.9786557  0.90929743]\n"
          ]
        }
      ]
    },
    {
      "cell_type": "code",
      "source": [
        "array = geek.array([[1, 2], [3, 4]])\n",
        " \n",
        "# using flatten method\n",
        "array.flatten()\n",
        "print(array)\n",
        " \n",
        "#using fatten method \n",
        "array.flatten('F')\n",
        "print(array)"
      ],
      "metadata": {
        "colab": {
          "base_uri": "https://localhost:8080/"
        },
        "id": "qUvvQqBFK7EC",
        "outputId": "590883f5-88ea-4ea8-9901-be9fd2075ed9"
      },
      "execution_count": 3,
      "outputs": [
        {
          "output_type": "stream",
          "name": "stdout",
          "text": [
            "[[1 2]\n",
            " [3 4]]\n",
            "[[1 2]\n",
            " [3 4]]\n"
          ]
        }
      ]
    },
    {
      "cell_type": "code",
      "source": [
        "import numpy as np\n",
        "a = [[1, 2], [3, 4]]\n",
        "#using eye \n",
        "print(np.eye(4))\n",
        "\n",
        "print(np.identity(3))\n",
        "\n",
        "print(np.ones(45))"
      ],
      "metadata": {
        "colab": {
          "base_uri": "https://localhost:8080/"
        },
        "id": "cJaKuQ7qLpvi",
        "outputId": "a7a1221d-e34b-414b-8d05-51ab8114f837"
      },
      "execution_count": 17,
      "outputs": [
        {
          "output_type": "stream",
          "name": "stdout",
          "text": [
            "[[1. 0. 0. 0.]\n",
            " [0. 1. 0. 0.]\n",
            " [0. 0. 1. 0.]\n",
            " [0. 0. 0. 1.]]\n",
            "[[1. 0. 0.]\n",
            " [0. 1. 0.]\n",
            " [0. 0. 1.]]\n",
            "[1. 1. 1. 1. 1. 1. 1. 1. 1. 1. 1. 1. 1. 1. 1. 1. 1. 1. 1. 1. 1. 1. 1. 1.\n",
            " 1. 1. 1. 1. 1. 1. 1. 1. 1. 1. 1. 1. 1. 1. 1. 1. 1. 1. 1. 1. 1.]\n"
          ]
        }
      ]
    },
    {
      "cell_type": "code",
      "source": [
        "np.arange(56)"
      ],
      "metadata": {
        "colab": {
          "base_uri": "https://localhost:8080/"
        },
        "id": "m6DXGCuQM2P3",
        "outputId": "ee62aa4e-9f92-4213-a203-695fc5bc3dc4"
      },
      "execution_count": 23,
      "outputs": [
        {
          "output_type": "execute_result",
          "data": {
            "text/plain": [
              "array([ 0,  1,  2,  3,  4,  5,  6,  7,  8,  9, 10, 11, 12, 13, 14, 15, 16,\n",
              "       17, 18, 19, 20, 21, 22, 23, 24, 25, 26, 27, 28, 29, 30, 31, 32, 33,\n",
              "       34, 35, 36, 37, 38, 39, 40, 41, 42, 43, 44, 45, 46, 47, 48, 49, 50,\n",
              "       51, 52, 53, 54, 55])"
            ]
          },
          "metadata": {},
          "execution_count": 23
        }
      ]
    },
    {
      "cell_type": "code",
      "source": [
        "list1 = [1, 2, 3, 4, 5, 6]\n",
        "list2 = [10, 9, 8, 7, 6, 5]\n",
        " \n",
        "# Convert list1 into a NumPy array\n",
        "a1 = np.array(list1)\n",
        " \n",
        "# Convert list2 into a NumPy array\n",
        "a2 = np.array(list2)\n",
        " \n",
        "print(a1*a2)"
      ],
      "metadata": {
        "colab": {
          "base_uri": "https://localhost:8080/"
        },
        "id": "E0-4IkkSnAnB",
        "outputId": "dbbfa8ce-c976-4cae-d315-00cf96bbc4dc"
      },
      "execution_count": 24,
      "outputs": [
        {
          "output_type": "stream",
          "name": "stdout",
          "text": [
            "[10 18 24 28 30 30]\n"
          ]
        }
      ]
    },
    {
      "cell_type": "code",
      "source": [
        "import numpy as np\n",
        "\n",
        "a = np.arange(10, 1, -2) \n",
        "print(\"\\n A sequential array with a negative step: \\n\",a)\n",
        " \n",
        "newarr = a[np.array([3, 1, 2 ])]\n",
        "print(\"\\n Elements at these indices are:\\n\",newarr)"
      ],
      "metadata": {
        "colab": {
          "base_uri": "https://localhost:8080/"
        },
        "id": "ERkvUxM9nFDm",
        "outputId": "a94311ff-ed50-4b51-96a1-bdb3c7ba027d"
      },
      "execution_count": 25,
      "outputs": [
        {
          "output_type": "stream",
          "name": "stdout",
          "text": [
            "\n",
            " A sequential array with a negative step: \n",
            " [10  8  6  4  2]\n",
            "\n",
            " Elements at these indices are:\n",
            " [4 8 6]\n"
          ]
        }
      ]
    },
    {
      "cell_type": "code",
      "source": [
        "x = np.array([1, 2, 3, 4, 5, 6, 7, 8, 9])\n",
        " \n",
        "# Index values can be negative.\n",
        "arr = x[np.array([1, 3, -3])]\n",
        "print(\"\\n Elements are : \\n\",arr)"
      ],
      "metadata": {
        "colab": {
          "base_uri": "https://localhost:8080/"
        },
        "id": "JLPTbod_nXfP",
        "outputId": "03a125ea-9579-4485-a344-b1dcffe0bdf8"
      },
      "execution_count": 26,
      "outputs": [
        {
          "output_type": "stream",
          "name": "stdout",
          "text": [
            "\n",
            " Elements are : \n",
            " [2 4 7]\n"
          ]
        }
      ]
    },
    {
      "cell_type": "code",
      "source": [
        "import numpy as np\n",
        "a = np.arange(30)\n",
        "print(\"range from 8 to 20 wih step soze of 2:\", a[8:20:2],'\\n')\n",
        "\n",
        "print(\" count of range from right side with step  size of 2:\",a[-30:17:1])\n",
        "\n",
        "print(\"\\n a[10:]  = \",a[10:])"
      ],
      "metadata": {
        "colab": {
          "base_uri": "https://localhost:8080/"
        },
        "id": "a4HED_AD0R6M",
        "outputId": "74efd863-8c7a-4272-8da3-5f542c882dc5"
      },
      "execution_count": 25,
      "outputs": [
        {
          "output_type": "stream",
          "name": "stdout",
          "text": [
            "range from 8 to 20 wih step soze of 2: [ 8 10 12 14 16 18] \n",
            "\n",
            " count of range from right side with step  size of 2: [ 0  1  2  3  4  5  6  7  8  9 10 11 12 13 14 15 16]\n",
            "\n",
            " a[10:]  =  [10 11 12 13 14 15 16 17 18 19 20 21 22 23 24 25 26 27 28 29]\n"
          ]
        }
      ]
    },
    {
      "cell_type": "code",
      "source": [
        "a = np.array([[0, 1, 2, 3, 4, 5],\n",
        "              [6, 7, 8, 9, 10, 11],\n",
        "              [12, 13, 14, 15, 16, 17],\n",
        "              [18, 19, 20, 21, 22, 23],\n",
        "              [24, 25, 26, 27, 28, 29],\n",
        "              [30, 31, 32, 33, 34, 35]])\n",
        "             \n",
        "print(\"\\n Array is:\\n \",a)\n",
        " \n",
        "# slicing and indexing\n",
        "print(\"\\n a[0, 3:5]  = \",a[0, 3:5]) \n",
        " \n",
        "print(\"\\n a[4:, 4:]  = \",a[4:, 4:])\n",
        " \n",
        "print(\"\\n a[:, 2]  = \",a[:, 2]) \n",
        " \n",
        "print(\"\\n a[2:;2, ::2]  = \",a[2::2, ::2]) ##As there is step size of 2 in row\n",
        "                                            # thats why its taking only 2 rowsfirst is [18,19,20...] and [24,25,26...]"
      ],
      "metadata": {
        "colab": {
          "base_uri": "https://localhost:8080/"
        },
        "id": "vZGGG5ge2ZWq",
        "outputId": "24942abe-cf40-451c-b16d-2cbb5a4926e7"
      },
      "execution_count": 31,
      "outputs": [
        {
          "output_type": "stream",
          "name": "stdout",
          "text": [
            "\n",
            " Array is:\n",
            "  [[ 0  1  2  3  4  5]\n",
            " [ 6  7  8  9 10 11]\n",
            " [12 13 14 15 16 17]\n",
            " [18 19 20 21 22 23]\n",
            " [24 25 26 27 28 29]\n",
            " [30 31 32 33 34 35]]\n",
            "\n",
            " a[0, 3:5]  =  [3 4]\n",
            "\n",
            " a[4:, 4:]  =  [[28 29]\n",
            " [34 35]]\n",
            "\n",
            " a[:, 2]  =  [ 2  8 14 20 26 32]\n",
            "\n",
            " a[2:;2, ::2]  =  [[12 14 16]\n",
            " [24 26 28]]\n"
          ]
        }
      ]
    },
    {
      "cell_type": "code",
      "source": [
        "a = np.array([[0 ,1 ,2],[3 ,4 ,5 ],\n",
        "              [6 ,7 ,8],[9 ,10 ,11]])\n",
        " \n",
        "print(a[1:2 ,1:3 ])\n",
        "print(a[1:2 ,[1,2]])"
      ],
      "metadata": {
        "colab": {
          "base_uri": "https://localhost:8080/"
        },
        "id": "gLOZGDHH4wga",
        "outputId": "d01cba71-0ff2-4ff2-caa4-97276301b2ee"
      },
      "execution_count": 32,
      "outputs": [
        {
          "output_type": "stream",
          "name": "stdout",
          "text": [
            "[[4 5]]\n",
            "[[4 5]]\n"
          ]
        }
      ]
    },
    {
      "cell_type": "code",
      "source": [
        "a = np.array([10, 40, 80, 50, 100])\n",
        "print(a[a>50])"
      ],
      "metadata": {
        "colab": {
          "base_uri": "https://localhost:8080/"
        },
        "id": "9Gw6iK6w42Cm",
        "outputId": "802b2c74-c20b-45f3-b172-a641f5c9ab52"
      },
      "execution_count": 33,
      "outputs": [
        {
          "output_type": "stream",
          "name": "stdout",
          "text": [
            "[ 80 100]\n"
          ]
        }
      ]
    },
    {
      "cell_type": "code",
      "source": [
        "a = np.array([10, 40, 80, 50, 100])\n",
        "print(a[a%40==0]**2)"
      ],
      "metadata": {
        "colab": {
          "base_uri": "https://localhost:8080/"
        },
        "id": "PZ1aruf746zE",
        "outputId": "09c5a6d5-536d-4966-8a72-2bf11942ab2e"
      },
      "execution_count": 34,
      "outputs": [
        {
          "output_type": "stream",
          "name": "stdout",
          "text": [
            "[1600 6400]\n"
          ]
        }
      ]
    },
    {
      "cell_type": "code",
      "source": [
        "b = np.array([[5, 5],[4, 5],[16, 4]])\n",
        "print(b,\"\\n\")\n",
        "sumrow = b.sum(1)    # here 1 is axis\n",
        "print(sumrow,\"\\n\")\n",
        "print(b[sumrow%10==0])# it means remainder is zero after diving"
      ],
      "metadata": {
        "colab": {
          "base_uri": "https://localhost:8080/"
        },
        "id": "7nXLinke5L26",
        "outputId": "5816f5c6-78bf-4b36-c147-22d90d66b776"
      },
      "execution_count": 44,
      "outputs": [
        {
          "output_type": "stream",
          "name": "stdout",
          "text": [
            "[[ 5  5]\n",
            " [ 4  5]\n",
            " [16  4]] \n",
            "\n",
            "[10  9 20] \n",
            "\n",
            "[[ 5  5]\n",
            " [16  4]]\n"
          ]
        }
      ]
    },
    {
      "cell_type": "code",
      "source": [
        "import numpy as np\n",
        "a = np.arange(16)\n",
        "print(a,\"\\n\")\n",
        "\n",
        "a = a.reshape(4,4)\n",
        "print(a,\"\\n\")\n",
        "\n",
        "for i in np.nditer(a):\n",
        "   print(i,\"\\n\")\n",
        "\n",
        "for x in np.nditer(a, order = 'C'):\n",
        "    print('Modified array in C-style order:') \n",
        "    print(x,\"\\n\")   \n",
        "\n",
        "for x in np.nditer(a, order = 'F'):\n",
        "    print('Modified array in F-style order:') \n",
        "    print(x,\"\\n\")   "
      ],
      "metadata": {
        "colab": {
          "base_uri": "https://localhost:8080/"
        },
        "id": "VSVD57xR64QR",
        "outputId": "ff9276cb-5229-4c44-be32-23ab91a6bc35"
      },
      "execution_count": 60,
      "outputs": [
        {
          "output_type": "stream",
          "name": "stdout",
          "text": [
            "[ 0  1  2  3  4  5  6  7  8  9 10 11 12 13 14 15] \n",
            "\n",
            "[[ 0  1  2  3]\n",
            " [ 4  5  6  7]\n",
            " [ 8  9 10 11]\n",
            " [12 13 14 15]] \n",
            "\n",
            "0 \n",
            "\n",
            "1 \n",
            "\n",
            "2 \n",
            "\n",
            "3 \n",
            "\n",
            "4 \n",
            "\n",
            "5 \n",
            "\n",
            "6 \n",
            "\n",
            "7 \n",
            "\n",
            "8 \n",
            "\n",
            "9 \n",
            "\n",
            "10 \n",
            "\n",
            "11 \n",
            "\n",
            "12 \n",
            "\n",
            "13 \n",
            "\n",
            "14 \n",
            "\n",
            "15 \n",
            "\n",
            "Modified array in C-style order:\n",
            "0 \n",
            "\n",
            "Modified array in C-style order:\n",
            "1 \n",
            "\n",
            "Modified array in C-style order:\n",
            "2 \n",
            "\n",
            "Modified array in C-style order:\n",
            "3 \n",
            "\n",
            "Modified array in C-style order:\n",
            "4 \n",
            "\n",
            "Modified array in C-style order:\n",
            "5 \n",
            "\n",
            "Modified array in C-style order:\n",
            "6 \n",
            "\n",
            "Modified array in C-style order:\n",
            "7 \n",
            "\n",
            "Modified array in C-style order:\n",
            "8 \n",
            "\n",
            "Modified array in C-style order:\n",
            "9 \n",
            "\n",
            "Modified array in C-style order:\n",
            "10 \n",
            "\n",
            "Modified array in C-style order:\n",
            "11 \n",
            "\n",
            "Modified array in C-style order:\n",
            "12 \n",
            "\n",
            "Modified array in C-style order:\n",
            "13 \n",
            "\n",
            "Modified array in C-style order:\n",
            "14 \n",
            "\n",
            "Modified array in C-style order:\n",
            "15 \n",
            "\n",
            "Modified array in F-style order:\n",
            "0 \n",
            "\n",
            "Modified array in F-style order:\n",
            "4 \n",
            "\n",
            "Modified array in F-style order:\n",
            "8 \n",
            "\n",
            "Modified array in F-style order:\n",
            "12 \n",
            "\n",
            "Modified array in F-style order:\n",
            "1 \n",
            "\n",
            "Modified array in F-style order:\n",
            "5 \n",
            "\n",
            "Modified array in F-style order:\n",
            "9 \n",
            "\n",
            "Modified array in F-style order:\n",
            "13 \n",
            "\n",
            "Modified array in F-style order:\n",
            "2 \n",
            "\n",
            "Modified array in F-style order:\n",
            "6 \n",
            "\n",
            "Modified array in F-style order:\n",
            "10 \n",
            "\n",
            "Modified array in F-style order:\n",
            "14 \n",
            "\n",
            "Modified array in F-style order:\n",
            "3 \n",
            "\n",
            "Modified array in F-style order:\n",
            "7 \n",
            "\n",
            "Modified array in F-style order:\n",
            "11 \n",
            "\n",
            "Modified array in F-style order:\n",
            "15 \n",
            "\n"
          ]
        }
      ]
    },
    {
      "cell_type": "code",
      "source": [
        "a = np.arange(12)\n",
        " \n",
        " # shape array with 3 rows and \n",
        "# 4 columns \n",
        "a = a.reshape(3,4) \n",
        " \n",
        "print('First array is:') \n",
        "print(a)\n",
        "print()  \n",
        " \n",
        "# Creating second array using \n",
        "# array method\n",
        "print('Second array is:') \n",
        "b = np.array([5, 6, 7, 8], dtype = int) \n",
        "print(b)  \n",
        "print() \n",
        " \n",
        "print('Modified array is:')\n",
        "for x,y in np.nditer([a,b]): \n",
        "    print(\"%d:%d\" % (x,y))"
      ],
      "metadata": {
        "colab": {
          "base_uri": "https://localhost:8080/"
        },
        "id": "z5eR08xe979w",
        "outputId": "8743aac2-67e6-4625-c5a1-51377b85ce2c"
      },
      "execution_count": 61,
      "outputs": [
        {
          "output_type": "stream",
          "name": "stdout",
          "text": [
            "First array is:\n",
            "[[ 0  1  2  3]\n",
            " [ 4  5  6  7]\n",
            " [ 8  9 10 11]]\n",
            "\n",
            "Second array is:\n",
            "[5 6 7 8]\n",
            "\n",
            "Modified array is:\n",
            "0:5\n",
            "1:6\n",
            "2:7\n",
            "3:8\n",
            "4:5\n",
            "5:6\n",
            "6:7\n",
            "7:8\n",
            "8:5\n",
            "9:6\n",
            "10:7\n",
            "11:8\n"
          ]
        }
      ]
    },
    {
      "cell_type": "code",
      "source": [
        "import numpy as geek\n",
        "in_num1 = 10\n",
        "in_num2 = 11\n",
        " \n",
        "print (\"Input  number1 : \", in_num1)\n",
        "print (\"Input  number2 : \", in_num2) \n",
        "   \n",
        "out_num = geek.bitwise_and(in_num1, in_num2) \n",
        "print (\"bitwise_and of 10 and 11 : \", out_num) "
      ],
      "metadata": {
        "colab": {
          "base_uri": "https://localhost:8080/"
        },
        "id": "76_WDMpx-gdo",
        "outputId": "f5dafeb0-048d-497e-bc35-8ea84708020c"
      },
      "execution_count": 62,
      "outputs": [
        {
          "output_type": "stream",
          "name": "stdout",
          "text": [
            "Input  number1 :  10\n",
            "Input  number2 :  11\n",
            "bitwise_and of 10 and 11 :  10\n"
          ]
        }
      ]
    },
    {
      "cell_type": "code",
      "source": [
        "in_arr1 = [2, 8, 125]\n",
        "in_arr2 = [3, 3, 115]\n",
        "  \n",
        "print (\"Input array1 : \", in_arr1) \n",
        "print (\"Input array2 : \", in_arr2)\n",
        "   \n",
        "out_arr = geek.bitwise_and(in_arr1, in_arr2) \n",
        "print (\"Output array after bitwise_and: \", out_arr) "
      ],
      "metadata": {
        "colab": {
          "base_uri": "https://localhost:8080/"
        },
        "id": "N_x5WIIA-lWM",
        "outputId": "4bb36a13-dffd-4dfa-8329-45fd66cca10f"
      },
      "execution_count": 63,
      "outputs": [
        {
          "output_type": "stream",
          "name": "stdout",
          "text": [
            "Input array1 :  [2, 8, 125]\n",
            "Input array2 :  [3, 3, 115]\n",
            "Output array after bitwise_and:  [  2   0 113]\n"
          ]
        }
      ]
    },
    {
      "cell_type": "code",
      "source": [
        "import numpy as geek\n",
        "in_num1 = 10\n",
        "in_num2 = 11\n",
        " \n",
        "print (\"Input  number1 : \", in_num1)\n",
        "print (\"Input  number2 : \", in_num2) \n",
        "   \n",
        "out_num = geek.bitwise_or(in_num1, in_num2) \n",
        "print (\"bitwise_or of 10 and 11 : \", out_num) "
      ],
      "metadata": {
        "colab": {
          "base_uri": "https://localhost:8080/"
        },
        "id": "vggNPBUq-xzK",
        "outputId": "1f46ed2b-ab57-4b0a-aacf-f9350266ca72"
      },
      "execution_count": 64,
      "outputs": [
        {
          "output_type": "stream",
          "name": "stdout",
          "text": [
            "Input  number1 :  10\n",
            "Input  number2 :  11\n",
            "bitwise_or of 10 and 11 :  11\n"
          ]
        }
      ]
    },
    {
      "cell_type": "code",
      "source": [
        "in_arr1 = [2, 8, 125]\n",
        "in_arr2 = [3, 3, 115]\n",
        "  \n",
        "print (\"Input array1 : \", in_arr1) \n",
        "print (\"Input array2 : \", in_arr2)\n",
        "   \n",
        "out_arr = geek.bitwise_or(in_arr1, in_arr2) \n",
        "print (\"Output array after bitwise_or: \", out_arr) "
      ],
      "metadata": {
        "colab": {
          "base_uri": "https://localhost:8080/"
        },
        "id": "RmsHTizw_JhL",
        "outputId": "98bd73a5-3d74-4958-e243-a47b1a1a0c01"
      },
      "execution_count": 65,
      "outputs": [
        {
          "output_type": "stream",
          "name": "stdout",
          "text": [
            "Input array1 :  [2, 8, 125]\n",
            "Input array2 :  [3, 3, 115]\n",
            "Output array after bitwise_or:  [  3  11 127]\n"
          ]
        }
      ]
    },
    {
      "cell_type": "code",
      "source": [
        "in_num1 = 10\n",
        "in_num2 = 11\n",
        " \n",
        "print (\"Input  number1 : \", in_num1)\n",
        "print (\"Input  number2 : \", in_num2) \n",
        "   \n",
        "out_num = geek.bitwise_xor(in_num1, in_num2) \n",
        "print (\"bitwise_xor of 10 and 11 : \", out_num) "
      ],
      "metadata": {
        "colab": {
          "base_uri": "https://localhost:8080/"
        },
        "id": "9zB41Nqx_QJt",
        "outputId": "b48fc818-eae8-4250-de2a-8e7a72cdc7e4"
      },
      "execution_count": 66,
      "outputs": [
        {
          "output_type": "stream",
          "name": "stdout",
          "text": [
            "Input  number1 :  10\n",
            "Input  number2 :  11\n",
            "bitwise_xor of 10 and 11 :  1\n"
          ]
        }
      ]
    },
    {
      "cell_type": "code",
      "source": [
        "in_arr1 = [2, 8, 125]\n",
        "in_arr2 = [3, 3, 115]\n",
        "  \n",
        "print (\"Input array1 : \", in_arr1) \n",
        "print (\"Input array2 : \", in_arr2)\n",
        "   \n",
        "out_arr = geek.bitwise_xor(in_arr1, in_arr2) \n",
        "print (\"Output array after bitwise_xor: \", out_arr) "
      ],
      "metadata": {
        "colab": {
          "base_uri": "https://localhost:8080/"
        },
        "id": "pAXbVTVi_VlY",
        "outputId": "25be5118-4671-40d3-e5c3-fada6c02cd51"
      },
      "execution_count": 67,
      "outputs": [
        {
          "output_type": "stream",
          "name": "stdout",
          "text": [
            "Input array1 :  [2, 8, 125]\n",
            "Input array2 :  [3, 3, 115]\n",
            "Output array after bitwise_xor:  [ 1 11 14]\n"
          ]
        }
      ]
    },
    {
      "cell_type": "code",
      "source": [
        "in_num = 10\n",
        "print (\"Input  number : \", in_num)\n",
        "   \n",
        "out_num = geek.invert(in_num) \n",
        "print (\"inversion of 10 : \", out_num) "
      ],
      "metadata": {
        "colab": {
          "base_uri": "https://localhost:8080/"
        },
        "id": "E_TFcrZg_cO4",
        "outputId": "301716ec-f4bd-48ad-ca60-de29c6bd5d16"
      },
      "execution_count": 68,
      "outputs": [
        {
          "output_type": "stream",
          "name": "stdout",
          "text": [
            "Input  number :  10\n",
            "inversion of 10 :  -11\n"
          ]
        }
      ]
    },
    {
      "cell_type": "code",
      "source": [
        "in_arr = [2, 0, 25]\n",
        "print (\"Input array : \", in_arr)\n",
        "   \n",
        "out_arr = geek.invert(in_arr) \n",
        "print (\"Output array after inversion: \", out_arr) "
      ],
      "metadata": {
        "colab": {
          "base_uri": "https://localhost:8080/"
        },
        "id": "B9KLmLky_jV5",
        "outputId": "d88cac48-eca9-4d11-a729-b01fe1e4d67a"
      },
      "execution_count": 69,
      "outputs": [
        {
          "output_type": "stream",
          "name": "stdout",
          "text": [
            "Input array :  [2, 0, 25]\n",
            "Output array after inversion:  [ -3  -1 -26]\n"
          ]
        }
      ]
    },
    {
      "cell_type": "code",
      "source": [
        "in_num = 5\n",
        "bit_shift = 2\n",
        " \n",
        "print (\"Input  number : \", in_num)\n",
        "print (\"Number of bit shift : \", bit_shift ) \n",
        "   \n",
        "out_num = geek.left_shift(in_num, bit_shift) \n",
        "print (\"After left shifting 2 bit  : \", out_num) "
      ],
      "metadata": {
        "colab": {
          "base_uri": "https://localhost:8080/"
        },
        "id": "z72UXCQq_1EG",
        "outputId": "c1058b78-dd74-4120-9e79-2504b4061cc0"
      },
      "execution_count": 70,
      "outputs": [
        {
          "output_type": "stream",
          "name": "stdout",
          "text": [
            "Input  number :  5\n",
            "Number of bit shift :  2\n",
            "After left shifting 2 bit  :  20\n"
          ]
        }
      ]
    },
    {
      "cell_type": "code",
      "source": [
        "in_arr = [2, 8, 15]\n",
        "bit_shift =[3, 4, 5]\n",
        "  \n",
        "print (\"Input array : \", in_arr) \n",
        "print (\"Number of bit shift : \", bit_shift)\n",
        "   \n",
        "out_arr = geek.left_shift(in_arr, bit_shift) \n",
        "print (\"Output array after left shifting: \", out_arr) "
      ],
      "metadata": {
        "colab": {
          "base_uri": "https://localhost:8080/"
        },
        "id": "NBx_udz5_58P",
        "outputId": "9bc916be-404b-4eeb-cdba-2a87daf8d8d2"
      },
      "execution_count": 71,
      "outputs": [
        {
          "output_type": "stream",
          "name": "stdout",
          "text": [
            "Input array :  [2, 8, 15]\n",
            "Number of bit shift :  [3, 4, 5]\n",
            "Output array after left shifting:  [ 16 128 480]\n"
          ]
        }
      ]
    },
    {
      "cell_type": "code",
      "source": [
        "in_num = 10\n",
        " \n",
        "print (\"Input  number : \", in_num)\n",
        " \n",
        "out_num = geek.binary_repr(in_num) \n",
        "print (\"binary representation of 10 : \", out_num) "
      ],
      "metadata": {
        "colab": {
          "base_uri": "https://localhost:8080/"
        },
        "id": "JNTCsdObFJlD",
        "outputId": "0bc0fad1-9c36-4211-c2b1-78700016449e"
      },
      "execution_count": 72,
      "outputs": [
        {
          "output_type": "stream",
          "name": "stdout",
          "text": [
            "Input  number :  10\n",
            "binary representation of 10 :  1010\n"
          ]
        }
      ]
    },
    {
      "cell_type": "code",
      "source": [
        "in_arr = [5, -8 ]\n",
        "  \n",
        "print (\"Input array : \", in_arr) \n",
        " \n",
        "\n",
        "out_num = geek.binary_repr(in_arr[0])\n",
        "print(\"Binary representation of 5\")\n",
        "print (\"Without using width parameter : \", out_num) \n",
        " \n",
        "\n",
        "out_num = geek.binary_repr(in_arr[0], width = 5)\n",
        "print (\"Using width parameter: \", out_num) \n",
        " \n",
        "print(\"\\nBinary representation of -8\")\n",
        " \n",
        "\n",
        "out_num = geek.binary_repr(in_arr[1])\n",
        "print (\"Without using width parameter : \", out_num) \n",
        " \n",
        "\n",
        "out_num = geek.binary_repr(in_arr[1], width = 5)\n",
        "print (\"Using width parameter : \", out_num) \n"
      ],
      "metadata": {
        "colab": {
          "base_uri": "https://localhost:8080/"
        },
        "id": "L9MMVLKPFPcV",
        "outputId": "e98200b5-8dd4-4657-d6d2-ae71f9ef56ff"
      },
      "execution_count": 73,
      "outputs": [
        {
          "output_type": "stream",
          "name": "stdout",
          "text": [
            "Input array :  [5, -8]\n",
            "Binary representation of 5\n",
            "Without using width parameter :  101\n",
            "Using width parameter:  00101\n",
            "\n",
            "Binary representation of -8\n",
            "Without using width parameter :  -1000\n",
            "Using width parameter :  11000\n"
          ]
        }
      ]
    },
    {
      "cell_type": "code",
      "source": [
        "a = np.array([[[1,0,1],\n",
        "             [0,1,0]],\n",
        "             [[1,1,0],\n",
        "             [0,0,1]]])\n",
        " \n",
        "# packing elements of an array\n",
        "# using packbits() function\n",
        "b = np.packbits(a, axis=-1)\n",
        " \n",
        "print(b)"
      ],
      "metadata": {
        "colab": {
          "base_uri": "https://localhost:8080/"
        },
        "id": "hHdfTTi_FdIf",
        "outputId": "0a20c8d4-e65c-4b64-9291-74d38f587e11"
      },
      "execution_count": 74,
      "outputs": [
        {
          "output_type": "stream",
          "name": "stdout",
          "text": [
            "[[[160]\n",
            "  [ 64]]\n",
            "\n",
            " [[192]\n",
            "  [ 32]]]\n"
          ]
        }
      ]
    },
    {
      "cell_type": "code",
      "source": [
        "# creating an array using \n",
        "# array function\n",
        "a = np.array([[2], [7], [23]], dtype=np.uint8)\n",
        " \n",
        "# packing elements of an array\n",
        "# using packbits() function\n",
        "b = np.unpackbits(a, axis = 1)\n",
        " \n",
        "print(b)"
      ],
      "metadata": {
        "colab": {
          "base_uri": "https://localhost:8080/"
        },
        "id": "B6HlpKdOFksH",
        "outputId": "dba8f61a-bd97-44ee-fe88-40957cb8fb97"
      },
      "execution_count": 75,
      "outputs": [
        {
          "output_type": "stream",
          "name": "stdout",
          "text": [
            "[[0 0 0 0 0 0 1 0]\n",
            " [0 0 0 0 0 1 1 1]\n",
            " [0 0 0 1 0 1 1 1]]\n"
          ]
        }
      ]
    },
    {
      "cell_type": "code",
      "source": [
        "import numpy as np\n",
        "import math\n",
        " \n",
        "in_array = [0, math.pi / 2, np.pi / 3, np.pi]\n",
        "print (\"Input array : \\n\", in_array)\n",
        " \n",
        "Sin_Values = np.sin(in_array)\n",
        "print (\"\\nSine values : \\n\", Sin_Values)"
      ],
      "metadata": {
        "colab": {
          "base_uri": "https://localhost:8080/"
        },
        "id": "eDo-ywImF5Rs",
        "outputId": "e4f65549-3b7e-4895-91a6-9de585594543"
      },
      "execution_count": 76,
      "outputs": [
        {
          "output_type": "stream",
          "name": "stdout",
          "text": [
            "Input array : \n",
            " [0, 1.5707963267948966, 1.0471975511965976, 3.141592653589793]\n",
            "\n",
            "Sine values : \n",
            " [0.00000000e+00 1.00000000e+00 8.66025404e-01 1.22464680e-16]\n"
          ]
        }
      ]
    },
    {
      "cell_type": "code",
      "source": [
        "import numpy as np\n",
        "import math\n",
        " \n",
        "in_array = [0, math.pi / 2, np.pi / 3, np.pi]\n",
        "print (\"Input array : \\n\", in_array)\n",
        " \n",
        "cos_Values = np.cos(in_array)\n",
        "print (\"\\nCosine values : \\n\", cos_Values)"
      ],
      "metadata": {
        "colab": {
          "base_uri": "https://localhost:8080/"
        },
        "id": "MOmN9nixpQjq",
        "outputId": "914e3bdf-c767-41cd-8fac-34dcf2e75eb0"
      },
      "execution_count": 1,
      "outputs": [
        {
          "output_type": "stream",
          "name": "stdout",
          "text": [
            "Input array : \n",
            " [0, 1.5707963267948966, 1.0471975511965976, 3.141592653589793]\n",
            "\n",
            "Cosine values : \n",
            " [ 1.000000e+00  6.123234e-17  5.000000e-01 -1.000000e+00]\n"
          ]
        }
      ]
    },
    {
      "cell_type": "code",
      "source": [
        "in_array = [0, math.pi / 2, np.pi / 3, np.pi]\n",
        "print (\"Input array : \\n\", in_array)\n",
        " \n",
        "Sinh_Values = np.sinh(in_array)\n",
        "print (\"\\nSine Hyperbolic values : \\n\", Sinh_Values)"
      ],
      "metadata": {
        "colab": {
          "base_uri": "https://localhost:8080/"
        },
        "id": "acuo8WWgpUkk",
        "outputId": "d8f6da3e-20f6-4b77-93c4-fd36d25313aa"
      },
      "execution_count": 2,
      "outputs": [
        {
          "output_type": "stream",
          "name": "stdout",
          "text": [
            "Input array : \n",
            " [0, 1.5707963267948966, 1.0471975511965976, 3.141592653589793]\n",
            "\n",
            "Sine Hyperbolic values : \n",
            " [ 0.          2.3012989   1.24936705 11.54873936]\n"
          ]
        }
      ]
    },
    {
      "cell_type": "code",
      "source": [
        "in_array = [0, math.pi / 2, np.pi / 3, np.pi]\n",
        "print (\"Input array : \\n\", in_array)\n",
        " \n",
        "cosh_Values = np.cosh(in_array)\n",
        "print (\"\\ncosine Hyperbolic values : \\n\", cosh_Values)"
      ],
      "metadata": {
        "colab": {
          "base_uri": "https://localhost:8080/"
        },
        "id": "Q35L3BfkpZQC",
        "outputId": "b3b8555b-994c-4acc-869b-e4793e870208"
      },
      "execution_count": 3,
      "outputs": [
        {
          "output_type": "stream",
          "name": "stdout",
          "text": [
            "Input array : \n",
            " [0, 1.5707963267948966, 1.0471975511965976, 3.141592653589793]\n",
            "\n",
            "cosine Hyperbolic values : \n",
            " [ 1.          2.50917848  1.60028686 11.59195328]\n"
          ]
        }
      ]
    },
    {
      "cell_type": "code",
      "source": [
        "import numpy as np\n",
        " \n",
        "in_array = [.5, 1.5, 2.5, 3.5, 4.5, 10.1]\n",
        "print (\"Input array : \\n\", in_array)\n",
        " \n",
        "round_off_values = np.around(in_array)\n",
        "print (\"\\nRounded values : \\n\", round_off_values)\n",
        " \n",
        " \n",
        "in_array = [.53, 1.54, .71]\n",
        "print (\"\\nInput array : \\n\", in_array)\n",
        " \n",
        "round_off_values = np.around(in_array)\n",
        "print (\"\\nRounded values : \\n\", round_off_values)\n",
        " \n",
        "in_array = [.5538, 1.33354, .71445]\n",
        "print (\"\\nInput array : \\n\", in_array)\n",
        " \n",
        "round_off_values = np.around(in_array, decimals = 3)\n",
        "print (\"\\nRounded values : \\n\", round_off_values)"
      ],
      "metadata": {
        "colab": {
          "base_uri": "https://localhost:8080/"
        },
        "id": "nMGbAzprpm8A",
        "outputId": "e9c34fbe-3f25-49fb-d235-b797aa9b6b0b"
      },
      "execution_count": 4,
      "outputs": [
        {
          "output_type": "stream",
          "name": "stdout",
          "text": [
            "Input array : \n",
            " [0.5, 1.5, 2.5, 3.5, 4.5, 10.1]\n",
            "\n",
            "Rounded values : \n",
            " [ 0.  2.  2.  4.  4. 10.]\n",
            "\n",
            "Input array : \n",
            " [0.53, 1.54, 0.71]\n",
            "\n",
            "Rounded values : \n",
            " [1. 2. 1.]\n",
            "\n",
            "Input array : \n",
            " [0.5538, 1.33354, 0.71445]\n",
            "\n",
            "Rounded values : \n",
            " [0.554 1.334 0.714]\n"
          ]
        }
      ]
    },
    {
      "cell_type": "code",
      "source": [
        "in_array = [.5, 1.5, 2.5, 3.5, 4.5, 10.1]\n",
        "print (\"Input array : \\n\", in_array)\n",
        " \n",
        "round_off_values = np.round_(in_array)\n",
        "print (\"\\nRounded values : \\n\", round_off_values)\n",
        " \n",
        " \n",
        "in_array = [.53, 1.54, .71]\n",
        "print (\"\\nInput array : \\n\", in_array)\n",
        " \n",
        "round_off_values = np.round_(in_array)\n",
        "print (\"\\nRounded values : \\n\", round_off_values)\n",
        " \n",
        "in_array = [.5538, 1.33354, .71445]\n",
        "print (\"\\nInput array : \\n\", in_array)\n",
        " \n",
        "round_off_values = np.round_(in_array, decimals = 3)\n",
        "print (\"\\nRounded values : \\n\", round_off_values)"
      ],
      "metadata": {
        "colab": {
          "base_uri": "https://localhost:8080/"
        },
        "id": "XMjHYB7FpwRy",
        "outputId": "7e64cadb-31f8-40f5-e4b8-b4ef5bb58d6f"
      },
      "execution_count": 5,
      "outputs": [
        {
          "output_type": "stream",
          "name": "stdout",
          "text": [
            "Input array : \n",
            " [0.5, 1.5, 2.5, 3.5, 4.5, 10.1]\n",
            "\n",
            "Rounded values : \n",
            " [ 0.  2.  2.  4.  4. 10.]\n",
            "\n",
            "Input array : \n",
            " [0.53, 1.54, 0.71]\n",
            "\n",
            "Rounded values : \n",
            " [1. 2. 1.]\n",
            "\n",
            "Input array : \n",
            " [0.5538, 1.33354, 0.71445]\n",
            "\n",
            "Rounded values : \n",
            " [0.554 1.334 0.714]\n"
          ]
        }
      ]
    },
    {
      "cell_type": "code",
      "source": [
        "import numpy as np\n",
        " \n",
        "in_array = [1, 3, 5]\n",
        "print (\"Input array : \", in_array)\n",
        " \n",
        "out_array = np.exp(in_array)\n",
        "print (\"Output array : \", out_array)"
      ],
      "metadata": {
        "colab": {
          "base_uri": "https://localhost:8080/"
        },
        "id": "wbZ3MNs2qsHq",
        "outputId": "00bc4d9d-12c7-43c5-88ef-929d0c8d8c4f"
      },
      "execution_count": 1,
      "outputs": [
        {
          "output_type": "stream",
          "name": "stdout",
          "text": [
            "Input array :  [1, 3, 5]\n",
            "Output array :  [  2.71828183  20.08553692 148.4131591 ]\n"
          ]
        }
      ]
    },
    {
      "cell_type": "code",
      "source": [
        "in_array = [1, 3, 5, 2**8]\n",
        "print (\"Input array : \", in_array)\n",
        " \n",
        "out_array = np.log(in_array)\n",
        "print (\"Output array : \", out_array)\n",
        " \n",
        " \n",
        "print(\"\\nnp.log(4**4) : \", np.log(4**4))\n",
        "print(\"np.log(2**8) : \", np.log(2**8))"
      ],
      "metadata": {
        "colab": {
          "base_uri": "https://localhost:8080/"
        },
        "id": "Hm9a5VdXqzf1",
        "outputId": "9df394bd-ed1b-443a-821b-4259980a039b"
      },
      "execution_count": 2,
      "outputs": [
        {
          "output_type": "stream",
          "name": "stdout",
          "text": [
            "Input array :  [1, 3, 5, 256]\n",
            "Output array :  [0.         1.09861229 1.60943791 5.54517744]\n",
            "\n",
            "np.log(4**4) :  5.545177444479562\n",
            "np.log(2**8) :  5.545177444479562\n"
          ]
        }
      ]
    },
    {
      "cell_type": "code",
      "source": [
        "in_num = 2.0\n",
        "print (\"Input  number : \", in_num)\n",
        " \n",
        "out_num = np.reciprocal(in_num)\n",
        "print (\"Output number : \", out_num)"
      ],
      "metadata": {
        "colab": {
          "base_uri": "https://localhost:8080/"
        },
        "id": "kYPaULEkq2qC",
        "outputId": "a378c3b1-9575-4714-f58c-dd9feeddab4f"
      },
      "execution_count": 3,
      "outputs": [
        {
          "output_type": "stream",
          "name": "stdout",
          "text": [
            "Input  number :  2.0\n",
            "Output number :  0.5\n"
          ]
        }
      ]
    },
    {
      "cell_type": "code",
      "source": [
        "# input_array\n",
        "arr1 = [2, 27, 2, 21, 23]\n",
        "arr2 = [2, 3, 4, 5, 6]\n",
        "print (\"arr1         : \", arr1)\n",
        "print (\"arr2         : \", arr2)\n",
        " \n",
        "# output_array\n",
        "out = np.divide(arr1, arr2)\n",
        "print (\"\\nOutput array : \\n\", out)"
      ],
      "metadata": {
        "colab": {
          "base_uri": "https://localhost:8080/"
        },
        "id": "MbnanPo_q5jk",
        "outputId": "8e99f1c4-4bc0-4e81-eef6-12f2bbcbd94e"
      },
      "execution_count": 4,
      "outputs": [
        {
          "output_type": "stream",
          "name": "stdout",
          "text": [
            "arr1         :  [2, 27, 2, 21, 23]\n",
            "arr2         :  [2, 3, 4, 5, 6]\n",
            "\n",
            "Output array : \n",
            " [1.         9.         0.5        4.2        3.83333333]\n"
          ]
        }
      ]
    },
    {
      "cell_type": "code",
      "source": [
        "import numpy as geek \n",
        " \n",
        "print(\"Is Real : \", geek.isreal([1+1j, 0j]), \"\\n\")\n",
        " \n",
        "print(\"Is Real : \", geek.isreal([1, 0]), \"\\n\")"
      ],
      "metadata": {
        "colab": {
          "base_uri": "https://localhost:8080/"
        },
        "id": "wky3VHfWq8H5",
        "outputId": "15af100d-cc11-4c43-c9ae-f74c208525e7"
      },
      "execution_count": 5,
      "outputs": [
        {
          "output_type": "stream",
          "name": "stdout",
          "text": [
            "Is Real :  [False  True] \n",
            "\n",
            "Is Real :  [ True  True] \n",
            "\n"
          ]
        }
      ]
    },
    {
      "cell_type": "code",
      "source": [
        "import numpy as np\n",
        " \n",
        "in_complx1 = 2+4j\n",
        "out_complx1 = np.conj(in_complx1)\n",
        "print (\"Output conjugated complex number of  2+4j : \", out_complx1)\n",
        " \n",
        "in_complx2 =5-8j\n",
        "out_complx2 = np.conj(in_complx2)\n",
        "print (\"Output conjugated complex number of 5-8j: \", out_complx2)"
      ],
      "metadata": {
        "colab": {
          "base_uri": "https://localhost:8080/"
        },
        "id": "KxoRC0Dtq_fY",
        "outputId": "9cb8afd3-5c2a-410f-c30e-5f49ab8c219e"
      },
      "execution_count": 6,
      "outputs": [
        {
          "output_type": "stream",
          "name": "stdout",
          "text": [
            "Output conjugated complex number of  2+4j :  (2-4j)\n",
            "Output conjugated complex number of 5-8j:  (5+8j)\n"
          ]
        }
      ]
    },
    {
      "cell_type": "code",
      "source": [
        "  \n",
        "arr1 = [1, 27000, 64, -1000]\n",
        "print (\"cbrt Value of arr1 : \\n\", np.cbrt(arr1))\n",
        "  \n",
        "arr2 = [1024 ,-128]\n",
        "print (\"\\ncbrt Value of arr2 : \", np.cbrt(arr2))"
      ],
      "metadata": {
        "colab": {
          "base_uri": "https://localhost:8080/"
        },
        "id": "JKfE3weprCVA",
        "outputId": "0e000bea-a865-4b20-fd28-ab9d24bbd233"
      },
      "execution_count": 7,
      "outputs": [
        {
          "output_type": "stream",
          "name": "stdout",
          "text": [
            "cbrt Value of arr1 : \n",
            " [  1.  30.   4. -10.]\n",
            "\n",
            "cbrt Value of arr2 :  [10.0793684 -5.0396842]\n"
          ]
        }
      ]
    },
    {
      "cell_type": "code",
      "source": [
        "in_array = [1, 2, 3, 4, 5, 6, 7, 8 ]\n",
        "print (\"Input array : \", in_array)\n",
        " \n",
        "out_array = np.clip(in_array, a_min = 2, a_max = 6)\n",
        "print (\"Output array : \", out_array)"
      ],
      "metadata": {
        "colab": {
          "base_uri": "https://localhost:8080/"
        },
        "id": "NS9Ow3JCrFWA",
        "outputId": "0750199b-d421-4898-cd14-64e0e46e432b"
      },
      "execution_count": 8,
      "outputs": [
        {
          "output_type": "stream",
          "name": "stdout",
          "text": [
            "Input array :  [1, 2, 3, 4, 5, 6, 7, 8]\n",
            "Output array :  [2 2 3 4 5 6 6 6]\n"
          ]
        }
      ]
    },
    {
      "cell_type": "code",
      "source": [
        "import numpy as np\n",
        " \n",
        "# converting to lowercase\n",
        "print(np.char.lower(['GEEKS', 'FOR']))\n",
        " \n",
        "# converting to lowercase\n",
        "print(np.char.lower('GEEKS'))"
      ],
      "metadata": {
        "colab": {
          "base_uri": "https://localhost:8080/"
        },
        "id": "rGH7JwU1rND4",
        "outputId": "ae628482-cb6e-4dc0-fe0b-895ff16d5572"
      },
      "execution_count": 9,
      "outputs": [
        {
          "output_type": "stream",
          "name": "stdout",
          "text": [
            "['geeks' 'for']\n",
            "geeks\n"
          ]
        }
      ]
    },
    {
      "cell_type": "code",
      "source": [
        "# splitting a string\n",
        "print(np.char.split('geeks for geeks'))\n",
        " \n",
        "# splitting a string\n",
        "print(np.char.split('geeks, for, geeks', sep = ','))"
      ],
      "metadata": {
        "colab": {
          "base_uri": "https://localhost:8080/"
        },
        "id": "NwvAIjtBrQKg",
        "outputId": "386ebf79-cbe4-4f20-d410-7344efb82df7"
      },
      "execution_count": 10,
      "outputs": [
        {
          "output_type": "stream",
          "name": "stdout",
          "text": [
            "['geeks', 'for', 'geeks']\n",
            "['geeks', ' for', ' geeks']\n"
          ]
        }
      ]
    },
    {
      "cell_type": "code",
      "source": [
        "import numpy as np\n",
        " \n",
        "# splitting a string\n",
        "print(np.char.join('-', 'geeks'))\n",
        " \n",
        "# splitting a string\n",
        "print(np.char.join(['-', ':'], ['geeks', 'for']))"
      ],
      "metadata": {
        "colab": {
          "base_uri": "https://localhost:8080/"
        },
        "id": "NufJnH6orSrB",
        "outputId": "648baa78-6afb-455e-ad1f-93c12af0fb4e"
      },
      "execution_count": 11,
      "outputs": [
        {
          "output_type": "stream",
          "name": "stdout",
          "text": [
            "g-e-e-k-s\n",
            "['g-e-e-k-s' 'f:o:r']\n"
          ]
        }
      ]
    },
    {
      "cell_type": "code",
      "source": [
        "import numpy as np\n",
        " \n",
        "a=np.array(['geeks', 'for', 'geeks'])\n",
        " \n",
        "# counting a substring\n",
        "print(np.char.count(a,'geek'))\n",
        " \n",
        "# counting a substring\n",
        "print(np.char.count(a, 'fo'))"
      ],
      "metadata": {
        "colab": {
          "base_uri": "https://localhost:8080/"
        },
        "id": "Ihg_8hFnrWLx",
        "outputId": "8f961280-2e67-48d0-b285-91b7d47361d3"
      },
      "execution_count": 12,
      "outputs": [
        {
          "output_type": "stream",
          "name": "stdout",
          "text": [
            "[1 0 1]\n",
            "[0 1 0]\n"
          ]
        }
      ]
    },
    {
      "cell_type": "code",
      "source": [
        "import numpy as np\n",
        " \n",
        "a=np.array(['geeks', 'for', 'geeks'])\n",
        " \n",
        "# counting a substring\n",
        "print(np.char.rfind(a,'geek'))\n",
        " \n",
        "# counting a substring\n",
        "print(np.char.rfind(a, 'fo'))"
      ],
      "metadata": {
        "colab": {
          "base_uri": "https://localhost:8080/"
        },
        "id": "iFNIZi3DrZLM",
        "outputId": "c23f5ed2-6795-41d8-dc3f-e45961638c85"
      },
      "execution_count": 13,
      "outputs": [
        {
          "output_type": "stream",
          "name": "stdout",
          "text": [
            "[ 0 -1  0]\n",
            "[-1  0 -1]\n"
          ]
        }
      ]
    },
    {
      "cell_type": "code",
      "source": [
        "# counting a substring\n",
        "print(np.char.isnumeric('geeks'))\n",
        " \n",
        "# counting a substring\n",
        "print(np.char.isnumeric('12geeks'))"
      ],
      "metadata": {
        "colab": {
          "base_uri": "https://localhost:8080/"
        },
        "id": "Dn5EA1K_rcln",
        "outputId": "9f613b7c-fe34-4dcf-892c-51fa43743cc2"
      },
      "execution_count": 14,
      "outputs": [
        {
          "output_type": "stream",
          "name": "stdout",
          "text": [
            "False\n",
            "False\n"
          ]
        }
      ]
    },
    {
      "cell_type": "code",
      "source": [
        "A = np.array([[6, 1, 1],\n",
        "              [4, -2, 5],\n",
        "              [2, 8, 7]])\n",
        " \n",
        "# Rank of a matrix\n",
        "print(\"Rank of A:\", np.linalg.matrix_rank(A))\n",
        " \n",
        "# Trace of matrix A\n",
        "print(\"\\nTrace of A:\", np.trace(A))\n",
        " \n",
        "# Determinant of a matrix\n",
        "print(\"\\nDeterminant of A:\", np.linalg.det(A))\n",
        " \n",
        "# Inverse of matrix A\n",
        "print(\"\\nInverse of A:\\n\", np.linalg.inv(A))\n",
        " \n",
        "print(\"\\nMatrix A raised to power 3:\\n\",\n",
        "           np.linalg.matrix_power(A, 3))"
      ],
      "metadata": {
        "colab": {
          "base_uri": "https://localhost:8080/"
        },
        "id": "FihnXJHjrpcQ",
        "outputId": "ae44a36c-e6fe-4fd5-91f7-2e05f636b9e8"
      },
      "execution_count": 16,
      "outputs": [
        {
          "output_type": "stream",
          "name": "stdout",
          "text": [
            "Rank of A: 3\n",
            "\n",
            "Trace of A: 11\n",
            "\n",
            "Determinant of A: -306.0\n",
            "\n",
            "Inverse of A:\n",
            " [[ 0.17647059 -0.00326797 -0.02287582]\n",
            " [ 0.05882353 -0.13071895  0.08496732]\n",
            " [-0.11764706  0.1503268   0.05228758]]\n",
            "\n",
            "Matrix A raised to power 3:\n",
            " [[336 162 228]\n",
            " [406 162 469]\n",
            " [698 702 905]]\n"
          ]
        }
      ]
    },
    {
      "cell_type": "code",
      "source": [
        "from numpy import linalg as geek\n",
        " \n",
        "# Creating an array using array \n",
        "# function\n",
        "a = np.array([[1, -2j], [2j, 5]])\n",
        " \n",
        "print(\"Array is :\",a)\n",
        " \n",
        "# calculating an eigen value\n",
        "# using eigh() function\n",
        "c, d = geek.eigh(a)\n",
        " \n",
        "print(\"Eigen value is :\", c)\n",
        "print(\"Eigen value is :\", d)"
      ],
      "metadata": {
        "id": "MTECJdoartuR",
        "outputId": "79f9174e-ac81-4190-f0fb-298b95a5e25e",
        "colab": {
          "base_uri": "https://localhost:8080/"
        }
      },
      "execution_count": 17,
      "outputs": [
        {
          "output_type": "stream",
          "name": "stdout",
          "text": [
            "Array is : [[ 1.+0.j -0.-2.j]\n",
            " [ 0.+2.j  5.+0.j]]\n",
            "Eigen value is : [0.17157288 5.82842712]\n",
            "Eigen value is : [[-0.92387953+0.j         -0.38268343+0.j        ]\n",
            " [ 0.        +0.38268343j  0.        -0.92387953j]]\n"
          ]
        }
      ]
    }
  ]
}