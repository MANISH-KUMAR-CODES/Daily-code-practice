{
  "nbformat": 4,
  "nbformat_minor": 0,
  "metadata": {
    "colab": {
      "name": "Daily code practice",
      "provenance": [],
      "collapsed_sections": [],
      "authorship_tag": "ABX9TyMv5IvcgIo0Twtxt+z8zLIf",
      "include_colab_link": true
    },
    "kernelspec": {
      "name": "python3",
      "display_name": "Python 3"
    },
    "language_info": {
      "name": "python"
    }
  },
  "cells": [
    {
      "cell_type": "markdown",
      "metadata": {
        "id": "view-in-github",
        "colab_type": "text"
      },
      "source": [
        "<a href=\"https://colab.research.google.com/github/MANISH-KUMAR-CODES/Daily-code-practice/blob/main/Daily_code_practice.ipynb\" target=\"_parent\"><img src=\"https://colab.research.google.com/assets/colab-badge.svg\" alt=\"Open In Colab\"/></a>"
      ]
    },
    {
      "cell_type": "markdown",
      "source": [
        "## **In this notebook i will daily practice some codes. so  i never forget how to code and make myself strong in codings**"
      ],
      "metadata": {
        "id": "ojZlx7z4dul_"
      }
    },
    {
      "cell_type": "markdown",
      "source": [
        "## practice on one hot encoding using python"
      ],
      "metadata": {
        "id": "88xkaoP4ePEX"
      }
    },
    {
      "cell_type": "code",
      "source": [
        "import pandas as pd"
      ],
      "metadata": {
        "id": "FDkuS7haeGQq"
      },
      "execution_count": 1,
      "outputs": []
    },
    {
      "cell_type": "code",
      "source": [
        "df= pd.DataFrame({'Team' :[\"A\",\"A\",\"B\",\"B\",\"B\",\"B\",\"C\",\"C\",\"C\"],\n",
        "                    'points':[25,12,15,14,19,23,25,29,30]})\n",
        "#view DataFrame\n",
        "print(df)"
      ],
      "metadata": {
        "colab": {
          "base_uri": "https://localhost:8080/"
        },
        "id": "k4C62rcdech0",
        "outputId": "a0da7041-c328-47b9-b6ab-5a44f644b282"
      },
      "execution_count": 8,
      "outputs": [
        {
          "output_type": "stream",
          "name": "stdout",
          "text": [
            "  Team  points\n",
            "0    A      25\n",
            "1    A      12\n",
            "2    B      15\n",
            "3    B      14\n",
            "4    B      19\n",
            "5    B      23\n",
            "6    C      25\n",
            "7    C      29\n",
            "8    C      30\n"
          ]
        }
      ]
    },
    {
      "cell_type": "code",
      "source": [
        "from sklearn.preprocessing import OneHotEncoder\n",
        "#creating instance of one-hot-encoder\n",
        "Encoder = OneHotEncoder(handle_unknown = 'ignore')\n",
        "\n",
        "#perform one-hot encoding on 'team' column \n",
        "encoder_df = pd.DataFrame(Encoder.fit_transform(df[['Team']]).toarray()) # in fir transform we have to put a dataframe only ,we cannot put a series \n",
        "\n",
        "#merge one-hot encoded columns back with original DataFrame\n",
        "final_df = df.join(encoder_df)\n",
        "\n",
        "#view final df\n",
        "print(final_df)\n",
        "\n",
        "#drop 'team' column\n",
        "final_df.drop('Team',axis = 1,inplace = True)\n",
        "\n",
        "#view final df\n",
        "print(final_df)\n",
        "\n",
        "final_df.columns = ['points','TeamA','TeamB','TeamC']"
      ],
      "metadata": {
        "colab": {
          "base_uri": "https://localhost:8080/"
        },
        "id": "K6yvAZIxfdBO",
        "outputId": "522f266e-a79c-4c75-d864-af0376fbca9d"
      },
      "execution_count": 39,
      "outputs": [
        {
          "output_type": "stream",
          "name": "stdout",
          "text": [
            "  Team  points    0    1    2\n",
            "0    A      25  1.0  0.0  0.0\n",
            "1    A      12  1.0  0.0  0.0\n",
            "2    B      15  0.0  1.0  0.0\n",
            "3    B      14  0.0  1.0  0.0\n",
            "4    B      19  0.0  1.0  0.0\n",
            "5    B      23  0.0  1.0  0.0\n",
            "6    C      25  0.0  0.0  1.0\n",
            "7    C      29  0.0  0.0  1.0\n",
            "8    C      30  0.0  0.0  1.0\n",
            "   points    0    1    2\n",
            "0      25  1.0  0.0  0.0\n",
            "1      12  1.0  0.0  0.0\n",
            "2      15  0.0  1.0  0.0\n",
            "3      14  0.0  1.0  0.0\n",
            "4      19  0.0  1.0  0.0\n",
            "5      23  0.0  1.0  0.0\n",
            "6      25  0.0  0.0  1.0\n",
            "7      29  0.0  0.0  1.0\n",
            "8      30  0.0  0.0  1.0\n"
          ]
        }
      ]
    },
    {
      "cell_type": "code",
      "source": [
        "#view final df\n",
        "print(final_df)"
      ],
      "metadata": {
        "colab": {
          "base_uri": "https://localhost:8080/"
        },
        "id": "QLG6s-D2jvce",
        "outputId": "cf806627-d19a-4f25-cca5-aa391078b8be"
      },
      "execution_count": 37,
      "outputs": [
        {
          "output_type": "stream",
          "name": "stdout",
          "text": [
            "   points  TeamA  TeamB  TeamC\n",
            "0      25    1.0    0.0    0.0\n",
            "1      12    1.0    0.0    0.0\n",
            "2      15    0.0    1.0    0.0\n",
            "3      14    0.0    1.0    0.0\n",
            "4      19    0.0    1.0    0.0\n",
            "5      23    0.0    1.0    0.0\n",
            "6      25    0.0    0.0    1.0\n",
            "7      29    0.0    0.0    1.0\n",
            "8      30    0.0    0.0    1.0\n"
          ]
        }
      ]
    },
    {
      "cell_type": "code",
      "source": [
        "Encoder.fit_transform(df[['Team']]).toarray()"
      ],
      "metadata": {
        "colab": {
          "base_uri": "https://localhost:8080/"
        },
        "id": "Qnzh8pAjhtvo",
        "outputId": "64614bf8-7509-4056-ddb3-2fe7c96bf330"
      },
      "execution_count": 29,
      "outputs": [
        {
          "output_type": "execute_result",
          "data": {
            "text/plain": [
              "array([[1., 0., 0.],\n",
              "       [1., 0., 0.],\n",
              "       [0., 1., 0.],\n",
              "       [0., 1., 0.],\n",
              "       [0., 1., 0.],\n",
              "       [0., 1., 0.],\n",
              "       [0., 0., 1.],\n",
              "       [0., 0., 1.],\n",
              "       [0., 0., 1.]])"
            ]
          },
          "metadata": {},
          "execution_count": 29
        }
      ]
    },
    {
      "cell_type": "markdown",
      "source": [
        "### **using split function of python**"
      ],
      "metadata": {
        "id": "34u5FHBNbBZr"
      }
    },
    {
      "cell_type": "code",
      "source": [
        "x,y = input('Enter two Inputs:').split(\",\")\n",
        "print(\"Number of boys:\",x)\n",
        "print(\"Number of girls:\", y)"
      ],
      "metadata": {
        "colab": {
          "base_uri": "https://localhost:8080/"
        },
        "id": "BLeo0iJFbLJn",
        "outputId": "a329612e-7b14-4427-81b0-f5676aa7b3ed"
      },
      "execution_count": 5,
      "outputs": [
        {
          "output_type": "stream",
          "name": "stdout",
          "text": [
            "Enter two Inputs:45,67\n",
            "Number of boys: 45\n",
            "Number of girls: 67\n"
          ]
        }
      ]
    },
    {
      "cell_type": "code",
      "source": [
        "x,y,z = input(\"Taking three inputs:\").split(\",\")\n",
        "print(\"No. of boys:\",(x))\n",
        "print(\"No. of girls\",(y))\n",
        "print(\"No. of teachers:\",(z))\n",
        "print(\"No. of students in total:\",x+y+z)"
      ],
      "metadata": {
        "colab": {
          "base_uri": "https://localhost:8080/"
        },
        "id": "vx76vt1abT0n",
        "outputId": "9703cb6f-a0df-4b45-c1a4-9e63d3f2a431"
      },
      "execution_count": 16,
      "outputs": [
        {
          "output_type": "stream",
          "name": "stdout",
          "text": [
            "Taking three inputs:444,555,66\n",
            "No. of boys: 444\n",
            "No. of girls 555\n",
            "No. of teachers: 66\n",
            "No. of students in total: 44455566\n"
          ]
        }
      ]
    },
    {
      "cell_type": "code",
      "source": [
        "a,b = input(\"The two numbers are:\").split(',')\n",
        "print(\"First number is {} and second number is {}\".format(a,b))"
      ],
      "metadata": {
        "colab": {
          "base_uri": "https://localhost:8080/"
        },
        "id": "wuWme_GYeJQl",
        "outputId": "ada22306-a66d-4ed1-cc4f-a562483385c6"
      },
      "execution_count": 18,
      "outputs": [
        {
          "output_type": "stream",
          "name": "stdout",
          "text": [
            "The two numbers are:45,56\n",
            "First number is 45 and second number is 56\n"
          ]
        }
      ]
    },
    {
      "cell_type": "code",
      "source": [
        "# taking multiple inputs at a time \n",
        "# and type casting using list() function\n",
        "x = list(map(int,input(\"multiple inputs:\").split(',')))\n",
        "print(\"list of multiple inputs are:\",x)"
      ],
      "metadata": {
        "colab": {
          "base_uri": "https://localhost:8080/"
        },
        "id": "W2a8_0tZg8Hg",
        "outputId": "03527908-cf45-4c08-f825-9e872bd4beb9"
      },
      "execution_count": 23,
      "outputs": [
        {
          "output_type": "stream",
          "name": "stdout",
          "text": [
            "multiple inputs:46,235,35,35,34,23\n",
            "list of multiple inputs are: [46, 235, 35, 35, 34, 23]\n"
          ]
        }
      ]
    },
    {
      "cell_type": "code",
      "source": [
        "print(\"Geeks of Geeks \\n is the best for Dsa content\")\n",
        "print(\"Geeks of geeks \\n is the best for DSA\", end = '**')\n",
        "print('Geeks of geeks is the best')"
      ],
      "metadata": {
        "colab": {
          "base_uri": "https://localhost:8080/"
        },
        "id": "SZrXDxs5iaYc",
        "outputId": "c3c05a71-1f08-4d34-f540-60d94316655e"
      },
      "execution_count": 25,
      "outputs": [
        {
          "output_type": "stream",
          "name": "stdout",
          "text": [
            "Geeks of Geeks \n",
            " is the best for Dsa content\n",
            "Geeks of geeks \n",
            " is the best for DSA**Geeks of geeks is the best\n"
          ]
        }
      ]
    },
    {
      "cell_type": "markdown",
      "source": [
        "### **code to print in same line**"
      ],
      "metadata": {
        "id": "JAM3z-NNka-r"
      }
    },
    {
      "cell_type": "code",
      "source": [
        "print('Geeks',end = ' ')\n",
        "print(\"GeeksofGeeks\")"
      ],
      "metadata": {
        "colab": {
          "base_uri": "https://localhost:8080/"
        },
        "id": "Bzg-_w0QkaSv",
        "outputId": "45fe293e-bdcc-4752-e788-aa1547edfca9"
      },
      "execution_count": 27,
      "outputs": [
        {
          "output_type": "stream",
          "name": "stdout",
          "text": [
            "Geeks GeeksofGeeks\n"
          ]
        }
      ]
    },
    {
      "cell_type": "code",
      "source": [
        "a= [1,2,3,4,5]\n",
        "for i in range(5):\n",
        "   print(a[i],end =' ')"
      ],
      "metadata": {
        "colab": {
          "base_uri": "https://localhost:8080/"
        },
        "id": "JnFtcStMksRv",
        "outputId": "9beed354-798c-4278-f09b-4f5fe1532a1b"
      },
      "execution_count": 31,
      "outputs": [
        {
          "output_type": "stream",
          "name": "stdout",
          "text": [
            "1 2 3 4 5 "
          ]
        }
      ]
    },
    {
      "cell_type": "code",
      "source": [
        "l = [1,2,3,45,6,7]\n",
        "print(*l)"
      ],
      "metadata": {
        "colab": {
          "base_uri": "https://localhost:8080/"
        },
        "id": "CrT_6k2hljpE",
        "outputId": "508ac29b-f35e-44e4-c7ef-d81a422766c6"
      },
      "execution_count": 36,
      "outputs": [
        {
          "output_type": "stream",
          "name": "stdout",
          "text": [
            "1 2 3 45 6 7\n"
          ]
        }
      ]
    },
    {
      "cell_type": "code",
      "source": [
        "print('Red',\"Blue\",\"Green\", sep = \",\",end = '@')\n",
        "print('GeeksforGeeks')"
      ],
      "metadata": {
        "colab": {
          "base_uri": "https://localhost:8080/"
        },
        "id": "Zatt3AnrmmU1",
        "outputId": "8443191f-043b-44e9-af0d-d3d61290eab9"
      },
      "execution_count": 39,
      "outputs": [
        {
          "output_type": "stream",
          "name": "stdout",
          "text": [
            "Red,Blue,Green@GeeksforGeeks\n"
          ]
        }
      ]
    },
    {
      "cell_type": "code",
      "source": [
        "# using format() method with number\n",
        "print(\"Geeks :{0:2d}, Portal :{1:8.2f}\".\n",
        "      format(1200, 555.546))"
      ],
      "metadata": {
        "colab": {
          "base_uri": "https://localhost:8080/"
        },
        "id": "M9ZtePZ0pWxA",
        "outputId": "2cf5ed7c-233d-4b09-c215-e22f476b8502"
      },
      "execution_count": 47,
      "outputs": [
        {
          "output_type": "stream",
          "name": "stdout",
          "text": [
            "Geeks :1200, Portal :  555.55\n"
          ]
        }
      ]
    },
    {
      "cell_type": "code",
      "source": [
        "tab = {'geeks': 4127, 'for': 4098, 'geek': 8637678}\n",
        "\n",
        "print('Geeks: {0[geeks]:2d}; For: {0[for]:d}; '\n",
        "    'Geeks: {0[geek]:d}'.format(tab))"
      ],
      "metadata": {
        "colab": {
          "base_uri": "https://localhost:8080/"
        },
        "id": "kcN-1G7Jq2bB",
        "outputId": "b2d6a491-c1b1-40d4-9ef6-0659e91c9a42"
      },
      "execution_count": 51,
      "outputs": [
        {
          "output_type": "stream",
          "name": "stdout",
          "text": [
            "Geeks: 4127; For: 4098; Geeks: 8637678\n"
          ]
        }
      ]
    },
    {
      "cell_type": "code",
      "source": [
        "data = dict(fun =\"GeeksForGeeks\", adj =\"Portal\")\n",
        " \n",
        "# using format() in dictionary\n",
        "print(\"I love {fun} computer {adj}\".format(**data))"
      ],
      "metadata": {
        "colab": {
          "base_uri": "https://localhost:8080/"
        },
        "id": "kd5UsErprQKz",
        "outputId": "acc8c5c1-ec4f-4105-db65-cd00c0ea2846"
      },
      "execution_count": 55,
      "outputs": [
        {
          "output_type": "stream",
          "name": "stdout",
          "text": [
            "I love GeeksForGeeks computer Portal\n"
          ]
        }
      ]
    },
    {
      "cell_type": "code",
      "source": [
        "cstr = \"I love geeksforgeeks\"\n",
        "print(\"Centre alingned\")\n",
        "print(cstr.center(40,\"*\"))\n",
        "#left alingned\n",
        "print(cstr.ljust(40,'*'))\n",
        "#right alinged\n",
        "print(cstr.rjust(40,\"*\"))"
      ],
      "metadata": {
        "colab": {
          "base_uri": "https://localhost:8080/"
        },
        "id": "SzW_riON6vum",
        "outputId": "9d676c8b-ceee-422c-e624-eb3d4aa95e97"
      },
      "execution_count": 64,
      "outputs": [
        {
          "output_type": "stream",
          "name": "stdout",
          "text": [
            "Centre alingned\n",
            "**********I love geeksforgeeks**********\n",
            "I love geeksforgeeks********************\n",
            "********************I love geeksforgeeks\n"
          ]
        }
      ]
    },
    {
      "cell_type": "code",
      "source": [
        "# Examples of Bitwise operators\n",
        "a = 10\n",
        "b = 4\n",
        " \n",
        "# Print bitwise AND operation\n",
        "print(a & b)\n",
        " \n",
        "# Print bitwise OR operation\n",
        "print(a | b)\n",
        " \n",
        "# Print bitwise NOT operation\n",
        "print(~a)\n",
        " \n",
        "# print bitwise XOR operation\n",
        "print(a ^ b)\n",
        " \n",
        "# print bitwise right shift operation\n",
        "print(a >> 2)\n",
        " \n",
        "# print bitwise left shift operation\n",
        "print(a << 2)"
      ],
      "metadata": {
        "colab": {
          "base_uri": "https://localhost:8080/"
        },
        "id": "EMptYEsm-cCj",
        "outputId": "2c5e47f9-6cf5-420d-89ee-9faeabf17949"
      },
      "execution_count": 65,
      "outputs": [
        {
          "output_type": "stream",
          "name": "stdout",
          "text": [
            "0\n",
            "14\n",
            "-11\n",
            "14\n",
            "2\n",
            "40\n"
          ]
        }
      ]
    },
    {
      "cell_type": "code",
      "source": [
        "a ,b= 10, 20\n",
        "if a >b :\n",
        "  print(\"a is greater than b\")\n",
        "else:\n",
        "    print(\" b is greater than a\")"
      ],
      "metadata": {
        "colab": {
          "base_uri": "https://localhost:8080/"
        },
        "id": "-lkC_drqHgz4",
        "outputId": "d80ece51-1845-4418-e429-4b47b595f290"
      },
      "execution_count": 2,
      "outputs": [
        {
          "output_type": "stream",
          "name": "stdout",
          "text": [
            " b is greater than a\n"
          ]
        }
      ]
    },
    {
      "cell_type": "code",
      "source": [
        "print(a,\" is greater than b\")if (a>b) else print(b,\" is greater\")"
      ],
      "metadata": {
        "colab": {
          "base_uri": "https://localhost:8080/"
        },
        "id": "cdM6-e8XILhL",
        "outputId": "2f40b939-3de7-42ea-e78b-18000069f28f"
      },
      "execution_count": 5,
      "outputs": [
        {
          "output_type": "stream",
          "name": "stdout",
          "text": [
            "20  is greater\n"
          ]
        }
      ]
    },
    {
      "cell_type": "code",
      "source": [
        "print(1 + 2 + 5)\n",
        " \n",
        "# concatenate two strings\n",
        "print(\"Geeks\"+\"For\"+ \"Geeks\")\n",
        " \n",
        "# Product two numbers\n",
        "print(3 * 4 * 9)\n",
        " \n",
        "# Repeat the String\n",
        "print(\"Geeks\"*4+5*\"for\")"
      ],
      "metadata": {
        "colab": {
          "base_uri": "https://localhost:8080/"
        },
        "id": "yHMigYq-JgsL",
        "outputId": "cbb20fce-0017-40e2-c2a2-9522839b95e9"
      },
      "execution_count": 6,
      "outputs": [
        {
          "output_type": "stream",
          "name": "stdout",
          "text": [
            "8\n",
            "GeeksForGeeks\n",
            "108\n",
            "GeeksGeeksGeeksGeeksforforforforfor\n"
          ]
        }
      ]
    },
    {
      "cell_type": "code",
      "source": [
        "## to overload an binary + operator\n",
        "class A:\n",
        "     def __init__(self,a,b):\n",
        "        self.a = a\n",
        "        self.b = b\n",
        "\n",
        "     def __add__(self , o):\n",
        "        self.o = o\n",
        "        return self.a + o.a   "
      ],
      "metadata": {
        "id": "i-o9l8G5J2Gs"
      },
      "execution_count": 29,
      "outputs": []
    },
    {
      "cell_type": "code",
      "source": [
        "obj1 = A(1,5)\n",
        "obj2 = A(2,4)\n",
        "print(obj1 + obj2)"
      ],
      "metadata": {
        "colab": {
          "base_uri": "https://localhost:8080/"
        },
        "id": "80ubhP3yTmtc",
        "outputId": "22ae0022-9097-4ce7-f74c-edd291593fe9"
      },
      "execution_count": 30,
      "outputs": [
        {
          "output_type": "stream",
          "name": "stdout",
          "text": [
            "3\n"
          ]
        }
      ]
    },
    {
      "cell_type": "code",
      "source": [
        "\n",
        "# A Sample class with init method\n",
        "class Person:\n",
        "   \n",
        "    # init method or constructor \n",
        "    def __init__(self, name,age):\n",
        "        self.age = age\n",
        "        self.name = name\n",
        "   \n",
        "    # Sample Method \n",
        "    def say_hi(self):\n",
        "        print('Hello, my name is {},and my age is {}'.format(self.name,self.age))"
      ],
      "metadata": {
        "id": "DRGJVUOvaIIl"
      },
      "execution_count": 36,
      "outputs": []
    },
    {
      "cell_type": "code",
      "source": [
        "p = Person('Nikhil',35)\n",
        "p.say_hi()"
      ],
      "metadata": {
        "colab": {
          "base_uri": "https://localhost:8080/"
        },
        "id": "TScJ3G_Gaoxo",
        "outputId": "01ae63d5-22b1-4502-c8f6-c7597315619c"
      },
      "execution_count": 37,
      "outputs": [
        {
          "output_type": "stream",
          "name": "stdout",
          "text": [
            "Hello, my name is Nikhil,and my age is 35\n"
          ]
        }
      ]
    },
    {
      "cell_type": "code",
      "source": [
        "class Dog:\n",
        "     animal = \"dog\"\n",
        "     def __init__(self,breed,color):\n",
        "        self.breed = breed\n",
        "        self.color = color\n",
        "\n",
        "     def setcolor(self,color):\n",
        "         self.color = color\n",
        "\n",
        "     def getcolor(self):\n",
        "         return self.color       \n",
        "\n",
        "     print(Dog.animal)  ##Class variables can be accessed using class"
      ],
      "metadata": {
        "colab": {
          "base_uri": "https://localhost:8080/"
        },
        "id": "VJg3EnqVJyxw",
        "outputId": "405f2100-8769-495c-f4ef-005c53c4aad4"
      },
      "execution_count": 14,
      "outputs": [
        {
          "output_type": "stream",
          "name": "stdout",
          "text": [
            "dog\n"
          ]
        }
      ]
    },
    {
      "cell_type": "code",
      "source": [
        "# Objects of Dog class\n",
        "Rodger = Dog(\"Pug\", \"brown\")\n",
        "Buzo = Dog(\"Bulldog\", \"black\")"
      ],
      "metadata": {
        "id": "n1NsrPq5Khq1"
      },
      "execution_count": 6,
      "outputs": []
    },
    {
      "cell_type": "code",
      "source": [
        "print(\"Rodger details:\")\n",
        "print(\"Rodger class:\",Rodger.animal)\n",
        "print(\"Rodger breed:\",Rodger.breed)\n",
        "print(\"Rodger color:\",Rodger.color)"
      ],
      "metadata": {
        "colab": {
          "base_uri": "https://localhost:8080/"
        },
        "id": "gD3g5srNKpWX",
        "outputId": "67f4e8d5-54af-4922-d9e6-8aee37264395"
      },
      "execution_count": 7,
      "outputs": [
        {
          "output_type": "stream",
          "name": "stdout",
          "text": [
            "Rodger details:\n",
            "Rodger class: dog\n",
            "Rodger breed: Pug\n",
            "Rodger color: brown\n"
          ]
        }
      ]
    },
    {
      "cell_type": "code",
      "source": [
        "print(\"Buzo details:\")\n",
        "print(\"Buzo class:\",Buzo.animal)\n",
        "print(\"Buzo breed:\",Buzo.breed)\n",
        "print(\"Buzo color:\",Buzo.color)"
      ],
      "metadata": {
        "colab": {
          "base_uri": "https://localhost:8080/"
        },
        "id": "i3JkCISXLdp9",
        "outputId": "29ba5363-c6ef-4e15-a749-9abf39ac9ffb"
      },
      "execution_count": 8,
      "outputs": [
        {
          "output_type": "stream",
          "name": "stdout",
          "text": [
            "Buzo details:\n",
            "Buzo class: dog\n",
            "Buzo breed: Bulldog\n",
            "Buzo color: black\n"
          ]
        }
      ]
    },
    {
      "cell_type": "code",
      "source": [
        "Rodger = Dog('Pug','yellow')\n",
        "Rodger.setcolor(\"green\")\n",
        "print(Rodger.getcolor())"
      ],
      "metadata": {
        "colab": {
          "base_uri": "https://localhost:8080/"
        },
        "id": "UitS4DRbNCeF",
        "outputId": "40d854ae-a2d7-4f0c-fe84-88adc603c31f"
      },
      "execution_count": 16,
      "outputs": [
        {
          "output_type": "stream",
          "name": "stdout",
          "text": [
            "green\n"
          ]
        }
      ]
    },
    {
      "cell_type": "code",
      "source": [
        "class GeekForGeeks:\n",
        "      def __init__(self):\n",
        "         self.geek = \"GeekForGeeks\"\n",
        "\n",
        "      def printGeek(self):\n",
        "          return print(self.geek)"
      ],
      "metadata": {
        "id": "fXeXhy-JaZdD"
      },
      "execution_count": 18,
      "outputs": []
    },
    {
      "cell_type": "code",
      "source": [
        "obj = GeekForGeeks()\n",
        "obj.printGeek()"
      ],
      "metadata": {
        "colab": {
          "base_uri": "https://localhost:8080/"
        },
        "id": "NCUzvhYtb7z6",
        "outputId": "d58b8b32-f081-45d2-cb22-3cb1681016b8"
      },
      "execution_count": 19,
      "outputs": [
        {
          "output_type": "stream",
          "name": "stdout",
          "text": [
            "GeekForGeeks\n"
          ]
        }
      ]
    },
    {
      "cell_type": "code",
      "source": [
        "class Addition:\n",
        "      first = 0\n",
        "      second = 0\n",
        "      answer = 0\n",
        "      def __init__(self,f,s):\n",
        "          self.first = f\n",
        "          self.second = s\n",
        "           \n",
        "      def display(self):\n",
        "        print(\"First number = \" + str(self.first))\n",
        "        print(\"Second number = \" + str(self.second))\n",
        "        print(\"Addition of two numbers = \" + str(self.answer))     \n",
        "\n",
        "      def calculate(self):\n",
        "          self.answer = (self.first + self.second )\n",
        "          return print(\"The answer is:\",self.answer)  \n"
      ],
      "metadata": {
        "id": "Qc6w0UeUd9zE"
      },
      "execution_count": 29,
      "outputs": []
    },
    {
      "cell_type": "code",
      "source": [
        "obj = Addition(19,56)\n",
        "obj.calculate()\n",
        "obj.display()"
      ],
      "metadata": {
        "colab": {
          "base_uri": "https://localhost:8080/"
        },
        "id": "siXRHHIzfCvP",
        "outputId": "17bd1aae-faf2-4ff6-bb24-1ccd97467272"
      },
      "execution_count": 30,
      "outputs": [
        {
          "output_type": "stream",
          "name": "stdout",
          "text": [
            "The answer is: 75\n",
            "First number = 19\n",
            "Second number = 56\n",
            "Addition of two numbers = 75\n"
          ]
        }
      ]
    },
    {
      "cell_type": "markdown",
      "source": [
        "## **Inheritance in python oops**"
      ],
      "metadata": {
        "id": "X1AESi1gQ2LI"
      }
    },
    {
      "cell_type": "code",
      "source": [
        "class person(object):\n",
        "      def __init__(self,name):\n",
        "         self.name = name\n",
        "\n",
        "      def getname(self):\n",
        "          return self.name  \n",
        "\n",
        "      def isemployee(self):\n",
        "          return False  \n",
        "\n",
        "class employee(person):\n",
        "     def isemployee(self):\n",
        "        return True             "
      ],
      "metadata": {
        "id": "m-xhcJzJREEV"
      },
      "execution_count": 7,
      "outputs": []
    },
    {
      "cell_type": "code",
      "source": [
        "obj = person(\"mahesh\")\n",
        "print(obj.getname(),obj.isemployee())\n",
        "obj = employee(\"bupesh\")\n",
        "print(obj.getname(),obj.isemployee())"
      ],
      "metadata": {
        "colab": {
          "base_uri": "https://localhost:8080/"
        },
        "id": "WdOYtiJ3R3SW",
        "outputId": "3a53afff-dff4-40a3-dc5c-f7130e98f00c"
      },
      "execution_count": 9,
      "outputs": [
        {
          "output_type": "stream",
          "name": "stdout",
          "text": [
            "mahesh False\n",
            "bupesh True\n"
          ]
        }
      ]
    },
    {
      "cell_type": "code",
      "source": [
        "class person(object):\n",
        "    def __init__(self,name,person_id):\n",
        "        self.name = name \n",
        "        self.person_id = person_id\n",
        "\n",
        "    def display(self):\n",
        "        print(self.name,self.person_id,self.salary,self.department)    \n",
        "\n",
        "class employee(person):\n",
        "      def __init__(self,name,person_id,salary,department):\n",
        "          self.salary = salary\n",
        "          self.department= department\n",
        "\n",
        "          person.__init__(self,name,person_id)\n",
        "            "
      ],
      "metadata": {
        "id": "Xa3U3fFMUb7g"
      },
      "execution_count": 15,
      "outputs": []
    },
    {
      "cell_type": "code",
      "source": [
        "a = employee(\"mahesh\",23,300000,\"health\")\n",
        "a.display()"
      ],
      "metadata": {
        "colab": {
          "base_uri": "https://localhost:8080/"
        },
        "id": "a2WMTXsAVncX",
        "outputId": "5d473bad-6e5d-422f-d4dc-a16ed7d3c350"
      },
      "execution_count": 16,
      "outputs": [
        {
          "output_type": "stream",
          "name": "stdout",
          "text": [
            "mahesh 23 300000 health\n"
          ]
        }
      ]
    },
    {
      "cell_type": "code",
      "source": [
        "class base1():\n",
        "     def __init__(self):\n",
        "        self.str1 = \"geek1\"\n",
        "        self.str3 = \"For\"\n",
        "        print(\"base1\")\n",
        "class base2():\n",
        "     def __init__(self):\n",
        "        self.str2 = \"geek2\"\n",
        "        print(\"base2\")\n",
        "\n",
        "class derived(base1,base2):\n",
        "      def __init__(self):\n",
        "          base1.__init__(self)\n",
        "          base2.__init__(self)\n",
        "          print(\"derived\")\n",
        "\n",
        "      def printstrs(self):\n",
        "          print(self.str1,self.str3,self.str2)    "
      ],
      "metadata": {
        "id": "HHqJ05uFZ2bL"
      },
      "execution_count": 23,
      "outputs": []
    },
    {
      "cell_type": "code",
      "source": [
        "obj = derived()\n",
        "obj.printstrs()"
      ],
      "metadata": {
        "colab": {
          "base_uri": "https://localhost:8080/"
        },
        "id": "myNF24clbTZs",
        "outputId": "032c4d74-5541-48d6-ff4c-bf338c2f3769"
      },
      "execution_count": 24,
      "outputs": [
        {
          "output_type": "stream",
          "name": "stdout",
          "text": [
            "base1\n",
            "base2\n",
            "derived\n",
            "geek1 For geek2\n"
          ]
        }
      ]
    },
    {
      "cell_type": "code",
      "source": [
        "class base(object):\n",
        "     def __init__(self,name):\n",
        "         self.name = name\n",
        "\n",
        "     def getname(self):\n",
        "         return self.name\n",
        "\n",
        "class child(base):\n",
        "     def __init__(self,name,age):\n",
        "       self.age = age\n",
        "       base.__init__(self,name)\n",
        "\n",
        "     def getage(self):\n",
        "         return self.age\n",
        "\n",
        "class grandchild(child):\n",
        "     def __init__(self,name,age,address):\n",
        "        self.address = address\n",
        "        child.__init__(self,name,age) \n",
        "\n",
        "     def getaddress(self):\n",
        "         return self.address\n"
      ],
      "metadata": {
        "id": "lMR2qLQ_badm"
      },
      "execution_count": 29,
      "outputs": []
    },
    {
      "cell_type": "code",
      "source": [
        "a = grandchild(\"mojhan\",23,\"bhagalpur\")\n",
        "print(a.getname(),a.getage(),a.getaddress())"
      ],
      "metadata": {
        "colab": {
          "base_uri": "https://localhost:8080/"
        },
        "id": "llDb3btse88M",
        "outputId": "0f3022fd-22db-45f4-dd60-615a3315299c"
      },
      "execution_count": 30,
      "outputs": [
        {
          "output_type": "stream",
          "name": "stdout",
          "text": [
            "mojhan 23 bhagalpur\n"
          ]
        }
      ]
    },
    {
      "cell_type": "code",
      "source": [
        "class Child1:\n",
        "    def __init__(self, name):\n",
        "        self.name = name\n",
        "    def getName(self):\n",
        "        return self.name\n",
        "    def isStudent(self):\n",
        "        return False\n",
        "\n",
        "class Student1(Child1):\n",
        "    def isStudent(self):\n",
        "        return True"
      ],
      "metadata": {
        "id": "fDvzEXQFjxLJ"
      },
      "execution_count": 50,
      "outputs": []
    },
    {
      "cell_type": "code",
      "source": [
        "a = Child1(\"mohan\")\n",
        "print(a.getName(),a.isStudent())\n",
        "a = Student1('Rakesh')\n",
        "print(a.getName(),a.isStudent())"
      ],
      "metadata": {
        "colab": {
          "base_uri": "https://localhost:8080/"
        },
        "id": "7icld3Jvj_7t",
        "outputId": "1708e79c-5490-4c95-9698-ac64f3a4fc89"
      },
      "execution_count": 56,
      "outputs": [
        {
          "output_type": "stream",
          "name": "stdout",
          "text": [
            "mohan False\n",
            "Rakesh True\n"
          ]
        }
      ]
    },
    {
      "cell_type": "code",
      "source": [
        "class mother:\n",
        "      mothername = \"\"\n",
        "      def mother(self):\n",
        "         print(self.mothername)\n",
        "\n",
        "class father:\n",
        "      fathername = \"\"\n",
        "      def father(self):\n",
        "         print(self.fathername)\n",
        "\n",
        "class child(mother,father):\n",
        "      def parents(self):\n",
        "          print(\"Father :\", self.fathername)\n",
        "          print(\"Mother :\", self.mothername)\n",
        "       "
      ],
      "metadata": {
        "id": "DiSb22JXmfbt"
      },
      "execution_count": 72,
      "outputs": []
    },
    {
      "cell_type": "code",
      "source": [
        "a = child()\n",
        "a.fathername = \"Ram\"\n",
        "a.mothername = \"sita\"\n",
        "a.parents()"
      ],
      "metadata": {
        "colab": {
          "base_uri": "https://localhost:8080/"
        },
        "id": "H1cvBuRPnynF",
        "outputId": "2e203eb8-7718-490d-803c-ad185e9a131c"
      },
      "execution_count": 74,
      "outputs": [
        {
          "output_type": "stream",
          "name": "stdout",
          "text": [
            "Father : Ram\n",
            "Mother : sita\n"
          ]
        }
      ]
    },
    {
      "cell_type": "code",
      "source": [
        "class Grandfather:\n",
        " \n",
        "    def __init__(self, grandfathername):\n",
        "        self.grandfathername = grandfathername\n",
        " \n",
        "# Intermediate class\n",
        "class Father(Grandfather):\n",
        "    def __init__(self, fathername, grandfathername):\n",
        "        self.fathername = fathername\n",
        " \n",
        "        # invoking constructor of Grandfather class\n",
        "        Grandfather.__init__(self, grandfathername)\n",
        " \n",
        "# Derived class\n",
        "class Son(Father):\n",
        "    def __init__(self,sonname, fathername, grandfathername):\n",
        "        self.sonname = sonname\n",
        " \n",
        "        # invoking constructor of Father class\n",
        "        Father.__init__(self, fathername, grandfathername)\n",
        " \n",
        "    def print_name(self):\n",
        "        print('Grandfather name :', self.grandfathername)\n",
        "        print(\"Father name :\", self.fathername)\n",
        "        print(\"Son name :\", self.sonname)"
      ],
      "metadata": {
        "id": "l4ctVRGKqS20"
      },
      "execution_count": 75,
      "outputs": []
    },
    {
      "cell_type": "code",
      "source": [
        "s1 = Son('Prince', 'Rampal', 'Lal mani')\n",
        "print(s1.grandfathername)\n",
        "s1.print_name()"
      ],
      "metadata": {
        "colab": {
          "base_uri": "https://localhost:8080/"
        },
        "id": "R7kNJbLsqegp",
        "outputId": "9f797fa9-4d0a-45e1-addb-c44edcca9af1"
      },
      "execution_count": 76,
      "outputs": [
        {
          "output_type": "stream",
          "name": "stdout",
          "text": [
            "Lal mani\n",
            "Grandfather name : Lal mani\n",
            "Father name : Rampal\n",
            "Son name : Prince\n"
          ]
        }
      ]
    },
    {
      "cell_type": "code",
      "source": [
        "class India():\n",
        "    def capital(self):\n",
        "        print(\"New Delhi is the capital of India.\")\n",
        " \n",
        "    def language(self):\n",
        "        print(\"Hindi is the most widely spoken language of India.\")\n",
        " \n",
        "    def type(self):\n",
        "        print(\"India is a developing country.\")\n",
        " \n",
        "class USA():\n",
        "    def capital(self):\n",
        "        print(\"Washington, D.C. is the capital of USA.\")\n",
        " \n",
        "    def language(self):\n",
        "        print(\"English is the primary language of USA.\")\n",
        " \n",
        "    def type(self):\n",
        "        print(\"USA is a developed country.\")"
      ],
      "metadata": {
        "id": "tLkcFqTOQ3t5"
      },
      "execution_count": 1,
      "outputs": []
    },
    {
      "cell_type": "code",
      "source": [
        "obj_ind = India()\n",
        "obj_usa = USA()\n",
        "for country in (obj_ind, obj_usa):\n",
        "    country.capital()\n",
        "    country.language()\n",
        "    country.type()"
      ],
      "metadata": {
        "colab": {
          "base_uri": "https://localhost:8080/"
        },
        "id": "m0Hwzo_iRAOO",
        "outputId": "a7483159-d94f-4b65-e051-a179a15bfa8e"
      },
      "execution_count": 2,
      "outputs": [
        {
          "output_type": "stream",
          "name": "stdout",
          "text": [
            "New Delhi is the capital of India.\n",
            "Hindi is the most widely spoken language of India.\n",
            "India is a developing country.\n",
            "Washington, D.C. is the capital of USA.\n",
            "English is the primary language of USA.\n",
            "USA is a developed country.\n"
          ]
        }
      ]
    },
    {
      "cell_type": "code",
      "source": [
        "class bird:\n",
        "     def intro(self):\n",
        "        print(\"there are different types of bird\")\n",
        "         \n",
        "     def flight(self):\n",
        "        print(\" it can fly\")\n",
        "\n",
        "class sparrow(bird):\n",
        "     def flight(self):\n",
        "        print(\"sparrow can fly\")\n",
        "\n",
        "class ostrich(bird):\n",
        "     def flight(self):\n",
        "        print(\"ostrich cannot fly\")             "
      ],
      "metadata": {
        "id": "DzKsKcL2R4N8"
      },
      "execution_count": 3,
      "outputs": []
    },
    {
      "cell_type": "code",
      "source": [
        "obj_bird = bird()\n",
        "obj_bird.intro()\n",
        "obj_bird.flight()\n",
        "\n",
        "obj_sparrow = sparrow()\n",
        "obj_sparrow.intro()\n",
        "obj_sparrow.flight()\n",
        "\n",
        "obj_ostrich = ostrich()\n",
        "obj_ostrich.intro()\n",
        "obj_ostrich.flight()"
      ],
      "metadata": {
        "colab": {
          "base_uri": "https://localhost:8080/"
        },
        "id": "oXDpDMThStzz",
        "outputId": "756d7e47-3cb4-4855-ee5c-8e30855e8015"
      },
      "execution_count": 6,
      "outputs": [
        {
          "output_type": "stream",
          "name": "stdout",
          "text": [
            "there are different types of bird\n",
            " it can fly\n",
            "there are different types of bird\n",
            "sparrow can fly\n",
            "there are different types of bird\n",
            "ostrich cannot fly\n"
          ]
        }
      ]
    },
    {
      "cell_type": "code",
      "source": [
        "class India():\n",
        "    def capital(self):\n",
        "        print(\"New Delhi is the capital of India.\")\n",
        "  \n",
        "    def language(self):\n",
        "        print(\"Hindi is the most widely spoken language of India.\")\n",
        "  \n",
        "    def type(self):\n",
        "        print(\"India is a developing country.\")\n",
        "  \n",
        "class USA():\n",
        "    def capital(self):\n",
        "        print(\"Washington, D.C. is the capital of USA.\")\n",
        "  \n",
        "    def language(self):\n",
        "        print(\"English is the primary language of USA.\")\n",
        "  \n",
        "    def type(self):\n",
        "        print(\"USA is a developed country.\")\n",
        " \n",
        "def func(obj):\n",
        "    obj.capital()\n",
        "    obj.language()\n",
        "    obj.type()\n",
        "  \n",
        "obj_ind = India()\n",
        "obj_usa = USA()\n",
        "  \n",
        "func(obj_ind)\n",
        "func(obj_usa)"
      ],
      "metadata": {
        "colab": {
          "base_uri": "https://localhost:8080/"
        },
        "id": "Y_P_yIEZUC9B",
        "outputId": "812543af-ea22-45c5-9bba-577a09b612ce"
      },
      "execution_count": 7,
      "outputs": [
        {
          "output_type": "stream",
          "name": "stdout",
          "text": [
            "New Delhi is the capital of India.\n",
            "Hindi is the most widely spoken language of India.\n",
            "India is a developing country.\n",
            "Washington, D.C. is the capital of USA.\n",
            "English is the primary language of USA.\n",
            "USA is a developed country.\n"
          ]
        }
      ]
    },
    {
      "cell_type": "code",
      "source": [
        "from datetime import date\n",
        " \n",
        " \n",
        "class Person:\n",
        "    def __init__(self, name, age):\n",
        "        self.name = name\n",
        "        self.age = age\n",
        " \n",
        "    # a class method to create a Person object by birth year.\n",
        "    @classmethod\n",
        "    def fromBirthYear(cls, name, year):\n",
        "        return cls(name, date.today().year - year)\n",
        " \n",
        "    # a static method to check if a Person is adult or not.\n",
        "    @staticmethod\n",
        "    def isAdult(age):\n",
        "        return age > 18\n",
        " \n",
        " \n",
        "person1 = Person('mayank', 21)\n",
        "person2 = Person.fromBirthYear('mayank', 1996)\n",
        " \n",
        "print(person1.age)\n",
        "print(person2.age)\n",
        " \n",
        "# print the result\n",
        "print(Person.isAdult(22))"
      ],
      "metadata": {
        "colab": {
          "base_uri": "https://localhost:8080/"
        },
        "id": "8cSTynRCVtGL",
        "outputId": "df79e819-d78f-4c77-d825-8b810335da12"
      },
      "execution_count": 8,
      "outputs": [
        {
          "output_type": "stream",
          "name": "stdout",
          "text": [
            "21\n",
            "26\n",
            "True\n"
          ]
        }
      ]
    },
    {
      "cell_type": "markdown",
      "source": [
        "### **Try and Except Statement – Catching Exceptions**"
      ],
      "metadata": {
        "id": "wIAXaAl_WXIb"
      }
    },
    {
      "cell_type": "code",
      "source": [
        "def fun(a):\n",
        "    if a < 4:\n",
        " \n",
        "        # throws ZeroDivisionError for a = 3\n",
        "        b = a/(a-3)\n",
        " \n",
        "    # throws NameError if a >= 4\n",
        "    print(\"Value of b = \", b)\n",
        "     \n",
        "try:\n",
        "    fun(3)\n",
        "    fun(5)\n",
        " \n",
        "# note that braces () are necessary here for\n",
        "# multiple exceptions\n",
        "except ZeroDivisionError:\n",
        "    print(\"ZeroDivisionError Occurred and Handled\")\n",
        "except NameError:\n",
        "    print(\"NameError Occurred and Handled\")"
      ],
      "metadata": {
        "colab": {
          "base_uri": "https://localhost:8080/"
        },
        "id": "HMfVVRYBXYxt",
        "outputId": "9194637b-e9a5-4c2f-a0e6-cec2dd48c171"
      },
      "execution_count": 9,
      "outputs": [
        {
          "output_type": "stream",
          "name": "stdout",
          "text": [
            "ZeroDivisionError Occurred and Handled\n"
          ]
        }
      ]
    },
    {
      "cell_type": "code",
      "source": [
        "def AbyB(a , b):\n",
        "    try:\n",
        "        c = ((a+b) / (a-b))\n",
        "    except ZeroDivisionError:\n",
        "        print (\"a/b result in 0\")\n",
        "    else:\n",
        "        print (c)\n",
        " "
      ],
      "metadata": {
        "id": "fh7KShW0X3n0"
      },
      "execution_count": 1,
      "outputs": []
    },
    {
      "cell_type": "code",
      "source": [
        "AbyB(2.0, 3.0)\n",
        "AbyB(3.0, 3.0)"
      ],
      "metadata": {
        "colab": {
          "base_uri": "https://localhost:8080/"
        },
        "id": "QbREocO1YAlT",
        "outputId": "90fa8e3e-76a0-4f1e-a64f-12463654b164"
      },
      "execution_count": 2,
      "outputs": [
        {
          "output_type": "stream",
          "name": "stdout",
          "text": [
            "-5.0\n",
            "a/b result in 0\n"
          ]
        }
      ]
    },
    {
      "cell_type": "code",
      "source": [
        "def division(x, y):\n",
        "    try:\n",
        "         result = x//y\n",
        "         print(\"the answer is:\",result)\n",
        "\n",
        "    except ZeroDivisionError:\n",
        "           print(\"you are diving by zero\")      "
      ],
      "metadata": {
        "id": "KubDtwxUYu0H"
      },
      "execution_count": 3,
      "outputs": []
    },
    {
      "cell_type": "code",
      "source": [
        "division(4,0)"
      ],
      "metadata": {
        "colab": {
          "base_uri": "https://localhost:8080/"
        },
        "id": "PDHNqfbTZjru",
        "outputId": "b4c5c440-a89b-4944-c1fa-d7909ac05ff4"
      },
      "execution_count": 6,
      "outputs": [
        {
          "output_type": "stream",
          "name": "stdout",
          "text": [
            "you are diving by zero\n"
          ]
        }
      ]
    },
    {
      "cell_type": "code",
      "source": [
        " \n",
        "class MyError(Exception):\n",
        " \n",
        "    # Constructor or Initializer\n",
        "    def __init__(self, value):\n",
        "        self.value = value\n",
        " \n",
        "    # __str__ is to print() the value\n",
        "    def __str__(self):\n",
        "        return(repr(self.value))\n",
        " \n",
        " \n",
        "try:\n",
        "    raise(MyError(3*2))\n",
        " \n",
        "# Value of Exception is stored in error\n",
        "except MyError as error:\n",
        "    print('A New Exception occurred: ', error.value)"
      ],
      "metadata": {
        "colab": {
          "base_uri": "https://localhost:8080/"
        },
        "id": "w3qxg3YbaTQa",
        "outputId": "4d1bf9f6-8b9a-4634-eb0d-cf98cdfbaceb"
      },
      "execution_count": 7,
      "outputs": [
        {
          "output_type": "stream",
          "name": "stdout",
          "text": [
            "A New Exception occurred:  6\n"
          ]
        }
      ]
    },
    {
      "cell_type": "code",
      "source": [
        "\n",
        "# define Python user-defined exceptions\n",
        "class Error(Exception):\n",
        "   \"\"\"Base class for other exceptions\"\"\"\n",
        "   pass\n",
        "class zerodivision(Error):\n",
        "   \"\"\"Raised when the input value is zero\"\"\"\n",
        "   pass\n",
        "try:\n",
        "   i_num = int(input(\"Enter a number: \"))\n",
        "   if i_num ==0:\n",
        "      raise zerodivision\n",
        "except zerodivision:\n",
        "   print(\"Input value is zero, try again!\")\n",
        "   print()"
      ],
      "metadata": {
        "colab": {
          "base_uri": "https://localhost:8080/"
        },
        "id": "_dpGMIlIajCy",
        "outputId": "f83859da-dd28-4a24-c2be-fa75f32449f2"
      },
      "execution_count": 9,
      "outputs": [
        {
          "output_type": "stream",
          "name": "stdout",
          "text": [
            "Enter a number: 0\n",
            "Input value is zero, try again!\n",
            "\n"
          ]
        }
      ]
    },
    {
      "cell_type": "code",
      "source": [
        "class Error(Exception):\n",
        "     pass\n",
        " \n",
        "class TransitionError(Error):\n",
        " \n",
        "    def __init__(self, prev, nex, msg):\n",
        "        self.prev = prev\n",
        "        self.next = nex\n",
        " \n",
        "        self.msg = msg\n",
        "try:\n",
        "    raise(TransitionError(2,3*2,\"Not Allowed\"))\n",
        "\n",
        "except TransitionError as error:\n",
        "    print('Exception occurred: ',error.msg)"
      ],
      "metadata": {
        "colab": {
          "base_uri": "https://localhost:8080/"
        },
        "id": "6wzaGkr6bFij",
        "outputId": "c537b74a-d737-434b-a18b-fab5717d8d63"
      },
      "execution_count": 10,
      "outputs": [
        {
          "output_type": "stream",
          "name": "stdout",
          "text": [
            "Exception occurred:  Not Allowed\n"
          ]
        }
      ]
    }
  ]
}