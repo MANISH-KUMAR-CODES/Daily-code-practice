{
  "nbformat": 4,
  "nbformat_minor": 0,
  "metadata": {
    "colab": {
      "name": "Daily code practice",
      "provenance": [],
      "authorship_tag": "ABX9TyNRyWy6MoBrM3maLOWiiDmP",
      "include_colab_link": true
    },
    "kernelspec": {
      "name": "python3",
      "display_name": "Python 3"
    },
    "language_info": {
      "name": "python"
    }
  },
  "cells": [
    {
      "cell_type": "markdown",
      "metadata": {
        "id": "view-in-github",
        "colab_type": "text"
      },
      "source": [
        "<a href=\"https://colab.research.google.com/github/MANISH-KUMAR-CODES/Daily-code-practice/blob/main/Daily_code_practice.ipynb\" target=\"_parent\"><img src=\"https://colab.research.google.com/assets/colab-badge.svg\" alt=\"Open In Colab\"/></a>"
      ]
    },
    {
      "cell_type": "markdown",
      "source": [
        "## **In this notebook i will daily practice some codes. so  i never forget how to code and make myself strong in codings**"
      ],
      "metadata": {
        "id": "ojZlx7z4dul_"
      }
    },
    {
      "cell_type": "markdown",
      "source": [
        "## practice on one hot encoding using python"
      ],
      "metadata": {
        "id": "88xkaoP4ePEX"
      }
    },
    {
      "cell_type": "code",
      "source": [
        "import pandas as pd"
      ],
      "metadata": {
        "id": "FDkuS7haeGQq"
      },
      "execution_count": 1,
      "outputs": []
    },
    {
      "cell_type": "code",
      "source": [
        "df= pd.DataFrame({'Team' :[\"A\",\"A\",\"B\",\"B\",\"B\",\"B\",\"C\",\"C\",\"C\"],\n",
        "                    'points':[25,12,15,14,19,23,25,29,30]})\n",
        "#view DataFrame\n",
        "print(df)"
      ],
      "metadata": {
        "colab": {
          "base_uri": "https://localhost:8080/"
        },
        "id": "k4C62rcdech0",
        "outputId": "a0da7041-c328-47b9-b6ab-5a44f644b282"
      },
      "execution_count": 8,
      "outputs": [
        {
          "output_type": "stream",
          "name": "stdout",
          "text": [
            "  Team  points\n",
            "0    A      25\n",
            "1    A      12\n",
            "2    B      15\n",
            "3    B      14\n",
            "4    B      19\n",
            "5    B      23\n",
            "6    C      25\n",
            "7    C      29\n",
            "8    C      30\n"
          ]
        }
      ]
    },
    {
      "cell_type": "code",
      "source": [
        "from sklearn.preprocessing import OneHotEncoder\n",
        "#creating instance of one-hot-encoder\n",
        "Encoder = OneHotEncoder(handle_unknown = 'ignore')\n",
        "\n",
        "#perform one-hot encoding on 'team' column \n",
        "encoder_df = pd.DataFrame(Encoder.fit_transform(df[['Team']]).toarray())\n",
        "\n",
        "#merge one-hot encoded columns back with original DataFrame\n",
        "final_df = df.join(encoder_df)\n",
        "\n",
        "#view final df\n",
        "print(final_df)\n",
        "\n",
        "#drop 'team' column\n",
        "final_df.drop('Team',axis = 1,inplace = True)\n",
        "\n",
        "#view final df\n",
        "print(final_df)\n",
        "\n",
        "final_df.columns = ['points','TeamA','TeamB','TeamC']"
      ],
      "metadata": {
        "colab": {
          "base_uri": "https://localhost:8080/"
        },
        "id": "K6yvAZIxfdBO",
        "outputId": "68d28c5a-9cf1-4f1a-f7e0-24ea61a6e219"
      },
      "execution_count": 36,
      "outputs": [
        {
          "output_type": "stream",
          "name": "stdout",
          "text": [
            "  Team  points    0    1    2\n",
            "0    A      25  1.0  0.0  0.0\n",
            "1    A      12  1.0  0.0  0.0\n",
            "2    B      15  0.0  1.0  0.0\n",
            "3    B      14  0.0  1.0  0.0\n",
            "4    B      19  0.0  1.0  0.0\n",
            "5    B      23  0.0  1.0  0.0\n",
            "6    C      25  0.0  0.0  1.0\n",
            "7    C      29  0.0  0.0  1.0\n",
            "8    C      30  0.0  0.0  1.0\n",
            "   points    0    1    2\n",
            "0      25  1.0  0.0  0.0\n",
            "1      12  1.0  0.0  0.0\n",
            "2      15  0.0  1.0  0.0\n",
            "3      14  0.0  1.0  0.0\n",
            "4      19  0.0  1.0  0.0\n",
            "5      23  0.0  1.0  0.0\n",
            "6      25  0.0  0.0  1.0\n",
            "7      29  0.0  0.0  1.0\n",
            "8      30  0.0  0.0  1.0\n"
          ]
        }
      ]
    },
    {
      "cell_type": "code",
      "source": [
        "#view final df\n",
        "print(final_df)"
      ],
      "metadata": {
        "colab": {
          "base_uri": "https://localhost:8080/"
        },
        "id": "QLG6s-D2jvce",
        "outputId": "cf806627-d19a-4f25-cca5-aa391078b8be"
      },
      "execution_count": 37,
      "outputs": [
        {
          "output_type": "stream",
          "name": "stdout",
          "text": [
            "   points  TeamA  TeamB  TeamC\n",
            "0      25    1.0    0.0    0.0\n",
            "1      12    1.0    0.0    0.0\n",
            "2      15    0.0    1.0    0.0\n",
            "3      14    0.0    1.0    0.0\n",
            "4      19    0.0    1.0    0.0\n",
            "5      23    0.0    1.0    0.0\n",
            "6      25    0.0    0.0    1.0\n",
            "7      29    0.0    0.0    1.0\n",
            "8      30    0.0    0.0    1.0\n"
          ]
        }
      ]
    },
    {
      "cell_type": "code",
      "source": [
        "Encoder.fit_transform(df[['Team']]).toarray()"
      ],
      "metadata": {
        "colab": {
          "base_uri": "https://localhost:8080/"
        },
        "id": "Qnzh8pAjhtvo",
        "outputId": "64614bf8-7509-4056-ddb3-2fe7c96bf330"
      },
      "execution_count": 29,
      "outputs": [
        {
          "output_type": "execute_result",
          "data": {
            "text/plain": [
              "array([[1., 0., 0.],\n",
              "       [1., 0., 0.],\n",
              "       [0., 1., 0.],\n",
              "       [0., 1., 0.],\n",
              "       [0., 1., 0.],\n",
              "       [0., 1., 0.],\n",
              "       [0., 0., 1.],\n",
              "       [0., 0., 1.],\n",
              "       [0., 0., 1.]])"
            ]
          },
          "metadata": {},
          "execution_count": 29
        }
      ]
    }
  ]
}