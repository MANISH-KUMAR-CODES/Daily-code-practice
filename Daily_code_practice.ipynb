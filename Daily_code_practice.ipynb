{
  "nbformat": 4,
  "nbformat_minor": 0,
  "metadata": {
    "colab": {
      "provenance": [],
      "collapsed_sections": [],
      "authorship_tag": "ABX9TyMzDkQ1jEnXzjeGIGpc3AmK",
      "include_colab_link": true
    },
    "kernelspec": {
      "name": "python3",
      "display_name": "Python 3"
    },
    "language_info": {
      "name": "python"
    }
  },
  "cells": [
    {
      "cell_type": "markdown",
      "metadata": {
        "id": "view-in-github",
        "colab_type": "text"
      },
      "source": [
        "<a href=\"https://colab.research.google.com/github/MANISH-KUMAR-CODES/Daily-code-practice/blob/main/Daily_code_practice.ipynb\" target=\"_parent\"><img src=\"https://colab.research.google.com/assets/colab-badge.svg\" alt=\"Open In Colab\"/></a>"
      ]
    },
    {
      "cell_type": "markdown",
      "source": [
        "## **In this notebook i will daily practice some codes. so  i never forget how to code and make myself strong in codings**"
      ],
      "metadata": {
        "id": "ojZlx7z4dul_"
      }
    },
    {
      "cell_type": "markdown",
      "source": [
        "## practice on one hot encoding using python"
      ],
      "metadata": {
        "id": "88xkaoP4ePEX"
      }
    },
    {
      "cell_type": "code",
      "source": [
        "import pandas as pd"
      ],
      "metadata": {
        "id": "FDkuS7haeGQq"
      },
      "execution_count": null,
      "outputs": []
    },
    {
      "cell_type": "code",
      "source": [
        "df= pd.DataFrame({'Team' :[\"A\",\"A\",\"B\",\"B\",\"B\",\"B\",\"C\",\"C\",\"C\"],\n",
        "                    'points':[25,12,15,14,19,23,25,29,30]})\n",
        "#view DataFrame\n",
        "print(df)"
      ],
      "metadata": {
        "colab": {
          "base_uri": "https://localhost:8080/"
        },
        "id": "k4C62rcdech0",
        "outputId": "a0da7041-c328-47b9-b6ab-5a44f644b282"
      },
      "execution_count": null,
      "outputs": [
        {
          "output_type": "stream",
          "name": "stdout",
          "text": [
            "  Team  points\n",
            "0    A      25\n",
            "1    A      12\n",
            "2    B      15\n",
            "3    B      14\n",
            "4    B      19\n",
            "5    B      23\n",
            "6    C      25\n",
            "7    C      29\n",
            "8    C      30\n"
          ]
        }
      ]
    },
    {
      "cell_type": "code",
      "source": [
        "from sklearn.preprocessing import OneHotEncoder\n",
        "#creating instance of one-hot-encoder\n",
        "Encoder = OneHotEncoder(handle_unknown = 'ignore')\n",
        "\n",
        "#perform one-hot encoding on 'team' column \n",
        "encoder_df = pd.DataFrame(Encoder.fit_transform(df[['Team']]).toarray()) # in fir transform we have to put a dataframe only ,we cannot put a series \n",
        "\n",
        "#merge one-hot encoded columns back with original DataFrame\n",
        "final_df = df.join(encoder_df)\n",
        "\n",
        "#view final df\n",
        "print(final_df)\n",
        "\n",
        "#drop 'team' column\n",
        "final_df.drop('Team',axis = 1,inplace = True)\n",
        "\n",
        "#view final df\n",
        "print(final_df)\n",
        "\n",
        "final_df.columns = ['points','TeamA','TeamB','TeamC']"
      ],
      "metadata": {
        "colab": {
          "base_uri": "https://localhost:8080/"
        },
        "id": "K6yvAZIxfdBO",
        "outputId": "522f266e-a79c-4c75-d864-af0376fbca9d"
      },
      "execution_count": null,
      "outputs": [
        {
          "output_type": "stream",
          "name": "stdout",
          "text": [
            "  Team  points    0    1    2\n",
            "0    A      25  1.0  0.0  0.0\n",
            "1    A      12  1.0  0.0  0.0\n",
            "2    B      15  0.0  1.0  0.0\n",
            "3    B      14  0.0  1.0  0.0\n",
            "4    B      19  0.0  1.0  0.0\n",
            "5    B      23  0.0  1.0  0.0\n",
            "6    C      25  0.0  0.0  1.0\n",
            "7    C      29  0.0  0.0  1.0\n",
            "8    C      30  0.0  0.0  1.0\n",
            "   points    0    1    2\n",
            "0      25  1.0  0.0  0.0\n",
            "1      12  1.0  0.0  0.0\n",
            "2      15  0.0  1.0  0.0\n",
            "3      14  0.0  1.0  0.0\n",
            "4      19  0.0  1.0  0.0\n",
            "5      23  0.0  1.0  0.0\n",
            "6      25  0.0  0.0  1.0\n",
            "7      29  0.0  0.0  1.0\n",
            "8      30  0.0  0.0  1.0\n"
          ]
        }
      ]
    },
    {
      "cell_type": "code",
      "source": [
        "#view final df\n",
        "print(final_df)"
      ],
      "metadata": {
        "colab": {
          "base_uri": "https://localhost:8080/"
        },
        "id": "QLG6s-D2jvce",
        "outputId": "cf806627-d19a-4f25-cca5-aa391078b8be"
      },
      "execution_count": null,
      "outputs": [
        {
          "output_type": "stream",
          "name": "stdout",
          "text": [
            "   points  TeamA  TeamB  TeamC\n",
            "0      25    1.0    0.0    0.0\n",
            "1      12    1.0    0.0    0.0\n",
            "2      15    0.0    1.0    0.0\n",
            "3      14    0.0    1.0    0.0\n",
            "4      19    0.0    1.0    0.0\n",
            "5      23    0.0    1.0    0.0\n",
            "6      25    0.0    0.0    1.0\n",
            "7      29    0.0    0.0    1.0\n",
            "8      30    0.0    0.0    1.0\n"
          ]
        }
      ]
    },
    {
      "cell_type": "code",
      "source": [
        "Encoder.fit_transform(df[['Team']]).toarray()"
      ],
      "metadata": {
        "colab": {
          "base_uri": "https://localhost:8080/"
        },
        "id": "Qnzh8pAjhtvo",
        "outputId": "64614bf8-7509-4056-ddb3-2fe7c96bf330"
      },
      "execution_count": null,
      "outputs": [
        {
          "output_type": "execute_result",
          "data": {
            "text/plain": [
              "array([[1., 0., 0.],\n",
              "       [1., 0., 0.],\n",
              "       [0., 1., 0.],\n",
              "       [0., 1., 0.],\n",
              "       [0., 1., 0.],\n",
              "       [0., 1., 0.],\n",
              "       [0., 0., 1.],\n",
              "       [0., 0., 1.],\n",
              "       [0., 0., 1.]])"
            ]
          },
          "metadata": {},
          "execution_count": 29
        }
      ]
    },
    {
      "cell_type": "markdown",
      "source": [
        "### **using split function of python**"
      ],
      "metadata": {
        "id": "34u5FHBNbBZr"
      }
    },
    {
      "cell_type": "code",
      "source": [
        "x,y = input('Enter two Inputs:').split(\",\")\n",
        "print(\"Number of boys:\",x)\n",
        "print(\"Number of girls:\", y)"
      ],
      "metadata": {
        "colab": {
          "base_uri": "https://localhost:8080/"
        },
        "id": "BLeo0iJFbLJn",
        "outputId": "a329612e-7b14-4427-81b0-f5676aa7b3ed"
      },
      "execution_count": null,
      "outputs": [
        {
          "output_type": "stream",
          "name": "stdout",
          "text": [
            "Enter two Inputs:45,67\n",
            "Number of boys: 45\n",
            "Number of girls: 67\n"
          ]
        }
      ]
    },
    {
      "cell_type": "code",
      "source": [
        "x,y,z = input(\"Taking three inputs:\").split(\",\")\n",
        "print(\"No. of boys:\",(x))\n",
        "print(\"No. of girls\",(y))\n",
        "print(\"No. of teachers:\",(z))\n",
        "print(\"No. of students in total:\",x+y+z)"
      ],
      "metadata": {
        "colab": {
          "base_uri": "https://localhost:8080/"
        },
        "id": "vx76vt1abT0n",
        "outputId": "9703cb6f-a0df-4b45-c1a4-9e63d3f2a431"
      },
      "execution_count": null,
      "outputs": [
        {
          "output_type": "stream",
          "name": "stdout",
          "text": [
            "Taking three inputs:444,555,66\n",
            "No. of boys: 444\n",
            "No. of girls 555\n",
            "No. of teachers: 66\n",
            "No. of students in total: 44455566\n"
          ]
        }
      ]
    },
    {
      "cell_type": "code",
      "source": [
        "a,b = input(\"The two numbers are:\").split(',')\n",
        "print(\"First number is {} and second number is {}\".format(a,b))"
      ],
      "metadata": {
        "colab": {
          "base_uri": "https://localhost:8080/"
        },
        "id": "wuWme_GYeJQl",
        "outputId": "ada22306-a66d-4ed1-cc4f-a562483385c6"
      },
      "execution_count": null,
      "outputs": [
        {
          "output_type": "stream",
          "name": "stdout",
          "text": [
            "The two numbers are:45,56\n",
            "First number is 45 and second number is 56\n"
          ]
        }
      ]
    },
    {
      "cell_type": "code",
      "source": [
        "# taking multiple inputs at a time \n",
        "# and type casting using list() function\n",
        "x = list(map(int,input(\"multiple inputs:\").split(',')))\n",
        "print(\"list of multiple inputs are:\",x)"
      ],
      "metadata": {
        "colab": {
          "base_uri": "https://localhost:8080/"
        },
        "id": "W2a8_0tZg8Hg",
        "outputId": "03527908-cf45-4c08-f825-9e872bd4beb9"
      },
      "execution_count": null,
      "outputs": [
        {
          "output_type": "stream",
          "name": "stdout",
          "text": [
            "multiple inputs:46,235,35,35,34,23\n",
            "list of multiple inputs are: [46, 235, 35, 35, 34, 23]\n"
          ]
        }
      ]
    },
    {
      "cell_type": "code",
      "source": [
        "print(\"Geeks of Geeks \\n is the best for Dsa content\")\n",
        "print(\"Geeks of geeks \\n is the best for DSA\", end = '**')\n",
        "print('Geeks of geeks is the best')"
      ],
      "metadata": {
        "colab": {
          "base_uri": "https://localhost:8080/"
        },
        "id": "SZrXDxs5iaYc",
        "outputId": "c3c05a71-1f08-4d34-f540-60d94316655e"
      },
      "execution_count": null,
      "outputs": [
        {
          "output_type": "stream",
          "name": "stdout",
          "text": [
            "Geeks of Geeks \n",
            " is the best for Dsa content\n",
            "Geeks of geeks \n",
            " is the best for DSA**Geeks of geeks is the best\n"
          ]
        }
      ]
    },
    {
      "cell_type": "markdown",
      "source": [
        "### **code to print in same line**"
      ],
      "metadata": {
        "id": "JAM3z-NNka-r"
      }
    },
    {
      "cell_type": "code",
      "source": [
        "print('Geeks',end = ' ')\n",
        "print(\"GeeksofGeeks\")"
      ],
      "metadata": {
        "colab": {
          "base_uri": "https://localhost:8080/"
        },
        "id": "Bzg-_w0QkaSv",
        "outputId": "45fe293e-bdcc-4752-e788-aa1547edfca9"
      },
      "execution_count": null,
      "outputs": [
        {
          "output_type": "stream",
          "name": "stdout",
          "text": [
            "Geeks GeeksofGeeks\n"
          ]
        }
      ]
    },
    {
      "cell_type": "code",
      "source": [
        "a= [1,2,3,4,5]\n",
        "for i in range(5):\n",
        "   print(a[i],end =' ')"
      ],
      "metadata": {
        "colab": {
          "base_uri": "https://localhost:8080/"
        },
        "id": "JnFtcStMksRv",
        "outputId": "9beed354-798c-4278-f09b-4f5fe1532a1b"
      },
      "execution_count": null,
      "outputs": [
        {
          "output_type": "stream",
          "name": "stdout",
          "text": [
            "1 2 3 4 5 "
          ]
        }
      ]
    },
    {
      "cell_type": "code",
      "source": [
        "l = [1,2,3,45,6,7]\n",
        "print(*l)"
      ],
      "metadata": {
        "colab": {
          "base_uri": "https://localhost:8080/"
        },
        "id": "CrT_6k2hljpE",
        "outputId": "508ac29b-f35e-44e4-c7ef-d81a422766c6"
      },
      "execution_count": null,
      "outputs": [
        {
          "output_type": "stream",
          "name": "stdout",
          "text": [
            "1 2 3 45 6 7\n"
          ]
        }
      ]
    },
    {
      "cell_type": "code",
      "source": [
        "print('Red',\"Blue\",\"Green\", sep = \",\",end = '@')\n",
        "print('GeeksforGeeks')"
      ],
      "metadata": {
        "colab": {
          "base_uri": "https://localhost:8080/"
        },
        "id": "Zatt3AnrmmU1",
        "outputId": "8443191f-043b-44e9-af0d-d3d61290eab9"
      },
      "execution_count": null,
      "outputs": [
        {
          "output_type": "stream",
          "name": "stdout",
          "text": [
            "Red,Blue,Green@GeeksforGeeks\n"
          ]
        }
      ]
    },
    {
      "cell_type": "code",
      "source": [
        "# using format() method with number\n",
        "print(\"Geeks :{0:2d}, Portal :{1:8.2f}\".\n",
        "      format(1200, 555.546))"
      ],
      "metadata": {
        "colab": {
          "base_uri": "https://localhost:8080/"
        },
        "id": "M9ZtePZ0pWxA",
        "outputId": "2cf5ed7c-233d-4b09-c215-e22f476b8502"
      },
      "execution_count": null,
      "outputs": [
        {
          "output_type": "stream",
          "name": "stdout",
          "text": [
            "Geeks :1200, Portal :  555.55\n"
          ]
        }
      ]
    },
    {
      "cell_type": "code",
      "source": [
        "tab = {'geeks': 4127, 'for': 4098, 'geek': 8637678}\n",
        "\n",
        "print('Geeks: {0[geeks]:2d}; For: {0[for]:d}; '\n",
        "    'Geeks: {0[geek]:d}'.format(tab))"
      ],
      "metadata": {
        "colab": {
          "base_uri": "https://localhost:8080/"
        },
        "id": "kcN-1G7Jq2bB",
        "outputId": "b2d6a491-c1b1-40d4-9ef6-0659e91c9a42"
      },
      "execution_count": null,
      "outputs": [
        {
          "output_type": "stream",
          "name": "stdout",
          "text": [
            "Geeks: 4127; For: 4098; Geeks: 8637678\n"
          ]
        }
      ]
    },
    {
      "cell_type": "code",
      "source": [
        "data = dict(fun =\"GeeksForGeeks\", adj =\"Portal\")\n",
        " \n",
        "# using format() in dictionary\n",
        "print(\"I love {fun} computer {adj}\".format(**data))"
      ],
      "metadata": {
        "colab": {
          "base_uri": "https://localhost:8080/"
        },
        "id": "kd5UsErprQKz",
        "outputId": "acc8c5c1-ec4f-4105-db65-cd00c0ea2846"
      },
      "execution_count": null,
      "outputs": [
        {
          "output_type": "stream",
          "name": "stdout",
          "text": [
            "I love GeeksForGeeks computer Portal\n"
          ]
        }
      ]
    },
    {
      "cell_type": "code",
      "source": [
        "cstr = \"I love geeksforgeeks\"\n",
        "print(\"Centre alingned\")\n",
        "print(cstr.center(40,\"*\"))\n",
        "#left alingned\n",
        "print(cstr.ljust(40,'*'))\n",
        "#right alinged\n",
        "print(cstr.rjust(40,\"*\"))"
      ],
      "metadata": {
        "colab": {
          "base_uri": "https://localhost:8080/"
        },
        "id": "SzW_riON6vum",
        "outputId": "9d676c8b-ceee-422c-e624-eb3d4aa95e97"
      },
      "execution_count": null,
      "outputs": [
        {
          "output_type": "stream",
          "name": "stdout",
          "text": [
            "Centre alingned\n",
            "**********I love geeksforgeeks**********\n",
            "I love geeksforgeeks********************\n",
            "********************I love geeksforgeeks\n"
          ]
        }
      ]
    },
    {
      "cell_type": "code",
      "source": [
        "# Examples of Bitwise operators\n",
        "a = 10\n",
        "b = 4\n",
        " \n",
        "# Print bitwise AND operation\n",
        "print(a & b)\n",
        " \n",
        "# Print bitwise OR operation\n",
        "print(a | b)\n",
        " \n",
        "# Print bitwise NOT operation\n",
        "print(~a)\n",
        " \n",
        "# print bitwise XOR operation\n",
        "print(a ^ b)\n",
        " \n",
        "# print bitwise right shift operation\n",
        "print(a >> 2)\n",
        " \n",
        "# print bitwise left shift operation\n",
        "print(a << 2)"
      ],
      "metadata": {
        "colab": {
          "base_uri": "https://localhost:8080/"
        },
        "id": "EMptYEsm-cCj",
        "outputId": "2c5e47f9-6cf5-420d-89ee-9faeabf17949"
      },
      "execution_count": null,
      "outputs": [
        {
          "output_type": "stream",
          "name": "stdout",
          "text": [
            "0\n",
            "14\n",
            "-11\n",
            "14\n",
            "2\n",
            "40\n"
          ]
        }
      ]
    },
    {
      "cell_type": "code",
      "source": [
        "a ,b= 10, 20\n",
        "if a >b :\n",
        "  print(\"a is greater than b\")\n",
        "else:\n",
        "    print(\" b is greater than a\")"
      ],
      "metadata": {
        "colab": {
          "base_uri": "https://localhost:8080/"
        },
        "id": "-lkC_drqHgz4",
        "outputId": "d80ece51-1845-4418-e429-4b47b595f290"
      },
      "execution_count": null,
      "outputs": [
        {
          "output_type": "stream",
          "name": "stdout",
          "text": [
            " b is greater than a\n"
          ]
        }
      ]
    },
    {
      "cell_type": "code",
      "source": [
        "print(a,\" is greater than b\")if (a>b) else print(b,\" is greater\")"
      ],
      "metadata": {
        "colab": {
          "base_uri": "https://localhost:8080/"
        },
        "id": "cdM6-e8XILhL",
        "outputId": "2f40b939-3de7-42ea-e78b-18000069f28f"
      },
      "execution_count": null,
      "outputs": [
        {
          "output_type": "stream",
          "name": "stdout",
          "text": [
            "20  is greater\n"
          ]
        }
      ]
    },
    {
      "cell_type": "code",
      "source": [
        "print(1 + 2 + 5)\n",
        " \n",
        "# concatenate two strings\n",
        "print(\"Geeks\"+\"For\"+ \"Geeks\")\n",
        " \n",
        "# Product two numbers\n",
        "print(3 * 4 * 9)\n",
        " \n",
        "# Repeat the String\n",
        "print(\"Geeks\"*4+5*\"for\")"
      ],
      "metadata": {
        "colab": {
          "base_uri": "https://localhost:8080/"
        },
        "id": "yHMigYq-JgsL",
        "outputId": "cbb20fce-0017-40e2-c2a2-9522839b95e9"
      },
      "execution_count": null,
      "outputs": [
        {
          "output_type": "stream",
          "name": "stdout",
          "text": [
            "8\n",
            "GeeksForGeeks\n",
            "108\n",
            "GeeksGeeksGeeksGeeksforforforforfor\n"
          ]
        }
      ]
    },
    {
      "cell_type": "code",
      "source": [
        "## to overload an binary + operator\n",
        "class A:\n",
        "     def __init__(self,a,b):\n",
        "        self.a = a\n",
        "        self.b = b\n",
        "\n",
        "     def __add__(self , o):\n",
        "        self.o = o\n",
        "        return self.a + o.a   "
      ],
      "metadata": {
        "id": "i-o9l8G5J2Gs"
      },
      "execution_count": null,
      "outputs": []
    },
    {
      "cell_type": "code",
      "source": [
        "obj1 = A(1,5)\n",
        "obj2 = A(2,4)\n",
        "print(obj1 + obj2)"
      ],
      "metadata": {
        "colab": {
          "base_uri": "https://localhost:8080/"
        },
        "id": "80ubhP3yTmtc",
        "outputId": "22ae0022-9097-4ce7-f74c-edd291593fe9"
      },
      "execution_count": null,
      "outputs": [
        {
          "output_type": "stream",
          "name": "stdout",
          "text": [
            "3\n"
          ]
        }
      ]
    },
    {
      "cell_type": "code",
      "source": [
        "\n",
        "# A Sample class with init method\n",
        "class Person:\n",
        "   \n",
        "    # init method or constructor \n",
        "    def __init__(self, name,age):\n",
        "        self.age = age\n",
        "        self.name = name\n",
        "   \n",
        "    # Sample Method \n",
        "    def say_hi(self):\n",
        "        print('Hello, my name is {},and my age is {}'.format(self.name,self.age))"
      ],
      "metadata": {
        "id": "DRGJVUOvaIIl"
      },
      "execution_count": null,
      "outputs": []
    },
    {
      "cell_type": "code",
      "source": [
        "p = Person('Nikhil',35)\n",
        "p.say_hi()"
      ],
      "metadata": {
        "colab": {
          "base_uri": "https://localhost:8080/"
        },
        "id": "TScJ3G_Gaoxo",
        "outputId": "01ae63d5-22b1-4502-c8f6-c7597315619c"
      },
      "execution_count": null,
      "outputs": [
        {
          "output_type": "stream",
          "name": "stdout",
          "text": [
            "Hello, my name is Nikhil,and my age is 35\n"
          ]
        }
      ]
    },
    {
      "cell_type": "code",
      "source": [
        "class Dog:\n",
        "     animal = \"dog\"\n",
        "     def __init__(self,breed,color):\n",
        "        self.breed = breed\n",
        "        self.color = color\n",
        "\n",
        "     def setcolor(self,color):\n",
        "         self.color = color\n",
        "\n",
        "     def getcolor(self):\n",
        "         return self.color       \n",
        "\n",
        "     print(Dog.animal)  ##Class variables can be accessed using class"
      ],
      "metadata": {
        "colab": {
          "base_uri": "https://localhost:8080/"
        },
        "id": "VJg3EnqVJyxw",
        "outputId": "405f2100-8769-495c-f4ef-005c53c4aad4"
      },
      "execution_count": null,
      "outputs": [
        {
          "output_type": "stream",
          "name": "stdout",
          "text": [
            "dog\n"
          ]
        }
      ]
    },
    {
      "cell_type": "code",
      "source": [
        "# Objects of Dog class\n",
        "Rodger = Dog(\"Pug\", \"brown\")\n",
        "Buzo = Dog(\"Bulldog\", \"black\")"
      ],
      "metadata": {
        "id": "n1NsrPq5Khq1"
      },
      "execution_count": null,
      "outputs": []
    },
    {
      "cell_type": "code",
      "source": [
        "print(\"Rodger details:\")\n",
        "print(\"Rodger class:\",Rodger.animal)\n",
        "print(\"Rodger breed:\",Rodger.breed)\n",
        "print(\"Rodger color:\",Rodger.color)"
      ],
      "metadata": {
        "colab": {
          "base_uri": "https://localhost:8080/"
        },
        "id": "gD3g5srNKpWX",
        "outputId": "67f4e8d5-54af-4922-d9e6-8aee37264395"
      },
      "execution_count": null,
      "outputs": [
        {
          "output_type": "stream",
          "name": "stdout",
          "text": [
            "Rodger details:\n",
            "Rodger class: dog\n",
            "Rodger breed: Pug\n",
            "Rodger color: brown\n"
          ]
        }
      ]
    },
    {
      "cell_type": "code",
      "source": [
        "print(\"Buzo details:\")\n",
        "print(\"Buzo class:\",Buzo.animal)\n",
        "print(\"Buzo breed:\",Buzo.breed)\n",
        "print(\"Buzo color:\",Buzo.color)"
      ],
      "metadata": {
        "colab": {
          "base_uri": "https://localhost:8080/"
        },
        "id": "i3JkCISXLdp9",
        "outputId": "29ba5363-c6ef-4e15-a749-9abf39ac9ffb"
      },
      "execution_count": null,
      "outputs": [
        {
          "output_type": "stream",
          "name": "stdout",
          "text": [
            "Buzo details:\n",
            "Buzo class: dog\n",
            "Buzo breed: Bulldog\n",
            "Buzo color: black\n"
          ]
        }
      ]
    },
    {
      "cell_type": "code",
      "source": [
        "Rodger = Dog('Pug','yellow')\n",
        "Rodger.setcolor(\"green\")\n",
        "print(Rodger.getcolor())"
      ],
      "metadata": {
        "colab": {
          "base_uri": "https://localhost:8080/"
        },
        "id": "UitS4DRbNCeF",
        "outputId": "40d854ae-a2d7-4f0c-fe84-88adc603c31f"
      },
      "execution_count": null,
      "outputs": [
        {
          "output_type": "stream",
          "name": "stdout",
          "text": [
            "green\n"
          ]
        }
      ]
    },
    {
      "cell_type": "code",
      "source": [
        "class GeekForGeeks:\n",
        "      def __init__(self):\n",
        "         self.geek = \"GeekForGeeks\"\n",
        "\n",
        "      def printGeek(self):\n",
        "          return print(self.geek)"
      ],
      "metadata": {
        "id": "fXeXhy-JaZdD"
      },
      "execution_count": null,
      "outputs": []
    },
    {
      "cell_type": "code",
      "source": [
        "obj = GeekForGeeks()\n",
        "obj.printGeek()"
      ],
      "metadata": {
        "colab": {
          "base_uri": "https://localhost:8080/"
        },
        "id": "NCUzvhYtb7z6",
        "outputId": "d58b8b32-f081-45d2-cb22-3cb1681016b8"
      },
      "execution_count": null,
      "outputs": [
        {
          "output_type": "stream",
          "name": "stdout",
          "text": [
            "GeekForGeeks\n"
          ]
        }
      ]
    },
    {
      "cell_type": "code",
      "source": [
        "class Addition:\n",
        "      first = 0\n",
        "      second = 0\n",
        "      answer = 0\n",
        "      def __init__(self,f,s):\n",
        "          self.first = f\n",
        "          self.second = s\n",
        "           \n",
        "      def display(self):\n",
        "        print(\"First number = \" + str(self.first))\n",
        "        print(\"Second number = \" + str(self.second))\n",
        "        print(\"Addition of two numbers = \" + str(self.answer))     \n",
        "\n",
        "      def calculate(self):\n",
        "          self.answer = (self.first + self.second )\n",
        "          return print(\"The answer is:\",self.answer)  \n"
      ],
      "metadata": {
        "id": "Qc6w0UeUd9zE"
      },
      "execution_count": null,
      "outputs": []
    },
    {
      "cell_type": "code",
      "source": [
        "obj = Addition(19,56)\n",
        "obj.calculate()\n",
        "obj.display()"
      ],
      "metadata": {
        "colab": {
          "base_uri": "https://localhost:8080/"
        },
        "id": "siXRHHIzfCvP",
        "outputId": "17bd1aae-faf2-4ff6-bb24-1ccd97467272"
      },
      "execution_count": null,
      "outputs": [
        {
          "output_type": "stream",
          "name": "stdout",
          "text": [
            "The answer is: 75\n",
            "First number = 19\n",
            "Second number = 56\n",
            "Addition of two numbers = 75\n"
          ]
        }
      ]
    },
    {
      "cell_type": "markdown",
      "source": [
        "## **Inheritance in python oops**"
      ],
      "metadata": {
        "id": "X1AESi1gQ2LI"
      }
    },
    {
      "cell_type": "code",
      "source": [
        "class person(object):\n",
        "      def __init__(self,name):\n",
        "         self.name = name\n",
        "\n",
        "      def getname(self):\n",
        "          return self.name  \n",
        "\n",
        "      def isemployee(self):\n",
        "          return False  \n",
        "\n",
        "class employee(person):\n",
        "     def isemployee(self):\n",
        "        return True             "
      ],
      "metadata": {
        "id": "m-xhcJzJREEV"
      },
      "execution_count": null,
      "outputs": []
    },
    {
      "cell_type": "code",
      "source": [
        "obj = person(\"mahesh\")\n",
        "print(obj.getname(),obj.isemployee())\n",
        "obj = employee(\"bupesh\")\n",
        "print(obj.getname(),obj.isemployee())"
      ],
      "metadata": {
        "colab": {
          "base_uri": "https://localhost:8080/"
        },
        "id": "WdOYtiJ3R3SW",
        "outputId": "3a53afff-dff4-40a3-dc5c-f7130e98f00c"
      },
      "execution_count": null,
      "outputs": [
        {
          "output_type": "stream",
          "name": "stdout",
          "text": [
            "mahesh False\n",
            "bupesh True\n"
          ]
        }
      ]
    },
    {
      "cell_type": "code",
      "source": [
        "class person(object):\n",
        "    def __init__(self,name,person_id):\n",
        "        self.name = name \n",
        "        self.person_id = person_id\n",
        "\n",
        "    def display(self):\n",
        "        print(self.name,self.person_id,self.salary,self.department)    \n",
        "\n",
        "class employee(person):\n",
        "      def __init__(self,name,person_id,salary,department):\n",
        "          self.salary = salary\n",
        "          self.department= department\n",
        "\n",
        "          person.__init__(self,name,person_id)\n",
        "            "
      ],
      "metadata": {
        "id": "Xa3U3fFMUb7g"
      },
      "execution_count": null,
      "outputs": []
    },
    {
      "cell_type": "code",
      "source": [
        "a = employee(\"mahesh\",23,300000,\"health\")\n",
        "a.display()"
      ],
      "metadata": {
        "colab": {
          "base_uri": "https://localhost:8080/"
        },
        "id": "a2WMTXsAVncX",
        "outputId": "5d473bad-6e5d-422f-d4dc-a16ed7d3c350"
      },
      "execution_count": null,
      "outputs": [
        {
          "output_type": "stream",
          "name": "stdout",
          "text": [
            "mahesh 23 300000 health\n"
          ]
        }
      ]
    },
    {
      "cell_type": "code",
      "source": [
        "class base1():\n",
        "     def __init__(self):\n",
        "        self.str1 = \"geek1\"\n",
        "        self.str3 = \"For\"\n",
        "        print(\"base1\")\n",
        "class base2():\n",
        "     def __init__(self):\n",
        "        self.str2 = \"geek2\"\n",
        "        print(\"base2\")\n",
        "\n",
        "class derived(base1,base2):\n",
        "      def __init__(self):\n",
        "          base1.__init__(self)\n",
        "          base2.__init__(self)\n",
        "          print(\"derived\")\n",
        "\n",
        "      def printstrs(self):\n",
        "          print(self.str1,self.str3,self.str2)    "
      ],
      "metadata": {
        "id": "HHqJ05uFZ2bL"
      },
      "execution_count": null,
      "outputs": []
    },
    {
      "cell_type": "code",
      "source": [
        "obj = derived()\n",
        "obj.printstrs()"
      ],
      "metadata": {
        "colab": {
          "base_uri": "https://localhost:8080/"
        },
        "id": "myNF24clbTZs",
        "outputId": "032c4d74-5541-48d6-ff4c-bf338c2f3769"
      },
      "execution_count": null,
      "outputs": [
        {
          "output_type": "stream",
          "name": "stdout",
          "text": [
            "base1\n",
            "base2\n",
            "derived\n",
            "geek1 For geek2\n"
          ]
        }
      ]
    },
    {
      "cell_type": "code",
      "source": [
        "class base(object):\n",
        "     def __init__(self,name):\n",
        "         self.name = name\n",
        "\n",
        "     def getname(self):\n",
        "         return self.name\n",
        "\n",
        "class child(base):\n",
        "     def __init__(self,name,age):\n",
        "       self.age = age\n",
        "       base.__init__(self,name)\n",
        "\n",
        "     def getage(self):\n",
        "         return self.age\n",
        "\n",
        "class grandchild(child):\n",
        "     def __init__(self,name,age,address):\n",
        "        self.address = address\n",
        "        child.__init__(self,name,age) \n",
        "\n",
        "     def getaddress(self):\n",
        "         return self.address\n"
      ],
      "metadata": {
        "id": "lMR2qLQ_badm"
      },
      "execution_count": null,
      "outputs": []
    },
    {
      "cell_type": "code",
      "source": [
        "a = grandchild(\"mojhan\",23,\"bhagalpur\")\n",
        "print(a.getname(),a.getage(),a.getaddress())"
      ],
      "metadata": {
        "colab": {
          "base_uri": "https://localhost:8080/"
        },
        "id": "llDb3btse88M",
        "outputId": "0f3022fd-22db-45f4-dd60-615a3315299c"
      },
      "execution_count": null,
      "outputs": [
        {
          "output_type": "stream",
          "name": "stdout",
          "text": [
            "mojhan 23 bhagalpur\n"
          ]
        }
      ]
    },
    {
      "cell_type": "code",
      "source": [
        "class Child1:\n",
        "    def __init__(self, name):\n",
        "        self.name = name\n",
        "    def getName(self):\n",
        "        return self.name\n",
        "    def isStudent(self):\n",
        "        return False\n",
        "\n",
        "class Student1(Child1):\n",
        "    def isStudent(self):\n",
        "        return True"
      ],
      "metadata": {
        "id": "fDvzEXQFjxLJ"
      },
      "execution_count": null,
      "outputs": []
    },
    {
      "cell_type": "code",
      "source": [
        "a = Child1(\"mohan\")\n",
        "print(a.getName(),a.isStudent())\n",
        "a = Student1('Rakesh')\n",
        "print(a.getName(),a.isStudent())"
      ],
      "metadata": {
        "colab": {
          "base_uri": "https://localhost:8080/"
        },
        "id": "7icld3Jvj_7t",
        "outputId": "1708e79c-5490-4c95-9698-ac64f3a4fc89"
      },
      "execution_count": null,
      "outputs": [
        {
          "output_type": "stream",
          "name": "stdout",
          "text": [
            "mohan False\n",
            "Rakesh True\n"
          ]
        }
      ]
    },
    {
      "cell_type": "code",
      "source": [
        "class mother:\n",
        "      mothername = \"\"\n",
        "      def mother(self):\n",
        "         print(self.mothername)\n",
        "\n",
        "class father:\n",
        "      fathername = \"\"\n",
        "      def father(self):\n",
        "         print(self.fathername)\n",
        "\n",
        "class child(mother,father):\n",
        "      def parents(self):\n",
        "          print(\"Father :\", self.fathername)\n",
        "          print(\"Mother :\", self.mothername)\n",
        "       "
      ],
      "metadata": {
        "id": "DiSb22JXmfbt"
      },
      "execution_count": null,
      "outputs": []
    },
    {
      "cell_type": "code",
      "source": [
        "a = child()\n",
        "a.fathername = \"Ram\"\n",
        "a.mothername = \"sita\"\n",
        "a.parents()"
      ],
      "metadata": {
        "colab": {
          "base_uri": "https://localhost:8080/"
        },
        "id": "H1cvBuRPnynF",
        "outputId": "2e203eb8-7718-490d-803c-ad185e9a131c"
      },
      "execution_count": null,
      "outputs": [
        {
          "output_type": "stream",
          "name": "stdout",
          "text": [
            "Father : Ram\n",
            "Mother : sita\n"
          ]
        }
      ]
    },
    {
      "cell_type": "code",
      "source": [
        "class Grandfather:\n",
        " \n",
        "    def __init__(self, grandfathername):\n",
        "        self.grandfathername = grandfathername\n",
        " \n",
        "# Intermediate class\n",
        "class Father(Grandfather):\n",
        "    def __init__(self, fathername, grandfathername):\n",
        "        self.fathername = fathername\n",
        " \n",
        "        # invoking constructor of Grandfather class\n",
        "        Grandfather.__init__(self, grandfathername)\n",
        " \n",
        "# Derived class\n",
        "class Son(Father):\n",
        "    def __init__(self,sonname, fathername, grandfathername):\n",
        "        self.sonname = sonname\n",
        " \n",
        "        # invoking constructor of Father class\n",
        "        Father.__init__(self, fathername, grandfathername)\n",
        " \n",
        "    def print_name(self):\n",
        "        print('Grandfather name :', self.grandfathername)\n",
        "        print(\"Father name :\", self.fathername)\n",
        "        print(\"Son name :\", self.sonname)"
      ],
      "metadata": {
        "id": "l4ctVRGKqS20"
      },
      "execution_count": null,
      "outputs": []
    },
    {
      "cell_type": "code",
      "source": [
        "s1 = Son('Prince', 'Rampal', 'Lal mani')\n",
        "print(s1.grandfathername)\n",
        "s1.print_name()"
      ],
      "metadata": {
        "colab": {
          "base_uri": "https://localhost:8080/"
        },
        "id": "R7kNJbLsqegp",
        "outputId": "9f797fa9-4d0a-45e1-addb-c44edcca9af1"
      },
      "execution_count": null,
      "outputs": [
        {
          "output_type": "stream",
          "name": "stdout",
          "text": [
            "Lal mani\n",
            "Grandfather name : Lal mani\n",
            "Father name : Rampal\n",
            "Son name : Prince\n"
          ]
        }
      ]
    },
    {
      "cell_type": "code",
      "source": [
        "class India():\n",
        "    def capital(self):\n",
        "        print(\"New Delhi is the capital of India.\")\n",
        " \n",
        "    def language(self):\n",
        "        print(\"Hindi is the most widely spoken language of India.\")\n",
        " \n",
        "    def type(self):\n",
        "        print(\"India is a developing country.\")\n",
        " \n",
        "class USA():\n",
        "    def capital(self):\n",
        "        print(\"Washington, D.C. is the capital of USA.\")\n",
        " \n",
        "    def language(self):\n",
        "        print(\"English is the primary language of USA.\")\n",
        " \n",
        "    def type(self):\n",
        "        print(\"USA is a developed country.\")"
      ],
      "metadata": {
        "id": "tLkcFqTOQ3t5"
      },
      "execution_count": null,
      "outputs": []
    },
    {
      "cell_type": "code",
      "source": [
        "obj_ind = India()\n",
        "obj_usa = USA()\n",
        "for country in (obj_ind, obj_usa):\n",
        "    country.capital()\n",
        "    country.language()\n",
        "    country.type()"
      ],
      "metadata": {
        "colab": {
          "base_uri": "https://localhost:8080/"
        },
        "id": "m0Hwzo_iRAOO",
        "outputId": "a7483159-d94f-4b65-e051-a179a15bfa8e"
      },
      "execution_count": null,
      "outputs": [
        {
          "output_type": "stream",
          "name": "stdout",
          "text": [
            "New Delhi is the capital of India.\n",
            "Hindi is the most widely spoken language of India.\n",
            "India is a developing country.\n",
            "Washington, D.C. is the capital of USA.\n",
            "English is the primary language of USA.\n",
            "USA is a developed country.\n"
          ]
        }
      ]
    },
    {
      "cell_type": "code",
      "source": [
        "class bird:\n",
        "     def intro(self):\n",
        "        print(\"there are different types of bird\")\n",
        "         \n",
        "     def flight(self):\n",
        "        print(\" it can fly\")\n",
        "\n",
        "class sparrow(bird):\n",
        "     def flight(self):\n",
        "        print(\"sparrow can fly\")\n",
        "\n",
        "class ostrich(bird):\n",
        "     def flight(self):\n",
        "        print(\"ostrich cannot fly\")             "
      ],
      "metadata": {
        "id": "DzKsKcL2R4N8"
      },
      "execution_count": null,
      "outputs": []
    },
    {
      "cell_type": "code",
      "source": [
        "obj_bird = bird()\n",
        "obj_bird.intro()\n",
        "obj_bird.flight()\n",
        "\n",
        "obj_sparrow = sparrow()\n",
        "obj_sparrow.intro()\n",
        "obj_sparrow.flight()\n",
        "\n",
        "obj_ostrich = ostrich()\n",
        "obj_ostrich.intro()\n",
        "obj_ostrich.flight()"
      ],
      "metadata": {
        "colab": {
          "base_uri": "https://localhost:8080/"
        },
        "id": "oXDpDMThStzz",
        "outputId": "756d7e47-3cb4-4855-ee5c-8e30855e8015"
      },
      "execution_count": null,
      "outputs": [
        {
          "output_type": "stream",
          "name": "stdout",
          "text": [
            "there are different types of bird\n",
            " it can fly\n",
            "there are different types of bird\n",
            "sparrow can fly\n",
            "there are different types of bird\n",
            "ostrich cannot fly\n"
          ]
        }
      ]
    },
    {
      "cell_type": "code",
      "source": [
        "class India():\n",
        "    def capital(self):\n",
        "        print(\"New Delhi is the capital of India.\")\n",
        "  \n",
        "    def language(self):\n",
        "        print(\"Hindi is the most widely spoken language of India.\")\n",
        "  \n",
        "    def type(self):\n",
        "        print(\"India is a developing country.\")\n",
        "  \n",
        "class USA():\n",
        "    def capital(self):\n",
        "        print(\"Washington, D.C. is the capital of USA.\")\n",
        "  \n",
        "    def language(self):\n",
        "        print(\"English is the primary language of USA.\")\n",
        "  \n",
        "    def type(self):\n",
        "        print(\"USA is a developed country.\")\n",
        " \n",
        "def func(obj):\n",
        "    obj.capital()\n",
        "    obj.language()\n",
        "    obj.type()\n",
        "  \n",
        "obj_ind = India()\n",
        "obj_usa = USA()\n",
        "  \n",
        "func(obj_ind)\n",
        "func(obj_usa)"
      ],
      "metadata": {
        "colab": {
          "base_uri": "https://localhost:8080/"
        },
        "id": "Y_P_yIEZUC9B",
        "outputId": "812543af-ea22-45c5-9bba-577a09b612ce"
      },
      "execution_count": null,
      "outputs": [
        {
          "output_type": "stream",
          "name": "stdout",
          "text": [
            "New Delhi is the capital of India.\n",
            "Hindi is the most widely spoken language of India.\n",
            "India is a developing country.\n",
            "Washington, D.C. is the capital of USA.\n",
            "English is the primary language of USA.\n",
            "USA is a developed country.\n"
          ]
        }
      ]
    },
    {
      "cell_type": "code",
      "source": [
        "from datetime import date\n",
        " \n",
        " \n",
        "class Person:\n",
        "    def __init__(self, name, age):\n",
        "        self.name = name\n",
        "        self.age = age\n",
        " \n",
        "    # a class method to create a Person object by birth year.\n",
        "    @classmethod\n",
        "    def fromBirthYear(cls, name, year):\n",
        "        return cls(name, date.today().year - year)\n",
        " \n",
        "    # a static method to check if a Person is adult or not.\n",
        "    @staticmethod\n",
        "    def isAdult(age):\n",
        "        return age > 18\n",
        " \n",
        " \n",
        "person1 = Person('mayank', 21)\n",
        "person2 = Person.fromBirthYear('mayank', 1996)\n",
        " \n",
        "print(person1.age)\n",
        "print(person2.age)\n",
        " \n",
        "# print the result\n",
        "print(Person.isAdult(22))"
      ],
      "metadata": {
        "colab": {
          "base_uri": "https://localhost:8080/"
        },
        "id": "8cSTynRCVtGL",
        "outputId": "df79e819-d78f-4c77-d825-8b810335da12"
      },
      "execution_count": null,
      "outputs": [
        {
          "output_type": "stream",
          "name": "stdout",
          "text": [
            "21\n",
            "26\n",
            "True\n"
          ]
        }
      ]
    },
    {
      "cell_type": "markdown",
      "source": [
        "### **Try and Except Statement – Catching Exceptions**"
      ],
      "metadata": {
        "id": "wIAXaAl_WXIb"
      }
    },
    {
      "cell_type": "code",
      "source": [
        "def fun(a):\n",
        "    if a < 4:\n",
        " \n",
        "        # throws ZeroDivisionError for a = 3\n",
        "        b = a/(a-3)\n",
        " \n",
        "    # throws NameError if a >= 4\n",
        "    print(\"Value of b = \", b)\n",
        "     \n",
        "try:\n",
        "    fun(3)\n",
        "    fun(5)\n",
        " \n",
        "# note that braces () are necessary here for\n",
        "# multiple exceptions\n",
        "except ZeroDivisionError:\n",
        "    print(\"ZeroDivisionError Occurred and Handled\")\n",
        "except NameError:\n",
        "    print(\"NameError Occurred and Handled\")"
      ],
      "metadata": {
        "colab": {
          "base_uri": "https://localhost:8080/"
        },
        "id": "HMfVVRYBXYxt",
        "outputId": "9194637b-e9a5-4c2f-a0e6-cec2dd48c171"
      },
      "execution_count": null,
      "outputs": [
        {
          "output_type": "stream",
          "name": "stdout",
          "text": [
            "ZeroDivisionError Occurred and Handled\n"
          ]
        }
      ]
    },
    {
      "cell_type": "code",
      "source": [
        "def AbyB(a , b):\n",
        "    try:\n",
        "        c = ((a+b) / (a-b))\n",
        "    except ZeroDivisionError:\n",
        "        print (\"a/b result in 0\")\n",
        "    else:\n",
        "        print (c)\n",
        " "
      ],
      "metadata": {
        "id": "fh7KShW0X3n0"
      },
      "execution_count": null,
      "outputs": []
    },
    {
      "cell_type": "code",
      "source": [
        "AbyB(2.0, 3.0)\n",
        "AbyB(3.0, 3.0)"
      ],
      "metadata": {
        "colab": {
          "base_uri": "https://localhost:8080/"
        },
        "id": "QbREocO1YAlT",
        "outputId": "90fa8e3e-76a0-4f1e-a64f-12463654b164"
      },
      "execution_count": null,
      "outputs": [
        {
          "output_type": "stream",
          "name": "stdout",
          "text": [
            "-5.0\n",
            "a/b result in 0\n"
          ]
        }
      ]
    },
    {
      "cell_type": "code",
      "source": [
        "def division(x, y):\n",
        "    try:\n",
        "         result = x//y\n",
        "         print(\"the answer is:\",result)\n",
        "\n",
        "    except ZeroDivisionError:\n",
        "           print(\"you are diving by zero\")      "
      ],
      "metadata": {
        "id": "KubDtwxUYu0H"
      },
      "execution_count": null,
      "outputs": []
    },
    {
      "cell_type": "code",
      "source": [
        "division(4,0)"
      ],
      "metadata": {
        "colab": {
          "base_uri": "https://localhost:8080/"
        },
        "id": "PDHNqfbTZjru",
        "outputId": "b4c5c440-a89b-4944-c1fa-d7909ac05ff4"
      },
      "execution_count": null,
      "outputs": [
        {
          "output_type": "stream",
          "name": "stdout",
          "text": [
            "you are diving by zero\n"
          ]
        }
      ]
    },
    {
      "cell_type": "code",
      "source": [
        " \n",
        "class MyError(Exception):\n",
        " \n",
        "    # Constructor or Initializer\n",
        "    def __init__(self, value):\n",
        "        self.value = value\n",
        " \n",
        "    # __str__ is to print() the value\n",
        "    def __str__(self):\n",
        "        return(repr(self.value))\n",
        " \n",
        " \n",
        "try:\n",
        "    raise(MyError(3*2))\n",
        " \n",
        "# Value of Exception is stored in error\n",
        "except MyError as error:\n",
        "    print('A New Exception occurred: ', error.value)"
      ],
      "metadata": {
        "colab": {
          "base_uri": "https://localhost:8080/"
        },
        "id": "w3qxg3YbaTQa",
        "outputId": "4d1bf9f6-8b9a-4634-eb0d-cf98cdfbaceb"
      },
      "execution_count": null,
      "outputs": [
        {
          "output_type": "stream",
          "name": "stdout",
          "text": [
            "A New Exception occurred:  6\n"
          ]
        }
      ]
    },
    {
      "cell_type": "code",
      "source": [
        "\n",
        "# define Python user-defined exceptions\n",
        "class Error(Exception):\n",
        "   \"\"\"Base class for other exceptions\"\"\"\n",
        "   pass\n",
        "class zerodivision(Error):\n",
        "   \"\"\"Raised when the input value is zero\"\"\"\n",
        "   pass\n",
        "try:\n",
        "   i_num = int(input(\"Enter a number: \"))\n",
        "   if i_num ==0:\n",
        "      raise zerodivision\n",
        "except zerodivision:\n",
        "   print(\"Input value is zero, try again!\")\n",
        "   print()"
      ],
      "metadata": {
        "colab": {
          "base_uri": "https://localhost:8080/"
        },
        "id": "_dpGMIlIajCy",
        "outputId": "f83859da-dd28-4a24-c2be-fa75f32449f2"
      },
      "execution_count": null,
      "outputs": [
        {
          "output_type": "stream",
          "name": "stdout",
          "text": [
            "Enter a number: 0\n",
            "Input value is zero, try again!\n",
            "\n"
          ]
        }
      ]
    },
    {
      "cell_type": "code",
      "source": [
        "class Error(Exception):\n",
        "     pass\n",
        " \n",
        "class TransitionError(Error):\n",
        " \n",
        "    def __init__(self, prev, nex, msg):\n",
        "        self.prev = prev\n",
        "        self.next = nex\n",
        " \n",
        "        self.msg = msg\n",
        "try:\n",
        "    raise(TransitionError(2,3*2,\"Not Allowed\"))\n",
        "\n",
        "except TransitionError as error:\n",
        "    print('Exception occurred: ',error.msg)"
      ],
      "metadata": {
        "colab": {
          "base_uri": "https://localhost:8080/"
        },
        "id": "6wzaGkr6bFij",
        "outputId": "c537b74a-d737-434b-a18b-fab5717d8d63"
      },
      "execution_count": null,
      "outputs": [
        {
          "output_type": "stream",
          "name": "stdout",
          "text": [
            "Exception occurred:  Not Allowed\n"
          ]
        }
      ]
    },
    {
      "cell_type": "markdown",
      "source": [
        "## **Numpy **"
      ],
      "metadata": {
        "id": "zbIyulrBalSI"
      }
    },
    {
      "cell_type": "code",
      "source": [
        "# Python program for\n",
        "# Creation of Arrays\n",
        "import numpy as np\n",
        " \n",
        "# Creating a rank 1 Array\n",
        "arr = np.array([1, 2, 3])\n",
        "print(\"Array with Rank 1: \\n\",arr)\n",
        " \n",
        "# Creating a rank 2 Array\n",
        "arr = np.array([[1, 2, 3],\n",
        "                [4, 5, 6]])\n",
        "print(\"Array with Rank 2: \\n\", arr)\n",
        " \n",
        "# Creating an array from tuple\n",
        "arr = np.array((1, 3, 2))\n",
        "print(\"\\nArray created using \"\n",
        "      \"passed tuple:\\n\", arr)"
      ],
      "metadata": {
        "colab": {
          "base_uri": "https://localhost:8080/"
        },
        "id": "m9IZ0tJ6Xh5E",
        "outputId": "2ae7c28a-88e5-4157-f8fa-2062f395d27c"
      },
      "execution_count": null,
      "outputs": [
        {
          "output_type": "stream",
          "name": "stdout",
          "text": [
            "Array with Rank 1: \n",
            " [1 2 3]\n",
            "Array with Rank 2: \n",
            " [[1 2 3]\n",
            " [4 5 6]]\n",
            "\n",
            "Array created using passed tuple:\n",
            " [1 3 2]\n"
          ]
        }
      ]
    },
    {
      "cell_type": "code",
      "source": [
        "import numpy as np\n",
        " \n",
        "# Initial Array\n",
        "arr = np.array([[-1, 2, 0, 4],\n",
        "                [4, -0.5, 6, 0],\n",
        "                [2.6, 0, 7, 8],\n",
        "                [3, -7, 4, 2.0]])\n",
        "print(\"Initial Array: \")\n",
        "print(arr)\n",
        " \n",
        "# Printing a range of Array\n",
        "# with the use of slicing method\n",
        "sliced_arr = arr[:2, ::2]\n",
        "print (\"Array with first 2 rows and\"\n",
        "    \" alternate columns(0 and 2):\\n\", sliced_arr)\n",
        " \n",
        "# Printing elements at\n",
        "# specific Indices\n",
        "Index_arr = arr[[1, 1, 0, 3], \n",
        "                [3, 2, 1, 0]]\n",
        "print (\"\\nElements at indices (1, 3), \"\n",
        "    \"(1, 2), (0, 1), (3, 0):\\n\", Index_arr)"
      ],
      "metadata": {
        "colab": {
          "base_uri": "https://localhost:8080/"
        },
        "id": "YDUlrzWkX75_",
        "outputId": "69ac35f7-e47a-4754-fc60-cce477cb4331"
      },
      "execution_count": null,
      "outputs": [
        {
          "output_type": "stream",
          "name": "stdout",
          "text": [
            "Initial Array: \n",
            "[[-1.   2.   0.   4. ]\n",
            " [ 4.  -0.5  6.   0. ]\n",
            " [ 2.6  0.   7.   8. ]\n",
            " [ 3.  -7.   4.   2. ]]\n",
            "Array with first 2 rows and alternate columns(0 and 2):\n",
            " [[-1.  0.]\n",
            " [ 4.  6.]]\n",
            "\n",
            "Elements at indices (1, 3), (1, 2), (0, 1), (3, 0):\n",
            " [0. 6. 2. 3.]\n"
          ]
        }
      ]
    },
    {
      "cell_type": "code",
      "source": [
        "# Defining Array 1\n",
        "a = np.array([[1, 2],\n",
        "              [3, 4]])\n",
        " \n",
        "# Defining Array 2\n",
        "b = np.array([[4, 3],\n",
        "              [2, 1]])\n",
        "               \n",
        "# Adding 1 to every element\n",
        "print (\"Adding 1 to every element:\", a + 1)\n",
        " \n",
        "# Subtracting 2 from each element\n",
        "print (\"\\nSubtracting 2 from each element:\", b - 2)\n",
        " \n",
        "# sum of array elements\n",
        "# Performing Unary operations\n",
        "print (\"\\nSum of all array \"\n",
        "       \"elements: \", a.sum())\n",
        " \n",
        "# Adding two arrays\n",
        "# Performing Binary operations\n",
        "print (\"\\nArray sum:\\n\", a + b)"
      ],
      "metadata": {
        "colab": {
          "base_uri": "https://localhost:8080/"
        },
        "id": "lbVSumRPYW7A",
        "outputId": "dce6809d-2483-471c-e8d3-daaea88cd1ba"
      },
      "execution_count": null,
      "outputs": [
        {
          "output_type": "stream",
          "name": "stdout",
          "text": [
            "Adding 1 to every element: [[2 3]\n",
            " [4 5]]\n",
            "\n",
            "Subtracting 2 from each element: [[ 2  1]\n",
            " [ 0 -1]]\n",
            "\n",
            "Sum of all array elements:  10\n",
            "\n",
            "Array sum:\n",
            " [[5 5]\n",
            " [5 5]]\n"
          ]
        }
      ]
    },
    {
      "cell_type": "code",
      "source": [
        "x = np.array([1, 2])  \n",
        "print(\"Integer Datatype: \")\n",
        "print(x.dtype)         \n",
        "\n",
        "x = np.array([1.0, 2.0]) \n",
        "print(\"\\nFloat Datatype: \")\n",
        "print(x.dtype)  \n",
        " \n",
        "x = np.array([1, 2], dtype = np.int64)   \n",
        "print(\"\\nForcing a Datatype: \")\n",
        "print(x.dtype)"
      ],
      "metadata": {
        "colab": {
          "base_uri": "https://localhost:8080/"
        },
        "id": "RoV_ic0iYvJR",
        "outputId": "e1138c6f-e753-4c30-eba5-93ae0934ab17"
      },
      "execution_count": null,
      "outputs": [
        {
          "output_type": "stream",
          "name": "stdout",
          "text": [
            "Integer Datatype: \n",
            "int64\n",
            "\n",
            "Float Datatype: \n",
            "float64\n",
            "\n",
            "Forcing a Datatype: \n",
            "int64\n"
          ]
        }
      ]
    },
    {
      "cell_type": "code",
      "source": [
        "arr1 = np.array([[4, 7], [2, 6]], \n",
        "                 dtype = np.float64)\n",
        "                  \n",
        "# Second Array\n",
        "arr2 = np.array([[3, 6], [2, 8]], \n",
        "                 dtype = np.float64) \n",
        " \n",
        "# Addition of two Arrays\n",
        "Sum = np.add(arr1, arr2)\n",
        "print(\"Addition of Two Arrays: \")\n",
        "print(Sum)\\\n",
        "\n",
        "Sum1 = np.sum(arr1)\n",
        "print(\"\\nAddition of Array elements: \")\n",
        "print(Sum1)\n",
        "\n",
        "Sqrt = np.sqrt(arr1)\n",
        "print(\"\\nSquare root of Array1 elements: \")\n",
        "print(Sqrt)\n",
        "\n",
        "Trans_arr = arr1.T\n",
        "print(\"\\nTranspose of Array: \")\n",
        "print(Trans_arr) "
      ],
      "metadata": {
        "colab": {
          "base_uri": "https://localhost:8080/"
        },
        "id": "JQr81OznY9Wf",
        "outputId": "919b1f97-278d-4306-b3fb-638473372775"
      },
      "execution_count": null,
      "outputs": [
        {
          "output_type": "stream",
          "name": "stdout",
          "text": [
            "Addition of Two Arrays: \n",
            "[[ 7. 13.]\n",
            " [ 4. 14.]]\n",
            "\n",
            "Addition of Array elements: \n",
            "19.0\n",
            "\n",
            "Square root of Array1 elements: \n",
            "[[2.         2.64575131]\n",
            " [1.41421356 2.44948974]]\n",
            "\n",
            "Transpose of Array: \n",
            "[[4. 2.]\n",
            " [7. 6.]]\n"
          ]
        }
      ]
    },
    {
      "cell_type": "code",
      "source": [
        "arr = np.array( [[ 1, 2, 3],\n",
        "                 [ 4, 2, 5]] )\n",
        " \n",
        "# Printing type of arr object\n",
        "print(\"Array is of type: \", type(arr))\n",
        " \n",
        "# Printing array dimensions (axes)\n",
        "print(\"No. of dimensions: \", arr.ndim)\n",
        " \n",
        "# Printing shape of array\n",
        "print(\"Shape of array: \", arr.shape)\n",
        " \n",
        "# Printing size (total number of elements) of array\n",
        "print(\"Size of array: \", arr.size)\n",
        " \n",
        "# Printing type of elements in array\n",
        "print(\"Array stores elements of type: \", arr.dtype)"
      ],
      "metadata": {
        "colab": {
          "base_uri": "https://localhost:8080/"
        },
        "id": "peQ_0JSJZvKa",
        "outputId": "ff7c049b-a40e-4a5a-e316-aae7e6c6fb66"
      },
      "execution_count": null,
      "outputs": [
        {
          "output_type": "stream",
          "name": "stdout",
          "text": [
            "Array is of type:  <class 'numpy.ndarray'>\n",
            "No. of dimensions:  2\n",
            "Shape of array:  (2, 3)\n",
            "Size of array:  6\n",
            "Array stores elements of type:  int64\n"
          ]
        }
      ]
    },
    {
      "cell_type": "code",
      "source": [
        "import numpy as np\n",
        " \n",
        "# Creating array from list with type float\n",
        "a = np.array([[1, 2, 4], [5, 8, 7]], dtype = 'float')\n",
        "print (\"Array created using passed list:\\n\", a)\n",
        " \n",
        "# Creating array from tuple\n",
        "b = np.array((1 , 3, 2))\n",
        "print (\"\\nArray created using passed tuple:\\n\", b)\n",
        " \n",
        "# Creating a 3X4 array with all zeros\n",
        "c = np.zeros((3, 4))\n",
        "print (\"\\nAn array initialized with all zeros:\\n\", c)\n",
        " \n",
        "# Create a constant value array of complex type\n",
        "d = np.full((3, 3), 6, dtype = 'complex')\n",
        "print (\"\\nAn array initialized with all 6s.\"\n",
        "            \"Array type is complex:\\n\", d)"
      ],
      "metadata": {
        "colab": {
          "base_uri": "https://localhost:8080/"
        },
        "id": "6lVfTWskadeK",
        "outputId": "f3749686-0a33-46d5-e3b5-6048529d8806"
      },
      "execution_count": null,
      "outputs": [
        {
          "output_type": "stream",
          "name": "stdout",
          "text": [
            "Array created using passed list:\n",
            " [[1. 2. 4.]\n",
            " [5. 8. 7.]]\n",
            "\n",
            "Array created using passed tuple:\n",
            " [1 3 2]\n",
            "\n",
            "An array initialized with all zeros:\n",
            " [[0. 0. 0. 0.]\n",
            " [0. 0. 0. 0.]\n",
            " [0. 0. 0. 0.]]\n",
            "\n",
            "An array initialized with all 6s.Array type is complex:\n",
            " [[6.+0.j 6.+0.j 6.+0.j]\n",
            " [6.+0.j 6.+0.j 6.+0.j]\n",
            " [6.+0.j 6.+0.j 6.+0.j]]\n"
          ]
        }
      ]
    },
    {
      "cell_type": "code",
      "source": [
        "arr = np.array([[-1, 2, 0, 4],\n",
        "                [4, -0.5, 6, 0],\n",
        "                [2.6, 0, 7, 8],\n",
        "                [3, -7, 4, 2.0]])\n",
        " \n",
        "# Slicing array\n",
        "temp = arr[:2, ::2]\n",
        "print (\"Array with first 2 rows and alternate\"\n",
        "                    \"columns(0 and 2):\\n\", temp)\n",
        " \n",
        "# Integer array indexing example\n",
        "temp = arr[[0, 1, 2, 3], [3, 2, 1, 0]]\n",
        "print (\"\\nElements at indices (0, 3), (1, 2), (2, 1),\"\n",
        "                                    \"(3, 0):\\n\", temp)\n",
        " \n",
        "# boolean array indexing example\n",
        "cond = arr > 0 # cond is a boolean array\n",
        "temp = arr[cond]\n",
        "print (\"\\nElements greater than 0:\\n\", temp)"
      ],
      "metadata": {
        "colab": {
          "base_uri": "https://localhost:8080/"
        },
        "id": "fHO-EDuJbNrA",
        "outputId": "8f717dfa-b4f3-4a99-9b2c-b76a4227f23f"
      },
      "execution_count": null,
      "outputs": [
        {
          "output_type": "stream",
          "name": "stdout",
          "text": [
            "Array with first 2 rows and alternatecolumns(0 and 2):\n",
            " [[-1.  0.]\n",
            " [ 4.  6.]]\n",
            "\n",
            "Elements at indices (0, 3), (1, 2), (2, 1),(3, 0):\n",
            " [4. 6. 0. 3.]\n",
            "\n",
            "Elements greater than 0:\n",
            " [2.  4.  4.  6.  2.6 7.  8.  3.  4.  2. ]\n"
          ]
        }
      ]
    },
    {
      "cell_type": "code",
      "source": [
        "\n",
        "a = np.array([1, 2, 5, 3])\n",
        " \n",
        "# add 1 to every element\n",
        "print (\"Adding 1 to every element:\", a+1)\n",
        " \n",
        "# subtract 3 from each element\n",
        "print (\"Subtracting 3 from each element:\", a-3)\n",
        " \n",
        "# multiply each element by 10\n",
        "print (\"Multiplying each element by 10:\", a*10)\n",
        " \n",
        "# square each element\n",
        "print (\"Squaring each element:\", a**2)\n",
        " \n",
        "# modify existing array\n",
        "a *= 2\n",
        "print (\"Doubled each element of original array:\", a)\n",
        " \n",
        "# transpose of array\n",
        "a = np.array([[1, 2, 3], [3, 4, 5], [9, 6, 0]])\n",
        " \n",
        "print (\"\\nOriginal array:\\n\", a)\n",
        "print (\"Transpose of array:\\n\", a.T)"
      ],
      "metadata": {
        "colab": {
          "base_uri": "https://localhost:8080/"
        },
        "id": "2ZXlLYJ3bf4i",
        "outputId": "ca60b04b-0251-4499-8b7f-11709a00b11f"
      },
      "execution_count": null,
      "outputs": [
        {
          "output_type": "stream",
          "name": "stdout",
          "text": [
            "Adding 1 to every element: [2 3 6 4]\n",
            "Subtracting 3 from each element: [-2 -1  2  0]\n",
            "Multiplying each element by 10: [10 20 50 30]\n",
            "Squaring each element: [ 1  4 25  9]\n",
            "Doubled each element of original array: [ 2  4 10  6]\n",
            "\n",
            "Original array:\n",
            " [[1 2 3]\n",
            " [3 4 5]\n",
            " [9 6 0]]\n",
            "Transpose of array:\n",
            " [[1 3 9]\n",
            " [2 4 6]\n",
            " [3 5 0]]\n"
          ]
        }
      ]
    },
    {
      "cell_type": "code",
      "source": [
        "arr = np.array([[1, 5, 6],\n",
        "                [4, 7, 2],\n",
        "                [3, 1, 9]])\n",
        " \n",
        "# maximum element of array\n",
        "print (\"Largest element is:\", arr.max())\n",
        "print (\"Row-wise maximum elements:\",\n",
        "                    arr.max(axis = 1))\n",
        " \n",
        "# minimum element of array\n",
        "print (\"Column-wise minimum elements:\",\n",
        "                        arr.min(axis = 0))\n",
        " \n",
        "# sum of array elements\n",
        "print (\"Sum of all array elements:\",\n",
        "                            arr.sum())\n",
        " \n",
        "# cumulative sum along each row\n",
        "print (\"Cumulative sum along each row:\\n\",\n",
        "                        arr.cumsum(axis = 1))"
      ],
      "metadata": {
        "colab": {
          "base_uri": "https://localhost:8080/"
        },
        "id": "T8K-tEEycf1R",
        "outputId": "57d48b47-a755-4075-a9da-47287b8a97f6"
      },
      "execution_count": null,
      "outputs": [
        {
          "output_type": "stream",
          "name": "stdout",
          "text": [
            "Largest element is: 9\n",
            "Row-wise maximum elements: [6 7 9]\n",
            "Column-wise minimum elements: [1 1 2]\n",
            "Sum of all array elements: 38\n",
            "Cumulative sum along each row:\n",
            " [[ 1  6 12]\n",
            " [ 4 11 13]\n",
            " [ 3  4 13]]\n"
          ]
        }
      ]
    },
    {
      "cell_type": "code",
      "source": [
        "a = np.array([[1, 2],\n",
        "            [3, 4]])\n",
        "b = np.array([[4, 3],\n",
        "            [2, 1]])\n",
        " \n",
        "# add arrays\n",
        "print (\"Array sum:\\n\", a + b)\n",
        " \n",
        "# multiply arrays (elementwise multiplication)\n",
        "print (\"Array multiplication:\\n\", a*b)\n",
        " \n",
        "# matrix multiplication\n",
        "print (\"Matrix multiplication:\\n\", a.dot(b))"
      ],
      "metadata": {
        "colab": {
          "base_uri": "https://localhost:8080/"
        },
        "id": "Ha_WAMcbcxua",
        "outputId": "24515c9b-3e92-4589-b79e-20c0e70b7672"
      },
      "execution_count": null,
      "outputs": [
        {
          "output_type": "stream",
          "name": "stdout",
          "text": [
            "Array sum:\n",
            " [[5 5]\n",
            " [5 5]]\n",
            "Array multiplication:\n",
            " [[4 6]\n",
            " [6 4]]\n",
            "Matrix multiplication:\n",
            " [[ 8  5]\n",
            " [20 13]]\n"
          ]
        }
      ]
    },
    {
      "cell_type": "code",
      "source": [
        "# create an array of sine values\n",
        "a = np.array([0, np.pi/2, np.pi])\n",
        "print (\"Sine values of array elements:\", np.sin(a))\n",
        " \n",
        "# exponential values\n",
        "a = np.array([0, 1, 2, 3])\n",
        "print (\"Exponent of array elements:\", np.exp(a))\n",
        " \n",
        "# square root of array values\n",
        "print (\"Square root of array elements:\", np.sqrt(a))"
      ],
      "metadata": {
        "colab": {
          "base_uri": "https://localhost:8080/"
        },
        "id": "e3f_y-S_c__C",
        "outputId": "a37be25a-1fbd-4576-d50e-514496e46799"
      },
      "execution_count": null,
      "outputs": [
        {
          "output_type": "stream",
          "name": "stdout",
          "text": [
            "Sine values of array elements: [0.0000000e+00 1.0000000e+00 1.2246468e-16]\n",
            "Exponent of array elements: [ 1.          2.71828183  7.3890561  20.08553692]\n",
            "Square root of array elements: [0.         1.         1.41421356 1.73205081]\n"
          ]
        }
      ]
    },
    {
      "cell_type": "code",
      "source": [
        "arr=[1, 2, 3, 4, 5]\n",
        "for i in arr:\n",
        "        print(i)"
      ],
      "metadata": {
        "colab": {
          "base_uri": "https://localhost:8080/"
        },
        "id": "BYQnwq6XdXr_",
        "outputId": "7c67b834-35ba-4e14-8b88-0c52e2d53e17"
      },
      "execution_count": null,
      "outputs": [
        {
          "output_type": "stream",
          "name": "stdout",
          "text": [
            "1\n",
            "2\n",
            "3\n",
            "4\n",
            "5\n"
          ]
        }
      ]
    },
    {
      "cell_type": "code",
      "source": [
        "import array\n",
        "arr = array.array('i', [1, 2, 3]) \n",
        " \n",
        "# printing original array\n",
        "print (\"The new created array is : \",end=\"\")\n",
        "for i in range (0,3):\n",
        "    print (arr[i], end=\" \")\n",
        " \n",
        "print (\"\\r\")"
      ],
      "metadata": {
        "colab": {
          "base_uri": "https://localhost:8080/"
        },
        "id": "YSUWNZP3dxeq",
        "outputId": "5077307e-1349-4f4f-955d-508cd9296ebb"
      },
      "execution_count": null,
      "outputs": [
        {
          "output_type": "stream",
          "name": "stdout",
          "text": [
            "The new created array is : 1 2 3 \r\n"
          ]
        }
      ]
    },
    {
      "cell_type": "code",
      "source": [
        "import numpy as geek\n",
        " \n",
        "b = geek.empty(2, dtype = int)\n",
        "print(\"Matrix b : \\n\", b)\n",
        " \n",
        "a = geek.empty([2, 2], dtype = int)\n",
        "print(\"\\nMatrix a : \\n\", a)\n",
        " \n",
        "c = geek.empty([3, 3])\n",
        "print(\"\\nMatrix c : \\n\", c)"
      ],
      "metadata": {
        "colab": {
          "base_uri": "https://localhost:8080/"
        },
        "id": "PwchsZTweBUC",
        "outputId": "90656e6f-c51e-4035-8525-1737f30cff6d"
      },
      "execution_count": null,
      "outputs": [
        {
          "output_type": "stream",
          "name": "stdout",
          "text": [
            "Matrix b : \n",
            " [4607182418800017408 4368955796522032135]\n",
            "\n",
            "Matrix a : \n",
            " [[                  0 4607182418800017408]\n",
            " [4609047870845172685 4610479282544200874]]\n",
            "\n",
            "Matrix c : \n",
            " [[4.9e-324 2.5e-323 3.0e-323]\n",
            " [2.0e-323 3.5e-323 9.9e-324]\n",
            " [1.5e-323 4.9e-324 4.4e-323]]\n"
          ]
        }
      ]
    },
    {
      "cell_type": "code",
      "source": [
        "import numpy as geek\n",
        " \n",
        "b = geek.zeros(2, dtype = int)\n",
        "print(\"Matrix b : \\n\", b)\n",
        " \n",
        "a = geek.zeros([2, 2], dtype = int)\n",
        "print(\"\\nMatrix a : \\n\", a)\n",
        " \n",
        "c = geek.zeros([3, 3])\n",
        "print(\"\\nMatrix c : \\n\", c)"
      ],
      "metadata": {
        "colab": {
          "base_uri": "https://localhost:8080/"
        },
        "id": "B7XKM1k7eOY-",
        "outputId": "1b286477-5603-45f3-eeb5-4415b8ea7859"
      },
      "execution_count": null,
      "outputs": [
        {
          "output_type": "stream",
          "name": "stdout",
          "text": [
            "Matrix b : \n",
            " [0 0]\n",
            "\n",
            "Matrix a : \n",
            " [[0 0]\n",
            " [0 0]]\n",
            "\n",
            "Matrix c : \n",
            " [[0. 0. 0.]\n",
            " [0. 0. 0.]\n",
            " [0. 0. 0.]]\n"
          ]
        }
      ]
    },
    {
      "cell_type": "code",
      "source": [
        "import numpy as geek\n",
        " \n",
        "array = geek.arange(8)\n",
        "print(\"Original array : \\n\", array)\n",
        " \n",
        "# shape array with 2 rows and 4 columns\n",
        "array = geek.arange(8).reshape(2, 4)\n",
        "print(\"\\narray reshaped with 2 rows and 4 columns : \\n\", array)\n",
        " \n",
        "# shape array with 2 rows and 4 columns\n",
        "array = geek.arange(8).reshape(4 ,2)\n",
        "print(\"\\narray reshaped with 2 rows and 4 columns : \\n\", array)\n",
        " \n",
        "# Constructs 3D array\n",
        "array = geek.arange(8).reshape(2, 2, 2)\n",
        "print(\"\\nOriginal array reshaped to 3D : \\n\", array)"
      ],
      "metadata": {
        "colab": {
          "base_uri": "https://localhost:8080/"
        },
        "id": "4OpACGqheeew",
        "outputId": "08ff1829-693f-4276-b137-420bdbe1b97e"
      },
      "execution_count": null,
      "outputs": [
        {
          "output_type": "stream",
          "name": "stdout",
          "text": [
            "Original array : \n",
            " [0 1 2 3 4 5 6 7]\n",
            "\n",
            "array reshaped with 2 rows and 4 columns : \n",
            " [[0 1 2 3]\n",
            " [4 5 6 7]]\n",
            "\n",
            "array reshaped with 2 rows and 4 columns : \n",
            " [[0 1]\n",
            " [2 3]\n",
            " [4 5]\n",
            " [6 7]]\n",
            "\n",
            "Original array reshaped to 3D : \n",
            " [[[0 1]\n",
            "  [2 3]]\n",
            "\n",
            " [[4 5]\n",
            "  [6 7]]]\n"
          ]
        }
      ]
    },
    {
      "cell_type": "code",
      "source": [
        "import numpy as geek\n",
        " \n",
        "print(\"A\\n\", geek.arange(4).reshape(2, 2), \"\\n\")\n",
        " \n",
        "print(\"A\\n\", geek.arange(4, 10), \"\\n\")\n",
        " \n",
        "print(\"A\\n\", geek.arange(4, 20, 3), \"\\n\")"
      ],
      "metadata": {
        "colab": {
          "base_uri": "https://localhost:8080/"
        },
        "id": "BW8n-r1hKqjn",
        "outputId": "7b446c94-c422-4603-b404-e9471512eb40"
      },
      "execution_count": null,
      "outputs": [
        {
          "output_type": "stream",
          "name": "stdout",
          "text": [
            "A\n",
            " [[0 1]\n",
            " [2 3]] \n",
            "\n",
            "A\n",
            " [4 5 6 7 8 9] \n",
            "\n",
            "A\n",
            " [ 4  7 10 13 16 19] \n",
            "\n"
          ]
        }
      ]
    },
    {
      "cell_type": "code",
      "source": [
        "print(\"B\\n\", geek.linspace(2.0, 3.0, num=5, retstep=True), \"\\n\")\n",
        " \n",
        "# To evaluate sin() in long range \n",
        "x = geek.linspace(0, 2, 10)\n",
        "print(\"A\\n\", geek.sin(x))"
      ],
      "metadata": {
        "colab": {
          "base_uri": "https://localhost:8080/"
        },
        "id": "_pNjrjuZKvew",
        "outputId": "2ca8fd31-441f-471a-cb4c-700ab8461fa0"
      },
      "execution_count": null,
      "outputs": [
        {
          "output_type": "stream",
          "name": "stdout",
          "text": [
            "B\n",
            " (array([2.  , 2.25, 2.5 , 2.75, 3.  ]), 0.25) \n",
            "\n",
            "A\n",
            " [0.         0.22039774 0.42995636 0.6183698  0.77637192 0.8961922\n",
            " 0.9719379  0.99988386 0.9786557  0.90929743]\n"
          ]
        }
      ]
    },
    {
      "cell_type": "code",
      "source": [
        "array = geek.array([[1, 2], [3, 4]])\n",
        " \n",
        "# using flatten method\n",
        "array.flatten()\n",
        "print(array)\n",
        " \n",
        "#using fatten method \n",
        "array.flatten('F')\n",
        "print(array)"
      ],
      "metadata": {
        "colab": {
          "base_uri": "https://localhost:8080/"
        },
        "id": "qUvvQqBFK7EC",
        "outputId": "590883f5-88ea-4ea8-9901-be9fd2075ed9"
      },
      "execution_count": null,
      "outputs": [
        {
          "output_type": "stream",
          "name": "stdout",
          "text": [
            "[[1 2]\n",
            " [3 4]]\n",
            "[[1 2]\n",
            " [3 4]]\n"
          ]
        }
      ]
    },
    {
      "cell_type": "code",
      "source": [
        "import numpy as np\n",
        "a = [[1, 2], [3, 4]]\n",
        "#using eye \n",
        "print(np.eye(4))\n",
        "\n",
        "print(np.identity(3))\n",
        "\n",
        "print(np.ones(45))"
      ],
      "metadata": {
        "colab": {
          "base_uri": "https://localhost:8080/"
        },
        "id": "cJaKuQ7qLpvi",
        "outputId": "a7a1221d-e34b-414b-8d05-51ab8114f837"
      },
      "execution_count": null,
      "outputs": [
        {
          "output_type": "stream",
          "name": "stdout",
          "text": [
            "[[1. 0. 0. 0.]\n",
            " [0. 1. 0. 0.]\n",
            " [0. 0. 1. 0.]\n",
            " [0. 0. 0. 1.]]\n",
            "[[1. 0. 0.]\n",
            " [0. 1. 0.]\n",
            " [0. 0. 1.]]\n",
            "[1. 1. 1. 1. 1. 1. 1. 1. 1. 1. 1. 1. 1. 1. 1. 1. 1. 1. 1. 1. 1. 1. 1. 1.\n",
            " 1. 1. 1. 1. 1. 1. 1. 1. 1. 1. 1. 1. 1. 1. 1. 1. 1. 1. 1. 1. 1.]\n"
          ]
        }
      ]
    },
    {
      "cell_type": "code",
      "source": [
        "np.arange(56)"
      ],
      "metadata": {
        "colab": {
          "base_uri": "https://localhost:8080/"
        },
        "id": "m6DXGCuQM2P3",
        "outputId": "ee62aa4e-9f92-4213-a203-695fc5bc3dc4"
      },
      "execution_count": null,
      "outputs": [
        {
          "output_type": "execute_result",
          "data": {
            "text/plain": [
              "array([ 0,  1,  2,  3,  4,  5,  6,  7,  8,  9, 10, 11, 12, 13, 14, 15, 16,\n",
              "       17, 18, 19, 20, 21, 22, 23, 24, 25, 26, 27, 28, 29, 30, 31, 32, 33,\n",
              "       34, 35, 36, 37, 38, 39, 40, 41, 42, 43, 44, 45, 46, 47, 48, 49, 50,\n",
              "       51, 52, 53, 54, 55])"
            ]
          },
          "metadata": {},
          "execution_count": 23
        }
      ]
    },
    {
      "cell_type": "code",
      "source": [
        "list1 = [1, 2, 3, 4, 5, 6]\n",
        "list2 = [10, 9, 8, 7, 6, 5]\n",
        " \n",
        "# Convert list1 into a NumPy array\n",
        "a1 = np.array(list1)\n",
        " \n",
        "# Convert list2 into a NumPy array\n",
        "a2 = np.array(list2)\n",
        " \n",
        "print(a1*a2)"
      ],
      "metadata": {
        "colab": {
          "base_uri": "https://localhost:8080/"
        },
        "id": "E0-4IkkSnAnB",
        "outputId": "dbbfa8ce-c976-4cae-d315-00cf96bbc4dc"
      },
      "execution_count": null,
      "outputs": [
        {
          "output_type": "stream",
          "name": "stdout",
          "text": [
            "[10 18 24 28 30 30]\n"
          ]
        }
      ]
    },
    {
      "cell_type": "code",
      "source": [
        "import numpy as np\n",
        "\n",
        "a = np.arange(10, 1, -2) \n",
        "print(\"\\n A sequential array with a negative step: \\n\",a)\n",
        " \n",
        "newarr = a[np.array([3, 1, 2 ])]\n",
        "print(\"\\n Elements at these indices are:\\n\",newarr)"
      ],
      "metadata": {
        "colab": {
          "base_uri": "https://localhost:8080/"
        },
        "id": "ERkvUxM9nFDm",
        "outputId": "a94311ff-ed50-4b51-96a1-bdb3c7ba027d"
      },
      "execution_count": null,
      "outputs": [
        {
          "output_type": "stream",
          "name": "stdout",
          "text": [
            "\n",
            " A sequential array with a negative step: \n",
            " [10  8  6  4  2]\n",
            "\n",
            " Elements at these indices are:\n",
            " [4 8 6]\n"
          ]
        }
      ]
    },
    {
      "cell_type": "code",
      "source": [
        "x = np.array([1, 2, 3, 4, 5, 6, 7, 8, 9])\n",
        " \n",
        "# Index values can be negative.\n",
        "arr = x[np.array([1, 3, -3])]\n",
        "print(\"\\n Elements are : \\n\",arr)"
      ],
      "metadata": {
        "colab": {
          "base_uri": "https://localhost:8080/"
        },
        "id": "JLPTbod_nXfP",
        "outputId": "03a125ea-9579-4485-a344-b1dcffe0bdf8"
      },
      "execution_count": null,
      "outputs": [
        {
          "output_type": "stream",
          "name": "stdout",
          "text": [
            "\n",
            " Elements are : \n",
            " [2 4 7]\n"
          ]
        }
      ]
    },
    {
      "cell_type": "code",
      "source": [
        "import numpy as np\n",
        "a = np.arange(30)\n",
        "print(\"range from 8 to 20 wih step soze of 2:\", a[8:20:2],'\\n')\n",
        "\n",
        "print(\" count of range from right side with step  size of 2:\",a[-30:17:1])\n",
        "\n",
        "print(\"\\n a[10:]  = \",a[10:])"
      ],
      "metadata": {
        "colab": {
          "base_uri": "https://localhost:8080/"
        },
        "id": "a4HED_AD0R6M",
        "outputId": "74efd863-8c7a-4272-8da3-5f542c882dc5"
      },
      "execution_count": null,
      "outputs": [
        {
          "output_type": "stream",
          "name": "stdout",
          "text": [
            "range from 8 to 20 wih step soze of 2: [ 8 10 12 14 16 18] \n",
            "\n",
            " count of range from right side with step  size of 2: [ 0  1  2  3  4  5  6  7  8  9 10 11 12 13 14 15 16]\n",
            "\n",
            " a[10:]  =  [10 11 12 13 14 15 16 17 18 19 20 21 22 23 24 25 26 27 28 29]\n"
          ]
        }
      ]
    },
    {
      "cell_type": "code",
      "source": [
        "a = np.array([[0, 1, 2, 3, 4, 5],\n",
        "              [6, 7, 8, 9, 10, 11],\n",
        "              [12, 13, 14, 15, 16, 17],\n",
        "              [18, 19, 20, 21, 22, 23],\n",
        "              [24, 25, 26, 27, 28, 29],\n",
        "              [30, 31, 32, 33, 34, 35]])\n",
        "             \n",
        "print(\"\\n Array is:\\n \",a)\n",
        " \n",
        "# slicing and indexing\n",
        "print(\"\\n a[0, 3:5]  = \",a[0, 3:5]) \n",
        " \n",
        "print(\"\\n a[4:, 4:]  = \",a[4:, 4:])\n",
        " \n",
        "print(\"\\n a[:, 2]  = \",a[:, 2]) \n",
        " \n",
        "print(\"\\n a[2:;2, ::2]  = \",a[2::2, ::2]) ##As there is step size of 2 in row\n",
        "                                            # thats why its taking only 2 rowsfirst is [18,19,20...] and [24,25,26...]"
      ],
      "metadata": {
        "colab": {
          "base_uri": "https://localhost:8080/"
        },
        "id": "vZGGG5ge2ZWq",
        "outputId": "24942abe-cf40-451c-b16d-2cbb5a4926e7"
      },
      "execution_count": null,
      "outputs": [
        {
          "output_type": "stream",
          "name": "stdout",
          "text": [
            "\n",
            " Array is:\n",
            "  [[ 0  1  2  3  4  5]\n",
            " [ 6  7  8  9 10 11]\n",
            " [12 13 14 15 16 17]\n",
            " [18 19 20 21 22 23]\n",
            " [24 25 26 27 28 29]\n",
            " [30 31 32 33 34 35]]\n",
            "\n",
            " a[0, 3:5]  =  [3 4]\n",
            "\n",
            " a[4:, 4:]  =  [[28 29]\n",
            " [34 35]]\n",
            "\n",
            " a[:, 2]  =  [ 2  8 14 20 26 32]\n",
            "\n",
            " a[2:;2, ::2]  =  [[12 14 16]\n",
            " [24 26 28]]\n"
          ]
        }
      ]
    },
    {
      "cell_type": "code",
      "source": [
        "a = np.array([[0 ,1 ,2],[3 ,4 ,5 ],\n",
        "              [6 ,7 ,8],[9 ,10 ,11]])\n",
        " \n",
        "print(a[1:2 ,1:3 ])\n",
        "print(a[1:2 ,[1,2]])"
      ],
      "metadata": {
        "colab": {
          "base_uri": "https://localhost:8080/"
        },
        "id": "gLOZGDHH4wga",
        "outputId": "d01cba71-0ff2-4ff2-caa4-97276301b2ee"
      },
      "execution_count": null,
      "outputs": [
        {
          "output_type": "stream",
          "name": "stdout",
          "text": [
            "[[4 5]]\n",
            "[[4 5]]\n"
          ]
        }
      ]
    },
    {
      "cell_type": "code",
      "source": [
        "a = np.array([10, 40, 80, 50, 100])\n",
        "print(a[a>50])"
      ],
      "metadata": {
        "colab": {
          "base_uri": "https://localhost:8080/"
        },
        "id": "9Gw6iK6w42Cm",
        "outputId": "802b2c74-c20b-45f3-b172-a641f5c9ab52"
      },
      "execution_count": null,
      "outputs": [
        {
          "output_type": "stream",
          "name": "stdout",
          "text": [
            "[ 80 100]\n"
          ]
        }
      ]
    },
    {
      "cell_type": "code",
      "source": [
        "a = np.array([10, 40, 80, 50, 100])\n",
        "print(a[a%40==0]**2)"
      ],
      "metadata": {
        "colab": {
          "base_uri": "https://localhost:8080/"
        },
        "id": "PZ1aruf746zE",
        "outputId": "09c5a6d5-536d-4966-8a72-2bf11942ab2e"
      },
      "execution_count": null,
      "outputs": [
        {
          "output_type": "stream",
          "name": "stdout",
          "text": [
            "[1600 6400]\n"
          ]
        }
      ]
    },
    {
      "cell_type": "code",
      "source": [
        "b = np.array([[5, 5],[4, 5],[16, 4]])\n",
        "print(b,\"\\n\")\n",
        "sumrow = b.sum(1)    # here 1 is axis\n",
        "print(sumrow,\"\\n\")\n",
        "print(b[sumrow%10==0])# it means remainder is zero after diving"
      ],
      "metadata": {
        "colab": {
          "base_uri": "https://localhost:8080/"
        },
        "id": "7nXLinke5L26",
        "outputId": "5816f5c6-78bf-4b36-c147-22d90d66b776"
      },
      "execution_count": null,
      "outputs": [
        {
          "output_type": "stream",
          "name": "stdout",
          "text": [
            "[[ 5  5]\n",
            " [ 4  5]\n",
            " [16  4]] \n",
            "\n",
            "[10  9 20] \n",
            "\n",
            "[[ 5  5]\n",
            " [16  4]]\n"
          ]
        }
      ]
    },
    {
      "cell_type": "code",
      "source": [
        "import numpy as np\n",
        "a = np.arange(16)\n",
        "print(a,\"\\n\")\n",
        "\n",
        "a = a.reshape(4,4)\n",
        "print(a,\"\\n\")\n",
        "\n",
        "for i in np.nditer(a):\n",
        "   print(i,\"\\n\")\n",
        "\n",
        "for x in np.nditer(a, order = 'C'):\n",
        "    print('Modified array in C-style order:') \n",
        "    print(x,\"\\n\")   \n",
        "\n",
        "for x in np.nditer(a, order = 'F'):\n",
        "    print('Modified array in F-style order:') \n",
        "    print(x,\"\\n\")   "
      ],
      "metadata": {
        "colab": {
          "base_uri": "https://localhost:8080/"
        },
        "id": "VSVD57xR64QR",
        "outputId": "ff9276cb-5229-4c44-be32-23ab91a6bc35"
      },
      "execution_count": null,
      "outputs": [
        {
          "output_type": "stream",
          "name": "stdout",
          "text": [
            "[ 0  1  2  3  4  5  6  7  8  9 10 11 12 13 14 15] \n",
            "\n",
            "[[ 0  1  2  3]\n",
            " [ 4  5  6  7]\n",
            " [ 8  9 10 11]\n",
            " [12 13 14 15]] \n",
            "\n",
            "0 \n",
            "\n",
            "1 \n",
            "\n",
            "2 \n",
            "\n",
            "3 \n",
            "\n",
            "4 \n",
            "\n",
            "5 \n",
            "\n",
            "6 \n",
            "\n",
            "7 \n",
            "\n",
            "8 \n",
            "\n",
            "9 \n",
            "\n",
            "10 \n",
            "\n",
            "11 \n",
            "\n",
            "12 \n",
            "\n",
            "13 \n",
            "\n",
            "14 \n",
            "\n",
            "15 \n",
            "\n",
            "Modified array in C-style order:\n",
            "0 \n",
            "\n",
            "Modified array in C-style order:\n",
            "1 \n",
            "\n",
            "Modified array in C-style order:\n",
            "2 \n",
            "\n",
            "Modified array in C-style order:\n",
            "3 \n",
            "\n",
            "Modified array in C-style order:\n",
            "4 \n",
            "\n",
            "Modified array in C-style order:\n",
            "5 \n",
            "\n",
            "Modified array in C-style order:\n",
            "6 \n",
            "\n",
            "Modified array in C-style order:\n",
            "7 \n",
            "\n",
            "Modified array in C-style order:\n",
            "8 \n",
            "\n",
            "Modified array in C-style order:\n",
            "9 \n",
            "\n",
            "Modified array in C-style order:\n",
            "10 \n",
            "\n",
            "Modified array in C-style order:\n",
            "11 \n",
            "\n",
            "Modified array in C-style order:\n",
            "12 \n",
            "\n",
            "Modified array in C-style order:\n",
            "13 \n",
            "\n",
            "Modified array in C-style order:\n",
            "14 \n",
            "\n",
            "Modified array in C-style order:\n",
            "15 \n",
            "\n",
            "Modified array in F-style order:\n",
            "0 \n",
            "\n",
            "Modified array in F-style order:\n",
            "4 \n",
            "\n",
            "Modified array in F-style order:\n",
            "8 \n",
            "\n",
            "Modified array in F-style order:\n",
            "12 \n",
            "\n",
            "Modified array in F-style order:\n",
            "1 \n",
            "\n",
            "Modified array in F-style order:\n",
            "5 \n",
            "\n",
            "Modified array in F-style order:\n",
            "9 \n",
            "\n",
            "Modified array in F-style order:\n",
            "13 \n",
            "\n",
            "Modified array in F-style order:\n",
            "2 \n",
            "\n",
            "Modified array in F-style order:\n",
            "6 \n",
            "\n",
            "Modified array in F-style order:\n",
            "10 \n",
            "\n",
            "Modified array in F-style order:\n",
            "14 \n",
            "\n",
            "Modified array in F-style order:\n",
            "3 \n",
            "\n",
            "Modified array in F-style order:\n",
            "7 \n",
            "\n",
            "Modified array in F-style order:\n",
            "11 \n",
            "\n",
            "Modified array in F-style order:\n",
            "15 \n",
            "\n"
          ]
        }
      ]
    },
    {
      "cell_type": "code",
      "source": [
        "a = np.arange(12)\n",
        " \n",
        " # shape array with 3 rows and \n",
        "# 4 columns \n",
        "a = a.reshape(3,4) \n",
        " \n",
        "print('First array is:') \n",
        "print(a)\n",
        "print()  \n",
        " \n",
        "# Creating second array using \n",
        "# array method\n",
        "print('Second array is:') \n",
        "b = np.array([5, 6, 7, 8], dtype = int) \n",
        "print(b)  \n",
        "print() \n",
        " \n",
        "print('Modified array is:')\n",
        "for x,y in np.nditer([a,b]): \n",
        "    print(\"%d:%d\" % (x,y))"
      ],
      "metadata": {
        "colab": {
          "base_uri": "https://localhost:8080/"
        },
        "id": "z5eR08xe979w",
        "outputId": "8743aac2-67e6-4625-c5a1-51377b85ce2c"
      },
      "execution_count": null,
      "outputs": [
        {
          "output_type": "stream",
          "name": "stdout",
          "text": [
            "First array is:\n",
            "[[ 0  1  2  3]\n",
            " [ 4  5  6  7]\n",
            " [ 8  9 10 11]]\n",
            "\n",
            "Second array is:\n",
            "[5 6 7 8]\n",
            "\n",
            "Modified array is:\n",
            "0:5\n",
            "1:6\n",
            "2:7\n",
            "3:8\n",
            "4:5\n",
            "5:6\n",
            "6:7\n",
            "7:8\n",
            "8:5\n",
            "9:6\n",
            "10:7\n",
            "11:8\n"
          ]
        }
      ]
    },
    {
      "cell_type": "code",
      "source": [
        "import numpy as geek\n",
        "in_num1 = 10\n",
        "in_num2 = 11\n",
        " \n",
        "print (\"Input  number1 : \", in_num1)\n",
        "print (\"Input  number2 : \", in_num2) \n",
        "   \n",
        "out_num = geek.bitwise_and(in_num1, in_num2) \n",
        "print (\"bitwise_and of 10 and 11 : \", out_num) "
      ],
      "metadata": {
        "colab": {
          "base_uri": "https://localhost:8080/"
        },
        "id": "76_WDMpx-gdo",
        "outputId": "f5dafeb0-048d-497e-bc35-8ea84708020c"
      },
      "execution_count": null,
      "outputs": [
        {
          "output_type": "stream",
          "name": "stdout",
          "text": [
            "Input  number1 :  10\n",
            "Input  number2 :  11\n",
            "bitwise_and of 10 and 11 :  10\n"
          ]
        }
      ]
    },
    {
      "cell_type": "code",
      "source": [
        "in_arr1 = [2, 8, 125]\n",
        "in_arr2 = [3, 3, 115]\n",
        "  \n",
        "print (\"Input array1 : \", in_arr1) \n",
        "print (\"Input array2 : \", in_arr2)\n",
        "   \n",
        "out_arr = geek.bitwise_and(in_arr1, in_arr2) \n",
        "print (\"Output array after bitwise_and: \", out_arr) "
      ],
      "metadata": {
        "colab": {
          "base_uri": "https://localhost:8080/"
        },
        "id": "N_x5WIIA-lWM",
        "outputId": "4bb36a13-dffd-4dfa-8329-45fd66cca10f"
      },
      "execution_count": null,
      "outputs": [
        {
          "output_type": "stream",
          "name": "stdout",
          "text": [
            "Input array1 :  [2, 8, 125]\n",
            "Input array2 :  [3, 3, 115]\n",
            "Output array after bitwise_and:  [  2   0 113]\n"
          ]
        }
      ]
    },
    {
      "cell_type": "code",
      "source": [
        "import numpy as geek\n",
        "in_num1 = 10\n",
        "in_num2 = 11\n",
        " \n",
        "print (\"Input  number1 : \", in_num1)\n",
        "print (\"Input  number2 : \", in_num2) \n",
        "   \n",
        "out_num = geek.bitwise_or(in_num1, in_num2) \n",
        "print (\"bitwise_or of 10 and 11 : \", out_num) "
      ],
      "metadata": {
        "colab": {
          "base_uri": "https://localhost:8080/"
        },
        "id": "vggNPBUq-xzK",
        "outputId": "1f46ed2b-ab57-4b0a-aacf-f9350266ca72"
      },
      "execution_count": null,
      "outputs": [
        {
          "output_type": "stream",
          "name": "stdout",
          "text": [
            "Input  number1 :  10\n",
            "Input  number2 :  11\n",
            "bitwise_or of 10 and 11 :  11\n"
          ]
        }
      ]
    },
    {
      "cell_type": "code",
      "source": [
        "in_arr1 = [2, 8, 125]\n",
        "in_arr2 = [3, 3, 115]\n",
        "  \n",
        "print (\"Input array1 : \", in_arr1) \n",
        "print (\"Input array2 : \", in_arr2)\n",
        "   \n",
        "out_arr = geek.bitwise_or(in_arr1, in_arr2) \n",
        "print (\"Output array after bitwise_or: \", out_arr) "
      ],
      "metadata": {
        "colab": {
          "base_uri": "https://localhost:8080/"
        },
        "id": "RmsHTizw_JhL",
        "outputId": "98bd73a5-3d74-4958-e243-a47b1a1a0c01"
      },
      "execution_count": null,
      "outputs": [
        {
          "output_type": "stream",
          "name": "stdout",
          "text": [
            "Input array1 :  [2, 8, 125]\n",
            "Input array2 :  [3, 3, 115]\n",
            "Output array after bitwise_or:  [  3  11 127]\n"
          ]
        }
      ]
    },
    {
      "cell_type": "code",
      "source": [
        "in_num1 = 10\n",
        "in_num2 = 11\n",
        " \n",
        "print (\"Input  number1 : \", in_num1)\n",
        "print (\"Input  number2 : \", in_num2) \n",
        "   \n",
        "out_num = geek.bitwise_xor(in_num1, in_num2) \n",
        "print (\"bitwise_xor of 10 and 11 : \", out_num) "
      ],
      "metadata": {
        "colab": {
          "base_uri": "https://localhost:8080/"
        },
        "id": "9zB41Nqx_QJt",
        "outputId": "b48fc818-eae8-4250-de2a-8e7a72cdc7e4"
      },
      "execution_count": null,
      "outputs": [
        {
          "output_type": "stream",
          "name": "stdout",
          "text": [
            "Input  number1 :  10\n",
            "Input  number2 :  11\n",
            "bitwise_xor of 10 and 11 :  1\n"
          ]
        }
      ]
    },
    {
      "cell_type": "code",
      "source": [
        "in_arr1 = [2, 8, 125]\n",
        "in_arr2 = [3, 3, 115]\n",
        "  \n",
        "print (\"Input array1 : \", in_arr1) \n",
        "print (\"Input array2 : \", in_arr2)\n",
        "   \n",
        "out_arr = geek.bitwise_xor(in_arr1, in_arr2) \n",
        "print (\"Output array after bitwise_xor: \", out_arr) "
      ],
      "metadata": {
        "colab": {
          "base_uri": "https://localhost:8080/"
        },
        "id": "pAXbVTVi_VlY",
        "outputId": "25be5118-4671-40d3-e5c3-fada6c02cd51"
      },
      "execution_count": null,
      "outputs": [
        {
          "output_type": "stream",
          "name": "stdout",
          "text": [
            "Input array1 :  [2, 8, 125]\n",
            "Input array2 :  [3, 3, 115]\n",
            "Output array after bitwise_xor:  [ 1 11 14]\n"
          ]
        }
      ]
    },
    {
      "cell_type": "code",
      "source": [
        "in_num = 10\n",
        "print (\"Input  number : \", in_num)\n",
        "   \n",
        "out_num = geek.invert(in_num) \n",
        "print (\"inversion of 10 : \", out_num) "
      ],
      "metadata": {
        "colab": {
          "base_uri": "https://localhost:8080/"
        },
        "id": "E_TFcrZg_cO4",
        "outputId": "301716ec-f4bd-48ad-ca60-de29c6bd5d16"
      },
      "execution_count": null,
      "outputs": [
        {
          "output_type": "stream",
          "name": "stdout",
          "text": [
            "Input  number :  10\n",
            "inversion of 10 :  -11\n"
          ]
        }
      ]
    },
    {
      "cell_type": "code",
      "source": [
        "in_arr = [2, 0, 25]\n",
        "print (\"Input array : \", in_arr)\n",
        "   \n",
        "out_arr = geek.invert(in_arr) \n",
        "print (\"Output array after inversion: \", out_arr) "
      ],
      "metadata": {
        "colab": {
          "base_uri": "https://localhost:8080/"
        },
        "id": "B9KLmLky_jV5",
        "outputId": "d88cac48-eca9-4d11-a729-b01fe1e4d67a"
      },
      "execution_count": null,
      "outputs": [
        {
          "output_type": "stream",
          "name": "stdout",
          "text": [
            "Input array :  [2, 0, 25]\n",
            "Output array after inversion:  [ -3  -1 -26]\n"
          ]
        }
      ]
    },
    {
      "cell_type": "code",
      "source": [
        "in_num = 5\n",
        "bit_shift = 2\n",
        " \n",
        "print (\"Input  number : \", in_num)\n",
        "print (\"Number of bit shift : \", bit_shift ) \n",
        "   \n",
        "out_num = geek.left_shift(in_num, bit_shift) \n",
        "print (\"After left shifting 2 bit  : \", out_num) "
      ],
      "metadata": {
        "colab": {
          "base_uri": "https://localhost:8080/"
        },
        "id": "z72UXCQq_1EG",
        "outputId": "c1058b78-dd74-4120-9e79-2504b4061cc0"
      },
      "execution_count": null,
      "outputs": [
        {
          "output_type": "stream",
          "name": "stdout",
          "text": [
            "Input  number :  5\n",
            "Number of bit shift :  2\n",
            "After left shifting 2 bit  :  20\n"
          ]
        }
      ]
    },
    {
      "cell_type": "code",
      "source": [
        "in_arr = [2, 8, 15]\n",
        "bit_shift =[3, 4, 5]\n",
        "  \n",
        "print (\"Input array : \", in_arr) \n",
        "print (\"Number of bit shift : \", bit_shift)\n",
        "   \n",
        "out_arr = geek.left_shift(in_arr, bit_shift) \n",
        "print (\"Output array after left shifting: \", out_arr) "
      ],
      "metadata": {
        "colab": {
          "base_uri": "https://localhost:8080/"
        },
        "id": "NBx_udz5_58P",
        "outputId": "9bc916be-404b-4eeb-cdba-2a87daf8d8d2"
      },
      "execution_count": null,
      "outputs": [
        {
          "output_type": "stream",
          "name": "stdout",
          "text": [
            "Input array :  [2, 8, 15]\n",
            "Number of bit shift :  [3, 4, 5]\n",
            "Output array after left shifting:  [ 16 128 480]\n"
          ]
        }
      ]
    },
    {
      "cell_type": "code",
      "source": [
        "in_num = 10\n",
        " \n",
        "print (\"Input  number : \", in_num)\n",
        " \n",
        "out_num = geek.binary_repr(in_num) \n",
        "print (\"binary representation of 10 : \", out_num) "
      ],
      "metadata": {
        "colab": {
          "base_uri": "https://localhost:8080/"
        },
        "id": "JNTCsdObFJlD",
        "outputId": "0bc0fad1-9c36-4211-c2b1-78700016449e"
      },
      "execution_count": null,
      "outputs": [
        {
          "output_type": "stream",
          "name": "stdout",
          "text": [
            "Input  number :  10\n",
            "binary representation of 10 :  1010\n"
          ]
        }
      ]
    },
    {
      "cell_type": "code",
      "source": [
        "in_arr = [5, -8 ]\n",
        "  \n",
        "print (\"Input array : \", in_arr) \n",
        " \n",
        "\n",
        "out_num = geek.binary_repr(in_arr[0])\n",
        "print(\"Binary representation of 5\")\n",
        "print (\"Without using width parameter : \", out_num) \n",
        " \n",
        "\n",
        "out_num = geek.binary_repr(in_arr[0], width = 5)\n",
        "print (\"Using width parameter: \", out_num) \n",
        " \n",
        "print(\"\\nBinary representation of -8\")\n",
        " \n",
        "\n",
        "out_num = geek.binary_repr(in_arr[1])\n",
        "print (\"Without using width parameter : \", out_num) \n",
        " \n",
        "\n",
        "out_num = geek.binary_repr(in_arr[1], width = 5)\n",
        "print (\"Using width parameter : \", out_num) \n"
      ],
      "metadata": {
        "colab": {
          "base_uri": "https://localhost:8080/"
        },
        "id": "L9MMVLKPFPcV",
        "outputId": "e98200b5-8dd4-4657-d6d2-ae71f9ef56ff"
      },
      "execution_count": null,
      "outputs": [
        {
          "output_type": "stream",
          "name": "stdout",
          "text": [
            "Input array :  [5, -8]\n",
            "Binary representation of 5\n",
            "Without using width parameter :  101\n",
            "Using width parameter:  00101\n",
            "\n",
            "Binary representation of -8\n",
            "Without using width parameter :  -1000\n",
            "Using width parameter :  11000\n"
          ]
        }
      ]
    },
    {
      "cell_type": "code",
      "source": [
        "a = np.array([[[1,0,1],\n",
        "             [0,1,0]],\n",
        "             [[1,1,0],\n",
        "             [0,0,1]]])\n",
        " \n",
        "# packing elements of an array\n",
        "# using packbits() function\n",
        "b = np.packbits(a, axis=-1)\n",
        " \n",
        "print(b)"
      ],
      "metadata": {
        "colab": {
          "base_uri": "https://localhost:8080/"
        },
        "id": "hHdfTTi_FdIf",
        "outputId": "0a20c8d4-e65c-4b64-9291-74d38f587e11"
      },
      "execution_count": null,
      "outputs": [
        {
          "output_type": "stream",
          "name": "stdout",
          "text": [
            "[[[160]\n",
            "  [ 64]]\n",
            "\n",
            " [[192]\n",
            "  [ 32]]]\n"
          ]
        }
      ]
    },
    {
      "cell_type": "code",
      "source": [
        "# creating an array using \n",
        "# array function\n",
        "a = np.array([[2], [7], [23]], dtype=np.uint8)\n",
        " \n",
        "# packing elements of an array\n",
        "# using packbits() function\n",
        "b = np.unpackbits(a, axis = 1)\n",
        " \n",
        "print(b)"
      ],
      "metadata": {
        "colab": {
          "base_uri": "https://localhost:8080/"
        },
        "id": "B6HlpKdOFksH",
        "outputId": "dba8f61a-bd97-44ee-fe88-40957cb8fb97"
      },
      "execution_count": null,
      "outputs": [
        {
          "output_type": "stream",
          "name": "stdout",
          "text": [
            "[[0 0 0 0 0 0 1 0]\n",
            " [0 0 0 0 0 1 1 1]\n",
            " [0 0 0 1 0 1 1 1]]\n"
          ]
        }
      ]
    },
    {
      "cell_type": "code",
      "source": [
        "import numpy as np\n",
        "import math\n",
        " \n",
        "in_array = [0, math.pi / 2, np.pi / 3, np.pi]\n",
        "print (\"Input array : \\n\", in_array)\n",
        " \n",
        "Sin_Values = np.sin(in_array)\n",
        "print (\"\\nSine values : \\n\", Sin_Values)"
      ],
      "metadata": {
        "colab": {
          "base_uri": "https://localhost:8080/"
        },
        "id": "eDo-ywImF5Rs",
        "outputId": "e4f65549-3b7e-4895-91a6-9de585594543"
      },
      "execution_count": null,
      "outputs": [
        {
          "output_type": "stream",
          "name": "stdout",
          "text": [
            "Input array : \n",
            " [0, 1.5707963267948966, 1.0471975511965976, 3.141592653589793]\n",
            "\n",
            "Sine values : \n",
            " [0.00000000e+00 1.00000000e+00 8.66025404e-01 1.22464680e-16]\n"
          ]
        }
      ]
    },
    {
      "cell_type": "code",
      "source": [
        "import numpy as np\n",
        "import math\n",
        " \n",
        "in_array = [0, math.pi / 2, np.pi / 3, np.pi]\n",
        "print (\"Input array : \\n\", in_array)\n",
        " \n",
        "cos_Values = np.cos(in_array)\n",
        "print (\"\\nCosine values : \\n\", cos_Values)"
      ],
      "metadata": {
        "colab": {
          "base_uri": "https://localhost:8080/"
        },
        "id": "MOmN9nixpQjq",
        "outputId": "914e3bdf-c767-41cd-8fac-34dcf2e75eb0"
      },
      "execution_count": null,
      "outputs": [
        {
          "output_type": "stream",
          "name": "stdout",
          "text": [
            "Input array : \n",
            " [0, 1.5707963267948966, 1.0471975511965976, 3.141592653589793]\n",
            "\n",
            "Cosine values : \n",
            " [ 1.000000e+00  6.123234e-17  5.000000e-01 -1.000000e+00]\n"
          ]
        }
      ]
    },
    {
      "cell_type": "code",
      "source": [
        "in_array = [0, math.pi / 2, np.pi / 3, np.pi]\n",
        "print (\"Input array : \\n\", in_array)\n",
        " \n",
        "Sinh_Values = np.sinh(in_array)\n",
        "print (\"\\nSine Hyperbolic values : \\n\", Sinh_Values)"
      ],
      "metadata": {
        "colab": {
          "base_uri": "https://localhost:8080/"
        },
        "id": "acuo8WWgpUkk",
        "outputId": "d8f6da3e-20f6-4b77-93c4-fd36d25313aa"
      },
      "execution_count": null,
      "outputs": [
        {
          "output_type": "stream",
          "name": "stdout",
          "text": [
            "Input array : \n",
            " [0, 1.5707963267948966, 1.0471975511965976, 3.141592653589793]\n",
            "\n",
            "Sine Hyperbolic values : \n",
            " [ 0.          2.3012989   1.24936705 11.54873936]\n"
          ]
        }
      ]
    },
    {
      "cell_type": "code",
      "source": [
        "in_array = [0, math.pi / 2, np.pi / 3, np.pi]\n",
        "print (\"Input array : \\n\", in_array)\n",
        " \n",
        "cosh_Values = np.cosh(in_array)\n",
        "print (\"\\ncosine Hyperbolic values : \\n\", cosh_Values)"
      ],
      "metadata": {
        "colab": {
          "base_uri": "https://localhost:8080/"
        },
        "id": "Q35L3BfkpZQC",
        "outputId": "b3b8555b-994c-4acc-869b-e4793e870208"
      },
      "execution_count": null,
      "outputs": [
        {
          "output_type": "stream",
          "name": "stdout",
          "text": [
            "Input array : \n",
            " [0, 1.5707963267948966, 1.0471975511965976, 3.141592653589793]\n",
            "\n",
            "cosine Hyperbolic values : \n",
            " [ 1.          2.50917848  1.60028686 11.59195328]\n"
          ]
        }
      ]
    },
    {
      "cell_type": "code",
      "source": [
        "import numpy as np\n",
        " \n",
        "in_array = [.5, 1.5, 2.5, 3.5, 4.5, 10.1]\n",
        "print (\"Input array : \\n\", in_array)\n",
        " \n",
        "round_off_values = np.around(in_array)\n",
        "print (\"\\nRounded values : \\n\", round_off_values)\n",
        " \n",
        " \n",
        "in_array = [.53, 1.54, .71]\n",
        "print (\"\\nInput array : \\n\", in_array)\n",
        " \n",
        "round_off_values = np.around(in_array)\n",
        "print (\"\\nRounded values : \\n\", round_off_values)\n",
        " \n",
        "in_array = [.5538, 1.33354, .71445]\n",
        "print (\"\\nInput array : \\n\", in_array)\n",
        " \n",
        "round_off_values = np.around(in_array, decimals = 3)\n",
        "print (\"\\nRounded values : \\n\", round_off_values)"
      ],
      "metadata": {
        "colab": {
          "base_uri": "https://localhost:8080/"
        },
        "id": "nMGbAzprpm8A",
        "outputId": "e9c34fbe-3f25-49fb-d235-b797aa9b6b0b"
      },
      "execution_count": null,
      "outputs": [
        {
          "output_type": "stream",
          "name": "stdout",
          "text": [
            "Input array : \n",
            " [0.5, 1.5, 2.5, 3.5, 4.5, 10.1]\n",
            "\n",
            "Rounded values : \n",
            " [ 0.  2.  2.  4.  4. 10.]\n",
            "\n",
            "Input array : \n",
            " [0.53, 1.54, 0.71]\n",
            "\n",
            "Rounded values : \n",
            " [1. 2. 1.]\n",
            "\n",
            "Input array : \n",
            " [0.5538, 1.33354, 0.71445]\n",
            "\n",
            "Rounded values : \n",
            " [0.554 1.334 0.714]\n"
          ]
        }
      ]
    },
    {
      "cell_type": "code",
      "source": [
        "in_array = [.5, 1.5, 2.5, 3.5, 4.5, 10.1]\n",
        "print (\"Input array : \\n\", in_array)\n",
        " \n",
        "round_off_values = np.round_(in_array)\n",
        "print (\"\\nRounded values : \\n\", round_off_values)\n",
        " \n",
        " \n",
        "in_array = [.53, 1.54, .71]\n",
        "print (\"\\nInput array : \\n\", in_array)\n",
        " \n",
        "round_off_values = np.round_(in_array)\n",
        "print (\"\\nRounded values : \\n\", round_off_values)\n",
        " \n",
        "in_array = [.5538, 1.33354, .71445]\n",
        "print (\"\\nInput array : \\n\", in_array)\n",
        " \n",
        "round_off_values = np.round_(in_array, decimals = 3)\n",
        "print (\"\\nRounded values : \\n\", round_off_values)"
      ],
      "metadata": {
        "colab": {
          "base_uri": "https://localhost:8080/"
        },
        "id": "XMjHYB7FpwRy",
        "outputId": "7e64cadb-31f8-40f5-e4b8-b4ef5bb58d6f"
      },
      "execution_count": null,
      "outputs": [
        {
          "output_type": "stream",
          "name": "stdout",
          "text": [
            "Input array : \n",
            " [0.5, 1.5, 2.5, 3.5, 4.5, 10.1]\n",
            "\n",
            "Rounded values : \n",
            " [ 0.  2.  2.  4.  4. 10.]\n",
            "\n",
            "Input array : \n",
            " [0.53, 1.54, 0.71]\n",
            "\n",
            "Rounded values : \n",
            " [1. 2. 1.]\n",
            "\n",
            "Input array : \n",
            " [0.5538, 1.33354, 0.71445]\n",
            "\n",
            "Rounded values : \n",
            " [0.554 1.334 0.714]\n"
          ]
        }
      ]
    },
    {
      "cell_type": "code",
      "source": [
        "import numpy as np\n",
        " \n",
        "in_array = [1, 3, 5]\n",
        "print (\"Input array : \", in_array)\n",
        " \n",
        "out_array = np.exp(in_array)\n",
        "print (\"Output array : \", out_array)"
      ],
      "metadata": {
        "colab": {
          "base_uri": "https://localhost:8080/"
        },
        "id": "wbZ3MNs2qsHq",
        "outputId": "00bc4d9d-12c7-43c5-88ef-929d0c8d8c4f"
      },
      "execution_count": null,
      "outputs": [
        {
          "output_type": "stream",
          "name": "stdout",
          "text": [
            "Input array :  [1, 3, 5]\n",
            "Output array :  [  2.71828183  20.08553692 148.4131591 ]\n"
          ]
        }
      ]
    },
    {
      "cell_type": "code",
      "source": [
        "in_array = [1, 3, 5, 2**8]\n",
        "print (\"Input array : \", in_array)\n",
        " \n",
        "out_array = np.log(in_array)\n",
        "print (\"Output array : \", out_array)\n",
        " \n",
        " \n",
        "print(\"\\nnp.log(4**4) : \", np.log(4**4))\n",
        "print(\"np.log(2**8) : \", np.log(2**8))"
      ],
      "metadata": {
        "colab": {
          "base_uri": "https://localhost:8080/"
        },
        "id": "Hm9a5VdXqzf1",
        "outputId": "9df394bd-ed1b-443a-821b-4259980a039b"
      },
      "execution_count": null,
      "outputs": [
        {
          "output_type": "stream",
          "name": "stdout",
          "text": [
            "Input array :  [1, 3, 5, 256]\n",
            "Output array :  [0.         1.09861229 1.60943791 5.54517744]\n",
            "\n",
            "np.log(4**4) :  5.545177444479562\n",
            "np.log(2**8) :  5.545177444479562\n"
          ]
        }
      ]
    },
    {
      "cell_type": "code",
      "source": [
        "in_num = 2.0\n",
        "print (\"Input  number : \", in_num)\n",
        " \n",
        "out_num = np.reciprocal(in_num)\n",
        "print (\"Output number : \", out_num)"
      ],
      "metadata": {
        "colab": {
          "base_uri": "https://localhost:8080/"
        },
        "id": "kYPaULEkq2qC",
        "outputId": "a378c3b1-9575-4714-f58c-dd9feeddab4f"
      },
      "execution_count": null,
      "outputs": [
        {
          "output_type": "stream",
          "name": "stdout",
          "text": [
            "Input  number :  2.0\n",
            "Output number :  0.5\n"
          ]
        }
      ]
    },
    {
      "cell_type": "code",
      "source": [
        "# input_array\n",
        "arr1 = [2, 27, 2, 21, 23]\n",
        "arr2 = [2, 3, 4, 5, 6]\n",
        "print (\"arr1         : \", arr1)\n",
        "print (\"arr2         : \", arr2)\n",
        " \n",
        "# output_array\n",
        "out = np.divide(arr1, arr2)\n",
        "print (\"\\nOutput array : \\n\", out)"
      ],
      "metadata": {
        "colab": {
          "base_uri": "https://localhost:8080/"
        },
        "id": "MbnanPo_q5jk",
        "outputId": "8e99f1c4-4bc0-4e81-eef6-12f2bbcbd94e"
      },
      "execution_count": null,
      "outputs": [
        {
          "output_type": "stream",
          "name": "stdout",
          "text": [
            "arr1         :  [2, 27, 2, 21, 23]\n",
            "arr2         :  [2, 3, 4, 5, 6]\n",
            "\n",
            "Output array : \n",
            " [1.         9.         0.5        4.2        3.83333333]\n"
          ]
        }
      ]
    },
    {
      "cell_type": "code",
      "source": [
        "import numpy as geek \n",
        " \n",
        "print(\"Is Real : \", geek.isreal([1+1j, 0j]), \"\\n\")\n",
        " \n",
        "print(\"Is Real : \", geek.isreal([1, 0]), \"\\n\")"
      ],
      "metadata": {
        "colab": {
          "base_uri": "https://localhost:8080/"
        },
        "id": "wky3VHfWq8H5",
        "outputId": "15af100d-cc11-4c43-c9ae-f74c208525e7"
      },
      "execution_count": null,
      "outputs": [
        {
          "output_type": "stream",
          "name": "stdout",
          "text": [
            "Is Real :  [False  True] \n",
            "\n",
            "Is Real :  [ True  True] \n",
            "\n"
          ]
        }
      ]
    },
    {
      "cell_type": "code",
      "source": [
        "import numpy as np\n",
        " \n",
        "in_complx1 = 2+4j\n",
        "out_complx1 = np.conj(in_complx1)\n",
        "print (\"Output conjugated complex number of  2+4j : \", out_complx1)\n",
        " \n",
        "in_complx2 =5-8j\n",
        "out_complx2 = np.conj(in_complx2)\n",
        "print (\"Output conjugated complex number of 5-8j: \", out_complx2)"
      ],
      "metadata": {
        "colab": {
          "base_uri": "https://localhost:8080/"
        },
        "id": "KxoRC0Dtq_fY",
        "outputId": "9cb8afd3-5c2a-410f-c30e-5f49ab8c219e"
      },
      "execution_count": null,
      "outputs": [
        {
          "output_type": "stream",
          "name": "stdout",
          "text": [
            "Output conjugated complex number of  2+4j :  (2-4j)\n",
            "Output conjugated complex number of 5-8j:  (5+8j)\n"
          ]
        }
      ]
    },
    {
      "cell_type": "code",
      "source": [
        "  \n",
        "arr1 = [1, 27000, 64, -1000]\n",
        "print (\"cbrt Value of arr1 : \\n\", np.cbrt(arr1))\n",
        "  \n",
        "arr2 = [1024 ,-128]\n",
        "print (\"\\ncbrt Value of arr2 : \", np.cbrt(arr2))"
      ],
      "metadata": {
        "colab": {
          "base_uri": "https://localhost:8080/"
        },
        "id": "JKfE3weprCVA",
        "outputId": "0e000bea-a865-4b20-fd28-ab9d24bbd233"
      },
      "execution_count": null,
      "outputs": [
        {
          "output_type": "stream",
          "name": "stdout",
          "text": [
            "cbrt Value of arr1 : \n",
            " [  1.  30.   4. -10.]\n",
            "\n",
            "cbrt Value of arr2 :  [10.0793684 -5.0396842]\n"
          ]
        }
      ]
    },
    {
      "cell_type": "code",
      "source": [
        "in_array = [1, 2, 3, 4, 5, 6, 7, 8 ]\n",
        "print (\"Input array : \", in_array)\n",
        " \n",
        "out_array = np.clip(in_array, a_min = 2, a_max = 6)\n",
        "print (\"Output array : \", out_array)"
      ],
      "metadata": {
        "colab": {
          "base_uri": "https://localhost:8080/"
        },
        "id": "NS9Ow3JCrFWA",
        "outputId": "0750199b-d421-4898-cd14-64e0e46e432b"
      },
      "execution_count": null,
      "outputs": [
        {
          "output_type": "stream",
          "name": "stdout",
          "text": [
            "Input array :  [1, 2, 3, 4, 5, 6, 7, 8]\n",
            "Output array :  [2 2 3 4 5 6 6 6]\n"
          ]
        }
      ]
    },
    {
      "cell_type": "code",
      "source": [
        "import numpy as np\n",
        " \n",
        "# converting to lowercase\n",
        "print(np.char.lower(['GEEKS', 'FOR']))\n",
        " \n",
        "# converting to lowercase\n",
        "print(np.char.lower('GEEKS'))"
      ],
      "metadata": {
        "colab": {
          "base_uri": "https://localhost:8080/"
        },
        "id": "rGH7JwU1rND4",
        "outputId": "ae628482-cb6e-4dc0-fe0b-895ff16d5572"
      },
      "execution_count": null,
      "outputs": [
        {
          "output_type": "stream",
          "name": "stdout",
          "text": [
            "['geeks' 'for']\n",
            "geeks\n"
          ]
        }
      ]
    },
    {
      "cell_type": "code",
      "source": [
        "# splitting a string\n",
        "print(np.char.split('geeks for geeks'))\n",
        " \n",
        "# splitting a string\n",
        "print(np.char.split('geeks, for, geeks', sep = ','))"
      ],
      "metadata": {
        "colab": {
          "base_uri": "https://localhost:8080/"
        },
        "id": "NwvAIjtBrQKg",
        "outputId": "386ebf79-cbe4-4f20-d410-7344efb82df7"
      },
      "execution_count": null,
      "outputs": [
        {
          "output_type": "stream",
          "name": "stdout",
          "text": [
            "['geeks', 'for', 'geeks']\n",
            "['geeks', ' for', ' geeks']\n"
          ]
        }
      ]
    },
    {
      "cell_type": "code",
      "source": [
        "import numpy as np\n",
        " \n",
        "# splitting a string\n",
        "print(np.char.join('-', 'geeks'))\n",
        " \n",
        "# splitting a string\n",
        "print(np.char.join(['-', ':'], ['geeks', 'for']))"
      ],
      "metadata": {
        "colab": {
          "base_uri": "https://localhost:8080/"
        },
        "id": "NufJnH6orSrB",
        "outputId": "648baa78-6afb-455e-ad1f-93c12af0fb4e"
      },
      "execution_count": null,
      "outputs": [
        {
          "output_type": "stream",
          "name": "stdout",
          "text": [
            "g-e-e-k-s\n",
            "['g-e-e-k-s' 'f:o:r']\n"
          ]
        }
      ]
    },
    {
      "cell_type": "code",
      "source": [
        "import numpy as np\n",
        " \n",
        "a=np.array(['geeks', 'for', 'geeks'])\n",
        " \n",
        "# counting a substring\n",
        "print(np.char.count(a,'geek'))\n",
        " \n",
        "# counting a substring\n",
        "print(np.char.count(a, 'fo'))"
      ],
      "metadata": {
        "colab": {
          "base_uri": "https://localhost:8080/"
        },
        "id": "Ihg_8hFnrWLx",
        "outputId": "8f961280-2e67-48d0-b285-91b7d47361d3"
      },
      "execution_count": null,
      "outputs": [
        {
          "output_type": "stream",
          "name": "stdout",
          "text": [
            "[1 0 1]\n",
            "[0 1 0]\n"
          ]
        }
      ]
    },
    {
      "cell_type": "code",
      "source": [
        "import numpy as np\n",
        " \n",
        "a=np.array(['geeks', 'for', 'geeks'])\n",
        " \n",
        "# counting a substring\n",
        "print(np.char.rfind(a,'geek'))\n",
        " \n",
        "# counting a substring\n",
        "print(np.char.rfind(a, 'fo'))"
      ],
      "metadata": {
        "colab": {
          "base_uri": "https://localhost:8080/"
        },
        "id": "iFNIZi3DrZLM",
        "outputId": "c23f5ed2-6795-41d8-dc3f-e45961638c85"
      },
      "execution_count": null,
      "outputs": [
        {
          "output_type": "stream",
          "name": "stdout",
          "text": [
            "[ 0 -1  0]\n",
            "[-1  0 -1]\n"
          ]
        }
      ]
    },
    {
      "cell_type": "code",
      "source": [
        "# counting a substring\n",
        "print(np.char.isnumeric('geeks'))\n",
        " \n",
        "# counting a substring\n",
        "print(np.char.isnumeric('12geeks'))"
      ],
      "metadata": {
        "colab": {
          "base_uri": "https://localhost:8080/"
        },
        "id": "Dn5EA1K_rcln",
        "outputId": "9f613b7c-fe34-4dcf-892c-51fa43743cc2"
      },
      "execution_count": null,
      "outputs": [
        {
          "output_type": "stream",
          "name": "stdout",
          "text": [
            "False\n",
            "False\n"
          ]
        }
      ]
    },
    {
      "cell_type": "code",
      "source": [
        "A = np.array([[6, 1, 1],\n",
        "              [4, -2, 5],\n",
        "              [2, 8, 7]])\n",
        " \n",
        "# Rank of a matrix\n",
        "print(\"Rank of A:\", np.linalg.matrix_rank(A))\n",
        " \n",
        "# Trace of matrix A\n",
        "print(\"\\nTrace of A:\", np.trace(A))\n",
        " \n",
        "# Determinant of a matrix\n",
        "print(\"\\nDeterminant of A:\", np.linalg.det(A))\n",
        " \n",
        "# Inverse of matrix A\n",
        "print(\"\\nInverse of A:\\n\", np.linalg.inv(A))\n",
        " \n",
        "print(\"\\nMatrix A raised to power 3:\\n\",\n",
        "           np.linalg.matrix_power(A, 3))"
      ],
      "metadata": {
        "colab": {
          "base_uri": "https://localhost:8080/"
        },
        "id": "FihnXJHjrpcQ",
        "outputId": "ae44a36c-e6fe-4fd5-91f7-2e05f636b9e8"
      },
      "execution_count": null,
      "outputs": [
        {
          "output_type": "stream",
          "name": "stdout",
          "text": [
            "Rank of A: 3\n",
            "\n",
            "Trace of A: 11\n",
            "\n",
            "Determinant of A: -306.0\n",
            "\n",
            "Inverse of A:\n",
            " [[ 0.17647059 -0.00326797 -0.02287582]\n",
            " [ 0.05882353 -0.13071895  0.08496732]\n",
            " [-0.11764706  0.1503268   0.05228758]]\n",
            "\n",
            "Matrix A raised to power 3:\n",
            " [[336 162 228]\n",
            " [406 162 469]\n",
            " [698 702 905]]\n"
          ]
        }
      ]
    },
    {
      "cell_type": "code",
      "source": [
        "from numpy import linalg as geek\n",
        " \n",
        "# Creating an array using array \n",
        "# function\n",
        "a = np.array([[1, -2j], [2j, 5]])\n",
        " \n",
        "print(\"Array is :\",a)\n",
        " \n",
        "# calculating an eigen value\n",
        "# using eigh() function\n",
        "c, d = geek.eigh(a)\n",
        " \n",
        "print(\"Eigen value is :\", c)\n",
        "print(\"Eigen value is :\", d)"
      ],
      "metadata": {
        "colab": {
          "base_uri": "https://localhost:8080/"
        },
        "id": "MTECJdoartuR",
        "outputId": "79f9174e-ac81-4190-f0fb-298b95a5e25e"
      },
      "execution_count": null,
      "outputs": [
        {
          "output_type": "stream",
          "name": "stdout",
          "text": [
            "Array is : [[ 1.+0.j -0.-2.j]\n",
            " [ 0.+2.j  5.+0.j]]\n",
            "Eigen value is : [0.17157288 5.82842712]\n",
            "Eigen value is : [[-0.92387953+0.j         -0.38268343+0.j        ]\n",
            " [ 0.        +0.38268343j  0.        -0.92387953j]]\n"
          ]
        }
      ]
    },
    {
      "cell_type": "code",
      "source": [
        "from numpy import linalg as geek\n",
        " \n",
        "# Creating an array using diag \n",
        "# function\n",
        "a = np.diag((1, 2, 3))\n",
        " \n",
        "print(\"Array is :\",a)\n",
        " \n",
        "# calculating an eigen value\n",
        "# using eig() function\n",
        "c, d = geek.eig(a)\n",
        " \n",
        "print(\"Eigen value is :\",c)\n",
        "print(\"Eigen value is :\",d)"
      ],
      "metadata": {
        "colab": {
          "base_uri": "https://localhost:8080/"
        },
        "id": "TrHkl9Dmr9t2",
        "outputId": "f6bd0b8a-277b-4fd0-a656-2fdd50736c91"
      },
      "execution_count": null,
      "outputs": [
        {
          "output_type": "stream",
          "name": "stdout",
          "text": [
            "Array is : [[1 0 0]\n",
            " [0 2 0]\n",
            " [0 0 3]]\n",
            "Eigen value is : [1. 2. 3.]\n",
            "Eigen value is : [[1. 0. 0.]\n",
            " [0. 1. 0.]\n",
            " [0. 0. 1.]]\n"
          ]
        }
      ]
    },
    {
      "cell_type": "code",
      "source": [
        "import numpy as geek\n",
        " \n",
        "# Scalars\n",
        "product = geek.dot(5, 4)\n",
        "print(\"Dot Product of scalar values  : \", product)\n",
        " \n",
        "# 1D array\n",
        "vector_a = 2 + 3j\n",
        "vector_b = 4 + 5j\n",
        " \n",
        "product = geek.dot(vector_a, vector_b)\n",
        "print(\"Dot Product  : \", product)\n"
      ],
      "metadata": {
        "colab": {
          "base_uri": "https://localhost:8080/"
        },
        "id": "0rCX1tkssAjf",
        "outputId": "41178add-4d68-48f8-e1ed-eea56b15bd93"
      },
      "execution_count": null,
      "outputs": [
        {
          "output_type": "stream",
          "name": "stdout",
          "text": [
            "Dot Product of scalar values  :  20\n",
            "Dot Product  :  (-7+22j)\n"
          ]
        }
      ]
    },
    {
      "cell_type": "code",
      "source": [
        " \n",
        "# 1D array\n",
        "vector_a = 2 + 3j\n",
        "vector_b = 4 + 5j\n",
        " \n",
        "product = geek.vdot(vector_a, vector_b)\n",
        "print(\"Dot Product  : \", product)"
      ],
      "metadata": {
        "colab": {
          "base_uri": "https://localhost:8080/"
        },
        "id": "nGQNtHwysDKY",
        "outputId": "85be6b7c-ff5a-4c39-a9c6-0c38ce1c8b99"
      },
      "execution_count": null,
      "outputs": [
        {
          "output_type": "stream",
          "name": "stdout",
          "text": [
            "Dot Product  :  (23-2j)\n"
          ]
        }
      ]
    },
    {
      "cell_type": "code",
      "source": [
        "import numpy as np\n",
        " \n",
        "# Creating an array using array\n",
        "# function\n",
        "a = np.array([[1, 2], [3, 4]])\n",
        " \n",
        "# Creating an array using array\n",
        "# function\n",
        "b = np.array([8, 18])\n",
        " \n",
        "print((\"Solution of linear equations:\", \n",
        "      np.linalg.solve(a, b)))"
      ],
      "metadata": {
        "colab": {
          "base_uri": "https://localhost:8080/"
        },
        "id": "moKPhqufsDUL",
        "outputId": "04c316ae-dd29-43ec-aea2-8b5cd4d8b66b"
      },
      "execution_count": null,
      "outputs": [
        {
          "output_type": "stream",
          "name": "stdout",
          "text": [
            "('Solution of linear equations:', array([2., 3.]))\n"
          ]
        }
      ]
    },
    {
      "cell_type": "code",
      "source": [
        "import numpy as np\n",
        "import matplotlib.pyplot as plt\n",
        " \n",
        "# x co-ordinates\n",
        "x = np.arange(0, 9)\n",
        "A = np.array([x, np.ones(9)])\n",
        " \n",
        "# linearly generated sequence\n",
        "y = [19, 20, 20.5, 21.5, 22, 23, 23, 25.5, 24]\n",
        "# obtaining the parameters of regression line\n",
        "w = np.linalg.lstsq(A.T, y)[0] \n",
        " \n",
        "# plotting the line\n",
        "line = w[0]*x + w[1] # regression line\n",
        "plt.plot(x, line, 'r-')\n",
        "plt.plot(x, y, 'o')\n",
        "plt.show()"
      ],
      "metadata": {
        "colab": {
          "base_uri": "https://localhost:8080/",
          "height": 340
        },
        "id": "wLdIsvGPsJse",
        "outputId": "0fd951c9-0377-4f12-997a-3bbaca06fb29"
      },
      "execution_count": null,
      "outputs": [
        {
          "output_type": "stream",
          "name": "stderr",
          "text": [
            "/usr/local/lib/python3.7/dist-packages/ipykernel_launcher.py:11: FutureWarning: `rcond` parameter will change to the default of machine precision times ``max(M, N)`` where M and N are the input matrix dimensions.\n",
            "To use the future default and silence this warning we advise to pass `rcond=None`, to keep using the old, explicitly pass `rcond=-1`.\n",
            "  # This is added back by InteractiveShellApp.init_path()\n"
          ]
        },
        {
          "output_type": "display_data",
          "data": {
            "text/plain": [
              "<Figure size 432x288 with 1 Axes>"
            ],
            "image/png": "[encoded data removed]"
          },
          "metadata": {
            "needs_background": "light"
          }
        }
      ]
    },
    {
      "cell_type": "code",
      "source": [
        "import numpy as np\n",
        " \n",
        "# sort along the first axis\n",
        "a = np.array([[12, 15], [10, 1]])\n",
        "arr1 = np.sort(a, axis = 0)        \n",
        "print (\"Along first axis : \\n\", arr1)        \n",
        " \n",
        " \n",
        "# sort along the last axis\n",
        "a = np.array([[10, 15], [12, 1]])\n",
        "arr2 = np.sort(a, axis = -1)        \n",
        "print (\"\\nAlong first axis : \\n\", arr2)\n",
        " \n",
        " \n",
        "a = np.array([[12, 15], [10, 1]])\n",
        "arr1 = np.sort(a, axis = None)        \n",
        "print (\"\\nAlong none axis : \\n\", arr1)"
      ],
      "metadata": {
        "colab": {
          "base_uri": "https://localhost:8080/"
        },
        "id": "9GU9Q6wqrCKK",
        "outputId": "b9eef6d7-e365-45b4-f3ac-85c68836e61c"
      },
      "execution_count": null,
      "outputs": [
        {
          "output_type": "stream",
          "name": "stdout",
          "text": [
            "Along first axis : \n",
            " [[10  1]\n",
            " [12 15]]\n",
            "\n",
            "Along first axis : \n",
            " [[10 15]\n",
            " [ 1 12]]\n",
            "\n",
            "Along none axis : \n",
            " [ 1 10 12 15]\n"
          ]
        }
      ]
    },
    {
      "cell_type": "code",
      "source": [
        "import numpy as np\n",
        " \n",
        "# Numpy array created\n",
        "a = np.array([9, 3, 1, 7, 4, 3, 6])\n",
        " \n",
        "# unsorted array print\n",
        "print('Original array:\\n', a)\n",
        " \n",
        "# Sort array indices\n",
        "b = np.argsort(a)\n",
        "print('Sorted indices of original array->', b)\n",
        " \n",
        "# To get sorted array using sorted indices\n",
        "# c is temp array created of same len as of b\n",
        "c = np.zeros(len(b), dtype = int)\n",
        "for i in range(0, len(b)):\n",
        "    c[i]= a[b[i]]\n",
        "print('Sorted array->', c)"
      ],
      "metadata": {
        "colab": {
          "base_uri": "https://localhost:8080/"
        },
        "id": "cbB6JPqarS8h",
        "outputId": "33b36dbd-4320-43ed-bd4f-05d765f9ea89"
      },
      "execution_count": null,
      "outputs": [
        {
          "output_type": "stream",
          "name": "stdout",
          "text": [
            "Original array:\n",
            " [9 3 1 7 4 3 6]\n",
            "Sorted indices of original array-> [2 1 5 4 6 3 0]\n",
            "Sorted array-> [1 3 3 4 6 7 9]\n"
          ]
        }
      ]
    },
    {
      "cell_type": "code",
      "source": [
        "import numpy as np\n",
        " \n",
        "# Numpy array created\n",
        "# First column\n",
        "a = np.array([9, 3, 1, 3, 4, 3, 6])\n",
        " \n",
        "# Second column \n",
        "b = np.array([4, 6, 9, 2, 1, 8, 7]) \n",
        "print('column a, column b')\n",
        "for (i, j) in zip(a, b):\n",
        "    print(i, ' ', j)\n",
        " \n",
        "# Sort by a then by b\n",
        "ind = np.lexsort((b, a)) \n",
        "print('Sorted indices->', ind)"
      ],
      "metadata": {
        "colab": {
          "base_uri": "https://localhost:8080/"
        },
        "id": "VqFuhjR5rpdm",
        "outputId": "a78e3ffe-daa0-4b8a-ff9d-b6647350f152"
      },
      "execution_count": null,
      "outputs": [
        {
          "output_type": "stream",
          "name": "stdout",
          "text": [
            "column a, column b\n",
            "9   4\n",
            "3   6\n",
            "1   9\n",
            "3   2\n",
            "4   1\n",
            "3   8\n",
            "6   7\n",
            "Sorted indices-> [2 3 1 5 4 6 0]\n"
          ]
        }
      ]
    },
    {
      "cell_type": "code",
      "source": [
        "import numpy as geek \n",
        " \n",
        "# Working on 2D array\n",
        "array = geek.arange(12).reshape(3, 4)\n",
        "print(\"INPUT ARRAY : \\n\", array)\n",
        " \n",
        "# No axis mentioned, so works on entire array\n",
        "print(\"\\nMax element : \", geek.argmax(array))\n",
        " \n",
        "# returning Indices of the max element\n",
        "# as per the indices\n",
        "print((\"\\nIndices of Max element : \"\n",
        "      , geek.argmax(array, axis=0)))\n",
        "print((\"\\nIndices of Max element : \"\n",
        "      , geek.argmax(array, axis=1)))"
      ],
      "metadata": {
        "colab": {
          "base_uri": "https://localhost:8080/"
        },
        "id": "eofFPjcprt-Y",
        "outputId": "3aad35a0-46db-4e53-a797-69d537249aa1"
      },
      "execution_count": null,
      "outputs": [
        {
          "output_type": "stream",
          "name": "stdout",
          "text": [
            "INPUT ARRAY : \n",
            " [[ 0  1  2  3]\n",
            " [ 4  5  6  7]\n",
            " [ 8  9 10 11]]\n",
            "\n",
            "Max element :  11\n",
            "('\\nIndices of Max element : ', array([2, 2, 2, 2]))\n",
            "('\\nIndices of Max element : ', array([3, 3, 3]))\n"
          ]
        }
      ]
    },
    {
      "cell_type": "code",
      "source": [
        "import numpy as geek \n",
        " \n",
        "# Working on 1D array\n",
        "array = [geek.nan, 4, 2, 3, 1]\n",
        "print(\"INPUT ARRAY 1 : \\n\", array)\n",
        " \n",
        "array2 = geek.array([[geek.nan, 4], [1, 3]])\n",
        " \n",
        "# returning Indices of the max element\n",
        "# as per the indices ingnoring NaN\n",
        "print((\"\\nIndices of max in array1 : \"\n",
        "       , geek.nanargmax(array)))\n",
        " \n",
        "# Working on 2D array\n",
        "print(\"\\nINPUT ARRAY 2 : \\n\", array2)\n",
        "print((\"\\nIndices of max in array2 : \"\n",
        "      , geek.nanargmax(array2)))\n",
        " \n",
        "print((\"\\nIndices at axis 1 of array2 : \"\n",
        "      , geek.nanargmax(array2, axis = 1)))"
      ],
      "metadata": {
        "colab": {
          "base_uri": "https://localhost:8080/"
        },
        "id": "r9JTB7hGrylv",
        "outputId": "d2f6f97b-680d-421c-8065-84def70f6f7a"
      },
      "execution_count": null,
      "outputs": [
        {
          "output_type": "stream",
          "name": "stdout",
          "text": [
            "INPUT ARRAY 1 : \n",
            " [nan, 4, 2, 3, 1]\n",
            "('\\nIndices of max in array1 : ', 1)\n",
            "\n",
            "INPUT ARRAY 2 : \n",
            " [[nan  4.]\n",
            " [ 1.  3.]]\n",
            "('\\nIndices of max in array2 : ', 1)\n",
            "('\\nIndices at axis 1 of array2 : ', array([1, 1]))\n"
          ]
        }
      ]
    },
    {
      "cell_type": "code",
      "source": [
        "import numpy as geek \n",
        " \n",
        "# Working on 1D array\n",
        "array = geek.arange(8)\n",
        "print(\"INPUT ARRAY : \\n\", array)\n",
        " \n",
        " \n",
        "# returning Indices of the min element\n",
        "# as per the indices\n",
        "print(\"\\nIndices of min element : \", geek.argmin(array, axis=0))"
      ],
      "metadata": {
        "colab": {
          "base_uri": "https://localhost:8080/"
        },
        "id": "JEKyfPPDr3sS",
        "outputId": "7a57f7cc-cd99-4a84-87db-f97977590abd"
      },
      "execution_count": null,
      "outputs": [
        {
          "output_type": "stream",
          "name": "stdout",
          "text": [
            "INPUT ARRAY : \n",
            " [0 1 2 3 4 5 6 7]\n",
            "\n",
            "Indices of min element :  0\n"
          ]
        }
      ]
    },
    {
      "cell_type": "code",
      "source": [
        "import numpy as np\n",
        "  \n",
        "# create an array of angles\n",
        "angles = np.array([0, 30, 45, 60, 90, 180]) \n",
        "  \n",
        "# conversion of degree into radians\n",
        "# using deg2rad function\n",
        "radians = np.deg2rad(angles)\n",
        "  \n",
        "# sine of angles\n",
        "print('Sine of angles in the array:')\n",
        "sine_value = np.sin(radians)\n",
        "print(np.sin(radians))\n",
        "  \n",
        "# inverse sine of sine values\n",
        "print('Inverse Sine of sine values:')\n",
        "print(np.rad2deg(np.arcsin(sine_value)))\n",
        "  \n",
        "# hyperbolic sine of angles\n",
        "print('Sine hyperbolic of angles in the array:')\n",
        "sineh_value = np.sinh(radians)\n",
        "print(np.sinh(radians))\n",
        "  \n",
        "# inverse sine hyperbolic \n",
        "print('Inverse Sine hyperbolic:')\n",
        "print(np.sin(sineh_value)) \n",
        "  \n",
        "# hypot function demonstration\n",
        "base = 4\n",
        "height = 3\n",
        "print('hypotenuse of right triangle is:')\n",
        "print(np.hypot(base, height))"
      ],
      "metadata": {
        "colab": {
          "base_uri": "https://localhost:8080/"
        },
        "id": "afeOLvJYCO65",
        "outputId": "86163fc7-d61e-4143-d45e-8c29a00a30c4"
      },
      "execution_count": null,
      "outputs": [
        {
          "output_type": "stream",
          "name": "stdout",
          "text": [
            "Sine of angles in the array:\n",
            "[0.00000000e+00 5.00000000e-01 7.07106781e-01 8.66025404e-01\n",
            " 1.00000000e+00 1.22464680e-16]\n",
            "Inverse Sine of sine values:\n",
            "[0.0000000e+00 3.0000000e+01 4.5000000e+01 6.0000000e+01 9.0000000e+01\n",
            " 7.0167093e-15]\n",
            "Sine hyperbolic of angles in the array:\n",
            "[ 0.          0.54785347  0.86867096  1.24936705  2.3012989  11.54873936]\n",
            "Inverse Sine hyperbolic:\n",
            "[ 0.          0.52085606  0.76347126  0.94878485  0.74483916 -0.85086591]\n",
            "hypotenuse of right triangle is:\n",
            "5.0\n"
          ]
        }
      ]
    },
    {
      "cell_type": "code",
      "source": [
        "import numpy as np\n",
        "  \n",
        "# construct a weight array\n",
        "weight = np.array([50.7, 52.5, 50, 58, 55.63, 73.25, 49.5, 45])\n",
        "  \n",
        "# minimum and maximum \n",
        "print('Minimum and maximum weight of the students: ')\n",
        "print(np.amin(weight), np.amax(weight))\n",
        "  \n",
        "# range of weight i.e. max weight-min weight\n",
        "print('Range of the weight of the students: ')\n",
        "print(np.ptp(weight))\n",
        "  \n",
        "# percentile\n",
        "print('Weight below which 70 % student fall: ')\n",
        "print(np.percentile(weight, 70))\n",
        "   \n",
        "# mean \n",
        "print('Mean weight of the students: ')\n",
        "print(np.mean(weight))\n",
        "  \n",
        "# median \n",
        "print('Median weight of the students: ')\n",
        "print(np.median(weight))\n",
        "  \n",
        "# standard deviation \n",
        "print('Standard deviation of weight of the students: ')\n",
        "print(np.std(weight))\n",
        "  \n",
        "# variance \n",
        "print('Variance of weight of the students: ')\n",
        "print(np.var(weight))\n",
        "  \n",
        "# average \n",
        "print('Average weight of the students: ')\n",
        "print(np.average(weight))"
      ],
      "metadata": {
        "colab": {
          "base_uri": "https://localhost:8080/"
        },
        "id": "KhWT1IaSCVtA",
        "outputId": "f4b442c5-cb50-4c0f-8bd7-11270d821e72"
      },
      "execution_count": null,
      "outputs": [
        {
          "output_type": "stream",
          "name": "stdout",
          "text": [
            "Minimum and maximum weight of the students: \n",
            "45.0 73.25\n",
            "Range of the weight of the students: \n",
            "28.25\n",
            "Weight below which 70 % student fall: \n",
            "55.317\n",
            "Mean weight of the students: \n",
            "54.3225\n",
            "Median weight of the students: \n",
            "51.6\n",
            "Standard deviation of weight of the students: \n",
            "8.052773978574091\n",
            "Variance of weight of the students: \n",
            "64.84716875\n",
            "Average weight of the students: \n",
            "54.3225\n"
          ]
        }
      ]
    },
    {
      "cell_type": "code",
      "source": [
        "import numpy as np\n",
        "  \n",
        "# construct an array of even and odd numbers\n",
        "even = np.array([0, 2, 4, 6, 8, 16, 32])\n",
        "odd = np.array([1, 3, 5, 7, 9, 17, 33])\n",
        "  \n",
        "# bitwise_and\n",
        "print('bitwise_and of two arrays: ')\n",
        "print(np.bitwise_and(even, odd))\n",
        "  \n",
        "# bitwise_or\n",
        "print('bitwise_or of two arrays: ')\n",
        "print(np.bitwise_or(even, odd))\n",
        "  \n",
        "# bitwise_xor\n",
        "print('bitwise_xor of two arrays: ')\n",
        "print(np.bitwise_xor(even, odd))\n",
        "   \n",
        "# invert or not\n",
        "print('inversion of even no. array: ')\n",
        "print(np.invert(even))\n",
        "  \n",
        "# left_shift \n",
        "print('left_shift of even no. array: ')\n",
        "print(np.left_shift(even, 1))\n",
        "  \n",
        "# right_shift \n",
        "print('right_shift of even no. array: ')\n",
        "print(np.right_shift(even, 1))"
      ],
      "metadata": {
        "colab": {
          "base_uri": "https://localhost:8080/"
        },
        "id": "YLRLTdE9Cbu9",
        "outputId": "ce0eb766-b12d-403c-cac5-82302b293022"
      },
      "execution_count": null,
      "outputs": [
        {
          "output_type": "stream",
          "name": "stdout",
          "text": [
            "bitwise_and of two arrays: \n",
            "[ 0  2  4  6  8 16 32]\n",
            "bitwise_or of two arrays: \n",
            "[ 1  3  5  7  9 17 33]\n",
            "bitwise_xor of two arrays: \n",
            "[1 1 1 1 1 1 1]\n",
            "inversion of even no. array: \n",
            "[ -1  -3  -5  -7  -9 -17 -33]\n",
            "left_shift of even no. array: \n",
            "[ 0  4  8 12 16 32 64]\n",
            "right_shift of even no. array: \n",
            "[ 0  1  2  3  4  8 16]\n"
          ]
        }
      ]
    },
    {
      "cell_type": "code",
      "source": [
        "import pandas as pd\n",
        " \n",
        "# Define a dictionary containing employee data\n",
        "data = {'Name':['Jai', 'Princi', 'Gaurav', 'Anuj'],\n",
        "        'Age':[27, 24, 22, 32],\n",
        "        'Address':['Delhi', 'Kanpur', 'Allahabad', 'Kannauj'],\n",
        "        'Qualification':['Msc', 'MA', 'MCA', 'Phd']}\n",
        " \n",
        "# Convert the dictionary into DataFrame \n",
        "df = pd.DataFrame(data)\n",
        " \n",
        "# select two columns\n",
        "print(df[['Name', 'Qualification']])"
      ],
      "metadata": {
        "colab": {
          "base_uri": "https://localhost:8080/"
        },
        "id": "V1Kf8s_SCoIs",
        "outputId": "ff8ed5aa-6407-45df-febb-8fb04d23025d"
      },
      "execution_count": null,
      "outputs": [
        {
          "output_type": "stream",
          "name": "stdout",
          "text": [
            "     Name Qualification\n",
            "0     Jai           Msc\n",
            "1  Princi            MA\n",
            "2  Gaurav           MCA\n",
            "3    Anuj           Phd\n"
          ]
        }
      ]
    },
    {
      "cell_type": "code",
      "source": [
        "import pandas as pd\n",
        " \n",
        "# importing numpy as np\n",
        "import numpy as np\n",
        " \n",
        "# dictionary of lists\n",
        "dict = {'First Score':[100, 90, np.nan, 95],\n",
        "        'Second Score': [30, 45, 56, np.nan],\n",
        "        'Third Score':[np.nan, 40, 80, 98]}\n",
        " \n",
        "# creating a dataframe from list\n",
        "df = pd.DataFrame(dict)\n",
        " \n",
        "# using isnull() function  \n",
        "df.isnull()"
      ],
      "metadata": {
        "id": "mUtvw7M8C02M",
        "outputId": "72d129e6-9106-47a6-acff-2dbcf7ec4030",
        "colab": {
          "base_uri": "https://localhost:8080/",
          "height": 175
        }
      },
      "execution_count": null,
      "outputs": [
        {
          "output_type": "execute_result",
          "data": {
            "text/plain": [
              "   First Score  Second Score  Third Score\n",
              "0        False         False         True\n",
              "1        False         False        False\n",
              "2         True         False        False\n",
              "3        False          True        False"
            ],
            "text/html": [
              "\n",
              "  <div id=\"df-d3c22e55-ec8a-4eb7-a3b9-ed64935eb572\">\n",
              "    <div class=\"colab-df-container\">\n",
              "      <div>\n",
              "<style scoped>\n",
              "    .dataframe tbody tr th:only-of-type {\n",
              "        vertical-align: middle;\n",
              "    }\n",
              "\n",
              "    .dataframe tbody tr th {\n",
              "        vertical-align: top;\n",
              "    }\n",
              "\n",
              "    .dataframe thead th {\n",
              "        text-align: right;\n",
              "    }\n",
              "</style>\n",
              "<table border=\"1\" class=\"dataframe\">\n",
              "  <thead>\n",
              "    <tr style=\"text-align: right;\">\n",
              "      <th></th>\n",
              "      <th>First Score</th>\n",
              "      <th>Second Score</th>\n",
              "      <th>Third Score</th>\n",
              "    </tr>\n",
              "  </thead>\n",
              "  <tbody>\n",
              "    <tr>\n",
              "      <th>0</th>\n",
              "      <td>False</td>\n",
              "      <td>False</td>\n",
              "      <td>True</td>\n",
              "    </tr>\n",
              "    <tr>\n",
              "      <th>1</th>\n",
              "      <td>False</td>\n",
              "      <td>False</td>\n",
              "      <td>False</td>\n",
              "    </tr>\n",
              "    <tr>\n",
              "      <th>2</th>\n",
              "      <td>True</td>\n",
              "      <td>False</td>\n",
              "      <td>False</td>\n",
              "    </tr>\n",
              "    <tr>\n",
              "      <th>3</th>\n",
              "      <td>False</td>\n",
              "      <td>True</td>\n",
              "      <td>False</td>\n",
              "    </tr>\n",
              "  </tbody>\n",
              "</table>\n",
              "</div>\n",
              "      <button class=\"colab-df-convert\" onclick=\"convertToInteractive('df-d3c22e55-ec8a-4eb7-a3b9-ed64935eb572')\"\n",
              "              title=\"Convert this dataframe to an interactive table.\"\n",
              "              style=\"display:none;\">\n",
              "        \n",
              "  <svg xmlns=\"http://www.w3.org/2000/svg\" height=\"24px\"viewBox=\"0 0 24 24\"\n",
              "       width=\"24px\">\n",
              "    <path d=\"M0 0h24v24H0V0z\" fill=\"none\"/>\n",
              "    <path d=\"M18.56 5.44l.94 2.06.94-2.06 2.06-.94-2.06-.94-.94-2.06-.94 2.06-2.06.94zm-11 1L8.5 8.5l.94-2.06 2.06-.94-2.06-.94L8.5 2.5l-.94 2.06-2.06.94zm10 10l.94 2.06.94-2.06 2.06-.94-2.06-.94-.94-2.06-.94 2.06-2.06.94z\"/><path d=\"M17.41 7.96l-1.37-1.37c-.4-.4-.92-.59-1.43-.59-.52 0-1.04.2-1.43.59L10.3 9.45l-7.72 7.72c-.78.78-.78 2.05 0 2.83L4 21.41c.39.39.9.59 1.41.59.51 0 1.02-.2 1.41-.59l7.78-7.78 2.81-2.81c.8-.78.8-2.07 0-2.86zM5.41 20L4 18.59l7.72-7.72 1.47 1.35L5.41 20z\"/>\n",
              "  </svg>\n",
              "      </button>\n",
              "      \n",
              "  <style>\n",
              "    .colab-df-container {\n",
              "      display:flex;\n",
              "      flex-wrap:wrap;\n",
              "      gap: 12px;\n",
              "    }\n",
              "\n",
              "    .colab-df-convert {\n",
              "      background-color: #E8F0FE;\n",
              "      border: none;\n",
              "      border-radius: 50%;\n",
              "      cursor: pointer;\n",
              "      display: none;\n",
              "      fill: #1967D2;\n",
              "      height: 32px;\n",
              "      padding: 0 0 0 0;\n",
              "      width: 32px;\n",
              "    }\n",
              "\n",
              "    .colab-df-convert:hover {\n",
              "      background-color: #E2EBFA;\n",
              "      box-shadow: 0px 1px 2px rgba(60, 64, 67, 0.3), 0px 1px 3px 1px rgba(60, 64, 67, 0.15);\n",
              "      fill: #174EA6;\n",
              "    }\n",
              "\n",
              "    [theme=dark] .colab-df-convert {\n",
              "      background-color: #3B4455;\n",
              "      fill: #D2E3FC;\n",
              "    }\n",
              "\n",
              "    [theme=dark] .colab-df-convert:hover {\n",
              "      background-color: #434B5C;\n",
              "      box-shadow: 0px 1px 3px 1px rgba(0, 0, 0, 0.15);\n",
              "      filter: drop-shadow(0px 1px 2px rgba(0, 0, 0, 0.3));\n",
              "      fill: #FFFFFF;\n",
              "    }\n",
              "  </style>\n",
              "\n",
              "      <script>\n",
              "        const buttonEl =\n",
              "          document.querySelector('#df-d3c22e55-ec8a-4eb7-a3b9-ed64935eb572 button.colab-df-convert');\n",
              "        buttonEl.style.display =\n",
              "          google.colab.kernel.accessAllowed ? 'block' : 'none';\n",
              "\n",
              "        async function convertToInteractive(key) {\n",
              "          const element = document.querySelector('#df-d3c22e55-ec8a-4eb7-a3b9-ed64935eb572');\n",
              "          const dataTable =\n",
              "            await google.colab.kernel.invokeFunction('convertToInteractive',\n",
              "                                                     [key], {});\n",
              "          if (!dataTable) return;\n",
              "\n",
              "          const docLinkHtml = 'Like what you see? Visit the ' +\n",
              "            '<a target=\"_blank\" href=https://colab.research.google.com/notebooks/data_table.ipynb>data table notebook</a>'\n",
              "            + ' to learn more about interactive tables.';\n",
              "          element.innerHTML = '';\n",
              "          dataTable['output_type'] = 'display_data';\n",
              "          await google.colab.output.renderOutput(dataTable, element);\n",
              "          const docLink = document.createElement('div');\n",
              "          docLink.innerHTML = docLinkHtml;\n",
              "          element.appendChild(docLink);\n",
              "        }\n",
              "      </script>\n",
              "    </div>\n",
              "  </div>\n",
              "  "
            ]
          },
          "metadata": {},
          "execution_count": 13
        }
      ]
    },
    {
      "cell_type": "code",
      "source": [
        "# importing pandas as pd\n",
        "import pandas as pd\n",
        " \n",
        "# importing numpy as np\n",
        "import numpy as np\n",
        " \n",
        "# dictionary of lists\n",
        "dict = {'First Score':[100, 90, np.nan, 95],\n",
        "        'Second Score': [30, 45, 56, np.nan],\n",
        "        'Third Score':[np.nan, 40, 80, 98]}\n",
        " \n",
        "# creating a dataframe from dictionary\n",
        "df = pd.DataFrame(dict)\n",
        " \n",
        "# filling missing value using fillna()  \n",
        "df.fillna(0)"
      ],
      "metadata": {
        "colab": {
          "base_uri": "https://localhost:8080/",
          "height": 175
        },
        "id": "0mgONQfTwxq_",
        "outputId": "53a497b6-2e23-4c63-c8f8-689eab72807f"
      },
      "execution_count": null,
      "outputs": [
        {
          "output_type": "execute_result",
          "data": {
            "text/plain": [
              "   First Score  Second Score  Third Score\n",
              "0        100.0          30.0          0.0\n",
              "1         90.0          45.0         40.0\n",
              "2          0.0          56.0         80.0\n",
              "3         95.0           0.0         98.0"
            ],
            "text/html": [
              "\n",
              "  <div id=\"df-95c5bfca-011c-461e-9dcf-04e088926678\">\n",
              "    <div class=\"colab-df-container\">\n",
              "      <div>\n",
              "<style scoped>\n",
              "    .dataframe tbody tr th:only-of-type {\n",
              "        vertical-align: middle;\n",
              "    }\n",
              "\n",
              "    .dataframe tbody tr th {\n",
              "        vertical-align: top;\n",
              "    }\n",
              "\n",
              "    .dataframe thead th {\n",
              "        text-align: right;\n",
              "    }\n",
              "</style>\n",
              "<table border=\"1\" class=\"dataframe\">\n",
              "  <thead>\n",
              "    <tr style=\"text-align: right;\">\n",
              "      <th></th>\n",
              "      <th>First Score</th>\n",
              "      <th>Second Score</th>\n",
              "      <th>Third Score</th>\n",
              "    </tr>\n",
              "  </thead>\n",
              "  <tbody>\n",
              "    <tr>\n",
              "      <th>0</th>\n",
              "      <td>100.0</td>\n",
              "      <td>30.0</td>\n",
              "      <td>0.0</td>\n",
              "    </tr>\n",
              "    <tr>\n",
              "      <th>1</th>\n",
              "      <td>90.0</td>\n",
              "      <td>45.0</td>\n",
              "      <td>40.0</td>\n",
              "    </tr>\n",
              "    <tr>\n",
              "      <th>2</th>\n",
              "      <td>0.0</td>\n",
              "      <td>56.0</td>\n",
              "      <td>80.0</td>\n",
              "    </tr>\n",
              "    <tr>\n",
              "      <th>3</th>\n",
              "      <td>95.0</td>\n",
              "      <td>0.0</td>\n",
              "      <td>98.0</td>\n",
              "    </tr>\n",
              "  </tbody>\n",
              "</table>\n",
              "</div>\n",
              "      <button class=\"colab-df-convert\" onclick=\"convertToInteractive('df-95c5bfca-011c-461e-9dcf-04e088926678')\"\n",
              "              title=\"Convert this dataframe to an interactive table.\"\n",
              "              style=\"display:none;\">\n",
              "        \n",
              "  <svg xmlns=\"http://www.w3.org/2000/svg\" height=\"24px\"viewBox=\"0 0 24 24\"\n",
              "       width=\"24px\">\n",
              "    <path d=\"M0 0h24v24H0V0z\" fill=\"none\"/>\n",
              "    <path d=\"M18.56 5.44l.94 2.06.94-2.06 2.06-.94-2.06-.94-.94-2.06-.94 2.06-2.06.94zm-11 1L8.5 8.5l.94-2.06 2.06-.94-2.06-.94L8.5 2.5l-.94 2.06-2.06.94zm10 10l.94 2.06.94-2.06 2.06-.94-2.06-.94-.94-2.06-.94 2.06-2.06.94z\"/><path d=\"M17.41 7.96l-1.37-1.37c-.4-.4-.92-.59-1.43-.59-.52 0-1.04.2-1.43.59L10.3 9.45l-7.72 7.72c-.78.78-.78 2.05 0 2.83L4 21.41c.39.39.9.59 1.41.59.51 0 1.02-.2 1.41-.59l7.78-7.78 2.81-2.81c.8-.78.8-2.07 0-2.86zM5.41 20L4 18.59l7.72-7.72 1.47 1.35L5.41 20z\"/>\n",
              "  </svg>\n",
              "      </button>\n",
              "      \n",
              "  <style>\n",
              "    .colab-df-container {\n",
              "      display:flex;\n",
              "      flex-wrap:wrap;\n",
              "      gap: 12px;\n",
              "    }\n",
              "\n",
              "    .colab-df-convert {\n",
              "      background-color: #E8F0FE;\n",
              "      border: none;\n",
              "      border-radius: 50%;\n",
              "      cursor: pointer;\n",
              "      display: none;\n",
              "      fill: #1967D2;\n",
              "      height: 32px;\n",
              "      padding: 0 0 0 0;\n",
              "      width: 32px;\n",
              "    }\n",
              "\n",
              "    .colab-df-convert:hover {\n",
              "      background-color: #E2EBFA;\n",
              "      box-shadow: 0px 1px 2px rgba(60, 64, 67, 0.3), 0px 1px 3px 1px rgba(60, 64, 67, 0.15);\n",
              "      fill: #174EA6;\n",
              "    }\n",
              "\n",
              "    [theme=dark] .colab-df-convert {\n",
              "      background-color: #3B4455;\n",
              "      fill: #D2E3FC;\n",
              "    }\n",
              "\n",
              "    [theme=dark] .colab-df-convert:hover {\n",
              "      background-color: #434B5C;\n",
              "      box-shadow: 0px 1px 3px 1px rgba(0, 0, 0, 0.15);\n",
              "      filter: drop-shadow(0px 1px 2px rgba(0, 0, 0, 0.3));\n",
              "      fill: #FFFFFF;\n",
              "    }\n",
              "  </style>\n",
              "\n",
              "      <script>\n",
              "        const buttonEl =\n",
              "          document.querySelector('#df-95c5bfca-011c-461e-9dcf-04e088926678 button.colab-df-convert');\n",
              "        buttonEl.style.display =\n",
              "          google.colab.kernel.accessAllowed ? 'block' : 'none';\n",
              "\n",
              "        async function convertToInteractive(key) {\n",
              "          const element = document.querySelector('#df-95c5bfca-011c-461e-9dcf-04e088926678');\n",
              "          const dataTable =\n",
              "            await google.colab.kernel.invokeFunction('convertToInteractive',\n",
              "                                                     [key], {});\n",
              "          if (!dataTable) return;\n",
              "\n",
              "          const docLinkHtml = 'Like what you see? Visit the ' +\n",
              "            '<a target=\"_blank\" href=https://colab.research.google.com/notebooks/data_table.ipynb>data table notebook</a>'\n",
              "            + ' to learn more about interactive tables.';\n",
              "          element.innerHTML = '';\n",
              "          dataTable['output_type'] = 'display_data';\n",
              "          await google.colab.output.renderOutput(dataTable, element);\n",
              "          const docLink = document.createElement('div');\n",
              "          docLink.innerHTML = docLinkHtml;\n",
              "          element.appendChild(docLink);\n",
              "        }\n",
              "      </script>\n",
              "    </div>\n",
              "  </div>\n",
              "  "
            ]
          },
          "metadata": {},
          "execution_count": 1
        }
      ]
    },
    {
      "cell_type": "code",
      "source": [
        "import pandas as pd\n",
        " \n",
        "# importing numpy as np\n",
        "import numpy as np\n",
        " \n",
        "# dictionary of lists\n",
        "dict = {'First Score':[100, 90, np.nan, 95],\n",
        "        'Second Score': [30, np.nan, 45, 56],\n",
        "        'Third Score':[52, 40, 80, 98],\n",
        "        'Fourth Score':[np.nan, np.nan, np.nan, 65]}\n",
        " \n",
        "# creating a dataframe from dictionary\n",
        "df = pd.DataFrame(dict)\n",
        "   \n",
        "df"
      ],
      "metadata": {
        "colab": {
          "base_uri": "https://localhost:8080/",
          "height": 175
        },
        "id": "74OsrRd1w37w",
        "outputId": "309cfa70-0700-48a6-debb-cc856ff0d07f"
      },
      "execution_count": null,
      "outputs": [
        {
          "output_type": "execute_result",
          "data": {
            "text/plain": [
              "   First Score  Second Score  Third Score  Fourth Score\n",
              "0        100.0          30.0           52           NaN\n",
              "1         90.0           NaN           40           NaN\n",
              "2          NaN          45.0           80           NaN\n",
              "3         95.0          56.0           98          65.0"
            ],
            "text/html": [
              "\n",
              "  <div id=\"df-7a55a8a6-5b48-4c4b-920f-13e1b860b820\">\n",
              "    <div class=\"colab-df-container\">\n",
              "      <div>\n",
              "<style scoped>\n",
              "    .dataframe tbody tr th:only-of-type {\n",
              "        vertical-align: middle;\n",
              "    }\n",
              "\n",
              "    .dataframe tbody tr th {\n",
              "        vertical-align: top;\n",
              "    }\n",
              "\n",
              "    .dataframe thead th {\n",
              "        text-align: right;\n",
              "    }\n",
              "</style>\n",
              "<table border=\"1\" class=\"dataframe\">\n",
              "  <thead>\n",
              "    <tr style=\"text-align: right;\">\n",
              "      <th></th>\n",
              "      <th>First Score</th>\n",
              "      <th>Second Score</th>\n",
              "      <th>Third Score</th>\n",
              "      <th>Fourth Score</th>\n",
              "    </tr>\n",
              "  </thead>\n",
              "  <tbody>\n",
              "    <tr>\n",
              "      <th>0</th>\n",
              "      <td>100.0</td>\n",
              "      <td>30.0</td>\n",
              "      <td>52</td>\n",
              "      <td>NaN</td>\n",
              "    </tr>\n",
              "    <tr>\n",
              "      <th>1</th>\n",
              "      <td>90.0</td>\n",
              "      <td>NaN</td>\n",
              "      <td>40</td>\n",
              "      <td>NaN</td>\n",
              "    </tr>\n",
              "    <tr>\n",
              "      <th>2</th>\n",
              "      <td>NaN</td>\n",
              "      <td>45.0</td>\n",
              "      <td>80</td>\n",
              "      <td>NaN</td>\n",
              "    </tr>\n",
              "    <tr>\n",
              "      <th>3</th>\n",
              "      <td>95.0</td>\n",
              "      <td>56.0</td>\n",
              "      <td>98</td>\n",
              "      <td>65.0</td>\n",
              "    </tr>\n",
              "  </tbody>\n",
              "</table>\n",
              "</div>\n",
              "      <button class=\"colab-df-convert\" onclick=\"convertToInteractive('df-7a55a8a6-5b48-4c4b-920f-13e1b860b820')\"\n",
              "              title=\"Convert this dataframe to an interactive table.\"\n",
              "              style=\"display:none;\">\n",
              "        \n",
              "  <svg xmlns=\"http://www.w3.org/2000/svg\" height=\"24px\"viewBox=\"0 0 24 24\"\n",
              "       width=\"24px\">\n",
              "    <path d=\"M0 0h24v24H0V0z\" fill=\"none\"/>\n",
              "    <path d=\"M18.56 5.44l.94 2.06.94-2.06 2.06-.94-2.06-.94-.94-2.06-.94 2.06-2.06.94zm-11 1L8.5 8.5l.94-2.06 2.06-.94-2.06-.94L8.5 2.5l-.94 2.06-2.06.94zm10 10l.94 2.06.94-2.06 2.06-.94-2.06-.94-.94-2.06-.94 2.06-2.06.94z\"/><path d=\"M17.41 7.96l-1.37-1.37c-.4-.4-.92-.59-1.43-.59-.52 0-1.04.2-1.43.59L10.3 9.45l-7.72 7.72c-.78.78-.78 2.05 0 2.83L4 21.41c.39.39.9.59 1.41.59.51 0 1.02-.2 1.41-.59l7.78-7.78 2.81-2.81c.8-.78.8-2.07 0-2.86zM5.41 20L4 18.59l7.72-7.72 1.47 1.35L5.41 20z\"/>\n",
              "  </svg>\n",
              "      </button>\n",
              "      \n",
              "  <style>\n",
              "    .colab-df-container {\n",
              "      display:flex;\n",
              "      flex-wrap:wrap;\n",
              "      gap: 12px;\n",
              "    }\n",
              "\n",
              "    .colab-df-convert {\n",
              "      background-color: #E8F0FE;\n",
              "      border: none;\n",
              "      border-radius: 50%;\n",
              "      cursor: pointer;\n",
              "      display: none;\n",
              "      fill: #1967D2;\n",
              "      height: 32px;\n",
              "      padding: 0 0 0 0;\n",
              "      width: 32px;\n",
              "    }\n",
              "\n",
              "    .colab-df-convert:hover {\n",
              "      background-color: #E2EBFA;\n",
              "      box-shadow: 0px 1px 2px rgba(60, 64, 67, 0.3), 0px 1px 3px 1px rgba(60, 64, 67, 0.15);\n",
              "      fill: #174EA6;\n",
              "    }\n",
              "\n",
              "    [theme=dark] .colab-df-convert {\n",
              "      background-color: #3B4455;\n",
              "      fill: #D2E3FC;\n",
              "    }\n",
              "\n",
              "    [theme=dark] .colab-df-convert:hover {\n",
              "      background-color: #434B5C;\n",
              "      box-shadow: 0px 1px 3px 1px rgba(0, 0, 0, 0.15);\n",
              "      filter: drop-shadow(0px 1px 2px rgba(0, 0, 0, 0.3));\n",
              "      fill: #FFFFFF;\n",
              "    }\n",
              "  </style>\n",
              "\n",
              "      <script>\n",
              "        const buttonEl =\n",
              "          document.querySelector('#df-7a55a8a6-5b48-4c4b-920f-13e1b860b820 button.colab-df-convert');\n",
              "        buttonEl.style.display =\n",
              "          google.colab.kernel.accessAllowed ? 'block' : 'none';\n",
              "\n",
              "        async function convertToInteractive(key) {\n",
              "          const element = document.querySelector('#df-7a55a8a6-5b48-4c4b-920f-13e1b860b820');\n",
              "          const dataTable =\n",
              "            await google.colab.kernel.invokeFunction('convertToInteractive',\n",
              "                                                     [key], {});\n",
              "          if (!dataTable) return;\n",
              "\n",
              "          const docLinkHtml = 'Like what you see? Visit the ' +\n",
              "            '<a target=\"_blank\" href=https://colab.research.google.com/notebooks/data_table.ipynb>data table notebook</a>'\n",
              "            + ' to learn more about interactive tables.';\n",
              "          element.innerHTML = '';\n",
              "          dataTable['output_type'] = 'display_data';\n",
              "          await google.colab.output.renderOutput(dataTable, element);\n",
              "          const docLink = document.createElement('div');\n",
              "          docLink.innerHTML = docLinkHtml;\n",
              "          element.appendChild(docLink);\n",
              "        }\n",
              "      </script>\n",
              "    </div>\n",
              "  </div>\n",
              "  "
            ]
          },
          "metadata": {},
          "execution_count": 2
        }
      ]
    },
    {
      "cell_type": "code",
      "source": [
        "import pandas as pd\n",
        " \n",
        "# importing numpy as np\n",
        "import numpy as np\n",
        " \n",
        "# dictionary of lists\n",
        "dict = {'First Score':[100, 90, np.nan, 95],\n",
        "        'Second Score': [30, np.nan, 45, 56],\n",
        "        'Third Score':[52, 40, 80, 98],\n",
        "        'Fourth Score':[np.nan, np.nan, np.nan, 65]}\n",
        " \n",
        "# creating a dataframe from dictionary\n",
        "df = pd.DataFrame(dict)\n",
        " \n",
        "# using dropna() function  \n",
        "df.dropna()"
      ],
      "metadata": {
        "colab": {
          "base_uri": "https://localhost:8080/",
          "height": 81
        },
        "id": "GvfWVQVow8w4",
        "outputId": "ec4f6f09-dddf-49d4-9e3a-2ac9bd3f104a"
      },
      "execution_count": null,
      "outputs": [
        {
          "output_type": "execute_result",
          "data": {
            "text/plain": [
              "   First Score  Second Score  Third Score  Fourth Score\n",
              "3         95.0          56.0           98          65.0"
            ],
            "text/html": [
              "\n",
              "  <div id=\"df-947def01-4cfd-4ed7-b4a9-e6e557fdeb1a\">\n",
              "    <div class=\"colab-df-container\">\n",
              "      <div>\n",
              "<style scoped>\n",
              "    .dataframe tbody tr th:only-of-type {\n",
              "        vertical-align: middle;\n",
              "    }\n",
              "\n",
              "    .dataframe tbody tr th {\n",
              "        vertical-align: top;\n",
              "    }\n",
              "\n",
              "    .dataframe thead th {\n",
              "        text-align: right;\n",
              "    }\n",
              "</style>\n",
              "<table border=\"1\" class=\"dataframe\">\n",
              "  <thead>\n",
              "    <tr style=\"text-align: right;\">\n",
              "      <th></th>\n",
              "      <th>First Score</th>\n",
              "      <th>Second Score</th>\n",
              "      <th>Third Score</th>\n",
              "      <th>Fourth Score</th>\n",
              "    </tr>\n",
              "  </thead>\n",
              "  <tbody>\n",
              "    <tr>\n",
              "      <th>3</th>\n",
              "      <td>95.0</td>\n",
              "      <td>56.0</td>\n",
              "      <td>98</td>\n",
              "      <td>65.0</td>\n",
              "    </tr>\n",
              "  </tbody>\n",
              "</table>\n",
              "</div>\n",
              "      <button class=\"colab-df-convert\" onclick=\"convertToInteractive('df-947def01-4cfd-4ed7-b4a9-e6e557fdeb1a')\"\n",
              "              title=\"Convert this dataframe to an interactive table.\"\n",
              "              style=\"display:none;\">\n",
              "        \n",
              "  <svg xmlns=\"http://www.w3.org/2000/svg\" height=\"24px\"viewBox=\"0 0 24 24\"\n",
              "       width=\"24px\">\n",
              "    <path d=\"M0 0h24v24H0V0z\" fill=\"none\"/>\n",
              "    <path d=\"M18.56 5.44l.94 2.06.94-2.06 2.06-.94-2.06-.94-.94-2.06-.94 2.06-2.06.94zm-11 1L8.5 8.5l.94-2.06 2.06-.94-2.06-.94L8.5 2.5l-.94 2.06-2.06.94zm10 10l.94 2.06.94-2.06 2.06-.94-2.06-.94-.94-2.06-.94 2.06-2.06.94z\"/><path d=\"M17.41 7.96l-1.37-1.37c-.4-.4-.92-.59-1.43-.59-.52 0-1.04.2-1.43.59L10.3 9.45l-7.72 7.72c-.78.78-.78 2.05 0 2.83L4 21.41c.39.39.9.59 1.41.59.51 0 1.02-.2 1.41-.59l7.78-7.78 2.81-2.81c.8-.78.8-2.07 0-2.86zM5.41 20L4 18.59l7.72-7.72 1.47 1.35L5.41 20z\"/>\n",
              "  </svg>\n",
              "      </button>\n",
              "      \n",
              "  <style>\n",
              "    .colab-df-container {\n",
              "      display:flex;\n",
              "      flex-wrap:wrap;\n",
              "      gap: 12px;\n",
              "    }\n",
              "\n",
              "    .colab-df-convert {\n",
              "      background-color: #E8F0FE;\n",
              "      border: none;\n",
              "      border-radius: 50%;\n",
              "      cursor: pointer;\n",
              "      display: none;\n",
              "      fill: #1967D2;\n",
              "      height: 32px;\n",
              "      padding: 0 0 0 0;\n",
              "      width: 32px;\n",
              "    }\n",
              "\n",
              "    .colab-df-convert:hover {\n",
              "      background-color: #E2EBFA;\n",
              "      box-shadow: 0px 1px 2px rgba(60, 64, 67, 0.3), 0px 1px 3px 1px rgba(60, 64, 67, 0.15);\n",
              "      fill: #174EA6;\n",
              "    }\n",
              "\n",
              "    [theme=dark] .colab-df-convert {\n",
              "      background-color: #3B4455;\n",
              "      fill: #D2E3FC;\n",
              "    }\n",
              "\n",
              "    [theme=dark] .colab-df-convert:hover {\n",
              "      background-color: #434B5C;\n",
              "      box-shadow: 0px 1px 3px 1px rgba(0, 0, 0, 0.15);\n",
              "      filter: drop-shadow(0px 1px 2px rgba(0, 0, 0, 0.3));\n",
              "      fill: #FFFFFF;\n",
              "    }\n",
              "  </style>\n",
              "\n",
              "      <script>\n",
              "        const buttonEl =\n",
              "          document.querySelector('#df-947def01-4cfd-4ed7-b4a9-e6e557fdeb1a button.colab-df-convert');\n",
              "        buttonEl.style.display =\n",
              "          google.colab.kernel.accessAllowed ? 'block' : 'none';\n",
              "\n",
              "        async function convertToInteractive(key) {\n",
              "          const element = document.querySelector('#df-947def01-4cfd-4ed7-b4a9-e6e557fdeb1a');\n",
              "          const dataTable =\n",
              "            await google.colab.kernel.invokeFunction('convertToInteractive',\n",
              "                                                     [key], {});\n",
              "          if (!dataTable) return;\n",
              "\n",
              "          const docLinkHtml = 'Like what you see? Visit the ' +\n",
              "            '<a target=\"_blank\" href=https://colab.research.google.com/notebooks/data_table.ipynb>data table notebook</a>'\n",
              "            + ' to learn more about interactive tables.';\n",
              "          element.innerHTML = '';\n",
              "          dataTable['output_type'] = 'display_data';\n",
              "          await google.colab.output.renderOutput(dataTable, element);\n",
              "          const docLink = document.createElement('div');\n",
              "          docLink.innerHTML = docLinkHtml;\n",
              "          element.appendChild(docLink);\n",
              "        }\n",
              "      </script>\n",
              "    </div>\n",
              "  </div>\n",
              "  "
            ]
          },
          "metadata": {},
          "execution_count": 3
        }
      ]
    },
    {
      "cell_type": "code",
      "source": [
        "# importing pandas as pd\n",
        "import pandas as pd\n",
        "  \n",
        "# dictionary of lists\n",
        "dict = {'name':[\"aparna\", \"pankaj\", \"sudhir\", \"Geeku\"],\n",
        "        'degree': [\"MBA\", \"BCA\", \"M.Tech\", \"MBA\"],\n",
        "        'score':[90, 40, 80, 98]}\n",
        " \n",
        "# creating a dataframe from a dictionary \n",
        "df = pd.DataFrame(dict)\n",
        " \n",
        "print(df)"
      ],
      "metadata": {
        "colab": {
          "base_uri": "https://localhost:8080/"
        },
        "id": "Bwkc0otWxCFd",
        "outputId": "ddedcb03-e28b-4543-8257-9e8c8b052af3"
      },
      "execution_count": null,
      "outputs": [
        {
          "output_type": "stream",
          "name": "stdout",
          "text": [
            "     name  degree  score\n",
            "0  aparna     MBA     90\n",
            "1  pankaj     BCA     40\n",
            "2  sudhir  M.Tech     80\n",
            "3   Geeku     MBA     98\n"
          ]
        }
      ]
    },
    {
      "cell_type": "code",
      "source": [
        "import pandas as pd\n",
        "  \n",
        "# dictionary of lists\n",
        "dict = {'name':[\"aparna\", \"pankaj\", \"sudhir\", \"Geeku\"],\n",
        "        'degree': [\"MBA\", \"BCA\", \"M.Tech\", \"MBA\"],\n",
        "        'score':[90, 40, 80, 98]}\n",
        " \n",
        "# creating a dataframe from a dictionary \n",
        "df = pd.DataFrame(dict)\n",
        " \n",
        "# iterating over rows using iterrows() function \n",
        "for i, j in df.iterrows():\n",
        "    print(i, j)\n",
        "    print()"
      ],
      "metadata": {
        "colab": {
          "base_uri": "https://localhost:8080/"
        },
        "id": "50caEX_ixHyO",
        "outputId": "495a695c-7d96-4ace-d796-7a9f33240a6e"
      },
      "execution_count": null,
      "outputs": [
        {
          "output_type": "stream",
          "name": "stdout",
          "text": [
            "0 name      aparna\n",
            "degree       MBA\n",
            "score         90\n",
            "Name: 0, dtype: object\n",
            "\n",
            "1 name      pankaj\n",
            "degree       BCA\n",
            "score         40\n",
            "Name: 1, dtype: object\n",
            "\n",
            "2 name      sudhir\n",
            "degree    M.Tech\n",
            "score         80\n",
            "Name: 2, dtype: object\n",
            "\n",
            "3 name      Geeku\n",
            "degree      MBA\n",
            "score        98\n",
            "Name: 3, dtype: object\n",
            "\n"
          ]
        }
      ]
    },
    {
      "cell_type": "code",
      "source": [
        "dict = {'name':[\"aparna\", \"pankaj\", \"sudhir\", \"Geeku\"],\n",
        "        'degree': [\"MBA\", \"BCA\", \"M.Tech\", \"MBA\"],\n",
        "        'score':[90, 40, 80, 98]}\n",
        "  \n",
        "# creating a dataframe from a dictionary \n",
        "df = pd.DataFrame(dict)\n",
        " \n",
        "print(df)\n",
        "\n",
        "\n",
        "columns = list(df)\n",
        " \n",
        "for i in columns:\n",
        " \n",
        "    # printing the third element of the column\n",
        "    print (df[i][2])"
      ],
      "metadata": {
        "colab": {
          "base_uri": "https://localhost:8080/"
        },
        "id": "SwQL5QpGxken",
        "outputId": "b796dd3b-a2a2-46e2-943f-64f139c26742"
      },
      "execution_count": null,
      "outputs": [
        {
          "output_type": "stream",
          "name": "stdout",
          "text": [
            "     name  degree  score\n",
            "0  aparna     MBA     90\n",
            "1  pankaj     BCA     40\n",
            "2  sudhir  M.Tech     80\n",
            "3   Geeku     MBA     98\n",
            "sudhir\n",
            "M.Tech\n",
            "80\n"
          ]
        }
      ]
    },
    {
      "cell_type": "code",
      "source": [
        "import pandas as pd\n",
        "\n",
        "data = {'Name':[\"Avinash\",\"Ashish\",\"Arvind\",\"Mohan\",\"Vaishali\"],'Age':[23,45,67,23,55]}\n",
        "\n",
        "# Create DataFrame\n",
        "df = pd.DataFrame(data)\n",
        " \n",
        "# Print the output.\n",
        "print(df)"
      ],
      "metadata": {
        "colab": {
          "base_uri": "https://localhost:8080/"
        },
        "id": "kjCUccP3x8pV",
        "outputId": "6d1eb588-c576-471f-8f49-9a0baefc7c75"
      },
      "execution_count": null,
      "outputs": [
        {
          "output_type": "stream",
          "name": "stdout",
          "text": [
            "       Name  Age\n",
            "0   Avinash   23\n",
            "1    Ashish   45\n",
            "2    Arvind   67\n",
            "3     Mohan   23\n",
            "4  Vaishali   55\n"
          ]
        }
      ]
    },
    {
      "cell_type": "code",
      "source": [
        "# import numpy as np\n",
        "import numpy as np\n",
        " \n",
        "# simple array\n",
        "data = np.array(['g','e','e','k','s'])\n",
        " \n",
        "ser = pd.Series(data)\n",
        "print(ser)"
      ],
      "metadata": {
        "colab": {
          "base_uri": "https://localhost:8080/"
        },
        "id": "RBZXPbMLyqVr",
        "outputId": "ad4d265e-0aa2-493a-9b0a-ae6261890e43"
      },
      "execution_count": null,
      "outputs": [
        {
          "output_type": "stream",
          "name": "stdout",
          "text": [
            "0    g\n",
            "1    e\n",
            "2    e\n",
            "3    k\n",
            "4    s\n",
            "dtype: object\n"
          ]
        }
      ]
    },
    {
      "cell_type": "code",
      "source": [
        "data = np.array(['g','e','e','k','s','f', 'o','r','g','e','e','k','s'])\n",
        "ser = pd.Series(data)\n",
        "  \n",
        "  \n",
        "#retrieve the first element\n",
        "print(ser[:5])"
      ],
      "metadata": {
        "colab": {
          "base_uri": "https://localhost:8080/"
        },
        "id": "RVBhATTGy5A2",
        "outputId": "b9898a91-6cbb-4c3d-aae2-102237c39a02"
      },
      "execution_count": null,
      "outputs": [
        {
          "output_type": "stream",
          "name": "stdout",
          "text": [
            "0    g\n",
            "1    e\n",
            "2    e\n",
            "3    k\n",
            "4    s\n",
            "dtype: object\n"
          ]
        }
      ]
    },
    {
      "cell_type": "code",
      "source": [
        "data = np.array(['g','e','e','k','s','f', 'o','r','g','e','e','k','s'])\n",
        "ser = pd.Series(data,index=[10,11,12,13,14,15,16,17,18,19,20,21,22])\n",
        "  \n",
        "  \n",
        "# accessing a element using index element\n",
        "print(ser[16])"
      ],
      "metadata": {
        "colab": {
          "base_uri": "https://localhost:8080/"
        },
        "id": "TiE4DISdy-6C",
        "outputId": "c4b843a4-8fe4-48f1-cfd6-4e33640e00a8"
      },
      "execution_count": null,
      "outputs": [
        {
          "output_type": "stream",
          "name": "stdout",
          "text": [
            "o\n"
          ]
        }
      ]
    },
    {
      "cell_type": "code",
      "source": [
        "import pandas as pd\n",
        "\n",
        "data =pd.Series([1,2,3,45,5],index =['a','c','b','r','d'])\n",
        "data1 = pd.Series([1, 6, 4, 9], index=['a', 'b', 'd', 'e'])\n",
        "\n",
        "print(data, \"\\n\\n\", data1,'\\n')\n",
        "\n",
        "data.add(data1, fill_value=0)\n",
        "data.sub(data1, fill_value=0)"
      ],
      "metadata": {
        "colab": {
          "base_uri": "https://localhost:8080/"
        },
        "id": "IExYZi4YzO7I",
        "outputId": "41328589-f3d3-48f7-d6c7-915495e2e893"
      },
      "execution_count": null,
      "outputs": [
        {
          "output_type": "stream",
          "name": "stdout",
          "text": [
            "a     1\n",
            "c     2\n",
            "b     3\n",
            "r    45\n",
            "d     5\n",
            "dtype: int64 \n",
            "\n",
            " a    1\n",
            "b    6\n",
            "d    4\n",
            "e    9\n",
            "dtype: int64 \n",
            "\n"
          ]
        },
        {
          "output_type": "execute_result",
          "data": {
            "text/plain": [
              "a     0.0\n",
              "b    -3.0\n",
              "c     2.0\n",
              "d     1.0\n",
              "e    -9.0\n",
              "r    45.0\n",
              "dtype: float64"
            ]
          },
          "metadata": {},
          "execution_count": 21
        }
      ]
    },
    {
      "cell_type": "code",
      "source": [
        "import pandas as pd\n",
        "import numpy as np\n",
        " \n",
        "# series with numpy linspace()\n",
        "ser1 = pd.Series(np.linspace(3, 33, 3))\n",
        "print(ser1)\n",
        " \n",
        "# series with numpy linspace()\n",
        "ser2 = pd.Series(np.linspace(1, 100, 10))\n",
        "print( \"\\n\" , ser2)"
      ],
      "metadata": {
        "colab": {
          "base_uri": "https://localhost:8080/"
        },
        "id": "v0QkTZ4z0c-x",
        "outputId": "2ff21e3e-b4da-468a-be01-75f9fb6ea107"
      },
      "execution_count": null,
      "outputs": [
        {
          "output_type": "stream",
          "name": "stdout",
          "text": [
            "0     3.0\n",
            "1    18.0\n",
            "2    33.0\n",
            "dtype: float64\n",
            "\n",
            " 0      1.0\n",
            "1     12.0\n",
            "2     23.0\n",
            "3     34.0\n",
            "4     45.0\n",
            "5     56.0\n",
            "6     67.0\n",
            "7     78.0\n",
            "8     89.0\n",
            "9    100.0\n",
            "dtype: float64\n"
          ]
        }
      ]
    },
    {
      "cell_type": "code",
      "source": [
        "import pandas as pd\n",
        "ser=pd.Series(range(1,20,3), index=[x for x in 'abcdefg'])\n",
        "print(ser)"
      ],
      "metadata": {
        "colab": {
          "base_uri": "https://localhost:8080/"
        },
        "id": "wbmtN0s60wRI",
        "outputId": "27e17c95-8c66-4a03-c28a-1221a024de7b"
      },
      "execution_count": null,
      "outputs": [
        {
          "output_type": "stream",
          "name": "stdout",
          "text": [
            "a     1\n",
            "b     4\n",
            "c     7\n",
            "d    10\n",
            "e    13\n",
            "f    16\n",
            "g    19\n",
            "dtype: int64\n"
          ]
        }
      ]
    },
    {
      "cell_type": "code",
      "source": [
        "ser=np.arange(10,15)\n",
        "serobj=pd.Series(ser*5,index=ser)\n",
        "print(serobj)"
      ],
      "metadata": {
        "colab": {
          "base_uri": "https://localhost:8080/"
        },
        "id": "J4kmg2ua0_OF",
        "outputId": "f4627766-abd3-4e0c-8f93-35aceb78744b"
      },
      "execution_count": null,
      "outputs": [
        {
          "output_type": "stream",
          "name": "stdout",
          "text": [
            "10    50\n",
            "11    55\n",
            "12    60\n",
            "13    65\n",
            "14    70\n",
            "dtype: int64\n"
          ]
        }
      ]
    },
    {
      "cell_type": "code",
      "source": [
        "import pandas as pd\n",
        "  \n",
        "# dictionary of lists\n",
        "dict = {'name':[\"aparna\", \"pankaj\", \"sudhir\", \"Geeku\"],\n",
        "        'degree': [\"MBA\", \"BCA\", \"M.Tech\", \"MBA\"],\n",
        "        'score':[90, 40, 80, 98]}\n",
        "  \n",
        "df = pd.DataFrame(dict, index = [True, False, True, False])\n",
        "  \n",
        "print(df)"
      ],
      "metadata": {
        "colab": {
          "base_uri": "https://localhost:8080/"
        },
        "id": "cmjzvytVLwu3",
        "outputId": "fcbcdd52-e69e-48f3-b0a4-c1000acc7238"
      },
      "execution_count": null,
      "outputs": [
        {
          "output_type": "stream",
          "name": "stdout",
          "text": [
            "         name  degree  score\n",
            "True   aparna     MBA     90\n",
            "False  pankaj     BCA     40\n",
            "True   sudhir  M.Tech     80\n",
            "False   Geeku     MBA     98\n"
          ]
        }
      ]
    },
    {
      "cell_type": "code",
      "source": [
        "dict = {'name':[\"aparna\", \"pankaj\", \"sudhir\", \"Geeku\"],\n",
        "        'degree': [\"MBA\", \"BCA\", \"M.Tech\", \"MBA\"],\n",
        "        'score':[90, 40, 80, 98]}\n",
        " \n",
        "# creating a dataframe with boolean index\n",
        "df = pd.DataFrame(dict, index = [True, False, True, False])\n",
        " \n",
        "# accessing a dataframe using .loc[] function\n",
        "print(df.loc[True])\n"
      ],
      "metadata": {
        "colab": {
          "base_uri": "https://localhost:8080/"
        },
        "id": "Pm2jFGQ1L2nL",
        "outputId": "327e1535-9174-4077-8a5c-7f7fb6fe6d34"
      },
      "execution_count": null,
      "outputs": [
        {
          "output_type": "stream",
          "name": "stdout",
          "text": [
            "        name  degree  score\n",
            "True  aparna     MBA     90\n",
            "True  sudhir  M.Tech     80\n"
          ]
        }
      ]
    },
    {
      "cell_type": "code",
      "source": [
        "import pandas as pd\n",
        "  \n",
        "# dictionary of lists\n",
        "dict = {'name':[\"aparna\", \"pankaj\", \"sudhir\", \"Geeku\"],\n",
        "        'degree': [\"MBA\", \"BCA\", \"M.Tech\", \"MBA\"],\n",
        "        'score':[90, 40, 80, 98]}\n",
        " \n",
        "# creating a dataframe with boolean index \n",
        "df = pd.DataFrame(dict, index = [True, False, True, False])\n",
        "  \n",
        " \n",
        "# accessing a dataframe using .iloc[] function\n",
        "print(df.iloc[1])"
      ],
      "metadata": {
        "colab": {
          "base_uri": "https://localhost:8080/"
        },
        "id": "NhfXHBGtMQMj",
        "outputId": "dcd1ca23-b884-4d40-ece8-3f01efe1f6c0"
      },
      "execution_count": null,
      "outputs": [
        {
          "output_type": "stream",
          "name": "stdout",
          "text": [
            "name      pankaj\n",
            "degree       BCA\n",
            "score         40\n",
            "dtype: object\n"
          ]
        }
      ]
    },
    {
      "cell_type": "code",
      "source": [
        "import pandas as pd\n",
        "  \n",
        "# Define a dictionary containing employee data\n",
        "data1 = {'Name':['Jai', 'Anuj', 'Jai', 'Princi',\n",
        "                 'Gaurav', 'Anuj', 'Princi', 'Abhi'],\n",
        "        'Age':[27, 24, 22, 32,\n",
        "               33, 36, 27, 32],\n",
        "        'Address':['Nagpur', 'Kanpur', 'Allahabad', 'Kannuaj',\n",
        "                   'Jaunpur', 'Kanpur', 'Allahabad', 'Aligarh'],\n",
        "        'Qualification':['Msc', 'MA', 'MCA', 'Phd',\n",
        "                         'B.Tech', 'B.com', 'Msc', 'MA']}\n",
        "    \n",
        "  \n",
        "# Convert the dictionary into DataFrame \n",
        "df = pd.DataFrame(data1)\n",
        "  \n",
        "print(df)"
      ],
      "metadata": {
        "colab": {
          "base_uri": "https://localhost:8080/"
        },
        "id": "PdiNpMSnNG0j",
        "outputId": "981e1cf3-19bf-4a21-ff05-3092f5ffb566"
      },
      "execution_count": null,
      "outputs": [
        {
          "output_type": "stream",
          "name": "stdout",
          "text": [
            "     Name  Age    Address Qualification\n",
            "0     Jai   27     Nagpur           Msc\n",
            "1    Anuj   24     Kanpur            MA\n",
            "2     Jai   22  Allahabad           MCA\n",
            "3  Princi   32    Kannuaj           Phd\n",
            "4  Gaurav   33    Jaunpur        B.Tech\n",
            "5    Anuj   36     Kanpur         B.com\n",
            "6  Princi   27  Allahabad           Msc\n",
            "7    Abhi   32    Aligarh            MA\n"
          ]
        }
      ]
    },
    {
      "cell_type": "code",
      "source": [
        "df.groupby('Name')\n",
        "print(df.groupby('Name').groups)"
      ],
      "metadata": {
        "colab": {
          "base_uri": "https://localhost:8080/"
        },
        "id": "x3geeKbpNM0c",
        "outputId": "b9a4ac0b-b5d3-44e9-8f47-ac0ed9048edf"
      },
      "execution_count": null,
      "outputs": [
        {
          "output_type": "stream",
          "name": "stdout",
          "text": [
            "{'Abhi': [7], 'Anuj': [1, 5], 'Gaurav': [4], 'Jai': [0, 2], 'Princi': [3, 6]}\n"
          ]
        }
      ]
    },
    {
      "cell_type": "code",
      "source": [
        "gk = df.groupby('Name')\n",
        "gk.first()"
      ],
      "metadata": {
        "colab": {
          "base_uri": "https://localhost:8080/",
          "height": 238
        },
        "id": "Un9bApqrNR-H",
        "outputId": "c37f8c2d-94f3-48c6-8736-f282b5088ef6"
      },
      "execution_count": null,
      "outputs": [
        {
          "output_type": "execute_result",
          "data": {
            "text/plain": [
              "        Age  Address Qualification\n",
              "Name                              \n",
              "Abhi     32  Aligarh            MA\n",
              "Anuj     24   Kanpur            MA\n",
              "Gaurav   33  Jaunpur        B.Tech\n",
              "Jai      27   Nagpur           Msc\n",
              "Princi   32  Kannuaj           Phd"
            ],
            "text/html": [
              "\n",
              "  <div id=\"df-7840bb4d-307b-4441-8fa1-c97ce9eef8f7\">\n",
              "    <div class=\"colab-df-container\">\n",
              "      <div>\n",
              "<style scoped>\n",
              "    .dataframe tbody tr th:only-of-type {\n",
              "        vertical-align: middle;\n",
              "    }\n",
              "\n",
              "    .dataframe tbody tr th {\n",
              "        vertical-align: top;\n",
              "    }\n",
              "\n",
              "    .dataframe thead th {\n",
              "        text-align: right;\n",
              "    }\n",
              "</style>\n",
              "<table border=\"1\" class=\"dataframe\">\n",
              "  <thead>\n",
              "    <tr style=\"text-align: right;\">\n",
              "      <th></th>\n",
              "      <th>Age</th>\n",
              "      <th>Address</th>\n",
              "      <th>Qualification</th>\n",
              "    </tr>\n",
              "    <tr>\n",
              "      <th>Name</th>\n",
              "      <th></th>\n",
              "      <th></th>\n",
              "      <th></th>\n",
              "    </tr>\n",
              "  </thead>\n",
              "  <tbody>\n",
              "    <tr>\n",
              "      <th>Abhi</th>\n",
              "      <td>32</td>\n",
              "      <td>Aligarh</td>\n",
              "      <td>MA</td>\n",
              "    </tr>\n",
              "    <tr>\n",
              "      <th>Anuj</th>\n",
              "      <td>24</td>\n",
              "      <td>Kanpur</td>\n",
              "      <td>MA</td>\n",
              "    </tr>\n",
              "    <tr>\n",
              "      <th>Gaurav</th>\n",
              "      <td>33</td>\n",
              "      <td>Jaunpur</td>\n",
              "      <td>B.Tech</td>\n",
              "    </tr>\n",
              "    <tr>\n",
              "      <th>Jai</th>\n",
              "      <td>27</td>\n",
              "      <td>Nagpur</td>\n",
              "      <td>Msc</td>\n",
              "    </tr>\n",
              "    <tr>\n",
              "      <th>Princi</th>\n",
              "      <td>32</td>\n",
              "      <td>Kannuaj</td>\n",
              "      <td>Phd</td>\n",
              "    </tr>\n",
              "  </tbody>\n",
              "</table>\n",
              "</div>\n",
              "      <button class=\"colab-df-convert\" onclick=\"convertToInteractive('df-7840bb4d-307b-4441-8fa1-c97ce9eef8f7')\"\n",
              "              title=\"Convert this dataframe to an interactive table.\"\n",
              "              style=\"display:none;\">\n",
              "        \n",
              "  <svg xmlns=\"http://www.w3.org/2000/svg\" height=\"24px\"viewBox=\"0 0 24 24\"\n",
              "       width=\"24px\">\n",
              "    <path d=\"M0 0h24v24H0V0z\" fill=\"none\"/>\n",
              "    <path d=\"M18.56 5.44l.94 2.06.94-2.06 2.06-.94-2.06-.94-.94-2.06-.94 2.06-2.06.94zm-11 1L8.5 8.5l.94-2.06 2.06-.94-2.06-.94L8.5 2.5l-.94 2.06-2.06.94zm10 10l.94 2.06.94-2.06 2.06-.94-2.06-.94-.94-2.06-.94 2.06-2.06.94z\"/><path d=\"M17.41 7.96l-1.37-1.37c-.4-.4-.92-.59-1.43-.59-.52 0-1.04.2-1.43.59L10.3 9.45l-7.72 7.72c-.78.78-.78 2.05 0 2.83L4 21.41c.39.39.9.59 1.41.59.51 0 1.02-.2 1.41-.59l7.78-7.78 2.81-2.81c.8-.78.8-2.07 0-2.86zM5.41 20L4 18.59l7.72-7.72 1.47 1.35L5.41 20z\"/>\n",
              "  </svg>\n",
              "      </button>\n",
              "      \n",
              "  <style>\n",
              "    .colab-df-container {\n",
              "      display:flex;\n",
              "      flex-wrap:wrap;\n",
              "      gap: 12px;\n",
              "    }\n",
              "\n",
              "    .colab-df-convert {\n",
              "      background-color: #E8F0FE;\n",
              "      border: none;\n",
              "      border-radius: 50%;\n",
              "      cursor: pointer;\n",
              "      display: none;\n",
              "      fill: #1967D2;\n",
              "      height: 32px;\n",
              "      padding: 0 0 0 0;\n",
              "      width: 32px;\n",
              "    }\n",
              "\n",
              "    .colab-df-convert:hover {\n",
              "      background-color: #E2EBFA;\n",
              "      box-shadow: 0px 1px 2px rgba(60, 64, 67, 0.3), 0px 1px 3px 1px rgba(60, 64, 67, 0.15);\n",
              "      fill: #174EA6;\n",
              "    }\n",
              "\n",
              "    [theme=dark] .colab-df-convert {\n",
              "      background-color: #3B4455;\n",
              "      fill: #D2E3FC;\n",
              "    }\n",
              "\n",
              "    [theme=dark] .colab-df-convert:hover {\n",
              "      background-color: #434B5C;\n",
              "      box-shadow: 0px 1px 3px 1px rgba(0, 0, 0, 0.15);\n",
              "      filter: drop-shadow(0px 1px 2px rgba(0, 0, 0, 0.3));\n",
              "      fill: #FFFFFF;\n",
              "    }\n",
              "  </style>\n",
              "\n",
              "      <script>\n",
              "        const buttonEl =\n",
              "          document.querySelector('#df-7840bb4d-307b-4441-8fa1-c97ce9eef8f7 button.colab-df-convert');\n",
              "        buttonEl.style.display =\n",
              "          google.colab.kernel.accessAllowed ? 'block' : 'none';\n",
              "\n",
              "        async function convertToInteractive(key) {\n",
              "          const element = document.querySelector('#df-7840bb4d-307b-4441-8fa1-c97ce9eef8f7');\n",
              "          const dataTable =\n",
              "            await google.colab.kernel.invokeFunction('convertToInteractive',\n",
              "                                                     [key], {});\n",
              "          if (!dataTable) return;\n",
              "\n",
              "          const docLinkHtml = 'Like what you see? Visit the ' +\n",
              "            '<a target=\"_blank\" href=https://colab.research.google.com/notebooks/data_table.ipynb>data table notebook</a>'\n",
              "            + ' to learn more about interactive tables.';\n",
              "          element.innerHTML = '';\n",
              "          dataTable['output_type'] = 'display_data';\n",
              "          await google.colab.output.renderOutput(dataTable, element);\n",
              "          const docLink = document.createElement('div');\n",
              "          docLink.innerHTML = docLinkHtml;\n",
              "          element.appendChild(docLink);\n",
              "        }\n",
              "      </script>\n",
              "    </div>\n",
              "  </div>\n",
              "  "
            ]
          },
          "metadata": {},
          "execution_count": 11
        }
      ]
    },
    {
      "cell_type": "code",
      "source": [
        "df.groupby(['Name', 'Qualification'])\n",
        " \n",
        "print(df.groupby(['Name', 'Qualification']).groups)"
      ],
      "metadata": {
        "colab": {
          "base_uri": "https://localhost:8080/"
        },
        "id": "MeLJQkYiNhQr",
        "outputId": "6d142f56-cba5-4889-8448-df34aef7fd25"
      },
      "execution_count": null,
      "outputs": [
        {
          "output_type": "stream",
          "name": "stdout",
          "text": [
            "{('Abhi', 'MA'): [7], ('Anuj', 'B.com'): [5], ('Anuj', 'MA'): [1], ('Gaurav', 'B.Tech'): [4], ('Jai', 'MCA'): [2], ('Jai', 'Msc'): [0], ('Princi', 'Msc'): [6], ('Princi', 'Phd'): [3]}\n"
          ]
        }
      ]
    },
    {
      "cell_type": "code",
      "source": [
        "data1 = {'Name':['Jai', 'Anuj', 'Jai', 'Princi',\n",
        "                 'Gaurav', 'Anuj', 'Princi', 'Abhi'],\n",
        "        'Age':[27, 24, 22, 32,\n",
        "               33, 36, 27, 32], }\n",
        "    \n",
        "  \n",
        "# Convert the dictionary into DataFrame \n",
        "df = pd.DataFrame(data1)\n",
        "  \n",
        "print(df)"
      ],
      "metadata": {
        "colab": {
          "base_uri": "https://localhost:8080/"
        },
        "id": "qo94Pm4uNsTi",
        "outputId": "8da10fcb-ea16-4421-80b0-6005e93afaf5"
      },
      "execution_count": null,
      "outputs": [
        {
          "output_type": "stream",
          "name": "stdout",
          "text": [
            "     Name  Age\n",
            "0     Jai   27\n",
            "1    Anuj   24\n",
            "2     Jai   22\n",
            "3  Princi   32\n",
            "4  Gaurav   33\n",
            "5    Anuj   36\n",
            "6  Princi   27\n",
            "7    Abhi   32\n"
          ]
        }
      ]
    },
    {
      "cell_type": "code",
      "source": [
        "df.groupby(['Name']).sum()"
      ],
      "metadata": {
        "colab": {
          "base_uri": "https://localhost:8080/",
          "height": 238
        },
        "id": "6jgDIWsoNvcr",
        "outputId": "a457b9b2-657c-4845-a833-88bb4dfeaac8"
      },
      "execution_count": null,
      "outputs": [
        {
          "output_type": "execute_result",
          "data": {
            "text/plain": [
              "        Age\n",
              "Name       \n",
              "Abhi     32\n",
              "Anuj     60\n",
              "Gaurav   33\n",
              "Jai      49\n",
              "Princi   59"
            ],
            "text/html": [
              "\n",
              "  <div id=\"df-1a27729d-931b-4bc1-8a3a-56c023740484\">\n",
              "    <div class=\"colab-df-container\">\n",
              "      <div>\n",
              "<style scoped>\n",
              "    .dataframe tbody tr th:only-of-type {\n",
              "        vertical-align: middle;\n",
              "    }\n",
              "\n",
              "    .dataframe tbody tr th {\n",
              "        vertical-align: top;\n",
              "    }\n",
              "\n",
              "    .dataframe thead th {\n",
              "        text-align: right;\n",
              "    }\n",
              "</style>\n",
              "<table border=\"1\" class=\"dataframe\">\n",
              "  <thead>\n",
              "    <tr style=\"text-align: right;\">\n",
              "      <th></th>\n",
              "      <th>Age</th>\n",
              "    </tr>\n",
              "    <tr>\n",
              "      <th>Name</th>\n",
              "      <th></th>\n",
              "    </tr>\n",
              "  </thead>\n",
              "  <tbody>\n",
              "    <tr>\n",
              "      <th>Abhi</th>\n",
              "      <td>32</td>\n",
              "    </tr>\n",
              "    <tr>\n",
              "      <th>Anuj</th>\n",
              "      <td>60</td>\n",
              "    </tr>\n",
              "    <tr>\n",
              "      <th>Gaurav</th>\n",
              "      <td>33</td>\n",
              "    </tr>\n",
              "    <tr>\n",
              "      <th>Jai</th>\n",
              "      <td>49</td>\n",
              "    </tr>\n",
              "    <tr>\n",
              "      <th>Princi</th>\n",
              "      <td>59</td>\n",
              "    </tr>\n",
              "  </tbody>\n",
              "</table>\n",
              "</div>\n",
              "      <button class=\"colab-df-convert\" onclick=\"convertToInteractive('df-1a27729d-931b-4bc1-8a3a-56c023740484')\"\n",
              "              title=\"Convert this dataframe to an interactive table.\"\n",
              "              style=\"display:none;\">\n",
              "        \n",
              "  <svg xmlns=\"http://www.w3.org/2000/svg\" height=\"24px\"viewBox=\"0 0 24 24\"\n",
              "       width=\"24px\">\n",
              "    <path d=\"M0 0h24v24H0V0z\" fill=\"none\"/>\n",
              "    <path d=\"M18.56 5.44l.94 2.06.94-2.06 2.06-.94-2.06-.94-.94-2.06-.94 2.06-2.06.94zm-11 1L8.5 8.5l.94-2.06 2.06-.94-2.06-.94L8.5 2.5l-.94 2.06-2.06.94zm10 10l.94 2.06.94-2.06 2.06-.94-2.06-.94-.94-2.06-.94 2.06-2.06.94z\"/><path d=\"M17.41 7.96l-1.37-1.37c-.4-.4-.92-.59-1.43-.59-.52 0-1.04.2-1.43.59L10.3 9.45l-7.72 7.72c-.78.78-.78 2.05 0 2.83L4 21.41c.39.39.9.59 1.41.59.51 0 1.02-.2 1.41-.59l7.78-7.78 2.81-2.81c.8-.78.8-2.07 0-2.86zM5.41 20L4 18.59l7.72-7.72 1.47 1.35L5.41 20z\"/>\n",
              "  </svg>\n",
              "      </button>\n",
              "      \n",
              "  <style>\n",
              "    .colab-df-container {\n",
              "      display:flex;\n",
              "      flex-wrap:wrap;\n",
              "      gap: 12px;\n",
              "    }\n",
              "\n",
              "    .colab-df-convert {\n",
              "      background-color: #E8F0FE;\n",
              "      border: none;\n",
              "      border-radius: 50%;\n",
              "      cursor: pointer;\n",
              "      display: none;\n",
              "      fill: #1967D2;\n",
              "      height: 32px;\n",
              "      padding: 0 0 0 0;\n",
              "      width: 32px;\n",
              "    }\n",
              "\n",
              "    .colab-df-convert:hover {\n",
              "      background-color: #E2EBFA;\n",
              "      box-shadow: 0px 1px 2px rgba(60, 64, 67, 0.3), 0px 1px 3px 1px rgba(60, 64, 67, 0.15);\n",
              "      fill: #174EA6;\n",
              "    }\n",
              "\n",
              "    [theme=dark] .colab-df-convert {\n",
              "      background-color: #3B4455;\n",
              "      fill: #D2E3FC;\n",
              "    }\n",
              "\n",
              "    [theme=dark] .colab-df-convert:hover {\n",
              "      background-color: #434B5C;\n",
              "      box-shadow: 0px 1px 3px 1px rgba(0, 0, 0, 0.15);\n",
              "      filter: drop-shadow(0px 1px 2px rgba(0, 0, 0, 0.3));\n",
              "      fill: #FFFFFF;\n",
              "    }\n",
              "  </style>\n",
              "\n",
              "      <script>\n",
              "        const buttonEl =\n",
              "          document.querySelector('#df-1a27729d-931b-4bc1-8a3a-56c023740484 button.colab-df-convert');\n",
              "        buttonEl.style.display =\n",
              "          google.colab.kernel.accessAllowed ? 'block' : 'none';\n",
              "\n",
              "        async function convertToInteractive(key) {\n",
              "          const element = document.querySelector('#df-1a27729d-931b-4bc1-8a3a-56c023740484');\n",
              "          const dataTable =\n",
              "            await google.colab.kernel.invokeFunction('convertToInteractive',\n",
              "                                                     [key], {});\n",
              "          if (!dataTable) return;\n",
              "\n",
              "          const docLinkHtml = 'Like what you see? Visit the ' +\n",
              "            '<a target=\"_blank\" href=https://colab.research.google.com/notebooks/data_table.ipynb>data table notebook</a>'\n",
              "            + ' to learn more about interactive tables.';\n",
              "          element.innerHTML = '';\n",
              "          dataTable['output_type'] = 'display_data';\n",
              "          await google.colab.output.renderOutput(dataTable, element);\n",
              "          const docLink = document.createElement('div');\n",
              "          docLink.innerHTML = docLinkHtml;\n",
              "          element.appendChild(docLink);\n",
              "        }\n",
              "      </script>\n",
              "    </div>\n",
              "  </div>\n",
              "  "
            ]
          },
          "metadata": {},
          "execution_count": 14
        }
      ]
    },
    {
      "cell_type": "code",
      "source": [
        "df.groupby(['Name'], sort = False).sum()"
      ],
      "metadata": {
        "colab": {
          "base_uri": "https://localhost:8080/",
          "height": 238
        },
        "id": "xLLfUxtUN2zr",
        "outputId": "8a6a04ad-ae33-46c9-da5e-ffd7d661c0ce"
      },
      "execution_count": null,
      "outputs": [
        {
          "output_type": "execute_result",
          "data": {
            "text/plain": [
              "        Age\n",
              "Name       \n",
              "Jai      49\n",
              "Anuj     60\n",
              "Princi   59\n",
              "Gaurav   33\n",
              "Abhi     32"
            ],
            "text/html": [
              "\n",
              "  <div id=\"df-1de7a993-3616-4452-99cc-4b9d7b712876\">\n",
              "    <div class=\"colab-df-container\">\n",
              "      <div>\n",
              "<style scoped>\n",
              "    .dataframe tbody tr th:only-of-type {\n",
              "        vertical-align: middle;\n",
              "    }\n",
              "\n",
              "    .dataframe tbody tr th {\n",
              "        vertical-align: top;\n",
              "    }\n",
              "\n",
              "    .dataframe thead th {\n",
              "        text-align: right;\n",
              "    }\n",
              "</style>\n",
              "<table border=\"1\" class=\"dataframe\">\n",
              "  <thead>\n",
              "    <tr style=\"text-align: right;\">\n",
              "      <th></th>\n",
              "      <th>Age</th>\n",
              "    </tr>\n",
              "    <tr>\n",
              "      <th>Name</th>\n",
              "      <th></th>\n",
              "    </tr>\n",
              "  </thead>\n",
              "  <tbody>\n",
              "    <tr>\n",
              "      <th>Jai</th>\n",
              "      <td>49</td>\n",
              "    </tr>\n",
              "    <tr>\n",
              "      <th>Anuj</th>\n",
              "      <td>60</td>\n",
              "    </tr>\n",
              "    <tr>\n",
              "      <th>Princi</th>\n",
              "      <td>59</td>\n",
              "    </tr>\n",
              "    <tr>\n",
              "      <th>Gaurav</th>\n",
              "      <td>33</td>\n",
              "    </tr>\n",
              "    <tr>\n",
              "      <th>Abhi</th>\n",
              "      <td>32</td>\n",
              "    </tr>\n",
              "  </tbody>\n",
              "</table>\n",
              "</div>\n",
              "      <button class=\"colab-df-convert\" onclick=\"convertToInteractive('df-1de7a993-3616-4452-99cc-4b9d7b712876')\"\n",
              "              title=\"Convert this dataframe to an interactive table.\"\n",
              "              style=\"display:none;\">\n",
              "        \n",
              "  <svg xmlns=\"http://www.w3.org/2000/svg\" height=\"24px\"viewBox=\"0 0 24 24\"\n",
              "       width=\"24px\">\n",
              "    <path d=\"M0 0h24v24H0V0z\" fill=\"none\"/>\n",
              "    <path d=\"M18.56 5.44l.94 2.06.94-2.06 2.06-.94-2.06-.94-.94-2.06-.94 2.06-2.06.94zm-11 1L8.5 8.5l.94-2.06 2.06-.94-2.06-.94L8.5 2.5l-.94 2.06-2.06.94zm10 10l.94 2.06.94-2.06 2.06-.94-2.06-.94-.94-2.06-.94 2.06-2.06.94z\"/><path d=\"M17.41 7.96l-1.37-1.37c-.4-.4-.92-.59-1.43-.59-.52 0-1.04.2-1.43.59L10.3 9.45l-7.72 7.72c-.78.78-.78 2.05 0 2.83L4 21.41c.39.39.9.59 1.41.59.51 0 1.02-.2 1.41-.59l7.78-7.78 2.81-2.81c.8-.78.8-2.07 0-2.86zM5.41 20L4 18.59l7.72-7.72 1.47 1.35L5.41 20z\"/>\n",
              "  </svg>\n",
              "      </button>\n",
              "      \n",
              "  <style>\n",
              "    .colab-df-container {\n",
              "      display:flex;\n",
              "      flex-wrap:wrap;\n",
              "      gap: 12px;\n",
              "    }\n",
              "\n",
              "    .colab-df-convert {\n",
              "      background-color: #E8F0FE;\n",
              "      border: none;\n",
              "      border-radius: 50%;\n",
              "      cursor: pointer;\n",
              "      display: none;\n",
              "      fill: #1967D2;\n",
              "      height: 32px;\n",
              "      padding: 0 0 0 0;\n",
              "      width: 32px;\n",
              "    }\n",
              "\n",
              "    .colab-df-convert:hover {\n",
              "      background-color: #E2EBFA;\n",
              "      box-shadow: 0px 1px 2px rgba(60, 64, 67, 0.3), 0px 1px 3px 1px rgba(60, 64, 67, 0.15);\n",
              "      fill: #174EA6;\n",
              "    }\n",
              "\n",
              "    [theme=dark] .colab-df-convert {\n",
              "      background-color: #3B4455;\n",
              "      fill: #D2E3FC;\n",
              "    }\n",
              "\n",
              "    [theme=dark] .colab-df-convert:hover {\n",
              "      background-color: #434B5C;\n",
              "      box-shadow: 0px 1px 3px 1px rgba(0, 0, 0, 0.15);\n",
              "      filter: drop-shadow(0px 1px 2px rgba(0, 0, 0, 0.3));\n",
              "      fill: #FFFFFF;\n",
              "    }\n",
              "  </style>\n",
              "\n",
              "      <script>\n",
              "        const buttonEl =\n",
              "          document.querySelector('#df-1de7a993-3616-4452-99cc-4b9d7b712876 button.colab-df-convert');\n",
              "        buttonEl.style.display =\n",
              "          google.colab.kernel.accessAllowed ? 'block' : 'none';\n",
              "\n",
              "        async function convertToInteractive(key) {\n",
              "          const element = document.querySelector('#df-1de7a993-3616-4452-99cc-4b9d7b712876');\n",
              "          const dataTable =\n",
              "            await google.colab.kernel.invokeFunction('convertToInteractive',\n",
              "                                                     [key], {});\n",
              "          if (!dataTable) return;\n",
              "\n",
              "          const docLinkHtml = 'Like what you see? Visit the ' +\n",
              "            '<a target=\"_blank\" href=https://colab.research.google.com/notebooks/data_table.ipynb>data table notebook</a>'\n",
              "            + ' to learn more about interactive tables.';\n",
              "          element.innerHTML = '';\n",
              "          dataTable['output_type'] = 'display_data';\n",
              "          await google.colab.output.renderOutput(dataTable, element);\n",
              "          const docLink = document.createElement('div');\n",
              "          docLink.innerHTML = docLinkHtml;\n",
              "          element.appendChild(docLink);\n",
              "        }\n",
              "      </script>\n",
              "    </div>\n",
              "  </div>\n",
              "  "
            ]
          },
          "metadata": {},
          "execution_count": 15
        }
      ]
    },
    {
      "cell_type": "code",
      "source": [
        "grp = df.groupby('Name')\n",
        "for name, group in grp:\n",
        "    print(name)\n",
        "    print(group)\n",
        "    print()"
      ],
      "metadata": {
        "colab": {
          "base_uri": "https://localhost:8080/"
        },
        "id": "O5mgCi8IOEdq",
        "outputId": "1c2ece55-9a91-41d5-f3a8-bf07a227c0df"
      },
      "execution_count": null,
      "outputs": [
        {
          "output_type": "stream",
          "name": "stdout",
          "text": [
            "Abhi\n",
            "   Name  Age\n",
            "7  Abhi   32\n",
            "\n",
            "Anuj\n",
            "   Name  Age\n",
            "1  Anuj   24\n",
            "5  Anuj   36\n",
            "\n",
            "Gaurav\n",
            "     Name  Age\n",
            "4  Gaurav   33\n",
            "\n",
            "Jai\n",
            "  Name  Age\n",
            "0  Jai   27\n",
            "2  Jai   22\n",
            "\n",
            "Princi\n",
            "     Name  Age\n",
            "3  Princi   32\n",
            "6  Princi   27\n",
            "\n"
          ]
        }
      ]
    },
    {
      "cell_type": "code",
      "source": [
        "import pandas as pd\n",
        "  \n",
        "# Define a dictionary containing employee data\n",
        "data1 = {'Name':['Jai', 'Anuj', 'Jai', 'Princi',\n",
        "                 'Gaurav', 'Anuj', 'Princi', 'Abhi'],\n",
        "        'Age':[27, 24, 22, 32,\n",
        "               33, 36, 27, 32],\n",
        "        'Address':['Nagpur', 'Kanpur', 'Allahabad', 'Kannuaj',\n",
        "                   'Jaunpur', 'Kanpur', 'Allahabad', 'Aligarh'],\n",
        "        'Qualification':['Msc', 'MA', 'MCA', 'Phd',\n",
        "                         'B.Tech', 'B.com', 'Msc', 'MA']}\n",
        "    \n",
        "  \n",
        "# Convert the dictionary into DataFrame \n",
        "df = pd.DataFrame(data1)\n",
        "  \n",
        "print(df,'\\n')\n",
        "\n",
        "grp = df.groupby(['Name','Qualification'])\n",
        "for name,Qualification in grp:\n",
        "    print(name)\n",
        "    print(group)\n",
        "    print()"
      ],
      "metadata": {
        "colab": {
          "base_uri": "https://localhost:8080/"
        },
        "id": "tTX3_v1oOQAM",
        "outputId": "2f664c03-2238-4018-afd4-8dd10f9f88a3"
      },
      "execution_count": null,
      "outputs": [
        {
          "output_type": "stream",
          "name": "stdout",
          "text": [
            "     Name  Age    Address Qualification\n",
            "0     Jai   27     Nagpur           Msc\n",
            "1    Anuj   24     Kanpur            MA\n",
            "2     Jai   22  Allahabad           MCA\n",
            "3  Princi   32    Kannuaj           Phd\n",
            "4  Gaurav   33    Jaunpur        B.Tech\n",
            "5    Anuj   36     Kanpur         B.com\n",
            "6  Princi   27  Allahabad           Msc\n",
            "7    Abhi   32    Aligarh            MA \n",
            "\n",
            "('Abhi', 'MA')\n",
            "     Name  Age\n",
            "3  Princi   32\n",
            "6  Princi   27\n",
            "\n",
            "('Anuj', 'B.com')\n",
            "     Name  Age\n",
            "3  Princi   32\n",
            "6  Princi   27\n",
            "\n",
            "('Anuj', 'MA')\n",
            "     Name  Age\n",
            "3  Princi   32\n",
            "6  Princi   27\n",
            "\n",
            "('Gaurav', 'B.Tech')\n",
            "     Name  Age\n",
            "3  Princi   32\n",
            "6  Princi   27\n",
            "\n",
            "('Jai', 'MCA')\n",
            "     Name  Age\n",
            "3  Princi   32\n",
            "6  Princi   27\n",
            "\n",
            "('Jai', 'Msc')\n",
            "     Name  Age\n",
            "3  Princi   32\n",
            "6  Princi   27\n",
            "\n",
            "('Princi', 'Msc')\n",
            "     Name  Age\n",
            "3  Princi   32\n",
            "6  Princi   27\n",
            "\n",
            "('Princi', 'Phd')\n",
            "     Name  Age\n",
            "3  Princi   32\n",
            "6  Princi   27\n",
            "\n"
          ]
        }
      ]
    },
    {
      "cell_type": "code",
      "source": [
        "grp = df.groupby('Name')\n",
        "grp.get_group('Jai')"
      ],
      "metadata": {
        "colab": {
          "base_uri": "https://localhost:8080/",
          "height": 112
        },
        "id": "V6wMsB40Q_XI",
        "outputId": "e613400e-2e71-4296-c76d-e73aacdf4342"
      },
      "execution_count": null,
      "outputs": [
        {
          "output_type": "execute_result",
          "data": {
            "text/plain": [
              "  Name  Age    Address Qualification\n",
              "0  Jai   27     Nagpur           Msc\n",
              "2  Jai   22  Allahabad           MCA"
            ],
            "text/html": [
              "\n",
              "  <div id=\"df-a1ded676-d571-4441-bdcf-c74eb583304b\">\n",
              "    <div class=\"colab-df-container\">\n",
              "      <div>\n",
              "<style scoped>\n",
              "    .dataframe tbody tr th:only-of-type {\n",
              "        vertical-align: middle;\n",
              "    }\n",
              "\n",
              "    .dataframe tbody tr th {\n",
              "        vertical-align: top;\n",
              "    }\n",
              "\n",
              "    .dataframe thead th {\n",
              "        text-align: right;\n",
              "    }\n",
              "</style>\n",
              "<table border=\"1\" class=\"dataframe\">\n",
              "  <thead>\n",
              "    <tr style=\"text-align: right;\">\n",
              "      <th></th>\n",
              "      <th>Name</th>\n",
              "      <th>Age</th>\n",
              "      <th>Address</th>\n",
              "      <th>Qualification</th>\n",
              "    </tr>\n",
              "  </thead>\n",
              "  <tbody>\n",
              "    <tr>\n",
              "      <th>0</th>\n",
              "      <td>Jai</td>\n",
              "      <td>27</td>\n",
              "      <td>Nagpur</td>\n",
              "      <td>Msc</td>\n",
              "    </tr>\n",
              "    <tr>\n",
              "      <th>2</th>\n",
              "      <td>Jai</td>\n",
              "      <td>22</td>\n",
              "      <td>Allahabad</td>\n",
              "      <td>MCA</td>\n",
              "    </tr>\n",
              "  </tbody>\n",
              "</table>\n",
              "</div>\n",
              "      <button class=\"colab-df-convert\" onclick=\"convertToInteractive('df-a1ded676-d571-4441-bdcf-c74eb583304b')\"\n",
              "              title=\"Convert this dataframe to an interactive table.\"\n",
              "              style=\"display:none;\">\n",
              "        \n",
              "  <svg xmlns=\"http://www.w3.org/2000/svg\" height=\"24px\"viewBox=\"0 0 24 24\"\n",
              "       width=\"24px\">\n",
              "    <path d=\"M0 0h24v24H0V0z\" fill=\"none\"/>\n",
              "    <path d=\"M18.56 5.44l.94 2.06.94-2.06 2.06-.94-2.06-.94-.94-2.06-.94 2.06-2.06.94zm-11 1L8.5 8.5l.94-2.06 2.06-.94-2.06-.94L8.5 2.5l-.94 2.06-2.06.94zm10 10l.94 2.06.94-2.06 2.06-.94-2.06-.94-.94-2.06-.94 2.06-2.06.94z\"/><path d=\"M17.41 7.96l-1.37-1.37c-.4-.4-.92-.59-1.43-.59-.52 0-1.04.2-1.43.59L10.3 9.45l-7.72 7.72c-.78.78-.78 2.05 0 2.83L4 21.41c.39.39.9.59 1.41.59.51 0 1.02-.2 1.41-.59l7.78-7.78 2.81-2.81c.8-.78.8-2.07 0-2.86zM5.41 20L4 18.59l7.72-7.72 1.47 1.35L5.41 20z\"/>\n",
              "  </svg>\n",
              "      </button>\n",
              "      \n",
              "  <style>\n",
              "    .colab-df-container {\n",
              "      display:flex;\n",
              "      flex-wrap:wrap;\n",
              "      gap: 12px;\n",
              "    }\n",
              "\n",
              "    .colab-df-convert {\n",
              "      background-color: #E8F0FE;\n",
              "      border: none;\n",
              "      border-radius: 50%;\n",
              "      cursor: pointer;\n",
              "      display: none;\n",
              "      fill: #1967D2;\n",
              "      height: 32px;\n",
              "      padding: 0 0 0 0;\n",
              "      width: 32px;\n",
              "    }\n",
              "\n",
              "    .colab-df-convert:hover {\n",
              "      background-color: #E2EBFA;\n",
              "      box-shadow: 0px 1px 2px rgba(60, 64, 67, 0.3), 0px 1px 3px 1px rgba(60, 64, 67, 0.15);\n",
              "      fill: #174EA6;\n",
              "    }\n",
              "\n",
              "    [theme=dark] .colab-df-convert {\n",
              "      background-color: #3B4455;\n",
              "      fill: #D2E3FC;\n",
              "    }\n",
              "\n",
              "    [theme=dark] .colab-df-convert:hover {\n",
              "      background-color: #434B5C;\n",
              "      box-shadow: 0px 1px 3px 1px rgba(0, 0, 0, 0.15);\n",
              "      filter: drop-shadow(0px 1px 2px rgba(0, 0, 0, 0.3));\n",
              "      fill: #FFFFFF;\n",
              "    }\n",
              "  </style>\n",
              "\n",
              "      <script>\n",
              "        const buttonEl =\n",
              "          document.querySelector('#df-a1ded676-d571-4441-bdcf-c74eb583304b button.colab-df-convert');\n",
              "        buttonEl.style.display =\n",
              "          google.colab.kernel.accessAllowed ? 'block' : 'none';\n",
              "\n",
              "        async function convertToInteractive(key) {\n",
              "          const element = document.querySelector('#df-a1ded676-d571-4441-bdcf-c74eb583304b');\n",
              "          const dataTable =\n",
              "            await google.colab.kernel.invokeFunction('convertToInteractive',\n",
              "                                                     [key], {});\n",
              "          if (!dataTable) return;\n",
              "\n",
              "          const docLinkHtml = 'Like what you see? Visit the ' +\n",
              "            '<a target=\"_blank\" href=https://colab.research.google.com/notebooks/data_table.ipynb>data table notebook</a>'\n",
              "            + ' to learn more about interactive tables.';\n",
              "          element.innerHTML = '';\n",
              "          dataTable['output_type'] = 'display_data';\n",
              "          await google.colab.output.renderOutput(dataTable, element);\n",
              "          const docLink = document.createElement('div');\n",
              "          docLink.innerHTML = docLinkHtml;\n",
              "          element.appendChild(docLink);\n",
              "        }\n",
              "      </script>\n",
              "    </div>\n",
              "  </div>\n",
              "  "
            ]
          },
          "metadata": {},
          "execution_count": 27
        }
      ]
    },
    {
      "cell_type": "code",
      "source": [
        "grp = df.groupby(['Name', 'Qualification'])\n",
        "grp.get_group(('Jai', 'Msc'))"
      ],
      "metadata": {
        "colab": {
          "base_uri": "https://localhost:8080/",
          "height": 81
        },
        "id": "RW7Y484BRDl-",
        "outputId": "058f1e01-2288-47fa-eea9-a1ba6419c7fd"
      },
      "execution_count": null,
      "outputs": [
        {
          "output_type": "execute_result",
          "data": {
            "text/plain": [
              "  Name  Age Address Qualification\n",
              "0  Jai   27  Nagpur           Msc"
            ],
            "text/html": [
              "\n",
              "  <div id=\"df-582c87c6-c5af-4ff5-a698-cfd61b3e0b94\">\n",
              "    <div class=\"colab-df-container\">\n",
              "      <div>\n",
              "<style scoped>\n",
              "    .dataframe tbody tr th:only-of-type {\n",
              "        vertical-align: middle;\n",
              "    }\n",
              "\n",
              "    .dataframe tbody tr th {\n",
              "        vertical-align: top;\n",
              "    }\n",
              "\n",
              "    .dataframe thead th {\n",
              "        text-align: right;\n",
              "    }\n",
              "</style>\n",
              "<table border=\"1\" class=\"dataframe\">\n",
              "  <thead>\n",
              "    <tr style=\"text-align: right;\">\n",
              "      <th></th>\n",
              "      <th>Name</th>\n",
              "      <th>Age</th>\n",
              "      <th>Address</th>\n",
              "      <th>Qualification</th>\n",
              "    </tr>\n",
              "  </thead>\n",
              "  <tbody>\n",
              "    <tr>\n",
              "      <th>0</th>\n",
              "      <td>Jai</td>\n",
              "      <td>27</td>\n",
              "      <td>Nagpur</td>\n",
              "      <td>Msc</td>\n",
              "    </tr>\n",
              "  </tbody>\n",
              "</table>\n",
              "</div>\n",
              "      <button class=\"colab-df-convert\" onclick=\"convertToInteractive('df-582c87c6-c5af-4ff5-a698-cfd61b3e0b94')\"\n",
              "              title=\"Convert this dataframe to an interactive table.\"\n",
              "              style=\"display:none;\">\n",
              "        \n",
              "  <svg xmlns=\"http://www.w3.org/2000/svg\" height=\"24px\"viewBox=\"0 0 24 24\"\n",
              "       width=\"24px\">\n",
              "    <path d=\"M0 0h24v24H0V0z\" fill=\"none\"/>\n",
              "    <path d=\"M18.56 5.44l.94 2.06.94-2.06 2.06-.94-2.06-.94-.94-2.06-.94 2.06-2.06.94zm-11 1L8.5 8.5l.94-2.06 2.06-.94-2.06-.94L8.5 2.5l-.94 2.06-2.06.94zm10 10l.94 2.06.94-2.06 2.06-.94-2.06-.94-.94-2.06-.94 2.06-2.06.94z\"/><path d=\"M17.41 7.96l-1.37-1.37c-.4-.4-.92-.59-1.43-.59-.52 0-1.04.2-1.43.59L10.3 9.45l-7.72 7.72c-.78.78-.78 2.05 0 2.83L4 21.41c.39.39.9.59 1.41.59.51 0 1.02-.2 1.41-.59l7.78-7.78 2.81-2.81c.8-.78.8-2.07 0-2.86zM5.41 20L4 18.59l7.72-7.72 1.47 1.35L5.41 20z\"/>\n",
              "  </svg>\n",
              "      </button>\n",
              "      \n",
              "  <style>\n",
              "    .colab-df-container {\n",
              "      display:flex;\n",
              "      flex-wrap:wrap;\n",
              "      gap: 12px;\n",
              "    }\n",
              "\n",
              "    .colab-df-convert {\n",
              "      background-color: #E8F0FE;\n",
              "      border: none;\n",
              "      border-radius: 50%;\n",
              "      cursor: pointer;\n",
              "      display: none;\n",
              "      fill: #1967D2;\n",
              "      height: 32px;\n",
              "      padding: 0 0 0 0;\n",
              "      width: 32px;\n",
              "    }\n",
              "\n",
              "    .colab-df-convert:hover {\n",
              "      background-color: #E2EBFA;\n",
              "      box-shadow: 0px 1px 2px rgba(60, 64, 67, 0.3), 0px 1px 3px 1px rgba(60, 64, 67, 0.15);\n",
              "      fill: #174EA6;\n",
              "    }\n",
              "\n",
              "    [theme=dark] .colab-df-convert {\n",
              "      background-color: #3B4455;\n",
              "      fill: #D2E3FC;\n",
              "    }\n",
              "\n",
              "    [theme=dark] .colab-df-convert:hover {\n",
              "      background-color: #434B5C;\n",
              "      box-shadow: 0px 1px 3px 1px rgba(0, 0, 0, 0.15);\n",
              "      filter: drop-shadow(0px 1px 2px rgba(0, 0, 0, 0.3));\n",
              "      fill: #FFFFFF;\n",
              "    }\n",
              "  </style>\n",
              "\n",
              "      <script>\n",
              "        const buttonEl =\n",
              "          document.querySelector('#df-582c87c6-c5af-4ff5-a698-cfd61b3e0b94 button.colab-df-convert');\n",
              "        buttonEl.style.display =\n",
              "          google.colab.kernel.accessAllowed ? 'block' : 'none';\n",
              "\n",
              "        async function convertToInteractive(key) {\n",
              "          const element = document.querySelector('#df-582c87c6-c5af-4ff5-a698-cfd61b3e0b94');\n",
              "          const dataTable =\n",
              "            await google.colab.kernel.invokeFunction('convertToInteractive',\n",
              "                                                     [key], {});\n",
              "          if (!dataTable) return;\n",
              "\n",
              "          const docLinkHtml = 'Like what you see? Visit the ' +\n",
              "            '<a target=\"_blank\" href=https://colab.research.google.com/notebooks/data_table.ipynb>data table notebook</a>'\n",
              "            + ' to learn more about interactive tables.';\n",
              "          element.innerHTML = '';\n",
              "          dataTable['output_type'] = 'display_data';\n",
              "          await google.colab.output.renderOutput(dataTable, element);\n",
              "          const docLink = document.createElement('div');\n",
              "          docLink.innerHTML = docLinkHtml;\n",
              "          element.appendChild(docLink);\n",
              "        }\n",
              "      </script>\n",
              "    </div>\n",
              "  </div>\n",
              "  "
            ]
          },
          "metadata": {},
          "execution_count": 28
        }
      ]
    },
    {
      "cell_type": "code",
      "source": [
        "import numpy as np\n",
        "grp1 = df.groupby('Name')\n",
        " \n",
        "grp1.aggregate(np.sum)"
      ],
      "metadata": {
        "colab": {
          "base_uri": "https://localhost:8080/",
          "height": 238
        },
        "id": "GAzsgiPKRMU8",
        "outputId": "3e91b1d6-d9b1-4b01-8351-45c150e7c41f"
      },
      "execution_count": null,
      "outputs": [
        {
          "output_type": "execute_result",
          "data": {
            "text/plain": [
              "        Age\n",
              "Name       \n",
              "Abhi     32\n",
              "Anuj     60\n",
              "Gaurav   33\n",
              "Jai      49\n",
              "Princi   59"
            ],
            "text/html": [
              "\n",
              "  <div id=\"df-a5500f51-2e2a-4bf5-835a-3dde32964371\">\n",
              "    <div class=\"colab-df-container\">\n",
              "      <div>\n",
              "<style scoped>\n",
              "    .dataframe tbody tr th:only-of-type {\n",
              "        vertical-align: middle;\n",
              "    }\n",
              "\n",
              "    .dataframe tbody tr th {\n",
              "        vertical-align: top;\n",
              "    }\n",
              "\n",
              "    .dataframe thead th {\n",
              "        text-align: right;\n",
              "    }\n",
              "</style>\n",
              "<table border=\"1\" class=\"dataframe\">\n",
              "  <thead>\n",
              "    <tr style=\"text-align: right;\">\n",
              "      <th></th>\n",
              "      <th>Age</th>\n",
              "    </tr>\n",
              "    <tr>\n",
              "      <th>Name</th>\n",
              "      <th></th>\n",
              "    </tr>\n",
              "  </thead>\n",
              "  <tbody>\n",
              "    <tr>\n",
              "      <th>Abhi</th>\n",
              "      <td>32</td>\n",
              "    </tr>\n",
              "    <tr>\n",
              "      <th>Anuj</th>\n",
              "      <td>60</td>\n",
              "    </tr>\n",
              "    <tr>\n",
              "      <th>Gaurav</th>\n",
              "      <td>33</td>\n",
              "    </tr>\n",
              "    <tr>\n",
              "      <th>Jai</th>\n",
              "      <td>49</td>\n",
              "    </tr>\n",
              "    <tr>\n",
              "      <th>Princi</th>\n",
              "      <td>59</td>\n",
              "    </tr>\n",
              "  </tbody>\n",
              "</table>\n",
              "</div>\n",
              "      <button class=\"colab-df-convert\" onclick=\"convertToInteractive('df-a5500f51-2e2a-4bf5-835a-3dde32964371')\"\n",
              "              title=\"Convert this dataframe to an interactive table.\"\n",
              "              style=\"display:none;\">\n",
              "        \n",
              "  <svg xmlns=\"http://www.w3.org/2000/svg\" height=\"24px\"viewBox=\"0 0 24 24\"\n",
              "       width=\"24px\">\n",
              "    <path d=\"M0 0h24v24H0V0z\" fill=\"none\"/>\n",
              "    <path d=\"M18.56 5.44l.94 2.06.94-2.06 2.06-.94-2.06-.94-.94-2.06-.94 2.06-2.06.94zm-11 1L8.5 8.5l.94-2.06 2.06-.94-2.06-.94L8.5 2.5l-.94 2.06-2.06.94zm10 10l.94 2.06.94-2.06 2.06-.94-2.06-.94-.94-2.06-.94 2.06-2.06.94z\"/><path d=\"M17.41 7.96l-1.37-1.37c-.4-.4-.92-.59-1.43-.59-.52 0-1.04.2-1.43.59L10.3 9.45l-7.72 7.72c-.78.78-.78 2.05 0 2.83L4 21.41c.39.39.9.59 1.41.59.51 0 1.02-.2 1.41-.59l7.78-7.78 2.81-2.81c.8-.78.8-2.07 0-2.86zM5.41 20L4 18.59l7.72-7.72 1.47 1.35L5.41 20z\"/>\n",
              "  </svg>\n",
              "      </button>\n",
              "      \n",
              "  <style>\n",
              "    .colab-df-container {\n",
              "      display:flex;\n",
              "      flex-wrap:wrap;\n",
              "      gap: 12px;\n",
              "    }\n",
              "\n",
              "    .colab-df-convert {\n",
              "      background-color: #E8F0FE;\n",
              "      border: none;\n",
              "      border-radius: 50%;\n",
              "      cursor: pointer;\n",
              "      display: none;\n",
              "      fill: #1967D2;\n",
              "      height: 32px;\n",
              "      padding: 0 0 0 0;\n",
              "      width: 32px;\n",
              "    }\n",
              "\n",
              "    .colab-df-convert:hover {\n",
              "      background-color: #E2EBFA;\n",
              "      box-shadow: 0px 1px 2px rgba(60, 64, 67, 0.3), 0px 1px 3px 1px rgba(60, 64, 67, 0.15);\n",
              "      fill: #174EA6;\n",
              "    }\n",
              "\n",
              "    [theme=dark] .colab-df-convert {\n",
              "      background-color: #3B4455;\n",
              "      fill: #D2E3FC;\n",
              "    }\n",
              "\n",
              "    [theme=dark] .colab-df-convert:hover {\n",
              "      background-color: #434B5C;\n",
              "      box-shadow: 0px 1px 3px 1px rgba(0, 0, 0, 0.15);\n",
              "      filter: drop-shadow(0px 1px 2px rgba(0, 0, 0, 0.3));\n",
              "      fill: #FFFFFF;\n",
              "    }\n",
              "  </style>\n",
              "\n",
              "      <script>\n",
              "        const buttonEl =\n",
              "          document.querySelector('#df-a5500f51-2e2a-4bf5-835a-3dde32964371 button.colab-df-convert');\n",
              "        buttonEl.style.display =\n",
              "          google.colab.kernel.accessAllowed ? 'block' : 'none';\n",
              "\n",
              "        async function convertToInteractive(key) {\n",
              "          const element = document.querySelector('#df-a5500f51-2e2a-4bf5-835a-3dde32964371');\n",
              "          const dataTable =\n",
              "            await google.colab.kernel.invokeFunction('convertToInteractive',\n",
              "                                                     [key], {});\n",
              "          if (!dataTable) return;\n",
              "\n",
              "          const docLinkHtml = 'Like what you see? Visit the ' +\n",
              "            '<a target=\"_blank\" href=https://colab.research.google.com/notebooks/data_table.ipynb>data table notebook</a>'\n",
              "            + ' to learn more about interactive tables.';\n",
              "          element.innerHTML = '';\n",
              "          dataTable['output_type'] = 'display_data';\n",
              "          await google.colab.output.renderOutput(dataTable, element);\n",
              "          const docLink = document.createElement('div');\n",
              "          docLink.innerHTML = docLinkHtml;\n",
              "          element.appendChild(docLink);\n",
              "        }\n",
              "      </script>\n",
              "    </div>\n",
              "  </div>\n",
              "  "
            ]
          },
          "metadata": {},
          "execution_count": 30
        }
      ]
    },
    {
      "cell_type": "code",
      "source": [
        "grp1 = df.groupby(['Name', 'Qualification'])\n",
        " \n",
        "grp1.aggregate(np.sum)"
      ],
      "metadata": {
        "colab": {
          "base_uri": "https://localhost:8080/",
          "height": 332
        },
        "id": "29StbqNdRTU5",
        "outputId": "16dec2df-c522-4b6a-930e-a6a3ec823af4"
      },
      "execution_count": null,
      "outputs": [
        {
          "output_type": "execute_result",
          "data": {
            "text/plain": [
              "                      Age\n",
              "Name   Qualification     \n",
              "Abhi   MA              32\n",
              "Anuj   B.com           36\n",
              "       MA              24\n",
              "Gaurav B.Tech          33\n",
              "Jai    MCA             22\n",
              "       Msc             27\n",
              "Princi Msc             27\n",
              "       Phd             32"
            ],
            "text/html": [
              "\n",
              "  <div id=\"df-bbc3e9fb-6009-45c8-893a-37afbaace0b7\">\n",
              "    <div class=\"colab-df-container\">\n",
              "      <div>\n",
              "<style scoped>\n",
              "    .dataframe tbody tr th:only-of-type {\n",
              "        vertical-align: middle;\n",
              "    }\n",
              "\n",
              "    .dataframe tbody tr th {\n",
              "        vertical-align: top;\n",
              "    }\n",
              "\n",
              "    .dataframe thead th {\n",
              "        text-align: right;\n",
              "    }\n",
              "</style>\n",
              "<table border=\"1\" class=\"dataframe\">\n",
              "  <thead>\n",
              "    <tr style=\"text-align: right;\">\n",
              "      <th></th>\n",
              "      <th></th>\n",
              "      <th>Age</th>\n",
              "    </tr>\n",
              "    <tr>\n",
              "      <th>Name</th>\n",
              "      <th>Qualification</th>\n",
              "      <th></th>\n",
              "    </tr>\n",
              "  </thead>\n",
              "  <tbody>\n",
              "    <tr>\n",
              "      <th>Abhi</th>\n",
              "      <th>MA</th>\n",
              "      <td>32</td>\n",
              "    </tr>\n",
              "    <tr>\n",
              "      <th rowspan=\"2\" valign=\"top\">Anuj</th>\n",
              "      <th>B.com</th>\n",
              "      <td>36</td>\n",
              "    </tr>\n",
              "    <tr>\n",
              "      <th>MA</th>\n",
              "      <td>24</td>\n",
              "    </tr>\n",
              "    <tr>\n",
              "      <th>Gaurav</th>\n",
              "      <th>B.Tech</th>\n",
              "      <td>33</td>\n",
              "    </tr>\n",
              "    <tr>\n",
              "      <th rowspan=\"2\" valign=\"top\">Jai</th>\n",
              "      <th>MCA</th>\n",
              "      <td>22</td>\n",
              "    </tr>\n",
              "    <tr>\n",
              "      <th>Msc</th>\n",
              "      <td>27</td>\n",
              "    </tr>\n",
              "    <tr>\n",
              "      <th rowspan=\"2\" valign=\"top\">Princi</th>\n",
              "      <th>Msc</th>\n",
              "      <td>27</td>\n",
              "    </tr>\n",
              "    <tr>\n",
              "      <th>Phd</th>\n",
              "      <td>32</td>\n",
              "    </tr>\n",
              "  </tbody>\n",
              "</table>\n",
              "</div>\n",
              "      <button class=\"colab-df-convert\" onclick=\"convertToInteractive('df-bbc3e9fb-6009-45c8-893a-37afbaace0b7')\"\n",
              "              title=\"Convert this dataframe to an interactive table.\"\n",
              "              style=\"display:none;\">\n",
              "        \n",
              "  <svg xmlns=\"http://www.w3.org/2000/svg\" height=\"24px\"viewBox=\"0 0 24 24\"\n",
              "       width=\"24px\">\n",
              "    <path d=\"M0 0h24v24H0V0z\" fill=\"none\"/>\n",
              "    <path d=\"M18.56 5.44l.94 2.06.94-2.06 2.06-.94-2.06-.94-.94-2.06-.94 2.06-2.06.94zm-11 1L8.5 8.5l.94-2.06 2.06-.94-2.06-.94L8.5 2.5l-.94 2.06-2.06.94zm10 10l.94 2.06.94-2.06 2.06-.94-2.06-.94-.94-2.06-.94 2.06-2.06.94z\"/><path d=\"M17.41 7.96l-1.37-1.37c-.4-.4-.92-.59-1.43-.59-.52 0-1.04.2-1.43.59L10.3 9.45l-7.72 7.72c-.78.78-.78 2.05 0 2.83L4 21.41c.39.39.9.59 1.41.59.51 0 1.02-.2 1.41-.59l7.78-7.78 2.81-2.81c.8-.78.8-2.07 0-2.86zM5.41 20L4 18.59l7.72-7.72 1.47 1.35L5.41 20z\"/>\n",
              "  </svg>\n",
              "      </button>\n",
              "      \n",
              "  <style>\n",
              "    .colab-df-container {\n",
              "      display:flex;\n",
              "      flex-wrap:wrap;\n",
              "      gap: 12px;\n",
              "    }\n",
              "\n",
              "    .colab-df-convert {\n",
              "      background-color: #E8F0FE;\n",
              "      border: none;\n",
              "      border-radius: 50%;\n",
              "      cursor: pointer;\n",
              "      display: none;\n",
              "      fill: #1967D2;\n",
              "      height: 32px;\n",
              "      padding: 0 0 0 0;\n",
              "      width: 32px;\n",
              "    }\n",
              "\n",
              "    .colab-df-convert:hover {\n",
              "      background-color: #E2EBFA;\n",
              "      box-shadow: 0px 1px 2px rgba(60, 64, 67, 0.3), 0px 1px 3px 1px rgba(60, 64, 67, 0.15);\n",
              "      fill: #174EA6;\n",
              "    }\n",
              "\n",
              "    [theme=dark] .colab-df-convert {\n",
              "      background-color: #3B4455;\n",
              "      fill: #D2E3FC;\n",
              "    }\n",
              "\n",
              "    [theme=dark] .colab-df-convert:hover {\n",
              "      background-color: #434B5C;\n",
              "      box-shadow: 0px 1px 3px 1px rgba(0, 0, 0, 0.15);\n",
              "      filter: drop-shadow(0px 1px 2px rgba(0, 0, 0, 0.3));\n",
              "      fill: #FFFFFF;\n",
              "    }\n",
              "  </style>\n",
              "\n",
              "      <script>\n",
              "        const buttonEl =\n",
              "          document.querySelector('#df-bbc3e9fb-6009-45c8-893a-37afbaace0b7 button.colab-df-convert');\n",
              "        buttonEl.style.display =\n",
              "          google.colab.kernel.accessAllowed ? 'block' : 'none';\n",
              "\n",
              "        async function convertToInteractive(key) {\n",
              "          const element = document.querySelector('#df-bbc3e9fb-6009-45c8-893a-37afbaace0b7');\n",
              "          const dataTable =\n",
              "            await google.colab.kernel.invokeFunction('convertToInteractive',\n",
              "                                                     [key], {});\n",
              "          if (!dataTable) return;\n",
              "\n",
              "          const docLinkHtml = 'Like what you see? Visit the ' +\n",
              "            '<a target=\"_blank\" href=https://colab.research.google.com/notebooks/data_table.ipynb>data table notebook</a>'\n",
              "            + ' to learn more about interactive tables.';\n",
              "          element.innerHTML = '';\n",
              "          dataTable['output_type'] = 'display_data';\n",
              "          await google.colab.output.renderOutput(dataTable, element);\n",
              "          const docLink = document.createElement('div');\n",
              "          docLink.innerHTML = docLinkHtml;\n",
              "          element.appendChild(docLink);\n",
              "        }\n",
              "      </script>\n",
              "    </div>\n",
              "  </div>\n",
              "  "
            ]
          },
          "metadata": {},
          "execution_count": 31
        }
      ]
    },
    {
      "cell_type": "code",
      "source": [
        "data1 = {'Name':['Jai', 'Anuj', 'Jai', 'Princi',\n",
        "                 'Gaurav', 'Anuj', 'Princi', 'Abhi'],\n",
        "        'Age':[27, 24, 22, 32,\n",
        "               33, 36, 27, 32],\n",
        "        'Address':['Nagpur', 'Kanpur', 'Allahabad', 'Kannuaj',\n",
        "                   'Jaunpur', 'Kanpur', 'Allahabad', 'Aligarh'],\n",
        "        'Qualification':['Msc', 'MA', 'MCA', 'Phd',\n",
        "                         'B.Tech', 'B.com', 'Msc', 'MA']}\n",
        "    \n",
        "  \n",
        "# Convert the dictionary into DataFrame \n",
        "df = pd.DataFrame(data1)\n",
        "  \n",
        "print(df)"
      ],
      "metadata": {
        "colab": {
          "base_uri": "https://localhost:8080/"
        },
        "id": "UPJ6npXFRbHE",
        "outputId": "e77abf6e-1f82-4d27-a9af-9a8916e216c5"
      },
      "execution_count": null,
      "outputs": [
        {
          "output_type": "stream",
          "name": "stdout",
          "text": [
            "     Name  Age    Address Qualification\n",
            "0     Jai   27     Nagpur           Msc\n",
            "1    Anuj   24     Kanpur            MA\n",
            "2     Jai   22  Allahabad           MCA\n",
            "3  Princi   32    Kannuaj           Phd\n",
            "4  Gaurav   33    Jaunpur        B.Tech\n",
            "5    Anuj   36     Kanpur         B.com\n",
            "6  Princi   27  Allahabad           Msc\n",
            "7    Abhi   32    Aligarh            MA\n"
          ]
        }
      ]
    },
    {
      "cell_type": "code",
      "source": [
        "grp = df.groupby('Name')\n",
        " \n",
        "grp['Age'].agg([np.sum, np.mean, np.std])"
      ],
      "metadata": {
        "colab": {
          "base_uri": "https://localhost:8080/",
          "height": 238
        },
        "id": "bECR9Qm_Rhmj",
        "outputId": "1ecd6884-2337-48d6-b8ab-6fdf3763ca2b"
      },
      "execution_count": null,
      "outputs": [
        {
          "output_type": "execute_result",
          "data": {
            "text/plain": [
              "        sum  mean       std\n",
              "Name                       \n",
              "Abhi     32  32.0       NaN\n",
              "Anuj     60  30.0  8.485281\n",
              "Gaurav   33  33.0       NaN\n",
              "Jai      49  24.5  3.535534\n",
              "Princi   59  29.5  3.535534"
            ],
            "text/html": [
              "\n",
              "  <div id=\"df-18af479c-f768-4597-8c44-1f04c24f2004\">\n",
              "    <div class=\"colab-df-container\">\n",
              "      <div>\n",
              "<style scoped>\n",
              "    .dataframe tbody tr th:only-of-type {\n",
              "        vertical-align: middle;\n",
              "    }\n",
              "\n",
              "    .dataframe tbody tr th {\n",
              "        vertical-align: top;\n",
              "    }\n",
              "\n",
              "    .dataframe thead th {\n",
              "        text-align: right;\n",
              "    }\n",
              "</style>\n",
              "<table border=\"1\" class=\"dataframe\">\n",
              "  <thead>\n",
              "    <tr style=\"text-align: right;\">\n",
              "      <th></th>\n",
              "      <th>sum</th>\n",
              "      <th>mean</th>\n",
              "      <th>std</th>\n",
              "    </tr>\n",
              "    <tr>\n",
              "      <th>Name</th>\n",
              "      <th></th>\n",
              "      <th></th>\n",
              "      <th></th>\n",
              "    </tr>\n",
              "  </thead>\n",
              "  <tbody>\n",
              "    <tr>\n",
              "      <th>Abhi</th>\n",
              "      <td>32</td>\n",
              "      <td>32.0</td>\n",
              "      <td>NaN</td>\n",
              "    </tr>\n",
              "    <tr>\n",
              "      <th>Anuj</th>\n",
              "      <td>60</td>\n",
              "      <td>30.0</td>\n",
              "      <td>8.485281</td>\n",
              "    </tr>\n",
              "    <tr>\n",
              "      <th>Gaurav</th>\n",
              "      <td>33</td>\n",
              "      <td>33.0</td>\n",
              "      <td>NaN</td>\n",
              "    </tr>\n",
              "    <tr>\n",
              "      <th>Jai</th>\n",
              "      <td>49</td>\n",
              "      <td>24.5</td>\n",
              "      <td>3.535534</td>\n",
              "    </tr>\n",
              "    <tr>\n",
              "      <th>Princi</th>\n",
              "      <td>59</td>\n",
              "      <td>29.5</td>\n",
              "      <td>3.535534</td>\n",
              "    </tr>\n",
              "  </tbody>\n",
              "</table>\n",
              "</div>\n",
              "      <button class=\"colab-df-convert\" onclick=\"convertToInteractive('df-18af479c-f768-4597-8c44-1f04c24f2004')\"\n",
              "              title=\"Convert this dataframe to an interactive table.\"\n",
              "              style=\"display:none;\">\n",
              "        \n",
              "  <svg xmlns=\"http://www.w3.org/2000/svg\" height=\"24px\"viewBox=\"0 0 24 24\"\n",
              "       width=\"24px\">\n",
              "    <path d=\"M0 0h24v24H0V0z\" fill=\"none\"/>\n",
              "    <path d=\"M18.56 5.44l.94 2.06.94-2.06 2.06-.94-2.06-.94-.94-2.06-.94 2.06-2.06.94zm-11 1L8.5 8.5l.94-2.06 2.06-.94-2.06-.94L8.5 2.5l-.94 2.06-2.06.94zm10 10l.94 2.06.94-2.06 2.06-.94-2.06-.94-.94-2.06-.94 2.06-2.06.94z\"/><path d=\"M17.41 7.96l-1.37-1.37c-.4-.4-.92-.59-1.43-.59-.52 0-1.04.2-1.43.59L10.3 9.45l-7.72 7.72c-.78.78-.78 2.05 0 2.83L4 21.41c.39.39.9.59 1.41.59.51 0 1.02-.2 1.41-.59l7.78-7.78 2.81-2.81c.8-.78.8-2.07 0-2.86zM5.41 20L4 18.59l7.72-7.72 1.47 1.35L5.41 20z\"/>\n",
              "  </svg>\n",
              "      </button>\n",
              "      \n",
              "  <style>\n",
              "    .colab-df-container {\n",
              "      display:flex;\n",
              "      flex-wrap:wrap;\n",
              "      gap: 12px;\n",
              "    }\n",
              "\n",
              "    .colab-df-convert {\n",
              "      background-color: #E8F0FE;\n",
              "      border: none;\n",
              "      border-radius: 50%;\n",
              "      cursor: pointer;\n",
              "      display: none;\n",
              "      fill: #1967D2;\n",
              "      height: 32px;\n",
              "      padding: 0 0 0 0;\n",
              "      width: 32px;\n",
              "    }\n",
              "\n",
              "    .colab-df-convert:hover {\n",
              "      background-color: #E2EBFA;\n",
              "      box-shadow: 0px 1px 2px rgba(60, 64, 67, 0.3), 0px 1px 3px 1px rgba(60, 64, 67, 0.15);\n",
              "      fill: #174EA6;\n",
              "    }\n",
              "\n",
              "    [theme=dark] .colab-df-convert {\n",
              "      background-color: #3B4455;\n",
              "      fill: #D2E3FC;\n",
              "    }\n",
              "\n",
              "    [theme=dark] .colab-df-convert:hover {\n",
              "      background-color: #434B5C;\n",
              "      box-shadow: 0px 1px 3px 1px rgba(0, 0, 0, 0.15);\n",
              "      filter: drop-shadow(0px 1px 2px rgba(0, 0, 0, 0.3));\n",
              "      fill: #FFFFFF;\n",
              "    }\n",
              "  </style>\n",
              "\n",
              "      <script>\n",
              "        const buttonEl =\n",
              "          document.querySelector('#df-18af479c-f768-4597-8c44-1f04c24f2004 button.colab-df-convert');\n",
              "        buttonEl.style.display =\n",
              "          google.colab.kernel.accessAllowed ? 'block' : 'none';\n",
              "\n",
              "        async function convertToInteractive(key) {\n",
              "          const element = document.querySelector('#df-18af479c-f768-4597-8c44-1f04c24f2004');\n",
              "          const dataTable =\n",
              "            await google.colab.kernel.invokeFunction('convertToInteractive',\n",
              "                                                     [key], {});\n",
              "          if (!dataTable) return;\n",
              "\n",
              "          const docLinkHtml = 'Like what you see? Visit the ' +\n",
              "            '<a target=\"_blank\" href=https://colab.research.google.com/notebooks/data_table.ipynb>data table notebook</a>'\n",
              "            + ' to learn more about interactive tables.';\n",
              "          element.innerHTML = '';\n",
              "          dataTable['output_type'] = 'display_data';\n",
              "          await google.colab.output.renderOutput(dataTable, element);\n",
              "          const docLink = document.createElement('div');\n",
              "          docLink.innerHTML = docLinkHtml;\n",
              "          element.appendChild(docLink);\n",
              "        }\n",
              "      </script>\n",
              "    </div>\n",
              "  </div>\n",
              "  "
            ]
          },
          "metadata": {},
          "execution_count": 33
        }
      ]
    },
    {
      "cell_type": "code",
      "source": [
        "data1 = {'Name':['Jai', 'Anuj', 'Jai', 'Princi',\n",
        "                 'Gaurav', 'Anuj', 'Princi', 'Abhi'],\n",
        "        'Age':[27, 24, 22, 32,\n",
        "               33, 36, 27, 32],\n",
        "        'Address':['Nagpur', 'Kanpur', 'Allahabad', 'Kannuaj',\n",
        "                   'Jaunpur', 'Kanpur', 'Allahabad', 'Aligarh'],\n",
        "        'Qualification':['Msc', 'MA', 'MCA', 'Phd',\n",
        "                         'B.Tech', 'B.com', 'Msc', 'MA'],\n",
        "        'Score': [23, 34, 35, 45, 47, 50, 52, 53]}\n",
        "    \n",
        "  \n",
        "# Convert the dictionary into DataFrame \n",
        "df = pd.DataFrame(data1)\n",
        "  \n",
        "print(df)"
      ],
      "metadata": {
        "colab": {
          "base_uri": "https://localhost:8080/"
        },
        "id": "ulf37r_ERtNa",
        "outputId": "309254bc-653a-4013-ac3c-dedc63d59e5f"
      },
      "execution_count": null,
      "outputs": [
        {
          "output_type": "stream",
          "name": "stdout",
          "text": [
            "     Name  Age    Address Qualification  Score\n",
            "0     Jai   27     Nagpur           Msc     23\n",
            "1    Anuj   24     Kanpur            MA     34\n",
            "2     Jai   22  Allahabad           MCA     35\n",
            "3  Princi   32    Kannuaj           Phd     45\n",
            "4  Gaurav   33    Jaunpur        B.Tech     47\n",
            "5    Anuj   36     Kanpur         B.com     50\n",
            "6  Princi   27  Allahabad           Msc     52\n",
            "7    Abhi   32    Aligarh            MA     53\n"
          ]
        }
      ]
    },
    {
      "cell_type": "code",
      "source": [
        "grp = df.groupby('Name')\n",
        " \n",
        "grp.agg({'Age' : 'sum', 'Score' : 'std'})"
      ],
      "metadata": {
        "colab": {
          "base_uri": "https://localhost:8080/",
          "height": 238
        },
        "id": "M0nPFs59Rn9a",
        "outputId": "e7202683-bfdd-4e8f-9fad-e1f234a9b66c"
      },
      "execution_count": null,
      "outputs": [
        {
          "output_type": "execute_result",
          "data": {
            "text/plain": [
              "        Age      Score\n",
              "Name                  \n",
              "Abhi     32        NaN\n",
              "Anuj     60  11.313708\n",
              "Gaurav   33        NaN\n",
              "Jai      49   8.485281\n",
              "Princi   59   4.949747"
            ],
            "text/html": [
              "\n",
              "  <div id=\"df-8b8fd0e3-571a-4084-942d-4aa5efabcb90\">\n",
              "    <div class=\"colab-df-container\">\n",
              "      <div>\n",
              "<style scoped>\n",
              "    .dataframe tbody tr th:only-of-type {\n",
              "        vertical-align: middle;\n",
              "    }\n",
              "\n",
              "    .dataframe tbody tr th {\n",
              "        vertical-align: top;\n",
              "    }\n",
              "\n",
              "    .dataframe thead th {\n",
              "        text-align: right;\n",
              "    }\n",
              "</style>\n",
              "<table border=\"1\" class=\"dataframe\">\n",
              "  <thead>\n",
              "    <tr style=\"text-align: right;\">\n",
              "      <th></th>\n",
              "      <th>Age</th>\n",
              "      <th>Score</th>\n",
              "    </tr>\n",
              "    <tr>\n",
              "      <th>Name</th>\n",
              "      <th></th>\n",
              "      <th></th>\n",
              "    </tr>\n",
              "  </thead>\n",
              "  <tbody>\n",
              "    <tr>\n",
              "      <th>Abhi</th>\n",
              "      <td>32</td>\n",
              "      <td>NaN</td>\n",
              "    </tr>\n",
              "    <tr>\n",
              "      <th>Anuj</th>\n",
              "      <td>60</td>\n",
              "      <td>11.313708</td>\n",
              "    </tr>\n",
              "    <tr>\n",
              "      <th>Gaurav</th>\n",
              "      <td>33</td>\n",
              "      <td>NaN</td>\n",
              "    </tr>\n",
              "    <tr>\n",
              "      <th>Jai</th>\n",
              "      <td>49</td>\n",
              "      <td>8.485281</td>\n",
              "    </tr>\n",
              "    <tr>\n",
              "      <th>Princi</th>\n",
              "      <td>59</td>\n",
              "      <td>4.949747</td>\n",
              "    </tr>\n",
              "  </tbody>\n",
              "</table>\n",
              "</div>\n",
              "      <button class=\"colab-df-convert\" onclick=\"convertToInteractive('df-8b8fd0e3-571a-4084-942d-4aa5efabcb90')\"\n",
              "              title=\"Convert this dataframe to an interactive table.\"\n",
              "              style=\"display:none;\">\n",
              "        \n",
              "  <svg xmlns=\"http://www.w3.org/2000/svg\" height=\"24px\"viewBox=\"0 0 24 24\"\n",
              "       width=\"24px\">\n",
              "    <path d=\"M0 0h24v24H0V0z\" fill=\"none\"/>\n",
              "    <path d=\"M18.56 5.44l.94 2.06.94-2.06 2.06-.94-2.06-.94-.94-2.06-.94 2.06-2.06.94zm-11 1L8.5 8.5l.94-2.06 2.06-.94-2.06-.94L8.5 2.5l-.94 2.06-2.06.94zm10 10l.94 2.06.94-2.06 2.06-.94-2.06-.94-.94-2.06-.94 2.06-2.06.94z\"/><path d=\"M17.41 7.96l-1.37-1.37c-.4-.4-.92-.59-1.43-.59-.52 0-1.04.2-1.43.59L10.3 9.45l-7.72 7.72c-.78.78-.78 2.05 0 2.83L4 21.41c.39.39.9.59 1.41.59.51 0 1.02-.2 1.41-.59l7.78-7.78 2.81-2.81c.8-.78.8-2.07 0-2.86zM5.41 20L4 18.59l7.72-7.72 1.47 1.35L5.41 20z\"/>\n",
              "  </svg>\n",
              "      </button>\n",
              "      \n",
              "  <style>\n",
              "    .colab-df-container {\n",
              "      display:flex;\n",
              "      flex-wrap:wrap;\n",
              "      gap: 12px;\n",
              "    }\n",
              "\n",
              "    .colab-df-convert {\n",
              "      background-color: #E8F0FE;\n",
              "      border: none;\n",
              "      border-radius: 50%;\n",
              "      cursor: pointer;\n",
              "      display: none;\n",
              "      fill: #1967D2;\n",
              "      height: 32px;\n",
              "      padding: 0 0 0 0;\n",
              "      width: 32px;\n",
              "    }\n",
              "\n",
              "    .colab-df-convert:hover {\n",
              "      background-color: #E2EBFA;\n",
              "      box-shadow: 0px 1px 2px rgba(60, 64, 67, 0.3), 0px 1px 3px 1px rgba(60, 64, 67, 0.15);\n",
              "      fill: #174EA6;\n",
              "    }\n",
              "\n",
              "    [theme=dark] .colab-df-convert {\n",
              "      background-color: #3B4455;\n",
              "      fill: #D2E3FC;\n",
              "    }\n",
              "\n",
              "    [theme=dark] .colab-df-convert:hover {\n",
              "      background-color: #434B5C;\n",
              "      box-shadow: 0px 1px 3px 1px rgba(0, 0, 0, 0.15);\n",
              "      filter: drop-shadow(0px 1px 2px rgba(0, 0, 0, 0.3));\n",
              "      fill: #FFFFFF;\n",
              "    }\n",
              "  </style>\n",
              "\n",
              "      <script>\n",
              "        const buttonEl =\n",
              "          document.querySelector('#df-8b8fd0e3-571a-4084-942d-4aa5efabcb90 button.colab-df-convert');\n",
              "        buttonEl.style.display =\n",
              "          google.colab.kernel.accessAllowed ? 'block' : 'none';\n",
              "\n",
              "        async function convertToInteractive(key) {\n",
              "          const element = document.querySelector('#df-8b8fd0e3-571a-4084-942d-4aa5efabcb90');\n",
              "          const dataTable =\n",
              "            await google.colab.kernel.invokeFunction('convertToInteractive',\n",
              "                                                     [key], {});\n",
              "          if (!dataTable) return;\n",
              "\n",
              "          const docLinkHtml = 'Like what you see? Visit the ' +\n",
              "            '<a target=\"_blank\" href=https://colab.research.google.com/notebooks/data_table.ipynb>data table notebook</a>'\n",
              "            + ' to learn more about interactive tables.';\n",
              "          element.innerHTML = '';\n",
              "          dataTable['output_type'] = 'display_data';\n",
              "          await google.colab.output.renderOutput(dataTable, element);\n",
              "          const docLink = document.createElement('div');\n",
              "          docLink.innerHTML = docLinkHtml;\n",
              "          element.appendChild(docLink);\n",
              "        }\n",
              "      </script>\n",
              "    </div>\n",
              "  </div>\n",
              "  "
            ]
          },
          "metadata": {},
          "execution_count": 36
        }
      ]
    },
    {
      "cell_type": "code",
      "source": [
        "grp = df.groupby('Name')\n",
        "grp.filter(lambda x: len(x) >= 2)"
      ],
      "metadata": {
        "colab": {
          "base_uri": "https://localhost:8080/",
          "height": 238
        },
        "id": "tP0WORGFSZ2G",
        "outputId": "304ea0b2-1fee-4048-e692-dd4eba9edf23"
      },
      "execution_count": null,
      "outputs": [
        {
          "output_type": "execute_result",
          "data": {
            "text/plain": [
              "     Name  Age    Address Qualification  Score\n",
              "0     Jai   27     Nagpur           Msc     23\n",
              "1    Anuj   24     Kanpur            MA     34\n",
              "2     Jai   22  Allahabad           MCA     35\n",
              "3  Princi   32    Kannuaj           Phd     45\n",
              "5    Anuj   36     Kanpur         B.com     50\n",
              "6  Princi   27  Allahabad           Msc     52"
            ],
            "text/html": [
              "\n",
              "  <div id=\"df-b5957f6b-7825-4bea-ba77-2226f158d9a4\">\n",
              "    <div class=\"colab-df-container\">\n",
              "      <div>\n",
              "<style scoped>\n",
              "    .dataframe tbody tr th:only-of-type {\n",
              "        vertical-align: middle;\n",
              "    }\n",
              "\n",
              "    .dataframe tbody tr th {\n",
              "        vertical-align: top;\n",
              "    }\n",
              "\n",
              "    .dataframe thead th {\n",
              "        text-align: right;\n",
              "    }\n",
              "</style>\n",
              "<table border=\"1\" class=\"dataframe\">\n",
              "  <thead>\n",
              "    <tr style=\"text-align: right;\">\n",
              "      <th></th>\n",
              "      <th>Name</th>\n",
              "      <th>Age</th>\n",
              "      <th>Address</th>\n",
              "      <th>Qualification</th>\n",
              "      <th>Score</th>\n",
              "    </tr>\n",
              "  </thead>\n",
              "  <tbody>\n",
              "    <tr>\n",
              "      <th>0</th>\n",
              "      <td>Jai</td>\n",
              "      <td>27</td>\n",
              "      <td>Nagpur</td>\n",
              "      <td>Msc</td>\n",
              "      <td>23</td>\n",
              "    </tr>\n",
              "    <tr>\n",
              "      <th>1</th>\n",
              "      <td>Anuj</td>\n",
              "      <td>24</td>\n",
              "      <td>Kanpur</td>\n",
              "      <td>MA</td>\n",
              "      <td>34</td>\n",
              "    </tr>\n",
              "    <tr>\n",
              "      <th>2</th>\n",
              "      <td>Jai</td>\n",
              "      <td>22</td>\n",
              "      <td>Allahabad</td>\n",
              "      <td>MCA</td>\n",
              "      <td>35</td>\n",
              "    </tr>\n",
              "    <tr>\n",
              "      <th>3</th>\n",
              "      <td>Princi</td>\n",
              "      <td>32</td>\n",
              "      <td>Kannuaj</td>\n",
              "      <td>Phd</td>\n",
              "      <td>45</td>\n",
              "    </tr>\n",
              "    <tr>\n",
              "      <th>5</th>\n",
              "      <td>Anuj</td>\n",
              "      <td>36</td>\n",
              "      <td>Kanpur</td>\n",
              "      <td>B.com</td>\n",
              "      <td>50</td>\n",
              "    </tr>\n",
              "    <tr>\n",
              "      <th>6</th>\n",
              "      <td>Princi</td>\n",
              "      <td>27</td>\n",
              "      <td>Allahabad</td>\n",
              "      <td>Msc</td>\n",
              "      <td>52</td>\n",
              "    </tr>\n",
              "  </tbody>\n",
              "</table>\n",
              "</div>\n",
              "      <button class=\"colab-df-convert\" onclick=\"convertToInteractive('df-b5957f6b-7825-4bea-ba77-2226f158d9a4')\"\n",
              "              title=\"Convert this dataframe to an interactive table.\"\n",
              "              style=\"display:none;\">\n",
              "        \n",
              "  <svg xmlns=\"http://www.w3.org/2000/svg\" height=\"24px\"viewBox=\"0 0 24 24\"\n",
              "       width=\"24px\">\n",
              "    <path d=\"M0 0h24v24H0V0z\" fill=\"none\"/>\n",
              "    <path d=\"M18.56 5.44l.94 2.06.94-2.06 2.06-.94-2.06-.94-.94-2.06-.94 2.06-2.06.94zm-11 1L8.5 8.5l.94-2.06 2.06-.94-2.06-.94L8.5 2.5l-.94 2.06-2.06.94zm10 10l.94 2.06.94-2.06 2.06-.94-2.06-.94-.94-2.06-.94 2.06-2.06.94z\"/><path d=\"M17.41 7.96l-1.37-1.37c-.4-.4-.92-.59-1.43-.59-.52 0-1.04.2-1.43.59L10.3 9.45l-7.72 7.72c-.78.78-.78 2.05 0 2.83L4 21.41c.39.39.9.59 1.41.59.51 0 1.02-.2 1.41-.59l7.78-7.78 2.81-2.81c.8-.78.8-2.07 0-2.86zM5.41 20L4 18.59l7.72-7.72 1.47 1.35L5.41 20z\"/>\n",
              "  </svg>\n",
              "      </button>\n",
              "      \n",
              "  <style>\n",
              "    .colab-df-container {\n",
              "      display:flex;\n",
              "      flex-wrap:wrap;\n",
              "      gap: 12px;\n",
              "    }\n",
              "\n",
              "    .colab-df-convert {\n",
              "      background-color: #E8F0FE;\n",
              "      border: none;\n",
              "      border-radius: 50%;\n",
              "      cursor: pointer;\n",
              "      display: none;\n",
              "      fill: #1967D2;\n",
              "      height: 32px;\n",
              "      padding: 0 0 0 0;\n",
              "      width: 32px;\n",
              "    }\n",
              "\n",
              "    .colab-df-convert:hover {\n",
              "      background-color: #E2EBFA;\n",
              "      box-shadow: 0px 1px 2px rgba(60, 64, 67, 0.3), 0px 1px 3px 1px rgba(60, 64, 67, 0.15);\n",
              "      fill: #174EA6;\n",
              "    }\n",
              "\n",
              "    [theme=dark] .colab-df-convert {\n",
              "      background-color: #3B4455;\n",
              "      fill: #D2E3FC;\n",
              "    }\n",
              "\n",
              "    [theme=dark] .colab-df-convert:hover {\n",
              "      background-color: #434B5C;\n",
              "      box-shadow: 0px 1px 3px 1px rgba(0, 0, 0, 0.15);\n",
              "      filter: drop-shadow(0px 1px 2px rgba(0, 0, 0, 0.3));\n",
              "      fill: #FFFFFF;\n",
              "    }\n",
              "  </style>\n",
              "\n",
              "      <script>\n",
              "        const buttonEl =\n",
              "          document.querySelector('#df-b5957f6b-7825-4bea-ba77-2226f158d9a4 button.colab-df-convert');\n",
              "        buttonEl.style.display =\n",
              "          google.colab.kernel.accessAllowed ? 'block' : 'none';\n",
              "\n",
              "        async function convertToInteractive(key) {\n",
              "          const element = document.querySelector('#df-b5957f6b-7825-4bea-ba77-2226f158d9a4');\n",
              "          const dataTable =\n",
              "            await google.colab.kernel.invokeFunction('convertToInteractive',\n",
              "                                                     [key], {});\n",
              "          if (!dataTable) return;\n",
              "\n",
              "          const docLinkHtml = 'Like what you see? Visit the ' +\n",
              "            '<a target=\"_blank\" href=https://colab.research.google.com/notebooks/data_table.ipynb>data table notebook</a>'\n",
              "            + ' to learn more about interactive tables.';\n",
              "          element.innerHTML = '';\n",
              "          dataTable['output_type'] = 'display_data';\n",
              "          await google.colab.output.renderOutput(dataTable, element);\n",
              "          const docLink = document.createElement('div');\n",
              "          docLink.innerHTML = docLinkHtml;\n",
              "          element.appendChild(docLink);\n",
              "        }\n",
              "      </script>\n",
              "    </div>\n",
              "  </div>\n",
              "  "
            ]
          },
          "metadata": {},
          "execution_count": 37
        }
      ]
    },
    {
      "cell_type": "code",
      "source": [
        "import pandas as pd \n",
        " \n",
        "# Define a dictionary containing employee data \n",
        "data1 = {'Name':['Jai', 'Princi', 'Gaurav', 'Anuj'], \n",
        "        'Age':[27, 24, 22, 32], \n",
        "        'Address':['Nagpur', 'Kanpur', 'Allahabad', 'Kannuaj'], \n",
        "        'Qualification':['Msc', 'MA', 'MCA', 'Phd']} \n",
        "   \n",
        "# Define a dictionary containing employee data \n",
        "data2 = {'Name':['Abhi', 'Ayushi', 'Dhiraj', 'Hitesh'], \n",
        "        'Age':[17, 14, 12, 52], \n",
        "        'Address':['Nagpur', 'Kanpur', 'Allahabad', 'Kannuaj'], \n",
        "        'Qualification':['Btech', 'B.A', 'Bcom', 'B.hons']} \n",
        " \n",
        "# Convert the dictionary into DataFrame  \n",
        "df = pd.DataFrame(data1,index=[0, 1, 2, 3])\n",
        " \n",
        "# Convert the dictionary into DataFrame  \n",
        "df1 = pd.DataFrame(data2, index=[4, 5, 6, 7])\n",
        " \n",
        "print(df, \"\\n\\n\", df1) "
      ],
      "metadata": {
        "colab": {
          "base_uri": "https://localhost:8080/"
        },
        "id": "8r2QBK-eStVW",
        "outputId": "72395fe7-d2dc-408f-b9db-f7122c80c0ec"
      },
      "execution_count": null,
      "outputs": [
        {
          "output_type": "stream",
          "name": "stdout",
          "text": [
            "     Name  Age    Address Qualification\n",
            "0     Jai   27     Nagpur           Msc\n",
            "1  Princi   24     Kanpur            MA\n",
            "2  Gaurav   22  Allahabad           MCA\n",
            "3    Anuj   32    Kannuaj           Phd \n",
            "\n",
            "      Name  Age    Address Qualification\n",
            "4    Abhi   17     Nagpur         Btech\n",
            "5  Ayushi   14     Kanpur           B.A\n",
            "6  Dhiraj   12  Allahabad          Bcom\n",
            "7  Hitesh   52    Kannuaj        B.hons\n"
          ]
        }
      ]
    },
    {
      "cell_type": "code",
      "source": [
        "frames = [df, df1]\n",
        " \n",
        "res1 = pd.concat(frames)\n",
        "res1"
      ],
      "metadata": {
        "colab": {
          "base_uri": "https://localhost:8080/",
          "height": 300
        },
        "id": "__b3yZpWSxtf",
        "outputId": "2bbd2e5f-6e2b-4f20-cd9b-ee62ba357a5a"
      },
      "execution_count": null,
      "outputs": [
        {
          "output_type": "execute_result",
          "data": {
            "text/plain": [
              "     Name  Age    Address Qualification\n",
              "0     Jai   27     Nagpur           Msc\n",
              "1  Princi   24     Kanpur            MA\n",
              "2  Gaurav   22  Allahabad           MCA\n",
              "3    Anuj   32    Kannuaj           Phd\n",
              "4    Abhi   17     Nagpur         Btech\n",
              "5  Ayushi   14     Kanpur           B.A\n",
              "6  Dhiraj   12  Allahabad          Bcom\n",
              "7  Hitesh   52    Kannuaj        B.hons"
            ],
            "text/html": [
              "\n",
              "  <div id=\"df-94f79581-b891-474e-ba2c-4ac25a15a501\">\n",
              "    <div class=\"colab-df-container\">\n",
              "      <div>\n",
              "<style scoped>\n",
              "    .dataframe tbody tr th:only-of-type {\n",
              "        vertical-align: middle;\n",
              "    }\n",
              "\n",
              "    .dataframe tbody tr th {\n",
              "        vertical-align: top;\n",
              "    }\n",
              "\n",
              "    .dataframe thead th {\n",
              "        text-align: right;\n",
              "    }\n",
              "</style>\n",
              "<table border=\"1\" class=\"dataframe\">\n",
              "  <thead>\n",
              "    <tr style=\"text-align: right;\">\n",
              "      <th></th>\n",
              "      <th>Name</th>\n",
              "      <th>Age</th>\n",
              "      <th>Address</th>\n",
              "      <th>Qualification</th>\n",
              "    </tr>\n",
              "  </thead>\n",
              "  <tbody>\n",
              "    <tr>\n",
              "      <th>0</th>\n",
              "      <td>Jai</td>\n",
              "      <td>27</td>\n",
              "      <td>Nagpur</td>\n",
              "      <td>Msc</td>\n",
              "    </tr>\n",
              "    <tr>\n",
              "      <th>1</th>\n",
              "      <td>Princi</td>\n",
              "      <td>24</td>\n",
              "      <td>Kanpur</td>\n",
              "      <td>MA</td>\n",
              "    </tr>\n",
              "    <tr>\n",
              "      <th>2</th>\n",
              "      <td>Gaurav</td>\n",
              "      <td>22</td>\n",
              "      <td>Allahabad</td>\n",
              "      <td>MCA</td>\n",
              "    </tr>\n",
              "    <tr>\n",
              "      <th>3</th>\n",
              "      <td>Anuj</td>\n",
              "      <td>32</td>\n",
              "      <td>Kannuaj</td>\n",
              "      <td>Phd</td>\n",
              "    </tr>\n",
              "    <tr>\n",
              "      <th>4</th>\n",
              "      <td>Abhi</td>\n",
              "      <td>17</td>\n",
              "      <td>Nagpur</td>\n",
              "      <td>Btech</td>\n",
              "    </tr>\n",
              "    <tr>\n",
              "      <th>5</th>\n",
              "      <td>Ayushi</td>\n",
              "      <td>14</td>\n",
              "      <td>Kanpur</td>\n",
              "      <td>B.A</td>\n",
              "    </tr>\n",
              "    <tr>\n",
              "      <th>6</th>\n",
              "      <td>Dhiraj</td>\n",
              "      <td>12</td>\n",
              "      <td>Allahabad</td>\n",
              "      <td>Bcom</td>\n",
              "    </tr>\n",
              "    <tr>\n",
              "      <th>7</th>\n",
              "      <td>Hitesh</td>\n",
              "      <td>52</td>\n",
              "      <td>Kannuaj</td>\n",
              "      <td>B.hons</td>\n",
              "    </tr>\n",
              "  </tbody>\n",
              "</table>\n",
              "</div>\n",
              "      <button class=\"colab-df-convert\" onclick=\"convertToInteractive('df-94f79581-b891-474e-ba2c-4ac25a15a501')\"\n",
              "              title=\"Convert this dataframe to an interactive table.\"\n",
              "              style=\"display:none;\">\n",
              "        \n",
              "  <svg xmlns=\"http://www.w3.org/2000/svg\" height=\"24px\"viewBox=\"0 0 24 24\"\n",
              "       width=\"24px\">\n",
              "    <path d=\"M0 0h24v24H0V0z\" fill=\"none\"/>\n",
              "    <path d=\"M18.56 5.44l.94 2.06.94-2.06 2.06-.94-2.06-.94-.94-2.06-.94 2.06-2.06.94zm-11 1L8.5 8.5l.94-2.06 2.06-.94-2.06-.94L8.5 2.5l-.94 2.06-2.06.94zm10 10l.94 2.06.94-2.06 2.06-.94-2.06-.94-.94-2.06-.94 2.06-2.06.94z\"/><path d=\"M17.41 7.96l-1.37-1.37c-.4-.4-.92-.59-1.43-.59-.52 0-1.04.2-1.43.59L10.3 9.45l-7.72 7.72c-.78.78-.78 2.05 0 2.83L4 21.41c.39.39.9.59 1.41.59.51 0 1.02-.2 1.41-.59l7.78-7.78 2.81-2.81c.8-.78.8-2.07 0-2.86zM5.41 20L4 18.59l7.72-7.72 1.47 1.35L5.41 20z\"/>\n",
              "  </svg>\n",
              "      </button>\n",
              "      \n",
              "  <style>\n",
              "    .colab-df-container {\n",
              "      display:flex;\n",
              "      flex-wrap:wrap;\n",
              "      gap: 12px;\n",
              "    }\n",
              "\n",
              "    .colab-df-convert {\n",
              "      background-color: #E8F0FE;\n",
              "      border: none;\n",
              "      border-radius: 50%;\n",
              "      cursor: pointer;\n",
              "      display: none;\n",
              "      fill: #1967D2;\n",
              "      height: 32px;\n",
              "      padding: 0 0 0 0;\n",
              "      width: 32px;\n",
              "    }\n",
              "\n",
              "    .colab-df-convert:hover {\n",
              "      background-color: #E2EBFA;\n",
              "      box-shadow: 0px 1px 2px rgba(60, 64, 67, 0.3), 0px 1px 3px 1px rgba(60, 64, 67, 0.15);\n",
              "      fill: #174EA6;\n",
              "    }\n",
              "\n",
              "    [theme=dark] .colab-df-convert {\n",
              "      background-color: #3B4455;\n",
              "      fill: #D2E3FC;\n",
              "    }\n",
              "\n",
              "    [theme=dark] .colab-df-convert:hover {\n",
              "      background-color: #434B5C;\n",
              "      box-shadow: 0px 1px 3px 1px rgba(0, 0, 0, 0.15);\n",
              "      filter: drop-shadow(0px 1px 2px rgba(0, 0, 0, 0.3));\n",
              "      fill: #FFFFFF;\n",
              "    }\n",
              "  </style>\n",
              "\n",
              "      <script>\n",
              "        const buttonEl =\n",
              "          document.querySelector('#df-94f79581-b891-474e-ba2c-4ac25a15a501 button.colab-df-convert');\n",
              "        buttonEl.style.display =\n",
              "          google.colab.kernel.accessAllowed ? 'block' : 'none';\n",
              "\n",
              "        async function convertToInteractive(key) {\n",
              "          const element = document.querySelector('#df-94f79581-b891-474e-ba2c-4ac25a15a501');\n",
              "          const dataTable =\n",
              "            await google.colab.kernel.invokeFunction('convertToInteractive',\n",
              "                                                     [key], {});\n",
              "          if (!dataTable) return;\n",
              "\n",
              "          const docLinkHtml = 'Like what you see? Visit the ' +\n",
              "            '<a target=\"_blank\" href=https://colab.research.google.com/notebooks/data_table.ipynb>data table notebook</a>'\n",
              "            + ' to learn more about interactive tables.';\n",
              "          element.innerHTML = '';\n",
              "          dataTable['output_type'] = 'display_data';\n",
              "          await google.colab.output.renderOutput(dataTable, element);\n",
              "          const docLink = document.createElement('div');\n",
              "          docLink.innerHTML = docLinkHtml;\n",
              "          element.appendChild(docLink);\n",
              "        }\n",
              "      </script>\n",
              "    </div>\n",
              "  </div>\n",
              "  "
            ]
          },
          "metadata": {},
          "execution_count": 39
        }
      ]
    },
    {
      "cell_type": "code",
      "source": [
        "data1 = {'Name':['Jai', 'Princi', 'Gaurav', 'Anuj'], \n",
        "        'Age':[27, 24, 22, 32], \n",
        "        'Address':['Nagpur', 'Kanpur', 'Allahabad', 'Kannuaj'], \n",
        "        'Qualification':['Msc', 'MA', 'MCA', 'Phd'],\n",
        "        'Mobile No': [97, 91, 58, 76]} \n",
        "   \n",
        "# Define a dictionary containing employee data \n",
        "data2 = {'Name':['Gaurav', 'Anuj', 'Dhiraj', 'Hitesh'], \n",
        "        'Age':[22, 32, 12, 52], \n",
        "        'Address':['Allahabad', 'Kannuaj', 'Allahabad', 'Kannuaj'], \n",
        "        'Qualification':['MCA', 'Phd', 'Bcom', 'B.hons'],\n",
        "        'Salary':[1000, 2000, 3000, 4000]} \n",
        " \n",
        "# Convert the dictionary into DataFrame  \n",
        "df = pd.DataFrame(data1,index=[0, 1, 2, 3])\n",
        " \n",
        "# Convert the dictionary into DataFrame  \n",
        "df1 = pd.DataFrame(data2, index=[2, 3, 6, 7]) \n",
        " \n",
        "print(df, \"\\n\\n\", df1) "
      ],
      "metadata": {
        "colab": {
          "base_uri": "https://localhost:8080/"
        },
        "id": "9lWDW8AiTBGF",
        "outputId": "14a1ddaf-de30-4628-9644-d16722e75b82"
      },
      "execution_count": null,
      "outputs": [
        {
          "output_type": "stream",
          "name": "stdout",
          "text": [
            "     Name  Age    Address Qualification  Mobile No\n",
            "0     Jai   27     Nagpur           Msc         97\n",
            "1  Princi   24     Kanpur            MA         91\n",
            "2  Gaurav   22  Allahabad           MCA         58\n",
            "3    Anuj   32    Kannuaj           Phd         76 \n",
            "\n",
            "      Name  Age    Address Qualification  Salary\n",
            "2  Gaurav   22  Allahabad           MCA    1000\n",
            "3    Anuj   32    Kannuaj           Phd    2000\n",
            "6  Dhiraj   12  Allahabad          Bcom    3000\n",
            "7  Hitesh   52    Kannuaj        B.hons    4000\n"
          ]
        }
      ]
    },
    {
      "cell_type": "code",
      "source": [
        "res2 = pd.concat([df, df1], axis=1, join='inner')\n",
        " \n",
        "res2"
      ],
      "metadata": {
        "colab": {
          "base_uri": "https://localhost:8080/",
          "height": 112
        },
        "id": "elvNzWAUS29r",
        "outputId": "f6db67f8-6180-46df-a1f6-5a056851eea0"
      },
      "execution_count": null,
      "outputs": [
        {
          "output_type": "execute_result",
          "data": {
            "text/plain": [
              "     Name  Age    Address Qualification  Mobile No    Name  Age    Address  \\\n",
              "2  Gaurav   22  Allahabad           MCA         58  Gaurav   22  Allahabad   \n",
              "3    Anuj   32    Kannuaj           Phd         76    Anuj   32    Kannuaj   \n",
              "\n",
              "  Qualification  Salary  \n",
              "2           MCA    1000  \n",
              "3           Phd    2000  "
            ],
            "text/html": [
              "\n",
              "  <div id=\"df-d5d9a75e-6375-45b1-820d-a6c12484b0b3\">\n",
              "    <div class=\"colab-df-container\">\n",
              "      <div>\n",
              "<style scoped>\n",
              "    .dataframe tbody tr th:only-of-type {\n",
              "        vertical-align: middle;\n",
              "    }\n",
              "\n",
              "    .dataframe tbody tr th {\n",
              "        vertical-align: top;\n",
              "    }\n",
              "\n",
              "    .dataframe thead th {\n",
              "        text-align: right;\n",
              "    }\n",
              "</style>\n",
              "<table border=\"1\" class=\"dataframe\">\n",
              "  <thead>\n",
              "    <tr style=\"text-align: right;\">\n",
              "      <th></th>\n",
              "      <th>Name</th>\n",
              "      <th>Age</th>\n",
              "      <th>Address</th>\n",
              "      <th>Qualification</th>\n",
              "      <th>Mobile No</th>\n",
              "      <th>Name</th>\n",
              "      <th>Age</th>\n",
              "      <th>Address</th>\n",
              "      <th>Qualification</th>\n",
              "      <th>Salary</th>\n",
              "    </tr>\n",
              "  </thead>\n",
              "  <tbody>\n",
              "    <tr>\n",
              "      <th>2</th>\n",
              "      <td>Gaurav</td>\n",
              "      <td>22</td>\n",
              "      <td>Allahabad</td>\n",
              "      <td>MCA</td>\n",
              "      <td>58</td>\n",
              "      <td>Gaurav</td>\n",
              "      <td>22</td>\n",
              "      <td>Allahabad</td>\n",
              "      <td>MCA</td>\n",
              "      <td>1000</td>\n",
              "    </tr>\n",
              "    <tr>\n",
              "      <th>3</th>\n",
              "      <td>Anuj</td>\n",
              "      <td>32</td>\n",
              "      <td>Kannuaj</td>\n",
              "      <td>Phd</td>\n",
              "      <td>76</td>\n",
              "      <td>Anuj</td>\n",
              "      <td>32</td>\n",
              "      <td>Kannuaj</td>\n",
              "      <td>Phd</td>\n",
              "      <td>2000</td>\n",
              "    </tr>\n",
              "  </tbody>\n",
              "</table>\n",
              "</div>\n",
              "      <button class=\"colab-df-convert\" onclick=\"convertToInteractive('df-d5d9a75e-6375-45b1-820d-a6c12484b0b3')\"\n",
              "              title=\"Convert this dataframe to an interactive table.\"\n",
              "              style=\"display:none;\">\n",
              "        \n",
              "  <svg xmlns=\"http://www.w3.org/2000/svg\" height=\"24px\"viewBox=\"0 0 24 24\"\n",
              "       width=\"24px\">\n",
              "    <path d=\"M0 0h24v24H0V0z\" fill=\"none\"/>\n",
              "    <path d=\"M18.56 5.44l.94 2.06.94-2.06 2.06-.94-2.06-.94-.94-2.06-.94 2.06-2.06.94zm-11 1L8.5 8.5l.94-2.06 2.06-.94-2.06-.94L8.5 2.5l-.94 2.06-2.06.94zm10 10l.94 2.06.94-2.06 2.06-.94-2.06-.94-.94-2.06-.94 2.06-2.06.94z\"/><path d=\"M17.41 7.96l-1.37-1.37c-.4-.4-.92-.59-1.43-.59-.52 0-1.04.2-1.43.59L10.3 9.45l-7.72 7.72c-.78.78-.78 2.05 0 2.83L4 21.41c.39.39.9.59 1.41.59.51 0 1.02-.2 1.41-.59l7.78-7.78 2.81-2.81c.8-.78.8-2.07 0-2.86zM5.41 20L4 18.59l7.72-7.72 1.47 1.35L5.41 20z\"/>\n",
              "  </svg>\n",
              "      </button>\n",
              "      \n",
              "  <style>\n",
              "    .colab-df-container {\n",
              "      display:flex;\n",
              "      flex-wrap:wrap;\n",
              "      gap: 12px;\n",
              "    }\n",
              "\n",
              "    .colab-df-convert {\n",
              "      background-color: #E8F0FE;\n",
              "      border: none;\n",
              "      border-radius: 50%;\n",
              "      cursor: pointer;\n",
              "      display: none;\n",
              "      fill: #1967D2;\n",
              "      height: 32px;\n",
              "      padding: 0 0 0 0;\n",
              "      width: 32px;\n",
              "    }\n",
              "\n",
              "    .colab-df-convert:hover {\n",
              "      background-color: #E2EBFA;\n",
              "      box-shadow: 0px 1px 2px rgba(60, 64, 67, 0.3), 0px 1px 3px 1px rgba(60, 64, 67, 0.15);\n",
              "      fill: #174EA6;\n",
              "    }\n",
              "\n",
              "    [theme=dark] .colab-df-convert {\n",
              "      background-color: #3B4455;\n",
              "      fill: #D2E3FC;\n",
              "    }\n",
              "\n",
              "    [theme=dark] .colab-df-convert:hover {\n",
              "      background-color: #434B5C;\n",
              "      box-shadow: 0px 1px 3px 1px rgba(0, 0, 0, 0.15);\n",
              "      filter: drop-shadow(0px 1px 2px rgba(0, 0, 0, 0.3));\n",
              "      fill: #FFFFFF;\n",
              "    }\n",
              "  </style>\n",
              "\n",
              "      <script>\n",
              "        const buttonEl =\n",
              "          document.querySelector('#df-d5d9a75e-6375-45b1-820d-a6c12484b0b3 button.colab-df-convert');\n",
              "        buttonEl.style.display =\n",
              "          google.colab.kernel.accessAllowed ? 'block' : 'none';\n",
              "\n",
              "        async function convertToInteractive(key) {\n",
              "          const element = document.querySelector('#df-d5d9a75e-6375-45b1-820d-a6c12484b0b3');\n",
              "          const dataTable =\n",
              "            await google.colab.kernel.invokeFunction('convertToInteractive',\n",
              "                                                     [key], {});\n",
              "          if (!dataTable) return;\n",
              "\n",
              "          const docLinkHtml = 'Like what you see? Visit the ' +\n",
              "            '<a target=\"_blank\" href=https://colab.research.google.com/notebooks/data_table.ipynb>data table notebook</a>'\n",
              "            + ' to learn more about interactive tables.';\n",
              "          element.innerHTML = '';\n",
              "          dataTable['output_type'] = 'display_data';\n",
              "          await google.colab.output.renderOutput(dataTable, element);\n",
              "          const docLink = document.createElement('div');\n",
              "          docLink.innerHTML = docLinkHtml;\n",
              "          element.appendChild(docLink);\n",
              "        }\n",
              "      </script>\n",
              "    </div>\n",
              "  </div>\n",
              "  "
            ]
          },
          "metadata": {},
          "execution_count": 42
        }
      ]
    },
    {
      "cell_type": "code",
      "source": [
        "res2 = pd.concat([df, df1], axis=1, sort=False)\n",
        " \n",
        "res2"
      ],
      "metadata": {
        "colab": {
          "base_uri": "https://localhost:8080/",
          "height": 238
        },
        "id": "0jntAW5gTF7h",
        "outputId": "7c5021a9-1565-43c2-8660-82be840ed947"
      },
      "execution_count": null,
      "outputs": [
        {
          "output_type": "execute_result",
          "data": {
            "text/plain": [
              "     Name   Age    Address Qualification  Mobile No    Name   Age    Address  \\\n",
              "0     Jai  27.0     Nagpur           Msc       97.0     NaN   NaN        NaN   \n",
              "1  Princi  24.0     Kanpur            MA       91.0     NaN   NaN        NaN   \n",
              "2  Gaurav  22.0  Allahabad           MCA       58.0  Gaurav  22.0  Allahabad   \n",
              "3    Anuj  32.0    Kannuaj           Phd       76.0    Anuj  32.0    Kannuaj   \n",
              "6     NaN   NaN        NaN           NaN        NaN  Dhiraj  12.0  Allahabad   \n",
              "7     NaN   NaN        NaN           NaN        NaN  Hitesh  52.0    Kannuaj   \n",
              "\n",
              "  Qualification  Salary  \n",
              "0           NaN     NaN  \n",
              "1           NaN     NaN  \n",
              "2           MCA  1000.0  \n",
              "3           Phd  2000.0  \n",
              "6          Bcom  3000.0  \n",
              "7        B.hons  4000.0  "
            ],
            "text/html": [
              "\n",
              "  <div id=\"df-079a0aa7-943e-458a-8fa2-156a3c6853f7\">\n",
              "    <div class=\"colab-df-container\">\n",
              "      <div>\n",
              "<style scoped>\n",
              "    .dataframe tbody tr th:only-of-type {\n",
              "        vertical-align: middle;\n",
              "    }\n",
              "\n",
              "    .dataframe tbody tr th {\n",
              "        vertical-align: top;\n",
              "    }\n",
              "\n",
              "    .dataframe thead th {\n",
              "        text-align: right;\n",
              "    }\n",
              "</style>\n",
              "<table border=\"1\" class=\"dataframe\">\n",
              "  <thead>\n",
              "    <tr style=\"text-align: right;\">\n",
              "      <th></th>\n",
              "      <th>Name</th>\n",
              "      <th>Age</th>\n",
              "      <th>Address</th>\n",
              "      <th>Qualification</th>\n",
              "      <th>Mobile No</th>\n",
              "      <th>Name</th>\n",
              "      <th>Age</th>\n",
              "      <th>Address</th>\n",
              "      <th>Qualification</th>\n",
              "      <th>Salary</th>\n",
              "    </tr>\n",
              "  </thead>\n",
              "  <tbody>\n",
              "    <tr>\n",
              "      <th>0</th>\n",
              "      <td>Jai</td>\n",
              "      <td>27.0</td>\n",
              "      <td>Nagpur</td>\n",
              "      <td>Msc</td>\n",
              "      <td>97.0</td>\n",
              "      <td>NaN</td>\n",
              "      <td>NaN</td>\n",
              "      <td>NaN</td>\n",
              "      <td>NaN</td>\n",
              "      <td>NaN</td>\n",
              "    </tr>\n",
              "    <tr>\n",
              "      <th>1</th>\n",
              "      <td>Princi</td>\n",
              "      <td>24.0</td>\n",
              "      <td>Kanpur</td>\n",
              "      <td>MA</td>\n",
              "      <td>91.0</td>\n",
              "      <td>NaN</td>\n",
              "      <td>NaN</td>\n",
              "      <td>NaN</td>\n",
              "      <td>NaN</td>\n",
              "      <td>NaN</td>\n",
              "    </tr>\n",
              "    <tr>\n",
              "      <th>2</th>\n",
              "      <td>Gaurav</td>\n",
              "      <td>22.0</td>\n",
              "      <td>Allahabad</td>\n",
              "      <td>MCA</td>\n",
              "      <td>58.0</td>\n",
              "      <td>Gaurav</td>\n",
              "      <td>22.0</td>\n",
              "      <td>Allahabad</td>\n",
              "      <td>MCA</td>\n",
              "      <td>1000.0</td>\n",
              "    </tr>\n",
              "    <tr>\n",
              "      <th>3</th>\n",
              "      <td>Anuj</td>\n",
              "      <td>32.0</td>\n",
              "      <td>Kannuaj</td>\n",
              "      <td>Phd</td>\n",
              "      <td>76.0</td>\n",
              "      <td>Anuj</td>\n",
              "      <td>32.0</td>\n",
              "      <td>Kannuaj</td>\n",
              "      <td>Phd</td>\n",
              "      <td>2000.0</td>\n",
              "    </tr>\n",
              "    <tr>\n",
              "      <th>6</th>\n",
              "      <td>NaN</td>\n",
              "      <td>NaN</td>\n",
              "      <td>NaN</td>\n",
              "      <td>NaN</td>\n",
              "      <td>NaN</td>\n",
              "      <td>Dhiraj</td>\n",
              "      <td>12.0</td>\n",
              "      <td>Allahabad</td>\n",
              "      <td>Bcom</td>\n",
              "      <td>3000.0</td>\n",
              "    </tr>\n",
              "    <tr>\n",
              "      <th>7</th>\n",
              "      <td>NaN</td>\n",
              "      <td>NaN</td>\n",
              "      <td>NaN</td>\n",
              "      <td>NaN</td>\n",
              "      <td>NaN</td>\n",
              "      <td>Hitesh</td>\n",
              "      <td>52.0</td>\n",
              "      <td>Kannuaj</td>\n",
              "      <td>B.hons</td>\n",
              "      <td>4000.0</td>\n",
              "    </tr>\n",
              "  </tbody>\n",
              "</table>\n",
              "</div>\n",
              "      <button class=\"colab-df-convert\" onclick=\"convertToInteractive('df-079a0aa7-943e-458a-8fa2-156a3c6853f7')\"\n",
              "              title=\"Convert this dataframe to an interactive table.\"\n",
              "              style=\"display:none;\">\n",
              "        \n",
              "  <svg xmlns=\"http://www.w3.org/2000/svg\" height=\"24px\"viewBox=\"0 0 24 24\"\n",
              "       width=\"24px\">\n",
              "    <path d=\"M0 0h24v24H0V0z\" fill=\"none\"/>\n",
              "    <path d=\"M18.56 5.44l.94 2.06.94-2.06 2.06-.94-2.06-.94-.94-2.06-.94 2.06-2.06.94zm-11 1L8.5 8.5l.94-2.06 2.06-.94-2.06-.94L8.5 2.5l-.94 2.06-2.06.94zm10 10l.94 2.06.94-2.06 2.06-.94-2.06-.94-.94-2.06-.94 2.06-2.06.94z\"/><path d=\"M17.41 7.96l-1.37-1.37c-.4-.4-.92-.59-1.43-.59-.52 0-1.04.2-1.43.59L10.3 9.45l-7.72 7.72c-.78.78-.78 2.05 0 2.83L4 21.41c.39.39.9.59 1.41.59.51 0 1.02-.2 1.41-.59l7.78-7.78 2.81-2.81c.8-.78.8-2.07 0-2.86zM5.41 20L4 18.59l7.72-7.72 1.47 1.35L5.41 20z\"/>\n",
              "  </svg>\n",
              "      </button>\n",
              "      \n",
              "  <style>\n",
              "    .colab-df-container {\n",
              "      display:flex;\n",
              "      flex-wrap:wrap;\n",
              "      gap: 12px;\n",
              "    }\n",
              "\n",
              "    .colab-df-convert {\n",
              "      background-color: #E8F0FE;\n",
              "      border: none;\n",
              "      border-radius: 50%;\n",
              "      cursor: pointer;\n",
              "      display: none;\n",
              "      fill: #1967D2;\n",
              "      height: 32px;\n",
              "      padding: 0 0 0 0;\n",
              "      width: 32px;\n",
              "    }\n",
              "\n",
              "    .colab-df-convert:hover {\n",
              "      background-color: #E2EBFA;\n",
              "      box-shadow: 0px 1px 2px rgba(60, 64, 67, 0.3), 0px 1px 3px 1px rgba(60, 64, 67, 0.15);\n",
              "      fill: #174EA6;\n",
              "    }\n",
              "\n",
              "    [theme=dark] .colab-df-convert {\n",
              "      background-color: #3B4455;\n",
              "      fill: #D2E3FC;\n",
              "    }\n",
              "\n",
              "    [theme=dark] .colab-df-convert:hover {\n",
              "      background-color: #434B5C;\n",
              "      box-shadow: 0px 1px 3px 1px rgba(0, 0, 0, 0.15);\n",
              "      filter: drop-shadow(0px 1px 2px rgba(0, 0, 0, 0.3));\n",
              "      fill: #FFFFFF;\n",
              "    }\n",
              "  </style>\n",
              "\n",
              "      <script>\n",
              "        const buttonEl =\n",
              "          document.querySelector('#df-079a0aa7-943e-458a-8fa2-156a3c6853f7 button.colab-df-convert');\n",
              "        buttonEl.style.display =\n",
              "          google.colab.kernel.accessAllowed ? 'block' : 'none';\n",
              "\n",
              "        async function convertToInteractive(key) {\n",
              "          const element = document.querySelector('#df-079a0aa7-943e-458a-8fa2-156a3c6853f7');\n",
              "          const dataTable =\n",
              "            await google.colab.kernel.invokeFunction('convertToInteractive',\n",
              "                                                     [key], {});\n",
              "          if (!dataTable) return;\n",
              "\n",
              "          const docLinkHtml = 'Like what you see? Visit the ' +\n",
              "            '<a target=\"_blank\" href=https://colab.research.google.com/notebooks/data_table.ipynb>data table notebook</a>'\n",
              "            + ' to learn more about interactive tables.';\n",
              "          element.innerHTML = '';\n",
              "          dataTable['output_type'] = 'display_data';\n",
              "          await google.colab.output.renderOutput(dataTable, element);\n",
              "          const docLink = document.createElement('div');\n",
              "          docLink.innerHTML = docLinkHtml;\n",
              "          element.appendChild(docLink);\n",
              "        }\n",
              "      </script>\n",
              "    </div>\n",
              "  </div>\n",
              "  "
            ]
          },
          "metadata": {},
          "execution_count": 43
        }
      ]
    },
    {
      "cell_type": "code",
      "source": [
        "data1 = {'Name':['Jai', 'Princi', 'Gaurav', 'Anuj'], \n",
        "        'Age':[27, 24, 22, 32], \n",
        "        'Address':['Nagpur', 'Kanpur', 'Allahabad', 'Kannuaj'], \n",
        "        'Qualification':['Msc', 'MA', 'MCA', 'Phd']} \n",
        "   \n",
        "# Define a dictionary containing employee data \n",
        "data2 = {'Name':['Abhi', 'Ayushi', 'Dhiraj', 'Hitesh'], \n",
        "        'Age':[17, 14, 12, 52], \n",
        "        'Address':['Nagpur', 'Kanpur', 'Allahabad', 'Kannuaj'], \n",
        "        'Qualification':['Btech', 'B.A', 'Bcom', 'B.hons']} \n",
        " \n",
        "# Convert the dictionary into DataFrame  \n",
        "df = pd.DataFrame(data1,index=[0, 1, 2, 3])\n",
        " \n",
        "# Convert the dictionary into DataFrame  \n",
        "df1 = pd.DataFrame(data2, index=[4, 5, 6, 7])\n",
        " \n",
        "print(df, \"\\n\\n\", df1) "
      ],
      "metadata": {
        "colab": {
          "base_uri": "https://localhost:8080/"
        },
        "id": "bNaBOibxTndn",
        "outputId": "0c0a9cda-aba2-4441-fd50-45d791f9fa2d"
      },
      "execution_count": null,
      "outputs": [
        {
          "output_type": "stream",
          "name": "stdout",
          "text": [
            "     Name  Age    Address Qualification\n",
            "0     Jai   27     Nagpur           Msc\n",
            "1  Princi   24     Kanpur            MA\n",
            "2  Gaurav   22  Allahabad           MCA\n",
            "3    Anuj   32    Kannuaj           Phd \n",
            "\n",
            "      Name  Age    Address Qualification\n",
            "4    Abhi   17     Nagpur         Btech\n",
            "5  Ayushi   14     Kanpur           B.A\n",
            "6  Dhiraj   12  Allahabad          Bcom\n",
            "7  Hitesh   52    Kannuaj        B.hons\n"
          ]
        }
      ]
    },
    {
      "cell_type": "code",
      "source": [
        "res = df.append(df1)\n",
        "res"
      ],
      "metadata": {
        "colab": {
          "base_uri": "https://localhost:8080/",
          "height": 300
        },
        "id": "wLptjgGmTnmn",
        "outputId": "ae568dcb-07e7-43be-c36d-5d2b97a2abdf"
      },
      "execution_count": null,
      "outputs": [
        {
          "output_type": "execute_result",
          "data": {
            "text/plain": [
              "     Name  Age    Address Qualification\n",
              "0     Jai   27     Nagpur           Msc\n",
              "1  Princi   24     Kanpur            MA\n",
              "2  Gaurav   22  Allahabad           MCA\n",
              "3    Anuj   32    Kannuaj           Phd\n",
              "4    Abhi   17     Nagpur         Btech\n",
              "5  Ayushi   14     Kanpur           B.A\n",
              "6  Dhiraj   12  Allahabad          Bcom\n",
              "7  Hitesh   52    Kannuaj        B.hons"
            ],
            "text/html": [
              "\n",
              "  <div id=\"df-d192c0c5-b386-452b-be30-a9f7f160d273\">\n",
              "    <div class=\"colab-df-container\">\n",
              "      <div>\n",
              "<style scoped>\n",
              "    .dataframe tbody tr th:only-of-type {\n",
              "        vertical-align: middle;\n",
              "    }\n",
              "\n",
              "    .dataframe tbody tr th {\n",
              "        vertical-align: top;\n",
              "    }\n",
              "\n",
              "    .dataframe thead th {\n",
              "        text-align: right;\n",
              "    }\n",
              "</style>\n",
              "<table border=\"1\" class=\"dataframe\">\n",
              "  <thead>\n",
              "    <tr style=\"text-align: right;\">\n",
              "      <th></th>\n",
              "      <th>Name</th>\n",
              "      <th>Age</th>\n",
              "      <th>Address</th>\n",
              "      <th>Qualification</th>\n",
              "    </tr>\n",
              "  </thead>\n",
              "  <tbody>\n",
              "    <tr>\n",
              "      <th>0</th>\n",
              "      <td>Jai</td>\n",
              "      <td>27</td>\n",
              "      <td>Nagpur</td>\n",
              "      <td>Msc</td>\n",
              "    </tr>\n",
              "    <tr>\n",
              "      <th>1</th>\n",
              "      <td>Princi</td>\n",
              "      <td>24</td>\n",
              "      <td>Kanpur</td>\n",
              "      <td>MA</td>\n",
              "    </tr>\n",
              "    <tr>\n",
              "      <th>2</th>\n",
              "      <td>Gaurav</td>\n",
              "      <td>22</td>\n",
              "      <td>Allahabad</td>\n",
              "      <td>MCA</td>\n",
              "    </tr>\n",
              "    <tr>\n",
              "      <th>3</th>\n",
              "      <td>Anuj</td>\n",
              "      <td>32</td>\n",
              "      <td>Kannuaj</td>\n",
              "      <td>Phd</td>\n",
              "    </tr>\n",
              "    <tr>\n",
              "      <th>4</th>\n",
              "      <td>Abhi</td>\n",
              "      <td>17</td>\n",
              "      <td>Nagpur</td>\n",
              "      <td>Btech</td>\n",
              "    </tr>\n",
              "    <tr>\n",
              "      <th>5</th>\n",
              "      <td>Ayushi</td>\n",
              "      <td>14</td>\n",
              "      <td>Kanpur</td>\n",
              "      <td>B.A</td>\n",
              "    </tr>\n",
              "    <tr>\n",
              "      <th>6</th>\n",
              "      <td>Dhiraj</td>\n",
              "      <td>12</td>\n",
              "      <td>Allahabad</td>\n",
              "      <td>Bcom</td>\n",
              "    </tr>\n",
              "    <tr>\n",
              "      <th>7</th>\n",
              "      <td>Hitesh</td>\n",
              "      <td>52</td>\n",
              "      <td>Kannuaj</td>\n",
              "      <td>B.hons</td>\n",
              "    </tr>\n",
              "  </tbody>\n",
              "</table>\n",
              "</div>\n",
              "      <button class=\"colab-df-convert\" onclick=\"convertToInteractive('df-d192c0c5-b386-452b-be30-a9f7f160d273')\"\n",
              "              title=\"Convert this dataframe to an interactive table.\"\n",
              "              style=\"display:none;\">\n",
              "        \n",
              "  <svg xmlns=\"http://www.w3.org/2000/svg\" height=\"24px\"viewBox=\"0 0 24 24\"\n",
              "       width=\"24px\">\n",
              "    <path d=\"M0 0h24v24H0V0z\" fill=\"none\"/>\n",
              "    <path d=\"M18.56 5.44l.94 2.06.94-2.06 2.06-.94-2.06-.94-.94-2.06-.94 2.06-2.06.94zm-11 1L8.5 8.5l.94-2.06 2.06-.94-2.06-.94L8.5 2.5l-.94 2.06-2.06.94zm10 10l.94 2.06.94-2.06 2.06-.94-2.06-.94-.94-2.06-.94 2.06-2.06.94z\"/><path d=\"M17.41 7.96l-1.37-1.37c-.4-.4-.92-.59-1.43-.59-.52 0-1.04.2-1.43.59L10.3 9.45l-7.72 7.72c-.78.78-.78 2.05 0 2.83L4 21.41c.39.39.9.59 1.41.59.51 0 1.02-.2 1.41-.59l7.78-7.78 2.81-2.81c.8-.78.8-2.07 0-2.86zM5.41 20L4 18.59l7.72-7.72 1.47 1.35L5.41 20z\"/>\n",
              "  </svg>\n",
              "      </button>\n",
              "      \n",
              "  <style>\n",
              "    .colab-df-container {\n",
              "      display:flex;\n",
              "      flex-wrap:wrap;\n",
              "      gap: 12px;\n",
              "    }\n",
              "\n",
              "    .colab-df-convert {\n",
              "      background-color: #E8F0FE;\n",
              "      border: none;\n",
              "      border-radius: 50%;\n",
              "      cursor: pointer;\n",
              "      display: none;\n",
              "      fill: #1967D2;\n",
              "      height: 32px;\n",
              "      padding: 0 0 0 0;\n",
              "      width: 32px;\n",
              "    }\n",
              "\n",
              "    .colab-df-convert:hover {\n",
              "      background-color: #E2EBFA;\n",
              "      box-shadow: 0px 1px 2px rgba(60, 64, 67, 0.3), 0px 1px 3px 1px rgba(60, 64, 67, 0.15);\n",
              "      fill: #174EA6;\n",
              "    }\n",
              "\n",
              "    [theme=dark] .colab-df-convert {\n",
              "      background-color: #3B4455;\n",
              "      fill: #D2E3FC;\n",
              "    }\n",
              "\n",
              "    [theme=dark] .colab-df-convert:hover {\n",
              "      background-color: #434B5C;\n",
              "      box-shadow: 0px 1px 3px 1px rgba(0, 0, 0, 0.15);\n",
              "      filter: drop-shadow(0px 1px 2px rgba(0, 0, 0, 0.3));\n",
              "      fill: #FFFFFF;\n",
              "    }\n",
              "  </style>\n",
              "\n",
              "      <script>\n",
              "        const buttonEl =\n",
              "          document.querySelector('#df-d192c0c5-b386-452b-be30-a9f7f160d273 button.colab-df-convert');\n",
              "        buttonEl.style.display =\n",
              "          google.colab.kernel.accessAllowed ? 'block' : 'none';\n",
              "\n",
              "        async function convertToInteractive(key) {\n",
              "          const element = document.querySelector('#df-d192c0c5-b386-452b-be30-a9f7f160d273');\n",
              "          const dataTable =\n",
              "            await google.colab.kernel.invokeFunction('convertToInteractive',\n",
              "                                                     [key], {});\n",
              "          if (!dataTable) return;\n",
              "\n",
              "          const docLinkHtml = 'Like what you see? Visit the ' +\n",
              "            '<a target=\"_blank\" href=https://colab.research.google.com/notebooks/data_table.ipynb>data table notebook</a>'\n",
              "            + ' to learn more about interactive tables.';\n",
              "          element.innerHTML = '';\n",
              "          dataTable['output_type'] = 'display_data';\n",
              "          await google.colab.output.renderOutput(dataTable, element);\n",
              "          const docLink = document.createElement('div');\n",
              "          docLink.innerHTML = docLinkHtml;\n",
              "          element.appendChild(docLink);\n",
              "        }\n",
              "      </script>\n",
              "    </div>\n",
              "  </div>\n",
              "  "
            ]
          },
          "metadata": {},
          "execution_count": 47
        }
      ]
    },
    {
      "cell_type": "code",
      "source": [
        "data1 = {'Name':['Jai', 'Princi', 'Gaurav', 'Anuj'], \n",
        "        'Age':[27, 24, 22, 32], \n",
        "        'Address':['Nagpur', 'Kanpur', 'Allahabad', 'Kannuaj'], \n",
        "        'Qualification':['Msc', 'MA', 'MCA', 'Phd'],\n",
        "        'Mobile No': [97, 91, 58, 76]} \n",
        "    \n",
        "# Define a dictionary containing employee data \n",
        "data2 = {'Name':['Gaurav', 'Anuj', 'Dhiraj', 'Hitesh'], \n",
        "        'Age':[22, 32, 12, 52], \n",
        "        'Address':['Allahabad', 'Kannuaj', 'Allahabad', 'Kannuaj'], \n",
        "        'Qualification':['MCA', 'Phd', 'Bcom', 'B.hons'],\n",
        "        'Salary':[1000, 2000, 3000, 4000]} \n",
        "  \n",
        "# Convert the dictionary into DataFrame  \n",
        "df = pd.DataFrame(data1,index=[0, 1, 2, 3])\n",
        "  \n",
        "# Convert the dictionary into DataFrame  \n",
        "df1 = pd.DataFrame(data2, index=[2, 3, 6, 7]) \n",
        "  \n",
        "  \n",
        "print(df, \"\\n\\n\", df1) "
      ],
      "metadata": {
        "colab": {
          "base_uri": "https://localhost:8080/"
        },
        "id": "QGA_mcF-TyUh",
        "outputId": "3881d7e5-1f4d-4aa1-c3f5-ea01d78271b9"
      },
      "execution_count": null,
      "outputs": [
        {
          "output_type": "stream",
          "name": "stdout",
          "text": [
            "     Name  Age    Address Qualification  Mobile No\n",
            "0     Jai   27     Nagpur           Msc         97\n",
            "1  Princi   24     Kanpur            MA         91\n",
            "2  Gaurav   22  Allahabad           MCA         58\n",
            "3    Anuj   32    Kannuaj           Phd         76 \n",
            "\n",
            "      Name  Age    Address Qualification  Salary\n",
            "2  Gaurav   22  Allahabad           MCA    1000\n",
            "3    Anuj   32    Kannuaj           Phd    2000\n",
            "6  Dhiraj   12  Allahabad          Bcom    3000\n",
            "7  Hitesh   52    Kannuaj        B.hons    4000\n"
          ]
        }
      ]
    },
    {
      "cell_type": "code",
      "source": [
        "res = pd.concat([df, df1], ignore_index=True)\n",
        " \n",
        "res"
      ],
      "metadata": {
        "colab": {
          "base_uri": "https://localhost:8080/",
          "height": 300
        },
        "id": "UMQwPkcDT3Qu",
        "outputId": "cb5a0424-e9fb-46b4-a426-71fa9690574b"
      },
      "execution_count": null,
      "outputs": [
        {
          "output_type": "execute_result",
          "data": {
            "text/plain": [
              "     Name  Age    Address Qualification  Mobile No  Salary\n",
              "0     Jai   27     Nagpur           Msc       97.0     NaN\n",
              "1  Princi   24     Kanpur            MA       91.0     NaN\n",
              "2  Gaurav   22  Allahabad           MCA       58.0     NaN\n",
              "3    Anuj   32    Kannuaj           Phd       76.0     NaN\n",
              "4  Gaurav   22  Allahabad           MCA        NaN  1000.0\n",
              "5    Anuj   32    Kannuaj           Phd        NaN  2000.0\n",
              "6  Dhiraj   12  Allahabad          Bcom        NaN  3000.0\n",
              "7  Hitesh   52    Kannuaj        B.hons        NaN  4000.0"
            ],
            "text/html": [
              "\n",
              "  <div id=\"df-8bacad02-88f7-49bb-9e0f-3bcd27dbf1f7\">\n",
              "    <div class=\"colab-df-container\">\n",
              "      <div>\n",
              "<style scoped>\n",
              "    .dataframe tbody tr th:only-of-type {\n",
              "        vertical-align: middle;\n",
              "    }\n",
              "\n",
              "    .dataframe tbody tr th {\n",
              "        vertical-align: top;\n",
              "    }\n",
              "\n",
              "    .dataframe thead th {\n",
              "        text-align: right;\n",
              "    }\n",
              "</style>\n",
              "<table border=\"1\" class=\"dataframe\">\n",
              "  <thead>\n",
              "    <tr style=\"text-align: right;\">\n",
              "      <th></th>\n",
              "      <th>Name</th>\n",
              "      <th>Age</th>\n",
              "      <th>Address</th>\n",
              "      <th>Qualification</th>\n",
              "      <th>Mobile No</th>\n",
              "      <th>Salary</th>\n",
              "    </tr>\n",
              "  </thead>\n",
              "  <tbody>\n",
              "    <tr>\n",
              "      <th>0</th>\n",
              "      <td>Jai</td>\n",
              "      <td>27</td>\n",
              "      <td>Nagpur</td>\n",
              "      <td>Msc</td>\n",
              "      <td>97.0</td>\n",
              "      <td>NaN</td>\n",
              "    </tr>\n",
              "    <tr>\n",
              "      <th>1</th>\n",
              "      <td>Princi</td>\n",
              "      <td>24</td>\n",
              "      <td>Kanpur</td>\n",
              "      <td>MA</td>\n",
              "      <td>91.0</td>\n",
              "      <td>NaN</td>\n",
              "    </tr>\n",
              "    <tr>\n",
              "      <th>2</th>\n",
              "      <td>Gaurav</td>\n",
              "      <td>22</td>\n",
              "      <td>Allahabad</td>\n",
              "      <td>MCA</td>\n",
              "      <td>58.0</td>\n",
              "      <td>NaN</td>\n",
              "    </tr>\n",
              "    <tr>\n",
              "      <th>3</th>\n",
              "      <td>Anuj</td>\n",
              "      <td>32</td>\n",
              "      <td>Kannuaj</td>\n",
              "      <td>Phd</td>\n",
              "      <td>76.0</td>\n",
              "      <td>NaN</td>\n",
              "    </tr>\n",
              "    <tr>\n",
              "      <th>4</th>\n",
              "      <td>Gaurav</td>\n",
              "      <td>22</td>\n",
              "      <td>Allahabad</td>\n",
              "      <td>MCA</td>\n",
              "      <td>NaN</td>\n",
              "      <td>1000.0</td>\n",
              "    </tr>\n",
              "    <tr>\n",
              "      <th>5</th>\n",
              "      <td>Anuj</td>\n",
              "      <td>32</td>\n",
              "      <td>Kannuaj</td>\n",
              "      <td>Phd</td>\n",
              "      <td>NaN</td>\n",
              "      <td>2000.0</td>\n",
              "    </tr>\n",
              "    <tr>\n",
              "      <th>6</th>\n",
              "      <td>Dhiraj</td>\n",
              "      <td>12</td>\n",
              "      <td>Allahabad</td>\n",
              "      <td>Bcom</td>\n",
              "      <td>NaN</td>\n",
              "      <td>3000.0</td>\n",
              "    </tr>\n",
              "    <tr>\n",
              "      <th>7</th>\n",
              "      <td>Hitesh</td>\n",
              "      <td>52</td>\n",
              "      <td>Kannuaj</td>\n",
              "      <td>B.hons</td>\n",
              "      <td>NaN</td>\n",
              "      <td>4000.0</td>\n",
              "    </tr>\n",
              "  </tbody>\n",
              "</table>\n",
              "</div>\n",
              "      <button class=\"colab-df-convert\" onclick=\"convertToInteractive('df-8bacad02-88f7-49bb-9e0f-3bcd27dbf1f7')\"\n",
              "              title=\"Convert this dataframe to an interactive table.\"\n",
              "              style=\"display:none;\">\n",
              "        \n",
              "  <svg xmlns=\"http://www.w3.org/2000/svg\" height=\"24px\"viewBox=\"0 0 24 24\"\n",
              "       width=\"24px\">\n",
              "    <path d=\"M0 0h24v24H0V0z\" fill=\"none\"/>\n",
              "    <path d=\"M18.56 5.44l.94 2.06.94-2.06 2.06-.94-2.06-.94-.94-2.06-.94 2.06-2.06.94zm-11 1L8.5 8.5l.94-2.06 2.06-.94-2.06-.94L8.5 2.5l-.94 2.06-2.06.94zm10 10l.94 2.06.94-2.06 2.06-.94-2.06-.94-.94-2.06-.94 2.06-2.06.94z\"/><path d=\"M17.41 7.96l-1.37-1.37c-.4-.4-.92-.59-1.43-.59-.52 0-1.04.2-1.43.59L10.3 9.45l-7.72 7.72c-.78.78-.78 2.05 0 2.83L4 21.41c.39.39.9.59 1.41.59.51 0 1.02-.2 1.41-.59l7.78-7.78 2.81-2.81c.8-.78.8-2.07 0-2.86zM5.41 20L4 18.59l7.72-7.72 1.47 1.35L5.41 20z\"/>\n",
              "  </svg>\n",
              "      </button>\n",
              "      \n",
              "  <style>\n",
              "    .colab-df-container {\n",
              "      display:flex;\n",
              "      flex-wrap:wrap;\n",
              "      gap: 12px;\n",
              "    }\n",
              "\n",
              "    .colab-df-convert {\n",
              "      background-color: #E8F0FE;\n",
              "      border: none;\n",
              "      border-radius: 50%;\n",
              "      cursor: pointer;\n",
              "      display: none;\n",
              "      fill: #1967D2;\n",
              "      height: 32px;\n",
              "      padding: 0 0 0 0;\n",
              "      width: 32px;\n",
              "    }\n",
              "\n",
              "    .colab-df-convert:hover {\n",
              "      background-color: #E2EBFA;\n",
              "      box-shadow: 0px 1px 2px rgba(60, 64, 67, 0.3), 0px 1px 3px 1px rgba(60, 64, 67, 0.15);\n",
              "      fill: #174EA6;\n",
              "    }\n",
              "\n",
              "    [theme=dark] .colab-df-convert {\n",
              "      background-color: #3B4455;\n",
              "      fill: #D2E3FC;\n",
              "    }\n",
              "\n",
              "    [theme=dark] .colab-df-convert:hover {\n",
              "      background-color: #434B5C;\n",
              "      box-shadow: 0px 1px 3px 1px rgba(0, 0, 0, 0.15);\n",
              "      filter: drop-shadow(0px 1px 2px rgba(0, 0, 0, 0.3));\n",
              "      fill: #FFFFFF;\n",
              "    }\n",
              "  </style>\n",
              "\n",
              "      <script>\n",
              "        const buttonEl =\n",
              "          document.querySelector('#df-8bacad02-88f7-49bb-9e0f-3bcd27dbf1f7 button.colab-df-convert');\n",
              "        buttonEl.style.display =\n",
              "          google.colab.kernel.accessAllowed ? 'block' : 'none';\n",
              "\n",
              "        async function convertToInteractive(key) {\n",
              "          const element = document.querySelector('#df-8bacad02-88f7-49bb-9e0f-3bcd27dbf1f7');\n",
              "          const dataTable =\n",
              "            await google.colab.kernel.invokeFunction('convertToInteractive',\n",
              "                                                     [key], {});\n",
              "          if (!dataTable) return;\n",
              "\n",
              "          const docLinkHtml = 'Like what you see? Visit the ' +\n",
              "            '<a target=\"_blank\" href=https://colab.research.google.com/notebooks/data_table.ipynb>data table notebook</a>'\n",
              "            + ' to learn more about interactive tables.';\n",
              "          element.innerHTML = '';\n",
              "          dataTable['output_type'] = 'display_data';\n",
              "          await google.colab.output.renderOutput(dataTable, element);\n",
              "          const docLink = document.createElement('div');\n",
              "          docLink.innerHTML = docLinkHtml;\n",
              "          element.appendChild(docLink);\n",
              "        }\n",
              "      </script>\n",
              "    </div>\n",
              "  </div>\n",
              "  "
            ]
          },
          "metadata": {},
          "execution_count": 49
        }
      ]
    },
    {
      "cell_type": "code",
      "source": [
        "res = pd.concat([df, df1], ignore_index=True)\n",
        " \n",
        "res"
      ],
      "metadata": {
        "colab": {
          "base_uri": "https://localhost:8080/",
          "height": 300
        },
        "id": "Q6LdXTXpT8eT",
        "outputId": "da6311b7-2dbe-4c52-bafa-2eba046ee298"
      },
      "execution_count": null,
      "outputs": [
        {
          "output_type": "execute_result",
          "data": {
            "text/plain": [
              "     Name  Age    Address Qualification  Mobile No  Salary\n",
              "0     Jai   27     Nagpur           Msc       97.0     NaN\n",
              "1  Princi   24     Kanpur            MA       91.0     NaN\n",
              "2  Gaurav   22  Allahabad           MCA       58.0     NaN\n",
              "3    Anuj   32    Kannuaj           Phd       76.0     NaN\n",
              "4  Gaurav   22  Allahabad           MCA        NaN  1000.0\n",
              "5    Anuj   32    Kannuaj           Phd        NaN  2000.0\n",
              "6  Dhiraj   12  Allahabad          Bcom        NaN  3000.0\n",
              "7  Hitesh   52    Kannuaj        B.hons        NaN  4000.0"
            ],
            "text/html": [
              "\n",
              "  <div id=\"df-f6067140-76a6-492d-b54b-2d30b36cdffa\">\n",
              "    <div class=\"colab-df-container\">\n",
              "      <div>\n",
              "<style scoped>\n",
              "    .dataframe tbody tr th:only-of-type {\n",
              "        vertical-align: middle;\n",
              "    }\n",
              "\n",
              "    .dataframe tbody tr th {\n",
              "        vertical-align: top;\n",
              "    }\n",
              "\n",
              "    .dataframe thead th {\n",
              "        text-align: right;\n",
              "    }\n",
              "</style>\n",
              "<table border=\"1\" class=\"dataframe\">\n",
              "  <thead>\n",
              "    <tr style=\"text-align: right;\">\n",
              "      <th></th>\n",
              "      <th>Name</th>\n",
              "      <th>Age</th>\n",
              "      <th>Address</th>\n",
              "      <th>Qualification</th>\n",
              "      <th>Mobile No</th>\n",
              "      <th>Salary</th>\n",
              "    </tr>\n",
              "  </thead>\n",
              "  <tbody>\n",
              "    <tr>\n",
              "      <th>0</th>\n",
              "      <td>Jai</td>\n",
              "      <td>27</td>\n",
              "      <td>Nagpur</td>\n",
              "      <td>Msc</td>\n",
              "      <td>97.0</td>\n",
              "      <td>NaN</td>\n",
              "    </tr>\n",
              "    <tr>\n",
              "      <th>1</th>\n",
              "      <td>Princi</td>\n",
              "      <td>24</td>\n",
              "      <td>Kanpur</td>\n",
              "      <td>MA</td>\n",
              "      <td>91.0</td>\n",
              "      <td>NaN</td>\n",
              "    </tr>\n",
              "    <tr>\n",
              "      <th>2</th>\n",
              "      <td>Gaurav</td>\n",
              "      <td>22</td>\n",
              "      <td>Allahabad</td>\n",
              "      <td>MCA</td>\n",
              "      <td>58.0</td>\n",
              "      <td>NaN</td>\n",
              "    </tr>\n",
              "    <tr>\n",
              "      <th>3</th>\n",
              "      <td>Anuj</td>\n",
              "      <td>32</td>\n",
              "      <td>Kannuaj</td>\n",
              "      <td>Phd</td>\n",
              "      <td>76.0</td>\n",
              "      <td>NaN</td>\n",
              "    </tr>\n",
              "    <tr>\n",
              "      <th>4</th>\n",
              "      <td>Gaurav</td>\n",
              "      <td>22</td>\n",
              "      <td>Allahabad</td>\n",
              "      <td>MCA</td>\n",
              "      <td>NaN</td>\n",
              "      <td>1000.0</td>\n",
              "    </tr>\n",
              "    <tr>\n",
              "      <th>5</th>\n",
              "      <td>Anuj</td>\n",
              "      <td>32</td>\n",
              "      <td>Kannuaj</td>\n",
              "      <td>Phd</td>\n",
              "      <td>NaN</td>\n",
              "      <td>2000.0</td>\n",
              "    </tr>\n",
              "    <tr>\n",
              "      <th>6</th>\n",
              "      <td>Dhiraj</td>\n",
              "      <td>12</td>\n",
              "      <td>Allahabad</td>\n",
              "      <td>Bcom</td>\n",
              "      <td>NaN</td>\n",
              "      <td>3000.0</td>\n",
              "    </tr>\n",
              "    <tr>\n",
              "      <th>7</th>\n",
              "      <td>Hitesh</td>\n",
              "      <td>52</td>\n",
              "      <td>Kannuaj</td>\n",
              "      <td>B.hons</td>\n",
              "      <td>NaN</td>\n",
              "      <td>4000.0</td>\n",
              "    </tr>\n",
              "  </tbody>\n",
              "</table>\n",
              "</div>\n",
              "      <button class=\"colab-df-convert\" onclick=\"convertToInteractive('df-f6067140-76a6-492d-b54b-2d30b36cdffa')\"\n",
              "              title=\"Convert this dataframe to an interactive table.\"\n",
              "              style=\"display:none;\">\n",
              "        \n",
              "  <svg xmlns=\"http://www.w3.org/2000/svg\" height=\"24px\"viewBox=\"0 0 24 24\"\n",
              "       width=\"24px\">\n",
              "    <path d=\"M0 0h24v24H0V0z\" fill=\"none\"/>\n",
              "    <path d=\"M18.56 5.44l.94 2.06.94-2.06 2.06-.94-2.06-.94-.94-2.06-.94 2.06-2.06.94zm-11 1L8.5 8.5l.94-2.06 2.06-.94-2.06-.94L8.5 2.5l-.94 2.06-2.06.94zm10 10l.94 2.06.94-2.06 2.06-.94-2.06-.94-.94-2.06-.94 2.06-2.06.94z\"/><path d=\"M17.41 7.96l-1.37-1.37c-.4-.4-.92-.59-1.43-.59-.52 0-1.04.2-1.43.59L10.3 9.45l-7.72 7.72c-.78.78-.78 2.05 0 2.83L4 21.41c.39.39.9.59 1.41.59.51 0 1.02-.2 1.41-.59l7.78-7.78 2.81-2.81c.8-.78.8-2.07 0-2.86zM5.41 20L4 18.59l7.72-7.72 1.47 1.35L5.41 20z\"/>\n",
              "  </svg>\n",
              "      </button>\n",
              "      \n",
              "  <style>\n",
              "    .colab-df-container {\n",
              "      display:flex;\n",
              "      flex-wrap:wrap;\n",
              "      gap: 12px;\n",
              "    }\n",
              "\n",
              "    .colab-df-convert {\n",
              "      background-color: #E8F0FE;\n",
              "      border: none;\n",
              "      border-radius: 50%;\n",
              "      cursor: pointer;\n",
              "      display: none;\n",
              "      fill: #1967D2;\n",
              "      height: 32px;\n",
              "      padding: 0 0 0 0;\n",
              "      width: 32px;\n",
              "    }\n",
              "\n",
              "    .colab-df-convert:hover {\n",
              "      background-color: #E2EBFA;\n",
              "      box-shadow: 0px 1px 2px rgba(60, 64, 67, 0.3), 0px 1px 3px 1px rgba(60, 64, 67, 0.15);\n",
              "      fill: #174EA6;\n",
              "    }\n",
              "\n",
              "    [theme=dark] .colab-df-convert {\n",
              "      background-color: #3B4455;\n",
              "      fill: #D2E3FC;\n",
              "    }\n",
              "\n",
              "    [theme=dark] .colab-df-convert:hover {\n",
              "      background-color: #434B5C;\n",
              "      box-shadow: 0px 1px 3px 1px rgba(0, 0, 0, 0.15);\n",
              "      filter: drop-shadow(0px 1px 2px rgba(0, 0, 0, 0.3));\n",
              "      fill: #FFFFFF;\n",
              "    }\n",
              "  </style>\n",
              "\n",
              "      <script>\n",
              "        const buttonEl =\n",
              "          document.querySelector('#df-f6067140-76a6-492d-b54b-2d30b36cdffa button.colab-df-convert');\n",
              "        buttonEl.style.display =\n",
              "          google.colab.kernel.accessAllowed ? 'block' : 'none';\n",
              "\n",
              "        async function convertToInteractive(key) {\n",
              "          const element = document.querySelector('#df-f6067140-76a6-492d-b54b-2d30b36cdffa');\n",
              "          const dataTable =\n",
              "            await google.colab.kernel.invokeFunction('convertToInteractive',\n",
              "                                                     [key], {});\n",
              "          if (!dataTable) return;\n",
              "\n",
              "          const docLinkHtml = 'Like what you see? Visit the ' +\n",
              "            '<a target=\"_blank\" href=https://colab.research.google.com/notebooks/data_table.ipynb>data table notebook</a>'\n",
              "            + ' to learn more about interactive tables.';\n",
              "          element.innerHTML = '';\n",
              "          dataTable['output_type'] = 'display_data';\n",
              "          await google.colab.output.renderOutput(dataTable, element);\n",
              "          const docLink = document.createElement('div');\n",
              "          docLink.innerHTML = docLinkHtml;\n",
              "          element.appendChild(docLink);\n",
              "        }\n",
              "      </script>\n",
              "    </div>\n",
              "  </div>\n",
              "  "
            ]
          },
          "metadata": {},
          "execution_count": 52
        }
      ]
    },
    {
      "cell_type": "code",
      "source": [
        "data1 = {'Name':['Jai', 'Princi', 'Gaurav', 'Anuj'], \n",
        "        'Age':[27, 24, 22, 32], \n",
        "        'Address':['Nagpur', 'Kanpur', 'Allahabad', 'Kannuaj'], \n",
        "        'Qualification':['Msc', 'MA', 'MCA', 'Phd']} \n",
        "   \n",
        "# Define a dictionary containing employee data \n",
        "data2 = {'Name':['Abhi', 'Ayushi', 'Dhiraj', 'Hitesh'], \n",
        "        'Age':[17, 14, 12, 52], \n",
        "        'Address':['Nagpur', 'Kanpur', 'Allahabad', 'Kannuaj'], \n",
        "        'Qualification':['Btech', 'B.A', 'Bcom', 'B.hons']} \n",
        " \n",
        "# Convert the dictionary into DataFrame  \n",
        "df = pd.DataFrame(data1,index=[0, 1, 2, 3])\n",
        " \n",
        "# Convert the dictionary into DataFrame  \n",
        "df1 = pd.DataFrame(data2, index=[4, 5, 6, 7])\n",
        " \n",
        "print(df, \"\\n\\n\", df1)  "
      ],
      "metadata": {
        "colab": {
          "base_uri": "https://localhost:8080/"
        },
        "id": "jWnxgrJkUQqE",
        "outputId": "5f9d6bdd-ce7a-4f45-edf7-25260939605a"
      },
      "execution_count": null,
      "outputs": [
        {
          "output_type": "stream",
          "name": "stdout",
          "text": [
            "     Name  Age    Address Qualification\n",
            "0     Jai   27     Nagpur           Msc\n",
            "1  Princi   24     Kanpur            MA\n",
            "2  Gaurav   22  Allahabad           MCA\n",
            "3    Anuj   32    Kannuaj           Phd \n",
            "\n",
            "      Name  Age    Address Qualification\n",
            "4    Abhi   17     Nagpur         Btech\n",
            "5  Ayushi   14     Kanpur           B.A\n",
            "6  Dhiraj   12  Allahabad          Bcom\n",
            "7  Hitesh   52    Kannuaj        B.hons\n"
          ]
        }
      ]
    },
    {
      "cell_type": "code",
      "source": [
        "frames = [df, df1 ]\n",
        " \n",
        "res = pd.concat(frames, keys=['x', 'y'])\n",
        "res"
      ],
      "metadata": {
        "colab": {
          "base_uri": "https://localhost:8080/",
          "height": 300
        },
        "id": "suLDpC9nUTUs",
        "outputId": "38f798bd-f59e-4488-eea3-0fdd3e6c26f1"
      },
      "execution_count": null,
      "outputs": [
        {
          "output_type": "execute_result",
          "data": {
            "text/plain": [
              "       Name  Age    Address Qualification\n",
              "x 0     Jai   27     Nagpur           Msc\n",
              "  1  Princi   24     Kanpur            MA\n",
              "  2  Gaurav   22  Allahabad           MCA\n",
              "  3    Anuj   32    Kannuaj           Phd\n",
              "y 4    Abhi   17     Nagpur         Btech\n",
              "  5  Ayushi   14     Kanpur           B.A\n",
              "  6  Dhiraj   12  Allahabad          Bcom\n",
              "  7  Hitesh   52    Kannuaj        B.hons"
            ],
            "text/html": [
              "\n",
              "  <div id=\"df-24646950-ba67-4ba3-aec4-bd9782032bb1\">\n",
              "    <div class=\"colab-df-container\">\n",
              "      <div>\n",
              "<style scoped>\n",
              "    .dataframe tbody tr th:only-of-type {\n",
              "        vertical-align: middle;\n",
              "    }\n",
              "\n",
              "    .dataframe tbody tr th {\n",
              "        vertical-align: top;\n",
              "    }\n",
              "\n",
              "    .dataframe thead th {\n",
              "        text-align: right;\n",
              "    }\n",
              "</style>\n",
              "<table border=\"1\" class=\"dataframe\">\n",
              "  <thead>\n",
              "    <tr style=\"text-align: right;\">\n",
              "      <th></th>\n",
              "      <th></th>\n",
              "      <th>Name</th>\n",
              "      <th>Age</th>\n",
              "      <th>Address</th>\n",
              "      <th>Qualification</th>\n",
              "    </tr>\n",
              "  </thead>\n",
              "  <tbody>\n",
              "    <tr>\n",
              "      <th rowspan=\"4\" valign=\"top\">x</th>\n",
              "      <th>0</th>\n",
              "      <td>Jai</td>\n",
              "      <td>27</td>\n",
              "      <td>Nagpur</td>\n",
              "      <td>Msc</td>\n",
              "    </tr>\n",
              "    <tr>\n",
              "      <th>1</th>\n",
              "      <td>Princi</td>\n",
              "      <td>24</td>\n",
              "      <td>Kanpur</td>\n",
              "      <td>MA</td>\n",
              "    </tr>\n",
              "    <tr>\n",
              "      <th>2</th>\n",
              "      <td>Gaurav</td>\n",
              "      <td>22</td>\n",
              "      <td>Allahabad</td>\n",
              "      <td>MCA</td>\n",
              "    </tr>\n",
              "    <tr>\n",
              "      <th>3</th>\n",
              "      <td>Anuj</td>\n",
              "      <td>32</td>\n",
              "      <td>Kannuaj</td>\n",
              "      <td>Phd</td>\n",
              "    </tr>\n",
              "    <tr>\n",
              "      <th rowspan=\"4\" valign=\"top\">y</th>\n",
              "      <th>4</th>\n",
              "      <td>Abhi</td>\n",
              "      <td>17</td>\n",
              "      <td>Nagpur</td>\n",
              "      <td>Btech</td>\n",
              "    </tr>\n",
              "    <tr>\n",
              "      <th>5</th>\n",
              "      <td>Ayushi</td>\n",
              "      <td>14</td>\n",
              "      <td>Kanpur</td>\n",
              "      <td>B.A</td>\n",
              "    </tr>\n",
              "    <tr>\n",
              "      <th>6</th>\n",
              "      <td>Dhiraj</td>\n",
              "      <td>12</td>\n",
              "      <td>Allahabad</td>\n",
              "      <td>Bcom</td>\n",
              "    </tr>\n",
              "    <tr>\n",
              "      <th>7</th>\n",
              "      <td>Hitesh</td>\n",
              "      <td>52</td>\n",
              "      <td>Kannuaj</td>\n",
              "      <td>B.hons</td>\n",
              "    </tr>\n",
              "  </tbody>\n",
              "</table>\n",
              "</div>\n",
              "      <button class=\"colab-df-convert\" onclick=\"convertToInteractive('df-24646950-ba67-4ba3-aec4-bd9782032bb1')\"\n",
              "              title=\"Convert this dataframe to an interactive table.\"\n",
              "              style=\"display:none;\">\n",
              "        \n",
              "  <svg xmlns=\"http://www.w3.org/2000/svg\" height=\"24px\"viewBox=\"0 0 24 24\"\n",
              "       width=\"24px\">\n",
              "    <path d=\"M0 0h24v24H0V0z\" fill=\"none\"/>\n",
              "    <path d=\"M18.56 5.44l.94 2.06.94-2.06 2.06-.94-2.06-.94-.94-2.06-.94 2.06-2.06.94zm-11 1L8.5 8.5l.94-2.06 2.06-.94-2.06-.94L8.5 2.5l-.94 2.06-2.06.94zm10 10l.94 2.06.94-2.06 2.06-.94-2.06-.94-.94-2.06-.94 2.06-2.06.94z\"/><path d=\"M17.41 7.96l-1.37-1.37c-.4-.4-.92-.59-1.43-.59-.52 0-1.04.2-1.43.59L10.3 9.45l-7.72 7.72c-.78.78-.78 2.05 0 2.83L4 21.41c.39.39.9.59 1.41.59.51 0 1.02-.2 1.41-.59l7.78-7.78 2.81-2.81c.8-.78.8-2.07 0-2.86zM5.41 20L4 18.59l7.72-7.72 1.47 1.35L5.41 20z\"/>\n",
              "  </svg>\n",
              "      </button>\n",
              "      \n",
              "  <style>\n",
              "    .colab-df-container {\n",
              "      display:flex;\n",
              "      flex-wrap:wrap;\n",
              "      gap: 12px;\n",
              "    }\n",
              "\n",
              "    .colab-df-convert {\n",
              "      background-color: #E8F0FE;\n",
              "      border: none;\n",
              "      border-radius: 50%;\n",
              "      cursor: pointer;\n",
              "      display: none;\n",
              "      fill: #1967D2;\n",
              "      height: 32px;\n",
              "      padding: 0 0 0 0;\n",
              "      width: 32px;\n",
              "    }\n",
              "\n",
              "    .colab-df-convert:hover {\n",
              "      background-color: #E2EBFA;\n",
              "      box-shadow: 0px 1px 2px rgba(60, 64, 67, 0.3), 0px 1px 3px 1px rgba(60, 64, 67, 0.15);\n",
              "      fill: #174EA6;\n",
              "    }\n",
              "\n",
              "    [theme=dark] .colab-df-convert {\n",
              "      background-color: #3B4455;\n",
              "      fill: #D2E3FC;\n",
              "    }\n",
              "\n",
              "    [theme=dark] .colab-df-convert:hover {\n",
              "      background-color: #434B5C;\n",
              "      box-shadow: 0px 1px 3px 1px rgba(0, 0, 0, 0.15);\n",
              "      filter: drop-shadow(0px 1px 2px rgba(0, 0, 0, 0.3));\n",
              "      fill: #FFFFFF;\n",
              "    }\n",
              "  </style>\n",
              "\n",
              "      <script>\n",
              "        const buttonEl =\n",
              "          document.querySelector('#df-24646950-ba67-4ba3-aec4-bd9782032bb1 button.colab-df-convert');\n",
              "        buttonEl.style.display =\n",
              "          google.colab.kernel.accessAllowed ? 'block' : 'none';\n",
              "\n",
              "        async function convertToInteractive(key) {\n",
              "          const element = document.querySelector('#df-24646950-ba67-4ba3-aec4-bd9782032bb1');\n",
              "          const dataTable =\n",
              "            await google.colab.kernel.invokeFunction('convertToInteractive',\n",
              "                                                     [key], {});\n",
              "          if (!dataTable) return;\n",
              "\n",
              "          const docLinkHtml = 'Like what you see? Visit the ' +\n",
              "            '<a target=\"_blank\" href=https://colab.research.google.com/notebooks/data_table.ipynb>data table notebook</a>'\n",
              "            + ' to learn more about interactive tables.';\n",
              "          element.innerHTML = '';\n",
              "          dataTable['output_type'] = 'display_data';\n",
              "          await google.colab.output.renderOutput(dataTable, element);\n",
              "          const docLink = document.createElement('div');\n",
              "          docLink.innerHTML = docLinkHtml;\n",
              "          element.appendChild(docLink);\n",
              "        }\n",
              "      </script>\n",
              "    </div>\n",
              "  </div>\n",
              "  "
            ]
          },
          "metadata": {},
          "execution_count": 54
        }
      ]
    },
    {
      "cell_type": "code",
      "source": [
        "import pandas as pd \n",
        " \n",
        "# Define a dictionary containing employee data \n",
        "data1 = {'Name':['Jai', 'Princi', 'Gaurav', 'Anuj'], \n",
        "        'Age':[27, 24, 22, 32], \n",
        "        'Address':['Nagpur', 'Kanpur', 'Allahabad', 'Kannuaj'], \n",
        "        'Qualification':['Msc', 'MA', 'MCA', 'Phd']} \n",
        "   \n",
        "# Convert the dictionary into DataFrame  \n",
        "df = pd.DataFrame(data1,index=[0, 1, 2, 3])\n",
        " \n",
        "# creating a series\n",
        "s1 = pd.Series([1000, 2000, 3000, 4000], name='Salary')\n",
        " \n",
        "print(df, \"\\n\\n\", s1) \n",
        "\n",
        "# combining series and dataframe\n",
        "res = pd.concat([df, s1], axis=1)\n",
        " \n",
        "res"
      ],
      "metadata": {
        "colab": {
          "base_uri": "https://localhost:8080/",
          "height": 366
        },
        "id": "hP6aEVhC3ugH",
        "outputId": "f2dfac87-9722-4c4e-ae74-80649228bf7b"
      },
      "execution_count": null,
      "outputs": [
        {
          "output_type": "stream",
          "name": "stdout",
          "text": [
            "     Name  Age    Address Qualification\n",
            "0     Jai   27     Nagpur           Msc\n",
            "1  Princi   24     Kanpur            MA\n",
            "2  Gaurav   22  Allahabad           MCA\n",
            "3    Anuj   32    Kannuaj           Phd \n",
            "\n",
            " 0    1000\n",
            "1    2000\n",
            "2    3000\n",
            "3    4000\n",
            "Name: Salary, dtype: int64\n"
          ]
        },
        {
          "output_type": "execute_result",
          "data": {
            "text/plain": [
              "     Name  Age    Address Qualification  Salary\n",
              "0     Jai   27     Nagpur           Msc    1000\n",
              "1  Princi   24     Kanpur            MA    2000\n",
              "2  Gaurav   22  Allahabad           MCA    3000\n",
              "3    Anuj   32    Kannuaj           Phd    4000"
            ],
            "text/html": [
              "\n",
              "  <div id=\"df-ef170550-06af-4b6c-b685-4a25aa0ffb01\">\n",
              "    <div class=\"colab-df-container\">\n",
              "      <div>\n",
              "<style scoped>\n",
              "    .dataframe tbody tr th:only-of-type {\n",
              "        vertical-align: middle;\n",
              "    }\n",
              "\n",
              "    .dataframe tbody tr th {\n",
              "        vertical-align: top;\n",
              "    }\n",
              "\n",
              "    .dataframe thead th {\n",
              "        text-align: right;\n",
              "    }\n",
              "</style>\n",
              "<table border=\"1\" class=\"dataframe\">\n",
              "  <thead>\n",
              "    <tr style=\"text-align: right;\">\n",
              "      <th></th>\n",
              "      <th>Name</th>\n",
              "      <th>Age</th>\n",
              "      <th>Address</th>\n",
              "      <th>Qualification</th>\n",
              "      <th>Salary</th>\n",
              "    </tr>\n",
              "  </thead>\n",
              "  <tbody>\n",
              "    <tr>\n",
              "      <th>0</th>\n",
              "      <td>Jai</td>\n",
              "      <td>27</td>\n",
              "      <td>Nagpur</td>\n",
              "      <td>Msc</td>\n",
              "      <td>1000</td>\n",
              "    </tr>\n",
              "    <tr>\n",
              "      <th>1</th>\n",
              "      <td>Princi</td>\n",
              "      <td>24</td>\n",
              "      <td>Kanpur</td>\n",
              "      <td>MA</td>\n",
              "      <td>2000</td>\n",
              "    </tr>\n",
              "    <tr>\n",
              "      <th>2</th>\n",
              "      <td>Gaurav</td>\n",
              "      <td>22</td>\n",
              "      <td>Allahabad</td>\n",
              "      <td>MCA</td>\n",
              "      <td>3000</td>\n",
              "    </tr>\n",
              "    <tr>\n",
              "      <th>3</th>\n",
              "      <td>Anuj</td>\n",
              "      <td>32</td>\n",
              "      <td>Kannuaj</td>\n",
              "      <td>Phd</td>\n",
              "      <td>4000</td>\n",
              "    </tr>\n",
              "  </tbody>\n",
              "</table>\n",
              "</div>\n",
              "      <button class=\"colab-df-convert\" onclick=\"convertToInteractive('df-ef170550-06af-4b6c-b685-4a25aa0ffb01')\"\n",
              "              title=\"Convert this dataframe to an interactive table.\"\n",
              "              style=\"display:none;\">\n",
              "        \n",
              "  <svg xmlns=\"http://www.w3.org/2000/svg\" height=\"24px\"viewBox=\"0 0 24 24\"\n",
              "       width=\"24px\">\n",
              "    <path d=\"M0 0h24v24H0V0z\" fill=\"none\"/>\n",
              "    <path d=\"M18.56 5.44l.94 2.06.94-2.06 2.06-.94-2.06-.94-.94-2.06-.94 2.06-2.06.94zm-11 1L8.5 8.5l.94-2.06 2.06-.94-2.06-.94L8.5 2.5l-.94 2.06-2.06.94zm10 10l.94 2.06.94-2.06 2.06-.94-2.06-.94-.94-2.06-.94 2.06-2.06.94z\"/><path d=\"M17.41 7.96l-1.37-1.37c-.4-.4-.92-.59-1.43-.59-.52 0-1.04.2-1.43.59L10.3 9.45l-7.72 7.72c-.78.78-.78 2.05 0 2.83L4 21.41c.39.39.9.59 1.41.59.51 0 1.02-.2 1.41-.59l7.78-7.78 2.81-2.81c.8-.78.8-2.07 0-2.86zM5.41 20L4 18.59l7.72-7.72 1.47 1.35L5.41 20z\"/>\n",
              "  </svg>\n",
              "      </button>\n",
              "      \n",
              "  <style>\n",
              "    .colab-df-container {\n",
              "      display:flex;\n",
              "      flex-wrap:wrap;\n",
              "      gap: 12px;\n",
              "    }\n",
              "\n",
              "    .colab-df-convert {\n",
              "      background-color: #E8F0FE;\n",
              "      border: none;\n",
              "      border-radius: 50%;\n",
              "      cursor: pointer;\n",
              "      display: none;\n",
              "      fill: #1967D2;\n",
              "      height: 32px;\n",
              "      padding: 0 0 0 0;\n",
              "      width: 32px;\n",
              "    }\n",
              "\n",
              "    .colab-df-convert:hover {\n",
              "      background-color: #E2EBFA;\n",
              "      box-shadow: 0px 1px 2px rgba(60, 64, 67, 0.3), 0px 1px 3px 1px rgba(60, 64, 67, 0.15);\n",
              "      fill: #174EA6;\n",
              "    }\n",
              "\n",
              "    [theme=dark] .colab-df-convert {\n",
              "      background-color: #3B4455;\n",
              "      fill: #D2E3FC;\n",
              "    }\n",
              "\n",
              "    [theme=dark] .colab-df-convert:hover {\n",
              "      background-color: #434B5C;\n",
              "      box-shadow: 0px 1px 3px 1px rgba(0, 0, 0, 0.15);\n",
              "      filter: drop-shadow(0px 1px 2px rgba(0, 0, 0, 0.3));\n",
              "      fill: #FFFFFF;\n",
              "    }\n",
              "  </style>\n",
              "\n",
              "      <script>\n",
              "        const buttonEl =\n",
              "          document.querySelector('#df-ef170550-06af-4b6c-b685-4a25aa0ffb01 button.colab-df-convert');\n",
              "        buttonEl.style.display =\n",
              "          google.colab.kernel.accessAllowed ? 'block' : 'none';\n",
              "\n",
              "        async function convertToInteractive(key) {\n",
              "          const element = document.querySelector('#df-ef170550-06af-4b6c-b685-4a25aa0ffb01');\n",
              "          const dataTable =\n",
              "            await google.colab.kernel.invokeFunction('convertToInteractive',\n",
              "                                                     [key], {});\n",
              "          if (!dataTable) return;\n",
              "\n",
              "          const docLinkHtml = 'Like what you see? Visit the ' +\n",
              "            '<a target=\"_blank\" href=https://colab.research.google.com/notebooks/data_table.ipynb>data table notebook</a>'\n",
              "            + ' to learn more about interactive tables.';\n",
              "          element.innerHTML = '';\n",
              "          dataTable['output_type'] = 'display_data';\n",
              "          await google.colab.output.renderOutput(dataTable, element);\n",
              "          const docLink = document.createElement('div');\n",
              "          docLink.innerHTML = docLinkHtml;\n",
              "          element.appendChild(docLink);\n",
              "        }\n",
              "      </script>\n",
              "    </div>\n",
              "  </div>\n",
              "  "
            ]
          },
          "metadata": {},
          "execution_count": 2
        }
      ]
    },
    {
      "cell_type": "code",
      "source": [
        "import pandas as pd \n",
        " \n",
        "# Define a dictionary containing employee data \n",
        "data1 = {'key': ['K0', 'K1', 'K2', 'K3'],\n",
        "         'Name':['Jai', 'Princi', 'Gaurav', 'Anuj'], \n",
        "        'Age':[27, 24, 22, 32],} \n",
        "   \n",
        "# Define a dictionary containing employee data \n",
        "data2 = {'key': ['K0', 'K1', 'K2', 'K3'],\n",
        "         'Address':['Nagpur', 'Kanpur', 'Allahabad', 'Kannuaj'], \n",
        "        'Qualification':['Btech', 'B.A', 'Bcom', 'B.hons']} \n",
        " \n",
        "# Convert the dictionary into DataFrame  \n",
        "df = pd.DataFrame(data1)\n",
        " \n",
        "# Convert the dictionary into DataFrame  \n",
        "df1 = pd.DataFrame(data2) \n",
        "  \n",
        " \n",
        "print(df, \"\\n\\n\", df1) "
      ],
      "metadata": {
        "colab": {
          "base_uri": "https://localhost:8080/"
        },
        "id": "oEM5I5Rm34M1",
        "outputId": "0f7826dc-7602-4e8c-f928-94ea4a4c6230"
      },
      "execution_count": null,
      "outputs": [
        {
          "output_type": "stream",
          "name": "stdout",
          "text": [
            "  key    Name  Age\n",
            "0  K0     Jai   27\n",
            "1  K1  Princi   24\n",
            "2  K2  Gaurav   22\n",
            "3  K3    Anuj   32 \n",
            "\n",
            "   key    Address Qualification\n",
            "0  K0     Nagpur         Btech\n",
            "1  K1     Kanpur           B.A\n",
            "2  K2  Allahabad          Bcom\n",
            "3  K3    Kannuaj        B.hons\n"
          ]
        }
      ]
    },
    {
      "cell_type": "code",
      "source": [
        "data1 = {'key': ['K0', 'K1', 'K2', 'K3'],\n",
        "         'key1': ['K0', 'K1', 'K0', 'K1'],\n",
        "         'Name':['Jai', 'Princi', 'Gaurav', 'Anuj'], \n",
        "        'Age':[27, 24, 22, 32],} \n",
        "   \n",
        "# Define a dictionary containing employee data \n",
        "data2 = {'key': ['K0', 'K1', 'K2', 'K3'],\n",
        "         'key1': ['K0', 'K0', 'K0', 'K0'],\n",
        "         'Address':['Nagpur', 'Kanpur', 'Allahabad', 'Kannuaj'], \n",
        "        'Qualification':['Btech', 'B.A', 'Bcom', 'B.hons']} \n",
        " \n",
        "# Convert the dictionary into DataFrame  \n",
        "df = pd.DataFrame(data1)\n",
        " \n",
        "# Convert the dictionary into DataFrame  \n",
        "df1 = pd.DataFrame(data2) \n",
        "  \n",
        " \n",
        "print(df, \"\\n\\n\", df1) "
      ],
      "metadata": {
        "colab": {
          "base_uri": "https://localhost:8080/"
        },
        "id": "UGDslr2i4CtW",
        "outputId": "3f57902f-e9c4-45f9-a330-25328cb51873"
      },
      "execution_count": null,
      "outputs": [
        {
          "output_type": "stream",
          "name": "stdout",
          "text": [
            "  key key1    Name  Age\n",
            "0  K0   K0     Jai   27\n",
            "1  K1   K1  Princi   24\n",
            "2  K2   K0  Gaurav   22\n",
            "3  K3   K1    Anuj   32 \n",
            "\n",
            "   key key1    Address Qualification\n",
            "0  K0   K0     Nagpur         Btech\n",
            "1  K1   K0     Kanpur           B.A\n",
            "2  K2   K0  Allahabad          Bcom\n",
            "3  K3   K0    Kannuaj        B.hons\n"
          ]
        }
      ]
    },
    {
      "cell_type": "code",
      "source": [
        "res1 = pd.merge(df, df1, on=['key', 'key1'])\n",
        " \n",
        "res1"
      ],
      "metadata": {
        "colab": {
          "base_uri": "https://localhost:8080/",
          "height": 112
        },
        "id": "74z7IXpj4MTG",
        "outputId": "8db1470f-c1d3-4aca-aefb-06b99bf884b4"
      },
      "execution_count": null,
      "outputs": [
        {
          "output_type": "execute_result",
          "data": {
            "text/plain": [
              "  key key1    Name  Age    Address Qualification\n",
              "0  K0   K0     Jai   27     Nagpur         Btech\n",
              "1  K2   K0  Gaurav   22  Allahabad          Bcom"
            ],
            "text/html": [
              "\n",
              "  <div id=\"df-44583127-788e-4a05-a043-a57c233daf2e\">\n",
              "    <div class=\"colab-df-container\">\n",
              "      <div>\n",
              "<style scoped>\n",
              "    .dataframe tbody tr th:only-of-type {\n",
              "        vertical-align: middle;\n",
              "    }\n",
              "\n",
              "    .dataframe tbody tr th {\n",
              "        vertical-align: top;\n",
              "    }\n",
              "\n",
              "    .dataframe thead th {\n",
              "        text-align: right;\n",
              "    }\n",
              "</style>\n",
              "<table border=\"1\" class=\"dataframe\">\n",
              "  <thead>\n",
              "    <tr style=\"text-align: right;\">\n",
              "      <th></th>\n",
              "      <th>key</th>\n",
              "      <th>key1</th>\n",
              "      <th>Name</th>\n",
              "      <th>Age</th>\n",
              "      <th>Address</th>\n",
              "      <th>Qualification</th>\n",
              "    </tr>\n",
              "  </thead>\n",
              "  <tbody>\n",
              "    <tr>\n",
              "      <th>0</th>\n",
              "      <td>K0</td>\n",
              "      <td>K0</td>\n",
              "      <td>Jai</td>\n",
              "      <td>27</td>\n",
              "      <td>Nagpur</td>\n",
              "      <td>Btech</td>\n",
              "    </tr>\n",
              "    <tr>\n",
              "      <th>1</th>\n",
              "      <td>K2</td>\n",
              "      <td>K0</td>\n",
              "      <td>Gaurav</td>\n",
              "      <td>22</td>\n",
              "      <td>Allahabad</td>\n",
              "      <td>Bcom</td>\n",
              "    </tr>\n",
              "  </tbody>\n",
              "</table>\n",
              "</div>\n",
              "      <button class=\"colab-df-convert\" onclick=\"convertToInteractive('df-44583127-788e-4a05-a043-a57c233daf2e')\"\n",
              "              title=\"Convert this dataframe to an interactive table.\"\n",
              "              style=\"display:none;\">\n",
              "        \n",
              "  <svg xmlns=\"http://www.w3.org/2000/svg\" height=\"24px\"viewBox=\"0 0 24 24\"\n",
              "       width=\"24px\">\n",
              "    <path d=\"M0 0h24v24H0V0z\" fill=\"none\"/>\n",
              "    <path d=\"M18.56 5.44l.94 2.06.94-2.06 2.06-.94-2.06-.94-.94-2.06-.94 2.06-2.06.94zm-11 1L8.5 8.5l.94-2.06 2.06-.94-2.06-.94L8.5 2.5l-.94 2.06-2.06.94zm10 10l.94 2.06.94-2.06 2.06-.94-2.06-.94-.94-2.06-.94 2.06-2.06.94z\"/><path d=\"M17.41 7.96l-1.37-1.37c-.4-.4-.92-.59-1.43-.59-.52 0-1.04.2-1.43.59L10.3 9.45l-7.72 7.72c-.78.78-.78 2.05 0 2.83L4 21.41c.39.39.9.59 1.41.59.51 0 1.02-.2 1.41-.59l7.78-7.78 2.81-2.81c.8-.78.8-2.07 0-2.86zM5.41 20L4 18.59l7.72-7.72 1.47 1.35L5.41 20z\"/>\n",
              "  </svg>\n",
              "      </button>\n",
              "      \n",
              "  <style>\n",
              "    .colab-df-container {\n",
              "      display:flex;\n",
              "      flex-wrap:wrap;\n",
              "      gap: 12px;\n",
              "    }\n",
              "\n",
              "    .colab-df-convert {\n",
              "      background-color: #E8F0FE;\n",
              "      border: none;\n",
              "      border-radius: 50%;\n",
              "      cursor: pointer;\n",
              "      display: none;\n",
              "      fill: #1967D2;\n",
              "      height: 32px;\n",
              "      padding: 0 0 0 0;\n",
              "      width: 32px;\n",
              "    }\n",
              "\n",
              "    .colab-df-convert:hover {\n",
              "      background-color: #E2EBFA;\n",
              "      box-shadow: 0px 1px 2px rgba(60, 64, 67, 0.3), 0px 1px 3px 1px rgba(60, 64, 67, 0.15);\n",
              "      fill: #174EA6;\n",
              "    }\n",
              "\n",
              "    [theme=dark] .colab-df-convert {\n",
              "      background-color: #3B4455;\n",
              "      fill: #D2E3FC;\n",
              "    }\n",
              "\n",
              "    [theme=dark] .colab-df-convert:hover {\n",
              "      background-color: #434B5C;\n",
              "      box-shadow: 0px 1px 3px 1px rgba(0, 0, 0, 0.15);\n",
              "      filter: drop-shadow(0px 1px 2px rgba(0, 0, 0, 0.3));\n",
              "      fill: #FFFFFF;\n",
              "    }\n",
              "  </style>\n",
              "\n",
              "      <script>\n",
              "        const buttonEl =\n",
              "          document.querySelector('#df-44583127-788e-4a05-a043-a57c233daf2e button.colab-df-convert');\n",
              "        buttonEl.style.display =\n",
              "          google.colab.kernel.accessAllowed ? 'block' : 'none';\n",
              "\n",
              "        async function convertToInteractive(key) {\n",
              "          const element = document.querySelector('#df-44583127-788e-4a05-a043-a57c233daf2e');\n",
              "          const dataTable =\n",
              "            await google.colab.kernel.invokeFunction('convertToInteractive',\n",
              "                                                     [key], {});\n",
              "          if (!dataTable) return;\n",
              "\n",
              "          const docLinkHtml = 'Like what you see? Visit the ' +\n",
              "            '<a target=\"_blank\" href=https://colab.research.google.com/notebooks/data_table.ipynb>data table notebook</a>'\n",
              "            + ' to learn more about interactive tables.';\n",
              "          element.innerHTML = '';\n",
              "          dataTable['output_type'] = 'display_data';\n",
              "          await google.colab.output.renderOutput(dataTable, element);\n",
              "          const docLink = document.createElement('div');\n",
              "          docLink.innerHTML = docLinkHtml;\n",
              "          element.appendChild(docLink);\n",
              "        }\n",
              "      </script>\n",
              "    </div>\n",
              "  </div>\n",
              "  "
            ]
          },
          "metadata": {},
          "execution_count": 6
        }
      ]
    },
    {
      "cell_type": "code",
      "source": [
        "import pandas as pd \n",
        " \n",
        "# Define a dictionary containing employee data \n",
        "data1 = {'key': ['K0', 'K1', 'K2', 'K3'],\n",
        "         'key1': ['K0', 'K1', 'K0', 'K1'],\n",
        "         'Name':['Jai', 'Princi', 'Gaurav', 'Anuj'], \n",
        "        'Age':[27, 24, 22, 32],} \n",
        "   \n",
        "# Define a dictionary containing employee data \n",
        "data2 = {'key': ['K0', 'K1', 'K2', 'K3'],\n",
        "         'key1': ['K0', 'K0', 'K0', 'K0'],\n",
        "         'Address':['Nagpur', 'Kanpur', 'Allahabad', 'Kannuaj'], \n",
        "        'Qualification':['Btech', 'B.A', 'Bcom', 'B.hons']} \n",
        " \n",
        "# Convert the dictionary into DataFrame  \n",
        "df = pd.DataFrame(data1)\n",
        " \n",
        "# Convert the dictionary into DataFrame  \n",
        "df1 = pd.DataFrame(data2) \n",
        "  \n",
        " \n",
        "print(df, \"\\n\\n\", df1) "
      ],
      "metadata": {
        "colab": {
          "base_uri": "https://localhost:8080/"
        },
        "id": "ogqjEtUf4QU3",
        "outputId": "7a65107d-7c62-406f-8502-b00d519510fb"
      },
      "execution_count": null,
      "outputs": [
        {
          "output_type": "stream",
          "name": "stdout",
          "text": [
            "  key key1    Name  Age\n",
            "0  K0   K0     Jai   27\n",
            "1  K1   K1  Princi   24\n",
            "2  K2   K0  Gaurav   22\n",
            "3  K3   K1    Anuj   32 \n",
            "\n",
            "   key key1    Address Qualification\n",
            "0  K0   K0     Nagpur         Btech\n",
            "1  K1   K0     Kanpur           B.A\n",
            "2  K2   K0  Allahabad          Bcom\n",
            "3  K3   K0    Kannuaj        B.hons\n"
          ]
        }
      ]
    },
    {
      "cell_type": "code",
      "source": [
        "res = pd.merge(df, df1, how='left', on=['key', 'key1'])\n",
        " \n",
        "res"
      ],
      "metadata": {
        "colab": {
          "base_uri": "https://localhost:8080/",
          "height": 175
        },
        "id": "WAHAtoim4UkJ",
        "outputId": "86c045c4-9d9b-4de9-98cb-eaa2c856c03e"
      },
      "execution_count": null,
      "outputs": [
        {
          "output_type": "execute_result",
          "data": {
            "text/plain": [
              "  key key1    Name  Age    Address Qualification\n",
              "0  K0   K0     Jai   27     Nagpur         Btech\n",
              "1  K1   K1  Princi   24        NaN           NaN\n",
              "2  K2   K0  Gaurav   22  Allahabad          Bcom\n",
              "3  K3   K1    Anuj   32        NaN           NaN"
            ],
            "text/html": [
              "\n",
              "  <div id=\"df-40bee8bd-8d9a-4122-8433-efc7e5352aef\">\n",
              "    <div class=\"colab-df-container\">\n",
              "      <div>\n",
              "<style scoped>\n",
              "    .dataframe tbody tr th:only-of-type {\n",
              "        vertical-align: middle;\n",
              "    }\n",
              "\n",
              "    .dataframe tbody tr th {\n",
              "        vertical-align: top;\n",
              "    }\n",
              "\n",
              "    .dataframe thead th {\n",
              "        text-align: right;\n",
              "    }\n",
              "</style>\n",
              "<table border=\"1\" class=\"dataframe\">\n",
              "  <thead>\n",
              "    <tr style=\"text-align: right;\">\n",
              "      <th></th>\n",
              "      <th>key</th>\n",
              "      <th>key1</th>\n",
              "      <th>Name</th>\n",
              "      <th>Age</th>\n",
              "      <th>Address</th>\n",
              "      <th>Qualification</th>\n",
              "    </tr>\n",
              "  </thead>\n",
              "  <tbody>\n",
              "    <tr>\n",
              "      <th>0</th>\n",
              "      <td>K0</td>\n",
              "      <td>K0</td>\n",
              "      <td>Jai</td>\n",
              "      <td>27</td>\n",
              "      <td>Nagpur</td>\n",
              "      <td>Btech</td>\n",
              "    </tr>\n",
              "    <tr>\n",
              "      <th>1</th>\n",
              "      <td>K1</td>\n",
              "      <td>K1</td>\n",
              "      <td>Princi</td>\n",
              "      <td>24</td>\n",
              "      <td>NaN</td>\n",
              "      <td>NaN</td>\n",
              "    </tr>\n",
              "    <tr>\n",
              "      <th>2</th>\n",
              "      <td>K2</td>\n",
              "      <td>K0</td>\n",
              "      <td>Gaurav</td>\n",
              "      <td>22</td>\n",
              "      <td>Allahabad</td>\n",
              "      <td>Bcom</td>\n",
              "    </tr>\n",
              "    <tr>\n",
              "      <th>3</th>\n",
              "      <td>K3</td>\n",
              "      <td>K1</td>\n",
              "      <td>Anuj</td>\n",
              "      <td>32</td>\n",
              "      <td>NaN</td>\n",
              "      <td>NaN</td>\n",
              "    </tr>\n",
              "  </tbody>\n",
              "</table>\n",
              "</div>\n",
              "      <button class=\"colab-df-convert\" onclick=\"convertToInteractive('df-40bee8bd-8d9a-4122-8433-efc7e5352aef')\"\n",
              "              title=\"Convert this dataframe to an interactive table.\"\n",
              "              style=\"display:none;\">\n",
              "        \n",
              "  <svg xmlns=\"http://www.w3.org/2000/svg\" height=\"24px\"viewBox=\"0 0 24 24\"\n",
              "       width=\"24px\">\n",
              "    <path d=\"M0 0h24v24H0V0z\" fill=\"none\"/>\n",
              "    <path d=\"M18.56 5.44l.94 2.06.94-2.06 2.06-.94-2.06-.94-.94-2.06-.94 2.06-2.06.94zm-11 1L8.5 8.5l.94-2.06 2.06-.94-2.06-.94L8.5 2.5l-.94 2.06-2.06.94zm10 10l.94 2.06.94-2.06 2.06-.94-2.06-.94-.94-2.06-.94 2.06-2.06.94z\"/><path d=\"M17.41 7.96l-1.37-1.37c-.4-.4-.92-.59-1.43-.59-.52 0-1.04.2-1.43.59L10.3 9.45l-7.72 7.72c-.78.78-.78 2.05 0 2.83L4 21.41c.39.39.9.59 1.41.59.51 0 1.02-.2 1.41-.59l7.78-7.78 2.81-2.81c.8-.78.8-2.07 0-2.86zM5.41 20L4 18.59l7.72-7.72 1.47 1.35L5.41 20z\"/>\n",
              "  </svg>\n",
              "      </button>\n",
              "      \n",
              "  <style>\n",
              "    .colab-df-container {\n",
              "      display:flex;\n",
              "      flex-wrap:wrap;\n",
              "      gap: 12px;\n",
              "    }\n",
              "\n",
              "    .colab-df-convert {\n",
              "      background-color: #E8F0FE;\n",
              "      border: none;\n",
              "      border-radius: 50%;\n",
              "      cursor: pointer;\n",
              "      display: none;\n",
              "      fill: #1967D2;\n",
              "      height: 32px;\n",
              "      padding: 0 0 0 0;\n",
              "      width: 32px;\n",
              "    }\n",
              "\n",
              "    .colab-df-convert:hover {\n",
              "      background-color: #E2EBFA;\n",
              "      box-shadow: 0px 1px 2px rgba(60, 64, 67, 0.3), 0px 1px 3px 1px rgba(60, 64, 67, 0.15);\n",
              "      fill: #174EA6;\n",
              "    }\n",
              "\n",
              "    [theme=dark] .colab-df-convert {\n",
              "      background-color: #3B4455;\n",
              "      fill: #D2E3FC;\n",
              "    }\n",
              "\n",
              "    [theme=dark] .colab-df-convert:hover {\n",
              "      background-color: #434B5C;\n",
              "      box-shadow: 0px 1px 3px 1px rgba(0, 0, 0, 0.15);\n",
              "      filter: drop-shadow(0px 1px 2px rgba(0, 0, 0, 0.3));\n",
              "      fill: #FFFFFF;\n",
              "    }\n",
              "  </style>\n",
              "\n",
              "      <script>\n",
              "        const buttonEl =\n",
              "          document.querySelector('#df-40bee8bd-8d9a-4122-8433-efc7e5352aef button.colab-df-convert');\n",
              "        buttonEl.style.display =\n",
              "          google.colab.kernel.accessAllowed ? 'block' : 'none';\n",
              "\n",
              "        async function convertToInteractive(key) {\n",
              "          const element = document.querySelector('#df-40bee8bd-8d9a-4122-8433-efc7e5352aef');\n",
              "          const dataTable =\n",
              "            await google.colab.kernel.invokeFunction('convertToInteractive',\n",
              "                                                     [key], {});\n",
              "          if (!dataTable) return;\n",
              "\n",
              "          const docLinkHtml = 'Like what you see? Visit the ' +\n",
              "            '<a target=\"_blank\" href=https://colab.research.google.com/notebooks/data_table.ipynb>data table notebook</a>'\n",
              "            + ' to learn more about interactive tables.';\n",
              "          element.innerHTML = '';\n",
              "          dataTable['output_type'] = 'display_data';\n",
              "          await google.colab.output.renderOutput(dataTable, element);\n",
              "          const docLink = document.createElement('div');\n",
              "          docLink.innerHTML = docLinkHtml;\n",
              "          element.appendChild(docLink);\n",
              "        }\n",
              "      </script>\n",
              "    </div>\n",
              "  </div>\n",
              "  "
            ]
          },
          "metadata": {},
          "execution_count": 8
        }
      ]
    },
    {
      "cell_type": "code",
      "source": [
        "res1 = pd.merge(df, df1, how='right', on=['key', 'key1'])\n",
        " \n",
        "res1"
      ],
      "metadata": {
        "colab": {
          "base_uri": "https://localhost:8080/",
          "height": 175
        },
        "id": "LWW0xuyyrVdn",
        "outputId": "e12713f6-42e0-4562-ac0c-c414c3ee51e2"
      },
      "execution_count": null,
      "outputs": [
        {
          "output_type": "execute_result",
          "data": {
            "text/plain": [
              "  key key1    Name   Age    Address Qualification\n",
              "0  K0   K0     Jai  27.0     Nagpur         Btech\n",
              "1  K1   K0     NaN   NaN     Kanpur           B.A\n",
              "2  K2   K0  Gaurav  22.0  Allahabad          Bcom\n",
              "3  K3   K0     NaN   NaN    Kannuaj        B.hons"
            ],
            "text/html": [
              "\n",
              "  <div id=\"df-d3057734-4038-464c-9fae-90dabe0985db\">\n",
              "    <div class=\"colab-df-container\">\n",
              "      <div>\n",
              "<style scoped>\n",
              "    .dataframe tbody tr th:only-of-type {\n",
              "        vertical-align: middle;\n",
              "    }\n",
              "\n",
              "    .dataframe tbody tr th {\n",
              "        vertical-align: top;\n",
              "    }\n",
              "\n",
              "    .dataframe thead th {\n",
              "        text-align: right;\n",
              "    }\n",
              "</style>\n",
              "<table border=\"1\" class=\"dataframe\">\n",
              "  <thead>\n",
              "    <tr style=\"text-align: right;\">\n",
              "      <th></th>\n",
              "      <th>key</th>\n",
              "      <th>key1</th>\n",
              "      <th>Name</th>\n",
              "      <th>Age</th>\n",
              "      <th>Address</th>\n",
              "      <th>Qualification</th>\n",
              "    </tr>\n",
              "  </thead>\n",
              "  <tbody>\n",
              "    <tr>\n",
              "      <th>0</th>\n",
              "      <td>K0</td>\n",
              "      <td>K0</td>\n",
              "      <td>Jai</td>\n",
              "      <td>27.0</td>\n",
              "      <td>Nagpur</td>\n",
              "      <td>Btech</td>\n",
              "    </tr>\n",
              "    <tr>\n",
              "      <th>1</th>\n",
              "      <td>K1</td>\n",
              "      <td>K0</td>\n",
              "      <td>NaN</td>\n",
              "      <td>NaN</td>\n",
              "      <td>Kanpur</td>\n",
              "      <td>B.A</td>\n",
              "    </tr>\n",
              "    <tr>\n",
              "      <th>2</th>\n",
              "      <td>K2</td>\n",
              "      <td>K0</td>\n",
              "      <td>Gaurav</td>\n",
              "      <td>22.0</td>\n",
              "      <td>Allahabad</td>\n",
              "      <td>Bcom</td>\n",
              "    </tr>\n",
              "    <tr>\n",
              "      <th>3</th>\n",
              "      <td>K3</td>\n",
              "      <td>K0</td>\n",
              "      <td>NaN</td>\n",
              "      <td>NaN</td>\n",
              "      <td>Kannuaj</td>\n",
              "      <td>B.hons</td>\n",
              "    </tr>\n",
              "  </tbody>\n",
              "</table>\n",
              "</div>\n",
              "      <button class=\"colab-df-convert\" onclick=\"convertToInteractive('df-d3057734-4038-464c-9fae-90dabe0985db')\"\n",
              "              title=\"Convert this dataframe to an interactive table.\"\n",
              "              style=\"display:none;\">\n",
              "        \n",
              "  <svg xmlns=\"http://www.w3.org/2000/svg\" height=\"24px\"viewBox=\"0 0 24 24\"\n",
              "       width=\"24px\">\n",
              "    <path d=\"M0 0h24v24H0V0z\" fill=\"none\"/>\n",
              "    <path d=\"M18.56 5.44l.94 2.06.94-2.06 2.06-.94-2.06-.94-.94-2.06-.94 2.06-2.06.94zm-11 1L8.5 8.5l.94-2.06 2.06-.94-2.06-.94L8.5 2.5l-.94 2.06-2.06.94zm10 10l.94 2.06.94-2.06 2.06-.94-2.06-.94-.94-2.06-.94 2.06-2.06.94z\"/><path d=\"M17.41 7.96l-1.37-1.37c-.4-.4-.92-.59-1.43-.59-.52 0-1.04.2-1.43.59L10.3 9.45l-7.72 7.72c-.78.78-.78 2.05 0 2.83L4 21.41c.39.39.9.59 1.41.59.51 0 1.02-.2 1.41-.59l7.78-7.78 2.81-2.81c.8-.78.8-2.07 0-2.86zM5.41 20L4 18.59l7.72-7.72 1.47 1.35L5.41 20z\"/>\n",
              "  </svg>\n",
              "      </button>\n",
              "      \n",
              "  <style>\n",
              "    .colab-df-container {\n",
              "      display:flex;\n",
              "      flex-wrap:wrap;\n",
              "      gap: 12px;\n",
              "    }\n",
              "\n",
              "    .colab-df-convert {\n",
              "      background-color: #E8F0FE;\n",
              "      border: none;\n",
              "      border-radius: 50%;\n",
              "      cursor: pointer;\n",
              "      display: none;\n",
              "      fill: #1967D2;\n",
              "      height: 32px;\n",
              "      padding: 0 0 0 0;\n",
              "      width: 32px;\n",
              "    }\n",
              "\n",
              "    .colab-df-convert:hover {\n",
              "      background-color: #E2EBFA;\n",
              "      box-shadow: 0px 1px 2px rgba(60, 64, 67, 0.3), 0px 1px 3px 1px rgba(60, 64, 67, 0.15);\n",
              "      fill: #174EA6;\n",
              "    }\n",
              "\n",
              "    [theme=dark] .colab-df-convert {\n",
              "      background-color: #3B4455;\n",
              "      fill: #D2E3FC;\n",
              "    }\n",
              "\n",
              "    [theme=dark] .colab-df-convert:hover {\n",
              "      background-color: #434B5C;\n",
              "      box-shadow: 0px 1px 3px 1px rgba(0, 0, 0, 0.15);\n",
              "      filter: drop-shadow(0px 1px 2px rgba(0, 0, 0, 0.3));\n",
              "      fill: #FFFFFF;\n",
              "    }\n",
              "  </style>\n",
              "\n",
              "      <script>\n",
              "        const buttonEl =\n",
              "          document.querySelector('#df-d3057734-4038-464c-9fae-90dabe0985db button.colab-df-convert');\n",
              "        buttonEl.style.display =\n",
              "          google.colab.kernel.accessAllowed ? 'block' : 'none';\n",
              "\n",
              "        async function convertToInteractive(key) {\n",
              "          const element = document.querySelector('#df-d3057734-4038-464c-9fae-90dabe0985db');\n",
              "          const dataTable =\n",
              "            await google.colab.kernel.invokeFunction('convertToInteractive',\n",
              "                                                     [key], {});\n",
              "          if (!dataTable) return;\n",
              "\n",
              "          const docLinkHtml = 'Like what you see? Visit the ' +\n",
              "            '<a target=\"_blank\" href=https://colab.research.google.com/notebooks/data_table.ipynb>data table notebook</a>'\n",
              "            + ' to learn more about interactive tables.';\n",
              "          element.innerHTML = '';\n",
              "          dataTable['output_type'] = 'display_data';\n",
              "          await google.colab.output.renderOutput(dataTable, element);\n",
              "          const docLink = document.createElement('div');\n",
              "          docLink.innerHTML = docLinkHtml;\n",
              "          element.appendChild(docLink);\n",
              "        }\n",
              "      </script>\n",
              "    </div>\n",
              "  </div>\n",
              "  "
            ]
          },
          "metadata": {},
          "execution_count": 2
        }
      ]
    },
    {
      "cell_type": "code",
      "source": [
        "res2 = pd.merge(df, df1, how='outer', on=['key', 'key1'])\n",
        " \n",
        "res2"
      ],
      "metadata": {
        "colab": {
          "base_uri": "https://localhost:8080/",
          "height": 238
        },
        "id": "NCFx2IUZrbAL",
        "outputId": "5d5fb2b1-e7e7-45d5-c364-785fd66d4519"
      },
      "execution_count": null,
      "outputs": [
        {
          "output_type": "execute_result",
          "data": {
            "text/plain": [
              "  key key1    Name   Age    Address Qualification\n",
              "0  K0   K0     Jai  27.0     Nagpur         Btech\n",
              "1  K1   K1  Princi  24.0        NaN           NaN\n",
              "2  K2   K0  Gaurav  22.0  Allahabad          Bcom\n",
              "3  K3   K1    Anuj  32.0        NaN           NaN\n",
              "4  K1   K0     NaN   NaN     Kanpur           B.A\n",
              "5  K3   K0     NaN   NaN    Kannuaj        B.hons"
            ],
            "text/html": [
              "\n",
              "  <div id=\"df-8b5d73ca-5ddb-45b8-b503-16e5908d3b13\">\n",
              "    <div class=\"colab-df-container\">\n",
              "      <div>\n",
              "<style scoped>\n",
              "    .dataframe tbody tr th:only-of-type {\n",
              "        vertical-align: middle;\n",
              "    }\n",
              "\n",
              "    .dataframe tbody tr th {\n",
              "        vertical-align: top;\n",
              "    }\n",
              "\n",
              "    .dataframe thead th {\n",
              "        text-align: right;\n",
              "    }\n",
              "</style>\n",
              "<table border=\"1\" class=\"dataframe\">\n",
              "  <thead>\n",
              "    <tr style=\"text-align: right;\">\n",
              "      <th></th>\n",
              "      <th>key</th>\n",
              "      <th>key1</th>\n",
              "      <th>Name</th>\n",
              "      <th>Age</th>\n",
              "      <th>Address</th>\n",
              "      <th>Qualification</th>\n",
              "    </tr>\n",
              "  </thead>\n",
              "  <tbody>\n",
              "    <tr>\n",
              "      <th>0</th>\n",
              "      <td>K0</td>\n",
              "      <td>K0</td>\n",
              "      <td>Jai</td>\n",
              "      <td>27.0</td>\n",
              "      <td>Nagpur</td>\n",
              "      <td>Btech</td>\n",
              "    </tr>\n",
              "    <tr>\n",
              "      <th>1</th>\n",
              "      <td>K1</td>\n",
              "      <td>K1</td>\n",
              "      <td>Princi</td>\n",
              "      <td>24.0</td>\n",
              "      <td>NaN</td>\n",
              "      <td>NaN</td>\n",
              "    </tr>\n",
              "    <tr>\n",
              "      <th>2</th>\n",
              "      <td>K2</td>\n",
              "      <td>K0</td>\n",
              "      <td>Gaurav</td>\n",
              "      <td>22.0</td>\n",
              "      <td>Allahabad</td>\n",
              "      <td>Bcom</td>\n",
              "    </tr>\n",
              "    <tr>\n",
              "      <th>3</th>\n",
              "      <td>K3</td>\n",
              "      <td>K1</td>\n",
              "      <td>Anuj</td>\n",
              "      <td>32.0</td>\n",
              "      <td>NaN</td>\n",
              "      <td>NaN</td>\n",
              "    </tr>\n",
              "    <tr>\n",
              "      <th>4</th>\n",
              "      <td>K1</td>\n",
              "      <td>K0</td>\n",
              "      <td>NaN</td>\n",
              "      <td>NaN</td>\n",
              "      <td>Kanpur</td>\n",
              "      <td>B.A</td>\n",
              "    </tr>\n",
              "    <tr>\n",
              "      <th>5</th>\n",
              "      <td>K3</td>\n",
              "      <td>K0</td>\n",
              "      <td>NaN</td>\n",
              "      <td>NaN</td>\n",
              "      <td>Kannuaj</td>\n",
              "      <td>B.hons</td>\n",
              "    </tr>\n",
              "  </tbody>\n",
              "</table>\n",
              "</div>\n",
              "      <button class=\"colab-df-convert\" onclick=\"convertToInteractive('df-8b5d73ca-5ddb-45b8-b503-16e5908d3b13')\"\n",
              "              title=\"Convert this dataframe to an interactive table.\"\n",
              "              style=\"display:none;\">\n",
              "        \n",
              "  <svg xmlns=\"http://www.w3.org/2000/svg\" height=\"24px\"viewBox=\"0 0 24 24\"\n",
              "       width=\"24px\">\n",
              "    <path d=\"M0 0h24v24H0V0z\" fill=\"none\"/>\n",
              "    <path d=\"M18.56 5.44l.94 2.06.94-2.06 2.06-.94-2.06-.94-.94-2.06-.94 2.06-2.06.94zm-11 1L8.5 8.5l.94-2.06 2.06-.94-2.06-.94L8.5 2.5l-.94 2.06-2.06.94zm10 10l.94 2.06.94-2.06 2.06-.94-2.06-.94-.94-2.06-.94 2.06-2.06.94z\"/><path d=\"M17.41 7.96l-1.37-1.37c-.4-.4-.92-.59-1.43-.59-.52 0-1.04.2-1.43.59L10.3 9.45l-7.72 7.72c-.78.78-.78 2.05 0 2.83L4 21.41c.39.39.9.59 1.41.59.51 0 1.02-.2 1.41-.59l7.78-7.78 2.81-2.81c.8-.78.8-2.07 0-2.86zM5.41 20L4 18.59l7.72-7.72 1.47 1.35L5.41 20z\"/>\n",
              "  </svg>\n",
              "      </button>\n",
              "      \n",
              "  <style>\n",
              "    .colab-df-container {\n",
              "      display:flex;\n",
              "      flex-wrap:wrap;\n",
              "      gap: 12px;\n",
              "    }\n",
              "\n",
              "    .colab-df-convert {\n",
              "      background-color: #E8F0FE;\n",
              "      border: none;\n",
              "      border-radius: 50%;\n",
              "      cursor: pointer;\n",
              "      display: none;\n",
              "      fill: #1967D2;\n",
              "      height: 32px;\n",
              "      padding: 0 0 0 0;\n",
              "      width: 32px;\n",
              "    }\n",
              "\n",
              "    .colab-df-convert:hover {\n",
              "      background-color: #E2EBFA;\n",
              "      box-shadow: 0px 1px 2px rgba(60, 64, 67, 0.3), 0px 1px 3px 1px rgba(60, 64, 67, 0.15);\n",
              "      fill: #174EA6;\n",
              "    }\n",
              "\n",
              "    [theme=dark] .colab-df-convert {\n",
              "      background-color: #3B4455;\n",
              "      fill: #D2E3FC;\n",
              "    }\n",
              "\n",
              "    [theme=dark] .colab-df-convert:hover {\n",
              "      background-color: #434B5C;\n",
              "      box-shadow: 0px 1px 3px 1px rgba(0, 0, 0, 0.15);\n",
              "      filter: drop-shadow(0px 1px 2px rgba(0, 0, 0, 0.3));\n",
              "      fill: #FFFFFF;\n",
              "    }\n",
              "  </style>\n",
              "\n",
              "      <script>\n",
              "        const buttonEl =\n",
              "          document.querySelector('#df-8b5d73ca-5ddb-45b8-b503-16e5908d3b13 button.colab-df-convert');\n",
              "        buttonEl.style.display =\n",
              "          google.colab.kernel.accessAllowed ? 'block' : 'none';\n",
              "\n",
              "        async function convertToInteractive(key) {\n",
              "          const element = document.querySelector('#df-8b5d73ca-5ddb-45b8-b503-16e5908d3b13');\n",
              "          const dataTable =\n",
              "            await google.colab.kernel.invokeFunction('convertToInteractive',\n",
              "                                                     [key], {});\n",
              "          if (!dataTable) return;\n",
              "\n",
              "          const docLinkHtml = 'Like what you see? Visit the ' +\n",
              "            '<a target=\"_blank\" href=https://colab.research.google.com/notebooks/data_table.ipynb>data table notebook</a>'\n",
              "            + ' to learn more about interactive tables.';\n",
              "          element.innerHTML = '';\n",
              "          dataTable['output_type'] = 'display_data';\n",
              "          await google.colab.output.renderOutput(dataTable, element);\n",
              "          const docLink = document.createElement('div');\n",
              "          docLink.innerHTML = docLinkHtml;\n",
              "          element.appendChild(docLink);\n",
              "        }\n",
              "      </script>\n",
              "    </div>\n",
              "  </div>\n",
              "  "
            ]
          },
          "metadata": {},
          "execution_count": 3
        }
      ]
    },
    {
      "cell_type": "code",
      "source": [
        "res3 = pd.merge(df, df1, how='inner', on=['key', 'key1'])\n",
        " \n",
        "res3"
      ],
      "metadata": {
        "colab": {
          "base_uri": "https://localhost:8080/",
          "height": 112
        },
        "id": "hnY5phS8rdmq",
        "outputId": "fa99aa0d-c0e7-4d42-f110-723f0ed23dd1"
      },
      "execution_count": null,
      "outputs": [
        {
          "output_type": "execute_result",
          "data": {
            "text/plain": [
              "  key key1    Name  Age    Address Qualification\n",
              "0  K0   K0     Jai   27     Nagpur         Btech\n",
              "1  K2   K0  Gaurav   22  Allahabad          Bcom"
            ],
            "text/html": [
              "\n",
              "  <div id=\"df-34a7bf79-f15a-45fa-89ea-1b036bfd2b3d\">\n",
              "    <div class=\"colab-df-container\">\n",
              "      <div>\n",
              "<style scoped>\n",
              "    .dataframe tbody tr th:only-of-type {\n",
              "        vertical-align: middle;\n",
              "    }\n",
              "\n",
              "    .dataframe tbody tr th {\n",
              "        vertical-align: top;\n",
              "    }\n",
              "\n",
              "    .dataframe thead th {\n",
              "        text-align: right;\n",
              "    }\n",
              "</style>\n",
              "<table border=\"1\" class=\"dataframe\">\n",
              "  <thead>\n",
              "    <tr style=\"text-align: right;\">\n",
              "      <th></th>\n",
              "      <th>key</th>\n",
              "      <th>key1</th>\n",
              "      <th>Name</th>\n",
              "      <th>Age</th>\n",
              "      <th>Address</th>\n",
              "      <th>Qualification</th>\n",
              "    </tr>\n",
              "  </thead>\n",
              "  <tbody>\n",
              "    <tr>\n",
              "      <th>0</th>\n",
              "      <td>K0</td>\n",
              "      <td>K0</td>\n",
              "      <td>Jai</td>\n",
              "      <td>27</td>\n",
              "      <td>Nagpur</td>\n",
              "      <td>Btech</td>\n",
              "    </tr>\n",
              "    <tr>\n",
              "      <th>1</th>\n",
              "      <td>K2</td>\n",
              "      <td>K0</td>\n",
              "      <td>Gaurav</td>\n",
              "      <td>22</td>\n",
              "      <td>Allahabad</td>\n",
              "      <td>Bcom</td>\n",
              "    </tr>\n",
              "  </tbody>\n",
              "</table>\n",
              "</div>\n",
              "      <button class=\"colab-df-convert\" onclick=\"convertToInteractive('df-34a7bf79-f15a-45fa-89ea-1b036bfd2b3d')\"\n",
              "              title=\"Convert this dataframe to an interactive table.\"\n",
              "              style=\"display:none;\">\n",
              "        \n",
              "  <svg xmlns=\"http://www.w3.org/2000/svg\" height=\"24px\"viewBox=\"0 0 24 24\"\n",
              "       width=\"24px\">\n",
              "    <path d=\"M0 0h24v24H0V0z\" fill=\"none\"/>\n",
              "    <path d=\"M18.56 5.44l.94 2.06.94-2.06 2.06-.94-2.06-.94-.94-2.06-.94 2.06-2.06.94zm-11 1L8.5 8.5l.94-2.06 2.06-.94-2.06-.94L8.5 2.5l-.94 2.06-2.06.94zm10 10l.94 2.06.94-2.06 2.06-.94-2.06-.94-.94-2.06-.94 2.06-2.06.94z\"/><path d=\"M17.41 7.96l-1.37-1.37c-.4-.4-.92-.59-1.43-.59-.52 0-1.04.2-1.43.59L10.3 9.45l-7.72 7.72c-.78.78-.78 2.05 0 2.83L4 21.41c.39.39.9.59 1.41.59.51 0 1.02-.2 1.41-.59l7.78-7.78 2.81-2.81c.8-.78.8-2.07 0-2.86zM5.41 20L4 18.59l7.72-7.72 1.47 1.35L5.41 20z\"/>\n",
              "  </svg>\n",
              "      </button>\n",
              "      \n",
              "  <style>\n",
              "    .colab-df-container {\n",
              "      display:flex;\n",
              "      flex-wrap:wrap;\n",
              "      gap: 12px;\n",
              "    }\n",
              "\n",
              "    .colab-df-convert {\n",
              "      background-color: #E8F0FE;\n",
              "      border: none;\n",
              "      border-radius: 50%;\n",
              "      cursor: pointer;\n",
              "      display: none;\n",
              "      fill: #1967D2;\n",
              "      height: 32px;\n",
              "      padding: 0 0 0 0;\n",
              "      width: 32px;\n",
              "    }\n",
              "\n",
              "    .colab-df-convert:hover {\n",
              "      background-color: #E2EBFA;\n",
              "      box-shadow: 0px 1px 2px rgba(60, 64, 67, 0.3), 0px 1px 3px 1px rgba(60, 64, 67, 0.15);\n",
              "      fill: #174EA6;\n",
              "    }\n",
              "\n",
              "    [theme=dark] .colab-df-convert {\n",
              "      background-color: #3B4455;\n",
              "      fill: #D2E3FC;\n",
              "    }\n",
              "\n",
              "    [theme=dark] .colab-df-convert:hover {\n",
              "      background-color: #434B5C;\n",
              "      box-shadow: 0px 1px 3px 1px rgba(0, 0, 0, 0.15);\n",
              "      filter: drop-shadow(0px 1px 2px rgba(0, 0, 0, 0.3));\n",
              "      fill: #FFFFFF;\n",
              "    }\n",
              "  </style>\n",
              "\n",
              "      <script>\n",
              "        const buttonEl =\n",
              "          document.querySelector('#df-34a7bf79-f15a-45fa-89ea-1b036bfd2b3d button.colab-df-convert');\n",
              "        buttonEl.style.display =\n",
              "          google.colab.kernel.accessAllowed ? 'block' : 'none';\n",
              "\n",
              "        async function convertToInteractive(key) {\n",
              "          const element = document.querySelector('#df-34a7bf79-f15a-45fa-89ea-1b036bfd2b3d');\n",
              "          const dataTable =\n",
              "            await google.colab.kernel.invokeFunction('convertToInteractive',\n",
              "                                                     [key], {});\n",
              "          if (!dataTable) return;\n",
              "\n",
              "          const docLinkHtml = 'Like what you see? Visit the ' +\n",
              "            '<a target=\"_blank\" href=https://colab.research.google.com/notebooks/data_table.ipynb>data table notebook</a>'\n",
              "            + ' to learn more about interactive tables.';\n",
              "          element.innerHTML = '';\n",
              "          dataTable['output_type'] = 'display_data';\n",
              "          await google.colab.output.renderOutput(dataTable, element);\n",
              "          const docLink = document.createElement('div');\n",
              "          docLink.innerHTML = docLinkHtml;\n",
              "          element.appendChild(docLink);\n",
              "        }\n",
              "      </script>\n",
              "    </div>\n",
              "  </div>\n",
              "  "
            ]
          },
          "metadata": {},
          "execution_count": 4
        }
      ]
    },
    {
      "cell_type": "code",
      "source": [
        "import pandas as pd \n",
        "  \n",
        "# Define a dictionary containing employee data \n",
        "data1 = {'Name':['Jai', 'Princi', 'Gaurav', 'Anuj'], \n",
        "        'Age':[27, 24, 22, 32]} \n",
        "    \n",
        "# Define a dictionary containing employee data \n",
        "data2 = {'Address':['Allahabad', 'Kannuaj', 'Allahabad', 'Kannuaj'], \n",
        "        'Qualification':['MCA', 'Phd', 'Bcom', 'B.hons']} \n",
        "  \n",
        "# Convert the dictionary into DataFrame  \n",
        "df = pd.DataFrame(data1,index=['K0', 'K1', 'K2', 'K3'])\n",
        "  \n",
        "# Convert the dictionary into DataFrame  \n",
        "df1 = pd.DataFrame(data2, index=['K0', 'K2', 'K3', 'K4'])\n",
        " \n",
        " \n",
        "print(df, \"\\n\\n\", df1)  "
      ],
      "metadata": {
        "colab": {
          "base_uri": "https://localhost:8080/"
        },
        "id": "-OM7tXcdrhT1",
        "outputId": "17b6b9c6-0279-40b4-83fa-e72504e0855f"
      },
      "execution_count": null,
      "outputs": [
        {
          "output_type": "stream",
          "name": "stdout",
          "text": [
            "      Name  Age\n",
            "K0     Jai   27\n",
            "K1  Princi   24\n",
            "K2  Gaurav   22\n",
            "K3    Anuj   32 \n",
            "\n",
            "       Address Qualification\n",
            "K0  Allahabad           MCA\n",
            "K2    Kannuaj           Phd\n",
            "K3  Allahabad          Bcom\n",
            "K4    Kannuaj        B.hons\n"
          ]
        }
      ]
    },
    {
      "cell_type": "code",
      "source": [
        "res = df.join(df1)\n",
        " \n",
        "res"
      ],
      "metadata": {
        "colab": {
          "base_uri": "https://localhost:8080/",
          "height": 175
        },
        "id": "STU32DXtrmBp",
        "outputId": "a153172f-9828-470c-e886-1db583351371"
      },
      "execution_count": null,
      "outputs": [
        {
          "output_type": "execute_result",
          "data": {
            "text/plain": [
              "      Name  Age    Address Qualification\n",
              "K0     Jai   27  Allahabad           MCA\n",
              "K1  Princi   24        NaN           NaN\n",
              "K2  Gaurav   22    Kannuaj           Phd\n",
              "K3    Anuj   32  Allahabad          Bcom"
            ],
            "text/html": [
              "\n",
              "  <div id=\"df-86b9f0c2-8eac-4a1a-83a7-fbf011238bae\">\n",
              "    <div class=\"colab-df-container\">\n",
              "      <div>\n",
              "<style scoped>\n",
              "    .dataframe tbody tr th:only-of-type {\n",
              "        vertical-align: middle;\n",
              "    }\n",
              "\n",
              "    .dataframe tbody tr th {\n",
              "        vertical-align: top;\n",
              "    }\n",
              "\n",
              "    .dataframe thead th {\n",
              "        text-align: right;\n",
              "    }\n",
              "</style>\n",
              "<table border=\"1\" class=\"dataframe\">\n",
              "  <thead>\n",
              "    <tr style=\"text-align: right;\">\n",
              "      <th></th>\n",
              "      <th>Name</th>\n",
              "      <th>Age</th>\n",
              "      <th>Address</th>\n",
              "      <th>Qualification</th>\n",
              "    </tr>\n",
              "  </thead>\n",
              "  <tbody>\n",
              "    <tr>\n",
              "      <th>K0</th>\n",
              "      <td>Jai</td>\n",
              "      <td>27</td>\n",
              "      <td>Allahabad</td>\n",
              "      <td>MCA</td>\n",
              "    </tr>\n",
              "    <tr>\n",
              "      <th>K1</th>\n",
              "      <td>Princi</td>\n",
              "      <td>24</td>\n",
              "      <td>NaN</td>\n",
              "      <td>NaN</td>\n",
              "    </tr>\n",
              "    <tr>\n",
              "      <th>K2</th>\n",
              "      <td>Gaurav</td>\n",
              "      <td>22</td>\n",
              "      <td>Kannuaj</td>\n",
              "      <td>Phd</td>\n",
              "    </tr>\n",
              "    <tr>\n",
              "      <th>K3</th>\n",
              "      <td>Anuj</td>\n",
              "      <td>32</td>\n",
              "      <td>Allahabad</td>\n",
              "      <td>Bcom</td>\n",
              "    </tr>\n",
              "  </tbody>\n",
              "</table>\n",
              "</div>\n",
              "      <button class=\"colab-df-convert\" onclick=\"convertToInteractive('df-86b9f0c2-8eac-4a1a-83a7-fbf011238bae')\"\n",
              "              title=\"Convert this dataframe to an interactive table.\"\n",
              "              style=\"display:none;\">\n",
              "        \n",
              "  <svg xmlns=\"http://www.w3.org/2000/svg\" height=\"24px\"viewBox=\"0 0 24 24\"\n",
              "       width=\"24px\">\n",
              "    <path d=\"M0 0h24v24H0V0z\" fill=\"none\"/>\n",
              "    <path d=\"M18.56 5.44l.94 2.06.94-2.06 2.06-.94-2.06-.94-.94-2.06-.94 2.06-2.06.94zm-11 1L8.5 8.5l.94-2.06 2.06-.94-2.06-.94L8.5 2.5l-.94 2.06-2.06.94zm10 10l.94 2.06.94-2.06 2.06-.94-2.06-.94-.94-2.06-.94 2.06-2.06.94z\"/><path d=\"M17.41 7.96l-1.37-1.37c-.4-.4-.92-.59-1.43-.59-.52 0-1.04.2-1.43.59L10.3 9.45l-7.72 7.72c-.78.78-.78 2.05 0 2.83L4 21.41c.39.39.9.59 1.41.59.51 0 1.02-.2 1.41-.59l7.78-7.78 2.81-2.81c.8-.78.8-2.07 0-2.86zM5.41 20L4 18.59l7.72-7.72 1.47 1.35L5.41 20z\"/>\n",
              "  </svg>\n",
              "      </button>\n",
              "      \n",
              "  <style>\n",
              "    .colab-df-container {\n",
              "      display:flex;\n",
              "      flex-wrap:wrap;\n",
              "      gap: 12px;\n",
              "    }\n",
              "\n",
              "    .colab-df-convert {\n",
              "      background-color: #E8F0FE;\n",
              "      border: none;\n",
              "      border-radius: 50%;\n",
              "      cursor: pointer;\n",
              "      display: none;\n",
              "      fill: #1967D2;\n",
              "      height: 32px;\n",
              "      padding: 0 0 0 0;\n",
              "      width: 32px;\n",
              "    }\n",
              "\n",
              "    .colab-df-convert:hover {\n",
              "      background-color: #E2EBFA;\n",
              "      box-shadow: 0px 1px 2px rgba(60, 64, 67, 0.3), 0px 1px 3px 1px rgba(60, 64, 67, 0.15);\n",
              "      fill: #174EA6;\n",
              "    }\n",
              "\n",
              "    [theme=dark] .colab-df-convert {\n",
              "      background-color: #3B4455;\n",
              "      fill: #D2E3FC;\n",
              "    }\n",
              "\n",
              "    [theme=dark] .colab-df-convert:hover {\n",
              "      background-color: #434B5C;\n",
              "      box-shadow: 0px 1px 3px 1px rgba(0, 0, 0, 0.15);\n",
              "      filter: drop-shadow(0px 1px 2px rgba(0, 0, 0, 0.3));\n",
              "      fill: #FFFFFF;\n",
              "    }\n",
              "  </style>\n",
              "\n",
              "      <script>\n",
              "        const buttonEl =\n",
              "          document.querySelector('#df-86b9f0c2-8eac-4a1a-83a7-fbf011238bae button.colab-df-convert');\n",
              "        buttonEl.style.display =\n",
              "          google.colab.kernel.accessAllowed ? 'block' : 'none';\n",
              "\n",
              "        async function convertToInteractive(key) {\n",
              "          const element = document.querySelector('#df-86b9f0c2-8eac-4a1a-83a7-fbf011238bae');\n",
              "          const dataTable =\n",
              "            await google.colab.kernel.invokeFunction('convertToInteractive',\n",
              "                                                     [key], {});\n",
              "          if (!dataTable) return;\n",
              "\n",
              "          const docLinkHtml = 'Like what you see? Visit the ' +\n",
              "            '<a target=\"_blank\" href=https://colab.research.google.com/notebooks/data_table.ipynb>data table notebook</a>'\n",
              "            + ' to learn more about interactive tables.';\n",
              "          element.innerHTML = '';\n",
              "          dataTable['output_type'] = 'display_data';\n",
              "          await google.colab.output.renderOutput(dataTable, element);\n",
              "          const docLink = document.createElement('div');\n",
              "          docLink.innerHTML = docLinkHtml;\n",
              "          element.appendChild(docLink);\n",
              "        }\n",
              "      </script>\n",
              "    </div>\n",
              "  </div>\n",
              "  "
            ]
          },
          "metadata": {},
          "execution_count": 7
        }
      ]
    },
    {
      "cell_type": "code",
      "source": [
        "res1 = df.join(df1, how='outer')\n",
        " \n",
        "res1"
      ],
      "metadata": {
        "colab": {
          "base_uri": "https://localhost:8080/",
          "height": 206
        },
        "id": "bsNLEwm9ruze",
        "outputId": "8dc159eb-66a8-46e1-fce5-d7a194a8faca"
      },
      "execution_count": null,
      "outputs": [
        {
          "output_type": "execute_result",
          "data": {
            "text/plain": [
              "      Name   Age    Address Qualification\n",
              "K0     Jai  27.0  Allahabad           MCA\n",
              "K1  Princi  24.0        NaN           NaN\n",
              "K2  Gaurav  22.0    Kannuaj           Phd\n",
              "K3    Anuj  32.0  Allahabad          Bcom\n",
              "K4     NaN   NaN    Kannuaj        B.hons"
            ],
            "text/html": [
              "\n",
              "  <div id=\"df-419d0215-6a5b-4273-b990-8bec69f28a93\">\n",
              "    <div class=\"colab-df-container\">\n",
              "      <div>\n",
              "<style scoped>\n",
              "    .dataframe tbody tr th:only-of-type {\n",
              "        vertical-align: middle;\n",
              "    }\n",
              "\n",
              "    .dataframe tbody tr th {\n",
              "        vertical-align: top;\n",
              "    }\n",
              "\n",
              "    .dataframe thead th {\n",
              "        text-align: right;\n",
              "    }\n",
              "</style>\n",
              "<table border=\"1\" class=\"dataframe\">\n",
              "  <thead>\n",
              "    <tr style=\"text-align: right;\">\n",
              "      <th></th>\n",
              "      <th>Name</th>\n",
              "      <th>Age</th>\n",
              "      <th>Address</th>\n",
              "      <th>Qualification</th>\n",
              "    </tr>\n",
              "  </thead>\n",
              "  <tbody>\n",
              "    <tr>\n",
              "      <th>K0</th>\n",
              "      <td>Jai</td>\n",
              "      <td>27.0</td>\n",
              "      <td>Allahabad</td>\n",
              "      <td>MCA</td>\n",
              "    </tr>\n",
              "    <tr>\n",
              "      <th>K1</th>\n",
              "      <td>Princi</td>\n",
              "      <td>24.0</td>\n",
              "      <td>NaN</td>\n",
              "      <td>NaN</td>\n",
              "    </tr>\n",
              "    <tr>\n",
              "      <th>K2</th>\n",
              "      <td>Gaurav</td>\n",
              "      <td>22.0</td>\n",
              "      <td>Kannuaj</td>\n",
              "      <td>Phd</td>\n",
              "    </tr>\n",
              "    <tr>\n",
              "      <th>K3</th>\n",
              "      <td>Anuj</td>\n",
              "      <td>32.0</td>\n",
              "      <td>Allahabad</td>\n",
              "      <td>Bcom</td>\n",
              "    </tr>\n",
              "    <tr>\n",
              "      <th>K4</th>\n",
              "      <td>NaN</td>\n",
              "      <td>NaN</td>\n",
              "      <td>Kannuaj</td>\n",
              "      <td>B.hons</td>\n",
              "    </tr>\n",
              "  </tbody>\n",
              "</table>\n",
              "</div>\n",
              "      <button class=\"colab-df-convert\" onclick=\"convertToInteractive('df-419d0215-6a5b-4273-b990-8bec69f28a93')\"\n",
              "              title=\"Convert this dataframe to an interactive table.\"\n",
              "              style=\"display:none;\">\n",
              "        \n",
              "  <svg xmlns=\"http://www.w3.org/2000/svg\" height=\"24px\"viewBox=\"0 0 24 24\"\n",
              "       width=\"24px\">\n",
              "    <path d=\"M0 0h24v24H0V0z\" fill=\"none\"/>\n",
              "    <path d=\"M18.56 5.44l.94 2.06.94-2.06 2.06-.94-2.06-.94-.94-2.06-.94 2.06-2.06.94zm-11 1L8.5 8.5l.94-2.06 2.06-.94-2.06-.94L8.5 2.5l-.94 2.06-2.06.94zm10 10l.94 2.06.94-2.06 2.06-.94-2.06-.94-.94-2.06-.94 2.06-2.06.94z\"/><path d=\"M17.41 7.96l-1.37-1.37c-.4-.4-.92-.59-1.43-.59-.52 0-1.04.2-1.43.59L10.3 9.45l-7.72 7.72c-.78.78-.78 2.05 0 2.83L4 21.41c.39.39.9.59 1.41.59.51 0 1.02-.2 1.41-.59l7.78-7.78 2.81-2.81c.8-.78.8-2.07 0-2.86zM5.41 20L4 18.59l7.72-7.72 1.47 1.35L5.41 20z\"/>\n",
              "  </svg>\n",
              "      </button>\n",
              "      \n",
              "  <style>\n",
              "    .colab-df-container {\n",
              "      display:flex;\n",
              "      flex-wrap:wrap;\n",
              "      gap: 12px;\n",
              "    }\n",
              "\n",
              "    .colab-df-convert {\n",
              "      background-color: #E8F0FE;\n",
              "      border: none;\n",
              "      border-radius: 50%;\n",
              "      cursor: pointer;\n",
              "      display: none;\n",
              "      fill: #1967D2;\n",
              "      height: 32px;\n",
              "      padding: 0 0 0 0;\n",
              "      width: 32px;\n",
              "    }\n",
              "\n",
              "    .colab-df-convert:hover {\n",
              "      background-color: #E2EBFA;\n",
              "      box-shadow: 0px 1px 2px rgba(60, 64, 67, 0.3), 0px 1px 3px 1px rgba(60, 64, 67, 0.15);\n",
              "      fill: #174EA6;\n",
              "    }\n",
              "\n",
              "    [theme=dark] .colab-df-convert {\n",
              "      background-color: #3B4455;\n",
              "      fill: #D2E3FC;\n",
              "    }\n",
              "\n",
              "    [theme=dark] .colab-df-convert:hover {\n",
              "      background-color: #434B5C;\n",
              "      box-shadow: 0px 1px 3px 1px rgba(0, 0, 0, 0.15);\n",
              "      filter: drop-shadow(0px 1px 2px rgba(0, 0, 0, 0.3));\n",
              "      fill: #FFFFFF;\n",
              "    }\n",
              "  </style>\n",
              "\n",
              "      <script>\n",
              "        const buttonEl =\n",
              "          document.querySelector('#df-419d0215-6a5b-4273-b990-8bec69f28a93 button.colab-df-convert');\n",
              "        buttonEl.style.display =\n",
              "          google.colab.kernel.accessAllowed ? 'block' : 'none';\n",
              "\n",
              "        async function convertToInteractive(key) {\n",
              "          const element = document.querySelector('#df-419d0215-6a5b-4273-b990-8bec69f28a93');\n",
              "          const dataTable =\n",
              "            await google.colab.kernel.invokeFunction('convertToInteractive',\n",
              "                                                     [key], {});\n",
              "          if (!dataTable) return;\n",
              "\n",
              "          const docLinkHtml = 'Like what you see? Visit the ' +\n",
              "            '<a target=\"_blank\" href=https://colab.research.google.com/notebooks/data_table.ipynb>data table notebook</a>'\n",
              "            + ' to learn more about interactive tables.';\n",
              "          element.innerHTML = '';\n",
              "          dataTable['output_type'] = 'display_data';\n",
              "          await google.colab.output.renderOutput(dataTable, element);\n",
              "          const docLink = document.createElement('div');\n",
              "          docLink.innerHTML = docLinkHtml;\n",
              "          element.appendChild(docLink);\n",
              "        }\n",
              "      </script>\n",
              "    </div>\n",
              "  </div>\n",
              "  "
            ]
          },
          "metadata": {},
          "execution_count": 8
        }
      ]
    },
    {
      "cell_type": "code",
      "source": [
        "import pandas as pd \n",
        "  \n",
        "# Define a dictionary containing employee data \n",
        "data1 = {'Name':['Jai', 'Princi', 'Gaurav', 'Anuj'], \n",
        "        'Age':[27, 24, 22, 32],\n",
        "        'Key':['K0', 'K1', 'K2', 'K3']} \n",
        "    \n",
        "# Define a dictionary containing employee data \n",
        "data2 = {'Address':['Allahabad', 'Kannuaj', 'Allahabad', 'Kannuaj'], \n",
        "        'Qualification':['MCA', 'Phd', 'Bcom', 'B.hons']} \n",
        "  \n",
        "# Convert the dictionary into DataFrame  \n",
        "df = pd.DataFrame(data1)\n",
        "  \n",
        "# Convert the dictionary into DataFrame  \n",
        "df1 = pd.DataFrame(data2, index=['K0', 'K2', 'K3', 'K4'])\n",
        " \n",
        " \n",
        "print(df, \"\\n\\n\", df1) "
      ],
      "metadata": {
        "colab": {
          "base_uri": "https://localhost:8080/"
        },
        "id": "rcW5xqear5AH",
        "outputId": "265d2e64-f5de-43eb-e0ce-186a468affa0"
      },
      "execution_count": null,
      "outputs": [
        {
          "output_type": "stream",
          "name": "stdout",
          "text": [
            "     Name  Age Key\n",
            "0     Jai   27  K0\n",
            "1  Princi   24  K1\n",
            "2  Gaurav   22  K2\n",
            "3    Anuj   32  K3 \n",
            "\n",
            "       Address Qualification\n",
            "K0  Allahabad           MCA\n",
            "K2    Kannuaj           Phd\n",
            "K3  Allahabad          Bcom\n",
            "K4    Kannuaj        B.hons\n"
          ]
        }
      ]
    },
    {
      "cell_type": "code",
      "source": [
        "res2 = df.join(df1, on='Key')\n",
        " \n",
        "res2"
      ],
      "metadata": {
        "colab": {
          "base_uri": "https://localhost:8080/",
          "height": 175
        },
        "id": "NarRPmpxr8sY",
        "outputId": "454d5994-9000-4744-ac34-696d8f0d38e4"
      },
      "execution_count": null,
      "outputs": [
        {
          "output_type": "execute_result",
          "data": {
            "text/plain": [
              "     Name  Age Key    Address Qualification\n",
              "0     Jai   27  K0  Allahabad           MCA\n",
              "1  Princi   24  K1        NaN           NaN\n",
              "2  Gaurav   22  K2    Kannuaj           Phd\n",
              "3    Anuj   32  K3  Allahabad          Bcom"
            ],
            "text/html": [
              "\n",
              "  <div id=\"df-6bd40420-94e7-47db-b479-de9a50d35228\">\n",
              "    <div class=\"colab-df-container\">\n",
              "      <div>\n",
              "<style scoped>\n",
              "    .dataframe tbody tr th:only-of-type {\n",
              "        vertical-align: middle;\n",
              "    }\n",
              "\n",
              "    .dataframe tbody tr th {\n",
              "        vertical-align: top;\n",
              "    }\n",
              "\n",
              "    .dataframe thead th {\n",
              "        text-align: right;\n",
              "    }\n",
              "</style>\n",
              "<table border=\"1\" class=\"dataframe\">\n",
              "  <thead>\n",
              "    <tr style=\"text-align: right;\">\n",
              "      <th></th>\n",
              "      <th>Name</th>\n",
              "      <th>Age</th>\n",
              "      <th>Key</th>\n",
              "      <th>Address</th>\n",
              "      <th>Qualification</th>\n",
              "    </tr>\n",
              "  </thead>\n",
              "  <tbody>\n",
              "    <tr>\n",
              "      <th>0</th>\n",
              "      <td>Jai</td>\n",
              "      <td>27</td>\n",
              "      <td>K0</td>\n",
              "      <td>Allahabad</td>\n",
              "      <td>MCA</td>\n",
              "    </tr>\n",
              "    <tr>\n",
              "      <th>1</th>\n",
              "      <td>Princi</td>\n",
              "      <td>24</td>\n",
              "      <td>K1</td>\n",
              "      <td>NaN</td>\n",
              "      <td>NaN</td>\n",
              "    </tr>\n",
              "    <tr>\n",
              "      <th>2</th>\n",
              "      <td>Gaurav</td>\n",
              "      <td>22</td>\n",
              "      <td>K2</td>\n",
              "      <td>Kannuaj</td>\n",
              "      <td>Phd</td>\n",
              "    </tr>\n",
              "    <tr>\n",
              "      <th>3</th>\n",
              "      <td>Anuj</td>\n",
              "      <td>32</td>\n",
              "      <td>K3</td>\n",
              "      <td>Allahabad</td>\n",
              "      <td>Bcom</td>\n",
              "    </tr>\n",
              "  </tbody>\n",
              "</table>\n",
              "</div>\n",
              "      <button class=\"colab-df-convert\" onclick=\"convertToInteractive('df-6bd40420-94e7-47db-b479-de9a50d35228')\"\n",
              "              title=\"Convert this dataframe to an interactive table.\"\n",
              "              style=\"display:none;\">\n",
              "        \n",
              "  <svg xmlns=\"http://www.w3.org/2000/svg\" height=\"24px\"viewBox=\"0 0 24 24\"\n",
              "       width=\"24px\">\n",
              "    <path d=\"M0 0h24v24H0V0z\" fill=\"none\"/>\n",
              "    <path d=\"M18.56 5.44l.94 2.06.94-2.06 2.06-.94-2.06-.94-.94-2.06-.94 2.06-2.06.94zm-11 1L8.5 8.5l.94-2.06 2.06-.94-2.06-.94L8.5 2.5l-.94 2.06-2.06.94zm10 10l.94 2.06.94-2.06 2.06-.94-2.06-.94-.94-2.06-.94 2.06-2.06.94z\"/><path d=\"M17.41 7.96l-1.37-1.37c-.4-.4-.92-.59-1.43-.59-.52 0-1.04.2-1.43.59L10.3 9.45l-7.72 7.72c-.78.78-.78 2.05 0 2.83L4 21.41c.39.39.9.59 1.41.59.51 0 1.02-.2 1.41-.59l7.78-7.78 2.81-2.81c.8-.78.8-2.07 0-2.86zM5.41 20L4 18.59l7.72-7.72 1.47 1.35L5.41 20z\"/>\n",
              "  </svg>\n",
              "      </button>\n",
              "      \n",
              "  <style>\n",
              "    .colab-df-container {\n",
              "      display:flex;\n",
              "      flex-wrap:wrap;\n",
              "      gap: 12px;\n",
              "    }\n",
              "\n",
              "    .colab-df-convert {\n",
              "      background-color: #E8F0FE;\n",
              "      border: none;\n",
              "      border-radius: 50%;\n",
              "      cursor: pointer;\n",
              "      display: none;\n",
              "      fill: #1967D2;\n",
              "      height: 32px;\n",
              "      padding: 0 0 0 0;\n",
              "      width: 32px;\n",
              "    }\n",
              "\n",
              "    .colab-df-convert:hover {\n",
              "      background-color: #E2EBFA;\n",
              "      box-shadow: 0px 1px 2px rgba(60, 64, 67, 0.3), 0px 1px 3px 1px rgba(60, 64, 67, 0.15);\n",
              "      fill: #174EA6;\n",
              "    }\n",
              "\n",
              "    [theme=dark] .colab-df-convert {\n",
              "      background-color: #3B4455;\n",
              "      fill: #D2E3FC;\n",
              "    }\n",
              "\n",
              "    [theme=dark] .colab-df-convert:hover {\n",
              "      background-color: #434B5C;\n",
              "      box-shadow: 0px 1px 3px 1px rgba(0, 0, 0, 0.15);\n",
              "      filter: drop-shadow(0px 1px 2px rgba(0, 0, 0, 0.3));\n",
              "      fill: #FFFFFF;\n",
              "    }\n",
              "  </style>\n",
              "\n",
              "      <script>\n",
              "        const buttonEl =\n",
              "          document.querySelector('#df-6bd40420-94e7-47db-b479-de9a50d35228 button.colab-df-convert');\n",
              "        buttonEl.style.display =\n",
              "          google.colab.kernel.accessAllowed ? 'block' : 'none';\n",
              "\n",
              "        async function convertToInteractive(key) {\n",
              "          const element = document.querySelector('#df-6bd40420-94e7-47db-b479-de9a50d35228');\n",
              "          const dataTable =\n",
              "            await google.colab.kernel.invokeFunction('convertToInteractive',\n",
              "                                                     [key], {});\n",
              "          if (!dataTable) return;\n",
              "\n",
              "          const docLinkHtml = 'Like what you see? Visit the ' +\n",
              "            '<a target=\"_blank\" href=https://colab.research.google.com/notebooks/data_table.ipynb>data table notebook</a>'\n",
              "            + ' to learn more about interactive tables.';\n",
              "          element.innerHTML = '';\n",
              "          dataTable['output_type'] = 'display_data';\n",
              "          await google.colab.output.renderOutput(dataTable, element);\n",
              "          const docLink = document.createElement('div');\n",
              "          docLink.innerHTML = docLinkHtml;\n",
              "          element.appendChild(docLink);\n",
              "        }\n",
              "      </script>\n",
              "    </div>\n",
              "  </div>\n",
              "  "
            ]
          },
          "metadata": {},
          "execution_count": 10
        }
      ]
    },
    {
      "cell_type": "code",
      "source": [
        "data1 = {'Name':['Jai', 'Princi', 'Gaurav'], \n",
        "        'Age':[27, 24, 22]} \n",
        "    \n",
        "# Define a dictionary containing employee data \n",
        "data2 = {'Address':['Allahabad', 'Kannuaj', 'Allahabad', 'Kanpur'], \n",
        "        'Qualification':['MCA', 'Phd', 'Bcom', 'B.hons']} \n",
        "  \n",
        "# Convert the dictionary into DataFrame  \n",
        "df = pd.DataFrame(data1, index=pd.Index(['K0', 'K1', 'K2'], name='key'))\n",
        " \n",
        "index = pd.MultiIndex.from_tuples([('K0', 'Y0'), ('K1', 'Y1'),\n",
        "                                   ('K2', 'Y2'), ('K2', 'Y3')],\n",
        "                                   names=['key', 'Y'])\n",
        "  \n",
        "# Convert the dictionary into DataFrame  \n",
        "df1 = pd.DataFrame(data2, index= index)\n",
        " \n",
        " \n",
        "print(df, \"\\n\\n\", df1)"
      ],
      "metadata": {
        "colab": {
          "base_uri": "https://localhost:8080/"
        },
        "id": "8x-zQKD0sEm4",
        "outputId": "b74e59af-afbb-4af7-bdf3-3806b14a3497"
      },
      "execution_count": null,
      "outputs": [
        {
          "output_type": "stream",
          "name": "stdout",
          "text": [
            "       Name  Age\n",
            "key             \n",
            "K0      Jai   27\n",
            "K1   Princi   24\n",
            "K2   Gaurav   22 \n",
            "\n",
            "           Address Qualification\n",
            "key Y                          \n",
            "K0  Y0  Allahabad           MCA\n",
            "K1  Y1    Kannuaj           Phd\n",
            "K2  Y2  Allahabad          Bcom\n",
            "    Y3     Kanpur        B.hons\n"
          ]
        }
      ]
    },
    {
      "cell_type": "code",
      "source": [
        "result = df.join(df1, how='inner')\n",
        " \n",
        "result"
      ],
      "metadata": {
        "colab": {
          "base_uri": "https://localhost:8080/",
          "height": 206
        },
        "id": "sH1-5bacsAhc",
        "outputId": "f8e45d68-72f0-48be-e3c9-843af61cf994"
      },
      "execution_count": null,
      "outputs": [
        {
          "output_type": "execute_result",
          "data": {
            "text/plain": [
              "          Name  Age    Address Qualification\n",
              "key Y                                       \n",
              "K0  Y0     Jai   27  Allahabad           MCA\n",
              "K1  Y1  Princi   24    Kannuaj           Phd\n",
              "K2  Y2  Gaurav   22  Allahabad          Bcom\n",
              "    Y3  Gaurav   22     Kanpur        B.hons"
            ],
            "text/html": [
              "\n",
              "  <div id=\"df-d090ed1f-82ec-4c60-9632-38da20424ff6\">\n",
              "    <div class=\"colab-df-container\">\n",
              "      <div>\n",
              "<style scoped>\n",
              "    .dataframe tbody tr th:only-of-type {\n",
              "        vertical-align: middle;\n",
              "    }\n",
              "\n",
              "    .dataframe tbody tr th {\n",
              "        vertical-align: top;\n",
              "    }\n",
              "\n",
              "    .dataframe thead th {\n",
              "        text-align: right;\n",
              "    }\n",
              "</style>\n",
              "<table border=\"1\" class=\"dataframe\">\n",
              "  <thead>\n",
              "    <tr style=\"text-align: right;\">\n",
              "      <th></th>\n",
              "      <th></th>\n",
              "      <th>Name</th>\n",
              "      <th>Age</th>\n",
              "      <th>Address</th>\n",
              "      <th>Qualification</th>\n",
              "    </tr>\n",
              "    <tr>\n",
              "      <th>key</th>\n",
              "      <th>Y</th>\n",
              "      <th></th>\n",
              "      <th></th>\n",
              "      <th></th>\n",
              "      <th></th>\n",
              "    </tr>\n",
              "  </thead>\n",
              "  <tbody>\n",
              "    <tr>\n",
              "      <th>K0</th>\n",
              "      <th>Y0</th>\n",
              "      <td>Jai</td>\n",
              "      <td>27</td>\n",
              "      <td>Allahabad</td>\n",
              "      <td>MCA</td>\n",
              "    </tr>\n",
              "    <tr>\n",
              "      <th>K1</th>\n",
              "      <th>Y1</th>\n",
              "      <td>Princi</td>\n",
              "      <td>24</td>\n",
              "      <td>Kannuaj</td>\n",
              "      <td>Phd</td>\n",
              "    </tr>\n",
              "    <tr>\n",
              "      <th rowspan=\"2\" valign=\"top\">K2</th>\n",
              "      <th>Y2</th>\n",
              "      <td>Gaurav</td>\n",
              "      <td>22</td>\n",
              "      <td>Allahabad</td>\n",
              "      <td>Bcom</td>\n",
              "    </tr>\n",
              "    <tr>\n",
              "      <th>Y3</th>\n",
              "      <td>Gaurav</td>\n",
              "      <td>22</td>\n",
              "      <td>Kanpur</td>\n",
              "      <td>B.hons</td>\n",
              "    </tr>\n",
              "  </tbody>\n",
              "</table>\n",
              "</div>\n",
              "      <button class=\"colab-df-convert\" onclick=\"convertToInteractive('df-d090ed1f-82ec-4c60-9632-38da20424ff6')\"\n",
              "              title=\"Convert this dataframe to an interactive table.\"\n",
              "              style=\"display:none;\">\n",
              "        \n",
              "  <svg xmlns=\"http://www.w3.org/2000/svg\" height=\"24px\"viewBox=\"0 0 24 24\"\n",
              "       width=\"24px\">\n",
              "    <path d=\"M0 0h24v24H0V0z\" fill=\"none\"/>\n",
              "    <path d=\"M18.56 5.44l.94 2.06.94-2.06 2.06-.94-2.06-.94-.94-2.06-.94 2.06-2.06.94zm-11 1L8.5 8.5l.94-2.06 2.06-.94-2.06-.94L8.5 2.5l-.94 2.06-2.06.94zm10 10l.94 2.06.94-2.06 2.06-.94-2.06-.94-.94-2.06-.94 2.06-2.06.94z\"/><path d=\"M17.41 7.96l-1.37-1.37c-.4-.4-.92-.59-1.43-.59-.52 0-1.04.2-1.43.59L10.3 9.45l-7.72 7.72c-.78.78-.78 2.05 0 2.83L4 21.41c.39.39.9.59 1.41.59.51 0 1.02-.2 1.41-.59l7.78-7.78 2.81-2.81c.8-.78.8-2.07 0-2.86zM5.41 20L4 18.59l7.72-7.72 1.47 1.35L5.41 20z\"/>\n",
              "  </svg>\n",
              "      </button>\n",
              "      \n",
              "  <style>\n",
              "    .colab-df-container {\n",
              "      display:flex;\n",
              "      flex-wrap:wrap;\n",
              "      gap: 12px;\n",
              "    }\n",
              "\n",
              "    .colab-df-convert {\n",
              "      background-color: #E8F0FE;\n",
              "      border: none;\n",
              "      border-radius: 50%;\n",
              "      cursor: pointer;\n",
              "      display: none;\n",
              "      fill: #1967D2;\n",
              "      height: 32px;\n",
              "      padding: 0 0 0 0;\n",
              "      width: 32px;\n",
              "    }\n",
              "\n",
              "    .colab-df-convert:hover {\n",
              "      background-color: #E2EBFA;\n",
              "      box-shadow: 0px 1px 2px rgba(60, 64, 67, 0.3), 0px 1px 3px 1px rgba(60, 64, 67, 0.15);\n",
              "      fill: #174EA6;\n",
              "    }\n",
              "\n",
              "    [theme=dark] .colab-df-convert {\n",
              "      background-color: #3B4455;\n",
              "      fill: #D2E3FC;\n",
              "    }\n",
              "\n",
              "    [theme=dark] .colab-df-convert:hover {\n",
              "      background-color: #434B5C;\n",
              "      box-shadow: 0px 1px 3px 1px rgba(0, 0, 0, 0.15);\n",
              "      filter: drop-shadow(0px 1px 2px rgba(0, 0, 0, 0.3));\n",
              "      fill: #FFFFFF;\n",
              "    }\n",
              "  </style>\n",
              "\n",
              "      <script>\n",
              "        const buttonEl =\n",
              "          document.querySelector('#df-d090ed1f-82ec-4c60-9632-38da20424ff6 button.colab-df-convert');\n",
              "        buttonEl.style.display =\n",
              "          google.colab.kernel.accessAllowed ? 'block' : 'none';\n",
              "\n",
              "        async function convertToInteractive(key) {\n",
              "          const element = document.querySelector('#df-d090ed1f-82ec-4c60-9632-38da20424ff6');\n",
              "          const dataTable =\n",
              "            await google.colab.kernel.invokeFunction('convertToInteractive',\n",
              "                                                     [key], {});\n",
              "          if (!dataTable) return;\n",
              "\n",
              "          const docLinkHtml = 'Like what you see? Visit the ' +\n",
              "            '<a target=\"_blank\" href=https://colab.research.google.com/notebooks/data_table.ipynb>data table notebook</a>'\n",
              "            + ' to learn more about interactive tables.';\n",
              "          element.innerHTML = '';\n",
              "          dataTable['output_type'] = 'display_data';\n",
              "          await google.colab.output.renderOutput(dataTable, element);\n",
              "          const docLink = document.createElement('div');\n",
              "          docLink.innerHTML = docLinkHtml;\n",
              "          element.appendChild(docLink);\n",
              "        }\n",
              "      </script>\n",
              "    </div>\n",
              "  </div>\n",
              "  "
            ]
          },
          "metadata": {},
          "execution_count": 13
        }
      ]
    },
    {
      "cell_type": "code",
      "source": [
        "\n",
        "import pandas as pd\n",
        " \n",
        "# Create dates dataframe with frequency \n",
        "data = pd.date_range('1/1/2011', periods = 10, freq ='H')\n",
        " \n",
        "data"
      ],
      "metadata": {
        "colab": {
          "base_uri": "https://localhost:8080/"
        },
        "id": "B5tmj6c4sdZE",
        "outputId": "db0a165d-8c75-4a0e-f23b-e2cad60a7f71"
      },
      "execution_count": null,
      "outputs": [
        {
          "output_type": "execute_result",
          "data": {
            "text/plain": [
              "DatetimeIndex(['2011-01-01 00:00:00', '2011-01-01 01:00:00',\n",
              "               '2011-01-01 02:00:00', '2011-01-01 03:00:00',\n",
              "               '2011-01-01 04:00:00', '2011-01-01 05:00:00',\n",
              "               '2011-01-01 06:00:00', '2011-01-01 07:00:00',\n",
              "               '2011-01-01 08:00:00', '2011-01-01 09:00:00'],\n",
              "              dtype='datetime64[ns]', freq='H')"
            ]
          },
          "metadata": {},
          "execution_count": 14
        }
      ]
    },
    {
      "cell_type": "code",
      "source": [
        "data = pd.date_range('1/1/2011', periods = 10, freq ='H')\n",
        " \n",
        "x = pd.datetime.now()\n",
        "x.month, x.year"
      ],
      "metadata": {
        "colab": {
          "base_uri": "https://localhost:8080/"
        },
        "id": "UQ6J58V9ZSGg",
        "outputId": "9164beff-79ee-451b-866d-39b8b06282fe"
      },
      "execution_count": null,
      "outputs": [
        {
          "output_type": "stream",
          "name": "stderr",
          "text": [
            "/usr/local/lib/python3.7/dist-packages/ipykernel_launcher.py:3: FutureWarning: The pandas.datetime class is deprecated and will be removed from pandas in a future version. Import from datetime module instead.\n",
            "  This is separate from the ipykernel package so we can avoid doing imports until\n"
          ]
        },
        {
          "output_type": "execute_result",
          "data": {
            "text/plain": [
              "(7, 2022)"
            ]
          },
          "metadata": {},
          "execution_count": 6
        }
      ]
    },
    {
      "cell_type": "code",
      "source": [
        "rng = pd.DataFrame()\n",
        "rng['date'] = pd.date_range('1/1/2011', periods = 72, freq ='H')\n",
        " \n",
        "# Print the dates in dd-mm-yy format\n",
        "rng[:5]\n",
        " \n",
        "# Create features for year, month, day, hour, and minute\n",
        "rng['year'] = rng['date'].dt.year\n",
        "rng['month'] = rng['date'].dt.month\n",
        "rng['day'] = rng['date'].dt.day\n",
        "rng['hour'] = rng['date'].dt.hour\n",
        "rng['minute'] = rng['date'].dt.minute\n",
        " \n",
        "# Print the dates divided into features\n",
        "rng.head(3)"
      ],
      "metadata": {
        "colab": {
          "base_uri": "https://localhost:8080/",
          "height": 143
        },
        "id": "VUyFXOH3Zj6v",
        "outputId": "cce8a728-dcb0-4671-e79d-9d5ad2a23b80"
      },
      "execution_count": null,
      "outputs": [
        {
          "output_type": "execute_result",
          "data": {
            "text/plain": [
              "                 date  year  month  day  hour  minute\n",
              "0 2011-01-01 00:00:00  2011      1    1     0       0\n",
              "1 2011-01-01 01:00:00  2011      1    1     1       0\n",
              "2 2011-01-01 02:00:00  2011      1    1     2       0"
            ],
            "text/html": [
              "\n",
              "  <div id=\"df-39f0d721-2404-425c-be4e-79d6392a570f\">\n",
              "    <div class=\"colab-df-container\">\n",
              "      <div>\n",
              "<style scoped>\n",
              "    .dataframe tbody tr th:only-of-type {\n",
              "        vertical-align: middle;\n",
              "    }\n",
              "\n",
              "    .dataframe tbody tr th {\n",
              "        vertical-align: top;\n",
              "    }\n",
              "\n",
              "    .dataframe thead th {\n",
              "        text-align: right;\n",
              "    }\n",
              "</style>\n",
              "<table border=\"1\" class=\"dataframe\">\n",
              "  <thead>\n",
              "    <tr style=\"text-align: right;\">\n",
              "      <th></th>\n",
              "      <th>date</th>\n",
              "      <th>year</th>\n",
              "      <th>month</th>\n",
              "      <th>day</th>\n",
              "      <th>hour</th>\n",
              "      <th>minute</th>\n",
              "    </tr>\n",
              "  </thead>\n",
              "  <tbody>\n",
              "    <tr>\n",
              "      <th>0</th>\n",
              "      <td>2011-01-01 00:00:00</td>\n",
              "      <td>2011</td>\n",
              "      <td>1</td>\n",
              "      <td>1</td>\n",
              "      <td>0</td>\n",
              "      <td>0</td>\n",
              "    </tr>\n",
              "    <tr>\n",
              "      <th>1</th>\n",
              "      <td>2011-01-01 01:00:00</td>\n",
              "      <td>2011</td>\n",
              "      <td>1</td>\n",
              "      <td>1</td>\n",
              "      <td>1</td>\n",
              "      <td>0</td>\n",
              "    </tr>\n",
              "    <tr>\n",
              "      <th>2</th>\n",
              "      <td>2011-01-01 02:00:00</td>\n",
              "      <td>2011</td>\n",
              "      <td>1</td>\n",
              "      <td>1</td>\n",
              "      <td>2</td>\n",
              "      <td>0</td>\n",
              "    </tr>\n",
              "  </tbody>\n",
              "</table>\n",
              "</div>\n",
              "      <button class=\"colab-df-convert\" onclick=\"convertToInteractive('df-39f0d721-2404-425c-be4e-79d6392a570f')\"\n",
              "              title=\"Convert this dataframe to an interactive table.\"\n",
              "              style=\"display:none;\">\n",
              "        \n",
              "  <svg xmlns=\"http://www.w3.org/2000/svg\" height=\"24px\"viewBox=\"0 0 24 24\"\n",
              "       width=\"24px\">\n",
              "    <path d=\"M0 0h24v24H0V0z\" fill=\"none\"/>\n",
              "    <path d=\"M18.56 5.44l.94 2.06.94-2.06 2.06-.94-2.06-.94-.94-2.06-.94 2.06-2.06.94zm-11 1L8.5 8.5l.94-2.06 2.06-.94-2.06-.94L8.5 2.5l-.94 2.06-2.06.94zm10 10l.94 2.06.94-2.06 2.06-.94-2.06-.94-.94-2.06-.94 2.06-2.06.94z\"/><path d=\"M17.41 7.96l-1.37-1.37c-.4-.4-.92-.59-1.43-.59-.52 0-1.04.2-1.43.59L10.3 9.45l-7.72 7.72c-.78.78-.78 2.05 0 2.83L4 21.41c.39.39.9.59 1.41.59.51 0 1.02-.2 1.41-.59l7.78-7.78 2.81-2.81c.8-.78.8-2.07 0-2.86zM5.41 20L4 18.59l7.72-7.72 1.47 1.35L5.41 20z\"/>\n",
              "  </svg>\n",
              "      </button>\n",
              "      \n",
              "  <style>\n",
              "    .colab-df-container {\n",
              "      display:flex;\n",
              "      flex-wrap:wrap;\n",
              "      gap: 12px;\n",
              "    }\n",
              "\n",
              "    .colab-df-convert {\n",
              "      background-color: #E8F0FE;\n",
              "      border: none;\n",
              "      border-radius: 50%;\n",
              "      cursor: pointer;\n",
              "      display: none;\n",
              "      fill: #1967D2;\n",
              "      height: 32px;\n",
              "      padding: 0 0 0 0;\n",
              "      width: 32px;\n",
              "    }\n",
              "\n",
              "    .colab-df-convert:hover {\n",
              "      background-color: #E2EBFA;\n",
              "      box-shadow: 0px 1px 2px rgba(60, 64, 67, 0.3), 0px 1px 3px 1px rgba(60, 64, 67, 0.15);\n",
              "      fill: #174EA6;\n",
              "    }\n",
              "\n",
              "    [theme=dark] .colab-df-convert {\n",
              "      background-color: #3B4455;\n",
              "      fill: #D2E3FC;\n",
              "    }\n",
              "\n",
              "    [theme=dark] .colab-df-convert:hover {\n",
              "      background-color: #434B5C;\n",
              "      box-shadow: 0px 1px 3px 1px rgba(0, 0, 0, 0.15);\n",
              "      filter: drop-shadow(0px 1px 2px rgba(0, 0, 0, 0.3));\n",
              "      fill: #FFFFFF;\n",
              "    }\n",
              "  </style>\n",
              "\n",
              "      <script>\n",
              "        const buttonEl =\n",
              "          document.querySelector('#df-39f0d721-2404-425c-be4e-79d6392a570f button.colab-df-convert');\n",
              "        buttonEl.style.display =\n",
              "          google.colab.kernel.accessAllowed ? 'block' : 'none';\n",
              "\n",
              "        async function convertToInteractive(key) {\n",
              "          const element = document.querySelector('#df-39f0d721-2404-425c-be4e-79d6392a570f');\n",
              "          const dataTable =\n",
              "            await google.colab.kernel.invokeFunction('convertToInteractive',\n",
              "                                                     [key], {});\n",
              "          if (!dataTable) return;\n",
              "\n",
              "          const docLinkHtml = 'Like what you see? Visit the ' +\n",
              "            '<a target=\"_blank\" href=https://colab.research.google.com/notebooks/data_table.ipynb>data table notebook</a>'\n",
              "            + ' to learn more about interactive tables.';\n",
              "          element.innerHTML = '';\n",
              "          dataTable['output_type'] = 'display_data';\n",
              "          await google.colab.output.renderOutput(dataTable, element);\n",
              "          const docLink = document.createElement('div');\n",
              "          docLink.innerHTML = docLinkHtml;\n",
              "          element.appendChild(docLink);\n",
              "        }\n",
              "      </script>\n",
              "    </div>\n",
              "  </div>\n",
              "  "
            ]
          },
          "metadata": {},
          "execution_count": 7
        }
      ]
    },
    {
      "cell_type": "code",
      "source": [
        "import pandas as pd \n",
        "   \n",
        "# Define a dictionary containing employee data \n",
        "data = {'Name':['Jai', 'Princi', 'Gaurav', 'Anuj'], \n",
        "        'Age':[27, 24, 22, 32], \n",
        "        'Address':['Delhi', 'Kanpur', 'Allahabad', 'Kannauj'], \n",
        "        'Qualification':['Msc', 'MA', 'MCA', 'Phd']} \n",
        "   \n",
        "# Convert the dictionary into DataFrame  \n",
        "df = pd.DataFrame(data) \n",
        "   \n",
        "# converting and overwriting values in column \n",
        "df[\"Name\"]= df[\"Name\"].str.lower()\n",
        " \n",
        "print(df)"
      ],
      "metadata": {
        "colab": {
          "base_uri": "https://localhost:8080/"
        },
        "id": "1o9mtVAzZ-5g",
        "outputId": "da45c5a3-0e28-48d8-9d0b-c63b92a6ae08"
      },
      "execution_count": null,
      "outputs": [
        {
          "output_type": "stream",
          "name": "stdout",
          "text": [
            "     Name  Age    Address Qualification\n",
            "0     jai   27      Delhi           Msc\n",
            "1  princi   24     Kanpur            MA\n",
            "2  gaurav   22  Allahabad           MCA\n",
            "3    anuj   32    Kannauj           Phd\n"
          ]
        }
      ]
    },
    {
      "cell_type": "code",
      "source": [
        "import pandas as pd \n",
        "   \n",
        "# Define a dictionary containing employee data \n",
        "data = {'Name':['Jai', 'Princi', 'Gaurav', 'Anuj'], \n",
        "        'Age':[27, 24, 22, 32], \n",
        "        'Address':['Nagpur', 'Kanpur', 'Allahabad', 'Kannuaj'], \n",
        "        'Qualification':['Msc', 'MA', 'MCA', 'Phd']} \n",
        " \n",
        "# Convert the dictionary into DataFrame  \n",
        "df = pd.DataFrame(data) \n",
        " \n",
        "# making copy of address column \n",
        "new = df[\"Address\"].copy() \n",
        "   \n",
        "# concatenating address with name column \n",
        "# overwriting name column \n",
        "df[\"Name\"]= df[\"Name\"].str.cat(new, sep =\", \") \n",
        "   \n",
        "# display \n",
        "print(df)"
      ],
      "metadata": {
        "colab": {
          "base_uri": "https://localhost:8080/"
        },
        "id": "ETIn8mL6aUqp",
        "outputId": "87559a5a-0fa5-415a-d4e5-2f0a60cbdea6"
      },
      "execution_count": null,
      "outputs": [
        {
          "output_type": "stream",
          "name": "stdout",
          "text": [
            "                Name  Age    Address Qualification\n",
            "0        Jai, Nagpur   27     Nagpur           Msc\n",
            "1     Princi, Kanpur   24     Kanpur            MA\n",
            "2  Gaurav, Allahabad   22  Allahabad           MCA\n",
            "3      Anuj, Kannuaj   32    Kannuaj           Phd\n"
          ]
        }
      ]
    },
    {
      "cell_type": "code",
      "source": [
        "data = {'Name':['Jai', 'Princi', 'Gaurav', 'Anuj'], \n",
        "        'Age':[27, 24, 22, 32], \n",
        "        'Address':['Nagpur junction', 'Kanpur junction', \n",
        "                   'Nagpur junction', 'Kannuaj junction'], \n",
        "        'Qualification':['Msc', 'MA', 'MCA', 'Phd']} \n",
        " \n",
        "# Convert the dictionary into DataFrame  \n",
        "df = pd.DataFrame(data)\n",
        "   \n",
        "# replacing address name and adding spaces in start and end \n",
        "new = df[\"Address\"].replace(\"Nagpur junction\", \"  Nagpur junction  \").copy() \n",
        "   \n",
        "# checking with custom string \n",
        "print(new.str.strip()==\" Nagpur junction\")\n",
        "print(new.str.strip()==\"Nagpur junction \")\n",
        "print(new.str.strip()==\" Nagpur junction \")"
      ],
      "metadata": {
        "colab": {
          "base_uri": "https://localhost:8080/"
        },
        "id": "hfxPzmPZaZY5",
        "outputId": "97f455b1-0a5f-4a75-9137-772e57c1ca87"
      },
      "execution_count": null,
      "outputs": [
        {
          "output_type": "stream",
          "name": "stdout",
          "text": [
            "0    False\n",
            "1    False\n",
            "2    False\n",
            "3    False\n",
            "Name: Address, dtype: bool\n",
            "0    False\n",
            "1    False\n",
            "2    False\n",
            "3    False\n",
            "Name: Address, dtype: bool\n",
            "0    False\n",
            "1    False\n",
            "2    False\n",
            "3    False\n",
            "Name: Address, dtype: bool\n"
          ]
        }
      ]
    },
    {
      "cell_type": "code",
      "source": [
        "String1 = 'Welcome to the Geeks World'\n",
        "print(\"String with the use of Single Quotes: \")\n",
        "print(String1)\n",
        "  \n",
        "# Creating a String\n",
        "# with double Quotes\n",
        "String1 = \"I'm a Geek\"\n",
        "print(\"\\nString with the use of Double Quotes: \")\n",
        "print(String1)\n",
        "  \n",
        "# Creating a String\n",
        "# with triple Quotes\n",
        "String1 = '''I'm a Geek and I live in a world of \"Geeks\"'''\n",
        "print(\"\\nString with the use of Triple Quotes: \")\n",
        "print(String1)\n",
        "  \n",
        "# Creating String with triple\n",
        "# Quotes allows multiple lines\n",
        "String1 = '''Geeks\n",
        "            For\n",
        "            Life'''\n",
        "print(\"\\nCreating a multiline String: \")\n",
        "print(String1)"
      ],
      "metadata": {
        "colab": {
          "base_uri": "https://localhost:8080/"
        },
        "id": "JL2FZEkmbVqE",
        "outputId": "3ec9a5f0-7a3a-4277-a572-6ca0f707090c"
      },
      "execution_count": null,
      "outputs": [
        {
          "output_type": "stream",
          "name": "stdout",
          "text": [
            "String with the use of Single Quotes: \n",
            "Welcome to the Geeks World\n",
            "\n",
            "String with the use of Double Quotes: \n",
            "I'm a Geek\n",
            "\n",
            "String with the use of Triple Quotes: \n",
            "I'm a Geek and I live in a world of \"Geeks\"\n",
            "\n",
            "Creating a multiline String: \n",
            "Geeks\n",
            "            For\n",
            "            Life\n"
          ]
        }
      ]
    },
    {
      "cell_type": "code",
      "source": [
        "String1 = \"GeeksForGeeks\"\n",
        "print(\"Initial String: \")\n",
        "print(String1)\n",
        "  \n",
        "# Printing First character\n",
        "print(\"\\nFirst character of String is: \")\n",
        "print(String1[0])\n",
        "  \n",
        "# Printing Last character\n",
        "print(\"\\nLast character of String is: \")\n",
        "print(String1[-1])"
      ],
      "metadata": {
        "colab": {
          "base_uri": "https://localhost:8080/"
        },
        "id": "SPkvSUaMbibv",
        "outputId": "d4896575-c67b-4e0f-89d2-7c250c9acdeb"
      },
      "execution_count": null,
      "outputs": [
        {
          "output_type": "stream",
          "name": "stdout",
          "text": [
            "Initial String: \n",
            "GeeksForGeeks\n",
            "\n",
            "First character of String is: \n",
            "G\n",
            "\n",
            "Last character of String is: \n",
            "s\n"
          ]
        }
      ]
    },
    {
      "cell_type": "code",
      "source": [
        "gfg = \"geeksforgeeks\"\n",
        "print(gfg[::-1])"
      ],
      "metadata": {
        "colab": {
          "base_uri": "https://localhost:8080/"
        },
        "id": "AV5QKoiXbnON",
        "outputId": "d1223d55-1660-4ab2-c19c-6c857bd461e0"
      },
      "execution_count": null,
      "outputs": [
        {
          "output_type": "stream",
          "name": "stdout",
          "text": [
            "skeegrofskeeg\n"
          ]
        }
      ]
    },
    {
      "cell_type": "code",
      "source": [
        "gfg = \"geeksforgeeks\"\n",
        "  \n",
        "# Reverse the string using reversed and join function\n",
        "gfg = \"\".join(reversed(gfg))\n",
        "  \n",
        "print(gfg)"
      ],
      "metadata": {
        "colab": {
          "base_uri": "https://localhost:8080/"
        },
        "id": "8qxJULOobrNO",
        "outputId": "48d0ce40-f306-42e0-bea9-3da61f2606ca"
      },
      "execution_count": null,
      "outputs": [
        {
          "output_type": "stream",
          "name": "stdout",
          "text": [
            "skeegrofskeeg\n"
          ]
        }
      ]
    },
    {
      "cell_type": "code",
      "source": [
        "String1 = \"GeeksForGeeks\"\n",
        "print(\"Initial String: \")\n",
        "print(String1)\n",
        "  \n",
        "# Printing 3rd to 12th character\n",
        "print(\"\\nSlicing characters from 3-12: \")\n",
        "print(String1[3:12])\n",
        "  \n",
        "# Printing characters between\n",
        "# 3rd and 2nd last character\n",
        "print(\"\\nSlicing characters between \" +\n",
        "      \"3rd and 2nd last character: \")\n",
        "print(String1[3:-2])"
      ],
      "metadata": {
        "colab": {
          "base_uri": "https://localhost:8080/"
        },
        "id": "Kz9KMDjub4Zx",
        "outputId": "c66c0d44-aad8-4e1e-e7cb-5de2e4ffe221"
      },
      "execution_count": null,
      "outputs": [
        {
          "output_type": "stream",
          "name": "stdout",
          "text": [
            "Initial String: \n",
            "GeeksForGeeks\n",
            "\n",
            "Slicing characters from 3-12: \n",
            "ksForGeek\n",
            "\n",
            "Slicing characters between 3rd and 2nd last character: \n",
            "ksForGee\n"
          ]
        }
      ]
    },
    {
      "cell_type": "code",
      "source": [
        "String1 = \"Hello, I'm a Geek\"\n",
        "print(\"Initial String: \")\n",
        "print(String1)\n",
        "  \n",
        "# Updating a character of the String\n",
        "## As python strings are immutable, they don't support item updation directly\n",
        "### there are following two ways\n",
        "#1\n",
        "list1 = list(String1)\n",
        "list1[2] = 'p'\n",
        "String2 = ''.join(list1)\n",
        "print(\"\\nUpdating character at 2nd Index: \")\n",
        "print(String2)\n",
        "  \n",
        "#2\n",
        "String3 = String1[0:2] + 'p' + String1[3:]\n",
        "print(String3)"
      ],
      "metadata": {
        "colab": {
          "base_uri": "https://localhost:8080/"
        },
        "id": "P930aC2JE0CY",
        "outputId": "d704ba92-5c3c-4ab5-807e-991f402b63fa"
      },
      "execution_count": null,
      "outputs": [
        {
          "output_type": "stream",
          "name": "stdout",
          "text": [
            "Initial String: \n",
            "Hello, I'm a Geek\n",
            "\n",
            "Updating character at 2nd Index: \n",
            "Heplo, I'm a Geek\n",
            "Heplo, I'm a Geek\n"
          ]
        }
      ]
    },
    {
      "cell_type": "code",
      "source": [
        "String1 = \"Hello, I'm a Geek\"\n",
        "print(\"Initial String: \")\n",
        "print(String1)\n",
        "  \n",
        "# Updating a String\n",
        "String1 = \"Welcome to the Geek World\"\n",
        "print(\"\\nUpdated String: \")\n",
        "print(String1)"
      ],
      "metadata": {
        "colab": {
          "base_uri": "https://localhost:8080/"
        },
        "id": "9eva1pgVE4yc",
        "outputId": "fb812bb3-2e20-438e-ab39-af3328c17114"
      },
      "execution_count": null,
      "outputs": [
        {
          "output_type": "stream",
          "name": "stdout",
          "text": [
            "Initial String: \n",
            "Hello, I'm a Geek\n",
            "\n",
            "Updated String: \n",
            "Welcome to the Geek World\n"
          ]
        }
      ]
    },
    {
      "cell_type": "code",
      "source": [
        "String1 = \"Hello, I'm a Geek\"\n",
        "print(\"Initial String: \")\n",
        "print(String1)\n",
        "  \n",
        "# Deleting a character\n",
        "# of the String\n",
        "String2 = String1[0:2] + String1[3:]\n",
        "print(\"\\nDeleting character at 2nd Index: \")\n",
        "print(String2)"
      ],
      "metadata": {
        "colab": {
          "base_uri": "https://localhost:8080/"
        },
        "id": "KsQ_v2dfE7Z7",
        "outputId": "4079f6e5-b8ba-4bd2-b345-735176d6e386"
      },
      "execution_count": null,
      "outputs": [
        {
          "output_type": "stream",
          "name": "stdout",
          "text": [
            "Initial String: \n",
            "Hello, I'm a Geek\n",
            "\n",
            "Deleting character at 2nd Index: \n",
            "Helo, I'm a Geek\n"
          ]
        }
      ]
    },
    {
      "cell_type": "code",
      "source": [
        "String1 = \"Hello, I'm a Geek\"\n",
        "print(\"Initial String: \")\n",
        "print(String1)\n",
        "  \n",
        "# Deleting a String\n",
        "# with the use of del\n",
        "del String1\n",
        "print(\"\\nDeleting entire String: \")\n"
      ],
      "metadata": {
        "colab": {
          "base_uri": "https://localhost:8080/"
        },
        "id": "lZT_uHX9E92w",
        "outputId": "9ea7d898-077c-434b-9fbd-47ce93ab7dee"
      },
      "execution_count": null,
      "outputs": [
        {
          "output_type": "stream",
          "name": "stdout",
          "text": [
            "Initial String: \n",
            "Hello, I'm a Geek\n",
            "\n",
            "Deleting entire String: \n"
          ]
        }
      ]
    },
    {
      "cell_type": "code",
      "source": [
        "String1 = '''I'm a \"Geek\"'''\n",
        "print(\"Initial String with use of Triple Quotes: \")\n",
        "print(String1)\n",
        "  \n",
        "# Escaping Single Quote\n",
        "String1 = 'I\\'m a \"Geek\"'\n",
        "print(\"\\nEscaping Single Quote: \")\n",
        "print(String1)\n",
        "  \n",
        "# Escaping Double Quotes\n",
        "String1 = \"I'm a \\\"Geek\\\"\"\n",
        "print(\"\\nEscaping Double Quotes: \")\n",
        "print(String1)\n",
        "  \n",
        "# Printing Paths with the\n",
        "# use of Escape Sequences\n",
        "String1 = \"C:\\\\Python\\\\Geeks\\\\\"\n",
        "print(\"\\nEscaping Backslashes: \")\n",
        "print(String1)\n",
        "  \n",
        "# Printing Paths with the\n",
        "# use of Tab\n",
        "String1 = \"Hi\\tGeeks\"\n",
        "print(\"\\nTab: \")\n",
        "print(String1)\n",
        "  \n",
        "# Printing Paths with the\n",
        "# use of New Line\n",
        "String1 = \"Python\\nGeeks\"\n",
        "print(\"\\nNew Line: \")\n",
        "print(String1)\n"
      ],
      "metadata": {
        "colab": {
          "base_uri": "https://localhost:8080/"
        },
        "id": "owz7IDIiFLSz",
        "outputId": "b26431a7-9f10-432f-aa80-1b26b2d7384d"
      },
      "execution_count": null,
      "outputs": [
        {
          "output_type": "stream",
          "name": "stdout",
          "text": [
            "Initial String with use of Triple Quotes: \n",
            "I'm a \"Geek\"\n",
            "\n",
            "Escaping Single Quote: \n",
            "I'm a \"Geek\"\n",
            "\n",
            "Escaping Double Quotes: \n",
            "I'm a \"Geek\"\n",
            "\n",
            "Escaping Backslashes: \n",
            "C:\\Python\\Geeks\\\n",
            "\n",
            "Tab: \n",
            "Hi\tGeeks\n",
            "\n",
            "New Line: \n",
            "Python\n",
            "Geeks\n"
          ]
        }
      ]
    },
    {
      "cell_type": "code",
      "source": [
        "String1 = \"{} {} {}\".format('Geeks', 'For', 'Life')\n",
        "print(\"Print String in default order: \")\n",
        "print(String1)\n",
        "  \n",
        "# Positional Formatting\n",
        "String1 = \"{1} {0} {2}\".format('Geeks', 'For', 'Life')\n",
        "print(\"\\nPrint String in Positional order: \")\n",
        "print(String1)\n",
        "  \n",
        "# Keyword Formatting\n",
        "String1 = \"{l} {f} {g}\".format(g='Geeks', f='For', l='Life')\n",
        "print(\"\\nPrint String in order of Keywords: \")\n",
        "print(String1)"
      ],
      "metadata": {
        "colab": {
          "base_uri": "https://localhost:8080/"
        },
        "id": "sAcJEI6WjE7n",
        "outputId": "f08439e2-2551-4fda-e71f-a15cf06f34d8"
      },
      "execution_count": null,
      "outputs": [
        {
          "output_type": "stream",
          "name": "stdout",
          "text": [
            "Print String in default order: \n",
            "Geeks For Life\n",
            "\n",
            "Print String in Positional order: \n",
            "For Geeks Life\n",
            "\n",
            "Print String in order of Keywords: \n",
            "Life For Geeks\n"
          ]
        }
      ]
    },
    {
      "cell_type": "code",
      "source": [
        "String1 = \"{0:b}\".format(16)\n",
        "print(\"\\nBinary representation of 16 is \")\n",
        "print(String1)\n",
        "  \n",
        "# Formatting of Floats\n",
        "String1 = \"{0:e}\".format(165.6458)\n",
        "print(\"\\nExponent representation of 165.6458 is \")\n",
        "print(String1)\n",
        "  \n",
        "# Rounding off Integers\n",
        "String1 = \"{0:.2f}\".format(1/6)\n",
        "print(\"\\none-sixth is : \")\n",
        "print(String1)"
      ],
      "metadata": {
        "colab": {
          "base_uri": "https://localhost:8080/"
        },
        "id": "oKkRAC8ZjJ4O",
        "outputId": "a36e6149-8785-41f7-a7b0-e0099353bfe7"
      },
      "execution_count": null,
      "outputs": [
        {
          "output_type": "stream",
          "name": "stdout",
          "text": [
            "\n",
            "Binary representation of 16 is \n",
            "10000\n",
            "\n",
            "Exponent representation of 165.6458 is \n",
            "1.656458e+02\n",
            "\n",
            "one-sixth is : \n",
            "0.17\n"
          ]
        }
      ]
    },
    {
      "cell_type": "code",
      "source": [
        "String1 = \"|{:<10}|{:^10}|{:>10}|\".format('Geeks',\n",
        "                                          'for', \n",
        "                                          'Geeks')\n",
        "print(\"\\nLeft, center and right alignment with Formatting: \")\n",
        "print(String1)\n",
        "  \n",
        "# To demonstrate aligning of spaces\n",
        "String1 = \"\\n{0:^16} was founded in {1:<4}!\".format(\"GeeksforGeeks\",\n",
        "                                                    2009)\n",
        "print(String1)"
      ],
      "metadata": {
        "colab": {
          "base_uri": "https://localhost:8080/"
        },
        "id": "w0A9t-3_jMsx",
        "outputId": "10f8298f-0e14-41c9-f22a-d3346f7f6eaf"
      },
      "execution_count": null,
      "outputs": [
        {
          "output_type": "stream",
          "name": "stdout",
          "text": [
            "\n",
            "Left, center and right alignment with Formatting: \n",
            "|Geeks     |   for    |     Geeks|\n",
            "\n",
            " GeeksforGeeks   was founded in 2009!\n"
          ]
        }
      ]
    },
    {
      "cell_type": "code",
      "source": [
        "Integer1 = 12.3456789\n",
        "print(\"Formatting in 3.2f format: \")\n",
        "print('The value of Integer1 is %0.2f' % Integer1)\n",
        "print(\"\\nFormatting in 3.4f format: \")\n",
        "print('The value of Integer1 is %3.4f' % Integer1)"
      ],
      "metadata": {
        "colab": {
          "base_uri": "https://localhost:8080/"
        },
        "id": "mNEylttwjQ1_",
        "outputId": "4c7307d3-56e3-4599-b500-1dfb219b715a"
      },
      "execution_count": null,
      "outputs": [
        {
          "output_type": "stream",
          "name": "stdout",
          "text": [
            "Formatting in 3.2f format: \n",
            "The value of Integer1 is 12.35\n",
            "\n",
            "Formatting in 3.4f format: \n",
            "The value of Integer1 is 12.3457\n"
          ]
        }
      ]
    },
    {
      "cell_type": "code",
      "source": [
        "List = []\n",
        "print(\"Blank List: \")\n",
        "print(List)\n",
        "  \n",
        "# Creating a List of numbers\n",
        "List = [10, 20, 14]\n",
        "print(\"\\nList of numbers: \")\n",
        "print(List)\n",
        "  \n",
        "# Creating a List of strings and accessing\n",
        "# using index\n",
        "List = [\"Geeks\", \"For\", \"Geeks\"]\n",
        "print(\"\\nList Items: \")\n",
        "print(List[0])\n",
        "print(List[2])\n",
        "  \n",
        "# Creating a Multi-Dimensional List\n",
        "# (By Nesting a list inside a List)\n",
        "List = [['Geeks', 'For'], ['Geeks']]\n",
        "print(\"\\nMulti-Dimensional List: \")\n",
        "print(List)"
      ],
      "metadata": {
        "colab": {
          "base_uri": "https://localhost:8080/"
        },
        "id": "yhPSdDAnzTWT",
        "outputId": "f5dd471c-f385-4978-8037-8278590a1f57"
      },
      "execution_count": null,
      "outputs": [
        {
          "output_type": "stream",
          "name": "stdout",
          "text": [
            "Blank List: \n",
            "[]\n",
            "\n",
            "List of numbers: \n",
            "[10, 20, 14]\n",
            "\n",
            "List Items: \n",
            "Geeks\n",
            "Geeks\n",
            "\n",
            "Multi-Dimensional List: \n",
            "[['Geeks', 'For'], ['Geeks']]\n"
          ]
        }
      ]
    },
    {
      "cell_type": "code",
      "source": [
        "List = [1, 2, 4, 4, 3, 3, 3, 6, 5]\n",
        "print(\"\\nList with the use of Numbers: \")\n",
        "print(List)\n",
        "  \n",
        "# Creating a List with\n",
        "# mixed type of values\n",
        "# (Having numbers and strings)\n",
        "List = [1, 2, 'Geeks', 4, 'For', 6, 'Geeks']\n",
        "print(\"\\nList with the use of Mixed Values: \")\n",
        "print(List)"
      ],
      "metadata": {
        "colab": {
          "base_uri": "https://localhost:8080/"
        },
        "id": "dq5ZHdXczW0R",
        "outputId": "38f4d83f-6572-48be-ee66-8f636f6b3eb5"
      },
      "execution_count": null,
      "outputs": [
        {
          "output_type": "stream",
          "name": "stdout",
          "text": [
            "\n",
            "List with the use of Numbers: \n",
            "[1, 2, 4, 4, 3, 3, 3, 6, 5]\n",
            "\n",
            "List with the use of Mixed Values: \n",
            "[1, 2, 'Geeks', 4, 'For', 6, 'Geeks']\n"
          ]
        }
      ]
    },
    {
      "cell_type": "code",
      "source": [
        "List1 = []\n",
        "print(len(List1))\n",
        "  \n",
        "# Creating a List of numbers\n",
        "List2 = [10, 20, 14]\n",
        "print(len(List2))"
      ],
      "metadata": {
        "colab": {
          "base_uri": "https://localhost:8080/"
        },
        "id": "s_02WdTZzaBt",
        "outputId": "9ea0f30d-e29c-41fc-cb9a-10e254d37d34"
      },
      "execution_count": null,
      "outputs": [
        {
          "output_type": "stream",
          "name": "stdout",
          "text": [
            "0\n",
            "3\n"
          ]
        }
      ]
    },
    {
      "cell_type": "code",
      "source": [
        "\n",
        "f = [1, 1, 2, 3, 5, 8]\n",
        "p = [2, 3, 5, 7]\n",
        "grading = [\"Tests\", \"Quizzes\", \"Individual Labs\", \"Group Labs\", \"Hackathons\"]\n",
        "grades = [300, 60, 120, 60, 120]\n",
        "oddjob = [1, 5.6, True, 4-7j, \"Hello\", [1, 2], [3.9, \"World\"]]\n",
        "print(len(grading))\n",
        "print(sum(f), sum(p))"
      ],
      "metadata": {
        "colab": {
          "base_uri": "https://localhost:8080/"
        },
        "id": "6wn22y8izche",
        "outputId": "752f8658-6239-4865-e908-47b49d6f9ade"
      },
      "execution_count": null,
      "outputs": [
        {
          "output_type": "stream",
          "name": "stdout",
          "text": [
            "5\n",
            "20 17\n"
          ]
        }
      ]
    },
    {
      "cell_type": "code",
      "source": [
        "\n",
        "grading = [\"Tests\", \"Quizzes\", \"Individual Labs\", \"Group Labs\", \"Hackathons\"]\n",
        "grades = [300, 60, 120, 60, 120]\n",
        "oddjob = [1, 5.6, True, 4-7j, \"Hello\", [1, 2], [3.9, \"World\"]]\n",
        "# We access individual elements using the index\n",
        "# The first element is at index 0\n",
        "print(grades[1], oddjob[4])\n",
        "# We access the elements from the back using negative indices\n",
        "# -1 is the last, -2 is the last but one and so on\n",
        "print(grading[-1], grading[-3])\n",
        "print(max(grades), min(grades))"
      ],
      "metadata": {
        "colab": {
          "base_uri": "https://localhost:8080/"
        },
        "id": "IzwcIQrxziN4",
        "outputId": "fc74f35e-edcf-4f78-f016-184801334372"
      },
      "execution_count": null,
      "outputs": [
        {
          "output_type": "stream",
          "name": "stdout",
          "text": [
            "60 Hello\n",
            "Hackathons Individual Labs\n",
            "300 60\n"
          ]
        }
      ]
    },
    {
      "cell_type": "code",
      "source": [
        "List = []\n",
        "print(\"Initial blank List: \")\n",
        "print(List)\n",
        "  \n",
        "# Addition of Elements\n",
        "# in the List\n",
        "List.append(1)\n",
        "List.append(2)\n",
        "List.append(4)\n",
        "print(\"\\nList after Addition of Three elements: \")\n",
        "print(List)\n",
        "  \n",
        "# Adding elements to the List\n",
        "# using Iterator\n",
        "for i in range(1, 4):\n",
        "    List.append(i)\n",
        "print(\"\\nList after Addition of elements from 1-3: \")\n",
        "print(List)\n",
        "  \n",
        "# Adding Tuples to the List\n",
        "List.append((5, 6))\n",
        "print(\"\\nList after Addition of a Tuple: \")\n",
        "print(List)\n",
        "  \n",
        "# Addition of List to a List\n",
        "List2 = ['For', 'Geeks']\n",
        "List.append(List2)\n",
        "print(\"\\nList after Addition of a List: \")\n",
        "print(List)"
      ],
      "metadata": {
        "colab": {
          "base_uri": "https://localhost:8080/"
        },
        "id": "85yXO5hUvDnp",
        "outputId": "6b35dccb-5edf-4049-fa2a-eb556e174194"
      },
      "execution_count": null,
      "outputs": [
        {
          "output_type": "stream",
          "name": "stdout",
          "text": [
            "Initial blank List: \n",
            "[]\n",
            "\n",
            "List after Addition of Three elements: \n",
            "[1, 2, 4]\n",
            "\n",
            "List after Addition of elements from 1-3: \n",
            "[1, 2, 4, 1, 2, 3]\n",
            "\n",
            "List after Addition of a Tuple: \n",
            "[1, 2, 4, 1, 2, 3, (5, 6)]\n",
            "\n",
            "List after Addition of a List: \n",
            "[1, 2, 4, 1, 2, 3, (5, 6), ['For', 'Geeks']]\n"
          ]
        }
      ]
    },
    {
      "cell_type": "code",
      "source": [
        "List = [1,2,3,4]\n",
        "print(\"Initial List: \")\n",
        "print(List)\n",
        "  \n",
        "# Addition of Element at \n",
        "# specific Position\n",
        "# (using Insert Method)\n",
        "List.insert(3, 12)\n",
        "List.insert(0, 'Geeks')\n",
        "print(\"\\nList after performing Insert Operation: \")\n",
        "print(List)"
      ],
      "metadata": {
        "colab": {
          "base_uri": "https://localhost:8080/"
        },
        "id": "8Bl5PXbjvYPS",
        "outputId": "af3ed5e5-46a0-4507-eb45-5ca28b2d23ca"
      },
      "execution_count": null,
      "outputs": [
        {
          "output_type": "stream",
          "name": "stdout",
          "text": [
            "Initial List: \n",
            "[1, 2, 3, 4]\n",
            "\n",
            "List after performing Insert Operation: \n",
            "['Geeks', 1, 2, 3, 12, 4]\n"
          ]
        }
      ]
    },
    {
      "cell_type": "code",
      "source": [
        "List = [1, 2, 3, 4]\n",
        "print(\"Initial List: \")\n",
        "print(List)\n",
        "  \n",
        "# Addition of multiple elements\n",
        "# to the List at the end\n",
        "# (using Extend Method)\n",
        "List.extend([8, 'Geeks', 'Always'])\n",
        "print(\"\\nList after performing Extend Operation: \")\n",
        "print(List)"
      ],
      "metadata": {
        "colab": {
          "base_uri": "https://localhost:8080/"
        },
        "id": "9-_WLyoCvcET",
        "outputId": "c540beb3-1dae-42ac-9d0f-6a2865083358"
      },
      "execution_count": null,
      "outputs": [
        {
          "output_type": "stream",
          "name": "stdout",
          "text": [
            "Initial List: \n",
            "[1, 2, 3, 4]\n",
            "\n",
            "List after performing Extend Operation: \n",
            "[1, 2, 3, 4, 8, 'Geeks', 'Always']\n"
          ]
        }
      ]
    },
    {
      "cell_type": "code",
      "source": [
        "List = [\"Geeks\", \"For\", \"Geeks\"]\n",
        "  \n",
        "# accessing a element from the\n",
        "# list using index number\n",
        "print(\"Accessing a element from the list\")\n",
        "print(List[0])\n",
        "print(List[2])\n",
        "  \n",
        "# Creating a Multi-Dimensional List\n",
        "# (By Nesting a list inside a List)\n",
        "List = [['Geeks', 'For'], ['Geeks']]\n",
        "  \n",
        "# accessing an element from the\n",
        "# Multi-Dimensional List using\n",
        "# index number\n",
        "print(\"Accessing a element from a Multi-Dimensional list\")\n",
        "print(List[0][1])\n",
        "print(List[1][0])"
      ],
      "metadata": {
        "colab": {
          "base_uri": "https://localhost:8080/"
        },
        "id": "6y6mLSURvfQo",
        "outputId": "b3b17092-5e4e-4e2d-c3c7-9748e67d21ff"
      },
      "execution_count": null,
      "outputs": [
        {
          "output_type": "stream",
          "name": "stdout",
          "text": [
            "Accessing a element from the list\n",
            "Geeks\n",
            "Geeks\n",
            "Accessing a element from a Multi-Dimensional list\n",
            "For\n",
            "Geeks\n"
          ]
        }
      ]
    },
    {
      "cell_type": "code",
      "source": [
        "Tuple1 = ()\n",
        "print(\"Initial empty Tuple: \")\n",
        "print(Tuple1)\n",
        " \n",
        "# Creating a Tuple\n",
        "# with the use of string\n",
        "Tuple1 = ('Geeks', 'For')\n",
        "print(\"\\nTuple with the use of String: \")\n",
        "print(Tuple1)\n",
        " \n",
        "# Creating a Tuple with\n",
        "# the use of list\n",
        "list1 = [1, 2, 4, 5, 6]\n",
        "print(\"\\nTuple using List: \")\n",
        "print(tuple(list1))\n",
        " \n",
        "# Creating a Tuple\n",
        "# with the use of built-in function\n",
        "Tuple1 = tuple('Geeks')\n",
        "print(\"\\nTuple with the use of function: \")\n",
        "print(Tuple1)"
      ],
      "metadata": {
        "colab": {
          "base_uri": "https://localhost:8080/"
        },
        "id": "McUVHvkEFyoR",
        "outputId": "f696c7cf-efb5-49dc-a01d-57041281b26c"
      },
      "execution_count": null,
      "outputs": [
        {
          "output_type": "stream",
          "name": "stdout",
          "text": [
            "Initial empty Tuple: \n",
            "()\n",
            "\n",
            "Tuple with the use of String: \n",
            "('Geeks', 'For')\n",
            "\n",
            "Tuple using List: \n",
            "(1, 2, 4, 5, 6)\n",
            "\n",
            "Tuple with the use of function: \n",
            "('G', 'e', 'e', 'k', 's')\n"
          ]
        }
      ]
    },
    {
      "cell_type": "code",
      "source": [
        "# Creating a Tuple\n",
        "# with Mixed Datatype\n",
        "Tuple1 = (5, 'Welcome', 7, 'Geeks')\n",
        "print(\"\\nTuple with Mixed Datatypes: \")\n",
        "print(Tuple1)\n",
        " \n",
        "# Creating a Tuple\n",
        "# with nested tuples\n",
        "Tuple1 = (0, 1, 2, 3)\n",
        "Tuple2 = ('python', 'geek')\n",
        "Tuple3 = (Tuple1, Tuple2)\n",
        "print(\"\\nTuple with nested tuples: \")\n",
        "print(Tuple3)\n",
        " \n",
        "# Creating a Tuple\n",
        "# with repetition\n",
        "Tuple1 = ('Geeks',) * 3\n",
        "print(\"\\nTuple with repetition: \")\n",
        "print(Tuple1)\n",
        " \n",
        "# Creating a Tuple\n",
        "# with the use of loop\n",
        "Tuple1 = ('Geeks')\n",
        "n = 5\n",
        "print(\"\\nTuple with a loop\")\n",
        "for i in range(int(n)):\n",
        "    Tuple1 = (Tuple1,)\n",
        "    print(Tuple1)"
      ],
      "metadata": {
        "colab": {
          "base_uri": "https://localhost:8080/"
        },
        "id": "53ygKUq8F2XG",
        "outputId": "4c6b8932-b511-452e-f54b-e1bca267c357"
      },
      "execution_count": null,
      "outputs": [
        {
          "output_type": "stream",
          "name": "stdout",
          "text": [
            "\n",
            "Tuple with Mixed Datatypes: \n",
            "(5, 'Welcome', 7, 'Geeks')\n",
            "\n",
            "Tuple with nested tuples: \n",
            "((0, 1, 2, 3), ('python', 'geek'))\n",
            "\n",
            "Tuple with repetition: \n",
            "('Geeks', 'Geeks', 'Geeks')\n",
            "\n",
            "Tuple with a loop\n",
            "('Geeks',)\n",
            "(('Geeks',),)\n",
            "((('Geeks',),),)\n",
            "(((('Geeks',),),),)\n",
            "((((('Geeks',),),),),)\n"
          ]
        }
      ]
    },
    {
      "cell_type": "code",
      "source": [
        "# Accessing Tuple\n",
        "# with Indexing\n",
        "Tuple1 = tuple(\"Geeks\")\n",
        "print(\"\\nFirst element of Tuple: \")\n",
        "print(Tuple1[0])\n",
        " \n",
        " \n",
        "# Tuple unpacking\n",
        "Tuple1 = (\"Geeks\", \"For\", \"Geeks\")\n",
        " \n",
        "# This line unpack\n",
        "# values of Tuple1\n",
        "a, b, c = Tuple1\n",
        "print(\"\\nValues after unpacking: \")\n",
        "print(a)\n",
        "print(b)\n",
        "print(c)"
      ],
      "metadata": {
        "colab": {
          "base_uri": "https://localhost:8080/"
        },
        "id": "bOzcFzYlF63H",
        "outputId": "66c5a78b-a58b-4933-ceb5-99993400d02c"
      },
      "execution_count": null,
      "outputs": [
        {
          "output_type": "stream",
          "name": "stdout",
          "text": [
            "\n",
            "First element of Tuple: \n",
            "G\n",
            "\n",
            "Values after unpacking: \n",
            "Geeks\n",
            "For\n",
            "Geeks\n"
          ]
        }
      ]
    },
    {
      "cell_type": "code",
      "source": [
        "Tuple1 = (0, 1, 2, 3)\n",
        "Tuple2 = ('Geeks', 'For', 'Geeks')\n",
        " \n",
        "Tuple3 = Tuple1 + Tuple2\n",
        " \n",
        "# Printing first Tuple\n",
        "print(\"Tuple 1: \")\n",
        "print(Tuple1)\n",
        " \n",
        "# Printing Second Tuple\n",
        "print(\"\\nTuple2: \")\n",
        "print(Tuple2)\n",
        " \n",
        "# Printing Final Tuple\n",
        "print(\"\\nTuples after Concatenation: \")\n",
        "print(Tuple3)"
      ],
      "metadata": {
        "colab": {
          "base_uri": "https://localhost:8080/"
        },
        "id": "tiDC93s6F-1F",
        "outputId": "1e848a58-d135-4bbe-b6d7-3a7980d8bd6d"
      },
      "execution_count": null,
      "outputs": [
        {
          "output_type": "stream",
          "name": "stdout",
          "text": [
            "Tuple 1: \n",
            "(0, 1, 2, 3)\n",
            "\n",
            "Tuple2: \n",
            "('Geeks', 'For', 'Geeks')\n",
            "\n",
            "Tuples after Concatenation: \n",
            "(0, 1, 2, 3, 'Geeks', 'For', 'Geeks')\n"
          ]
        }
      ]
    },
    {
      "cell_type": "code",
      "source": [
        "Tuple1 = tuple('GEEKSFORGEEKS')\n",
        " \n",
        "# Removing First element\n",
        "print(\"Removal of First Element: \")\n",
        "print(Tuple1[1:])\n",
        " \n",
        "# Reversing the Tuple\n",
        "print(\"\\nTuple after sequence of Element is reversed: \")\n",
        "print(Tuple1[::-1])\n",
        " \n",
        "# Printing elements of a Range\n",
        "print(\"\\nPrinting elements between Range 4-9: \")\n",
        "print(Tuple1[4:9])"
      ],
      "metadata": {
        "colab": {
          "base_uri": "https://localhost:8080/"
        },
        "id": "elBvWpdqLdak",
        "outputId": "22f2d9cf-5b40-4c10-d74c-2184abec4914"
      },
      "execution_count": null,
      "outputs": [
        {
          "output_type": "stream",
          "name": "stdout",
          "text": [
            "Removal of First Element: \n",
            "('E', 'E', 'K', 'S', 'F', 'O', 'R', 'G', 'E', 'E', 'K', 'S')\n",
            "\n",
            "Tuple after sequence of Element is reversed: \n",
            "('S', 'K', 'E', 'E', 'G', 'R', 'O', 'F', 'S', 'K', 'E', 'E', 'G')\n",
            "\n",
            "Printing elements between Range 4-9: \n",
            "('S', 'F', 'O', 'R', 'G')\n"
          ]
        }
      ]
    },
    {
      "cell_type": "code",
      "source": [
        "set1 = set()\n",
        "print(\"Initial blank Set: \")\n",
        "print(set1)\n",
        " \n",
        "# Creating a Set with\n",
        "# the use of a String\n",
        "set1 = set(\"GeeksForGeeks\")\n",
        "print(\"\\nSet with the use of String: \")\n",
        "print(set1)\n",
        " \n",
        "# Creating a Set with\n",
        "# the use of Constructor\n",
        "# (Using object to Store String)\n",
        "String = 'GeeksForGeeks'\n",
        "set1 = set(String)\n",
        "print(\"\\nSet with the use of an Object: \" )\n",
        "print(set1)\n",
        " \n",
        "# Creating a Set with\n",
        "# the use of a List\n",
        "set1 = set([\"Geeks\", \"For\", \"Geeks\"])\n",
        "print(\"\\nSet with the use of List: \")\n",
        "print(set1)"
      ],
      "metadata": {
        "colab": {
          "base_uri": "https://localhost:8080/"
        },
        "id": "f7Cd1GFvL0Of",
        "outputId": "42ea7703-9cfd-4e34-ec6a-f6b3c00906f5"
      },
      "execution_count": null,
      "outputs": [
        {
          "output_type": "stream",
          "name": "stdout",
          "text": [
            "Initial blank Set: \n",
            "set()\n",
            "\n",
            "Set with the use of String: \n",
            "{'G', 's', 'F', 'r', 'e', 'k', 'o'}\n",
            "\n",
            "Set with the use of an Object: \n",
            "{'G', 's', 'F', 'r', 'e', 'k', 'o'}\n",
            "\n",
            "Set with the use of List: \n",
            "{'Geeks', 'For'}\n"
          ]
        }
      ]
    },
    {
      "cell_type": "code",
      "source": [
        "set1 = set([1, 2, 4, 4, 3, 3, 3, 6, 5])\n",
        "print(\"\\nSet with the use of Numbers: \")\n",
        "print(set1)\n",
        " \n",
        "# Creating a Set with\n",
        "# a mixed type of values\n",
        "# (Having numbers and strings)\n",
        "set1 = set([1, 2, 'Geeks', 4, 'For', 6, 'Geeks'])\n",
        "print(\"\\nSet with the use of Mixed Values\")\n",
        "print(set1)"
      ],
      "metadata": {
        "colab": {
          "base_uri": "https://localhost:8080/"
        },
        "id": "QCJSgHsvL6XP",
        "outputId": "9a3f4856-1f56-46d6-afea-a80f3a9d7ef1"
      },
      "execution_count": null,
      "outputs": [
        {
          "output_type": "stream",
          "name": "stdout",
          "text": [
            "\n",
            "Set with the use of Numbers: \n",
            "{1, 2, 3, 4, 5, 6}\n",
            "\n",
            "Set with the use of Mixed Values\n",
            "{1, 2, 4, 6, 'Geeks', 'For'}\n"
          ]
        }
      ]
    },
    {
      "cell_type": "code",
      "source": [
        "set1 = set()\n",
        "print(\"Initial blank Set: \")\n",
        "print(set1)\n",
        " \n",
        "# Adding element and tuple to the Set\n",
        "set1.add(8)\n",
        "set1.add(9)\n",
        "set1.add((6, 7))\n",
        "print(\"\\nSet after Addition of Three elements: \")\n",
        "print(set1)\n",
        " \n",
        "# Adding elements to the Set\n",
        "# using Iterator\n",
        "for i in range(1, 6):\n",
        "    set1.add(i)\n",
        "print(\"\\nSet after Addition of elements from 1-5: \")\n",
        "print(set1)"
      ],
      "metadata": {
        "id": "8XSh9pypMA-O",
        "outputId": "153eead5-17c3-4426-c60b-640af52bd68f",
        "colab": {
          "base_uri": "https://localhost:8080/"
        }
      },
      "execution_count": null,
      "outputs": [
        {
          "output_type": "stream",
          "name": "stdout",
          "text": [
            "Initial blank Set: \n",
            "set()\n",
            "\n",
            "Set after Addition of Three elements: \n",
            "{8, 9, (6, 7)}\n",
            "\n",
            "Set after Addition of elements from 1-5: \n",
            "{1, 2, 3, (6, 7), 4, 5, 8, 9}\n"
          ]
        }
      ]
    },
    {
      "cell_type": "code",
      "source": [
        "set1 = set([4, 5, (6, 7)])\n",
        "set1.update([10, 11])\n",
        "print(\"\\nSet after Addition of elements using Update: \")\n",
        "print(set1)"
      ],
      "metadata": {
        "id": "PiNY3hQwMEbu",
        "outputId": "5f5e3890-63ab-45b4-8176-7cc9ca18e87a",
        "colab": {
          "base_uri": "https://localhost:8080/"
        }
      },
      "execution_count": null,
      "outputs": [
        {
          "output_type": "stream",
          "name": "stdout",
          "text": [
            "\n",
            "Set after Addition of elements using Update: \n",
            "{4, 5, (6, 7), 10, 11}\n"
          ]
        }
      ]
    },
    {
      "cell_type": "code",
      "source": [
        "set1 = set([1, 2, 3, 4, 5, 6,\n",
        "            7, 8, 9, 10, 11, 12])\n",
        "print(\"Initial Set: \")\n",
        "print(set1)\n",
        " \n",
        "# Removing elements from Set\n",
        "# using Remove() method\n",
        "set1.remove(5)\n",
        "set1.remove(6)\n",
        "print(\"\\nSet after Removal of two elements: \")\n",
        "print(set1)\n",
        " \n",
        "# Removing elements from Set\n",
        "# using Discard() method\n",
        "set1.discard(8)\n",
        "set1.discard(9)\n",
        "print(\"\\nSet after Discarding two elements: \")\n",
        "print(set1)\n",
        " \n",
        "# Removing elements from Set\n",
        "# using iterator method\n",
        "for i in range(1, 5):\n",
        "    set1.remove(i)\n",
        "print(\"\\nSet after Removing a range of elements: \")\n",
        "print(set1)"
      ],
      "metadata": {
        "colab": {
          "base_uri": "https://localhost:8080/"
        },
        "id": "UMQEGJcLeemU",
        "outputId": "ba0da900-1432-4b61-8f34-149c06ca3339"
      },
      "execution_count": null,
      "outputs": [
        {
          "output_type": "stream",
          "name": "stdout",
          "text": [
            "Initial Set: \n",
            "{1, 2, 3, 4, 5, 6, 7, 8, 9, 10, 11, 12}\n",
            "\n",
            "Set after Removal of two elements: \n",
            "{1, 2, 3, 4, 7, 8, 9, 10, 11, 12}\n",
            "\n",
            "Set after Discarding two elements: \n",
            "{1, 2, 3, 4, 7, 10, 11, 12}\n",
            "\n",
            "Set after Removing a range of elements: \n",
            "{7, 10, 11, 12}\n"
          ]
        }
      ]
    },
    {
      "cell_type": "code",
      "source": [
        "set1 = set([1, 2, 3, 4, 5, 6,\n",
        "            7, 8, 9, 10, 11, 12])\n",
        "print(\"Initial Set: \")\n",
        "print(set1)\n",
        " \n",
        "# Removing element from the\n",
        "# Set using the pop() method\n",
        "set1.pop()\n",
        "print(\"\\nSet after popping an element: \")\n",
        "print(set1)"
      ],
      "metadata": {
        "colab": {
          "base_uri": "https://localhost:8080/"
        },
        "id": "9qreqWjoeo1X",
        "outputId": "73e44268-9eac-4648-cdd3-42a2db18ffbf"
      },
      "execution_count": null,
      "outputs": [
        {
          "output_type": "stream",
          "name": "stdout",
          "text": [
            "Initial Set: \n",
            "{1, 2, 3, 4, 5, 6, 7, 8, 9, 10, 11, 12}\n",
            "\n",
            "Set after popping an element: \n",
            "{2, 3, 4, 5, 6, 7, 8, 9, 10, 11, 12}\n"
          ]
        }
      ]
    },
    {
      "cell_type": "code",
      "source": [
        "set1 = set([1,2,3,4,5])\n",
        "print(\"\\n Initial set: \")\n",
        "print(set1)\n",
        " \n",
        " \n",
        "# Removing all the elements from\n",
        "# Set using clear() method\n",
        "set1.clear()\n",
        "print(\"\\nSet after clearing all the elements: \")\n",
        "print(set1)"
      ],
      "metadata": {
        "colab": {
          "base_uri": "https://localhost:8080/"
        },
        "id": "WHk7sRPtesB3",
        "outputId": "f5fae980-0d83-4968-e447-37f6a982b693"
      },
      "execution_count": null,
      "outputs": [
        {
          "output_type": "stream",
          "name": "stdout",
          "text": [
            "\n",
            " Initial set: \n",
            "{1, 2, 3, 4, 5}\n",
            "\n",
            "Set after clearing all the elements: \n",
            "set()\n"
          ]
        }
      ]
    },
    {
      "cell_type": "code",
      "source": [
        "String = ('G', 'e', 'e', 'k', 's', 'F', 'o', 'r')\n",
        " \n",
        "Fset1 = frozenset(String)\n",
        "print(\"The FrozenSet is: \")\n",
        "print(Fset1)\n",
        " \n",
        "# To print Empty Frozen Set\n",
        "# No parameter is passed\n",
        "print(\"\\nEmpty FrozenSet: \")\n",
        "print(frozenset())"
      ],
      "metadata": {
        "colab": {
          "base_uri": "https://localhost:8080/"
        },
        "id": "nadRlDMMe0XR",
        "outputId": "18ae167d-3e6c-4acc-8d63-27c033cdde22"
      },
      "execution_count": null,
      "outputs": [
        {
          "output_type": "stream",
          "name": "stdout",
          "text": [
            "The FrozenSet is: \n",
            "frozenset({'e', 'G', 'k', 'F', 'r', 's', 'o'})\n",
            "\n",
            "Empty FrozenSet: \n",
            "frozenset()\n"
          ]
        }
      ]
    },
    {
      "cell_type": "code",
      "source": [
        "my_list = [1, 2, 3, 3, 4, 5, 5, 6, 2]\n",
        "my_set = set(my_list)\n",
        "print(\"my_list as a set: \", my_set)\n",
        " \n",
        "# Typecasting string into set\n",
        "my_str = \"GeeksforGeeks\"\n",
        "my_set1 = set(my_str)\n",
        "print(\"my_str as a set: \", my_set1)\n",
        " \n",
        "# Typecasting dictionary into set\n",
        "my_dict = {1: \"One\", 2: \"Two\", 3: \"Three\"}\n",
        "my_set2 = set(my_dict)\n",
        "print(\"my_dict as a set: \", my_set2)"
      ],
      "metadata": {
        "colab": {
          "base_uri": "https://localhost:8080/"
        },
        "id": "ZYuiSLQge5FS",
        "outputId": "8cc73c12-9638-43db-8570-adc6a5d08da8"
      },
      "execution_count": null,
      "outputs": [
        {
          "output_type": "stream",
          "name": "stdout",
          "text": [
            "my_list as a set:  {1, 2, 3, 4, 5, 6}\n",
            "my_str as a set:  {'e', 'G', 'k', 'r', 's', 'o', 'f'}\n",
            "my_dict as a set:  {1, 2, 3}\n"
          ]
        }
      ]
    },
    {
      "cell_type": "code",
      "source": [
        "Dict = {1: 'Geeks', 2: 'For', 3: 'Geeks'}\n",
        "print(\"\\nDictionary with the use of Integer Keys: \")\n",
        "print(Dict)\n",
        "  \n",
        "# Creating a Dictionary\n",
        "# with Mixed keys\n",
        "Dict = {'Name': 'Geeks', 1: [1, 2, 3, 4]}\n",
        "print(\"\\nDictionary with the use of Mixed Keys: \")\n",
        "print(Dict)"
      ],
      "metadata": {
        "colab": {
          "base_uri": "https://localhost:8080/"
        },
        "id": "4KC_GPcge_e9",
        "outputId": "d282f71c-608d-43a0-bea6-358e5234bfef"
      },
      "execution_count": null,
      "outputs": [
        {
          "output_type": "stream",
          "name": "stdout",
          "text": [
            "\n",
            "Dictionary with the use of Integer Keys: \n",
            "{1: 'Geeks', 2: 'For', 3: 'Geeks'}\n",
            "\n",
            "Dictionary with the use of Mixed Keys: \n",
            "{'Name': 'Geeks', 1: [1, 2, 3, 4]}\n"
          ]
        }
      ]
    },
    {
      "cell_type": "code",
      "source": [
        "Dict = {}\n",
        "print(\"Empty Dictionary: \")\n",
        "print(Dict)\n",
        "  \n",
        "# Creating a Dictionary\n",
        "# with dict() method\n",
        "Dict = dict({1: 'Geeks', 2: 'For', 3: 'Geeks'})\n",
        "print(\"\\nDictionary with the use of dict(): \")\n",
        "print(Dict)\n",
        "  \n",
        "# Creating a Dictionary\n",
        "# with each item as a Pair\n",
        "Dict = dict([(1, 'Geeks'), (2, 'For')])\n",
        "print(\"\\nDictionary with each item as a pair: \")\n",
        "print(Dict)"
      ],
      "metadata": {
        "colab": {
          "base_uri": "https://localhost:8080/"
        },
        "id": "vHZ3PAaDfC60",
        "outputId": "763d628d-c37a-4c58-96f0-59a9bc4cf54b"
      },
      "execution_count": null,
      "outputs": [
        {
          "output_type": "stream",
          "name": "stdout",
          "text": [
            "Empty Dictionary: \n",
            "{}\n",
            "\n",
            "Dictionary with the use of dict(): \n",
            "{1: 'Geeks', 2: 'For', 3: 'Geeks'}\n",
            "\n",
            "Dictionary with each item as a pair: \n",
            "{1: 'Geeks', 2: 'For'}\n"
          ]
        }
      ]
    },
    {
      "cell_type": "code",
      "source": [
        "Dict = {1: 'Geeks', 2: 'For',\n",
        "        3: {'A': 'Welcome', 'B': 'To', 'C': 'Geeks'}}\n",
        "  \n",
        "print(Dict)"
      ],
      "metadata": {
        "id": "xqRzmOI_fGCf",
        "outputId": "0242b0c7-e204-4271-945a-144aede8e8e3",
        "colab": {
          "base_uri": "https://localhost:8080/"
        }
      },
      "execution_count": null,
      "outputs": [
        {
          "output_type": "stream",
          "name": "stdout",
          "text": [
            "{1: 'Geeks', 2: 'For', 3: {'A': 'Welcome', 'B': 'To', 'C': 'Geeks'}}\n"
          ]
        }
      ]
    },
    {
      "cell_type": "code",
      "source": [
        "Dict = {}\n",
        "print(\"Empty Dictionary: \")\n",
        "print(Dict)\n",
        "  \n",
        "# Adding elements one at a time\n",
        "Dict[0] = 'Geeks'\n",
        "Dict[2] = 'For'\n",
        "Dict[3] = 1\n",
        "print(\"\\nDictionary after adding 3 elements: \")\n",
        "print(Dict)\n",
        "  \n",
        "# Adding set of values\n",
        "# to a single Key\n",
        "Dict['Value_set'] = 2, 3, 4\n",
        "print(\"\\nDictionary after adding 3 elements: \")\n",
        "print(Dict)\n",
        "  \n",
        "# Updating existing Key's Value\n",
        "Dict[2] = 'Welcome'\n",
        "print(\"\\nUpdated key value: \")\n",
        "print(Dict)\n",
        "  \n",
        "# Adding Nested Key value to Dictionary\n",
        "Dict[5] = {'Nested': {'1': 'Life', '2': 'Geeks'}}\n",
        "print(\"\\nAdding a Nested Key: \")\n",
        "print(Dict)"
      ],
      "metadata": {
        "id": "aZb5OWv8fJzO",
        "outputId": "f1f14bc0-7ff3-47d3-dcab-d13135c900f9",
        "colab": {
          "base_uri": "https://localhost:8080/"
        }
      },
      "execution_count": null,
      "outputs": [
        {
          "output_type": "stream",
          "name": "stdout",
          "text": [
            "Empty Dictionary: \n",
            "{}\n",
            "\n",
            "Dictionary after adding 3 elements: \n",
            "{0: 'Geeks', 2: 'For', 3: 1}\n",
            "\n",
            "Dictionary after adding 3 elements: \n",
            "{0: 'Geeks', 2: 'For', 3: 1, 'Value_set': (2, 3, 4)}\n",
            "\n",
            "Updated key value: \n",
            "{0: 'Geeks', 2: 'Welcome', 3: 1, 'Value_set': (2, 3, 4)}\n",
            "\n",
            "Adding a Nested Key: \n",
            "{0: 'Geeks', 2: 'Welcome', 3: 1, 'Value_set': (2, 3, 4), 5: {'Nested': {'1': 'Life', '2': 'Geeks'}}}\n"
          ]
        }
      ]
    },
    {
      "cell_type": "code",
      "source": [
        "dict1 = {1: \"Python\", 2: \"Java\", 3: \"Ruby\", 4: \"Scala\"}\n",
        "  \n",
        "# copy() method\n",
        "dict2 = dict1.copy()\n",
        "print(dict2)\n",
        "  \n",
        "# clear() method\n",
        "dict1.clear()\n",
        "print(dict1)\n",
        "  \n",
        "# get() method\n",
        "print(dict2.get(1))\n",
        "  \n",
        "# items() method\n",
        "print(dict2.items())\n",
        "  \n",
        "# keys() method\n",
        "print(dict2.keys())\n",
        "  \n",
        "# pop() method\n",
        "dict2.pop(4)\n",
        "print(dict2)\n",
        "  \n",
        "# popitem() method\n",
        "dict2.popitem()\n",
        "print(dict2)\n",
        "  \n",
        "# update() method\n",
        "dict2.update({3: \"Scala\"})\n",
        "print(dict2)\n",
        "  \n",
        "# values() method\n",
        "print(dict2.values())"
      ],
      "metadata": {
        "colab": {
          "base_uri": "https://localhost:8080/"
        },
        "id": "RL5q7gNDLpnS",
        "outputId": "6d86914d-09c5-4dd1-8100-11192d4627da"
      },
      "execution_count": null,
      "outputs": [
        {
          "output_type": "stream",
          "name": "stdout",
          "text": [
            "{1: 'Python', 2: 'Java', 3: 'Ruby', 4: 'Scala'}\n",
            "{}\n",
            "Python\n",
            "dict_items([(1, 'Python'), (2, 'Java'), (3, 'Ruby'), (4, 'Scala')])\n",
            "dict_keys([1, 2, 3, 4])\n",
            "{1: 'Python', 2: 'Java', 3: 'Ruby'}\n",
            "{1: 'Python', 2: 'Java'}\n",
            "{1: 'Python', 2: 'Java', 3: 'Scala'}\n",
            "dict_values(['Python', 'Java', 'Scala'])\n"
          ]
        }
      ]
    },
    {
      "cell_type": "code",
      "source": [
        "  \n",
        "i = 20\n",
        "if (i < 15):\n",
        "    print(\"i is smaller than 15\")\n",
        "    print(\"i'm in if Block\")\n",
        "else:\n",
        "    print(\"i is greater than 15\")\n",
        "    print(\"i'm in else Block\")\n",
        "print(\"i'm not in if and not in else Block\")"
      ],
      "metadata": {
        "colab": {
          "base_uri": "https://localhost:8080/"
        },
        "id": "9PX634DiLy_N",
        "outputId": "73cb8f4a-c433-46b4-e051-12f8f531bedf"
      },
      "execution_count": null,
      "outputs": [
        {
          "output_type": "stream",
          "name": "stdout",
          "text": [
            "i is greater than 15\n",
            "i'm in else Block\n",
            "i'm not in if and not in else Block\n"
          ]
        }
      ]
    },
    {
      "cell_type": "code",
      "source": [
        "def digitSum(n):\n",
        "    dsum = 0\n",
        "    for ele in str(n):\n",
        "        dsum += int(ele)\n",
        "    return dsum\n",
        "  \n",
        "  \n",
        "# Initializing list\n",
        "List = [367, 111, 562, 945, 6726, 873]\n",
        "  \n",
        "# Using the function on odd elements of the list\n",
        "newList = [digitSum(i) for i in List if i & 1]\n",
        "  \n",
        "# Displaying new list\n",
        "print(newList)"
      ],
      "metadata": {
        "colab": {
          "base_uri": "https://localhost:8080/"
        },
        "id": "2wskOx6zL3ka",
        "outputId": "d3d3cef2-b1e7-4d78-ef91-8057a1f9b827"
      },
      "execution_count": null,
      "outputs": [
        {
          "output_type": "stream",
          "name": "stdout",
          "text": [
            "[16, 3, 18, 18]\n"
          ]
        }
      ]
    },
    {
      "cell_type": "code",
      "source": [
        "i = 10\n",
        "if (i == 10):\n",
        "    \n",
        "    #  First if statement\n",
        "    if (i < 15):\n",
        "        print(\"i is smaller than 15\")\n",
        "          \n",
        "    # Nested - if statement\n",
        "    # Will only be executed if statement above\n",
        "    # it is true\n",
        "    if (i < 12):\n",
        "        print(\"i is smaller than 12 too\")\n",
        "    else:\n",
        "        print(\"i is greater than 15\")"
      ],
      "metadata": {
        "colab": {
          "base_uri": "https://localhost:8080/"
        },
        "id": "O1GoAj2kMBTb",
        "outputId": "12ee33c2-3026-4a29-e2ce-0caa5026abf2"
      },
      "execution_count": null,
      "outputs": [
        {
          "output_type": "stream",
          "name": "stdout",
          "text": [
            "i is smaller than 15\n",
            "i is smaller than 12 too\n"
          ]
        }
      ]
    },
    {
      "cell_type": "code",
      "source": [
        "i = 20\n",
        "if (i == 10):\n",
        "    print(\"i is 10\")\n",
        "elif (i == 15):\n",
        "    print(\"i is 15\")\n",
        "elif (i == 20):\n",
        "    print(\"i is 20\")\n",
        "else:\n",
        "    print(\"i is not present\")"
      ],
      "metadata": {
        "colab": {
          "base_uri": "https://localhost:8080/"
        },
        "id": "Bmxm31z5MFVk",
        "outputId": "f798a1b4-0c66-4f9a-fd40-fa171dfeb09c"
      },
      "execution_count": null,
      "outputs": [
        {
          "output_type": "stream",
          "name": "stdout",
          "text": [
            "i is 20\n"
          ]
        }
      ]
    },
    {
      "cell_type": "code",
      "source": [
        "i = 10\n",
        "if i < 15:\n",
        "    print(\"i is less than 15\")"
      ],
      "metadata": {
        "colab": {
          "base_uri": "https://localhost:8080/"
        },
        "id": "Nx6HPuwyMIsq",
        "outputId": "18839f2f-4391-4fb9-934a-b6345bdd16d4"
      },
      "execution_count": null,
      "outputs": [
        {
          "output_type": "stream",
          "name": "stdout",
          "text": [
            "i is less than 15\n"
          ]
        }
      ]
    },
    {
      "cell_type": "code",
      "source": [
        "x = 5\n",
        "print(1 < x < 10)\n",
        "print(10 < x < 20 )\n",
        "print(x < 10 < x*10 < 100)\n",
        "print(10 > x <= 9)\n",
        "print(5 == x > 4)"
      ],
      "metadata": {
        "id": "fBYl79QMMLQp",
        "colab": {
          "base_uri": "https://localhost:8080/"
        },
        "outputId": "82a002a8-95be-4001-bcfb-1ac58b94afd8"
      },
      "execution_count": null,
      "outputs": [
        {
          "output_type": "stream",
          "name": "stdout",
          "text": [
            "True\n",
            "False\n",
            "True\n",
            "True\n",
            "True\n"
          ]
        }
      ]
    },
    {
      "cell_type": "code",
      "source": [
        "print(\"Dictionary Iteration\")\n",
        "d = dict()\n",
        "d['xyz'] = 123\n",
        "d['abc'] = 345\n",
        "for i in d:\n",
        "    print(\"% s % d\" % (i, d[i]))"
      ],
      "metadata": {
        "colab": {
          "base_uri": "https://localhost:8080/"
        },
        "id": "Wq-vaJDCpCKI",
        "outputId": "b40e319f-5c27-4866-c688-e7bd04478099"
      },
      "execution_count": null,
      "outputs": [
        {
          "output_type": "stream",
          "name": "stdout",
          "text": [
            "Dictionary Iteration\n",
            "xyz  123\n",
            "abc  345\n"
          ]
        }
      ]
    },
    {
      "cell_type": "code",
      "source": [
        "print(\"String Iteration\")\n",
        "s = \"Geeks\"\n",
        "for i in s:\n",
        "    print(i)"
      ],
      "metadata": {
        "colab": {
          "base_uri": "https://localhost:8080/"
        },
        "id": "boL9AMDXpJl3",
        "outputId": "c29bc438-925b-4c19-ac72-b8ca30e261c8"
      },
      "execution_count": null,
      "outputs": [
        {
          "output_type": "stream",
          "name": "stdout",
          "text": [
            "String Iteration\n",
            "G\n",
            "e\n",
            "e\n",
            "k\n",
            "s\n"
          ]
        }
      ]
    },
    {
      "cell_type": "code",
      "source": [
        "\n",
        "for letter in 'geeksforgeeks':\n",
        " \n",
        "    # break the loop as soon it sees 'e'\n",
        "    # or 's'\n",
        "    if letter == 'e' or letter == 's':\n",
        "        break\n",
        " \n",
        "print('Current Letter :', letter)"
      ],
      "metadata": {
        "colab": {
          "base_uri": "https://localhost:8080/"
        },
        "id": "OW25AK3UpcDR",
        "outputId": "f606b398-613c-4791-f803-165b86aa4540"
      },
      "execution_count": null,
      "outputs": [
        {
          "output_type": "stream",
          "name": "stdout",
          "text": [
            "Current Letter : e\n"
          ]
        }
      ]
    },
    {
      "cell_type": "code",
      "source": [
        "for i in range(10):\n",
        "    print(i, end=\" \")\n",
        " \n",
        "# performing sum of first 10 numbers\n",
        "sum = 0\n",
        "for i in range(1, 10):\n",
        "    sum = sum + i\n",
        "print(\"\\nSum of first 10 numbers :\", sum)"
      ],
      "metadata": {
        "colab": {
          "base_uri": "https://localhost:8080/"
        },
        "id": "tgQOb_i4pgVI",
        "outputId": "8899712b-6b83-481e-adf6-cbacb88f563a"
      },
      "execution_count": null,
      "outputs": [
        {
          "output_type": "stream",
          "name": "stdout",
          "text": [
            "0 1 2 3 4 5 6 7 8 9 \n",
            "Sum of first 10 numbers : 45\n"
          ]
        }
      ]
    },
    {
      "cell_type": "code",
      "source": [
        "for i in range(1, 4):\n",
        "    print(i)\n",
        "else:  # Executed because no break in for\n",
        "    print(\"No Break\\n\")"
      ],
      "metadata": {
        "colab": {
          "base_uri": "https://localhost:8080/"
        },
        "id": "KDRbNK5gpi4K",
        "outputId": "ef950362-fc2f-49f6-84c5-9f1befa1d1ea"
      },
      "execution_count": null,
      "outputs": [
        {
          "output_type": "stream",
          "name": "stdout",
          "text": [
            "1\n",
            "2\n",
            "3\n",
            "No Break\n",
            "\n"
          ]
        }
      ]
    },
    {
      "cell_type": "code",
      "source": [
        "count = 0\n",
        "while (count < 3):\n",
        "    count = count + 1\n",
        "    print(\"Hello Geek\")"
      ],
      "metadata": {
        "id": "H6HIc_SIprOd",
        "outputId": "5b40acce-262d-42e5-f39a-299556ed094a",
        "colab": {
          "base_uri": "https://localhost:8080/"
        }
      },
      "execution_count": null,
      "outputs": [
        {
          "output_type": "stream",
          "name": "stdout",
          "text": [
            "Hello Geek\n",
            "Hello Geek\n",
            "Hello Geek\n"
          ]
        }
      ]
    },
    {
      "cell_type": "code",
      "source": [
        "a = [1, 2, 3, 4]\n",
        " \n",
        "while a:\n",
        "    print(a.pop())"
      ],
      "metadata": {
        "id": "5nz5v4Zmptfd",
        "outputId": "f0418c8a-4396-417f-e8cf-e1d6f5a23dbf",
        "colab": {
          "base_uri": "https://localhost:8080/"
        }
      },
      "execution_count": null,
      "outputs": [
        {
          "output_type": "stream",
          "name": "stdout",
          "text": [
            "4\n",
            "3\n",
            "2\n",
            "1\n"
          ]
        }
      ]
    },
    {
      "cell_type": "code",
      "source": [
        "i = 0\n",
        "a = 'geeksforgeeks'\n",
        " \n",
        "while i < len(a):\n",
        "    if a[i] == 'e' or a[i] == 's':\n",
        "        i += 1\n",
        "        continue\n",
        "         \n",
        "    print('Current Letter :', a[i])\n",
        "    i += 1"
      ],
      "metadata": {
        "id": "aeV1-n0hpwNa",
        "outputId": "b2970d58-e06d-4eab-be07-5771b8c941a2",
        "colab": {
          "base_uri": "https://localhost:8080/"
        }
      },
      "execution_count": null,
      "outputs": [
        {
          "output_type": "stream",
          "name": "stdout",
          "text": [
            "Current Letter : g\n",
            "Current Letter : k\n",
            "Current Letter : f\n",
            "Current Letter : o\n",
            "Current Letter : r\n",
            "Current Letter : g\n",
            "Current Letter : k\n"
          ]
        }
      ]
    },
    {
      "cell_type": "code",
      "source": [
        "import pandas as pd\n",
        "import numpy as np"
      ],
      "metadata": {
        "id": "QRfhiZSuKNlf"
      },
      "execution_count": null,
      "outputs": []
    },
    {
      "cell_type": "code",
      "source": [
        "def simpleGeneratorFun():\n",
        "    yield 1            \n",
        "    yield 2            \n",
        "    yield 3            \n",
        "   \n",
        "# Driver code to check above generator function\n",
        "for value in simpleGeneratorFun(): \n",
        "    print(value)"
      ],
      "metadata": {
        "colab": {
          "base_uri": "https://localhost:8080/"
        },
        "id": "lbYTzQlTJzpt",
        "outputId": "c5a3f73a-da11-44c4-e498-9ba155413567"
      },
      "execution_count": null,
      "outputs": [
        {
          "output_type": "stream",
          "name": "stdout",
          "text": [
            "1\n",
            "2\n",
            "3\n"
          ]
        }
      ]
    },
    {
      "cell_type": "code",
      "source": [
        "def cube(y):\n",
        "    return y*y*y\n",
        " \n",
        " \n",
        "def g(x): return x*x*x\n",
        " \n",
        " \n",
        "print(g(7))\n",
        " \n",
        "print(cube(5))"
      ],
      "metadata": {
        "colab": {
          "base_uri": "https://localhost:8080/"
        },
        "id": "7pR80v4iKoLd",
        "outputId": "b3ef58aa-5b14-4dc2-82ff-45b7b26b80e8"
      },
      "execution_count": null,
      "outputs": [
        {
          "output_type": "stream",
          "name": "stdout",
          "text": [
            "343\n",
            "125\n"
          ]
        }
      ]
    },
    {
      "cell_type": "code",
      "source": [
        "def power(n):\n",
        "    return lambda a: a ** n\n",
        " \n",
        " \n",
        "# base = lambda a : a**2 get\n",
        "# returned to base\n",
        "base = power(2)\n",
        " \n",
        "print(\"Now power is set to 2\")\n",
        " \n",
        "# when calling base it gets\n",
        "# executed with already set with 2\n",
        "print(\"8 powerof 2 = \", base(8))\n",
        " \n",
        "# base = lambda a : a**5 get\n",
        "# returned to base\n",
        "base = power(5)\n",
        "print(\"Now power is set to 5\")\n",
        " \n",
        "# when calling base it gets executed\n",
        "# with already set with newly 2\n",
        "print(\"8 powerof 5 = \", base(8))"
      ],
      "metadata": {
        "colab": {
          "base_uri": "https://localhost:8080/"
        },
        "id": "3eIHmEhBKr1R",
        "outputId": "8f9c3fe6-52a1-4d9d-a0a2-6e4d46f7034c"
      },
      "execution_count": null,
      "outputs": [
        {
          "output_type": "stream",
          "name": "stdout",
          "text": [
            "Now power is set to 2\n",
            "8 powerof 2 =  64\n",
            "Now power is set to 5\n",
            "8 powerof 5 =  32768\n"
          ]
        }
      ]
    },
    {
      "cell_type": "code",
      "source": [
        "a = [100, 2, 8, 60, 5, 4, 3, 31, 10, 11]\n",
        " \n",
        "# in filter either we use assignment or\n",
        "# conditional operator, the pass actual\n",
        "# parameter will get return\n",
        "filtered = filter (lambda x: x % 2 == 0, a)\n",
        "print(list(filtered))\n",
        " \n",
        "# in map either we use assignment or\n",
        "# conditional operator, the result of\n",
        "# the value will get returned\n",
        "mapped = map (lambda x: x % 2 == 0, a)\n",
        "print(list(mapped))"
      ],
      "metadata": {
        "colab": {
          "base_uri": "https://localhost:8080/"
        },
        "id": "ZHzGFECjKxPx",
        "outputId": "074d2ee3-b974-4239-bc6f-afbb5a6a563c"
      },
      "execution_count": null,
      "outputs": [
        {
          "output_type": "stream",
          "name": "stdout",
          "text": [
            "[100, 2, 8, 60, 4, 10]\n",
            "[True, True, True, True, False, True, False, False, True, False]\n"
          ]
        }
      ]
    },
    {
      "cell_type": "code",
      "source": [
        "x = 15\n",
        " \n",
        "def change():\n",
        "    # using a global keyword\n",
        "    global x\n",
        " \n",
        "    # increment value of a by 5\n",
        "    x = x + 5\n",
        "    print(\"Value of x inside a function :\", x)\n",
        " \n",
        "change()\n",
        "print(\"Value of x outside a function :\", x)"
      ],
      "metadata": {
        "colab": {
          "base_uri": "https://localhost:8080/"
        },
        "id": "1FmSbtkwLERl",
        "outputId": "552a963c-35b4-450f-815b-46881a2bd15f"
      },
      "execution_count": null,
      "outputs": [
        {
          "output_type": "stream",
          "name": "stdout",
          "text": [
            "Value of x inside a function : 20\n",
            "Value of x outside a function : 20\n"
          ]
        }
      ]
    },
    {
      "cell_type": "code",
      "source": [
        "def add():\n",
        "    x = 15\n",
        "    def change():\n",
        "        global x\n",
        "        x = 20\n",
        "    print(\"Before making changing: \", x)\n",
        "    print(\"Making change\")\n",
        "    change()\n",
        "    print(\"After making change: \", x)\n",
        " \n",
        "add()\n",
        "print(\"value of x\", x)"
      ],
      "metadata": {
        "colab": {
          "base_uri": "https://localhost:8080/"
        },
        "id": "WPd1V36OLIS2",
        "outputId": "4377727d-37c0-42bd-f872-df8f073c2f42"
      },
      "execution_count": null,
      "outputs": [
        {
          "output_type": "stream",
          "name": "stdout",
          "text": [
            "Before making changing:  15\n",
            "Making change\n",
            "After making change:  15\n",
            "value of x 20\n"
          ]
        }
      ]
    },
    {
      "cell_type": "code",
      "source": [
        "\n",
        "# Python program to modify a global\n",
        "# value inside a function\n",
        " \n",
        "x = 15\n",
        " \n",
        "def change():\n",
        "    # using a global keyword\n",
        "    global x\n",
        " \n",
        "    # increment value of a by 5\n",
        "    x = x + 5\n",
        "    print(\"Value of x inside a function :\", x)\n",
        " \n",
        "change()\n",
        "print(\"Value of x outside a function :\", x)"
      ],
      "metadata": {
        "colab": {
          "base_uri": "https://localhost:8080/"
        },
        "id": "SDzHriFWPdYf",
        "outputId": "f716904e-8209-4b49-d583-220d5c9fdfdf"
      },
      "execution_count": null,
      "outputs": [
        {
          "output_type": "stream",
          "name": "stdout",
          "text": [
            "Value of x inside a function : 20\n",
            "Value of x outside a function : 20\n"
          ]
        }
      ]
    },
    {
      "cell_type": "code",
      "source": [
        "def add():\n",
        "    x = 15\n",
        "    def change():\n",
        "        global x\n",
        "        x = 20\n",
        "    print(\"Before making changing: \", x)\n",
        "    print(\"Making change\")\n",
        "    change()\n",
        "    print(\"After making change: \", x)\n",
        " \n",
        "add()\n",
        "print(\"value of x\", x)"
      ],
      "metadata": {
        "colab": {
          "base_uri": "https://localhost:8080/"
        },
        "id": "uAvr3uoQPhZH",
        "outputId": "457ee9c4-ed85-4497-e223-7a8872a60b37"
      },
      "execution_count": null,
      "outputs": [
        {
          "output_type": "stream",
          "name": "stdout",
          "text": [
            "Before making changing:  15\n",
            "Making change\n",
            "After making change:  15\n",
            "value of x 20\n"
          ]
        }
      ]
    },
    {
      "cell_type": "code",
      "source": [
        "def shout(text):\n",
        "    return text.upper()\n",
        "  \n",
        "print (shout('Hello'))\n",
        "  \n",
        "yell = shout\n",
        "  \n",
        "print (yell('Hello'))"
      ],
      "metadata": {
        "colab": {
          "base_uri": "https://localhost:8080/"
        },
        "id": "scVeIPLjPo6c",
        "outputId": "53a235ca-e0e1-4b01-fa12-eced1972b2f3"
      },
      "execution_count": null,
      "outputs": [
        {
          "output_type": "stream",
          "name": "stdout",
          "text": [
            "HELLO\n",
            "HELLO\n"
          ]
        }
      ]
    },
    {
      "cell_type": "code",
      "source": [
        "def shout(text):\n",
        "    return text.upper()\n",
        "  \n",
        "def whisper(text):\n",
        "    return text.lower()\n",
        "  \n",
        "def greet(func):\n",
        "    # storing the function in a variable\n",
        "    greeting = func(\"\"\"Hi, I am created by a function\n",
        "                    passed as an argument.\"\"\")\n",
        "    print (greeting) \n",
        "  \n",
        "greet(shout)\n",
        "greet(whisper)"
      ],
      "metadata": {
        "colab": {
          "base_uri": "https://localhost:8080/"
        },
        "id": "h7aRbj0kPsEu",
        "outputId": "c6c72555-a5cd-4258-b610-79adb221e627"
      },
      "execution_count": null,
      "outputs": [
        {
          "output_type": "stream",
          "name": "stdout",
          "text": [
            "HI, I AM CREATED BY A FUNCTION\n",
            "                    PASSED AS AN ARGUMENT.\n",
            "hi, i am created by a function\n",
            "                    passed as an argument.\n"
          ]
        }
      ]
    },
    {
      "cell_type": "code",
      "source": [
        "def create_adder(x):\n",
        "    def adder(y):\n",
        "        return x+y\n",
        "  \n",
        "    return adder\n",
        "  \n",
        "add_15 = create_adder(15)\n",
        "  \n",
        "print (add_15(10))"
      ],
      "metadata": {
        "colab": {
          "base_uri": "https://localhost:8080/"
        },
        "id": "gD0ihD_4PutI",
        "outputId": "c13b0511-c0d4-4f32-d02e-453e77f55ec3"
      },
      "execution_count": null,
      "outputs": [
        {
          "output_type": "stream",
          "name": "stdout",
          "text": [
            "25\n"
          ]
        }
      ]
    },
    {
      "cell_type": "code",
      "source": [
        "def outerFunction(text):\n",
        "    text = text\n",
        " \n",
        "    def innerFunction():\n",
        "        print(text)\n",
        " \n",
        "    innerFunction()\n",
        " \n",
        "if __name__ == '__main__':\n",
        "    outerFunction('Hey!')"
      ],
      "metadata": {
        "colab": {
          "base_uri": "https://localhost:8080/"
        },
        "id": "fbtmuhAugp4Z",
        "outputId": "b7bf7f40-d2f7-4454-c3b9-2bdaba54606e"
      },
      "execution_count": null,
      "outputs": [
        {
          "output_type": "stream",
          "name": "stdout",
          "text": [
            "Hey!\n"
          ]
        }
      ]
    },
    {
      "cell_type": "code",
      "source": [
        "def outerFunction(text):\n",
        "    text = text\n",
        " \n",
        "    def innerFunction():\n",
        "        print(text)\n",
        " \n",
        "    # Note we are returning function\n",
        "    # WITHOUT parenthesis\n",
        "    return innerFunction \n",
        " \n",
        "if __name__ == '__main__':\n",
        "    myFunction = outerFunction('Hey!')\n",
        "    myFunction()"
      ],
      "metadata": {
        "colab": {
          "base_uri": "https://localhost:8080/"
        },
        "id": "870NnVaHhMeK",
        "outputId": "0613e811-a05f-45df-fe55-077ad4923716"
      },
      "execution_count": null,
      "outputs": [
        {
          "output_type": "stream",
          "name": "stdout",
          "text": [
            "Hey!\n"
          ]
        }
      ]
    },
    {
      "cell_type": "code",
      "source": [
        "import logging\n",
        "logging.basicConfig(filename='example.log',\n",
        "                    level=logging.INFO)\n",
        " \n",
        " \n",
        "def logger(func):\n",
        "    def log_func(*args):\n",
        "        logging.info(\n",
        "            'Running \"{}\" with arguments {}'.format(func.__name__,\n",
        "                                                    args))\n",
        "        print(func(*args))\n",
        "         \n",
        "    # Necessary for closure to\n",
        "    # work (returning WITHOUT parenthesis)\n",
        "    return log_func            \n",
        " \n",
        "def add(x, y):\n",
        "    return x+y\n",
        " \n",
        "def sub(x, y):\n",
        "    return x-y\n",
        " \n",
        "add_logger = logger(add)\n",
        "sub_logger = logger(sub)"
      ],
      "metadata": {
        "id": "tX8jpIIuhcvF"
      },
      "execution_count": null,
      "outputs": []
    },
    {
      "cell_type": "code",
      "source": [
        "add_logger(3, 3)\n",
        "add_logger(4, 5)\n",
        " \n",
        "sub_logger(10, 5)\n",
        "sub_logger(20, 10)"
      ],
      "metadata": {
        "colab": {
          "base_uri": "https://localhost:8080/"
        },
        "id": "xPqQxNephh0Q",
        "outputId": "dc4422e2-1069-4296-ab77-ecbdcbbac27c"
      },
      "execution_count": null,
      "outputs": [
        {
          "output_type": "stream",
          "name": "stdout",
          "text": [
            "6\n",
            "9\n",
            "5\n",
            "10\n"
          ]
        }
      ]
    },
    {
      "cell_type": "code",
      "source": [
        "def shout(text):\n",
        "    return text.upper()\n",
        " \n",
        "print(shout('Hello'))\n",
        " \n",
        "yell = shout\n",
        " \n",
        "print(yell('Hello'))"
      ],
      "metadata": {
        "colab": {
          "base_uri": "https://localhost:8080/"
        },
        "id": "k9QR2haKh70a",
        "outputId": "25efcc32-efa9-47e9-d0ca-8d4ceab7aa3a"
      },
      "execution_count": null,
      "outputs": [
        {
          "output_type": "stream",
          "name": "stdout",
          "text": [
            "HELLO\n",
            "HELLO\n"
          ]
        }
      ]
    },
    {
      "cell_type": "code",
      "source": [
        "def shout(text):\n",
        "    return text.upper()\n",
        " \n",
        "def whisper(text):\n",
        "    return text.lower()\n",
        " \n",
        "def greet(func):\n",
        "    # storing the function in a variable\n",
        "    greeting = func(\"\"\"Hi, I am created by a function passed as an argument.\"\"\")\n",
        "    print (greeting)\n",
        " \n",
        "greet(shout)\n",
        "greet(whisper)"
      ],
      "metadata": {
        "colab": {
          "base_uri": "https://localhost:8080/"
        },
        "id": "wWjTsBSPiJFD",
        "outputId": "735ab358-70fe-4d39-db55-0c2dc297b70d"
      },
      "execution_count": null,
      "outputs": [
        {
          "output_type": "stream",
          "name": "stdout",
          "text": [
            "HI, I AM CREATED BY A FUNCTION PASSED AS AN ARGUMENT.\n",
            "hi, i am created by a function passed as an argument.\n"
          ]
        }
      ]
    },
    {
      "cell_type": "code",
      "source": [
        "def create_adder(x):\n",
        "    def adder(y):\n",
        "        return x+y\n",
        " \n",
        "    return adder\n",
        " \n",
        "add_15 = create_adder(15)\n",
        " \n",
        "print(add_15(10))"
      ],
      "metadata": {
        "colab": {
          "base_uri": "https://localhost:8080/"
        },
        "id": "G9Md7vvIicKq",
        "outputId": "a534f9dc-dbe2-4e3a-90ef-290f6a16808b"
      },
      "execution_count": null,
      "outputs": [
        {
          "output_type": "stream",
          "name": "stdout",
          "text": [
            "25\n"
          ]
        }
      ]
    },
    {
      "cell_type": "code",
      "source": [
        "def hello_decorator(func):\n",
        " \n",
        "    # inner1 is a Wrapper function in\n",
        "    # which the argument is called\n",
        "     \n",
        "    # inner function can access the outer local\n",
        "    # functions like in this case \"func\"\n",
        "    def inner1():\n",
        "        print(\"Hello, this is before function execution\")\n",
        " \n",
        "        # calling the actual function now\n",
        "        # inside the wrapper function.\n",
        "        func()\n",
        " \n",
        "        print(\"This is after function execution\")\n",
        "         \n",
        "    return inner1"
      ],
      "metadata": {
        "id": "rmC7wBUbdnqM"
      },
      "execution_count": null,
      "outputs": []
    },
    {
      "cell_type": "code",
      "source": [
        "def function_to_be_used():\n",
        "    print(\"This is inside the function !!\")\n",
        " \n",
        " \n",
        "# passing 'function_to_be_used' inside the\n",
        "# decorator to control its behaviour\n",
        "function_to_be_used = hello_decorator(function_to_be_used)\n",
        " \n",
        " \n",
        "# calling the function\n",
        "function_to_be_used()"
      ],
      "metadata": {
        "colab": {
          "base_uri": "https://localhost:8080/"
        },
        "id": "GmAAos9wdtNY",
        "outputId": "2dcab316-7bee-4149-f8db-022870c2675a"
      },
      "execution_count": null,
      "outputs": [
        {
          "output_type": "stream",
          "name": "stdout",
          "text": [
            "Hello, this is before function execution\n",
            "This is inside the function !!\n",
            "This is after function execution\n"
          ]
        }
      ]
    },
    {
      "cell_type": "code",
      "source": [
        "import time\n",
        "import math\n",
        " \n",
        "# decorator to calculate duration\n",
        "# taken by any function.\n",
        "def calculate_time(func):\n",
        "     \n",
        "    # added arguments inside the inner1,\n",
        "    # if function takes any arguments,\n",
        "    # can be added like this.\n",
        "    def inner1(*args, **kwargs):\n",
        " \n",
        "        # storing time before function execution\n",
        "        begin = time.time()\n",
        "         \n",
        "        func(*args, **kwargs)\n",
        " \n",
        "        # storing time after function execution\n",
        "        end = time.time()\n",
        "        print(\"Total time taken in : \", func.__name__, end - begin)\n",
        " \n",
        "    return inner1\n",
        " \n",
        " \n",
        " \n",
        "# this can be added to any function present,\n",
        "# in this case to calculate a factorial\n",
        "@calculate_time\n",
        "def factorial(num):\n",
        " \n",
        "    # sleep 2 seconds because it takes very less time\n",
        "    # so that you can see the actual difference\n",
        "    time.sleep(2)\n",
        "    print(math.factorial(num))\n",
        " \n",
        "# calling the function.\n",
        "factorial(10)"
      ],
      "metadata": {
        "colab": {
          "base_uri": "https://localhost:8080/"
        },
        "id": "xNrwLdqNdzuR",
        "outputId": "25c50a24-9fd1-442e-e111-02dedf6f77c7"
      },
      "execution_count": null,
      "outputs": [
        {
          "output_type": "stream",
          "name": "stdout",
          "text": [
            "3628800\n",
            "Total time taken in :  factorial 2.0016708374023438\n"
          ]
        }
      ]
    },
    {
      "cell_type": "code",
      "source": [
        "def hello_decorator(func):\n",
        "    def inner1(*args, **kwargs):\n",
        "         \n",
        "        print(\"before Execution\")\n",
        "         \n",
        "        # getting the returned value\n",
        "        returned_value = func(*args, **kwargs)\n",
        "        print(\"after Execution\")\n",
        "         \n",
        "        # returning the value to the original frame\n",
        "        return returned_value\n",
        "         \n",
        "    return inner1\n",
        " \n",
        " \n",
        "# adding decorator to the function\n",
        "@hello_decorator\n",
        "def sum_two_numbers(a, b):\n",
        "    print(\"Inside the function\")\n",
        "    return a + b\n",
        " \n",
        "a, b = 1, 2\n",
        " \n",
        "# getting the value through return of the function\n",
        "print(\"Sum =\", sum_two_numbers(a, b))"
      ],
      "metadata": {
        "colab": {
          "base_uri": "https://localhost:8080/"
        },
        "id": "BRiHiZQjd4Iy",
        "outputId": "032f8abe-c0e9-42ab-f413-09e17f0f56bd"
      },
      "execution_count": null,
      "outputs": [
        {
          "output_type": "stream",
          "name": "stdout",
          "text": [
            "before Execution\n",
            "Inside the function\n",
            "after Execution\n",
            "Sum = 3\n"
          ]
        }
      ]
    },
    {
      "cell_type": "code",
      "source": [
        "def decor1(func):\n",
        "    def inner():\n",
        "        x = func()\n",
        "        return x * x\n",
        "    return inner\n",
        " \n",
        "def decor(func):\n",
        "    def inner():\n",
        "        x = func()\n",
        "        return 2 * x\n",
        "    return inner\n",
        " \n",
        "@decor1\n",
        "@decor\n",
        "def num():\n",
        "    return 10\n",
        " \n",
        "print(num())"
      ],
      "metadata": {
        "colab": {
          "base_uri": "https://localhost:8080/"
        },
        "id": "nKNSPzYRd40s",
        "outputId": "a8252fcc-923a-4158-e222-ef7b10ac9703"
      },
      "execution_count": null,
      "outputs": [
        {
          "output_type": "stream",
          "name": "stdout",
          "text": [
            "400\n"
          ]
        }
      ]
    },
    {
      "cell_type": "code",
      "source": [
        "def decorator_fun(func):\n",
        "  print(\"Inside decorator\")\n",
        " \n",
        "  def inner(*args, **kwargs):\n",
        "    print(\"Inside inner function\")\n",
        "    print(\"Decorated the function\")\n",
        "    # do operations with func\n",
        "     \n",
        "    func()\n",
        "     \n",
        "  return inner\n",
        " \n",
        "@decorator_fun\n",
        "def func_to():\n",
        "    print(\"Inside actual function\")\n",
        " \n",
        "func_to()"
      ],
      "metadata": {
        "colab": {
          "base_uri": "https://localhost:8080/"
        },
        "id": "UQk-O7siqmoA",
        "outputId": "2f98c7cd-197e-49b1-b203-5e49dc4b2a9b"
      },
      "execution_count": null,
      "outputs": [
        {
          "output_type": "stream",
          "name": "stdout",
          "text": [
            "Inside decorator\n",
            "Inside inner function\n",
            "Decorated the function\n",
            "Inside actual function\n"
          ]
        }
      ]
    },
    {
      "cell_type": "code",
      "source": [
        "def decorator_fun(func):\n",
        "  print(\"Inside decorator\")\n",
        " \n",
        "  def inner(*args, **kwargs):\n",
        "    print(\"Inside inner function\")\n",
        "    print(\"Decorated the function\")\n",
        "     \n",
        "    func()\n",
        "     \n",
        "  return inner\n",
        " \n",
        " \n",
        "def func_to():\n",
        "    print(\"Inside actual function\")\n",
        " \n",
        "# another way of using decorators\n",
        "decorator_fun(func_to)()"
      ],
      "metadata": {
        "colab": {
          "base_uri": "https://localhost:8080/"
        },
        "id": "zaG5WZCSqp7N",
        "outputId": "ebedfc84-587b-420f-d36b-b96e4d89dc04"
      },
      "execution_count": null,
      "outputs": [
        {
          "output_type": "stream",
          "name": "stdout",
          "text": [
            "Inside decorator\n",
            "Inside inner function\n",
            "Decorated the function\n",
            "Inside actual function\n"
          ]
        }
      ]
    },
    {
      "cell_type": "code",
      "source": [
        "def decorator(*args, **kwargs):\n",
        "    print(\"Inside decorator\")\n",
        "     \n",
        "    def inner(func):\n",
        "         \n",
        "        # code functionality here\n",
        "        print(\"Inside inner function\")\n",
        "        print(\"I like\", kwargs['like'])\n",
        "         \n",
        "        func()\n",
        "         \n",
        "    # returning inner function   \n",
        "    return inner\n",
        " \n",
        "@decorator(like = \"geeksforgeeks\")\n",
        "def my_func():\n",
        "    print(\"Inside actual function\")"
      ],
      "metadata": {
        "colab": {
          "base_uri": "https://localhost:8080/"
        },
        "id": "q2Zd1YwrqtHU",
        "outputId": "e71dcc77-75dd-4414-ebd8-59ff5aa19768"
      },
      "execution_count": null,
      "outputs": [
        {
          "output_type": "stream",
          "name": "stdout",
          "text": [
            "Inside decorator\n",
            "Inside inner function\n",
            "I like geeksforgeeks\n",
            "Inside actual function\n"
          ]
        }
      ]
    },
    {
      "cell_type": "code",
      "source": [
        "def decorator_func(x, y):\n",
        " \n",
        "    def Inner(func):\n",
        " \n",
        "        def wrapper(*args, **kwargs):\n",
        "            print(\"I like Geeksforgeeks\")\n",
        "            print(\"Summation of values - {}\".format(x+y) )\n",
        " \n",
        "            func(*args, **kwargs)\n",
        "             \n",
        "        return wrapper\n",
        "    return Inner\n",
        " \n",
        " \n",
        "# Not using decorator\n",
        "def my_fun(*args):\n",
        "    for ele in args:\n",
        "        print(ele)\n",
        " \n",
        "# another way of using decorators\n",
        "decorator_func(12, 15)(my_fun)('Geeks', 'for', 'Geeks')"
      ],
      "metadata": {
        "colab": {
          "base_uri": "https://localhost:8080/"
        },
        "id": "vqI9TYhQ6hpO",
        "outputId": "20876f1b-6a18-4072-f4cf-9e000985754a"
      },
      "execution_count": null,
      "outputs": [
        {
          "output_type": "stream",
          "name": "stdout",
          "text": [
            "I like Geeksforgeeks\n",
            "Summation of values - 27\n",
            "Geeks\n",
            "for\n",
            "Geeks\n"
          ]
        }
      ]
    },
    {
      "cell_type": "code",
      "source": [
        "def decodecorator(dataType, message1, message2):\n",
        "    def decorator(fun):\n",
        "        print(message1)\n",
        "        def wrapper(*args, **kwargs):\n",
        "            print(message2)\n",
        "            if all([type(arg) == dataType for arg in args]):\n",
        "                return fun(*args, **kwargs)\n",
        "            return \"Invalid Input\"\n",
        "        return wrapper\n",
        "    return decorator\n",
        " \n",
        " \n",
        "@decodecorator(str, \"Decorator for 'stringJoin'\", \"stringJoin started ...\")\n",
        "def stringJoin(*args):\n",
        "    st = ''\n",
        "    for i in args:\n",
        "        st += i\n",
        "    return st\n",
        " \n",
        " \n",
        "@decodecorator(int, \"Decorator for 'summation'\\n\", \"summation started ...\")\n",
        "def summation(*args):\n",
        "    summ = 0\n",
        "    for arg in args:\n",
        "        summ += arg\n",
        "    return summ\n",
        " \n",
        " \n",
        "print(stringJoin(\"I \", 'like ', \"Geeks\", 'for', \"geeks\"))\n",
        "print()\n",
        "print(summation(19, 2, 8, 533, 67, 981, 119))"
      ],
      "metadata": {
        "colab": {
          "base_uri": "https://localhost:8080/"
        },
        "id": "z8TpvoWY6lgo",
        "outputId": "63533e3c-9509-4ecf-a116-7c247a9e3046"
      },
      "execution_count": null,
      "outputs": [
        {
          "output_type": "stream",
          "name": "stdout",
          "text": [
            "Decorator for 'stringJoin'\n",
            "Decorator for 'summation'\n",
            "\n",
            "stringJoin started ...\n",
            "I like Geeksforgeeks\n",
            "\n",
            "summation started ...\n",
            "1729\n"
          ]
        }
      ]
    },
    {
      "cell_type": "code",
      "source": [
        "def facto(num):\n",
        "    if num == 1:\n",
        "        return 1\n",
        "    else:\n",
        "        return num * facto(num-1)\n",
        "         \n",
        " \n",
        "print(facto(5))\n",
        "print(facto(5)) "
      ],
      "metadata": {
        "colab": {
          "base_uri": "https://localhost:8080/"
        },
        "id": "RpM1OfXx6quZ",
        "outputId": "c8ae7365-7527-4c02-e6a5-53c1968375fa"
      },
      "execution_count": null,
      "outputs": [
        {
          "output_type": "stream",
          "name": "stdout",
          "text": [
            "120\n",
            "120\n"
          ]
        }
      ]
    },
    {
      "cell_type": "code",
      "source": [
        "memory = {}\n",
        "def memoize_factorial(f):\n",
        "     \n",
        "    # This inner function has access to memory\n",
        "    # and 'f'\n",
        "    def inner(num):\n",
        "        if num not in memory:\n",
        "            memory[num] = f(num)\n",
        "            print('result saved in memory')\n",
        "        else:\n",
        "            print('returning result from saved memory')\n",
        "        return memory[num]\n",
        " \n",
        "    return inner\n",
        "     \n",
        "@memoize_factorial\n",
        "def facto(num):\n",
        "    if num == 1:\n",
        "        return 1\n",
        "    else:\n",
        "        return num * facto(num-1)\n",
        " \n",
        "print(facto(5))\n",
        "print(facto(5))"
      ],
      "metadata": {
        "colab": {
          "base_uri": "https://localhost:8080/"
        },
        "id": "-83Rik1T6uXd",
        "outputId": "b58642bd-bf5d-4507-b8e5-6d7343fb9985"
      },
      "execution_count": null,
      "outputs": [
        {
          "output_type": "stream",
          "name": "stdout",
          "text": [
            "result saved in memory\n",
            "result saved in memory\n",
            "result saved in memory\n",
            "result saved in memory\n",
            "result saved in memory\n",
            "120\n",
            "returning result from saved memory\n",
            "120\n"
          ]
        }
      ]
    },
    {
      "cell_type": "code",
      "source": [
        "class Dog:\n",
        " \n",
        "    # A simple class\n",
        "    # attribute\n",
        "    attr1 = \"mammal\"\n",
        "    attr2 = \"dog\"\n",
        " \n",
        "    # A sample method\n",
        "    def fun(self):\n",
        "        print(\"I'm a\", self.attr1)\n",
        "        print(\"I'm a\", self.attr2)\n",
        " \n",
        " \n",
        "# Driver code\n",
        "# Object instantiation\n",
        "Rodger = Dog()\n",
        " \n",
        "# Accessing class attributes\n",
        "# and method through objects\n",
        "print(Rodger.attr1)\n",
        "Rodger.fun()"
      ],
      "metadata": {
        "colab": {
          "base_uri": "https://localhost:8080/"
        },
        "id": "RTs3KxNwDsXQ",
        "outputId": "d8dedd26-e698-4e7e-f546-229820e0df78"
      },
      "execution_count": null,
      "outputs": [
        {
          "output_type": "stream",
          "name": "stdout",
          "text": [
            "mammal\n",
            "I'm a mammal\n",
            "I'm a dog\n"
          ]
        }
      ]
    },
    {
      "cell_type": "code",
      "source": [
        "class Person:\n",
        " \n",
        "    # init method or constructor\n",
        "    def __init__(self, name):\n",
        "        self.name = name\n",
        " \n",
        "    # Sample Method\n",
        "    def say_hi(self):\n",
        "        print('Hello, my name is', self.name)\n",
        " \n",
        " \n",
        "p = Person('Nikhil')\n",
        "p.say_hi()"
      ],
      "metadata": {
        "colab": {
          "base_uri": "https://localhost:8080/"
        },
        "id": "jPUZABfEDvnb",
        "outputId": "b681688a-b25c-48e3-ea45-5279ff9c6689"
      },
      "execution_count": null,
      "outputs": [
        {
          "output_type": "stream",
          "name": "stdout",
          "text": [
            "Hello, my name is Nikhil\n"
          ]
        }
      ]
    },
    {
      "cell_type": "code",
      "source": [
        "class Dog:\n",
        " \n",
        "    # Class Variable\n",
        "    animal = 'dog'\n",
        " \n",
        "    # The init method or constructor\n",
        "    def __init__(self, breed, color):\n",
        " \n",
        "        # Instance Variable\n",
        "        self.breed = breed\n",
        "        self.color = color\n",
        " \n",
        " \n",
        "# Objects of Dog class\n",
        "Rodger = Dog(\"Pug\", \"brown\")\n",
        "Buzo = Dog(\"Bulldog\", \"black\")\n",
        " \n",
        "print('Rodger details:')\n",
        "print('Rodger is a', Rodger.animal)\n",
        "print('Breed: ', Rodger.breed)\n",
        "print('Color: ', Rodger.color)\n",
        " \n",
        "print('\\nBuzo details:')\n",
        "print('Buzo is a', Buzo.animal)\n",
        "print('Breed: ', Buzo.breed)\n",
        "print('Color: ', Buzo.color)\n",
        " \n",
        "# Class variables can be accessed using class\n",
        "# name also\n",
        "print(\"\\nAccessing class variable using class name\")\n",
        "print(Dog.animal)"
      ],
      "metadata": {
        "colab": {
          "base_uri": "https://localhost:8080/"
        },
        "id": "sn31T0QqDzdo",
        "outputId": "47bd6b27-0aa3-484e-dd23-c5ad4a268b10"
      },
      "execution_count": null,
      "outputs": [
        {
          "output_type": "stream",
          "name": "stdout",
          "text": [
            "Rodger details:\n",
            "Rodger is a dog\n",
            "Breed:  Pug\n",
            "Color:  brown\n",
            "\n",
            "Buzo details:\n",
            "Buzo is a dog\n",
            "Breed:  Bulldog\n",
            "Color:  black\n",
            "\n",
            "Accessing class variable using class name\n",
            "dog\n"
          ]
        }
      ]
    },
    {
      "cell_type": "code",
      "source": [
        "class Dog:\n",
        " \n",
        "    # Class Variable\n",
        "    animal = 'dog'\n",
        " \n",
        "    # The init method or constructor\n",
        "    def __init__(self, breed):\n",
        " \n",
        "        # Instance Variable\n",
        "        self.breed = breed\n",
        " \n",
        "    # Adds an instance variable\n",
        "    def setColor(self, color):\n",
        "        self.color = color\n",
        " \n",
        "    # Retrieves instance variable\n",
        "    def getColor(self):\n",
        "        return self.color\n",
        " \n",
        " \n",
        "# Driver Code\n",
        "Rodger = Dog(\"pug\")\n",
        "Rodger.setColor(\"brown\")\n",
        "print(Rodger.getColor())"
      ],
      "metadata": {
        "colab": {
          "base_uri": "https://localhost:8080/"
        },
        "id": "8Hr6Fc_GD2zZ",
        "outputId": "1028f00c-7305-4902-ce24-6beaf83435bd"
      },
      "execution_count": null,
      "outputs": [
        {
          "output_type": "stream",
          "name": "stdout",
          "text": [
            "brown\n"
          ]
        }
      ]
    },
    {
      "cell_type": "code",
      "source": [
        "class GeekforGeeks:\n",
        " \n",
        "    # default constructor\n",
        "    def __init__(self):\n",
        "        self.geek = \"GeekforGeeks\"\n",
        " \n",
        "    # a method for printing data members\n",
        "    def print_Geek(self):\n",
        "        print(self.geek)\n",
        " \n",
        " \n",
        "# creating object of the class\n",
        "obj = GeekforGeeks()\n",
        " \n",
        "# calling the instance method using the object obj\n",
        "obj.print_Geek()"
      ],
      "metadata": {
        "colab": {
          "base_uri": "https://localhost:8080/"
        },
        "id": "Bhfh_SUyD7rD",
        "outputId": "85950490-e1d4-4277-8a0c-ee1914d76667"
      },
      "execution_count": null,
      "outputs": [
        {
          "output_type": "stream",
          "name": "stdout",
          "text": [
            "GeekforGeeks\n"
          ]
        }
      ]
    },
    {
      "cell_type": "code",
      "source": [
        "class Addition:\n",
        "    first = 0\n",
        "    second = 0\n",
        "    answer = 0\n",
        "     \n",
        "    # parameterized constructor\n",
        "    def __init__(self, f, s):\n",
        "        self.first = f\n",
        "        self.second = s\n",
        "     \n",
        "    def display(self):\n",
        "        print(\"First number = \" + str(self.first))\n",
        "        print(\"Second number = \" + str(self.second))\n",
        "        print(\"Addition of two numbers = \" + str(self.answer))\n",
        " \n",
        "    def calculate(self):\n",
        "        self.answer = self.first + self.second\n",
        " \n",
        "# creating object of the class\n",
        "# this will invoke parameterized constructor\n",
        "obj = Addition(1000, 2000)\n",
        " \n",
        "# perform Addition\n",
        "obj.calculate()\n",
        " \n",
        "# display result\n",
        "obj.display()"
      ],
      "metadata": {
        "colab": {
          "base_uri": "https://localhost:8080/"
        },
        "id": "EoTzdXP7D_OV",
        "outputId": "9b7fe368-c4cc-4afc-9112-a479e4d2b871"
      },
      "execution_count": null,
      "outputs": [
        {
          "output_type": "stream",
          "name": "stdout",
          "text": [
            "First number = 1000\n",
            "Second number = 2000\n",
            "Addition of two numbers = 3000\n"
          ]
        }
      ]
    },
    {
      "cell_type": "code",
      "source": [
        "class Employee:\n",
        " \n",
        "    # Initializing\n",
        "    def __init__(self):\n",
        "        print('Employee created.')\n",
        " \n",
        "    # Deleting (Calling destructor)\n",
        "    def __del__(self):\n",
        "        print('Destructor called, Employee deleted.')\n",
        " \n",
        "obj = Employee()\n",
        "del obj"
      ],
      "metadata": {
        "colab": {
          "base_uri": "https://localhost:8080/"
        },
        "id": "Ciu8UXUiI94B",
        "outputId": "03bb0b2d-cb45-4636-cb42-a19048dd82cc"
      },
      "execution_count": null,
      "outputs": [
        {
          "output_type": "stream",
          "name": "stdout",
          "text": [
            "Employee created.\n",
            "Destructor called, Employee deleted.\n"
          ]
        }
      ]
    },
    {
      "cell_type": "code",
      "source": [
        "class Employee:\n",
        " \n",
        "    # Initializing\n",
        "    def __init__(self):\n",
        "        print('Employee created')\n",
        " \n",
        "    # Calling destructor\n",
        "    def __del__(self):\n",
        "        print(\"Destructor called\")\n",
        " \n",
        "def Create_obj():\n",
        "    print('Making Object...')\n",
        "    obj = Employee()\n",
        "    print('function end...')\n",
        "    return obj\n",
        " \n",
        "print('Calling Create_obj() function...')\n",
        "obj = Create_obj()\n",
        "print('Program End...')"
      ],
      "metadata": {
        "colab": {
          "base_uri": "https://localhost:8080/"
        },
        "id": "7BM-HYRIJHsh",
        "outputId": "bbafa06e-ef31-49b7-b879-2932fd1aca2e"
      },
      "execution_count": null,
      "outputs": [
        {
          "output_type": "stream",
          "name": "stdout",
          "text": [
            "Calling Create_obj() function...\n",
            "Making Object...\n",
            "Employee created\n",
            "function end...\n",
            "Program End...\n"
          ]
        }
      ]
    },
    {
      "cell_type": "code",
      "source": [
        "class A:\n",
        "    def __init__(self, bb):\n",
        "        self.b = bb\n",
        " \n",
        "class B:\n",
        "    def __init__(self):\n",
        "        self.a = A(self)\n",
        "    def __del__(self):\n",
        "        print(\"die\")\n",
        " \n",
        "def fun():\n",
        "    b = B()\n",
        " \n",
        "fun()"
      ],
      "metadata": {
        "id": "IK79c4O-JNa3"
      },
      "execution_count": null,
      "outputs": []
    },
    {
      "cell_type": "code",
      "source": [
        "class Person(object):\n",
        "   \n",
        "  # Constructor\n",
        "  def __init__(self, name, id):\n",
        "    self.name = name\n",
        "    self.id = id\n",
        " \n",
        "  # To check if this person is an employee\n",
        "  def Display(self):\n",
        "    print(self.name, self.id)\n",
        " \n",
        " \n",
        "# Driver code\n",
        "emp = Person(\"Satyam\", 102) # An Object of Person\n",
        "emp.Display()"
      ],
      "metadata": {
        "colab": {
          "base_uri": "https://localhost:8080/"
        },
        "id": "NpdtOKZqJoQp",
        "outputId": "18db8ef9-fabc-4952-eff6-9ddcd6c74641"
      },
      "execution_count": null,
      "outputs": [
        {
          "output_type": "stream",
          "name": "stdout",
          "text": [
            "Satyam 102\n"
          ]
        }
      ]
    },
    {
      "cell_type": "code",
      "source": [
        "class Emp(Person):\n",
        "   \n",
        "  def Print(self):\n",
        "    print(\"Emp class called\")\n",
        "     \n",
        "Emp_details = Emp(\"Mayank\", 103)\n",
        " \n",
        "# calling parent class function\n",
        "Emp_details.Display()\n",
        " \n",
        "# Calling child class function\n",
        "Emp_details.Print()"
      ],
      "metadata": {
        "colab": {
          "base_uri": "https://localhost:8080/"
        },
        "id": "eEoqXgYZJsGC",
        "outputId": "b3d6cdd1-4879-476c-b2c1-3c54ff796c70"
      },
      "execution_count": null,
      "outputs": [
        {
          "output_type": "stream",
          "name": "stdout",
          "text": [
            "Mayank 103\n",
            "Emp class called\n"
          ]
        }
      ]
    },
    {
      "cell_type": "code",
      "source": [
        "class Person(object):\n",
        " \n",
        "    # Constructor\n",
        "    def __init__(self, name):\n",
        "        self.name = name\n",
        " \n",
        "    # To get name\n",
        "    def getName(self):\n",
        "        return self.name\n",
        " \n",
        "    # To check if this person is an employee\n",
        "    def isEmployee(self):\n",
        "        return False\n",
        " \n",
        " \n",
        "# Inherited or Subclass (Note Person in bracket)\n",
        "class Employee(Person):\n",
        " \n",
        "    # Here we return true\n",
        "    def isEmployee(self):\n",
        "        return True\n",
        " \n",
        " \n",
        "# Driver code\n",
        "emp = Person(\"Geek1\")  # An Object of Person\n",
        "print(emp.getName(), emp.isEmployee())\n",
        " \n",
        "emp = Employee(\"Geek2\")  # An Object of Employee\n",
        "print(emp.getName(), emp.isEmployee())"
      ],
      "metadata": {
        "colab": {
          "base_uri": "https://localhost:8080/"
        },
        "id": "u3_dDsx6HiOC",
        "outputId": "2b750694-7b87-4588-8548-74ea8a9d3e60"
      },
      "execution_count": null,
      "outputs": [
        {
          "output_type": "stream",
          "name": "stdout",
          "text": [
            "Geek1 False\n",
            "Geek2 True\n"
          ]
        }
      ]
    },
    {
      "cell_type": "code",
      "source": [
        "class Person(object):\n",
        " \n",
        "    # __init__ is known as the constructor\n",
        "    def __init__(self, name, idnumber):\n",
        "        self.name = name\n",
        "        self.idnumber = idnumber\n",
        " \n",
        "    def display(self):\n",
        "        print(self.name)\n",
        "        print(self.idnumber)\n",
        " \n",
        "# child class\n",
        " \n",
        " \n",
        "class Employee(Person):\n",
        "    def __init__(self, name, idnumber, salary, post):\n",
        "        self.salary = salary\n",
        "        self.post = post\n",
        " \n",
        "        # invoking the __init__ of the parent class\n",
        "        Person.__init__(self, name, idnumber)\n",
        " \n",
        " \n",
        "# creation of an object variable or an instance\n",
        "a = Employee('Rahul', 886012, 200000, \"Intern\")\n",
        " \n",
        "# calling a function of the class Person using its instance\n",
        "a.display()"
      ],
      "metadata": {
        "colab": {
          "base_uri": "https://localhost:8080/"
        },
        "id": "axfQd5fYHm13",
        "outputId": "409eaafa-fe49-4f44-ee29-e15e15300a79"
      },
      "execution_count": null,
      "outputs": [
        {
          "output_type": "stream",
          "name": "stdout",
          "text": [
            "Rahul\n",
            "886012\n"
          ]
        }
      ]
    },
    {
      "cell_type": "code",
      "source": [
        "class Child():\n",
        " \n",
        "    # Constructor\n",
        "    def __init__(self, name, age):\n",
        "        self.age = age\n",
        " \n",
        "    # To get name\n",
        "    def getAge(self):\n",
        "        return self.age"
      ],
      "metadata": {
        "id": "7Agw5x5_IdBC"
      },
      "execution_count": null,
      "outputs": []
    },
    {
      "cell_type": "code",
      "source": [
        "class GrandChild(Child):\n",
        " \n",
        "    # Constructor\n",
        "    def __init__(self, name, age, address):\n",
        "        Child.__init__(self, name, age)\n",
        "        self.address = address\n",
        " \n",
        "    # To get address\n",
        "    def getAddress(self):\n",
        "        return self.address\n",
        " "
      ],
      "metadata": {
        "id": "VpLmSozIIj3U"
      },
      "execution_count": null,
      "outputs": []
    },
    {
      "cell_type": "code",
      "source": [
        "g = GrandChild(\"Geek1\", 23, \"Noida\")\n",
        "print( g.getAge(), g.getAddress())"
      ],
      "metadata": {
        "colab": {
          "base_uri": "https://localhost:8080/"
        },
        "id": "kUe4mwUeIvHr",
        "outputId": "e37bd2ad-b151-4966-d2e4-9129fd9bba56"
      },
      "execution_count": null,
      "outputs": [
        {
          "output_type": "stream",
          "name": "stdout",
          "text": [
            "23 Noida\n"
          ]
        }
      ]
    },
    {
      "cell_type": "code",
      "source": [
        "class Parent:\n",
        "    def func1(self):\n",
        "        print(\"This function is in parent class.\")\n",
        " \n",
        "# Derived class\n",
        " \n",
        " \n",
        "class Child(Parent):\n",
        "    def func2(self):\n",
        "        print(\"This function is in child class.\")\n",
        " \n",
        " \n",
        "# Driver's code\n",
        "object = Child()\n",
        "object.func1()\n",
        "object.func2()"
      ],
      "metadata": {
        "colab": {
          "base_uri": "https://localhost:8080/"
        },
        "id": "tAb6A9caJC09",
        "outputId": "96f82061-cbc7-45d5-a922-0f4f34c887d6"
      },
      "execution_count": null,
      "outputs": [
        {
          "output_type": "stream",
          "name": "stdout",
          "text": [
            "This function is in parent class.\n",
            "This function is in child class.\n"
          ]
        }
      ]
    },
    {
      "cell_type": "code",
      "source": [
        "class Mother:\n",
        "    mothername = \"\"\n",
        " \n",
        "    def mother(self):\n",
        "        print(self.mothername)\n",
        " \n",
        "# Base class2\n",
        " \n",
        " \n",
        "class Father:\n",
        "    fathername = \"\"\n",
        " \n",
        "    def father(self):\n",
        "        print(self.fathername)\n",
        " \n",
        "# Derived class\n",
        " \n",
        " \n",
        "class Son(Mother, Father):\n",
        "    def parents(self):\n",
        "        print(\"Father :\", self.fathername)\n",
        "        print(\"Mother :\", self.mothername)\n",
        " \n",
        " \n",
        "# Driver's code\n",
        "s1 = Son()\n",
        "s1.fathername = \"RAM\"\n",
        "s1.mothername = \"SITA\"\n",
        "s1.parents()"
      ],
      "metadata": {
        "colab": {
          "base_uri": "https://localhost:8080/"
        },
        "id": "fw5tcniIJQ1T",
        "outputId": "469de979-c739-4fb0-80a4-3127101c6988"
      },
      "execution_count": null,
      "outputs": [
        {
          "output_type": "stream",
          "name": "stdout",
          "text": [
            "Father : RAM\n",
            "Mother : SITA\n"
          ]
        }
      ]
    },
    {
      "cell_type": "code",
      "source": [
        "class Grandfather:\n",
        " \n",
        "    def __init__(self, grandfathername):\n",
        "        self.grandfathername = grandfathername\n",
        " \n",
        "# Intermediate class\n",
        " \n",
        " \n",
        "class Father(Grandfather):\n",
        "    def __init__(self, fathername, grandfathername):\n",
        "        self.fathername = fathername\n",
        " \n",
        "        # invoking constructor of Grandfather class\n",
        "        Grandfather.__init__(self, grandfathername)\n",
        " \n",
        "# Derived class\n",
        " \n",
        " \n",
        "class Son(Father):\n",
        "    def __init__(self, sonname, fathername, grandfathername):\n",
        "        self.sonname = sonname\n",
        " \n",
        "        # invoking constructor of Father class\n",
        "        Father.__init__(self, fathername, grandfathername)\n",
        " \n",
        "    def print_name(self):\n",
        "        print('Grandfather name :', self.grandfathername)\n",
        "        print(\"Father name :\", self.fathername)\n",
        "        print(\"Son name :\", self.sonname)\n",
        " \n",
        " \n",
        "#  Driver code\n",
        "s1 = Son('Prince', 'Rampal', 'Lal mani')\n",
        "print(s1.grandfathername)\n",
        "s1.print_name()"
      ],
      "metadata": {
        "colab": {
          "base_uri": "https://localhost:8080/"
        },
        "id": "SH_d6hM_JWyR",
        "outputId": "93943aef-7019-4ac5-ea55-dbc3f67a60e9"
      },
      "execution_count": null,
      "outputs": [
        {
          "output_type": "stream",
          "name": "stdout",
          "text": [
            "Lal mani\n",
            "Grandfather name : Lal mani\n",
            "Father name : Rampal\n",
            "Son name : Prince\n"
          ]
        }
      ]
    },
    {
      "cell_type": "code",
      "source": [
        "class Parent:\n",
        "    def func1(self):\n",
        "        print(\"This function is in parent class.\")\n",
        " \n",
        "# Derived class1\n",
        " \n",
        " \n",
        "class Child1(Parent):\n",
        "    def func2(self):\n",
        "        print(\"This function is in child 1.\")\n",
        " \n",
        "# Derivied class2\n",
        " \n",
        " \n",
        "class Child2(Parent):\n",
        "    def func3(self):\n",
        "        print(\"This function is in child 2.\")\n",
        " \n",
        " \n",
        "# Driver's code\n",
        "object1 = Child1()\n",
        "object2 = Child2()\n",
        "object1.func1()\n",
        "object1.func2()\n",
        "object2.func1()\n",
        "object2.func3()"
      ],
      "metadata": {
        "colab": {
          "base_uri": "https://localhost:8080/"
        },
        "id": "Yo2w7NSCJb-y",
        "outputId": "0cc6a899-cfff-4c7f-ab20-c6254ceb1c8d"
      },
      "execution_count": null,
      "outputs": [
        {
          "output_type": "stream",
          "name": "stdout",
          "text": [
            "This function is in parent class.\n",
            "This function is in child 1.\n",
            "This function is in parent class.\n",
            "This function is in child 2.\n"
          ]
        }
      ]
    },
    {
      "cell_type": "code",
      "source": [
        "class School:\n",
        "    def func1(self):\n",
        "        print(\"This function is in school.\")\n",
        " \n",
        " \n",
        "class Student1(School):\n",
        "    def func2(self):\n",
        "        print(\"This function is in student 1. \")\n",
        " \n",
        " \n",
        "class Student2(School):\n",
        "    def func3(self):\n",
        "        print(\"This function is in student 2.\")\n",
        " \n",
        " \n",
        "class Student3(Student1, School):\n",
        "    def func4(self):\n",
        "        print(\"This function is in student 3.\")\n",
        " \n",
        " \n",
        "# Driver's code\n",
        "object = Student3()\n",
        "object.func1()\n",
        "object.func2()"
      ],
      "metadata": {
        "colab": {
          "base_uri": "https://localhost:8080/"
        },
        "id": "pBgZb71NJift",
        "outputId": "63dcdd96-62d0-4649-e191-db12054e04f8"
      },
      "execution_count": null,
      "outputs": [
        {
          "output_type": "stream",
          "name": "stdout",
          "text": [
            "This function is in school.\n",
            "This function is in student 1. \n"
          ]
        }
      ]
    },
    {
      "cell_type": "code",
      "source": [
        "class Base:\n",
        "    def __init__(self):\n",
        " \n",
        "        # Protected member\n",
        "        self._a = 2\n",
        " \n",
        "# Creating a derived class\n",
        "class Derived(Base):\n",
        "    def __init__(self):\n",
        " \n",
        "        # Calling constructor of\n",
        "        # Base class\n",
        "        Base.__init__(self)\n",
        "        print(\"Calling protected member of base class: \",\n",
        "              self._a)\n",
        " \n",
        "        # Modify the protected variable:\n",
        "        self._a = 3\n",
        "        print(\"Calling modified protected member outside class: \",\n",
        "              self._a)\n",
        " \n",
        " \n",
        "obj1 = Derived()\n",
        " \n",
        "obj2 = Base()\n",
        " \n",
        "# Calling protected member\n",
        "# Can be accessed but should not be done due to convention\n",
        "print(\"Accessing protected member of obj1: \", obj1._a)\n",
        " \n",
        "# Accessing the protected variable outside\n",
        "print(\"Accessing protected member of obj2: \", obj2._a)"
      ],
      "metadata": {
        "colab": {
          "base_uri": "https://localhost:8080/"
        },
        "id": "pbwLAntwJpZ3",
        "outputId": "5160b6ec-b4a9-42df-afb9-404abb275824"
      },
      "execution_count": null,
      "outputs": [
        {
          "output_type": "stream",
          "name": "stdout",
          "text": [
            "Calling protected member of base class:  2\n",
            "Calling modified protected member outside class:  3\n",
            "Accessing protected member of obj1:  3\n",
            "Accessing protected member of obj2:  2\n"
          ]
        }
      ]
    },
    {
      "cell_type": "code",
      "source": [
        "class Base:\n",
        "    def __init__(self):\n",
        "        self.a = \"GeeksforGeeks\"\n",
        "        self.__c = \"GeeksforGeeks\"\n",
        " \n",
        "# Creating a derived class\n",
        "class Derived(Base):\n",
        "    def __init__(self):\n",
        " \n",
        "        # Calling constructor of\n",
        "        # Base class\n",
        "        Base.__init__(self)\n",
        "        print(\"Calling private member of base class: \")\n",
        "        print(self.__c)\n",
        " \n",
        " \n",
        "# Driver code\n",
        "obj1 = Base()\n",
        "print(obj1.a)"
      ],
      "metadata": {
        "colab": {
          "base_uri": "https://localhost:8080/"
        },
        "id": "Eu687vgpJpiA",
        "outputId": "415a1066-f69a-4b91-d19a-e8ff79ebcab6"
      },
      "execution_count": null,
      "outputs": [
        {
          "output_type": "stream",
          "name": "stdout",
          "text": [
            "GeeksforGeeks\n"
          ]
        }
      ]
    },
    {
      "cell_type": "code",
      "source": [
        "def add(x, y, z = 0):\n",
        "    return x + y+z\n",
        " \n",
        "# Driver code\n",
        "print(add(2, 3))\n",
        "print(add(2, 3, 4))"
      ],
      "metadata": {
        "colab": {
          "base_uri": "https://localhost:8080/"
        },
        "id": "5lZwaz2mJc-P",
        "outputId": "f00255a9-88f2-4ac9-8768-a59b19a78245"
      },
      "execution_count": null,
      "outputs": [
        {
          "output_type": "stream",
          "name": "stdout",
          "text": [
            "5\n",
            "9\n"
          ]
        }
      ]
    },
    {
      "cell_type": "code",
      "source": [
        "class India():\n",
        "    def capital(self):\n",
        "        print(\"New Delhi is the capital of India.\")\n",
        " \n",
        "    def language(self):\n",
        "        print(\"Hindi is the most widely spoken language of India.\")\n",
        " \n",
        "    def type(self):\n",
        "        print(\"India is a developing country.\")\n",
        " \n",
        "class USA():\n",
        "    def capital(self):\n",
        "        print(\"Washington, D.C. is the capital of USA.\")\n",
        " \n",
        "    def language(self):\n",
        "        print(\"English is the primary language of USA.\")\n",
        " \n",
        "    def type(self):\n",
        "        print(\"USA is a developed country.\")\n",
        " \n",
        "obj_ind = India()\n",
        "obj_usa = USA()\n",
        "for country in (obj_ind, obj_usa):\n",
        "    country.capital()\n",
        "    country.language()\n",
        "    country.type()"
      ],
      "metadata": {
        "colab": {
          "base_uri": "https://localhost:8080/"
        },
        "id": "RvdQIkzXF6FY",
        "outputId": "99dde21a-4cfa-4371-f26f-8a545c2ab1e6"
      },
      "execution_count": null,
      "outputs": [
        {
          "output_type": "stream",
          "name": "stdout",
          "text": [
            "New Delhi is the capital of India.\n",
            "Hindi is the most widely spoken language of India.\n",
            "India is a developing country.\n",
            "Washington, D.C. is the capital of USA.\n",
            "English is the primary language of USA.\n",
            "USA is a developed country.\n"
          ]
        }
      ]
    },
    {
      "cell_type": "code",
      "source": [
        "class Bird:\n",
        "  def intro(self):\n",
        "    print(\"There are many types of birds.\")\n",
        "     \n",
        "  def flight(self):\n",
        "    print(\"Most of the birds can fly but some cannot.\")\n",
        "   \n",
        "class sparrow(Bird):\n",
        "  def flight(self):\n",
        "    print(\"Sparrows can fly.\")\n",
        "     \n",
        "class ostrich(Bird):\n",
        "  def flight(self):\n",
        "    print(\"Ostriches cannot fly.\")\n",
        "     \n",
        "obj_bird = Bird()\n",
        "obj_spr = sparrow()\n",
        "obj_ost = ostrich()\n",
        " \n",
        "obj_bird.intro()\n",
        "obj_bird.flight()\n",
        " \n",
        "obj_spr.intro()\n",
        "obj_spr.flight()\n",
        " \n",
        "obj_ost.intro()\n",
        "obj_ost.flight()"
      ],
      "metadata": {
        "colab": {
          "base_uri": "https://localhost:8080/"
        },
        "id": "hbw_-dPYF-cv",
        "outputId": "06756814-77f3-44da-ddc7-fa9de6868add"
      },
      "execution_count": null,
      "outputs": [
        {
          "output_type": "stream",
          "name": "stdout",
          "text": [
            "There are many types of birds.\n",
            "Most of the birds can fly but some cannot.\n",
            "There are many types of birds.\n",
            "Sparrows can fly.\n",
            "There are many types of birds.\n",
            "Ostriches cannot fly.\n"
          ]
        }
      ]
    },
    {
      "cell_type": "code",
      "source": [
        "class India():\n",
        "    def capital(self):\n",
        "        print(\"New Delhi is the capital of India.\")\n",
        "  \n",
        "    def language(self):\n",
        "        print(\"Hindi is the most widely spoken language of India.\")\n",
        "  \n",
        "    def type(self):\n",
        "        print(\"India is a developing country.\")\n",
        "  \n",
        "class USA():\n",
        "    def capital(self):\n",
        "        print(\"Washington, D.C. is the capital of USA.\")\n",
        "  \n",
        "    def language(self):\n",
        "        print(\"English is the primary language of USA.\")\n",
        "  \n",
        "    def type(self):\n",
        "        print(\"USA is a developed country.\")\n",
        " \n",
        "def func(obj):\n",
        "    obj.capital()\n",
        "    obj.language()\n",
        "    obj.type()\n",
        "  \n",
        "obj_ind = India()\n",
        "obj_usa = USA()\n",
        "  \n",
        "func(obj_ind)\n",
        "func(obj_usa)"
      ],
      "metadata": {
        "colab": {
          "base_uri": "https://localhost:8080/"
        },
        "id": "xUejKVY2OhZ_",
        "outputId": "6bc32d30-118f-4f87-8ff4-0bfab134383f"
      },
      "execution_count": null,
      "outputs": [
        {
          "output_type": "stream",
          "name": "stdout",
          "text": [
            "New Delhi is the capital of India.\n",
            "Hindi is the most widely spoken language of India.\n",
            "India is a developing country.\n",
            "Washington, D.C. is the capital of USA.\n",
            "English is the primary language of USA.\n",
            "USA is a developed country.\n"
          ]
        }
      ]
    },
    {
      "cell_type": "code",
      "source": [
        "class CSStudent:\n",
        "    stream = 'cse'                  # Class Variable\n",
        "    def __init__(self,name,roll):\n",
        "        self.name = name            # Instance Variable\n",
        "        self.roll = roll            # Instance Variable\n",
        "  \n",
        "# Objects of CSStudent class\n",
        "a = CSStudent('Geek', 1)\n",
        "b = CSStudent('Nerd', 2)\n",
        "  \n",
        "print(a.stream)  # prints \"cse\"\n",
        "print(b.stream)  # prints \"cse\"\n",
        "print(a.name)    # prints \"Geek\"\n",
        "print(b.name)    # prints \"Nerd\"\n",
        "print(a.roll)    # prints \"1\"\n",
        "print(b.roll)    # prints \"2\"\n",
        "  \n",
        "# Class variables can be accessed using class\n",
        "# name also\n",
        "print(CSStudent.stream) # prints \"cse\"\n",
        "  \n",
        "# Now if we change the stream for just a it won't be changed for b\n",
        "a.stream = 'ece'\n",
        "print(a.stream) # prints 'ece'\n",
        "print(b.stream) # prints 'cse'\n",
        "  \n",
        "# To change the stream for all instances of the class we can change it \n",
        "# directly from the class\n",
        "CSStudent.stream = 'mech'\n",
        "  \n",
        "print(a.stream) # prints 'ece'\n",
        "print(b.stream) # prints 'mech'"
      ],
      "metadata": {
        "colab": {
          "base_uri": "https://localhost:8080/"
        },
        "id": "-9AWQlpOOpIL",
        "outputId": "b3b7eeb6-c5f4-4622-98f4-7e49085003cb"
      },
      "execution_count": null,
      "outputs": [
        {
          "output_type": "stream",
          "name": "stdout",
          "text": [
            "cse\n",
            "cse\n",
            "Geek\n",
            "Nerd\n",
            "1\n",
            "2\n",
            "cse\n",
            "ece\n",
            "cse\n",
            "ece\n",
            "mech\n"
          ]
        }
      ]
    },
    {
      "cell_type": "code",
      "source": [
        "from datetime import date\n",
        " \n",
        " \n",
        "class Person:\n",
        "    def __init__(self, name, age):\n",
        "        self.name = name\n",
        "        self.age = age\n",
        " \n",
        "    # a class method to create a Person object by birth year.\n",
        "    @classmethod\n",
        "    def fromBirthYear(cls, name, year):\n",
        "        return cls(name, date.today().year - year)\n",
        " \n",
        "    # a static method to check if a Person is adult or not.\n",
        "    @staticmethod\n",
        "    def isAdult(age):\n",
        "        return age > 18\n",
        " \n",
        " \n",
        "person1 = Person('mayank', 21)\n",
        "person2 = Person.fromBirthYear('mayank', 1996)\n",
        " \n",
        "print(person1.age)\n",
        "print(person2.age)\n",
        " \n",
        "# print the result\n",
        "print(Person.isAdult(22))"
      ],
      "metadata": {
        "colab": {
          "base_uri": "https://localhost:8080/"
        },
        "id": "eCcrFNS-Ow0K",
        "outputId": "1bb65ab5-b4c3-49a9-cf48-867490ae8a34"
      },
      "execution_count": null,
      "outputs": [
        {
          "output_type": "stream",
          "name": "stdout",
          "text": [
            "21\n",
            "26\n",
            "True\n"
          ]
        }
      ]
    },
    {
      "cell_type": "code",
      "source": [
        "a = [1, 2, 3]\n",
        "try: \n",
        "    print (\"Second element = %d\" %(a[1]))\n",
        "  \n",
        "    # Throws error since there are only 3 elements in array\n",
        "    print (\"Fourth element = %d\" %(a[3]))\n",
        "  \n",
        "except:\n",
        "    print (\"An error occurred\")"
      ],
      "metadata": {
        "colab": {
          "base_uri": "https://localhost:8080/"
        },
        "id": "Ee4JNd7fO54H",
        "outputId": "5bd37fc3-d5a2-4bd4-da1a-c09a5f70cf7d"
      },
      "execution_count": null,
      "outputs": [
        {
          "output_type": "stream",
          "name": "stdout",
          "text": [
            "Second element = 2\n",
            "An error occurred\n"
          ]
        }
      ]
    },
    {
      "cell_type": "code",
      "source": [
        "def fun(a):\n",
        "    if a < 4:\n",
        "  \n",
        "        # throws ZeroDivisionError for a = 3\n",
        "        b = a/(a-3)\n",
        "  \n",
        "    # throws NameError if a >= 4\n",
        "    print(\"Value of b = \", b)\n",
        "      \n",
        "try:\n",
        "    fun(3)\n",
        "    fun(5)\n",
        "  \n",
        "# note that braces () are necessary here for \n",
        "# multiple exceptions\n",
        "except ZeroDivisionError:\n",
        "    print(\"ZeroDivisionError Occurred and Handled\")\n",
        "except NameError:\n",
        "    print(\"NameError Occurred and Handled\")"
      ],
      "metadata": {
        "colab": {
          "base_uri": "https://localhost:8080/"
        },
        "id": "JAeX2iyElNTo",
        "outputId": "a0bf8cca-94d6-4818-cbcd-d46eb664fb35"
      },
      "execution_count": null,
      "outputs": [
        {
          "output_type": "stream",
          "name": "stdout",
          "text": [
            "ZeroDivisionError Occurred and Handled\n"
          ]
        }
      ]
    },
    {
      "cell_type": "code",
      "source": [
        "def AbyB(a , b):\n",
        "    try:\n",
        "        c = ((a+b) / (a-b))\n",
        "    except ZeroDivisionError:\n",
        "        print (\"a/b result in 0\")\n",
        "    else:\n",
        "        print (c)\n",
        "  \n",
        "# Driver program to test above function\n",
        "AbyB(2.0, 3.0)\n",
        "AbyB(3.0, 3.0)"
      ],
      "metadata": {
        "colab": {
          "base_uri": "https://localhost:8080/"
        },
        "id": "MyUjwFRHlSag",
        "outputId": "7cd7e3dc-72ca-4f87-d469-4acdd95dfc8c"
      },
      "execution_count": null,
      "outputs": [
        {
          "output_type": "stream",
          "name": "stdout",
          "text": [
            "-5.0\n",
            "a/b result in 0\n"
          ]
        }
      ]
    },
    {
      "cell_type": "code",
      "source": [
        "try:\n",
        "    k = 5//0  # raises divide by zero exception.\n",
        "    print(k)\n",
        "  \n",
        "# handles zerodivision exception\n",
        "except ZeroDivisionError:\n",
        "    print(\"Can't divide by zero\")\n",
        "  \n",
        "finally:\n",
        "    # this block is always executed\n",
        "    # regardless of exception generation.\n",
        "    print('This is always executed')"
      ],
      "metadata": {
        "colab": {
          "base_uri": "https://localhost:8080/"
        },
        "id": "cWv0rHRBlVR1",
        "outputId": "7d522a14-6bed-4015-9250-f8e4c4a37df6"
      },
      "execution_count": null,
      "outputs": [
        {
          "output_type": "stream",
          "name": "stdout",
          "text": [
            "Can't divide by zero\n",
            "This is always executed\n"
          ]
        }
      ]
    },
    {
      "cell_type": "code",
      "source": [
        "def divide(x, y):\n",
        "    try:\n",
        "        # Floor Division : Gives only Fractional Part as Answer\n",
        "        result = x // y\n",
        "        print(\"Yeah ! Your answer is :\", result)\n",
        "    except ZeroDivisionError:\n",
        "        print(\"Sorry ! You are dividing by zero \")\n",
        " \n",
        "# Look at parameters and note the working of Program\n",
        "divide(3, 2)"
      ],
      "metadata": {
        "colab": {
          "base_uri": "https://localhost:8080/"
        },
        "id": "bufNcYBPlf2P",
        "outputId": "7fee0c73-1e27-4fd0-8e5d-52218890f5ad"
      },
      "execution_count": null,
      "outputs": [
        {
          "output_type": "stream",
          "name": "stdout",
          "text": [
            "Yeah ! Your answer is : 1\n"
          ]
        }
      ]
    },
    {
      "cell_type": "code",
      "source": [
        "\n",
        "# Python code to illustrate\n",
        "# working of try()\n",
        "def divide(x, y):\n",
        "    try:\n",
        "        # Floor Division : Gives only Fractional Part as Answer\n",
        "        result = x // y\n",
        "        print(\"Yeah ! Your answer is :\", result)\n",
        "    except ZeroDivisionError:\n",
        "        print(\"Sorry ! You are dividing by zero \")\n",
        " \n",
        "# Look at parameters and note the working of Program\n",
        "divide(3, 0)"
      ],
      "metadata": {
        "id": "x5RjmcCYliKc",
        "outputId": "b55a2acf-473b-404e-df2e-3d949faef1bd",
        "colab": {
          "base_uri": "https://localhost:8080/"
        }
      },
      "execution_count": null,
      "outputs": [
        {
          "output_type": "stream",
          "name": "stdout",
          "text": [
            "Sorry ! You are dividing by zero \n"
          ]
        }
      ]
    },
    {
      "cell_type": "code",
      "source": [
        "def AbyB(a , b):\n",
        "    try:\n",
        "        c = ((a+b) // (a-b))\n",
        "    except ZeroDivisionError:\n",
        "        print (\"a/b result in 0\")\n",
        "    else:\n",
        "        print (c)\n",
        "  \n",
        "# Driver program to test above function\n",
        "AbyB(2.0, 3.0)\n",
        "AbyB(3.0, 3.0)"
      ],
      "metadata": {
        "id": "cmzcAgBNllL6",
        "outputId": "1f926d99-8a84-4e8d-9a67-39a84b187402",
        "colab": {
          "base_uri": "https://localhost:8080/"
        }
      },
      "execution_count": null,
      "outputs": [
        {
          "output_type": "stream",
          "name": "stdout",
          "text": [
            "-5.0\n",
            "a/b result in 0\n"
          ]
        }
      ]
    },
    {
      "cell_type": "code",
      "source": [
        "try:\n",
        "    k = 5//0 # raises divide by zero exception.\n",
        "    print(k)\n",
        "    \n",
        "# handles zerodivision exception    \n",
        "except ZeroDivisionError:   \n",
        "    print(\"Can't divide by zero\")\n",
        "        \n",
        "finally:\n",
        "    # this block is always executed \n",
        "    # regardless of exception generation.\n",
        "    print('This is always executed') "
      ],
      "metadata": {
        "colab": {
          "base_uri": "https://localhost:8080/"
        },
        "id": "UvQZ-uXevNzT",
        "outputId": "d9961cb9-98c8-4a03-9d6d-d2a4941792cd"
      },
      "execution_count": null,
      "outputs": [
        {
          "output_type": "stream",
          "name": "stdout",
          "text": [
            "Can't divide by zero\n",
            "This is always executed\n"
          ]
        }
      ]
    },
    {
      "cell_type": "code",
      "source": [
        "try:\n",
        "     print(\"code start\")\n",
        "          \n",
        "     # unsafe operation perform\n",
        "     print(1 / 0)\n",
        "  \n",
        "# if error occur the it goes in except block\n",
        "except:\n",
        "     print(\"an error occurs\")\n",
        "  \n",
        "# final code in finally block\n",
        "finally:\n",
        "     print(\"GeeksForGeeks\")"
      ],
      "metadata": {
        "colab": {
          "base_uri": "https://localhost:8080/"
        },
        "id": "qhYSIzs6vUnE",
        "outputId": "6af48ba9-0b15-4960-f90a-c2a344577891"
      },
      "execution_count": null,
      "outputs": [
        {
          "output_type": "stream",
          "name": "stdout",
          "text": [
            "code start\n",
            "an error occurs\n",
            "GeeksForGeeks\n"
          ]
        }
      ]
    },
    {
      "cell_type": "code",
      "source": [
        "try:\n",
        "    amount = 1999\n",
        "    if amount < 2999:\n",
        "          \n",
        "        # raise the ValueError\n",
        "        raise ValueError(\"please add money in your account\")\n",
        "    else:\n",
        "        print(\"You are eligible to purchase DSA Self Paced course\")\n",
        "              \n",
        "# if false then raise the value error\n",
        "except ValueError as e:\n",
        "        print(e)"
      ],
      "metadata": {
        "colab": {
          "base_uri": "https://localhost:8080/"
        },
        "id": "GE-iHTfovYDZ",
        "outputId": "72d440ee-2463-41f7-c444-1c2e0f6d1e5e"
      },
      "execution_count": null,
      "outputs": [
        {
          "output_type": "stream",
          "name": "stdout",
          "text": [
            "please add money in your account\n"
          ]
        }
      ]
    },
    {
      "cell_type": "code",
      "source": [
        "try:  \n",
        "    a = 10/0  \n",
        "    print (a)\n",
        "except ArithmeticError:  \n",
        "        print (\"This statement is raising an arithmetic exception.\")\n",
        "else:  \n",
        "    print (\"Success.\")"
      ],
      "metadata": {
        "colab": {
          "base_uri": "https://localhost:8080/"
        },
        "id": "rBRZq7fxvdel",
        "outputId": "faa570f5-8e0a-4358-9608-8093bc8c9cc4"
      },
      "execution_count": null,
      "outputs": [
        {
          "output_type": "stream",
          "name": "stdout",
          "text": [
            "This statement is raising an arithmetic exception.\n"
          ]
        }
      ]
    },
    {
      "cell_type": "code",
      "source": [
        "try: \n",
        "    a = [1, 2, 3] \n",
        "    print (a[3]) \n",
        "except LookupError: \n",
        "    print (\"Index out of bound error.\")\n",
        "else: \n",
        "    print (\"Success\")\n",
        "  "
      ],
      "metadata": {
        "colab": {
          "base_uri": "https://localhost:8080/"
        },
        "id": "dZD2nPfZvgdr",
        "outputId": "85eec27b-f3b1-4aff-9c37-ee16df79104b"
      },
      "execution_count": null,
      "outputs": [
        {
          "output_type": "stream",
          "name": "stdout",
          "text": [
            "Index out of bound error.\n"
          ]
        }
      ]
    },
    {
      "cell_type": "code",
      "source": [
        "try:\n",
        "    print ('Press Return or Ctrl-C:',)\n",
        "    ignored = input()\n",
        "except Exception== err:\n",
        "    print ('Caught exception:', err)\n",
        "except KeyboardInterrupt==err:\n",
        "    print ('Caught KeyboardInterrupt')\n",
        "else:\n",
        "    print ('No exception')"
      ],
      "metadata": {
        "colab": {
          "base_uri": "https://localhost:8080/"
        },
        "id": "8OU3MvqQvqu3",
        "outputId": "0db44928-db72-451d-f38a-d51e10aee1fc"
      },
      "execution_count": null,
      "outputs": [
        {
          "output_type": "stream",
          "name": "stdout",
          "text": [
            "Press Return or Ctrl-C:\n",
            "34\n",
            "No exception\n"
          ]
        }
      ]
    },
    {
      "cell_type": "code",
      "source": [
        "def fact(a):\n",
        "    factors = []\n",
        "    for i in range(1, a+1):\n",
        "        if a%i == 0:\n",
        "            factors.append(i)\n",
        "    return factors \n",
        "  \n",
        "num = 6\n",
        "print (fact(num))"
      ],
      "metadata": {
        "colab": {
          "base_uri": "https://localhost:8080/"
        },
        "id": "_obIOOSDv-fv",
        "outputId": "14e1b5e9-6882-4b19-fa28-cf4027592b4c"
      },
      "execution_count": null,
      "outputs": [
        {
          "output_type": "stream",
          "name": "stdout",
          "text": [
            "[1, 2, 3, 6]\n"
          ]
        }
      ]
    },
    {
      "cell_type": "code",
      "source": [
        "class MyError(Exception):\n",
        " \n",
        "    # Constructor or Initializer\n",
        "    def __init__(self, value):\n",
        "        self.value = value\n",
        " \n",
        "    # __str__ is to print() the value\n",
        "    def __str__(self):\n",
        "        return(repr(self.value))\n",
        " \n",
        " \n",
        "try:\n",
        "    raise(MyError(3*2))\n",
        " \n",
        "# Value of Exception is stored in error\n",
        "except MyError as error:\n",
        "    print('A New Exception occurred: ', error.value)"
      ],
      "metadata": {
        "colab": {
          "base_uri": "https://localhost:8080/"
        },
        "id": "0P651fU15bjQ",
        "outputId": "769f53fe-65be-4fe1-f4ab-0b9e4ff585d8"
      },
      "execution_count": null,
      "outputs": [
        {
          "output_type": "stream",
          "name": "stdout",
          "text": [
            "A New Exception occurred:  6\n"
          ]
        }
      ]
    },
    {
      "cell_type": "code",
      "source": [
        "class Error(Exception):\n",
        "    \"\"\"Base class for other exceptions\"\"\"\n",
        "    pass\n",
        " \n",
        "class zerodivision(Error):\n",
        "    \"\"\"Raised when the input value is zero\"\"\"\n",
        "    pass\n",
        " \n",
        "try:\n",
        "    i_num = int(input(\"Enter a number: \"))\n",
        "    if i_num == 0:\n",
        "        raise zerodivision\n",
        "except zerodivision:\n",
        "    print(\"Input value is zero, try again!\")\n",
        "    print()"
      ],
      "metadata": {
        "colab": {
          "base_uri": "https://localhost:8080/"
        },
        "id": "HFUThknj5gwm",
        "outputId": "7c38b8d2-d440-4b52-9899-4e2f52720910"
      },
      "execution_count": null,
      "outputs": [
        {
          "name": "stdout",
          "output_type": "stream",
          "text": [
            "Enter a number: 45\n"
          ]
        }
      ]
    },
    {
      "cell_type": "code",
      "source": [
        "class Error(Exception):\n",
        " \n",
        "    # Error is derived class for Exception, but\n",
        "    # Base class for exceptions in this module\n",
        "    pass\n",
        " \n",
        "class TransitionError(Error):\n",
        " \n",
        "    # Raised when an operation attempts a state\n",
        "    # transition that's not allowed.\n",
        "    def __init__(self, prev, nex, msg):\n",
        "        self.prev = prev\n",
        "        self.next = nex\n",
        " \n",
        "        # Error message thrown is saved in msg\n",
        "        self.msg = msg\n",
        " \n",
        "try:\n",
        "    raise(TransitionError(2, 3*2, \"Not Allowed\"))\n",
        " \n",
        "# Value of Exception is stored in error\n",
        "except TransitionError as error:\n",
        "    print('Exception occurred: ', error.msg)"
      ],
      "metadata": {
        "colab": {
          "base_uri": "https://localhost:8080/"
        },
        "id": "Q8-oDriF5nFr",
        "outputId": "58609cd8-18c2-4286-e9bf-278bcfe77dcf"
      },
      "execution_count": null,
      "outputs": [
        {
          "output_type": "stream",
          "name": "stdout",
          "text": [
            "Exception occurred:  Not Allowed\n"
          ]
        }
      ]
    },
    {
      "cell_type": "code",
      "source": [
        "class Networkerror(RuntimeError):\n",
        "    def __init__(self, arg):\n",
        "        self.args = arg\n",
        " \n",
        "try:\n",
        "    raise Networkerror(\"Error\")\n",
        " \n",
        "except Networkerror as e:\n",
        "    print(e.args)"
      ],
      "metadata": {
        "colab": {
          "base_uri": "https://localhost:8080/"
        },
        "id": "Kqkdi0gd5tL8",
        "outputId": "cadf4282-201c-4f42-c01d-d1f65c46700e"
      },
      "execution_count": null,
      "outputs": [
        {
          "output_type": "stream",
          "name": "stdout",
          "text": [
            "('E', 'r', 'r', 'o', 'r')\n"
          ]
        }
      ]
    },
    {
      "cell_type": "code",
      "source": [
        "import re\n",
        " \n",
        "s = 'GeeksforGeeks: A computer science portal for geeks'\n",
        " \n",
        "match = re.search(r'portal', s)\n",
        " \n",
        "print('Start Index:', match.start())\n",
        "print('End Index:', match.end())"
      ],
      "metadata": {
        "colab": {
          "base_uri": "https://localhost:8080/"
        },
        "id": "nyQ0OA8D6Hz_",
        "outputId": "9875ea3b-671f-4450-d773-2643fb6f208f"
      },
      "execution_count": null,
      "outputs": [
        {
          "output_type": "stream",
          "name": "stdout",
          "text": [
            "Start Index: 34\n",
            "End Index: 40\n"
          ]
        }
      ]
    },
    {
      "cell_type": "code",
      "source": [
        "import re\n",
        " \n",
        "s = 'geeks.forgeeks'\n",
        " \n",
        "# without using \\\n",
        "match = re.search(r'.', s)\n",
        "print(match)\n",
        " \n",
        "# using \\\n",
        "match = re.search(r'\\.', s)\n",
        "print(match)"
      ],
      "metadata": {
        "colab": {
          "base_uri": "https://localhost:8080/"
        },
        "id": "tp73D8b36N2l",
        "outputId": "788b5848-d450-41da-92b1-ec1fa3b82297"
      },
      "execution_count": null,
      "outputs": [
        {
          "output_type": "stream",
          "name": "stdout",
          "text": [
            "<re.Match object; span=(0, 1), match='g'>\n",
            "<re.Match object; span=(5, 6), match='.'>\n"
          ]
        }
      ]
    },
    {
      "cell_type": "code",
      "source": [
        "import re \n",
        "   \n",
        "# Lets use a regular expression to match a date string \n",
        "# in the form of Month name followed by day number \n",
        "regex = r\"([a-zA-Z]+) (\\d+)\"\n",
        "   \n",
        "match = re.search(regex, \"I was born on June 24\") \n",
        "   \n",
        "if match != None: \n",
        "   \n",
        "    # We reach here when the expression \"([a-zA-Z]+) (\\d+)\" \n",
        "    # matches the date string. \n",
        "   \n",
        "    # This will print [14, 21), since it matches at index 14 \n",
        "    # and ends at 21. \n",
        "    print (\"Match at index %s, %s\" % (match.start(), match.end())) \n",
        "   \n",
        "    # We us group() method to get all the matches and \n",
        "    # captured groups. The groups contain the matched values. \n",
        "    # In particular: \n",
        "    # match.group(0) always returns the fully matched string \n",
        "    # match.group(1) match.group(2), ... return the capture \n",
        "    # groups in order from left to right in the input string \n",
        "    # match.group() is equivalent to match.group(0) \n",
        "   \n",
        "    # So this will print \"June 24\" \n",
        "    print (\"Full match: %s\" % (match.group(0))) \n",
        "   \n",
        "    # So this will print \"June\" \n",
        "    print (\"Month: %s\" % (match.group(1))) \n",
        "   \n",
        "    # So this will print \"24\" \n",
        "    print (\"Day: %s\" % (match.group(2)))\n",
        "   \n",
        "else: \n",
        "    print (\"The regex pattern does not match.\")"
      ],
      "metadata": {
        "colab": {
          "base_uri": "https://localhost:8080/"
        },
        "id": "7aXpdpX8AugB",
        "outputId": "f2cd6188-4896-414c-8014-b63f1272b65e"
      },
      "execution_count": null,
      "outputs": [
        {
          "output_type": "stream",
          "name": "stdout",
          "text": [
            "Match at index 14, 21\n",
            "Full match: June 24\n",
            "Month: June\n",
            "Day: 24\n"
          ]
        }
      ]
    },
    {
      "cell_type": "code",
      "source": [
        "import re\n",
        "    \n",
        "# a sample function that uses regular expressions\n",
        "# to find month and day of a date.\n",
        "def findMonthAndDate(string):\n",
        "        \n",
        "    regex = r\"([a-zA-Z]+) (\\d+)\"\n",
        "    match = re.match(regex, string)\n",
        "        \n",
        "    if match == None: \n",
        "        print (\"Not a valid date\")\n",
        "        return\n",
        "    \n",
        "    print (\"Given Data: %s\" % (match.group()))\n",
        "    print (\"Month: %s\" % (match.group(1)))\n",
        "    print (\"Day: %s\" % (match.group(2)))\n",
        "    \n",
        "        \n",
        "# Driver Code\n",
        "findMonthAndDate(\"Jun 24\")\n",
        "print(\"\")\n",
        "findMonthAndDate(\"I was born on June 24\")"
      ],
      "metadata": {
        "colab": {
          "base_uri": "https://localhost:8080/"
        },
        "id": "jxnFGIzMAz-e",
        "outputId": "fbbf907d-1382-426f-de6b-bd562db060e7"
      },
      "execution_count": null,
      "outputs": [
        {
          "output_type": "stream",
          "name": "stdout",
          "text": [
            "Given Data: Jun 24\n",
            "Month: Jun\n",
            "Day: 24\n",
            "\n",
            "Not a valid date\n"
          ]
        }
      ]
    },
    {
      "cell_type": "code",
      "source": [
        "# A sample text string where regular expression \n",
        "# is searched.\n",
        "string  = \"\"\"Hello my Number is 123456789 and\n",
        "             my friend's number is 987654321\"\"\"\n",
        "   \n",
        "# A sample regular expression to find digits.\n",
        "regex = '\\d+'            \n",
        "   \n",
        "match = re.findall(regex, string)\n",
        "print(match)\n",
        "   \n",
        "# This example is contributed by Ayush Saluja."
      ],
      "metadata": {
        "colab": {
          "base_uri": "https://localhost:8080/"
        },
        "id": "8Y56728aA4RD",
        "outputId": "10d97e16-1744-40ff-9c2a-d6fcd9347d4c"
      },
      "execution_count": null,
      "outputs": [
        {
          "output_type": "stream",
          "name": "stdout",
          "text": [
            "['123456789', '987654321']\n"
          ]
        }
      ]
    },
    {
      "cell_type": "code",
      "source": [
        "import re \n",
        "    \n",
        "# Lets use a regular expression to match a date string \n",
        "# in the form of Month name followed by day number \n",
        "regex = r\"([a-zA-Z]+) (\\d+)\"\n",
        "    \n",
        "match = re.search(regex, \"I was born on June 24\") \n",
        "    \n",
        "if match != None: \n",
        "    \n",
        "    # We reach here when the expression \"([a-zA-Z]+) (\\d+)\" \n",
        "    # matches the date string. \n",
        "    \n",
        "    # This will print [14, 21), since it matches at index 14 \n",
        "    # and ends at 21.  \n",
        "    print(\"Match at index % s, % s\" % (match.start(), match.end()))\n",
        "    \n",
        "    # We us group() method to get all the matches and \n",
        "    # captured groups. The groups contain the matched values. \n",
        "    # In particular: \n",
        "    # match.group(0) always returns the fully matched string \n",
        "    # match.group(1) match.group(2), ... return the capture \n",
        "    # groups in order from left to right in the input string \n",
        "    # match.group() is equivalent to match.group(0) \n",
        "    \n",
        "    # So this will print \"June 24\" \n",
        "    print(\"Full match: % s\" % (match.group(0)))\n",
        "    \n",
        "    # So this will print \"June\" \n",
        "    print(\"Month: % s\" % (match.group(1)))\n",
        "    \n",
        "    # So this will print \"24\" \n",
        "    print(\"Day: % s\" % (match.group(2)))\n",
        "    \n",
        "else: \n",
        "    print(\"The regex pattern does not match.\")"
      ],
      "metadata": {
        "colab": {
          "base_uri": "https://localhost:8080/"
        },
        "id": "aRXoJIN5A-5e",
        "outputId": "eb0503b5-d42b-4ea7-c63a-78507ff28d79"
      },
      "execution_count": null,
      "outputs": [
        {
          "output_type": "stream",
          "name": "stdout",
          "text": [
            "Match at index 14, 21\n",
            "Full match: June 24\n",
            "Month: June\n",
            "Day: 24\n"
          ]
        }
      ]
    },
    {
      "cell_type": "code",
      "source": [
        "# A sample text string where regular expression  \n",
        "# is searched. \n",
        "string = \"\"\"Hello my Number is 123456789 and \n",
        "             my friend's number is 987654321\"\"\"\n",
        "    \n",
        "# A sample regular expression to find digits. \n",
        "regex = '\\d+'             \n",
        "    \n",
        "match = re.findall(regex, string) \n",
        "print(match) "
      ],
      "metadata": {
        "colab": {
          "base_uri": "https://localhost:8080/"
        },
        "id": "6qTLlByfBDJt",
        "outputId": "6cd88a16-54ea-4b2c-8d64-2bd04761eff9"
      },
      "execution_count": null,
      "outputs": [
        {
          "output_type": "stream",
          "name": "stdout",
          "text": [
            "['123456789', '987654321']\n"
          ]
        }
      ]
    },
    {
      "cell_type": "code",
      "source": [
        "# Without Using VERBOSE\n",
        "regex_email = re.compile(r'^([a-z0-9_\\.-]+)@([0-9a-z\\.-]+)\\.([a-z\\.]{2, 6})$',\n",
        "              re.IGNORECASE)\n",
        "   \n",
        "# Using VERBOSE\n",
        "regex_email = re.compile(r\"\"\"\n",
        "            ^([a-z0-9_\\.-]+)              # local Part\n",
        "            @                             # single @ sign\n",
        "            ([0-9a-z\\.-]+)                # Domain name\n",
        "            \\.                            # single Dot .\n",
        "            ([a-z]{2,6})$                 # Top level Domain  \n",
        "             \"\"\",re.VERBOSE | re.IGNORECASE)   "
      ],
      "metadata": {
        "id": "PZCPF0RIBIbq"
      },
      "execution_count": null,
      "outputs": []
    },
    {
      "cell_type": "code",
      "source": [
        "def password_check(passwd):\n",
        "      \n",
        "    SpecialSym =['$', '@', '#', '%']\n",
        "    val = True\n",
        "      \n",
        "    if len(passwd) < 6:\n",
        "        print('length should be at least 6')\n",
        "        val = False\n",
        "          \n",
        "    if len(passwd) > 20:\n",
        "        print('length should be not be greater than 8')\n",
        "        val = False\n",
        "          \n",
        "    if not any(char.isdigit() for char in passwd):\n",
        "        print('Password should have at least one numeral')\n",
        "        val = False\n",
        "          \n",
        "    if not any(char.isupper() for char in passwd):\n",
        "        print('Password should have at least one uppercase letter')\n",
        "        val = False\n",
        "          \n",
        "    if not any(char.islower() for char in passwd):\n",
        "        print('Password should have at least one lowercase letter')\n",
        "        val = False\n",
        "          \n",
        "    if not any(char in SpecialSym for char in passwd):\n",
        "        print('Password should have at least one of the symbols $@#')\n",
        "        val = False\n",
        "    if val:\n",
        "        return val\n",
        "  \n",
        "# Main method\n",
        "def main():\n",
        "    passwd = 'Geek12@'\n",
        "      \n",
        "    if (password_check(passwd)):\n",
        "        print(\"Password is valid\")\n",
        "    else:\n",
        "        print(\"Invalid Password !!\")\n",
        "          \n",
        "# Driver Code        \n",
        "if __name__ == '__main__':\n",
        "    main()"
      ],
      "metadata": {
        "colab": {
          "base_uri": "https://localhost:8080/"
        },
        "id": "HnjEQNtCBRh4",
        "outputId": "4bbbe7d5-23d5-4c98-8cce-5bdf79cae2cd"
      },
      "execution_count": null,
      "outputs": [
        {
          "output_type": "stream",
          "name": "stdout",
          "text": [
            "Password is valid\n"
          ]
        }
      ]
    },
    {
      "cell_type": "code",
      "source": [
        "\n",
        "# importing re library\n",
        "import re\n",
        "  \n",
        "def main():\n",
        "    passwd = 'Geek12@'\n",
        "    reg = \"^(?=.*[a-z])(?=.*[A-Z])(?=.*\\d)(?=.*[@$!%*#?&])[A-Za-z\\d@$!#%*?&]{6,20}$\"\n",
        "      \n",
        "    # compiling regex\n",
        "    pat = re.compile(reg)\n",
        "      \n",
        "    # searching regex                 \n",
        "    mat = re.search(pat, passwd)\n",
        "      \n",
        "    # validating conditions\n",
        "    if mat:\n",
        "        print(\"Password is valid.\")\n",
        "    else:\n",
        "        print(\"Password invalid !!\")\n",
        "  \n",
        "# Driver Code     \n",
        "if __name__ == '__main__':\n",
        "    main()"
      ],
      "metadata": {
        "colab": {
          "base_uri": "https://localhost:8080/"
        },
        "id": "9l9Hh6C9CAyx",
        "outputId": "6888217b-5bfc-450b-da2a-966388086e9e"
      },
      "execution_count": null,
      "outputs": [
        {
          "output_type": "stream",
          "name": "stdout",
          "text": [
            "Password is valid.\n"
          ]
        }
      ]
    },
    {
      "cell_type": "code",
      "source": [
        "# A Python program to show different \n",
        "# ways to create Counter \n",
        "from collections import Counter \n",
        "    \n",
        "# With sequence of items  \n",
        "print(Counter(['B','B','A','B','C','A','B',\n",
        "               'B','A','C']))\n",
        "    \n",
        "# with dictionary \n",
        "print(Counter({'A':3, 'B':5, 'C':2}))\n",
        "    \n",
        "# with keyword arguments \n",
        "print(Counter(A=3, B=5, C=2))"
      ],
      "metadata": {
        "colab": {
          "base_uri": "https://localhost:8080/"
        },
        "id": "_Wuwm-5LvqIx",
        "outputId": "b3a6fa18-881e-4808-c7d0-78d5530427a4"
      },
      "execution_count": null,
      "outputs": [
        {
          "output_type": "stream",
          "name": "stdout",
          "text": [
            "Counter({'B': 5, 'A': 3, 'C': 2})\n",
            "Counter({'B': 5, 'A': 3, 'C': 2})\n",
            "Counter({'B': 5, 'A': 3, 'C': 2})\n"
          ]
        }
      ]
    },
    {
      "cell_type": "code",
      "source": [
        "from collections import OrderedDict \n",
        "    \n",
        "print(\"This is a Dict:\\n\") \n",
        "d = {} \n",
        "d['a'] = 1\n",
        "d['b'] = 2\n",
        "d['c'] = 3\n",
        "d['d'] = 4\n",
        "    \n",
        "for key, value in d.items(): \n",
        "    print(key, value) \n",
        "    \n",
        "print(\"\\nThis is an Ordered Dict:\\n\") \n",
        "od = OrderedDict() \n",
        "od['a'] = 1\n",
        "od['b'] = 2\n",
        "od['c'] = 3\n",
        "od['d'] = 4\n",
        "    \n",
        "for key, value in od.items(): \n",
        "    print(key, value)"
      ],
      "metadata": {
        "colab": {
          "base_uri": "https://localhost:8080/"
        },
        "id": "qM3HhaMex9Sw",
        "outputId": "ee2ff985-d1d6-46cc-ec86-317ec5ec20d3"
      },
      "execution_count": null,
      "outputs": [
        {
          "output_type": "stream",
          "name": "stdout",
          "text": [
            "This is a Dict:\n",
            "\n",
            "a 1\n",
            "b 2\n",
            "c 3\n",
            "d 4\n",
            "\n",
            "This is an Ordered Dict:\n",
            "\n",
            "a 1\n",
            "b 2\n",
            "c 3\n",
            "d 4\n"
          ]
        }
      ]
    },
    {
      "cell_type": "code",
      "source": [
        "from collections import OrderedDict \n",
        "  \n",
        "  \n",
        "od = OrderedDict() \n",
        "od['a'] = 1\n",
        "od['b'] = 2\n",
        "od['c'] = 3\n",
        "od['d'] = 4\n",
        "    \n",
        "print('Before Deleting')\n",
        "for key, value in od.items(): \n",
        "    print(key, value) \n",
        "      \n",
        "# deleting element\n",
        "od.pop('a')\n",
        "  \n",
        "# Re-inserting the same\n",
        "od['a'] = 1\n",
        "  \n",
        "print('\\nAfter re-inserting')\n",
        "for key, value in od.items(): \n",
        "    print(key, value)"
      ],
      "metadata": {
        "colab": {
          "base_uri": "https://localhost:8080/"
        },
        "id": "Sa3KGYXzyBcX",
        "outputId": "79610ec9-ec0f-48bf-9891-5f9d17012b62"
      },
      "execution_count": null,
      "outputs": [
        {
          "output_type": "stream",
          "name": "stdout",
          "text": [
            "Before Deleting\n",
            "a 1\n",
            "b 2\n",
            "c 3\n",
            "d 4\n",
            "\n",
            "After re-inserting\n",
            "b 2\n",
            "c 3\n",
            "d 4\n",
            "a 1\n"
          ]
        }
      ]
    },
    {
      "cell_type": "code",
      "source": [
        "from collections import defaultdict \n",
        "     \n",
        "     \n",
        "# Defining the dict \n",
        "d = defaultdict(int) \n",
        "     \n",
        "L = [1, 2, 3, 4, 2, 4, 1, 2] \n",
        "     \n",
        "# Iterate through the list \n",
        "# for keeping the count \n",
        "for i in L: \n",
        "         \n",
        "    # The default value is 0 \n",
        "    # so there is no need to  \n",
        "    # enter the key first \n",
        "    d[i] += 1\n",
        "         \n",
        "print(d)"
      ],
      "metadata": {
        "colab": {
          "base_uri": "https://localhost:8080/"
        },
        "id": "J51Bt7lkyFZX",
        "outputId": "97ab1ba4-4120-4f87-a71a-a08248dd7289"
      },
      "execution_count": null,
      "outputs": [
        {
          "output_type": "stream",
          "name": "stdout",
          "text": [
            "defaultdict(<class 'int'>, {1: 2, 2: 3, 3: 1, 4: 2})\n"
          ]
        }
      ]
    },
    {
      "cell_type": "code",
      "source": [
        "from collections import defaultdict \n",
        "    \n",
        "    \n",
        "# Defining a dict \n",
        "d = defaultdict(list) \n",
        "    \n",
        "for i in range(5): \n",
        "    d[i].append(i) \n",
        "        \n",
        "print(\"Dictionary with values as list:\") \n",
        "print(d)"
      ],
      "metadata": {
        "colab": {
          "base_uri": "https://localhost:8080/"
        },
        "id": "YJFDFe8eyIaW",
        "outputId": "86a816e7-3105-4fe7-ba22-b1b9d423c400"
      },
      "execution_count": null,
      "outputs": [
        {
          "output_type": "stream",
          "name": "stdout",
          "text": [
            "Dictionary with values as list:\n",
            "defaultdict(<class 'list'>, {0: [0], 1: [1], 2: [2], 3: [3], 4: [4]})\n"
          ]
        }
      ]
    },
    {
      "cell_type": "code",
      "source": [
        "from collections import ChainMap \n",
        "     \n",
        "     \n",
        "d1 = {'a': 1, 'b': 2}\n",
        "d2 = {'c': 3, 'd': 4}\n",
        "d3 = {'e': 5, 'f': 6}\n",
        "  \n",
        "# Defining the chainmap \n",
        "c = ChainMap(d1, d2, d3) \n",
        "     \n",
        "print(c)"
      ],
      "metadata": {
        "colab": {
          "base_uri": "https://localhost:8080/"
        },
        "id": "NCJjV2DGKDH7",
        "outputId": "5becd260-3df4-4723-8be4-9c317f9e986a"
      },
      "execution_count": null,
      "outputs": [
        {
          "output_type": "stream",
          "name": "stdout",
          "text": [
            "ChainMap({'a': 1, 'b': 2}, {'c': 3, 'd': 4}, {'e': 5, 'f': 6})\n"
          ]
        }
      ]
    },
    {
      "cell_type": "code",
      "source": [
        "from collections import ChainMap \n",
        "     \n",
        "     \n",
        "d1 = {'a': 1, 'b': 2}\n",
        "d2 = {'c': 3, 'd': 4}\n",
        "d3 = {'e': 5, 'f': 6}\n",
        "  \n",
        "# Defining the chainmap \n",
        "c = ChainMap(d1, d2, d3) \n",
        "     \n",
        "# Accessing Values using key name\n",
        "print(c['a'])\n",
        "  \n",
        "# Accessing values using values()\n",
        "# method\n",
        "print(c.values())\n",
        "  \n",
        "# Accessing keys using keys()\n",
        "# method\n",
        "print(c.keys())"
      ],
      "metadata": {
        "colab": {
          "base_uri": "https://localhost:8080/"
        },
        "id": "w31D3u0MKH0Q",
        "outputId": "b2e36c0d-719e-43a0-9da0-151eeb809cda"
      },
      "execution_count": null,
      "outputs": [
        {
          "output_type": "stream",
          "name": "stdout",
          "text": [
            "1\n",
            "ValuesView(ChainMap({'a': 1, 'b': 2}, {'c': 3, 'd': 4}, {'e': 5, 'f': 6}))\n",
            "KeysView(ChainMap({'a': 1, 'b': 2}, {'c': 3, 'd': 4}, {'e': 5, 'f': 6}))\n"
          ]
        }
      ]
    },
    {
      "cell_type": "code",
      "source": [
        "import collections \n",
        "    \n",
        "# initializing dictionaries \n",
        "dic1 = { 'a' : 1, 'b' : 2 } \n",
        "dic2 = { 'b' : 3, 'c' : 4 } \n",
        "dic3 = { 'f' : 5 } \n",
        "    \n",
        "# initializing ChainMap \n",
        "chain = collections.ChainMap(dic1, dic2) \n",
        "    \n",
        "# printing chainMap \n",
        "print (\"All the ChainMap contents are : \") \n",
        "print (chain) \n",
        "    \n",
        "# using new_child() to add new dictionary \n",
        "chain1 = chain.new_child(dic3) \n",
        "    \n",
        "# printing chainMap\n",
        "print (\"Displaying new ChainMap : \") \n",
        "print (chain1)"
      ],
      "metadata": {
        "colab": {
          "base_uri": "https://localhost:8080/"
        },
        "id": "HqsRm651KLMC",
        "outputId": "185e0fec-84ce-4ec7-ebf9-6fb6428ada86"
      },
      "execution_count": null,
      "outputs": [
        {
          "output_type": "stream",
          "name": "stdout",
          "text": [
            "All the ChainMap contents are : \n",
            "ChainMap({'a': 1, 'b': 2}, {'b': 3, 'c': 4})\n",
            "Displaying new ChainMap : \n",
            "ChainMap({'f': 5}, {'a': 1, 'b': 2}, {'b': 3, 'c': 4})\n"
          ]
        }
      ]
    },
    {
      "cell_type": "code",
      "source": [
        "from collections import namedtuple\n",
        "    \n",
        "# Declaring namedtuple() \n",
        "Student = namedtuple('Student',['name','age','DOB']) \n",
        "    \n",
        "# Adding values \n",
        "S = Student('Nandini','19','2541997') \n",
        "    \n",
        "# Access using index \n",
        "print (\"The Student age using index is : \",end =\"\") \n",
        "print (S[1]) \n",
        "    \n",
        "# Access using name  \n",
        "print (\"The Student name using keyname is : \",end =\"\") \n",
        "print (S.name)"
      ],
      "metadata": {
        "colab": {
          "base_uri": "https://localhost:8080/"
        },
        "id": "xesU7DgvKOzb",
        "outputId": "e81d8e7b-64d3-4cea-c0a7-7a7726bd4123"
      },
      "execution_count": null,
      "outputs": [
        {
          "output_type": "stream",
          "name": "stdout",
          "text": [
            "The Student age using index is : 19\n",
            "The Student name using keyname is : Nandini\n"
          ]
        }
      ]
    },
    {
      "cell_type": "code",
      "source": [
        "from collections import namedtuple\n",
        "    \n",
        "# Declaring namedtuple() \n",
        "Student = namedtuple('Student',['name','age','DOB']) \n",
        "    \n",
        "# Adding values \n",
        "S = Student('Nandini','19','2541997') \n",
        "    \n",
        "# initializing iterable  \n",
        "li = ['Manjeet', '19', '411997' ] \n",
        "    \n",
        "# initializing dict \n",
        "di = { 'name' : \"Nikhil\", 'age' : 19 , 'DOB' : '1391997' } \n",
        "    \n",
        "# using _make() to return namedtuple() \n",
        "print (\"The namedtuple instance using iterable is  : \") \n",
        "print (Student._make(li)) \n",
        "    \n",
        "# using _asdict() to return an OrderedDict() \n",
        "print (\"The OrderedDict instance using namedtuple is  : \") \n",
        "print (S._asdict())"
      ],
      "metadata": {
        "colab": {
          "base_uri": "https://localhost:8080/"
        },
        "id": "Pv8ZQFuuKTcE",
        "outputId": "863f9ce8-8ed2-4576-f830-6c484a46cb89"
      },
      "execution_count": null,
      "outputs": [
        {
          "output_type": "stream",
          "name": "stdout",
          "text": [
            "The namedtuple instance using iterable is  : \n",
            "Student(name='Manjeet', age='19', DOB='411997')\n",
            "The OrderedDict instance using namedtuple is  : \n",
            "OrderedDict([('name', 'Nandini'), ('age', '19'), ('DOB', '2541997')])\n"
          ]
        }
      ]
    },
    {
      "cell_type": "code",
      "source": [
        "from collections import OrderedDict\n",
        "print(\"This is a Dict:\\n\")\n",
        "D = {}\n",
        "D[\"a\"]= 1\n",
        "D[\"b\"]= 2\n",
        "D[\"c\"]= 3\n",
        "D[\"d\"]= 4\n",
        "for key,value in D.items():\n",
        "    print(key,value)\n",
        "\n",
        "print(\"\\nThis is an Ordered Dict:\\n\")\n",
        "od = OrderedDict()\n",
        "od['a'] = 1\n",
        "od['b'] = 2\n",
        "od['c'] = 3\n",
        "od['d'] = 4\n",
        " \n",
        "for key, value in od.items():\n",
        "    print(key, value)"
      ],
      "metadata": {
        "colab": {
          "base_uri": "https://localhost:8080/"
        },
        "id": "EPiVNOSYLJN8",
        "outputId": "5e4bd0bf-9653-476b-bab3-5b5fbda97571"
      },
      "execution_count": null,
      "outputs": [
        {
          "output_type": "stream",
          "name": "stdout",
          "text": [
            "This is a Dict:\n",
            "\n",
            "a 1\n",
            "b 2\n",
            "c 3\n",
            "d 4\n",
            "\n",
            "This is an Ordered Dict:\n",
            "\n",
            "a 1\n",
            "b 2\n",
            "c 3\n",
            "d 4\n"
          ]
        }
      ]
    },
    {
      "cell_type": "code",
      "source": [
        "# A Python program to demonstrate working of key\n",
        "# value change in OrderedDict\n",
        "from collections import OrderedDict\n",
        " \n",
        "print(\"Before:\\n\")\n",
        "od = OrderedDict()\n",
        "od['a'] = 1\n",
        "od['b'] = 2\n",
        "od['c'] = 3\n",
        "od['d'] = 4\n",
        "for key, value in od.items():\n",
        "    print(key, value)\n",
        " \n",
        "print(\"\\nAfter:\\n\")\n",
        "od['c'] = 5\n",
        "for key, value in od.items():\n",
        "    print(key, value)"
      ],
      "metadata": {
        "colab": {
          "base_uri": "https://localhost:8080/"
        },
        "id": "nuvDGpCwNByo",
        "outputId": "39a75923-282f-45b3-f24a-795e9980f358"
      },
      "execution_count": null,
      "outputs": [
        {
          "output_type": "stream",
          "name": "stdout",
          "text": [
            "Before:\n",
            "\n",
            "a 1\n",
            "b 2\n",
            "c 3\n",
            "d 4\n",
            "\n",
            "After:\n",
            "\n",
            "a 1\n",
            "b 2\n",
            "c 5\n",
            "d 4\n"
          ]
        }
      ]
    },
    {
      "cell_type": "code",
      "source": [
        "# A Python program to demonstrate working of deletion\n",
        "# re-insertion in OrderedDict\n",
        "from collections import OrderedDict\n",
        " \n",
        "print(\"Before deleting:\\n\")\n",
        "od = OrderedDict()\n",
        "od['a'] = 1\n",
        "od['b'] = 2\n",
        "od['c'] = 3\n",
        "od['d'] = 4\n",
        " \n",
        "for key, value in od.items():\n",
        "    print(key, value)\n",
        " \n",
        "print(\"\\nAfter deleting:\\n\")\n",
        "od.pop('c')\n",
        "for key, value in od.items():\n",
        "    print(key, value)\n",
        " \n",
        "print(\"\\nAfter re-inserting:\\n\")\n",
        "od['c'] = 3\n",
        "for key, value in od.items():\n",
        "    print(key, value)"
      ],
      "metadata": {
        "colab": {
          "base_uri": "https://localhost:8080/"
        },
        "id": "gSi7RNMhNowF",
        "outputId": "cd6fc488-0148-4e2f-f2b4-6eb5749acb61"
      },
      "execution_count": null,
      "outputs": [
        {
          "output_type": "stream",
          "name": "stdout",
          "text": [
            "Before deleting:\n",
            "\n",
            "a 1\n",
            "b 2\n",
            "c 3\n",
            "d 4\n",
            "\n",
            "After deleting:\n",
            "\n",
            "a 1\n",
            "b 2\n",
            "d 4\n",
            "\n",
            "After re-inserting:\n",
            "\n",
            "a 1\n",
            "b 2\n",
            "d 4\n",
            "c 3\n"
          ]
        }
      ]
    },
    {
      "cell_type": "code",
      "source": [
        "\n",
        "Dict = {1: 'Geeks', 2: 'For', 3: 'Geeks'} \n",
        "print(\"Dictionary:\") \n",
        "print(Dict)\n",
        "print(Dict[1])"
      ],
      "metadata": {
        "colab": {
          "base_uri": "https://localhost:8080/"
        },
        "id": "v7D4hYo1ORT8",
        "outputId": "bc5db0ef-454a-4809-8298-3d31e59d6d7b"
      },
      "execution_count": null,
      "outputs": [
        {
          "output_type": "stream",
          "name": "stdout",
          "text": [
            "Dictionary:\n",
            "{1: 'Geeks', 2: 'For', 3: 'Geeks'}\n",
            "Geeks\n"
          ]
        }
      ]
    },
    {
      "cell_type": "code",
      "source": [
        "from collections import defaultdict\n",
        "def def_value():\n",
        "    return \"Not Present\"\n",
        "      \n",
        "# Defining the dict\n",
        "d = defaultdict(def_value)\n",
        "d[\"a\"] = 1\n",
        "d[\"b\"] = 2\n",
        "  \n",
        "print(d[\"a\"])\n",
        "print(d[\"b\"])\n",
        "print(d[\"c\"])"
      ],
      "metadata": {
        "colab": {
          "base_uri": "https://localhost:8080/"
        },
        "id": "lqs9UDgJOlF0",
        "outputId": "42dbcc27-a017-418e-c6f3-6775f31383bf"
      },
      "execution_count": null,
      "outputs": [
        {
          "output_type": "stream",
          "name": "stdout",
          "text": [
            "1\n",
            "2\n",
            "Not Present\n"
          ]
        }
      ]
    },
    {
      "cell_type": "code",
      "source": [
        "# Defining the dict and passing \n",
        "# lambda as default_factory argument\n",
        "d = defaultdict(lambda: \"Not Present\")\n",
        "d[\"a\"] = 1\n",
        "d[\"b\"] = 2\n",
        "  \n",
        "print(d[\"a\"])\n",
        "print(d[\"b\"])\n",
        "print(d[\"c\"])"
      ],
      "metadata": {
        "colab": {
          "base_uri": "https://localhost:8080/"
        },
        "id": "468VYOSIPcvD",
        "outputId": "5f8a0ee3-e64e-492b-82bf-c356fea6b699"
      },
      "execution_count": null,
      "outputs": [
        {
          "output_type": "stream",
          "name": "stdout",
          "text": [
            "1\n",
            "2\n",
            "Not Present\n"
          ]
        }
      ]
    },
    {
      "cell_type": "code",
      "source": [
        "  \n",
        "from collections import defaultdict\n",
        "  \n",
        "      \n",
        "# Defining the dict\n",
        "d = defaultdict(lambda: \"Not Present\")\n",
        "d[\"a\"] = 1\n",
        "d[\"b\"] = 2\n",
        "  \n",
        "# Provides the default value \n",
        "# for the key\n",
        "print(d.__missing__('a'))\n",
        "print(d.__missing__('d'))"
      ],
      "metadata": {
        "colab": {
          "base_uri": "https://localhost:8080/"
        },
        "id": "byaNRUCkAK_D",
        "outputId": "0f0bb358-0590-466b-fe2f-ea30f4ec9fab"
      },
      "execution_count": null,
      "outputs": [
        {
          "output_type": "stream",
          "name": "stdout",
          "text": [
            "Not Present\n",
            "Not Present\n"
          ]
        }
      ]
    },
    {
      "cell_type": "code",
      "source": [
        "d = defaultdict(list)\n",
        "  \n",
        "for i in range(5):\n",
        "    d[i].append(i)\n",
        "      \n",
        "print(\"Dictionary with values as list:\")\n",
        "print(d)"
      ],
      "metadata": {
        "colab": {
          "base_uri": "https://localhost:8080/"
        },
        "id": "wItAXeOXARdy",
        "outputId": "7f1e7f59-45a5-4fde-8cb7-81839cc99415"
      },
      "execution_count": null,
      "outputs": [
        {
          "output_type": "stream",
          "name": "stdout",
          "text": [
            "Dictionary with values as list:\n",
            "defaultdict(<class 'list'>, {0: [0], 1: [1], 2: [2], 3: [3], 4: [4]})\n"
          ]
        }
      ]
    },
    {
      "cell_type": "code",
      "source": [
        "d = defaultdict(int)\n",
        "   \n",
        "L = [1, 2, 3, 4, 2, 4, 1, 2]\n",
        "   \n",
        "# Iterate through the list\n",
        "# for keeping the count\n",
        "for i in L:\n",
        "       \n",
        "    # The default value is 0\n",
        "    # so there is no need to \n",
        "    # enter the key first\n",
        "    d[i] += 1\n",
        "       \n",
        "print(d)"
      ],
      "metadata": {
        "colab": {
          "base_uri": "https://localhost:8080/"
        },
        "id": "RLV2qtOzAUoH",
        "outputId": "5ee00ce4-b7a6-4b32-92b3-4c3a8379f222"
      },
      "execution_count": null,
      "outputs": [
        {
          "output_type": "stream",
          "name": "stdout",
          "text": [
            "defaultdict(<class 'int'>, {1: 2, 2: 3, 3: 1, 4: 2})\n"
          ]
        }
      ]
    },
    {
      "cell_type": "code",
      "source": [
        "from collections import ChainMap  \n",
        "       \n",
        "       \n",
        "d1 = {'a': 1, 'b': 2} \n",
        "d2 = {'c': 3, 'd': 4} \n",
        "d3 = {'e': 5, 'f': 6} \n",
        "    \n",
        "# Defining the chainmap  \n",
        "c = ChainMap(d1, d2, d3)  \n",
        "       \n",
        "print(c)"
      ],
      "metadata": {
        "colab": {
          "base_uri": "https://localhost:8080/"
        },
        "id": "7fHwkKct9N0j",
        "outputId": "95d205b4-3ba7-4e90-a0a0-5d06deccd1ba"
      },
      "execution_count": null,
      "outputs": [
        {
          "output_type": "stream",
          "name": "stdout",
          "text": [
            "ChainMap({'a': 1, 'b': 2}, {'c': 3, 'd': 4}, {'e': 5, 'f': 6})\n"
          ]
        }
      ]
    },
    {
      "cell_type": "code",
      "source": [
        "# importing collections for ChainMap operations\n",
        "import collections\n",
        "  \n",
        "# initializing dictionaries\n",
        "dic1 = { 'a' : 1, 'b' : 2 }\n",
        "dic2 = { 'b' : 3, 'c' : 4 }\n",
        "  \n",
        "# initializing ChainMap\n",
        "chain = collections.ChainMap(dic1, dic2)\n",
        "  \n",
        "# printing chainMap using maps\n",
        "print (\"All the ChainMap contents are : \")\n",
        "print (chain.maps)\n",
        "  \n",
        "# printing keys using keys()\n",
        "print (\"All keys of ChainMap are : \")\n",
        "print (list(chain.keys()))\n",
        "  \n",
        "# printing keys using keys()\n",
        "print (\"All values of ChainMap are : \")\n",
        "print (list(chain.values()))"
      ],
      "metadata": {
        "colab": {
          "base_uri": "https://localhost:8080/"
        },
        "id": "h9Q0qynN9Y6z",
        "outputId": "ee725ea8-2668-4795-f99a-3b74be9b2d7f"
      },
      "execution_count": null,
      "outputs": [
        {
          "output_type": "stream",
          "name": "stdout",
          "text": [
            "All the ChainMap contents are : \n",
            "[{'a': 1, 'b': 2}, {'b': 3, 'c': 4}]\n",
            "All keys of ChainMap are : \n",
            "['b', 'c', 'a']\n",
            "All values of ChainMap are : \n",
            "[2, 4, 1]\n"
          ]
        }
      ]
    },
    {
      "cell_type": "code",
      "source": [
        "import collections\n",
        "  \n",
        "# initializing dictionaries\n",
        "dic1 = { 'a' : 1, 'b' : 2 }\n",
        "dic2 = { 'b' : 3, 'c' : 4 }\n",
        "dic3 = { 'f' : 5 }\n",
        "  \n",
        "# initializing ChainMap\n",
        "chain = collections.ChainMap(dic1, dic2)\n",
        "  \n",
        "# printing chainMap using map\n",
        "print (\"All the ChainMap contents are : \")\n",
        "print (chain.maps)\n",
        "  \n",
        "# using new_child() to add new dictionary\n",
        "chain1 = chain.new_child(dic3)\n",
        "  \n",
        "# printing chainMap using map\n",
        "print (\"Displaying new ChainMap : \")\n",
        "print (chain1.maps)\n",
        "  \n",
        "# displaying value associated with b before reversing\n",
        "print (\"Value associated with b before reversing is : \",end=\"\")\n",
        "print (chain1['b'])\n",
        "  \n",
        "# reversing the ChainMap\n",
        "chain1.maps = reversed(chain1.maps)\n",
        "  \n",
        "# displaying value associated with b after reversing\n",
        "print (\"Value associated with b after reversing is : \",end=\"\")\n",
        "print (chain1['b'])"
      ],
      "metadata": {
        "colab": {
          "base_uri": "https://localhost:8080/"
        },
        "id": "7TX0bE089gq5",
        "outputId": "d5e69d2c-f2e2-4d8a-a888-febcad4fb82b"
      },
      "execution_count": null,
      "outputs": [
        {
          "output_type": "stream",
          "name": "stdout",
          "text": [
            "All the ChainMap contents are : \n",
            "[{'a': 1, 'b': 2}, {'b': 3, 'c': 4}]\n",
            "Displaying new ChainMap : \n",
            "[{'f': 5}, {'a': 1, 'b': 2}, {'b': 3, 'c': 4}]\n",
            "Value associated with b before reversing is : 2\n",
            "Value associated with b after reversing is : 3\n"
          ]
        }
      ]
    },
    {
      "cell_type": "code",
      "source": [
        "from collections import namedtuple\n",
        "  \n",
        "# Declaring namedtuple()\n",
        "Student = namedtuple('Student', ['name', 'age', 'DOB'])\n",
        "  \n",
        "# Adding values\n",
        "S = Student('Nandini', '19', '2541997')\n",
        "  \n",
        "# Access using index\n",
        "print(\"The Student age using index is : \", end=\"\")\n",
        "print(S[1])\n",
        "  \n",
        "# Access using name\n",
        "print(\"The Student name using keyname is : \", end=\"\")\n",
        "print(S.name)"
      ],
      "metadata": {
        "colab": {
          "base_uri": "https://localhost:8080/"
        },
        "id": "810Ol5B89n3j",
        "outputId": "4448d4f8-a346-446a-a983-ed17bb301c05"
      },
      "execution_count": null,
      "outputs": [
        {
          "output_type": "stream",
          "name": "stdout",
          "text": [
            "The Student age using index is : 19\n",
            "The Student name using keyname is : Nandini\n"
          ]
        }
      ]
    },
    {
      "cell_type": "code",
      "source": [
        "# importing \"collections\" for namedtuple()\n",
        "import collections\n",
        "  \n",
        "# Declaring namedtuple()\n",
        "Student = collections.namedtuple('Student', ['name', 'age', 'DOB'])\n",
        "  \n",
        "# Adding values\n",
        "S = Student('Nandini', '19', '2541997')\n",
        "  \n",
        "# Access using index\n",
        "print(\"The Student age using index is : \", end=\"\")\n",
        "print(S[1])\n",
        "  \n",
        "# Access using name\n",
        "print(\"The Student name using keyname is : \", end=\"\")\n",
        "print(S.name)\n",
        "  \n",
        "# Access using getattr()\n",
        "print(\"The Student DOB using getattr() is : \", end=\"\")\n",
        "print(getattr(S, 'DOB'))"
      ],
      "metadata": {
        "colab": {
          "base_uri": "https://localhost:8080/"
        },
        "id": "JDkfBOCZ9s4E",
        "outputId": "3966c7a0-802d-4909-fde5-0d59f8023d22"
      },
      "execution_count": null,
      "outputs": [
        {
          "output_type": "stream",
          "name": "stdout",
          "text": [
            "The Student age using index is : 19\n",
            "The Student name using keyname is : Nandini\n",
            "The Student DOB using getattr() is : 2541997\n"
          ]
        }
      ]
    },
    {
      "cell_type": "code",
      "source": [
        "# importing \"collections\" for namedtuple()\n",
        "import collections\n",
        "  \n",
        "# Declaring namedtuple()\n",
        "Student = collections.namedtuple('Student',\n",
        "                                 ['name', 'age', 'DOB'])\n",
        "  \n",
        "# Adding values\n",
        "S = Student('Nandini', '19', '2541997')\n",
        "  \n",
        "# initializing iterable\n",
        "li = ['Manjeet', '19', '411997']\n",
        "  \n",
        "# initializing dict\n",
        "di = {'name': \"Nikhil\", 'age': 19, 'DOB': '1391997'}\n",
        "  \n",
        "# using _make() to return namedtuple()\n",
        "print(\"The namedtuple instance using iterable is  : \")\n",
        "print(Student._make(li))\n",
        "  \n",
        "# using _asdict() to return an OrderedDict()\n",
        "print(\"The OrderedDict instance using namedtuple is  : \")\n",
        "print(S._asdict())\n",
        "  \n",
        "# using ** operator to return namedtuple from dictionary\n",
        "print(\"The namedtuple instance from dict is  : \")\n",
        "print(Student(**di))"
      ],
      "metadata": {
        "colab": {
          "base_uri": "https://localhost:8080/"
        },
        "id": "j8WpNxmB9oDQ",
        "outputId": "a9234e5b-2440-4a58-9ff2-cbd891d16eaf"
      },
      "execution_count": null,
      "outputs": [
        {
          "output_type": "stream",
          "name": "stdout",
          "text": [
            "The namedtuple instance using iterable is  : \n",
            "Student(name='Manjeet', age='19', DOB='411997')\n",
            "The OrderedDict instance using namedtuple is  : \n",
            "OrderedDict([('name', 'Nandini'), ('age', '19'), ('DOB', '2541997')])\n",
            "The namedtuple instance from dict is  : \n",
            "Student(name='Nikhil', age=19, DOB='1391997')\n"
          ]
        }
      ]
    },
    {
      "cell_type": "code",
      "source": [
        "import collections\n",
        "  \n",
        "# Declaring namedtuple()\n",
        "Student = collections.namedtuple('Student', ['name', 'age', 'DOB'])\n",
        "  \n",
        "# Adding values\n",
        "S = Student('Nandini', '19', '2541997')\n",
        "  \n",
        "# using _fields to display all the keynames of namedtuple()\n",
        "print(\"All the fields of students are : \")\n",
        "print(S._fields)\n",
        "  \n",
        "# ._replace returns a new namedtuple, it does not modify the original\n",
        "print(\"returns a new namedtuple : \")\n",
        "print(S._replace(name='Manjeet'))\n",
        "# original namedtuple\n",
        "print(S)"
      ],
      "metadata": {
        "colab": {
          "base_uri": "https://localhost:8080/"
        },
        "id": "V1uPiboX3v82",
        "outputId": "8344ded5-0d96-4e5e-9dde-e0d1ddae4211"
      },
      "execution_count": null,
      "outputs": [
        {
          "output_type": "stream",
          "name": "stdout",
          "text": [
            "All the fields of students are : \n",
            "('name', 'age', 'DOB')\n",
            "returns a new namedtuple : \n",
            "Student(name='Manjeet', age='19', DOB='2541997')\n",
            "Student(name='Nandini', age='19', DOB='2541997')\n"
          ]
        }
      ]
    },
    {
      "cell_type": "code",
      "source": [
        "import collections\n",
        "  \n",
        "# initializing deque\n",
        "de = collections.deque([1,2,3])\n",
        "  \n",
        "# using append() to insert element at right end \n",
        "# inserts 4 at the end of deque\n",
        "de.append(4)\n",
        "  \n",
        "# printing modified deque\n",
        "print (\"The deque after appending at right is : \")\n",
        "print (de)\n",
        "  \n",
        "# using appendleft() to insert element at left end \n",
        "# inserts 6 at the beginning of deque\n",
        "de.appendleft(6)\n",
        "  \n",
        "# printing modified deque\n",
        "print (\"The deque after appending at left is : \")\n",
        "print (de)\n",
        "  \n",
        "# using pop() to delete element from right end \n",
        "# deletes 4 from the right end of deque\n",
        "de.pop()\n",
        "  \n",
        "# printing modified deque\n",
        "print (\"The deque after deleting from right is : \")\n",
        "print (de)\n",
        "  \n",
        "# using popleft() to delete element from left end \n",
        "# deletes 6 from the left end of deque\n",
        "de.popleft()\n",
        "  \n",
        "# printing modified deque\n",
        "print (\"The deque after deleting from left is : \")\n",
        "print (de)"
      ],
      "metadata": {
        "colab": {
          "base_uri": "https://localhost:8080/"
        },
        "id": "mj9tYBFL309C",
        "outputId": "9a95b0f8-3d55-4c1d-882c-cad72bb075f0"
      },
      "execution_count": null,
      "outputs": [
        {
          "output_type": "stream",
          "name": "stdout",
          "text": [
            "The deque after appending at right is : \n",
            "deque([1, 2, 3, 4])\n",
            "The deque after appending at left is : \n",
            "deque([6, 1, 2, 3, 4])\n",
            "The deque after deleting from right is : \n",
            "deque([6, 1, 2, 3])\n",
            "The deque after deleting from left is : \n",
            "deque([1, 2, 3])\n"
          ]
        }
      ]
    },
    {
      "cell_type": "code",
      "source": [
        "import collections\n",
        "  \n",
        "# initializing deque\n",
        "de = collections.deque([1, 2, 3, 3, 4, 2, 4])\n",
        "  \n",
        "# using index() to print the first occurrence of 4\n",
        "print (\"The number 4 first occurs at a position : \")\n",
        "print (de.index(4,2,5))\n",
        "  \n",
        "# using insert() to insert the value 3 at 5th position\n",
        "de.insert(4,3)\n",
        "  \n",
        "# printing modified deque\n",
        "print (\"The deque after inserting 3 at 5th position is : \")\n",
        "print (de)\n",
        "  \n",
        "# using count() to count the occurrences of 3\n",
        "print (\"The count of 3 in deque is : \")\n",
        "print (de.count(3))\n",
        "  \n",
        "# using remove() to remove the first occurrence of 3\n",
        "de.remove(3)\n",
        "  \n",
        "# printing modified deque\n",
        "print (\"The deque after deleting first occurrence of 3 is : \")\n",
        "print (de)"
      ],
      "metadata": {
        "colab": {
          "base_uri": "https://localhost:8080/"
        },
        "id": "5f4_McfL34ko",
        "outputId": "32744bba-f89e-45f3-a434-b02dafa5f279"
      },
      "execution_count": null,
      "outputs": [
        {
          "output_type": "stream",
          "name": "stdout",
          "text": [
            "The number 4 first occurs at a position : \n",
            "4\n",
            "The deque after inserting 3 at 5th position is : \n",
            "deque([1, 2, 3, 3, 3, 4, 2, 4])\n",
            "The count of 3 in deque is : \n",
            "3\n",
            "The deque after deleting first occurrence of 3 is : \n",
            "deque([1, 2, 3, 3, 4, 2, 4])\n"
          ]
        }
      ]
    },
    {
      "cell_type": "code",
      "source": [
        "import collections\n",
        "  \n",
        "# initializing deque\n",
        "de = collections.deque([1, 2, 3,])\n",
        "  \n",
        "# using extend() to add numbers to right end \n",
        "# adds 4,5,6 to right end\n",
        "de.extend([4,5,6])\n",
        "  \n",
        "# printing modified deque\n",
        "print (\"The deque after extending deque at end is : \")\n",
        "print (de)\n",
        "  \n",
        "# using extendleft() to add numbers to left end \n",
        "# adds 7,8,9 to left end\n",
        "de.extendleft([7,8,9])\n",
        "  \n",
        "# printing modified deque\n",
        "print (\"The deque after extending deque at beginning is : \")\n",
        "print (de)\n",
        "  \n",
        "# using rotate() to rotate the deque\n",
        "# rotates by 3 to left\n",
        "de.rotate(-3)\n",
        "  \n",
        "# printing modified deque\n",
        "print (\"The deque after rotating deque is : \")\n",
        "print (de)\n",
        "  \n",
        "# using reverse() to reverse the deque\n",
        "de.reverse()\n",
        "  \n",
        "# printing modified deque\n",
        "print (\"The deque after reversing deque is : \")\n",
        "print (de)"
      ],
      "metadata": {
        "colab": {
          "base_uri": "https://localhost:8080/"
        },
        "id": "tUnDV6hT3722",
        "outputId": "b31b648c-3097-491e-ffb1-6a74a4201a81"
      },
      "execution_count": null,
      "outputs": [
        {
          "output_type": "stream",
          "name": "stdout",
          "text": [
            "The deque after extending deque at end is : \n",
            "deque([1, 2, 3, 4, 5, 6])\n",
            "The deque after extending deque at beginning is : \n",
            "deque([9, 8, 7, 1, 2, 3, 4, 5, 6])\n",
            "The deque after rotating deque is : \n",
            "deque([1, 2, 3, 4, 5, 6, 9, 8, 7])\n",
            "The deque after reversing deque is : \n",
            "deque([7, 8, 9, 6, 5, 4, 3, 2, 1])\n"
          ]
        }
      ]
    },
    {
      "cell_type": "code",
      "source": [
        "import heapq\n",
        "  \n",
        "# initializing list\n",
        "li = [5, 7, 9, 1, 3]\n",
        "  \n",
        "# using heapify to convert list into heap\n",
        "heapq.heapify(li)\n",
        "  \n",
        "# printing created heap\n",
        "print (\"The created heap is : \",end=\"\")\n",
        "print (list(li))\n",
        "  \n",
        "# using heappush() to push elements into heap\n",
        "# pushes 4\n",
        "heapq.heappush(li,4)\n",
        "  \n",
        "# printing modified heap\n",
        "print (\"The modified heap after push is : \",end=\"\")\n",
        "print (list(li))\n",
        "  \n",
        "# using heappop() to pop smallest element\n",
        "print (\"The popped and smallest element is : \",end=\"\")\n",
        "print (heapq.heappop(li))"
      ],
      "metadata": {
        "colab": {
          "base_uri": "https://localhost:8080/"
        },
        "id": "Tk02ROz-4INp",
        "outputId": "e0e46ec0-e4ad-45db-9b7c-dbf1dcc7c505"
      },
      "execution_count": null,
      "outputs": [
        {
          "output_type": "stream",
          "name": "stdout",
          "text": [
            "The created heap is : [1, 3, 9, 7, 5]\n",
            "The modified heap after push is : [1, 3, 4, 7, 5, 9]\n",
            "The popped and smallest element is : 1\n"
          ]
        }
      ]
    },
    {
      "cell_type": "code",
      "source": [
        "class GFG:\n",
        "    def __init__(self, value):\n",
        "        self.key = value\n",
        "        self.left = None\n",
        "        self.right = None\n",
        " \n",
        "    def count_nodes(self, root):\n",
        "        if root is None:\n",
        "            return 0\n",
        "        else:\n",
        "            return (1 + self.count_nodes(root.left) +\n",
        "                    self.count_nodes(root.right))\n",
        " \n",
        "    def heap_property_util(self, root):\n",
        " \n",
        "        if (root.left is None and\n",
        "                root.right is None):\n",
        "            return True\n",
        " \n",
        "        if root.right is None:\n",
        "            return root.key >= root.left.key\n",
        "        else:\n",
        "            if (root.key >= root.left.key and\n",
        "                    root.key >= root.right.key):\n",
        "                return (self.heap_property_util(root.left) and\n",
        "                        self.heap_property_util(root.right))\n",
        "            else:\n",
        "                return False\n",
        " \n",
        "    def complete_tree_util(self, root,\n",
        "                           index, node_count):\n",
        "        if root is None:\n",
        "            return True\n",
        "        if index >= node_count:\n",
        "            return False\n",
        "        return (self.complete_tree_util(root.left, 2 *\n",
        "                                        index + 1, node_count) and\n",
        "                self.complete_tree_util(root.right, 2 *\n",
        "                                        index + 2, node_count))\n",
        " \n",
        "    def check_if_heap(self):\n",
        "        node_count = self.count_nodes(self)\n",
        "        if (self.complete_tree_util(self, 0, node_count) and\n",
        "                self.heap_property_util(self)):\n",
        "            return True\n",
        "        else:\n",
        "            return False\n",
        " \n",
        " \n",
        "# Driver Code\n",
        "root = GFG(5)\n",
        "root.left = GFG(2)\n",
        "root.right = GFG(3)\n",
        "root.left.left = GFG(1)\n",
        " \n",
        "if root.check_if_heap():\n",
        "    print(\"Given binary tree is a heap\")\n",
        "else:\n",
        "    print(\"Given binary tree is not a Heap\")\n",
        " \n",
        "# This code has been\n",
        "# contributed by Yash Agrawal"
      ],
      "metadata": {
        "colab": {
          "base_uri": "https://localhost:8080/"
        },
        "id": "43feRX06Uaiy",
        "outputId": "347f1974-f682-4a84-ddf2-d25772b22f50"
      },
      "execution_count": null,
      "outputs": [
        {
          "output_type": "stream",
          "name": "stdout",
          "text": [
            "Given binary tree is a heap\n"
          ]
        }
      ]
    },
    {
      "cell_type": "code",
      "source": [
        "# Python program for\n",
        "# Creation of Arrays\n",
        "import numpy as np\n",
        " \n",
        "# Creating a rank 1 Array\n",
        "arr = np.array([1, 2, 3])\n",
        "print(\"Array with Rank 1: \\n\",arr)\n",
        " \n",
        "# Creating a rank 2 Array\n",
        "arr = np.array([[1, 2, 3],\n",
        "                [4, 5, 6]])\n",
        "print(\"Array with Rank 2: \\n\", arr)\n",
        " \n",
        "# Creating an array from tuple\n",
        "arr = np.array((1, 3, 2))\n",
        "print(\"\\nArray created using \"\n",
        "      \"passed tuple:\\n\", arr)"
      ],
      "metadata": {
        "colab": {
          "base_uri": "https://localhost:8080/"
        },
        "id": "7KuY4GeHU8Nz",
        "outputId": "8137a363-9543-47e4-8e5f-5c830fc92283"
      },
      "execution_count": null,
      "outputs": [
        {
          "output_type": "stream",
          "name": "stdout",
          "text": [
            "Array with Rank 1: \n",
            " [1 2 3]\n",
            "Array with Rank 2: \n",
            " [[1 2 3]\n",
            " [4 5 6]]\n",
            "\n",
            "Array created using passed tuple:\n",
            " [1 3 2]\n"
          ]
        }
      ]
    },
    {
      "cell_type": "code",
      "source": [
        "import numpy as np\n",
        " \n",
        "# Initial Array\n",
        "arr = np.array([[-1, 2, 0, 4],\n",
        "                [4, -0.5, 6, 0],\n",
        "                [2.6, 0, 7, 8],\n",
        "                [3, -7, 4, 2.0]])\n",
        "print(\"Initial Array: \")\n",
        "print(arr)\n",
        " \n",
        "# Printing a range of Array\n",
        "# with the use of slicing method\n",
        "sliced_arr = arr[:2, ::2]\n",
        "print (\"Array with first 2 rows and\"\n",
        "    \" alternate columns(0 and 2):\\n\", sliced_arr)\n",
        " \n",
        "# Printing elements at\n",
        "# specific Indices\n",
        "Index_arr = arr[[1, 1, 0, 3], \n",
        "                [3, 2, 1, 0]]\n",
        "print (\"\\nElements at indices (1, 3), \"\n",
        "    \"(1, 2), (0, 1), (3, 0):\\n\", Index_arr)\n"
      ],
      "metadata": {
        "colab": {
          "base_uri": "https://localhost:8080/"
        },
        "id": "EasJxfxUU_hO",
        "outputId": "9820f70d-4437-4612-daf7-9a5663e7acb7"
      },
      "execution_count": null,
      "outputs": [
        {
          "output_type": "stream",
          "name": "stdout",
          "text": [
            "Initial Array: \n",
            "[[-1.   2.   0.   4. ]\n",
            " [ 4.  -0.5  6.   0. ]\n",
            " [ 2.6  0.   7.   8. ]\n",
            " [ 3.  -7.   4.   2. ]]\n",
            "Array with first 2 rows and alternate columns(0 and 2):\n",
            " [[-1.  0.]\n",
            " [ 4.  6.]]\n",
            "\n",
            "Elements at indices (1, 3), (1, 2), (0, 1), (3, 0):\n",
            " [0. 6. 2. 3.]\n"
          ]
        }
      ]
    },
    {
      "cell_type": "code",
      "source": [
        "import numpy as np\n",
        " \n",
        "# Defining Array 1\n",
        "a = np.array([[1, 2],\n",
        "              [3, 4]])\n",
        " \n",
        "# Defining Array 2\n",
        "b = np.array([[4, 3],\n",
        "              [2, 1]])\n",
        "               \n",
        "# Adding 1 to every element\n",
        "print (\"Adding 1 to every element:\", a + 1)\n",
        " \n",
        "# Subtracting 2 from each element\n",
        "print (\"\\nSubtracting 2 from each element:\", b - 2)\n",
        " \n",
        "# sum of array elements\n",
        "# Performing Unary operations\n",
        "print (\"\\nSum of all array \"\n",
        "       \"elements: \", a.sum())\n",
        " \n",
        "# Adding two arrays\n",
        "# Performing Binary operations\n",
        "print (\"\\nArray sum:\\n\", a + b)"
      ],
      "metadata": {
        "id": "v69VwCEVVEtH"
      },
      "execution_count": null,
      "outputs": []
    },
    {
      "cell_type": "code",
      "source": [
        "x = np.array([1, 2])  \n",
        "print(\"Integer Datatype: \")\n",
        "print(x.dtype)         \n",
        " \n",
        "# Float datatype\n",
        "# guessed by Numpy\n",
        "x = np.array([1.0, 2.0]) \n",
        "print(\"\\nFloat Datatype: \")\n",
        "print(x.dtype)  \n",
        " \n",
        "# Forced Datatype\n",
        "x = np.array([1, 2], dtype = np.int64)   \n",
        "print(\"\\nForcing a Datatype: \")\n",
        "print(x.dtype)"
      ],
      "metadata": {
        "colab": {
          "base_uri": "https://localhost:8080/"
        },
        "id": "m3XqyWBsU_t0",
        "outputId": "3298f9aa-da3a-4299-f953-23155e2d29db"
      },
      "execution_count": null,
      "outputs": [
        {
          "output_type": "stream",
          "name": "stdout",
          "text": [
            "Integer Datatype: \n",
            "int64\n",
            "\n",
            "Float Datatype: \n",
            "float64\n",
            "\n",
            "Forcing a Datatype: \n",
            "int64\n"
          ]
        }
      ]
    },
    {
      "cell_type": "code",
      "source": [
        "arr1 = np.array([[4, 7], [2, 6]], \n",
        "                 dtype = np.float64)\n",
        "                  \n",
        "# Second Array\n",
        "arr2 = np.array([[3, 6], [2, 8]], \n",
        "                 dtype = np.float64) \n",
        " \n",
        "# Addition of two Arrays\n",
        "Sum = np.add(arr1, arr2)\n",
        "print(\"Addition of Two Arrays: \")\n",
        "print(Sum)\n",
        " \n",
        "# Addition of all Array elements\n",
        "# using predefined sum method\n",
        "Sum1 = np.sum(arr1)\n",
        "print(\"\\nAddition of Array elements: \")\n",
        "print(Sum1)\n",
        " \n",
        "# Square root of Array\n",
        "Sqrt = np.sqrt(arr1)\n",
        "print(\"\\nSquare root of Array1 elements: \")\n",
        "print(Sqrt)\n",
        " \n",
        "# Transpose of Array\n",
        "# using In-built function 'T'\n",
        "Trans_arr = arr1.T\n",
        "print(\"\\nTranspose of Array: \")\n",
        "print(Trans_arr)"
      ],
      "metadata": {
        "colab": {
          "base_uri": "https://localhost:8080/"
        },
        "id": "Znv8UVy-VLYH",
        "outputId": "99d96431-807f-4ff5-e42f-4b7fc0940b24"
      },
      "execution_count": null,
      "outputs": [
        {
          "output_type": "stream",
          "name": "stdout",
          "text": [
            "Addition of Two Arrays: \n",
            "[[ 7. 13.]\n",
            " [ 4. 14.]]\n",
            "\n",
            "Addition of Array elements: \n",
            "19.0\n",
            "\n",
            "Square root of Array1 elements: \n",
            "[[2.         2.64575131]\n",
            " [1.41421356 2.44948974]]\n",
            "\n",
            "Transpose of Array: \n",
            "[[4. 2.]\n",
            " [7. 6.]]\n"
          ]
        }
      ]
    },
    {
      "cell_type": "code",
      "source": [
        "import numpy as np\n",
        " \n",
        "# Creating array object\n",
        "arr = np.array( [[ 1, 2, 3],\n",
        "                 [ 4, 2, 5]] )\n",
        " \n",
        "# Printing type of arr object\n",
        "print(\"Array is of type: \", type(arr))\n",
        " \n",
        "# Printing array dimensions (axes)\n",
        "print(\"No. of dimensions: \", arr.ndim)\n",
        " \n",
        "# Printing shape of array\n",
        "print(\"Shape of array: \", arr.shape)\n",
        " \n",
        "# Printing size (total number of elements) of array\n",
        "print(\"Size of array: \", arr.size)\n",
        " \n",
        "# Printing type of elements in array\n",
        "print(\"Array stores elements of type: \", arr.dtype)"
      ],
      "metadata": {
        "colab": {
          "base_uri": "https://localhost:8080/"
        },
        "id": "ki74QR8qpPHa",
        "outputId": "66899871-db9d-4196-8456-81fdd602e1c7"
      },
      "execution_count": null,
      "outputs": [
        {
          "output_type": "stream",
          "name": "stdout",
          "text": [
            "Array is of type:  <class 'numpy.ndarray'>\n",
            "No. of dimensions:  2\n",
            "Shape of array:  (2, 3)\n",
            "Size of array:  6\n",
            "Array stores elements of type:  int64\n"
          ]
        }
      ]
    },
    {
      "cell_type": "code",
      "source": [
        "# Python program to demonstrate\n",
        "# array creation techniques\n",
        "import numpy as np\n",
        " \n",
        "# Creating array from list with type float\n",
        "a = np.array([[1, 2, 4], [5, 8, 7]], dtype = 'float')\n",
        "print (\"Array created using passed list:\\n\", a)\n",
        " \n",
        "# Creating array from tuple\n",
        "b = np.array((1 , 3, 2))\n",
        "print (\"\\nArray created using passed tuple:\\n\", b)\n",
        " \n",
        "# Creating a 3X4 array with all zeros\n",
        "c = np.zeros((3, 4))\n",
        "print (\"\\nAn array initialized with all zeros:\\n\", c)\n",
        " \n",
        "# Create a constant value array of complex type\n",
        "d = np.full((3, 3), 6, dtype = 'complex')\n",
        "print (\"\\nAn array initialized with all 6s.\"\n",
        "            \"Array type is complex:\\n\", d)"
      ],
      "metadata": {
        "colab": {
          "base_uri": "https://localhost:8080/"
        },
        "id": "dZVeiSOrpTLz",
        "outputId": "84a5b4a2-45e6-49ea-b9b4-80f5c529ae64"
      },
      "execution_count": null,
      "outputs": [
        {
          "output_type": "stream",
          "name": "stdout",
          "text": [
            "Array created using passed list:\n",
            " [[1. 2. 4.]\n",
            " [5. 8. 7.]]\n",
            "\n",
            "Array created using passed tuple:\n",
            " [1 3 2]\n",
            "\n",
            "An array initialized with all zeros:\n",
            " [[0. 0. 0. 0.]\n",
            " [0. 0. 0. 0.]\n",
            " [0. 0. 0. 0.]]\n",
            "\n",
            "An array initialized with all 6s.Array type is complex:\n",
            " [[6.+0.j 6.+0.j 6.+0.j]\n",
            " [6.+0.j 6.+0.j 6.+0.j]\n",
            " [6.+0.j 6.+0.j 6.+0.j]]\n"
          ]
        }
      ]
    },
    {
      "cell_type": "code",
      "source": [
        "arr = np.array([[-1, 2, 0, 4],\n",
        "                [4, -0.5, 6, 0],\n",
        "                [2.6, 0, 7, 8],\n",
        "                [3, -7, 4, 2.0]])\n",
        " \n",
        "# Slicing array\n",
        "temp = arr[:2, ::2]\n",
        "print (\"Array with first 2 rows and alternate\"\n",
        "                    \"columns(0 and 2):\\n\", temp)\n",
        " \n",
        "# Integer array indexing example\n",
        "temp = arr[[0, 1, 2, 3], [3, 2, 1, 0]]\n",
        "print (\"\\nElements at indices (0, 3), (1, 2), (2, 1),\"\n",
        "                                    \"(3, 0):\\n\", temp)\n",
        " \n",
        "# boolean array indexing example\n",
        "cond = arr > 0 # cond is a boolean array\n",
        "temp = arr[cond]\n",
        "print (\"\\nElements greater than 0:\\n\", temp)\n"
      ],
      "metadata": {
        "colab": {
          "base_uri": "https://localhost:8080/"
        },
        "id": "b4seBMropPSC",
        "outputId": "6cba6c88-62c7-48ad-de65-e72df3a5a3f5"
      },
      "execution_count": null,
      "outputs": [
        {
          "output_type": "stream",
          "name": "stdout",
          "text": [
            "Array with first 2 rows and alternatecolumns(0 and 2):\n",
            " [[-1.  0.]\n",
            " [ 4.  6.]]\n",
            "\n",
            "Elements at indices (0, 3), (1, 2), (2, 1),(3, 0):\n",
            " [4. 6. 0. 3.]\n",
            "\n",
            "Elements greater than 0:\n",
            " [2.  4.  4.  6.  2.6 7.  8.  3.  4.  2. ]\n"
          ]
        }
      ]
    },
    {
      "cell_type": "code",
      "source": [
        "import numpy as np\n",
        "arr = np.array( [[ 1, 2, 3],\n",
        "                 [ 4, 2, 5]] )\n",
        " \n",
        "# Printing type of arr object\n",
        "print(\"Array is of type: \", type(arr))\n",
        " \n",
        "# Printing array dimensions (axes)\n",
        "print(\"No. of dimensions: \", arr.ndim)\n",
        " \n",
        "# Printing shape of array\n",
        "print(\"Shape of array: \", arr.shape)\n",
        " \n",
        "# Printing size (total number of elements) of array\n",
        "print(\"Size of array: \", arr.size)\n",
        " \n",
        "# Printing type of elements in array\n",
        "print(\"Array stores elements of type: \", arr.dtype)\n"
      ],
      "metadata": {
        "colab": {
          "base_uri": "https://localhost:8080/"
        },
        "id": "cozgoj6Vjm8E",
        "outputId": "737b4f11-48f9-436d-ed31-8a1c95ff39d3"
      },
      "execution_count": null,
      "outputs": [
        {
          "output_type": "stream",
          "name": "stdout",
          "text": [
            "Array is of type:  <class 'numpy.ndarray'>\n",
            "No. of dimensions:  2\n",
            "Shape of array:  (2, 3)\n",
            "Size of array:  6\n",
            "Array stores elements of type:  int64\n"
          ]
        }
      ]
    },
    {
      "cell_type": "code",
      "source": [
        "a = np.array([[1, 2, 4], [5, 8, 7]], dtype = 'float')\n",
        "print (\"Array created using passed list:\\n\", a)\n",
        " \n",
        "# Creating array from tuple\n",
        "b = np.array((1 , 3, 2))\n",
        "print (\"\\nArray created using passed tuple:\\n\", b)\n",
        " \n",
        "# Creating a 3X4 array with all zeros\n",
        "c = np.zeros((3, 4))\n",
        "print (\"\\nAn array initialized with all zeros:\\n\", c)\n",
        " \n",
        "# Create a constant value array of complex type\n",
        "d = np.full((3, 3), 6, dtype = 'complex')\n",
        "print (\"\\nAn array initialized with all 6s.\"\n",
        "            \"Array type is complex:\\n\", d)"
      ],
      "metadata": {
        "colab": {
          "base_uri": "https://localhost:8080/"
        },
        "id": "L9fHAyS8j63S",
        "outputId": "25e5e26f-6de4-4c3d-e4a2-a025b1571670"
      },
      "execution_count": null,
      "outputs": [
        {
          "output_type": "stream",
          "name": "stdout",
          "text": [
            "Array created using passed list:\n",
            " [[1. 2. 4.]\n",
            " [5. 8. 7.]]\n",
            "\n",
            "Array created using passed tuple:\n",
            " [1 3 2]\n",
            "\n",
            "An array initialized with all zeros:\n",
            " [[0. 0. 0. 0.]\n",
            " [0. 0. 0. 0.]\n",
            " [0. 0. 0. 0.]]\n",
            "\n",
            "An array initialized with all 6s.Array type is complex:\n",
            " [[6.+0.j 6.+0.j 6.+0.j]\n",
            " [6.+0.j 6.+0.j 6.+0.j]\n",
            " [6.+0.j 6.+0.j 6.+0.j]]\n"
          ]
        }
      ]
    },
    {
      "cell_type": "code",
      "source": [
        "arr = np.array([[-1, 2, 0, 4],\n",
        "                [4, -0.5, 6, 0],\n",
        "                [2.6, 0, 7, 8],\n",
        "                [3, -7, 4, 2.0]])\n",
        " \n",
        "# Slicing array\n",
        "temp = arr[:2, ::2]\n",
        "print (\"Array with first 2 rows and alternate\"\n",
        "                    \"columns(0 and 2):\\n\", temp)\n",
        " \n",
        "# Integer array indexing example\n",
        "temp = arr[[0, 1, 2, 3], [3, 2, 1, 0]]\n",
        "print (\"\\nElements at indices (0, 3), (1, 2), (2, 1),\"\n",
        "                                    \"(3, 0):\\n\", temp)\n",
        " \n",
        "# boolean array indexing example\n",
        "cond = arr > 0 # cond is a boolean array\n",
        "temp = arr[cond]\n",
        "print (\"\\nElements greater than 0:\\n\", temp)"
      ],
      "metadata": {
        "colab": {
          "base_uri": "https://localhost:8080/"
        },
        "id": "jW2Gbo5ij-Rj",
        "outputId": "715db2ea-614b-41d5-a557-0d5406b73459"
      },
      "execution_count": null,
      "outputs": [
        {
          "output_type": "stream",
          "name": "stdout",
          "text": [
            "Array with first 2 rows and alternatecolumns(0 and 2):\n",
            " [[-1.  0.]\n",
            " [ 4.  6.]]\n",
            "\n",
            "Elements at indices (0, 3), (1, 2), (2, 1),(3, 0):\n",
            " [4. 6. 0. 3.]\n",
            "\n",
            "Elements greater than 0:\n",
            " [2.  4.  4.  6.  2.6 7.  8.  3.  4.  2. ]\n"
          ]
        }
      ]
    },
    {
      "cell_type": "code",
      "source": [
        "a = np.array([1, 2, 5, 3])\n",
        " \n",
        "# add 1 to every element\n",
        "print (\"Adding 1 to every element:\", a+1)\n",
        " \n",
        "# subtract 3 from each element\n",
        "print (\"Subtracting 3 from each element:\", a-3)\n",
        " \n",
        "# multiply each element by 10\n",
        "print (\"Multiplying each element by 10:\", a*10)\n",
        " \n",
        "# square each element\n",
        "print (\"Squaring each element:\", a**2)\n",
        " \n",
        "# modify existing array\n",
        "a *= 2\n",
        "print (\"Doubled each element of original array:\", a)\n",
        " \n",
        "# transpose of array\n",
        "a = np.array([[1, 2, 3], [3, 4, 5], [9, 6, 0]])\n",
        " \n",
        "print (\"\\nOriginal array:\\n\", a)\n",
        "print (\"Transpose of array:\\n\", a.T)"
      ],
      "metadata": {
        "colab": {
          "base_uri": "https://localhost:8080/"
        },
        "id": "Ta5v-hTckBJk",
        "outputId": "429f24de-5293-4f66-b503-772ac933221c"
      },
      "execution_count": null,
      "outputs": [
        {
          "output_type": "stream",
          "name": "stdout",
          "text": [
            "Adding 1 to every element: [2 3 6 4]\n",
            "Subtracting 3 from each element: [-2 -1  2  0]\n",
            "Multiplying each element by 10: [10 20 50 30]\n",
            "Squaring each element: [ 1  4 25  9]\n",
            "Doubled each element of original array: [ 2  4 10  6]\n",
            "\n",
            "Original array:\n",
            " [[1 2 3]\n",
            " [3 4 5]\n",
            " [9 6 0]]\n",
            "Transpose of array:\n",
            " [[1 3 9]\n",
            " [2 4 6]\n",
            " [3 5 0]]\n"
          ]
        }
      ]
    },
    {
      "cell_type": "code",
      "source": [
        "import numpy as np\n",
        " \n",
        "arr = np.array([[1, 5, 6],\n",
        "                [4, 7, 2],\n",
        "                [3, 1, 9]])\n",
        " \n",
        "# maximum element of array\n",
        "print (\"Largest element is:\", arr.max())\n",
        "print (\"Row-wise maximum elements:\",\n",
        "                    arr.max(axis = 1))\n",
        " \n",
        "# minimum element of array\n",
        "print (\"Column-wise minimum elements:\",\n",
        "                        arr.min(axis = 0))\n",
        " \n",
        "# sum of array elements\n",
        "print (\"Sum of all array elements:\",\n",
        "                            arr.sum())\n",
        " \n",
        "# cumulative sum along each row\n",
        "print (\"Cumulative sum along each row:\\n\",\n",
        "                        arr.cumsum(axis = 1))"
      ],
      "metadata": {
        "colab": {
          "base_uri": "https://localhost:8080/"
        },
        "id": "uPEDytplkEaB",
        "outputId": "7064939f-0c22-4ea8-a937-ac31c4f1493d"
      },
      "execution_count": null,
      "outputs": [
        {
          "output_type": "stream",
          "name": "stdout",
          "text": [
            "Largest element is: 9\n",
            "Row-wise maximum elements: [6 7 9]\n",
            "Column-wise minimum elements: [1 1 2]\n",
            "Sum of all array elements: 38\n",
            "Cumulative sum along each row:\n",
            " [[ 1  6 12]\n",
            " [ 4 11 13]\n",
            " [ 3  4 13]]\n"
          ]
        }
      ]
    },
    {
      "cell_type": "code",
      "source": [
        "def isPalindrome(string: str,\n",
        "                 low: int, high: int):\n",
        "    while low < high:\n",
        "        if string[low] != string[high]:\n",
        "            return False\n",
        "        low += 1\n",
        "        high -= 1\n",
        "    return True\n",
        " "
      ],
      "metadata": {
        "id": "PGq-PwmS2bbO"
      },
      "execution_count": null,
      "outputs": []
    },
    {
      "cell_type": "code",
      "source": [
        "isPalindrome('madam',1,3)"
      ],
      "metadata": {
        "colab": {
          "base_uri": "https://localhost:8080/"
        },
        "id": "uo3jwOYy2g6j",
        "outputId": "f363dfa0-5aa6-416d-98a9-ec81bff560c7"
      },
      "execution_count": null,
      "outputs": [
        {
          "output_type": "execute_result",
          "data": {
            "text/plain": [
              "True"
            ]
          },
          "metadata": {},
          "execution_count": 11
        }
      ]
    },
    {
      "cell_type": "code",
      "source": [
        "import numpy as np\n",
        " \n",
        "arr = np.array([[1, 5, 6],\n",
        "                [4, 7, 2],\n",
        "                [3, 1, 9]])\n",
        " \n",
        "# maximum element of array\n",
        "print (\"Largest element is:\", arr.max())\n",
        "print (\"Row-wise maximum elements:\",\n",
        "                    arr.max(axis = 1))\n",
        " \n",
        "# minimum element of array\n",
        "print (\"Column-wise minimum elements:\",\n",
        "                        arr.min(axis = 0))\n",
        " \n",
        "# sum of array elements\n",
        "print (\"Sum of all array elements:\",\n",
        "                            arr.sum())\n",
        " \n",
        "# cumulative sum along each row\n",
        "print (\"Cumulative sum along each row:\\n\",\n",
        "                        arr.cumsum(axis = 1))"
      ],
      "metadata": {
        "colab": {
          "base_uri": "https://localhost:8080/"
        },
        "id": "VLOeVafoURRm",
        "outputId": "6e5465e7-23e8-4295-c221-1efc4b92fc90"
      },
      "execution_count": null,
      "outputs": [
        {
          "output_type": "stream",
          "name": "stdout",
          "text": [
            "Largest element is: 9\n",
            "Row-wise maximum elements: [6 7 9]\n",
            "Column-wise minimum elements: [1 1 2]\n",
            "Sum of all array elements: 38\n",
            "Cumulative sum along each row:\n",
            " [[ 1  6 12]\n",
            " [ 4 11 13]\n",
            " [ 3  4 13]]\n"
          ]
        }
      ]
    },
    {
      "cell_type": "code",
      "source": [
        "a = np.array([[1, 2],\n",
        "            [3, 4]])\n",
        "b = np.array([[4, 3],\n",
        "            [2, 1]])\n",
        " \n",
        "# add arrays\n",
        "print (\"Array sum:\\n\", a + b)\n",
        " \n",
        "# multiply arrays (elementwise multiplication)\n",
        "print (\"Array multiplication:\\n\", a*b)\n",
        " \n",
        "# matrix multiplication\n",
        "print (\"Matrix multiplication:\\n\", a.dot(b))\n"
      ],
      "metadata": {
        "colab": {
          "base_uri": "https://localhost:8080/"
        },
        "id": "wKOfEq0FUW-N",
        "outputId": "87462a54-b56a-4ed2-a158-91a246b61ee4"
      },
      "execution_count": null,
      "outputs": [
        {
          "output_type": "stream",
          "name": "stdout",
          "text": [
            "Array sum:\n",
            " [[5 5]\n",
            " [5 5]]\n",
            "Array multiplication:\n",
            " [[4 6]\n",
            " [6 4]]\n",
            "Matrix multiplication:\n",
            " [[ 8  5]\n",
            " [20 13]]\n"
          ]
        }
      ]
    },
    {
      "cell_type": "code",
      "source": [
        "# Python program to demonstrate\n",
        "# universal functions in numpy\n",
        "import numpy as np\n",
        " \n",
        "# create an array of sine values\n",
        "a = np.array([0, np.pi/2, np.pi])\n",
        "print (\"Sine values of array elements:\", np.sin(a))\n",
        " \n",
        "# exponential values\n",
        "a = np.array([0, 1, 2, 3])\n",
        "print (\"Exponent of array elements:\", np.exp(a))\n",
        " \n",
        "# square root of array values\n",
        "print (\"Square root of array elements:\", np.sqrt(a))\n"
      ],
      "metadata": {
        "colab": {
          "base_uri": "https://localhost:8080/"
        },
        "id": "HnHPrMw5UZDG",
        "outputId": "22d59ff2-a469-4617-f6b2-bdf241b6740c"
      },
      "execution_count": null,
      "outputs": [
        {
          "output_type": "stream",
          "name": "stdout",
          "text": [
            "Sine values of array elements: [0.0000000e+00 1.0000000e+00 1.2246468e-16]\n",
            "Exponent of array elements: [ 1.          2.71828183  7.3890561  20.08553692]\n",
            "Square root of array elements: [0.         1.         1.41421356 1.73205081]\n"
          ]
        }
      ]
    },
    {
      "cell_type": "code",
      "source": [
        "dt = np.dtype('>i4')\n",
        " \n",
        "print(\"Byte order is:\",dt.byteorder)\n",
        " \n",
        "print(\"Size is:\",dt.itemsize)\n",
        " \n",
        "print(\"Data type is:\",dt.name)"
      ],
      "metadata": {
        "colab": {
          "base_uri": "https://localhost:8080/"
        },
        "id": "FX2Z295qUc5m",
        "outputId": "714b7cbf-2724-408f-fba7-687548b77e34"
      },
      "execution_count": null,
      "outputs": [
        {
          "output_type": "stream",
          "name": "stdout",
          "text": [
            "Byte order is: >\n",
            "Size is: 4\n",
            "Data type is: int32\n"
          ]
        }
      ]
    },
    {
      "cell_type": "code",
      "source": [
        " arr=[1, 2, 3, 4, 5]\n",
        " for i in arr:\n",
        "        print(i)"
      ],
      "metadata": {
        "colab": {
          "base_uri": "https://localhost:8080/"
        },
        "id": "Ra1CorERUnW5",
        "outputId": "5f4354cb-2cd6-45ed-c44f-c0ed8a5a1f6d"
      },
      "execution_count": null,
      "outputs": [
        {
          "output_type": "stream",
          "name": "stdout",
          "text": [
            "1\n",
            "2\n",
            "3\n",
            "4\n",
            "5\n"
          ]
        }
      ]
    },
    {
      "cell_type": "code",
      "source": [
        "import array\n",
        "  \n",
        "# initializing array with array values\n",
        "# initializes array with signed integers\n",
        "arr = array.array('i', [1, 2, 3]) \n",
        " \n",
        "# printing original array\n",
        "print (\"The new created array is : \",end=\"\")\n",
        "for i in range (0,3):\n",
        "    print (arr[i], end=\" \")\n",
        " \n",
        "print (\"\\r\")\n"
      ],
      "metadata": {
        "colab": {
          "base_uri": "https://localhost:8080/"
        },
        "id": "CkcnBTGiUsKq",
        "outputId": "38aa1b76-42e8-4c72-dae3-f61fd7be7cd3"
      },
      "execution_count": null,
      "outputs": [
        {
          "output_type": "stream",
          "name": "stdout",
          "text": [
            "The new created array is : 1 2 3 \r\n"
          ]
        }
      ]
    },
    {
      "cell_type": "code",
      "source": [
        "import numpy as np\n",
        " \n",
        "b = np.empty(2, dtype = int)\n",
        "print(\"Matrix b : \\n\", b)\n",
        " \n",
        "a = np.empty([2, 2], dtype = int)\n",
        "print(\"\\nMatrix a : \\n\", a)\n",
        " \n",
        "c = np.empty([3, 3])\n",
        "print(\"\\nMatrix c : \\n\", c)"
      ],
      "metadata": {
        "colab": {
          "base_uri": "https://localhost:8080/"
        },
        "id": "6GW52HxfUvjN",
        "outputId": "348b5d85-37d8-41b8-b327-52378c0bce14"
      },
      "execution_count": null,
      "outputs": [
        {
          "output_type": "stream",
          "name": "stdout",
          "text": [
            "Matrix b : \n",
            " [4607182418800017408 4368955796522032135]\n",
            "\n",
            "Matrix a : \n",
            " [[1 2]\n",
            " [3 4]]\n",
            "\n",
            "Matrix c : \n",
            " [[4.9e-324 2.5e-323 3.0e-323]\n",
            " [2.0e-323 3.5e-323 9.9e-324]\n",
            " [1.5e-323 4.9e-324 4.4e-323]]\n"
          ]
        }
      ]
    },
    {
      "cell_type": "code",
      "source": [
        "b = np.zeros(2, dtype = int)\n",
        "print(\"Matrix b : \\n\", b)\n",
        " \n",
        "a = np.zeros([2, 2], dtype = int)\n",
        "print(\"\\nMatrix a : \\n\", a)\n",
        " \n",
        "c = np.zeros([3, 3])\n",
        "print(\"\\nMatrix c : \\n\", c)"
      ],
      "metadata": {
        "colab": {
          "base_uri": "https://localhost:8080/"
        },
        "id": "UnfPerYCU3ft",
        "outputId": "de35b58e-e71b-459d-9c0e-de1018ed63f1"
      },
      "execution_count": null,
      "outputs": [
        {
          "output_type": "stream",
          "name": "stdout",
          "text": [
            "Matrix b : \n",
            " [0 0]\n",
            "\n",
            "Matrix a : \n",
            " [[0 0]\n",
            " [0 0]]\n",
            "\n",
            "Matrix c : \n",
            " [[0. 0. 0.]\n",
            " [0. 0. 0.]\n",
            " [0. 0. 0.]]\n"
          ]
        }
      ]
    },
    {
      "cell_type": "code",
      "source": [
        "def reverseList(A, start, end):\n",
        "    while start < end:\n",
        "        A[start], A[end] = A[end], A[start]\n",
        "        start += 1\n",
        "        end -= 1\n",
        "\n",
        "\n",
        "# Driver function to test above function\n",
        "A = [1, 2, 3, 4, 5, 6]\n",
        "print(A)\n",
        "reverseList(A, 0, 5)\n",
        "print(\"Reversed list is\")\n",
        "print(A)"
      ],
      "metadata": {
        "colab": {
          "base_uri": "https://localhost:8080/"
        },
        "id": "HaMxGizpqP7I",
        "outputId": "15b3206c-563f-49bf-d553-dc6282f97578"
      },
      "execution_count": null,
      "outputs": [
        {
          "output_type": "stream",
          "name": "stdout",
          "text": [
            "[1, 2, 3, 4, 5, 6]\n",
            "Reversed list is\n",
            "[6, 5, 4, 3, 2, 1]\n"
          ]
        }
      ]
    },
    {
      "cell_type": "code",
      "source": [
        "def reverseList(A):\n",
        "  print( A[::-1])\n",
        "     \n",
        "# Driver function to test above function\n",
        "A = [1, 2, 3, 4, 5, 6]\n",
        "print(A)\n",
        "print(\"Reversed list is\")\n",
        "reverseList(A) "
      ],
      "metadata": {
        "colab": {
          "base_uri": "https://localhost:8080/"
        },
        "id": "qaYJ67XJqy_b",
        "outputId": "240529ff-8422-4aef-b360-c3fe2392c18f"
      },
      "execution_count": null,
      "outputs": [
        {
          "output_type": "stream",
          "name": "stdout",
          "text": [
            "[1, 2, 3, 4, 5, 6]\n",
            "Reversed list is\n",
            "[6, 5, 4, 3, 2, 1]\n"
          ]
        }
      ]
    },
    {
      "cell_type": "code",
      "source": [
        "def getSum(n):\n",
        " \n",
        "    sum = 0\n",
        "    while (n != 0):\n",
        " \n",
        "        sum = sum + int(n % 10)\n",
        "        print(n % 10)\n",
        "        print(sum)\n",
        "        n = int(n/10)\n",
        "        print(n/10)\n",
        "        print(n)\n",
        "       \n",
        " \n",
        "    return sum\n",
        " \n",
        " \n",
        "# Driver code\n",
        "n = 68734\n",
        "print(getSum(n))"
      ],
      "metadata": {
        "colab": {
          "base_uri": "https://localhost:8080/"
        },
        "id": "l-xGlNMCwrmh",
        "outputId": "f2d89bc7-aec4-490e-8884-37d66ab02095"
      },
      "execution_count": null,
      "outputs": [
        {
          "output_type": "stream",
          "name": "stdout",
          "text": [
            "4\n",
            "4\n",
            "687.3\n",
            "6873\n",
            "3\n",
            "7\n",
            "68.7\n",
            "687\n",
            "7\n",
            "14\n",
            "6.8\n",
            "68\n",
            "8\n",
            "22\n",
            "0.6\n",
            "6\n",
            "6\n",
            "28\n",
            "0.0\n",
            "0\n",
            "28\n"
          ]
        }
      ]
    },
    {
      "cell_type": "code",
      "source": [
        "def sumDigits(no):\n",
        "    return 0 if no == 0 else int(no % 10) + sumDigits(int(no/10))\n",
        " \n",
        " \n",
        "# Driver code\n",
        "print(sumDigits(687))"
      ],
      "metadata": {
        "colab": {
          "base_uri": "https://localhost:8080/"
        },
        "id": "P7DzQdx_0DNH",
        "outputId": "6be0b00a-d588-4fed-c3e7-c039b72ae40c"
      },
      "execution_count": null,
      "outputs": [
        {
          "output_type": "stream",
          "name": "stdout",
          "text": [
            "21\n"
          ]
        }
      ]
    },
    {
      "cell_type": "code",
      "source": [
        "def getSum(n):\n",
        "    # Initializing sum to 0\n",
        "    sum = 0\n",
        "    # Traversing through string\n",
        "    for i in n:\n",
        "        # Converting char to int\n",
        "        sum = sum + int(i)\n",
        " \n",
        "    return sum\n",
        " \n",
        " \n",
        "n = \"1123422\"\n",
        "print(getSum(n))"
      ],
      "metadata": {
        "colab": {
          "base_uri": "https://localhost:8080/"
        },
        "id": "1qlN_7yX0Oe8",
        "outputId": "756a2e5d-a720-477b-fd1d-18f4fec49905"
      },
      "execution_count": null,
      "outputs": [
        {
          "output_type": "stream",
          "name": "stdout",
          "text": [
            "15\n"
          ]
        }
      ]
    },
    {
      "cell_type": "code",
      "source": [
        "import numpy as np\n",
        " \n",
        "array = np.arange(8)\n",
        "print(\"Original array : \\n\", array)\n",
        " \n",
        "# shape array with 2 rows and 4 columns\n",
        "array = np.arange(8).reshape(2, 4)\n",
        "print(\"\\narray reshaped with 2 rows and 4 columns : \\n\", array)\n",
        " \n",
        "# shape array with 2 rows and 4 columns\n",
        "array = np.arange(8).reshape(4 ,2)\n",
        "print(\"\\narray reshaped with 2 rows and 4 columns : \\n\", array)\n",
        " \n",
        "# Constructs 3D array\n",
        "array = np.arange(8).reshape(2, 2, 2)\n",
        "print(\"\\nOriginal array reshaped to 3D : \\n\", array)"
      ],
      "metadata": {
        "colab": {
          "base_uri": "https://localhost:8080/"
        },
        "id": "ifTazISMcX5X",
        "outputId": "5c1792ad-67f1-4541-a976-2e0e15ee648c"
      },
      "execution_count": null,
      "outputs": [
        {
          "output_type": "stream",
          "name": "stdout",
          "text": [
            "Original array : \n",
            " [0 1 2 3 4 5 6 7]\n",
            "\n",
            "array reshaped with 2 rows and 4 columns : \n",
            " [[0 1 2 3]\n",
            " [4 5 6 7]]\n",
            "\n",
            "array reshaped with 2 rows and 4 columns : \n",
            " [[0 1]\n",
            " [2 3]\n",
            " [4 5]\n",
            " [6 7]]\n",
            "\n",
            "Original array reshaped to 3D : \n",
            " [[[0 1]\n",
            "  [2 3]]\n",
            "\n",
            " [[4 5]\n",
            "  [6 7]]]\n"
          ]
        }
      ]
    },
    {
      "cell_type": "code",
      "source": [
        "def allPalPartUtil(allPart: list, currPart: list,\n",
        "                   start: int, n: int, string: str):\n",
        " \n",
        "    # If 'start' has reached len\n",
        "    if start >= n:\n",
        "         \n",
        "        # In Python list are passed by reference\n",
        "        # that is why it is needed to copy first\n",
        "        # and then append\n",
        "        x = currPart.copy()\n",
        " \n",
        "        allPart.append(x)\n",
        "        return\n",
        " \n",
        "    # Pick all possible ending points for substrings\n",
        "    for i in range(start, n):\n",
        " \n",
        "        # If substring str[start..i] is palindrome\n",
        "        if isPalindrome(string, start, i):\n",
        " \n",
        "            # Add the substring to result\n",
        "            currPart.append(string[start:i + 1])\n",
        " \n",
        "            # Recur for remaining substring\n",
        "            allPalPartUtil(allPart, currPart,\n",
        "                            i + 1, n, string)\n",
        " \n",
        "            # Remove substring str[start..i]\n",
        "            # from current partition\n",
        "            currPart.pop()"
      ],
      "metadata": {
        "id": "MMk6zxTDcwHJ"
      },
      "execution_count": null,
      "outputs": []
    },
    {
      "cell_type": "code",
      "source": [
        "def allPalPartitions(string: str):\n",
        " \n",
        "    n = len(string)\n",
        " \n",
        "    # To Store all palindromic partitions\n",
        "    allPart = []\n",
        " \n",
        "    # To store current palindromic partition\n",
        "    currPart = []\n",
        " \n",
        "    # Call recursive function to generate\n",
        "    # all partitions and store in allPart\n",
        "    allPalPartUtil(allPart, currPart, 0, n, string)\n",
        " \n",
        "    # Print all partitions generated by above call\n",
        "    for i in range(len(allPart)):\n",
        "        for j in range(len(allPart[i])):\n",
        "            print(allPart[i][j], end = \" \")\n",
        "        print()\n",
        " "
      ],
      "metadata": {
        "id": "j31BZlCwc19p"
      },
      "execution_count": null,
      "outputs": []
    },
    {
      "cell_type": "code",
      "source": [
        "class GFG:\n",
        "    def solve(self, arr):\n",
        "        self.res.add(tuple(arr)) # add current partitioning to result\n",
        "        if len(arr)<=1:  # Base case when there is nothing to merge\n",
        "            return\n",
        "        for i in range(1,len(arr)):\n",
        "            if arr[i-1]==arr[i][::-1]: # When two adjacent such that one is reverse of another\n",
        "                brr = arr[:i-1] + [arr[i-1]+arr[i]] + arr[i+1:]\n",
        "                self.solve(brr)\n",
        "            if i+1<len(arr) and arr[i-1]==arr[i+1][::-1]:  # All are individually palindrome,\n",
        "              # when one left and one right of i are reverse of each other then we can merge\n",
        "              # the three of them to form a new partitioning way\n",
        "                brr = arr[:i-1] + [arr[i-1]+arr[i]+arr[i+1]] + arr[i+2:]\n",
        "                self.solve(brr)\n",
        "    def getGray(self, S):\n",
        "        self.res = set()  # result is a set of tuples to avoid same partition multiple times\n",
        "        self.solve(list(S)) # Call recursive function to solve for S\n",
        "        return sorted(list(self.res))\n",
        "# Driver Code\n",
        "if __name__ == '__main__':\n",
        "    ob = GFG()\n",
        "    allPart = ob.getGray(\"geeks\")\n",
        "    for i in range(len(allPart)):\n",
        "        for j in range(len(allPart[i])):\n",
        "            print(allPart[i][j], end = \" \")\n",
        "        print()"
      ],
      "metadata": {
        "id": "H1wxd6BOdGfm",
        "outputId": "098cb6f6-e626-457d-d2cf-0fb62492b50a",
        "colab": {
          "base_uri": "https://localhost:8080/"
        }
      },
      "execution_count": null,
      "outputs": [
        {
          "output_type": "stream",
          "name": "stdout",
          "text": [
            "g e e k s \n",
            "g ee k s \n"
          ]
        }
      ]
    },
    {
      "cell_type": "code",
      "source": [
        "import numpy as np\n",
        "list1 = [1, 2, 3, 4, 5, 6]\n",
        "list2 = [10, 9, 8, 7, 6, 5]\n",
        " \n",
        "# Convert list1 into a NumPy array\n",
        "a1 = np.array(list1)\n",
        " \n",
        "# Convert list2 into a NumPy array\n",
        "a2 = np.array(list2)\n",
        " \n",
        "print(a1*a2)"
      ],
      "metadata": {
        "colab": {
          "base_uri": "https://localhost:8080/"
        },
        "id": "VZorhvI_2999",
        "outputId": "6216fc03-4ab3-4a41-8f59-f7bc6096173b"
      },
      "execution_count": null,
      "outputs": [
        {
          "output_type": "stream",
          "name": "stdout",
          "text": [
            "[10 18 24 28 30 30]\n"
          ]
        }
      ]
    },
    {
      "cell_type": "code",
      "source": [
        "# Python program to demonstrate \n",
        "# the use of index arrays.\n",
        "import numpy as np\n",
        " \n",
        "# Create a sequence of integers from\n",
        "# 10 to 1 with a step of -2\n",
        "a = np.arange(10, 1, -2) \n",
        "print(\"\\n A sequential array with a negative step: \\n\",a)\n",
        " \n",
        "# Indexes are specified inside the np.array method.\n",
        "newarr = a[np.array([3, 1, 2 ])]\n",
        "print(\"\\n Elements at these indices are:\\n\",newarr)"
      ],
      "metadata": {
        "colab": {
          "base_uri": "https://localhost:8080/"
        },
        "id": "jhGMfi6F3GpF",
        "outputId": "3c7a9ff0-2adf-4778-d33a-17485ae5918a"
      },
      "execution_count": null,
      "outputs": [
        {
          "output_type": "stream",
          "name": "stdout",
          "text": [
            "\n",
            " A sequential array with a negative step: \n",
            " [10  8  6  4  2]\n",
            "\n",
            " Elements at these indices are:\n",
            " [4 8 6]\n"
          ]
        }
      ]
    },
    {
      "cell_type": "code",
      "source": [
        "import numpy as np\n",
        " \n",
        "# Arrange elements from 0 to 19\n",
        "a = np.arange(20)\n",
        "print(\"\\n Array is:\\n \",a)\n",
        " \n",
        "# a[start:stop:step]\n",
        "print(\"\\n a[-8:17:1]  = \",a[-8:17:1]) \n",
        " \n",
        "# The : operator means all elements till the end.\n",
        "print(\"\\n a[10:]  = \",a[10:])"
      ],
      "metadata": {
        "colab": {
          "base_uri": "https://localhost:8080/"
        },
        "id": "4muGbjgE3KOh",
        "outputId": "a1034c8c-d3d4-4ebe-d683-75ef2ba4fa06"
      },
      "execution_count": null,
      "outputs": [
        {
          "output_type": "stream",
          "name": "stdout",
          "text": [
            "\n",
            " Array is:\n",
            "  [ 0  1  2  3  4  5  6  7  8  9 10 11 12 13 14 15 16 17 18 19]\n",
            "\n",
            " a[-8:17:1]  =  [12 13 14 15 16]\n",
            "\n",
            " a[10:]  =  [10 11 12 13 14 15 16 17 18 19]\n"
          ]
        }
      ]
    },
    {
      "cell_type": "code",
      "source": [
        "import numpy as np\n",
        " \n",
        "# A 3-Dimensional array\n",
        "a = np.array([[0, 1, 2, 3, 4, 5],\n",
        "              [6, 7, 8, 9, 10, 11],\n",
        "              [12, 13, 14, 15, 16, 17],\n",
        "              [18, 19, 20, 21, 22, 23],\n",
        "              [24, 25, 26, 27, 28, 29],\n",
        "              [30, 31, 32, 33, 34, 35]])\n",
        "\n",
        "print(\"\\n Array is:\\n \",a)\n",
        " \n",
        "# slicing and indexing\n",
        "print(\"\\n a[0, 3:5]  = \",a[0, 3:5]) \n",
        " \n",
        "print(\"\\n a[4:, 4:]  = \",a[4:, 4:]) \n",
        " \n",
        "print(\"\\n a[:, 2]  = \",a[:, 2]) \n",
        " \n",
        "print(\"\\n a[2:;2, ::2]  = \",a[2::2, ::2]) "
      ],
      "metadata": {
        "colab": {
          "base_uri": "https://localhost:8080/"
        },
        "id": "YXZtjcFe3M7O",
        "outputId": "d518df05-5e00-42ab-dc1c-8ba6c2e61e38"
      },
      "execution_count": null,
      "outputs": [
        {
          "output_type": "stream",
          "name": "stdout",
          "text": [
            "\n",
            " Array is:\n",
            "  [[ 0  1  2  3  4  5]\n",
            " [ 6  7  8  9 10 11]\n",
            " [12 13 14 15 16 17]\n",
            " [18 19 20 21 22 23]\n",
            " [24 25 26 27 28 29]\n",
            " [30 31 32 33 34 35]]\n",
            "\n",
            " a[0, 3:5]  =  [3 4]\n",
            "\n",
            " a[4:, 4:]  =  [[28 29]\n",
            " [34 35]]\n",
            "\n",
            " a[:, 2]  =  [ 2  8 14 20 26 32]\n",
            "\n",
            " a[2:;2, ::2]  =  [[12 14 16]\n",
            " [24 26 28]]\n"
          ]
        }
      ]
    },
    {
      "cell_type": "code",
      "source": [
        "\n",
        "# Python program to demonstrate\n",
        "# the use of index arrays.\n",
        "import numpy as np\n",
        " \n",
        "# Create a sequence of integers from 10 to 1 with a step of -2\n",
        "a = np.arange(10, 1, -2)\n",
        "print(\"\\n A sequential array with a negative step: \\n\",a)\n",
        " \n",
        "# Indexes are specified inside the np.array method.\n",
        "newarr = a[np.array([3, 1, 2 ])]\n",
        "print(\"\\n Elements at these indices are:\\n\",newarr)"
      ],
      "metadata": {
        "colab": {
          "base_uri": "https://localhost:8080/"
        },
        "id": "1F8NxeBL4Y6d",
        "outputId": "b8863f83-f841-4f10-9eba-999053b82aa7"
      },
      "execution_count": null,
      "outputs": [
        {
          "output_type": "stream",
          "name": "stdout",
          "text": [
            "\n",
            " A sequential array with a negative step: \n",
            " [10  8  6  4  2]\n",
            "\n",
            " Elements at these indices are:\n",
            " [4 8 6]\n"
          ]
        }
      ]
    },
    {
      "cell_type": "code",
      "source": [
        "# NumPy array with elements from 1 to 9\n",
        "x = np.array([1, 2, 3, 4, 5, 6, 7, 8, 9])\n",
        " \n",
        "# Index values can be negative.\n",
        "arr = x[np.array([1, 3, -3])]\n",
        "print(\"\\n Elements are : \\n\",arr)"
      ],
      "metadata": {
        "colab": {
          "base_uri": "https://localhost:8080/"
        },
        "id": "PuqcxTVP4sac",
        "outputId": "3b71f074-9d8b-49a0-8877-5e2b772287e8"
      },
      "execution_count": null,
      "outputs": [
        {
          "output_type": "stream",
          "name": "stdout",
          "text": [
            "\n",
            " Elements are : \n",
            " [2 4 7]\n"
          ]
        }
      ]
    },
    {
      "cell_type": "code",
      "source": [
        "import numpy as np\n",
        " \n",
        "# Arrange elements from 0 to 19\n",
        "a = np.arange(20)\n",
        "print(\"\\n Array is:\\n \",a)\n",
        " \n",
        "# a[start:stop:step]\n",
        "print(\"\\n a[-8:17:1] = \",a[-8:17:1])\n",
        " \n",
        "# The : operator means all elements till the end.\n",
        "print(\"\\n a[10:] = \",a[10:])"
      ],
      "metadata": {
        "colab": {
          "base_uri": "https://localhost:8080/"
        },
        "id": "V90oe2u14u01",
        "outputId": "149b72f8-8278-4de8-e7de-08a87d2f5f12"
      },
      "execution_count": null,
      "outputs": [
        {
          "output_type": "stream",
          "name": "stdout",
          "text": [
            "\n",
            " Array is:\n",
            "  [ 0  1  2  3  4  5  6  7  8  9 10 11 12 13 14 15 16 17 18 19]\n",
            "\n",
            " a[-8:17:1] =  [12 13 14 15 16]\n",
            "\n",
            " a[10:] =  [10 11 12 13 14 15 16 17 18 19]\n"
          ]
        }
      ]
    },
    {
      "cell_type": "code",
      "source": [
        "import numpy as np\n",
        " \n",
        "# A 3 dimensional array.\n",
        "b = np.array([[[1, 2, 3],[4, 5, 6]],\n",
        "            [[7, 8, 9],[10, 11, 12]]])\n",
        " \n",
        "print(b[...,1]) #Equivalent to b[: ,: ,1 ]"
      ],
      "metadata": {
        "colab": {
          "base_uri": "https://localhost:8080/"
        },
        "id": "CuvCZnL3j_bz",
        "outputId": "52fe6a1c-f81c-4c07-8286-a5421f939dc3"
      },
      "execution_count": null,
      "outputs": [
        {
          "output_type": "stream",
          "name": "stdout",
          "text": [
            "[[ 2  5]\n",
            " [ 8 11]]\n"
          ]
        }
      ]
    },
    {
      "cell_type": "code",
      "source": [
        "\n",
        "a = np.array([[1 ,2 ],[3 ,4 ],[5 ,6 ]])\n",
        "print(a[[0 ,1 ,2 ],[0 ,0 ,1]])\n",
        "\n",
        "b = np.array([[5, 5],[4, 5],[16, 4]])\n",
        "sumrow = b.sum(-1)\n",
        "print(b[sumrow%10==0])"
      ],
      "metadata": {
        "colab": {
          "base_uri": "https://localhost:8080/"
        },
        "id": "23OOpQoVkJ0n",
        "outputId": "7fea0443-5da3-46cc-e7fb-93be2b91e581"
      },
      "execution_count": null,
      "outputs": [
        {
          "output_type": "stream",
          "name": "stdout",
          "text": [
            "[1 3 6]\n",
            "[[ 5  5]\n",
            " [16  4]]\n"
          ]
        }
      ]
    },
    {
      "cell_type": "code",
      "source": [
        "# with structured array.\n",
        "import numpy as np\n",
        " \n",
        "dt = np.dtype([('name', np.unicode_, 16),\n",
        "               ('grades', np.float64, (2,))])\n",
        " \n",
        "# x is a structured array with names\n",
        "# and marks of students.\n",
        "# Data type of name of the student is \n",
        "# np.unicode_ and data type of marks is \n",
        "# np.float(64)\n",
        "x = np.array([('Sarah', (8.0, 7.0)),\n",
        "              ('John', (6.0, 7.0))], dtype=dt)\n",
        " \n",
        "print(x[1])\n",
        " \n",
        "print(\"Grades of John are: \", x[1]['grades'])\n",
        "print(\"Names are: \", x['name'])"
      ],
      "metadata": {
        "colab": {
          "base_uri": "https://localhost:8080/"
        },
        "id": "edcOrBk-kfR5",
        "outputId": "92d97d22-bafc-468b-b08b-28edb8031061"
      },
      "execution_count": null,
      "outputs": [
        {
          "output_type": "stream",
          "name": "stdout",
          "text": [
            "('John', [6., 7.])\n",
            "Grades of John are:  [6. 7.]\n",
            "Names are:  ['Sarah' 'John']\n"
          ]
        }
      ]
    },
    {
      "cell_type": "code",
      "source": [
        "import numpy as np\n",
        "a = np.arange(12)\n",
        "a.reshape(3,4)\n",
        "print('Original array is:')\n",
        "print(a)\n",
        "print()\n",
        " \n",
        "print('Modified array is:')\n",
        "# iterating  an array\n",
        "for x in np.nditer(a):\n",
        "    print(x)"
      ],
      "metadata": {
        "colab": {
          "base_uri": "https://localhost:8080/"
        },
        "id": "JoY9f_kWkoQN",
        "outputId": "3a86bd2d-91bd-4346-be67-7d1ed09f4ae3"
      },
      "execution_count": null,
      "outputs": [
        {
          "output_type": "stream",
          "name": "stdout",
          "text": [
            "Original array is:\n",
            "[ 0  1  2  3  4  5  6  7  8  9 10 11]\n",
            "\n",
            "Modified array is:\n",
            "0\n",
            "1\n",
            "2\n",
            "3\n",
            "4\n",
            "5\n",
            "6\n",
            "7\n",
            "8\n",
            "9\n",
            "10\n",
            "11\n"
          ]
        }
      ]
    },
    {
      "cell_type": "code",
      "source": [
        "import numpy as np\n",
        "a = np.arange(12)\n",
        " \n",
        "# shape array with 3 rows and \n",
        "# 4 columns \n",
        "a = a.reshape(3,4) \n",
        "    \n",
        "print('Original array is:')\n",
        "print(a)\n",
        "print()  \n",
        "    \n",
        "# Transpose of original array\n",
        "b = a.T \n",
        "    \n",
        "print('Modified array is:')\n",
        "for x in np.nditer(b): \n",
        "    print(x)"
      ],
      "metadata": {
        "colab": {
          "base_uri": "https://localhost:8080/"
        },
        "id": "VBj0isceoKZq",
        "outputId": "560014cf-a434-404d-c66a-4b01544db508"
      },
      "execution_count": null,
      "outputs": [
        {
          "output_type": "stream",
          "name": "stdout",
          "text": [
            "Original array is:\n",
            "[[ 0  1  2  3]\n",
            " [ 4  5  6  7]\n",
            " [ 8  9 10 11]]\n",
            "\n",
            "Modified array is:\n",
            "0\n",
            "1\n",
            "2\n",
            "3\n",
            "4\n",
            "5\n",
            "6\n",
            "7\n",
            "8\n",
            "9\n",
            "10\n",
            "11\n"
          ]
        }
      ]
    },
    {
      "cell_type": "code",
      "source": [
        "import numpy as np \n",
        " \n",
        "# creating an array using arrange \n",
        "# method\n",
        "a = np.arange(12) \n",
        " \n",
        "# shape array with 3 rows and \n",
        "# 4 columns \n",
        "a = a.reshape(3,4) \n",
        " \n",
        "print('Original array is:') \n",
        "print(a)\n",
        "print()  \n",
        " \n",
        "print('Modified array in C-style order:')\n",
        " \n",
        "# iterating an array in a given\n",
        "# order  \n",
        "for x in np.nditer(a, order = 'C'): \n",
        "    print(x)"
      ],
      "metadata": {
        "colab": {
          "base_uri": "https://localhost:8080/"
        },
        "id": "ZMrpI-7soY7E",
        "outputId": "70cdcecb-af6b-4973-a2e3-3da9df84b0f8"
      },
      "execution_count": null,
      "outputs": [
        {
          "output_type": "stream",
          "name": "stdout",
          "text": [
            "Original array is:\n",
            "[[ 0  1  2  3]\n",
            " [ 4  5  6  7]\n",
            " [ 8  9 10 11]]\n",
            "\n",
            "Modified array in C-style order:\n",
            "0\n",
            "1\n",
            "2\n",
            "3\n",
            "4\n",
            "5\n",
            "6\n",
            "7\n",
            "8\n",
            "9\n",
            "10\n",
            "11\n"
          ]
        }
      ]
    },
    {
      "cell_type": "code",
      "source": [
        "a = np.arange(0,60,5) \n",
        " \n",
        "# shape array with 3 rows and \n",
        "# 4 columns \n",
        "a = a.reshape(3,4) \n",
        " \n",
        "print('Original array is:') \n",
        "print(a)\n",
        "print()  \n",
        " \n",
        "print('Modified array in F-style order:')\n",
        " \n",
        "# iterating an array in a given\n",
        "# order   \n",
        "for x in np.nditer(a, order = 'F'): \n",
        "    print(x)"
      ],
      "metadata": {
        "colab": {
          "base_uri": "https://localhost:8080/"
        },
        "id": "JwcQHlDSog6j",
        "outputId": "493f3cc1-9992-49bf-b907-a211c80ac6c4"
      },
      "execution_count": null,
      "outputs": [
        {
          "output_type": "stream",
          "name": "stdout",
          "text": [
            "Original array is:\n",
            "[[ 0  5 10 15]\n",
            " [20 25 30 35]\n",
            " [40 45 50 55]]\n",
            "\n",
            "Modified array in F-style order:\n",
            "0\n",
            "20\n",
            "40\n",
            "5\n",
            "25\n",
            "45\n",
            "10\n",
            "30\n",
            "50\n",
            "15\n",
            "35\n",
            "55\n"
          ]
        }
      ]
    },
    {
      "cell_type": "code",
      "source": [
        "a = np.arange(12)\n",
        " \n",
        "# shape array with 3 rows and \n",
        "# 4 columns \n",
        "a = a.reshape(3,4)\n",
        "print('Original array is:')\n",
        "print(a)\n",
        "print()\n",
        " \n",
        "# modifying array values\n",
        "for x in np.nditer(a, op_flags = ['readwrite']):\n",
        "    x[...] = 5*x\n",
        "print('Modified array is:')\n",
        "print(a)"
      ],
      "metadata": {
        "colab": {
          "base_uri": "https://localhost:8080/"
        },
        "id": "YhoN40p-ozzN",
        "outputId": "459a35fc-e5e4-414e-a4ba-a63fb1db8779"
      },
      "execution_count": null,
      "outputs": [
        {
          "output_type": "stream",
          "name": "stdout",
          "text": [
            "Original array is:\n",
            "[[ 0  1  2  3]\n",
            " [ 4  5  6  7]\n",
            " [ 8  9 10 11]]\n",
            "\n",
            "Modified array is:\n",
            "[[ 0  5 10 15]\n",
            " [20 25 30 35]\n",
            " [40 45 50 55]]\n"
          ]
        }
      ]
    },
    {
      "cell_type": "code",
      "source": [
        "import numpy as np \n",
        " \n",
        "# creating an array using arrange \n",
        "# method\n",
        "a = np.arange(12) \n",
        " \n",
        "# shape array with 3 rows and \n",
        "# 4 columns \n",
        "a = a.reshape(3,4) \n",
        " \n",
        "print('Original array is:') \n",
        "print(a) \n",
        "print()  \n",
        " \n",
        "print('Modified array is:') \n",
        "for x in np.nditer(a, flags = ['external_loop'], order = 'C'):\n",
        "    print(x)"
      ],
      "metadata": {
        "colab": {
          "base_uri": "https://localhost:8080/"
        },
        "id": "1llVk-P9M0sN",
        "outputId": "bb139d3f-bfe4-4474-ddf8-716eddfb8393"
      },
      "execution_count": null,
      "outputs": [
        {
          "output_type": "stream",
          "name": "stdout",
          "text": [
            "Original array is:\n",
            "[[ 0  1  2  3]\n",
            " [ 4  5  6  7]\n",
            " [ 8  9 10 11]]\n",
            "\n",
            "Modified array is:\n",
            "[ 0  1  2  3  4  5  6  7  8  9 10 11]\n"
          ]
        }
      ]
    },
    {
      "cell_type": "code",
      "source": [
        "import numpy as np \n",
        " \n",
        "# creating an array using arrange \n",
        "# method\n",
        "a = np.arange(6)\n",
        " \n",
        "# shape array with 2 rows and \n",
        "# 3 columns \n",
        "a = a.reshape(2,3)\n",
        " \n",
        "print('Original array is:')\n",
        "print(a)\n",
        "print()\n",
        " \n",
        "# iterating array using f_index \n",
        "# parameter\n",
        "it = np.nditer(a, flags=['f_index'])\n",
        "while not it.finished:\n",
        "      print(\"%d <%d>\" % (it[0], it.index), end=\" \")\n",
        "      it.iternext()"
      ],
      "metadata": {
        "colab": {
          "base_uri": "https://localhost:8080/"
        },
        "id": "ZEuwlqbUNLXK",
        "outputId": "7ababd88-0112-4edf-ff8c-845169bdbcc6"
      },
      "execution_count": null,
      "outputs": [
        {
          "output_type": "stream",
          "name": "stdout",
          "text": [
            "Original array is:\n",
            "[[0 1 2]\n",
            " [3 4 5]]\n",
            "\n",
            "0 <0> 1 <2> 2 <4> 3 <1> 4 <3> 5 <5> "
          ]
        }
      ]
    },
    {
      "cell_type": "code",
      "source": [
        "import numpy as np\n",
        "in_num1 = 10\n",
        "in_num2 = 11\n",
        " \n",
        "print (\"Input  number1 : \", in_num1)\n",
        "print (\"Input  number2 : \", in_num2) \n",
        "   \n",
        "out_num = np.bitwise_and(in_num1, in_num2) \n",
        "print (\"bitwise_and of 10 and 11 : \", out_num) "
      ],
      "metadata": {
        "colab": {
          "base_uri": "https://localhost:8080/"
        },
        "id": "ItdVoqA_OuKl",
        "outputId": "c4e32ddc-d54e-40e7-b1ab-49fb9a4c33ba"
      },
      "execution_count": null,
      "outputs": [
        {
          "output_type": "stream",
          "name": "stdout",
          "text": [
            "Input  number1 :  10\n",
            "Input  number2 :  11\n",
            "bitwise_and of 10 and 11 :  10\n"
          ]
        }
      ]
    },
    {
      "cell_type": "code",
      "source": [
        "import numpy as np\n",
        " \n",
        "in_arr1 = [2, 8, 125]\n",
        "in_arr2 = [3, 3, 115]\n",
        "  \n",
        "print (\"Input array1 : \", in_arr1) \n",
        "print (\"Input array2 : \", in_arr2)\n",
        "   \n",
        "out_arr = np.bitwise_and(in_arr1, in_arr2) \n",
        "print (\"Output array after bitwise_and: \", out_arr) "
      ],
      "metadata": {
        "colab": {
          "base_uri": "https://localhost:8080/"
        },
        "id": "jQDKqChIO90m",
        "outputId": "665347cf-af42-45b1-c94f-755a37fa2c4f"
      },
      "execution_count": null,
      "outputs": [
        {
          "output_type": "stream",
          "name": "stdout",
          "text": [
            "Input array1 :  [2, 8, 125]\n",
            "Input array2 :  [3, 3, 115]\n",
            "Output array after bitwise_and:  [  2   0 113]\n"
          ]
        }
      ]
    },
    {
      "cell_type": "code",
      "source": [
        "import numpy as np\n",
        "in_num1 = 10\n",
        "in_num2 = 11\n",
        " \n",
        "print (\"Input  number1 : \", in_num1)\n",
        "print (\"Input  number2 : \", in_num2) \n",
        "   \n",
        "out_num = np.bitwise_or(in_num1, in_num2) \n",
        "print (\"bitwise_or of 10 and 11 : \", out_num) \n"
      ],
      "metadata": {
        "colab": {
          "base_uri": "https://localhost:8080/"
        },
        "id": "Lr_Vpl9dPMFD",
        "outputId": "d2ce969d-091c-4021-fc10-24327bf9951f"
      },
      "execution_count": null,
      "outputs": [
        {
          "output_type": "stream",
          "name": "stdout",
          "text": [
            "Input  number1 :  10\n",
            "Input  number2 :  11\n",
            "bitwise_or of 10 and 11 :  11\n"
          ]
        }
      ]
    },
    {
      "cell_type": "code",
      "source": [
        "import numpy as np\n",
        " \n",
        "in_arr1 = [2, 8, 125]\n",
        "in_arr2 = [3, 3, 115]\n",
        "  \n",
        "print (\"Input array1 : \", in_arr1) \n",
        "print (\"Input array2 : \", in_arr2)\n",
        "   \n",
        "out_arr = np.bitwise_or(in_arr1, in_arr2) \n",
        "print (\"Output array after bitwise_or: \", out_arr)"
      ],
      "metadata": {
        "colab": {
          "base_uri": "https://localhost:8080/"
        },
        "id": "SwS-DQW3PQyj",
        "outputId": "5049a166-e7e5-4728-8a4c-eef9209a2018"
      },
      "execution_count": null,
      "outputs": [
        {
          "output_type": "stream",
          "name": "stdout",
          "text": [
            "Input array1 :  [2, 8, 125]\n",
            "Input array2 :  [3, 3, 115]\n",
            "Output array after bitwise_or:  [  3  11 127]\n"
          ]
        }
      ]
    },
    {
      "cell_type": "code",
      "source": [
        "import numpy as np\n",
        "in_num1 = 10\n",
        "in_num2 = 11\n",
        " \n",
        "print (\"Input  number1 : \", in_num1)\n",
        "print (\"Input  number2 : \", in_num2) \n",
        "   \n",
        "out_num = np.bitwise_xor(in_num1, in_num2) \n",
        "print (\"bitwise_xor of 10 and 11 : \", out_num) \n"
      ],
      "metadata": {
        "colab": {
          "base_uri": "https://localhost:8080/"
        },
        "id": "5h79XTXpPXVa",
        "outputId": "7335b24f-f0a8-4d70-d6dd-ec2b68c4012a"
      },
      "execution_count": null,
      "outputs": [
        {
          "output_type": "stream",
          "name": "stdout",
          "text": [
            "Input  number1 :  10\n",
            "Input  number2 :  11\n",
            "bitwise_xor of 10 and 11 :  1\n"
          ]
        }
      ]
    },
    {
      "cell_type": "code",
      "source": [
        "in_arr1 = [2, 8, 125]\n",
        "in_arr2 = [3, 3, 115]\n",
        "  \n",
        "print (\"Input array1 : \", in_arr1) \n",
        "print (\"Input array2 : \", in_arr2)\n",
        "   \n",
        "out_arr = np.bitwise_xor(in_arr1, in_arr2) \n",
        "print (\"Output array after bitwise_xor: \", out_arr) "
      ],
      "metadata": {
        "colab": {
          "base_uri": "https://localhost:8080/"
        },
        "id": "v0KF3-QgPdxW",
        "outputId": "e1ae9b0e-0aca-4a37-830c-b9360272a1fa"
      },
      "execution_count": null,
      "outputs": [
        {
          "output_type": "stream",
          "name": "stdout",
          "text": [
            "Input array1 :  [2, 8, 125]\n",
            "Input array2 :  [3, 3, 115]\n",
            "Output array after bitwise_xor:  [ 1 11 14]\n"
          ]
        }
      ]
    },
    {
      "cell_type": "code",
      "source": [
        "in_num = 10\n",
        "print (\"Input  number : \", in_num)\n",
        "   \n",
        "out_num = np.invert(in_num) \n",
        "print (\"inversion of 10 : \", out_num) "
      ],
      "metadata": {
        "colab": {
          "base_uri": "https://localhost:8080/"
        },
        "id": "9GqKlzNPPyfk",
        "outputId": "1fd250a4-c199-4be8-ef22-cb0317b4e9e9"
      },
      "execution_count": null,
      "outputs": [
        {
          "output_type": "stream",
          "name": "stdout",
          "text": [
            "Input  number :  10\n",
            "inversion of 10 :  -11\n"
          ]
        }
      ]
    },
    {
      "cell_type": "code",
      "source": [
        " \n",
        "in_arr = [2, 0, 25]\n",
        "print (\"Input array : \", in_arr)\n",
        "   \n",
        "out_arr = np.invert(in_arr) \n",
        "print (\"Output array after inversion: \", out_arr) \n"
      ],
      "metadata": {
        "colab": {
          "base_uri": "https://localhost:8080/"
        },
        "id": "XJ8ukUtCP2Kb",
        "outputId": "2e55a0b5-6a25-4cb8-ca3a-8066cfc579f0"
      },
      "execution_count": null,
      "outputs": [
        {
          "output_type": "stream",
          "name": "stdout",
          "text": [
            "Input array :  [2, 0, 25]\n",
            "Output array after inversion:  [ -3  -1 -26]\n"
          ]
        }
      ]
    },
    {
      "cell_type": "code",
      "source": [
        "# Python program explaining\n",
        "# left_shift() function\n",
        " \n",
        "import numpy as np\n",
        " \n",
        "in_arr = [2, 8, 15]\n",
        "bit_shift =[3, 4, 5]\n",
        "  \n",
        "print (\"Input array : \", in_arr) \n",
        "print (\"Number of bit shift : \", bit_shift)\n",
        "   \n",
        "out_arr = np.left_shift(in_arr, bit_shift) \n",
        "print (\"Output array after left shifting: \", out_arr) "
      ],
      "metadata": {
        "id": "U85U9MfyiYJV",
        "colab": {
          "base_uri": "https://localhost:8080/"
        },
        "outputId": "7e400058-f02a-47d8-bf06-cd6f8dc8feb3"
      },
      "execution_count": null,
      "outputs": [
        {
          "output_type": "stream",
          "name": "stdout",
          "text": [
            "Input array :  [2, 8, 15]\n",
            "Number of bit shift :  [3, 4, 5]\n",
            "Output array after left shifting:  [ 16 128 480]\n"
          ]
        }
      ]
    },
    {
      "cell_type": "code",
      "source": [
        "in_num = 20\n",
        "bit_shift = 2\n",
        " \n",
        "print (\"Input  number : \", in_num)\n",
        "print (\"Number of bit shift : \", bit_shift ) \n",
        "   \n",
        "out_num = np.right_shift(in_num, bit_shift) \n",
        "print (\"After right shifting 2 bit  : \", out_num) "
      ],
      "metadata": {
        "colab": {
          "base_uri": "https://localhost:8080/"
        },
        "id": "o_YEow--cMpk",
        "outputId": "2f8126d7-6c41-4c4d-ec67-dc43c867425a"
      },
      "execution_count": null,
      "outputs": [
        {
          "output_type": "stream",
          "name": "stdout",
          "text": [
            "Input  number :  20\n",
            "Number of bit shift :  2\n",
            "After right shifting 2 bit  :  5\n"
          ]
        }
      ]
    },
    {
      "cell_type": "code",
      "source": [],
      "metadata": {
        "id": "GwOdLsrEcOcf"
      },
      "execution_count": null,
      "outputs": []
    },
    {
      "cell_type": "code",
      "source": [
        "in_arr = [24, 48, 16]\n",
        "bit_shift =[3, 4, 2]\n",
        "  \n",
        "print (\"Input array : \", in_arr) \n",
        "print (\"Number of bit shift : \", bit_shift)\n",
        "   \n",
        "out_arr = np.right_shift(in_arr, bit_shift) \n",
        "print (\"Output array after right shifting: \", out_arr) "
      ],
      "metadata": {
        "colab": {
          "base_uri": "https://localhost:8080/"
        },
        "id": "M-ExzW-4cRfw",
        "outputId": "9389af59-8dbf-4b6d-db92-1a81875b6755"
      },
      "execution_count": null,
      "outputs": [
        {
          "output_type": "stream",
          "name": "stdout",
          "text": [
            "Input array :  [24, 48, 16]\n",
            "Number of bit shift :  [3, 4, 2]\n",
            "Output array after right shifting:  [3 3 4]\n"
          ]
        }
      ]
    },
    {
      "cell_type": "code",
      "source": [
        "in_arr = [5, -8 ]\n",
        "  \n",
        "print (\"Input array : \", in_arr) \n",
        " \n",
        "# binary representation of first array  \n",
        "# element without using width parameter\n",
        "out_num = np.binary_repr(in_arr[0])\n",
        "print(\"Binary representation of 5\")\n",
        "print (\"Without using width parameter : \", out_num) \n",
        " \n",
        "# binary representation of first array\n",
        "# element using width parameter\n",
        "out_num = np.binary_repr(in_arr[0], width = 5)\n",
        "print (\"Using width parameter: \", out_num) \n",
        " \n",
        "print(\"\\nBinary representation of -8\")\n",
        " \n",
        "# binary representation of 2nd array\n",
        "# element without using width parameter\n",
        "out_num = np.binary_repr(in_arr[1])\n",
        "print (\"Without using width parameter : \", out_num) \n",
        " \n",
        "# binary representation of 2nd array\n",
        "# element  using width parameter\n",
        "out_num = np.binary_repr(in_arr[1], width = 5)\n",
        "print (\"Using width parameter : \", out_num) "
      ],
      "metadata": {
        "colab": {
          "base_uri": "https://localhost:8080/"
        },
        "id": "nW_tKGvocW0h",
        "outputId": "18a5b1a4-5018-4ae8-9ba2-6857f035b754"
      },
      "execution_count": null,
      "outputs": [
        {
          "output_type": "stream",
          "name": "stdout",
          "text": [
            "Input array :  [5, -8]\n",
            "Binary representation of 5\n",
            "Without using width parameter :  101\n",
            "Using width parameter:  00101\n",
            "\n",
            "Binary representation of -8\n",
            "Without using width parameter :  -1000\n",
            "Using width parameter :  11000\n"
          ]
        }
      ]
    },
    {
      "cell_type": "code",
      "source": [
        "# Python program explaining\n",
        "# packbits() function\n",
        "import numpy as np\n",
        " \n",
        "# creating an array using \n",
        "# array function\n",
        "a = np.array([[[1,0,1],\n",
        "             [0,1,0]],\n",
        "             [[1,1,0],\n",
        "             [0,0,1]]])\n",
        " \n",
        "# packing elements of an array\n",
        "# using packbits() function\n",
        "b = np.packbits(a, axis=-1)\n",
        " \n",
        "print(b)"
      ],
      "metadata": {
        "colab": {
          "base_uri": "https://localhost:8080/"
        },
        "id": "KqSoNoeMcdJG",
        "outputId": "4a49cd83-635e-4a5f-dccd-04df12777ca0"
      },
      "execution_count": null,
      "outputs": [
        {
          "output_type": "stream",
          "name": "stdout",
          "text": [
            "[[[160]\n",
            "  [ 64]]\n",
            "\n",
            " [[192]\n",
            "  [ 32]]]\n"
          ]
        }
      ]
    },
    {
      "cell_type": "code",
      "source": [
        "# Python program explaining\n",
        "# unpackbits() function\n",
        "import numpy as np\n",
        " \n",
        "# creating an array using \n",
        "# array function\n",
        "a = np.array([[2], [7], [23]], dtype=np.uint8)\n",
        " \n",
        "# packing elements of an array\n",
        "# using packbits() function\n",
        "b = np.unpackbits(a, axis = 1)\n",
        " \n",
        "print(b)"
      ],
      "metadata": {
        "colab": {
          "base_uri": "https://localhost:8080/"
        },
        "id": "y0R7SNDYcgCc",
        "outputId": "fd8c3cb4-e645-4e47-88c9-75e9354329fa"
      },
      "execution_count": null,
      "outputs": [
        {
          "output_type": "stream",
          "name": "stdout",
          "text": [
            "[[0 0 0 0 0 0 1 0]\n",
            " [0 0 0 0 0 1 1 1]\n",
            " [0 0 0 1 0 1 1 1]]\n"
          ]
        }
      ]
    },
    {
      "cell_type": "code",
      "source": [
        "import numpy as np\n",
        "import math\n",
        " \n",
        "in_array = [0, math.pi / 2, np.pi / 3, np.pi]\n",
        "print (\"Input array : \\n\", in_array)\n",
        " \n",
        "Sin_Values = np.sin(in_array)\n",
        "print (\"\\nSine values : \\n\", Sin_Values)"
      ],
      "metadata": {
        "id": "7MMDWDb0crpn",
        "outputId": "d8f2909a-51c1-4b21-cda1-1a83f256c6de",
        "colab": {
          "base_uri": "https://localhost:8080/"
        }
      },
      "execution_count": null,
      "outputs": [
        {
          "output_type": "stream",
          "name": "stdout",
          "text": [
            "Input array : \n",
            " [0, 1.5707963267948966, 1.0471975511965976, 3.141592653589793]\n",
            "\n",
            "Sine values : \n",
            " [0.00000000e+00 1.00000000e+00 8.66025404e-01 1.22464680e-16]\n"
          ]
        }
      ]
    },
    {
      "cell_type": "code",
      "source": [
        "%%time\n",
        "def selectionsort(A):\n",
        "    n = len(A)\n",
        "    for i in range(n-1):\n",
        "        print((i))\n",
        "        position = i\n",
        "        for j in range(i+1,n):\n",
        "            if A[j]<A[position]:\n",
        "                position = j\n",
        "        temp = A[i]\n",
        "        A[i] = A[position]\n",
        "        A[position]= temp\n",
        "        \n",
        "A = [3,5,8,9,6,2]\n",
        "print('original array:',A)\n",
        "selectionsort(A)\n",
        "print(\"sorted array:\",A)\n",
        "        "
      ],
      "metadata": {
        "colab": {
          "base_uri": "https://localhost:8080/"
        },
        "id": "Pf-Ong-Dxfpa",
        "outputId": "ea4dc8bc-7b1e-4a83-cff3-0862c7f93f80"
      },
      "execution_count": null,
      "outputs": [
        {
          "output_type": "stream",
          "name": "stdout",
          "text": [
            "original array: [3, 5, 8, 9, 6, 2]\n",
            "0\n",
            "1\n",
            "2\n",
            "3\n",
            "4\n",
            "sorted array: [2, 3, 5, 6, 8, 9]\n",
            "CPU times: user 677 µs, sys: 0 ns, total: 677 µs\n",
            "Wall time: 510 µs\n"
          ]
        }
      ]
    },
    {
      "cell_type": "code",
      "source": [
        "def insertionsort(A):\n",
        "    n= len(A)\n",
        "    for i in range(1,n):\n",
        "        cvalue = A[i]\n",
        "        print(cvalue)\n",
        "        position = i\n",
        "        print(A[position-1]>cvalue)\n",
        "        while position>0 and A[position-1]>cvalue:\n",
        "                A[position] = A[position-1]\n",
        "                position = position-1\n",
        "        A[position] = cvalue        "
      ],
      "metadata": {
        "id": "aR84bWXvxlMA"
      },
      "execution_count": null,
      "outputs": []
    },
    {
      "cell_type": "code",
      "source": [
        "def bubblesort(A):\n",
        "    n = len(A)\n",
        "    for passes in range(n-1,0,-1):\n",
        "        print('passes:',passes)\n",
        "        print(\" \")\n",
        "        for i in range(passes):\n",
        "            print(i)\n",
        "            print(\"----\")\n",
        "            if A[i]>A[i+1]:\n",
        "                print(True)\n",
        "                temp = A[i]\n",
        "                A[i]= A[i+1]\n",
        "                A[i+1]=temp"
      ],
      "metadata": {
        "id": "HXnTn8uvxsLZ"
      },
      "execution_count": null,
      "outputs": []
    },
    {
      "cell_type": "code",
      "source": [
        "import numpy as np\n",
        "in_arr = np.array([ 2, 0,  1, 5, 4, 1, 9])\n",
        "print (\"Input unsorted array : \", in_arr)\n",
        " \n",
        "out_arr = np.argsort(in_arr)\n",
        "print (\"Output sorted array indices : \", out_arr)\n",
        "print(\"Output sorted array : \", in_arr[out_arr][::-1])"
      ],
      "metadata": {
        "colab": {
          "base_uri": "https://localhost:8080/"
        },
        "id": "0BJ0s1HWYog_",
        "outputId": "fe11febd-e514-4a07-ce93-2c90a73a14b1"
      },
      "execution_count": null,
      "outputs": [
        {
          "output_type": "stream",
          "name": "stdout",
          "text": [
            "Input unsorted array :  [2 0 1 5 4 1 9]\n",
            "Output sorted array indices :  [1 2 5 0 4 3 6]\n",
            "Output sorted array :  [9 5 4 2 1 1 0]\n"
          ]
        }
      ]
    },
    {
      "cell_type": "code",
      "source": [
        "# input 2d array\n",
        "in_arr = np.array([[ 2, 0, 1], [ 5, 4, 3]])\n",
        "print (\"Input array : \", in_arr)\n",
        " \n",
        "# output sorted array indices\n",
        "out_arr1 = np.argsort(in_arr, kind ='mergesort', axis = 0)\n",
        "print (\"Output sorteded array indices along axis 0: \", out_arr1)\n",
        "out_arr2 = np.argsort(in_arr, kind ='heapsort', axis = 1)\n",
        "print (\"Output sorteded array indices along axis 1: \", out_arr2)"
      ],
      "metadata": {
        "colab": {
          "base_uri": "https://localhost:8080/"
        },
        "id": "Gx6JjAeGZlCC",
        "outputId": "ba468168-c7cf-4772-d458-070c0c6d7d11"
      },
      "execution_count": null,
      "outputs": [
        {
          "output_type": "stream",
          "name": "stdout",
          "text": [
            "Input array :  [[2 0 1]\n",
            " [5 4 3]]\n",
            "Output sorteded array indices along axis 0:  [[0 0 0]\n",
            " [1 1 1]]\n",
            "Output sorteded array indices along axis 1:  [[1 2 0]\n",
            " [2 1 0]]\n"
          ]
        }
      ]
    },
    {
      "cell_type": "code",
      "source": [
        "import numpy as np\n",
        "import math\n",
        " \n",
        "in_array = [0, math.pi / 2, np.pi / 3, np.pi]\n",
        "print (\"Input array : \\n\", in_array)\n",
        " \n",
        "cos_Values = np.cos(in_array)\n",
        "print (\"\\nCosine values : \\n\", cos_Values)"
      ],
      "metadata": {
        "colab": {
          "base_uri": "https://localhost:8080/"
        },
        "id": "ixy2KgKmaUY1",
        "outputId": "55b508ab-e1ff-4170-bab7-50741680b22d"
      },
      "execution_count": null,
      "outputs": [
        {
          "output_type": "stream",
          "name": "stdout",
          "text": [
            "Input array : \n",
            " [0, 1.5707963267948966, 1.0471975511965976, 3.141592653589793]\n",
            "\n",
            "Cosine values : \n",
            " [ 1.000000e+00  6.123234e-17  5.000000e-01 -1.000000e+00]\n"
          ]
        }
      ]
    },
    {
      "cell_type": "code",
      "source": [
        "import numpy as np\n",
        "import math\n",
        " \n",
        "in_array = [0, math.pi / 2, np.pi / 3, np.pi]\n",
        "print (\"Input array : \\n\", in_array)\n",
        " \n",
        "Sinh_Values = np.sinh(in_array)\n",
        "print (\"\\nSine Hyperbolic values : \\n\", Sinh_Values)"
      ],
      "metadata": {
        "colab": {
          "base_uri": "https://localhost:8080/"
        },
        "id": "-ZSekXVlaXCE",
        "outputId": "8e5f5c71-bc85-4f85-e9e1-aa4a1914627b"
      },
      "execution_count": null,
      "outputs": [
        {
          "output_type": "stream",
          "name": "stdout",
          "text": [
            "Input array : \n",
            " [0, 1.5707963267948966, 1.0471975511965976, 3.141592653589793]\n",
            "\n",
            "Sine Hyperbolic values : \n",
            " [ 0.          2.3012989   1.24936705 11.54873936]\n"
          ]
        }
      ]
    },
    {
      "cell_type": "code",
      "source": [
        "in_array = [0, math.pi / 2, np.pi / 3, np.pi]\n",
        "print (\"Input array : \\n\", in_array)\n",
        " \n",
        "cosh_Values = np.cosh(in_array)\n",
        "print (\"\\ncosine Hyperbolic values : \\n\", cosh_Values)"
      ],
      "metadata": {
        "colab": {
          "base_uri": "https://localhost:8080/"
        },
        "id": "aFesKcU5aZeF",
        "outputId": "e5fb3e7b-8fd5-4df8-a7ce-6919fe6e4284"
      },
      "execution_count": null,
      "outputs": [
        {
          "output_type": "stream",
          "name": "stdout",
          "text": [
            "Input array : \n",
            " [0, 1.5707963267948966, 1.0471975511965976, 3.141592653589793]\n",
            "\n",
            "cosine Hyperbolic values : \n",
            " [ 1.          2.50917848  1.60028686 11.59195328]\n"
          ]
        }
      ]
    },
    {
      "cell_type": "code",
      "source": [
        " \n",
        "in_array = [.5, 1.5, 2.5, 3.5, 4.5, 10.1]\n",
        "print (\"Input array : \\n\", in_array)\n",
        " \n",
        "round_off_values = np.around(in_array)\n",
        "print (\"\\nRounded values : \\n\", round_off_values)\n",
        " \n",
        " \n",
        "in_array = [.53, 1.54, .71]\n",
        "print (\"\\nInput array : \\n\", in_array)\n",
        " \n",
        "round_off_values = np.around(in_array)\n",
        "print (\"\\nRounded values : \\n\", round_off_values)\n",
        " \n",
        "in_array = [.5538, 1.33354, .71445]\n",
        "print (\"\\nInput array : \\n\", in_array)\n",
        " \n",
        "round_off_values = np.around(in_array, decimals = 3)\n",
        "print (\"\\nRounded values : \\n\", round_off_values)"
      ],
      "metadata": {
        "colab": {
          "base_uri": "https://localhost:8080/"
        },
        "id": "9uVYpj9BaeBR",
        "outputId": "8e312c44-f497-4bdb-d5fb-b4348bcedf64"
      },
      "execution_count": null,
      "outputs": [
        {
          "output_type": "stream",
          "name": "stdout",
          "text": [
            "Input array : \n",
            " [0.5, 1.5, 2.5, 3.5, 4.5, 10.1]\n",
            "\n",
            "Rounded values : \n",
            " [ 0.  2.  2.  4.  4. 10.]\n",
            "\n",
            "Input array : \n",
            " [0.53, 1.54, 0.71]\n",
            "\n",
            "Rounded values : \n",
            " [1. 2. 1.]\n",
            "\n",
            "Input array : \n",
            " [0.5538, 1.33354, 0.71445]\n",
            "\n",
            "Rounded values : \n",
            " [0.554 1.334 0.714]\n"
          ]
        }
      ]
    },
    {
      "cell_type": "code",
      "source": [
        "# Python program explaining\n",
        "# round_() function\n",
        "import numpy as np\n",
        " \n",
        "in_array = [.5, 1.5, 2.5, 3.5, 4.5, 10.1]\n",
        "print (\"Input array : \\n\", in_array)\n",
        " \n",
        "round_off_values = np.round_(in_array)\n",
        "print (\"\\nRounded values : \\n\", round_off_values)\n",
        " \n",
        " \n",
        "in_array = [.53, 1.54, .71]\n",
        "print (\"\\nInput array : \\n\", in_array)\n",
        " \n",
        "round_off_values = np.round_(in_array)\n",
        "print (\"\\nRounded values : \\n\", round_off_values)\n",
        " \n",
        "in_array = [.5538, 1.33354, .71445]\n",
        "print (\"\\nInput array : \\n\", in_array)\n",
        " \n",
        "round_off_values = np.round_(in_array, decimals = 3)\n",
        "print (\"\\nRounded values : \\n\", round_off_values)"
      ],
      "metadata": {
        "colab": {
          "base_uri": "https://localhost:8080/"
        },
        "id": "yfCRv3oycNif",
        "outputId": "de4801ef-5edf-4fbe-c880-a0151dd2a12a"
      },
      "execution_count": null,
      "outputs": [
        {
          "output_type": "stream",
          "name": "stdout",
          "text": [
            "Input array : \n",
            " [0.5, 1.5, 2.5, 3.5, 4.5, 10.1]\n",
            "\n",
            "Rounded values : \n",
            " [ 0.  2.  2.  4.  4. 10.]\n",
            "\n",
            "Input array : \n",
            " [0.53, 1.54, 0.71]\n",
            "\n",
            "Rounded values : \n",
            " [1. 2. 1.]\n",
            "\n",
            "Input array : \n",
            " [0.5538, 1.33354, 0.71445]\n",
            "\n",
            "Rounded values : \n",
            " [0.554 1.334 0.714]\n"
          ]
        }
      ]
    },
    {
      "cell_type": "code",
      "source": [
        "in_array = [1, 3, 5]\n",
        "print (\"Input array : \", in_array)\n",
        " \n",
        "out_array = np.exp(in_array)\n",
        "print (\"Output array : \", out_array)"
      ],
      "metadata": {
        "colab": {
          "base_uri": "https://localhost:8080/"
        },
        "id": "0CVuWKh-cTPy",
        "outputId": "4b45cfdf-68d6-434f-f890-f908301284d4"
      },
      "execution_count": null,
      "outputs": [
        {
          "output_type": "stream",
          "name": "stdout",
          "text": [
            "Input array :  [1, 3, 5]\n",
            "Output array :  [  2.71828183  20.08553692 148.4131591 ]\n"
          ]
        }
      ]
    },
    {
      "cell_type": "code",
      "source": [
        " \n",
        "in_array = [1, 3, 5, 2**8]\n",
        "print (\"Input array : \", in_array)\n",
        " \n",
        "out_array = np.log(in_array)\n",
        "print (\"Output array : \", out_array)\n",
        " \n",
        " \n",
        "print(\"\\nnp.log(4**4) : \", np.log(4**4))\n",
        "print(\"np.log(2**8) : \", np.log(2**8))"
      ],
      "metadata": {
        "colab": {
          "base_uri": "https://localhost:8080/"
        },
        "id": "kSaLZ4PtcZnV",
        "outputId": "524b16b7-7c53-4b39-f890-880a82be7a39"
      },
      "execution_count": null,
      "outputs": [
        {
          "output_type": "stream",
          "name": "stdout",
          "text": [
            "Input array :  [1, 3, 5, 256]\n",
            "Output array :  [0.         1.09861229 1.60943791 5.54517744]\n",
            "\n",
            "np.log(4**4) :  5.545177444479562\n",
            "np.log(2**8) :  5.545177444479562\n"
          ]
        }
      ]
    },
    {
      "cell_type": "code",
      "source": [
        "in_num = 2.0\n",
        "print (\"Input  number : \", in_num)\n",
        " \n",
        "out_num = np.reciprocal(in_num)\n",
        "print (\"Output number : \", out_num)"
      ],
      "metadata": {
        "colab": {
          "base_uri": "https://localhost:8080/"
        },
        "id": "-gXSJbhgc66x",
        "outputId": "53b113e9-8404-4405-c222-8378603cd388"
      },
      "execution_count": null,
      "outputs": [
        {
          "output_type": "stream",
          "name": "stdout",
          "text": [
            "Input  number :  2.0\n",
            "Output number :  0.5\n"
          ]
        }
      ]
    },
    {
      "cell_type": "code",
      "source": [
        "# input_array\n",
        "arr1 = [2, 27, 2, 21, 23]\n",
        "arr2 = [2, 3, 4, 5, 6]\n",
        "print (\"arr1         : \", arr1)\n",
        "print (\"arr2         : \", arr2)\n",
        " \n",
        "# output_array\n",
        "out = np.divide(arr1, arr2)\n",
        "print (\"\\nOutput array : \\n\", out)"
      ],
      "metadata": {
        "colab": {
          "base_uri": "https://localhost:8080/"
        },
        "id": "o6OrmscxdDDJ",
        "outputId": "30f280d6-5f58-48f5-bc94-2fbf0e6e0281"
      },
      "execution_count": null,
      "outputs": [
        {
          "output_type": "stream",
          "name": "stdout",
          "text": [
            "arr1         :  [2, 27, 2, 21, 23]\n",
            "arr2         :  [2, 3, 4, 5, 6]\n",
            "\n",
            "Output array : \n",
            " [1.         9.         0.5        4.2        3.83333333]\n"
          ]
        }
      ]
    },
    {
      "cell_type": "code",
      "source": [
        "a= [1,2,6,8,9]\n",
        "np.sort(a)"
      ],
      "metadata": {
        "colab": {
          "base_uri": "https://localhost:8080/"
        },
        "id": "kCgOItIUfOKC",
        "outputId": "c601a515-c324-4f1f-b9d1-f4cdf5351305"
      },
      "execution_count": null,
      "outputs": [
        {
          "output_type": "execute_result",
          "data": {
            "text/plain": [
              "array([1, 2, 6, 8, 9])"
            ]
          },
          "metadata": {},
          "execution_count": 14
        }
      ]
    },
    {
      "cell_type": "code",
      "source": [
        "class _Node:\n",
        "      __slots__ = '_element','_left','_right'\n",
        "      def __init__(self,element,left=None,right= None):\n",
        "        self._element= element\n",
        "        self._left = left\n",
        "        self._right = right\n",
        "\n",
        "class binarytree:\n",
        "      def __init__(self):\n",
        "          self._root = None\n",
        "      def maketree(self,e,left,right):\n",
        "          self._root = _Node(e, left._root, right._root)\n",
        "\n",
        "      def inorder(self,troot):\n",
        "          if troot:\n",
        "             self.inorder(troot._left)\n",
        "             print(troot._element,end = ' ')\n",
        "             self.inorder(troot._right)\n",
        "\n",
        "      def preorder(self,troot):\n",
        "          if troot:\n",
        "             print(troot._element,end = ' ')\n",
        "             self.preorder(troot._left)\n",
        "             self.preorder(troot._right)\n",
        "\n",
        "      def postorder(self,troot):\n",
        "          if troot:\n",
        "             self.postorder(troot._left)\n",
        "             self.postorder(troot._right)\n",
        "             print(troot._element,end = ' ')       \n"
      ],
      "metadata": {
        "id": "n1rPvRrbR3z9"
      },
      "execution_count": null,
      "outputs": []
    },
    {
      "cell_type": "code",
      "source": [
        "x = binarytree()\n",
        "y = binarytree()\n",
        "z = binarytree()\n",
        "a = binarytree()\n",
        "x.maketree(20,a,a)\n",
        "y.maketree(30,a,a)\n",
        "z.maketree(10,x,y)\n",
        "print(\"inorder travesal\")\n",
        "print(\" \")\n",
        "z.inorder(z._root)\n",
        "print(\" \")\n",
        "print('preorder traversal')\n",
        "print(\" \")\n",
        "z.preorder(z._root)\n",
        "print(\" \")\n",
        "print('postorder traversal')\n",
        "print(\" \")\n",
        "z.postorder(z._root) "
      ],
      "metadata": {
        "colab": {
          "base_uri": "https://localhost:8080/"
        },
        "id": "9o9HO1SmWGms",
        "outputId": "4f84ff45-400a-498e-cd0b-8e6038a48e57"
      },
      "execution_count": null,
      "outputs": [
        {
          "output_type": "stream",
          "name": "stdout",
          "text": [
            "inorder travesal\n",
            " \n",
            "20 10 30  \n",
            "preorder traversal\n",
            " \n",
            "10 20 30  \n",
            "postorder traversal\n",
            " \n",
            "20 30 10 "
          ]
        }
      ]
    },
    {
      "cell_type": "code",
      "source": [
        "x = binarytree()\n",
        "y = binarytree()\n",
        "z = binarytree()\n",
        "r = binarytree()\n",
        "s = binarytree()\n",
        "t = binarytree()\n",
        "a = binarytree()\n",
        "x.maketree(40,a,a)\n",
        "y.maketree(60,a,a)\n",
        "z.maketree(20,x,a)\n",
        "r.maketree(50,a,y)\n",
        "s.maketree(30,r,a)\n",
        "t.maketree(10,z,s)\n",
        "print(\"inorder travesal\")\n",
        "print(\" \")\n",
        "t.inorder(t._root)\n",
        "print(\" \")\n",
        "print('preorder traversal')\n",
        "print(\" \")\n",
        "t.preorder(t._root)\n",
        "print(\" \")\n",
        "print('postorder traversal')\n",
        "print(\" \")\n",
        "t.postorder(t._root) "
      ],
      "metadata": {
        "colab": {
          "base_uri": "https://localhost:8080/"
        },
        "id": "tcJqsEi7bOfY",
        "outputId": "d093009c-b979-43a7-e35a-f7c2c8d67c65"
      },
      "execution_count": null,
      "outputs": [
        {
          "output_type": "stream",
          "name": "stdout",
          "text": [
            "inorder travesal\n",
            " \n",
            "40 20 10 50 60 30  \n",
            "preorder traversal\n",
            " \n",
            "10 20 40 30 50 60  \n",
            "postorder traversal\n",
            " \n",
            "40 20 60 50 30 10 "
          ]
        }
      ]
    },
    {
      "cell_type": "code",
      "source": [
        "import numpy as np\n",
        " \n",
        "# converting to lowercase\n",
        "print(np.char.lower(['GEEKS', 'FOR']))\n",
        " \n",
        "# converting to lowercase\n",
        "print(np.char.lower('GEEKS'))\n"
      ],
      "metadata": {
        "colab": {
          "base_uri": "https://localhost:8080/"
        },
        "id": "Buo7S_1Vex1-",
        "outputId": "4aff6d88-42b5-4b20-cbeb-d5db329cb616"
      },
      "execution_count": null,
      "outputs": [
        {
          "output_type": "stream",
          "name": "stdout",
          "text": [
            "['geeks' 'for']\n",
            "geeks\n"
          ]
        }
      ]
    },
    {
      "cell_type": "code",
      "source": [
        "import numpy as np\n",
        " \n",
        "# splitting a string\n",
        "print(np.char.split('geeks for geeks'))\n",
        " \n",
        "# splitting a string\n",
        "print(np.char.split('geeks, for, geeks', sep = ','))"
      ],
      "metadata": {
        "colab": {
          "base_uri": "https://localhost:8080/"
        },
        "id": "BYgGF6m8gAId",
        "outputId": "5c184e53-e571-44dd-d463-e720fa13633b"
      },
      "execution_count": null,
      "outputs": [
        {
          "output_type": "stream",
          "name": "stdout",
          "text": [
            "['geeks', 'for', 'geeks']\n",
            "['geeks', ' for', ' geeks']\n"
          ]
        }
      ]
    },
    {
      "cell_type": "code",
      "source": [
        "import numpy as np\n",
        " \n",
        "# splitting a string\n",
        "print(np.char.join('-', 'geeks'))\n",
        " \n",
        "# splitting a string\n",
        "print(np.char.join(['-', ':'], ['geeks', 'for']))"
      ],
      "metadata": {
        "colab": {
          "base_uri": "https://localhost:8080/"
        },
        "id": "Kun3ZwR5gOlt",
        "outputId": "e1360f87-52c1-4be0-c773-bb1c768cb5be"
      },
      "execution_count": null,
      "outputs": [
        {
          "output_type": "stream",
          "name": "stdout",
          "text": [
            "g-e-e-k-s\n",
            "['g-e-e-k-s' 'f:o:r']\n"
          ]
        }
      ]
    },
    {
      "cell_type": "code",
      "source": [
        "\n",
        "import numpy as np\n",
        " \n",
        "a=np.array(['geeks', 'for', 'geeks'])\n",
        " \n",
        "# counting a substring\n",
        "print(np.char.count(a,'geek'))\n",
        " \n",
        "# counting a substring\n",
        "print(np.char.count(a, 'fo'))"
      ],
      "metadata": {
        "colab": {
          "base_uri": "https://localhost:8080/"
        },
        "id": "RCz9AaNfgR49",
        "outputId": "2d4dd759-73a8-4ad7-f18d-0d4e829e546b"
      },
      "execution_count": null,
      "outputs": [
        {
          "output_type": "stream",
          "name": "stdout",
          "text": [
            "[1 0 1]\n",
            "[0 1 0]\n"
          ]
        }
      ]
    },
    {
      "cell_type": "code",
      "source": [
        "\n",
        "import numpy as np\n",
        " \n",
        "a=np.array(['geeks', 'for', 'geeks'])\n",
        " \n",
        "# counting a substring\n",
        "print(np.char.rfind(a,'geek'))\n",
        " \n",
        "# counting a substring\n",
        "print(np.char.rfind(a, 'fo'))"
      ],
      "metadata": {
        "colab": {
          "base_uri": "https://localhost:8080/"
        },
        "id": "C68GptY3hEg-",
        "outputId": "df4d3cc6-a910-4955-9fed-634c67ef4fe3"
      },
      "execution_count": null,
      "outputs": [
        {
          "output_type": "stream",
          "name": "stdout",
          "text": [
            "[ 0 -1  0]\n",
            "[-1  0 -1]\n"
          ]
        }
      ]
    },
    {
      "cell_type": "code",
      "source": [
        "print(\"Is it raining today? Please answer by yes or no:\")\n",
        "raining = str(input())\n",
        "if raining == 'yes':\n",
        "    print(True)\n",
        "else:\n",
        "    print(False)"
      ],
      "metadata": {
        "colab": {
          "base_uri": "https://localhost:8080/"
        },
        "id": "N40V9WAWty9w",
        "outputId": "f9ae41a7-6af6-497c-8954-91786799a3b3"
      },
      "execution_count": null,
      "outputs": [
        {
          "output_type": "stream",
          "name": "stdout",
          "text": [
            "Is it raining today? Please answer by yes or no:\n",
            "yes\n",
            "True\n"
          ]
        }
      ]
    },
    {
      "cell_type": "code",
      "source": [
        "# Python program explaining\n",
        "# numpy.isnumeric() function\n",
        " \n",
        "import numpy as np\n",
        " \n",
        " \n",
        "# counting a substring\n",
        "print(np.char.isnumeric('geeks'))\n",
        " \n",
        "# counting a substring\n",
        "print(np.char.isnumeric('12geeks'))"
      ],
      "metadata": {
        "colab": {
          "base_uri": "https://localhost:8080/"
        },
        "id": "GCQuoG5vxQAF",
        "outputId": "28cecd0d-f9c0-4e93-daee-66786719b9e8"
      },
      "execution_count": null,
      "outputs": [
        {
          "output_type": "stream",
          "name": "stdout",
          "text": [
            "False\n",
            "False\n"
          ]
        }
      ]
    },
    {
      "cell_type": "code",
      "source": [
        "# Python program explaining\n",
        "# numpy.equal() function\n",
        " \n",
        "import numpy as np\n",
        " \n",
        "# comparing a string elementwise\n",
        "# using equal() method\n",
        "a=np.char.equal('geeks','for')\n",
        " \n",
        "print(a)"
      ],
      "metadata": {
        "colab": {
          "base_uri": "https://localhost:8080/"
        },
        "id": "BPtrax5BxTAq",
        "outputId": "10ca96a0-6ab6-4968-9857-dd15083bdcc2"
      },
      "execution_count": null,
      "outputs": [
        {
          "output_type": "stream",
          "name": "stdout",
          "text": [
            "False\n"
          ]
        }
      ]
    },
    {
      "cell_type": "code",
      "source": [
        "# Python program explaining\n",
        "# numpy.greater() function\n",
        " \n",
        "import numpy as np\n",
        " \n",
        "# comparing a string elementwise\n",
        "# using greater() method\n",
        "a=np.char.greater('geeks','for')\n",
        " \n",
        "print(a)"
      ],
      "metadata": {
        "colab": {
          "base_uri": "https://localhost:8080/"
        },
        "id": "BOZ289iDxa5t",
        "outputId": "69454808-354d-494a-9d90-1643ac9161b1"
      },
      "execution_count": null,
      "outputs": [
        {
          "output_type": "stream",
          "name": "stdout",
          "text": [
            "True\n"
          ]
        }
      ]
    },
    {
      "cell_type": "code",
      "source": [
        "# Importing numpy as np\n",
        "import numpy as np\n",
        " \n",
        "A = np.array([[6, 1, 1],\n",
        "              [4, -2, 5],\n",
        "              [2, 8, 7]])\n",
        " \n",
        "# Rank of a matrix\n",
        "print(\"Rank of A:\", np.linalg.matrix_rank(A))\n",
        " \n",
        "# Trace of matrix A\n",
        "print(\"\\nTrace of A:\", np.trace(A))\n",
        " \n",
        "# Determinant of a matrix\n",
        "print(\"\\nDeterminant of A:\", np.linalg.det(A))\n",
        " \n",
        "# Inverse of matrix A\n",
        "print(\"\\nInverse of A:\\n\", np.linalg.inv(A))\n",
        " \n",
        "print(\"\\nMatrix A raised to power 3:\\n\",\n",
        "           np.linalg.matrix_power(A, 3))"
      ],
      "metadata": {
        "colab": {
          "base_uri": "https://localhost:8080/"
        },
        "id": "FdjsSBNixost",
        "outputId": "92be441a-a7e5-4f9f-f320-2dad3686431c"
      },
      "execution_count": null,
      "outputs": [
        {
          "output_type": "stream",
          "name": "stdout",
          "text": [
            "Rank of A: 3\n",
            "\n",
            "Trace of A: 11\n",
            "\n",
            "Determinant of A: -306.0\n",
            "\n",
            "Inverse of A:\n",
            " [[ 0.17647059 -0.00326797 -0.02287582]\n",
            " [ 0.05882353 -0.13071895  0.08496732]\n",
            " [-0.11764706  0.1503268   0.05228758]]\n",
            "\n",
            "Matrix A raised to power 3:\n",
            " [[336 162 228]\n",
            " [406 162 469]\n",
            " [698 702 905]]\n"
          ]
        }
      ]
    },
    {
      "cell_type": "code",
      "source": [
        "# Python program explaining\n",
        "# eigh() function\n",
        " \n",
        "from numpy import linalg as geek\n",
        " \n",
        "# Creating an array using array \n",
        "# function\n",
        "a = np.array([[1, -2j], [2j, 5]])\n",
        " \n",
        "print(\"Array is :\",a)\n",
        " \n",
        "# calculating an eigen value\n",
        "# using eigh() function\n",
        "c, d = geek.eigh(a)\n",
        " \n",
        "print(\"Eigen value is :\", c)\n",
        "print(\"Eigen value is :\", d)"
      ],
      "metadata": {
        "colab": {
          "base_uri": "https://localhost:8080/"
        },
        "id": "pIdyNu7fxrwU",
        "outputId": "dcc3fff5-c67e-454d-d7ae-4cc00d8b0cc7"
      },
      "execution_count": null,
      "outputs": [
        {
          "output_type": "stream",
          "name": "stdout",
          "text": [
            "Array is : [[ 1.+0.j -0.-2.j]\n",
            " [ 0.+2.j  5.+0.j]]\n",
            "Eigen value is : [0.17157288 5.82842712]\n",
            "Eigen value is : [[-0.92387953+0.j         -0.38268343+0.j        ]\n",
            " [ 0.        +0.38268343j  0.        -0.92387953j]]\n"
          ]
        }
      ]
    },
    {
      "cell_type": "code",
      "source": [
        "# Python program explaining\n",
        "# eig() function\n",
        " \n",
        "from numpy import linalg as geek\n",
        " \n",
        "# Creating an array using diag \n",
        "# function\n",
        "a = np.diag((1, 2, 3))\n",
        " \n",
        "print(\"Array is :\",a)\n",
        " \n",
        "# calculating an eigen value\n",
        "# using eig() function\n",
        "c, d = geek.eig(a)\n",
        " \n",
        "print(\"Eigen value is :\",c)\n",
        "print(\"Eigen value is :\",d)"
      ],
      "metadata": {
        "colab": {
          "base_uri": "https://localhost:8080/"
        },
        "id": "Pu6p0LCBxuXm",
        "outputId": "b9a57f7c-8cf1-4422-e9d9-842e06354f45"
      },
      "execution_count": null,
      "outputs": [
        {
          "output_type": "stream",
          "name": "stdout",
          "text": [
            "Array is : [[1 0 0]\n",
            " [0 2 0]\n",
            " [0 0 3]]\n",
            "Eigen value is : [1. 2. 3.]\n",
            "Eigen value is : [[1. 0. 0.]\n",
            " [0. 1. 0.]\n",
            " [0. 0. 1.]]\n"
          ]
        }
      ]
    },
    {
      "cell_type": "code",
      "source": [
        "# Python Program illustrating\n",
        "# numpy.dot() method\n",
        " \n",
        "import numpy as geek\n",
        " \n",
        "# Scalars\n",
        "product = geek.dot(5, 4)\n",
        "print(\"Dot Product of scalar values  : \", product)\n",
        " \n",
        "# 1D array\n",
        "vector_a = 2 + 3j\n",
        "vector_b = 4 + 5j\n",
        " \n",
        "product = geek.dot(vector_a, vector_b)\n",
        "print(\"Dot Product  : \", product)\n"
      ],
      "metadata": {
        "colab": {
          "base_uri": "https://localhost:8080/"
        },
        "id": "kywkNmZAxxUg",
        "outputId": "4b0d509b-bded-4a00-9192-61ca37f2af57"
      },
      "execution_count": null,
      "outputs": [
        {
          "output_type": "stream",
          "name": "stdout",
          "text": [
            "Dot Product of scalar values  :  20\n",
            "Dot Product  :  (-7+22j)\n"
          ]
        }
      ]
    },
    {
      "cell_type": "code",
      "source": [
        "def linearsearch(arr , n ,x):\n",
        "    for i in range(0,n):\n",
        "        if (arr[i]==x):\n",
        "           return i\n",
        "        \n",
        "    return -1\n",
        "\n",
        "arr = [1,2,3,4,56,6]\n",
        "x = 56\n",
        "n = len(arr)\n",
        "result = linearsearch(arr,n,x)\n",
        "if (result == -1):\n",
        "  print(\"element bnot found\")\n",
        "else:\n",
        "  print(\"the index of element is:\", result)  \n"
      ],
      "metadata": {
        "colab": {
          "base_uri": "https://localhost:8080/"
        },
        "id": "SK9M4p_0vlXs",
        "outputId": "932e8822-b236-408e-b25b-b96f91273bc8"
      },
      "execution_count": null,
      "outputs": [
        {
          "output_type": "stream",
          "name": "stdout",
          "text": [
            "the index of element is: 4\n"
          ]
        }
      ]
    },
    {
      "cell_type": "code",
      "source": [
        "def binarysearch(arr,item,beg,end):\n",
        "     if beg<=end:\n",
        "        mid = (beg+end)//2\n",
        "        if (item==arr[mid]):\n",
        "           return mid\n",
        "        elif arr[mid]>item:\n",
        "            print(arr[mid])\n",
        "            return binarysearch(arr,item,beg,mid-1)\n",
        "        else:\n",
        "            return binarysearch(arr,item,mid+1,end)          \n",
        "     return -1      \n",
        "\n",
        "arr = [i for  i in range(1,100)]\n",
        "item = 12\n",
        "beg = 1\n",
        "end = len(arr)             \n",
        "binarysearch(arr,item,beg,end)"
      ],
      "metadata": {
        "colab": {
          "base_uri": "https://localhost:8080/"
        },
        "id": "kuODMu9PwMLm",
        "outputId": "fd92388e-2605-4d4f-e109-bb87c035bdef"
      },
      "execution_count": null,
      "outputs": [
        {
          "output_type": "stream",
          "name": "stdout",
          "text": [
            "51\n",
            "26\n",
            "13\n"
          ]
        },
        {
          "output_type": "execute_result",
          "data": {
            "text/plain": [
              "11"
            ]
          },
          "metadata": {},
          "execution_count": 33
        }
      ]
    },
    {
      "cell_type": "code",
      "source": [
        "import pandas as pd\n",
        "nums = [3,4,66,8,2,7,8,2,2,1,56]\n",
        "def containsDuplicate(self, nums):\n",
        "        \"\"\"\n",
        "        :type nums: List[int]\n",
        "        :rtype: bool\n",
        "        \"\"\"\n",
        "        d = {}\n",
        "        for i in range(0,len(nums)):\n",
        "            if nums[i] in d:\n",
        "                d[nums[i]] += 1\n",
        "                if d[nums[i]] >= 2:\n",
        "                    return True\n",
        "            else:\n",
        "                d[nums[i]] = 1\n",
        "        return False\n",
        "       "
      ],
      "metadata": {
        "id": "Y51PFA-r2AOn"
      },
      "execution_count": null,
      "outputs": []
    },
    {
      "cell_type": "code",
      "source": [
        "# Importing numpy as np\n",
        "import numpy as np\n",
        " \n",
        "A = np.array([[6, 1, 1],\n",
        "              [4, -2, 5],\n",
        "              [2, 8, 7]])\n",
        " \n",
        "# Rank of a matrix\n",
        "print(\"Rank of A:\", np.linalg.matrix_rank(A))\n",
        " \n",
        "# Trace of matrix A\n",
        "print(\"\\nTrace of A:\", np.trace(A))\n",
        " \n",
        "# Determinant of a matrix\n",
        "print(\"\\nDeterminant of A:\", np.linalg.det(A))\n",
        " \n",
        "# Inverse of matrix A\n",
        "print(\"\\nInverse of A:\\n\", np.linalg.inv(A))\n",
        " \n",
        "print(\"\\nMatrix A raised to power 3:\\n\",\n",
        "           np.linalg.matrix_power(A, 3))"
      ],
      "metadata": {
        "colab": {
          "base_uri": "https://localhost:8080/"
        },
        "id": "_gOAof0KHZBr",
        "outputId": "7e52951d-5589-47d2-c334-2cab14cc407f"
      },
      "execution_count": null,
      "outputs": [
        {
          "output_type": "stream",
          "name": "stdout",
          "text": [
            "Rank of A: 3\n",
            "\n",
            "Trace of A: 11\n",
            "\n",
            "Determinant of A: -306.0\n",
            "\n",
            "Inverse of A:\n",
            " [[ 0.17647059 -0.00326797 -0.02287582]\n",
            " [ 0.05882353 -0.13071895  0.08496732]\n",
            " [-0.11764706  0.1503268   0.05228758]]\n",
            "\n",
            "Matrix A raised to power 3:\n",
            " [[336 162 228]\n",
            " [406 162 469]\n",
            " [698 702 905]]\n"
          ]
        }
      ]
    },
    {
      "cell_type": "code",
      "source": [
        "from numpy import linalg as geek\n",
        " \n",
        "# Creating an array using array \n",
        "# function\n",
        "a = np.array([[1, -2j], [2j, 5]])\n",
        " \n",
        "print(\"Array is :\",a)\n",
        " \n",
        "# calculating an eigen value\n",
        "# using eigh() function\n",
        "c, d = geek.eigh(a)\n",
        " \n",
        "print(\"Eigen value is :\", c)\n",
        "print(\"Eigen value is :\", d)"
      ],
      "metadata": {
        "colab": {
          "base_uri": "https://localhost:8080/"
        },
        "id": "oGRPuEIhq4TQ",
        "outputId": "42f69739-e466-4e8c-a2bc-a005ed2bf642"
      },
      "execution_count": null,
      "outputs": [
        {
          "output_type": "stream",
          "name": "stdout",
          "text": [
            "Array is : [[ 1.+0.j -0.-2.j]\n",
            " [ 0.+2.j  5.+0.j]]\n",
            "Eigen value is : [0.17157288 5.82842712]\n",
            "Eigen value is : [[-0.92387953+0.j         -0.38268343+0.j        ]\n",
            " [ 0.        +0.38268343j  0.        -0.92387953j]]\n"
          ]
        }
      ]
    },
    {
      "cell_type": "code",
      "source": [
        "import numpy as np\n",
        " \n",
        "# Scalars\n",
        "product = np.dot(5, 4)\n",
        "print(\"Dot Product of scalar values  : \", product)\n",
        " \n",
        "# 1D array\n",
        "vector_a = 2 + 3j\n",
        "vector_b = 4 + 5j\n",
        " \n",
        "product = np.dot(vector_a, vector_b)\n",
        "print(\"Dot Product  : \", product)"
      ],
      "metadata": {
        "colab": {
          "base_uri": "https://localhost:8080/"
        },
        "id": "ol2j59y6rAcV",
        "outputId": "9733ac7c-27a9-45af-ca0c-68bb7544d264"
      },
      "execution_count": null,
      "outputs": [
        {
          "output_type": "stream",
          "name": "stdout",
          "text": [
            "Dot Product of scalar values  :  20\n",
            "Dot Product  :  (-7+22j)\n"
          ]
        }
      ]
    },
    {
      "cell_type": "code",
      "source": [
        "import numpy as np\n",
        " \n",
        "# 1D array\n",
        "vector_a = 2 + 3j\n",
        "vector_b = 4 + 5j\n",
        " \n",
        "product = np.vdot(vector_a, vector_b)\n",
        "print(\"Dot Product  : \", product)"
      ],
      "metadata": {
        "colab": {
          "base_uri": "https://localhost:8080/"
        },
        "id": "e_kTXrY-rGcL",
        "outputId": "3710292c-ec82-4218-d933-141cbed7e54a"
      },
      "execution_count": null,
      "outputs": [
        {
          "output_type": "stream",
          "name": "stdout",
          "text": [
            "Dot Product  :  (23-2j)\n"
          ]
        }
      ]
    },
    {
      "cell_type": "code",
      "source": [
        "# Python Program illustrating\n",
        "# numpy.linalg.solve() method\n",
        " \n",
        "import numpy as np\n",
        " \n",
        "# Creating an array using array\n",
        "# function\n",
        "a = np.array([[1, 2], [3, 4]])\n",
        " \n",
        "# Creating an array using array\n",
        "# function\n",
        "b = np.array([8, 18])\n",
        " \n",
        "print((\"Solution of linear equations:\", \n",
        "      np.linalg.solve(a, b)))"
      ],
      "metadata": {
        "colab": {
          "base_uri": "https://localhost:8080/"
        },
        "id": "fmsm37cgrMDH",
        "outputId": "374f8cc7-6bb4-46e8-82e3-07e635c78be9"
      },
      "execution_count": null,
      "outputs": [
        {
          "output_type": "stream",
          "name": "stdout",
          "text": [
            "('Solution of linear equations:', array([2., 3.]))\n"
          ]
        }
      ]
    },
    {
      "cell_type": "code",
      "source": [
        "import numpy as np\n",
        "import matplotlib.pyplot as plt\n",
        " \n",
        "# x co-ordinates\n",
        "x = np.arange(0, 9)\n",
        "A = np.array([x, np.ones(9)])\n",
        " \n",
        "# linearly generated sequence\n",
        "y = [19, 20, 20.5, 21.5, 22, 23, 23, 25.5, 24]\n",
        "# obtaining the parameters of regression line\n",
        "w = np.linalg.lstsq(A.T, y)[0] \n",
        " \n",
        "# plotting the line\n",
        "line = w[0]*x + w[1] # regression line\n",
        "plt.plot(x, line, 'r-')\n",
        "plt.plot(x, y, 'o')\n",
        "plt.show()"
      ],
      "metadata": {
        "colab": {
          "base_uri": "https://localhost:8080/",
          "height": 340
        },
        "id": "i9s2GXYWrTmM",
        "outputId": "2b5210dc-503a-4ecb-9ab8-e72c87a29284"
      },
      "execution_count": null,
      "outputs": [
        {
          "output_type": "stream",
          "name": "stderr",
          "text": [
            "/usr/local/lib/python3.7/dist-packages/ipykernel_launcher.py:11: FutureWarning: `rcond` parameter will change to the default of machine precision times ``max(M, N)`` where M and N are the input matrix dimensions.\n",
            "To use the future default and silence this warning we advise to pass `rcond=None`, to keep using the old, explicitly pass `rcond=-1`.\n",
            "  # This is added back by InteractiveShellApp.init_path()\n"
          ]
        },
        {
          "output_type": "display_data",
          "data": {
            "text/plain": [
              "<Figure size 432x288 with 1 Axes>"
            ],
            "image/png": "[encoded data removed]"
          },
          "metadata": {
            "needs_background": "light"
          }
        }
      ]
    },
    {
      "cell_type": "code",
      "source": [
        "my = 'shedhjdj ajfj ife doqwod '\n",
        "my.upper()"
      ],
      "metadata": {
        "colab": {
          "base_uri": "https://localhost:8080/",
          "height": 36
        },
        "id": "60tQ19uR3XFq",
        "outputId": "be4fb6bd-24b0-402b-8712-b6bfccd62ec4"
      },
      "execution_count": null,
      "outputs": [
        {
          "output_type": "execute_result",
          "data": {
            "text/plain": [
              "'SHEDHJDJ AJFJ IFE DOQWOD '"
            ],
            "application/vnd.google.colaboratory.intrinsic+json": {
              "type": "string"
            }
          },
          "metadata": {},
          "execution_count": 2
        }
      ]
    },
    {
      "cell_type": "code",
      "source": [
        "# importing libraries\n",
        "import numpy as np\n",
        " \n",
        "# sort along the first axis\n",
        "a = np.array([[12, 15],\n",
        "              [10, 1],\n",
        "              [4, 5],\n",
        "              [10,16]])\n",
        "arr1 = np.sort(a, axis = 0)        \n",
        "print (\"Along first axis : \\n\", arr1)        \n",
        " \n",
        " \n",
        "# sort along the last axis\n",
        "a = np.array([[10, 15], [12, 1]])\n",
        "arr2 = np.sort(a, axis = -1)        \n",
        "print (\"\\nAlong first axis : \\n\", arr2)\n",
        " \n",
        " \n",
        "a = np.array([[12, 15], [10, 1]])\n",
        "arr1 = np.sort(a, axis = None)        \n",
        "print (\"\\nAlong none axis : \\n\", arr1)"
      ],
      "metadata": {
        "colab": {
          "base_uri": "https://localhost:8080/"
        },
        "id": "h18wi-rfGink",
        "outputId": "8a578470-78b0-4860-d4b3-ce06318a40d9"
      },
      "execution_count": null,
      "outputs": [
        {
          "output_type": "stream",
          "name": "stdout",
          "text": [
            "Along first axis : \n",
            " [[ 4  1]\n",
            " [10  5]\n",
            " [10 15]\n",
            " [12 16]]\n",
            "\n",
            "Along first axis : \n",
            " [[10 15]\n",
            " [ 1 12]]\n",
            "\n",
            "Along none axis : \n",
            " [ 1 10 12 15]\n"
          ]
        }
      ]
    },
    {
      "cell_type": "code",
      "source": [
        "import numpy as np\n",
        "#let the array be\n",
        "a = [3,6,9,3,2,56,4,7]\n",
        "print(\"the original array is :\",a)\n",
        "b = np.argsort(a)\n",
        "print(\"the sorted indices of array is\", b)\n",
        "c = np.zeros(len(b),dtype = int)\n",
        "print(\"the zero array is\", c)\n",
        "d = []\n",
        "for i in range(len(b)):\n",
        "    d.append(a[b[i]])\n",
        "print(d)    "
      ],
      "metadata": {
        "colab": {
          "base_uri": "https://localhost:8080/"
        },
        "id": "pvTtV-pTHTia",
        "outputId": "9cb1a29b-5adf-4eb6-98a5-261a9a92e1d0"
      },
      "execution_count": null,
      "outputs": [
        {
          "output_type": "stream",
          "name": "stdout",
          "text": [
            "the original array is : [3, 6, 9, 3, 2, 56, 4, 7]\n",
            "the sorted indices of array is [4 0 3 6 1 7 2 5]\n",
            "the zero array is [0 0 0 0 0 0 0 0]\n",
            "[2, 3, 3, 4, 6, 7, 9, 56]\n"
          ]
        }
      ]
    },
    {
      "cell_type": "code",
      "source": [
        "# Python code to demonstrate working of \n",
        "# numpy.lexsort()\n",
        "import numpy as np\n",
        " \n",
        "# Numpy array created\n",
        "# First column\n",
        "a = np.array([9, 3, 1, 3, 4, 3, 6])\n",
        " \n",
        "# Second column \n",
        "b = np.array([4, 6, 9, 2, 1, 8, 7]) \n",
        "print('column a, column b')\n",
        "for (i, j) in zip(a, b):\n",
        "    print(i, ' ', j)\n",
        " \n",
        "# Sort by a then by b\n",
        "ind = np.lexsort((b, a)) \n",
        "print('Sorted indices->', ind)"
      ],
      "metadata": {
        "colab": {
          "base_uri": "https://localhost:8080/"
        },
        "id": "ojTVyNNxKERQ",
        "outputId": "a847ae87-f90a-46cf-bc20-426b65943dbd"
      },
      "execution_count": null,
      "outputs": [
        {
          "output_type": "stream",
          "name": "stdout",
          "text": [
            "column a, column b\n",
            "9   4\n",
            "3   6\n",
            "1   9\n",
            "3   2\n",
            "4   1\n",
            "3   8\n",
            "6   7\n",
            "Sorted indices-> [2 3 1 5 4 6 0]\n"
          ]
        }
      ]
    },
    {
      "cell_type": "code",
      "source": [
        "import numpy as np\n",
        "a = np.arange(12).reshape(3,4)\n",
        "print(\"the array is\")\n",
        "print(a)\n",
        "\n",
        "# No axis mentioned, so works on entire array\n",
        "print(\"\\nMax element : \", np.argmax(a))\n",
        "\n",
        "# returning Indices of the max element\n",
        "# as per the indices\n",
        "print((\"\\nIndices of Max element : \"\n",
        "      , np.argmax(a, axis=0)))\n",
        "print((\"\\nIndices of Max element : \"\n",
        "      , np.argmax(a, axis=1)))"
      ],
      "metadata": {
        "colab": {
          "base_uri": "https://localhost:8080/"
        },
        "id": "VJKgWsSAKbZg",
        "outputId": "b95d7101-2df0-438f-e532-b25efcbf0ff4"
      },
      "execution_count": null,
      "outputs": [
        {
          "output_type": "stream",
          "name": "stdout",
          "text": [
            "the array is\n",
            "[[ 0  1  2  3]\n",
            " [ 4  5  6  7]\n",
            " [ 8  9 10 11]]\n",
            "\n",
            "Max element :  11\n",
            "('\\nIndices of Max element : ', array([2, 2, 2, 2]))\n",
            "('\\nIndices of Max element : ', array([3, 3, 3]))\n"
          ]
        }
      ]
    },
    {
      "cell_type": "code",
      "source": [
        " \n",
        "import numpy as geek \n",
        " \n",
        "# Working on 1D array\n",
        "array = [geek.nan, 4, 2, 3, 1]\n",
        "print(\"INPUT ARRAY 1 : \\n\", array)\n",
        " \n",
        "array2 = geek.array([[geek.nan, 4], [1, 3]])\n",
        " \n",
        "# returning Indices of the max element\n",
        "# as per the indices ingnoring NaN\n",
        "print((\"\\nIndices of max in array1 : \"\n",
        "       , geek.nanargmax(array)))\n",
        " \n",
        "# Working on 2D array\n",
        "print(\"\\nINPUT ARRAY 2 : \\n\", array2)\n",
        "print((\"\\nIndices of max in array2 : \"\n",
        "      , geek.nanargmax(array2)))\n",
        " \n",
        "print((\"\\nIndices at axis 1 of array2 : \"\n",
        "      , geek.nanargmax(array2, axis = 1)))"
      ],
      "metadata": {
        "colab": {
          "base_uri": "https://localhost:8080/"
        },
        "id": "DXhEue3ZLqAP",
        "outputId": "92378470-e4b5-436e-b03a-f3f977cb6712"
      },
      "execution_count": null,
      "outputs": [
        {
          "output_type": "stream",
          "name": "stdout",
          "text": [
            "INPUT ARRAY 1 : \n",
            " [nan, 4, 2, 3, 1]\n",
            "('\\nIndices of max in array1 : ', 1)\n",
            "\n",
            "INPUT ARRAY 2 : \n",
            " [[nan  4.]\n",
            " [ 1.  3.]]\n",
            "('\\nIndices of max in array2 : ', 1)\n",
            "('\\nIndices at axis 1 of array2 : ', array([1, 1]))\n"
          ]
        }
      ]
    },
    {
      "cell_type": "code",
      "source": [
        "\n",
        "import numpy as geek \n",
        " \n",
        "# Working on 1D array\n",
        "array = geek.arange(8)\n",
        "print(\"INPUT ARRAY : \\n\", array)\n",
        " \n",
        " \n",
        "# returning Indices of the min element\n",
        "# as per the indices\n",
        "print(\"\\nIndices of min element : \", geek.argmin(array, axis=0))"
      ],
      "metadata": {
        "colab": {
          "base_uri": "https://localhost:8080/"
        },
        "id": "4Sk1yFmTL5Fj",
        "outputId": "3e5794d6-ee38-4ab1-c474-fd9ef3b33edf"
      },
      "execution_count": null,
      "outputs": [
        {
          "output_type": "stream",
          "name": "stdout",
          "text": [
            "INPUT ARRAY : \n",
            " [0 1 2 3 4 5 6 7]\n",
            "\n",
            "Indices of min element :  0\n"
          ]
        }
      ]
    },
    {
      "cell_type": "code",
      "source": [
        "import numpy as np\n",
        "  \n",
        "# Counting a number of \n",
        "# non-zero values\n",
        "a = np.count_nonzero([[0,1,7,0,0],[3,0,0,2,19]])\n",
        "b = np.count_nonzero(([[0,1,7,0,0],[3,0,0,2,19]]\n",
        "                     ))\n",
        " \n",
        "print(\"Number of nonzero values is :\",a)\n",
        "print(\"Number of nonzero values is :\",b)"
      ],
      "metadata": {
        "colab": {
          "base_uri": "https://localhost:8080/"
        },
        "id": "PXGiGmdFMGtY",
        "outputId": "1ce2a1fe-be8b-414f-b3e6-8d109f26cb64"
      },
      "execution_count": null,
      "outputs": [
        {
          "output_type": "stream",
          "name": "stdout",
          "text": [
            "Number of nonzero values is : 5\n",
            "Number of nonzero values is : 5\n"
          ]
        }
      ]
    },
    {
      "cell_type": "code",
      "source": [
        "def binarysearch(arr,low,high,key):\n",
        "    mid = (low+high)//2\n",
        "    print(mid)\n",
        "    if key == mid:\n",
        "       return True\n",
        "    elif key < mid:\n",
        "        binarysearch(arr,low,mid-1,key)\n",
        "        \n",
        "    elif key > mid:\n",
        "        binarysearch(arr,mid+1,high,key)\n",
        "    "
      ],
      "metadata": {
        "id": "IaDgad_HU68f"
      },
      "execution_count": null,
      "outputs": []
    },
    {
      "cell_type": "code",
      "source": [
        "# importing libraries\n",
        "import numpy as np\n",
        " \n",
        "# sort along the first axis\n",
        "a = np.array([[12, 15], [10, 1]])\n",
        "arr1 = np.sort(a, axis = 0)        \n",
        "print (\"Along first axis : \\n\", arr1)        \n",
        " \n",
        " \n",
        "# sort along the last axis\n",
        "a = np.array([[10, 15], [12, 1]])\n",
        "arr2 = np.sort(a, axis = -1)        \n",
        "print (\"\\nAlong first axis : \\n\", arr2)\n",
        " \n",
        " \n",
        "a = np.array([[12, 15], [10, 1]])\n",
        "arr1 = np.sort(a, axis = None)        \n",
        "print (\"\\nAlong none axis : \\n\", arr1)"
      ],
      "metadata": {
        "colab": {
          "base_uri": "https://localhost:8080/"
        },
        "id": "UK8d_8r8XLj0",
        "outputId": "2fbb8f04-8da9-48f9-b35f-1a0d2822c8c5"
      },
      "execution_count": null,
      "outputs": [
        {
          "output_type": "stream",
          "name": "stdout",
          "text": [
            "Along first axis : \n",
            " [[10  1]\n",
            " [12 15]]\n",
            "\n",
            "Along first axis : \n",
            " [[10 15]\n",
            " [ 1 12]]\n",
            "\n",
            "Along none axis : \n",
            " [ 1 10 12 15]\n"
          ]
        }
      ]
    },
    {
      "cell_type": "code",
      "source": [
        "arr = [1,2,3,4,5,6,7,8]\n",
        "low = 1\n",
        "high = 8\n",
        "key = 5\n",
        "binarysearch(arr,low,high,key)"
      ],
      "metadata": {
        "colab": {
          "base_uri": "https://localhost:8080/"
        },
        "id": "jfZoDhLnWMas",
        "outputId": "9d57565a-8e06-4c73-d57a-769a4dda18df"
      },
      "execution_count": null,
      "outputs": [
        {
          "output_type": "stream",
          "name": "stdout",
          "text": [
            "4\n",
            "6\n",
            "5\n"
          ]
        }
      ]
    },
    {
      "cell_type": "code",
      "source": [
        "import numpy as np\n",
        " \n",
        "# Numpy array created\n",
        "a = np.array([9, 3, 1, 7, 4, 3, 6])\n",
        " \n",
        "# unsorted array print\n",
        "print('Original array:\\n', a)\n",
        " \n",
        "# Sort array indices\n",
        "b = np.argsort(a)\n",
        "print('Sorted indices of original array->', b)\n",
        " \n",
        "# To get sorted array using sorted indices\n",
        "# c is temp array created of same len as of b\n",
        "c = np.zeros(len(b), dtype = int)\n",
        "for i in range(0, len(b)):\n",
        "    c[i]= a[b[i]]\n",
        "print('Sorted array->', c)"
      ],
      "metadata": {
        "colab": {
          "base_uri": "https://localhost:8080/"
        },
        "id": "SHvtIEHzXQaJ",
        "outputId": "2e74550b-f144-497c-aec9-6ca91ad761f2"
      },
      "execution_count": null,
      "outputs": [
        {
          "output_type": "stream",
          "name": "stdout",
          "text": [
            "Original array:\n",
            " [9 3 1 7 4 3 6]\n",
            "Sorted indices of original array-> [2 1 5 4 6 3 0]\n",
            "Sorted array-> [1 3 3 4 6 7 9]\n"
          ]
        }
      ]
    },
    {
      "cell_type": "code",
      "source": [
        "import numpy as np\n",
        " \n",
        "# Numpy array created\n",
        "# First column\n",
        "a = np.array([9, 3, 1, 3, 4, 3, 6])\n",
        " \n",
        "# Second column \n",
        "b = np.array([4, 6, 9, 2, 1, 8, 7]) \n",
        "print('column a, column b')\n",
        "for (i, j) in zip(a, b):\n",
        "    print(i, ' ', j)\n",
        " \n",
        "# Sort by a then by b\n",
        "ind = np.lexsort((b, a)) \n",
        "print('Sorted indices->', ind)"
      ],
      "metadata": {
        "colab": {
          "base_uri": "https://localhost:8080/"
        },
        "id": "DWWHR4lZXTT9",
        "outputId": "ef59c51a-d1a8-45af-b5ce-ff472441e796"
      },
      "execution_count": null,
      "outputs": [
        {
          "output_type": "stream",
          "name": "stdout",
          "text": [
            "column a, column b\n",
            "9   4\n",
            "3   6\n",
            "1   9\n",
            "3   2\n",
            "4   1\n",
            "3   8\n",
            "6   7\n",
            "Sorted indices-> [2 3 1 5 4 6 0]\n"
          ]
        }
      ]
    },
    {
      "cell_type": "code",
      "source": [
        "import numpy as geek \n",
        " \n",
        "# Working on 2D array\n",
        "array = geek.arange(12).reshape(3, 4)\n",
        "print(\"INPUT ARRAY : \\n\", array)\n",
        " \n",
        "# No axis mentioned, so works on entire array\n",
        "print(\"\\nMax element : \", geek.argmax(array))\n",
        " \n",
        "# returning Indices of the max element\n",
        "# as per the indices\n",
        "print((\"\\nIndices of Max element : \"\n",
        "      , geek.argmax(array, axis=0)))\n",
        "print((\"\\nIndices of Max element : \"\n",
        "      , geek.argmax(array, axis=1)))"
      ],
      "metadata": {
        "colab": {
          "base_uri": "https://localhost:8080/"
        },
        "id": "bmoH3f8KXV2d",
        "outputId": "2fb4407c-d090-48d6-b484-a7e8fc480a10"
      },
      "execution_count": null,
      "outputs": [
        {
          "output_type": "stream",
          "name": "stdout",
          "text": [
            "INPUT ARRAY : \n",
            " [[ 0  1  2  3]\n",
            " [ 4  5  6  7]\n",
            " [ 8  9 10 11]]\n",
            "\n",
            "Max element :  11\n",
            "('\\nIndices of Max element : ', array([2, 2, 2, 2]))\n",
            "('\\nIndices of Max element : ', array([3, 3, 3]))\n"
          ]
        }
      ]
    },
    {
      "cell_type": "code",
      "source": [
        "# Python Program illustrating\n",
        "# working of nanargmax()\n",
        " \n",
        "import numpy as geek \n",
        " \n",
        "# Working on 1D array\n",
        "array = [geek.nan, 4, 2, 3, 1]\n",
        "print(\"INPUT ARRAY 1 : \\n\", array)\n",
        " \n",
        "array2 = geek.array([[geek.nan, 4], [1, 3]])\n",
        " \n",
        "# returning Indices of the max element\n",
        "# as per the indices ingnoring NaN\n",
        "print((\"\\nIndices of max in array1 : \"\n",
        "       , geek.nanargmax(array)))\n",
        " \n",
        "# Working on 2D array\n",
        "print(\"\\nINPUT ARRAY 2 : \\n\", array2)\n",
        "print((\"\\nIndices of max in array2 : \"\n",
        "      , geek.nanargmax(array2)))\n",
        " \n",
        "print((\"\\nIndices at axis 1 of array2 : \"\n",
        "      , geek.nanargmax(array2, axis = 1)))"
      ],
      "metadata": {
        "colab": {
          "base_uri": "https://localhost:8080/"
        },
        "id": "xZMvjdEQXYsW",
        "outputId": "61331c7f-670c-4eb2-a464-9c0627743d2c"
      },
      "execution_count": null,
      "outputs": [
        {
          "output_type": "stream",
          "name": "stdout",
          "text": [
            "INPUT ARRAY 1 : \n",
            " [nan, 4, 2, 3, 1]\n",
            "('\\nIndices of max in array1 : ', 1)\n",
            "\n",
            "INPUT ARRAY 2 : \n",
            " [[nan  4.]\n",
            " [ 1.  3.]]\n",
            "('\\nIndices of max in array2 : ', 1)\n",
            "('\\nIndices at axis 1 of array2 : ', array([1, 1]))\n"
          ]
        }
      ]
    },
    {
      "cell_type": "code",
      "source": [
        "import numpy as geek \n",
        " \n",
        "# Working on 1D array\n",
        "array = geek.arange(8)\n",
        "print(\"INPUT ARRAY : \\n\", array)\n",
        " \n",
        " \n",
        "# returning Indices of the min element\n",
        "# as per the indices\n",
        "print(\"\\nIndices of min element : \", geek.argmin(array, axis=0))"
      ],
      "metadata": {
        "colab": {
          "base_uri": "https://localhost:8080/"
        },
        "id": "yM870I6BXZTN",
        "outputId": "a544f9c7-8aa4-4c1a-c015-059664de81fb"
      },
      "execution_count": null,
      "outputs": [
        {
          "output_type": "stream",
          "name": "stdout",
          "text": [
            "INPUT ARRAY : \n",
            " [0 1 2 3 4 5 6 7]\n",
            "\n",
            "Indices of min element :  0\n"
          ]
        }
      ]
    },
    {
      "cell_type": "code",
      "source": [
        "# Python Program illustrating\n",
        "# working of count_nonzero()\n",
        " \n",
        "import numpy as np\n",
        "  \n",
        "# Counting a number of \n",
        "# non-zero values\n",
        "a = np.count_nonzero([[0,1,7,0,0],[3,0,0,2,19]])\n",
        "b = np.count_nonzero(([[0,1,7,0,0],[3,0,0,2,19]]))\n",
        "                     \n",
        " \n",
        "print(\"Number of nonzero values is :\",a)\n",
        "print(\"Number of nonzero values is :\",b)"
      ],
      "metadata": {
        "colab": {
          "base_uri": "https://localhost:8080/"
        },
        "id": "SPVbyHiEXemC",
        "outputId": "db6f743c-9816-46dd-c215-a6f4b3dec9df"
      },
      "execution_count": null,
      "outputs": [
        {
          "output_type": "stream",
          "name": "stdout",
          "text": [
            "Number of nonzero values is : 5\n",
            "Number of nonzero values is : 5\n"
          ]
        }
      ]
    },
    {
      "cell_type": "code",
      "source": [
        "# importing numpy\n",
        "import numpy as geek\n",
        "  \n",
        "# output array\n",
        "out_arr = geek.random.randint(low = 0, high = 3, size = 5)\n",
        "print (\"Output 1D Array filled with random integers : \", out_arr) "
      ],
      "metadata": {
        "colab": {
          "base_uri": "https://localhost:8080/"
        },
        "id": "N02rWTJfXsAX",
        "outputId": "222824a6-8896-4b56-9ac8-c96875fd8753"
      },
      "execution_count": null,
      "outputs": [
        {
          "output_type": "stream",
          "name": "stdout",
          "text": [
            "Output 1D Array filled with random integers :  [2 1 2 2 1]\n"
          ]
        }
      ]
    },
    {
      "cell_type": "code",
      "source": [
        "# import pandas as pd\n",
        "import pandas as pd\n",
        " \n",
        "# list of strings\n",
        "lst = ['Geeks', 'For', 'Geeks', 'is', \n",
        "            'portal', 'for', 'Geeks']\n",
        " \n",
        "# Calling DataFrame constructor on list\n",
        "df = pd.DataFrame(lst)\n",
        "print(df)"
      ],
      "metadata": {
        "colab": {
          "base_uri": "https://localhost:8080/"
        },
        "id": "rw5NYBQtBDsy",
        "outputId": "355ffa0e-1bd2-4011-f172-f0e78633cb9a"
      },
      "execution_count": null,
      "outputs": [
        {
          "output_type": "stream",
          "name": "stdout",
          "text": [
            "        0\n",
            "0   Geeks\n",
            "1     For\n",
            "2   Geeks\n",
            "3      is\n",
            "4  portal\n",
            "5     for\n",
            "6   Geeks\n"
          ]
        }
      ]
    },
    {
      "cell_type": "code",
      "source": [
        "import pandas as pd\n",
        " \n",
        "# intialise data of lists.\n",
        "data = {'Name':['Tom', 'nick', 'krish', 'jack'],\n",
        "        'Age':[20, 21, 19, 18]}\n",
        " \n",
        "# Create DataFrame\n",
        "df = pd.DataFrame(data)\n",
        " \n",
        "# Print the output.\n",
        "print(df)"
      ],
      "metadata": {
        "colab": {
          "base_uri": "https://localhost:8080/"
        },
        "id": "5QtWzfzeBGul",
        "outputId": "929bd254-9bff-43e4-ee74-7dc77233d08b"
      },
      "execution_count": null,
      "outputs": [
        {
          "output_type": "stream",
          "name": "stdout",
          "text": [
            "    Name  Age\n",
            "0    Tom   20\n",
            "1   nick   21\n",
            "2  krish   19\n",
            "3   jack   18\n"
          ]
        }
      ]
    },
    {
      "cell_type": "code",
      "source": [
        "import pandas as pd\n",
        " \n",
        "# Define a dictionary containing employee data\n",
        "data = {'Name':['Jai', 'Princi', 'Gaurav', 'Anuj'],\n",
        "        'Age':[27, 24, 22, 32],\n",
        "        'Address':['Delhi', 'Kanpur', 'Allahabad', 'Kannauj'],\n",
        "        'Qualification':['Msc', 'MA', 'MCA', 'Phd']}\n",
        " \n",
        "# Convert the dictionary into DataFrame \n",
        "df = pd.DataFrame(data)\n",
        " \n",
        "# select two columns\n",
        "print(df[['Name', 'Qualification']])"
      ],
      "metadata": {
        "colab": {
          "base_uri": "https://localhost:8080/"
        },
        "id": "lCgLKlG4BQaF",
        "outputId": "ecb18dd7-b55f-4039-a734-f91b4f8c81ef"
      },
      "execution_count": null,
      "outputs": [
        {
          "output_type": "stream",
          "name": "stdout",
          "text": [
            "     Name Qualification\n",
            "0     Jai           Msc\n",
            "1  Princi            MA\n",
            "2  Gaurav           MCA\n",
            "3    Anuj           Phd\n"
          ]
        }
      ]
    },
    {
      "cell_type": "code",
      "source": [
        "import pandas as pd\n",
        " \n",
        "# importing numpy as np\n",
        "import numpy as np\n",
        " \n",
        "# dictionary of lists\n",
        "dict = {'First Score':[100, 90, np.nan, 95],\n",
        "        'Second Score': [30, 45, 56, np.nan],\n",
        "        'Third Score':[np.nan, 40, 80, 98]}\n",
        " \n",
        "# creating a dataframe from list\n",
        "df = pd.DataFrame(dict)\n",
        " \n",
        "# using isnull() function  \n",
        "df.isnull()"
      ],
      "metadata": {
        "colab": {
          "base_uri": "https://localhost:8080/",
          "height": 175
        },
        "id": "7pouKi45B2ZW",
        "outputId": "99c5f7e3-99e0-4754-8d94-0c8810112163"
      },
      "execution_count": null,
      "outputs": [
        {
          "output_type": "execute_result",
          "data": {
            "text/plain": [
              "   First Score  Second Score  Third Score\n",
              "0        False         False         True\n",
              "1        False         False        False\n",
              "2         True         False        False\n",
              "3        False          True        False"
            ],
            "text/html": [
              "\n",
              "  <div id=\"df-c93334b3-52fe-4ce6-8dc5-da268015b1ae\">\n",
              "    <div class=\"colab-df-container\">\n",
              "      <div>\n",
              "<style scoped>\n",
              "    .dataframe tbody tr th:only-of-type {\n",
              "        vertical-align: middle;\n",
              "    }\n",
              "\n",
              "    .dataframe tbody tr th {\n",
              "        vertical-align: top;\n",
              "    }\n",
              "\n",
              "    .dataframe thead th {\n",
              "        text-align: right;\n",
              "    }\n",
              "</style>\n",
              "<table border=\"1\" class=\"dataframe\">\n",
              "  <thead>\n",
              "    <tr style=\"text-align: right;\">\n",
              "      <th></th>\n",
              "      <th>First Score</th>\n",
              "      <th>Second Score</th>\n",
              "      <th>Third Score</th>\n",
              "    </tr>\n",
              "  </thead>\n",
              "  <tbody>\n",
              "    <tr>\n",
              "      <th>0</th>\n",
              "      <td>False</td>\n",
              "      <td>False</td>\n",
              "      <td>True</td>\n",
              "    </tr>\n",
              "    <tr>\n",
              "      <th>1</th>\n",
              "      <td>False</td>\n",
              "      <td>False</td>\n",
              "      <td>False</td>\n",
              "    </tr>\n",
              "    <tr>\n",
              "      <th>2</th>\n",
              "      <td>True</td>\n",
              "      <td>False</td>\n",
              "      <td>False</td>\n",
              "    </tr>\n",
              "    <tr>\n",
              "      <th>3</th>\n",
              "      <td>False</td>\n",
              "      <td>True</td>\n",
              "      <td>False</td>\n",
              "    </tr>\n",
              "  </tbody>\n",
              "</table>\n",
              "</div>\n",
              "      <button class=\"colab-df-convert\" onclick=\"convertToInteractive('df-c93334b3-52fe-4ce6-8dc5-da268015b1ae')\"\n",
              "              title=\"Convert this dataframe to an interactive table.\"\n",
              "              style=\"display:none;\">\n",
              "        \n",
              "  <svg xmlns=\"http://www.w3.org/2000/svg\" height=\"24px\"viewBox=\"0 0 24 24\"\n",
              "       width=\"24px\">\n",
              "    <path d=\"M0 0h24v24H0V0z\" fill=\"none\"/>\n",
              "    <path d=\"M18.56 5.44l.94 2.06.94-2.06 2.06-.94-2.06-.94-.94-2.06-.94 2.06-2.06.94zm-11 1L8.5 8.5l.94-2.06 2.06-.94-2.06-.94L8.5 2.5l-.94 2.06-2.06.94zm10 10l.94 2.06.94-2.06 2.06-.94-2.06-.94-.94-2.06-.94 2.06-2.06.94z\"/><path d=\"M17.41 7.96l-1.37-1.37c-.4-.4-.92-.59-1.43-.59-.52 0-1.04.2-1.43.59L10.3 9.45l-7.72 7.72c-.78.78-.78 2.05 0 2.83L4 21.41c.39.39.9.59 1.41.59.51 0 1.02-.2 1.41-.59l7.78-7.78 2.81-2.81c.8-.78.8-2.07 0-2.86zM5.41 20L4 18.59l7.72-7.72 1.47 1.35L5.41 20z\"/>\n",
              "  </svg>\n",
              "      </button>\n",
              "      \n",
              "  <style>\n",
              "    .colab-df-container {\n",
              "      display:flex;\n",
              "      flex-wrap:wrap;\n",
              "      gap: 12px;\n",
              "    }\n",
              "\n",
              "    .colab-df-convert {\n",
              "      background-color: #E8F0FE;\n",
              "      border: none;\n",
              "      border-radius: 50%;\n",
              "      cursor: pointer;\n",
              "      display: none;\n",
              "      fill: #1967D2;\n",
              "      height: 32px;\n",
              "      padding: 0 0 0 0;\n",
              "      width: 32px;\n",
              "    }\n",
              "\n",
              "    .colab-df-convert:hover {\n",
              "      background-color: #E2EBFA;\n",
              "      box-shadow: 0px 1px 2px rgba(60, 64, 67, 0.3), 0px 1px 3px 1px rgba(60, 64, 67, 0.15);\n",
              "      fill: #174EA6;\n",
              "    }\n",
              "\n",
              "    [theme=dark] .colab-df-convert {\n",
              "      background-color: #3B4455;\n",
              "      fill: #D2E3FC;\n",
              "    }\n",
              "\n",
              "    [theme=dark] .colab-df-convert:hover {\n",
              "      background-color: #434B5C;\n",
              "      box-shadow: 0px 1px 3px 1px rgba(0, 0, 0, 0.15);\n",
              "      filter: drop-shadow(0px 1px 2px rgba(0, 0, 0, 0.3));\n",
              "      fill: #FFFFFF;\n",
              "    }\n",
              "  </style>\n",
              "\n",
              "      <script>\n",
              "        const buttonEl =\n",
              "          document.querySelector('#df-c93334b3-52fe-4ce6-8dc5-da268015b1ae button.colab-df-convert');\n",
              "        buttonEl.style.display =\n",
              "          google.colab.kernel.accessAllowed ? 'block' : 'none';\n",
              "\n",
              "        async function convertToInteractive(key) {\n",
              "          const element = document.querySelector('#df-c93334b3-52fe-4ce6-8dc5-da268015b1ae');\n",
              "          const dataTable =\n",
              "            await google.colab.kernel.invokeFunction('convertToInteractive',\n",
              "                                                     [key], {});\n",
              "          if (!dataTable) return;\n",
              "\n",
              "          const docLinkHtml = 'Like what you see? Visit the ' +\n",
              "            '<a target=\"_blank\" href=https://colab.research.google.com/notebooks/data_table.ipynb>data table notebook</a>'\n",
              "            + ' to learn more about interactive tables.';\n",
              "          element.innerHTML = '';\n",
              "          dataTable['output_type'] = 'display_data';\n",
              "          await google.colab.output.renderOutput(dataTable, element);\n",
              "          const docLink = document.createElement('div');\n",
              "          docLink.innerHTML = docLinkHtml;\n",
              "          element.appendChild(docLink);\n",
              "        }\n",
              "      </script>\n",
              "    </div>\n",
              "  </div>\n",
              "  "
            ]
          },
          "metadata": {},
          "execution_count": 4
        }
      ]
    },
    {
      "cell_type": "code",
      "source": [
        "import pandas as pd\n",
        " \n",
        "# importing numpy as np\n",
        "import numpy as np\n",
        " \n",
        "# dictionary of lists\n",
        "dict = {'First Score':[100, 90, np.nan, 95],\n",
        "        'Second Score': [30, 45, 56, np.nan],\n",
        "        'Third Score':[np.nan, 40, 80, 98]}\n",
        " \n",
        "# creating a dataframe from dictionary\n",
        "df = pd.DataFrame(dict)\n",
        " \n",
        "# filling missing value using fillna()  \n",
        "df.fillna(0)"
      ],
      "metadata": {
        "colab": {
          "base_uri": "https://localhost:8080/",
          "height": 175
        },
        "id": "zLDhOK41CEmy",
        "outputId": "bed209fd-2db4-4f3f-c287-e1719129a3f1"
      },
      "execution_count": null,
      "outputs": [
        {
          "output_type": "execute_result",
          "data": {
            "text/plain": [
              "   First Score  Second Score  Third Score\n",
              "0        100.0          30.0          0.0\n",
              "1         90.0          45.0         40.0\n",
              "2          0.0          56.0         80.0\n",
              "3         95.0           0.0         98.0"
            ],
            "text/html": [
              "\n",
              "  <div id=\"df-43ed4a38-13f0-4c68-b80e-960e7f9806fc\">\n",
              "    <div class=\"colab-df-container\">\n",
              "      <div>\n",
              "<style scoped>\n",
              "    .dataframe tbody tr th:only-of-type {\n",
              "        vertical-align: middle;\n",
              "    }\n",
              "\n",
              "    .dataframe tbody tr th {\n",
              "        vertical-align: top;\n",
              "    }\n",
              "\n",
              "    .dataframe thead th {\n",
              "        text-align: right;\n",
              "    }\n",
              "</style>\n",
              "<table border=\"1\" class=\"dataframe\">\n",
              "  <thead>\n",
              "    <tr style=\"text-align: right;\">\n",
              "      <th></th>\n",
              "      <th>First Score</th>\n",
              "      <th>Second Score</th>\n",
              "      <th>Third Score</th>\n",
              "    </tr>\n",
              "  </thead>\n",
              "  <tbody>\n",
              "    <tr>\n",
              "      <th>0</th>\n",
              "      <td>100.0</td>\n",
              "      <td>30.0</td>\n",
              "      <td>0.0</td>\n",
              "    </tr>\n",
              "    <tr>\n",
              "      <th>1</th>\n",
              "      <td>90.0</td>\n",
              "      <td>45.0</td>\n",
              "      <td>40.0</td>\n",
              "    </tr>\n",
              "    <tr>\n",
              "      <th>2</th>\n",
              "      <td>0.0</td>\n",
              "      <td>56.0</td>\n",
              "      <td>80.0</td>\n",
              "    </tr>\n",
              "    <tr>\n",
              "      <th>3</th>\n",
              "      <td>95.0</td>\n",
              "      <td>0.0</td>\n",
              "      <td>98.0</td>\n",
              "    </tr>\n",
              "  </tbody>\n",
              "</table>\n",
              "</div>\n",
              "      <button class=\"colab-df-convert\" onclick=\"convertToInteractive('df-43ed4a38-13f0-4c68-b80e-960e7f9806fc')\"\n",
              "              title=\"Convert this dataframe to an interactive table.\"\n",
              "              style=\"display:none;\">\n",
              "        \n",
              "  <svg xmlns=\"http://www.w3.org/2000/svg\" height=\"24px\"viewBox=\"0 0 24 24\"\n",
              "       width=\"24px\">\n",
              "    <path d=\"M0 0h24v24H0V0z\" fill=\"none\"/>\n",
              "    <path d=\"M18.56 5.44l.94 2.06.94-2.06 2.06-.94-2.06-.94-.94-2.06-.94 2.06-2.06.94zm-11 1L8.5 8.5l.94-2.06 2.06-.94-2.06-.94L8.5 2.5l-.94 2.06-2.06.94zm10 10l.94 2.06.94-2.06 2.06-.94-2.06-.94-.94-2.06-.94 2.06-2.06.94z\"/><path d=\"M17.41 7.96l-1.37-1.37c-.4-.4-.92-.59-1.43-.59-.52 0-1.04.2-1.43.59L10.3 9.45l-7.72 7.72c-.78.78-.78 2.05 0 2.83L4 21.41c.39.39.9.59 1.41.59.51 0 1.02-.2 1.41-.59l7.78-7.78 2.81-2.81c.8-.78.8-2.07 0-2.86zM5.41 20L4 18.59l7.72-7.72 1.47 1.35L5.41 20z\"/>\n",
              "  </svg>\n",
              "      </button>\n",
              "      \n",
              "  <style>\n",
              "    .colab-df-container {\n",
              "      display:flex;\n",
              "      flex-wrap:wrap;\n",
              "      gap: 12px;\n",
              "    }\n",
              "\n",
              "    .colab-df-convert {\n",
              "      background-color: #E8F0FE;\n",
              "      border: none;\n",
              "      border-radius: 50%;\n",
              "      cursor: pointer;\n",
              "      display: none;\n",
              "      fill: #1967D2;\n",
              "      height: 32px;\n",
              "      padding: 0 0 0 0;\n",
              "      width: 32px;\n",
              "    }\n",
              "\n",
              "    .colab-df-convert:hover {\n",
              "      background-color: #E2EBFA;\n",
              "      box-shadow: 0px 1px 2px rgba(60, 64, 67, 0.3), 0px 1px 3px 1px rgba(60, 64, 67, 0.15);\n",
              "      fill: #174EA6;\n",
              "    }\n",
              "\n",
              "    [theme=dark] .colab-df-convert {\n",
              "      background-color: #3B4455;\n",
              "      fill: #D2E3FC;\n",
              "    }\n",
              "\n",
              "    [theme=dark] .colab-df-convert:hover {\n",
              "      background-color: #434B5C;\n",
              "      box-shadow: 0px 1px 3px 1px rgba(0, 0, 0, 0.15);\n",
              "      filter: drop-shadow(0px 1px 2px rgba(0, 0, 0, 0.3));\n",
              "      fill: #FFFFFF;\n",
              "    }\n",
              "  </style>\n",
              "\n",
              "      <script>\n",
              "        const buttonEl =\n",
              "          document.querySelector('#df-43ed4a38-13f0-4c68-b80e-960e7f9806fc button.colab-df-convert');\n",
              "        buttonEl.style.display =\n",
              "          google.colab.kernel.accessAllowed ? 'block' : 'none';\n",
              "\n",
              "        async function convertToInteractive(key) {\n",
              "          const element = document.querySelector('#df-43ed4a38-13f0-4c68-b80e-960e7f9806fc');\n",
              "          const dataTable =\n",
              "            await google.colab.kernel.invokeFunction('convertToInteractive',\n",
              "                                                     [key], {});\n",
              "          if (!dataTable) return;\n",
              "\n",
              "          const docLinkHtml = 'Like what you see? Visit the ' +\n",
              "            '<a target=\"_blank\" href=https://colab.research.google.com/notebooks/data_table.ipynb>data table notebook</a>'\n",
              "            + ' to learn more about interactive tables.';\n",
              "          element.innerHTML = '';\n",
              "          dataTable['output_type'] = 'display_data';\n",
              "          await google.colab.output.renderOutput(dataTable, element);\n",
              "          const docLink = document.createElement('div');\n",
              "          docLink.innerHTML = docLinkHtml;\n",
              "          element.appendChild(docLink);\n",
              "        }\n",
              "      </script>\n",
              "    </div>\n",
              "  </div>\n",
              "  "
            ]
          },
          "metadata": {},
          "execution_count": 5
        }
      ]
    },
    {
      "cell_type": "code",
      "source": [
        "# dictionary of lists\n",
        "dict = {'First Score':[100, 90, np.nan, 95],\n",
        "        'Second Score': [30, np.nan, 45, 56],\n",
        "        'Third Score':[52, 40, 80, 98],\n",
        "        'Fourth Score':[np.nan, np.nan, np.nan, 65]}\n",
        " \n",
        "# creating a dataframe from dictionary\n",
        "df = pd.DataFrame(dict)\n",
        "   \n",
        "# using dropna() function  \n",
        "df.dropna()"
      ],
      "metadata": {
        "colab": {
          "base_uri": "https://localhost:8080/",
          "height": 81
        },
        "id": "DDUX9khvCLxE",
        "outputId": "8b142241-0d01-4d35-c673-91d2b30bdd0c"
      },
      "execution_count": null,
      "outputs": [
        {
          "output_type": "execute_result",
          "data": {
            "text/plain": [
              "   First Score  Second Score  Third Score  Fourth Score\n",
              "3         95.0          56.0           98          65.0"
            ],
            "text/html": [
              "\n",
              "  <div id=\"df-6565d87f-a7af-46aa-832c-2bad76c32f02\">\n",
              "    <div class=\"colab-df-container\">\n",
              "      <div>\n",
              "<style scoped>\n",
              "    .dataframe tbody tr th:only-of-type {\n",
              "        vertical-align: middle;\n",
              "    }\n",
              "\n",
              "    .dataframe tbody tr th {\n",
              "        vertical-align: top;\n",
              "    }\n",
              "\n",
              "    .dataframe thead th {\n",
              "        text-align: right;\n",
              "    }\n",
              "</style>\n",
              "<table border=\"1\" class=\"dataframe\">\n",
              "  <thead>\n",
              "    <tr style=\"text-align: right;\">\n",
              "      <th></th>\n",
              "      <th>First Score</th>\n",
              "      <th>Second Score</th>\n",
              "      <th>Third Score</th>\n",
              "      <th>Fourth Score</th>\n",
              "    </tr>\n",
              "  </thead>\n",
              "  <tbody>\n",
              "    <tr>\n",
              "      <th>3</th>\n",
              "      <td>95.0</td>\n",
              "      <td>56.0</td>\n",
              "      <td>98</td>\n",
              "      <td>65.0</td>\n",
              "    </tr>\n",
              "  </tbody>\n",
              "</table>\n",
              "</div>\n",
              "      <button class=\"colab-df-convert\" onclick=\"convertToInteractive('df-6565d87f-a7af-46aa-832c-2bad76c32f02')\"\n",
              "              title=\"Convert this dataframe to an interactive table.\"\n",
              "              style=\"display:none;\">\n",
              "        \n",
              "  <svg xmlns=\"http://www.w3.org/2000/svg\" height=\"24px\"viewBox=\"0 0 24 24\"\n",
              "       width=\"24px\">\n",
              "    <path d=\"M0 0h24v24H0V0z\" fill=\"none\"/>\n",
              "    <path d=\"M18.56 5.44l.94 2.06.94-2.06 2.06-.94-2.06-.94-.94-2.06-.94 2.06-2.06.94zm-11 1L8.5 8.5l.94-2.06 2.06-.94-2.06-.94L8.5 2.5l-.94 2.06-2.06.94zm10 10l.94 2.06.94-2.06 2.06-.94-2.06-.94-.94-2.06-.94 2.06-2.06.94z\"/><path d=\"M17.41 7.96l-1.37-1.37c-.4-.4-.92-.59-1.43-.59-.52 0-1.04.2-1.43.59L10.3 9.45l-7.72 7.72c-.78.78-.78 2.05 0 2.83L4 21.41c.39.39.9.59 1.41.59.51 0 1.02-.2 1.41-.59l7.78-7.78 2.81-2.81c.8-.78.8-2.07 0-2.86zM5.41 20L4 18.59l7.72-7.72 1.47 1.35L5.41 20z\"/>\n",
              "  </svg>\n",
              "      </button>\n",
              "      \n",
              "  <style>\n",
              "    .colab-df-container {\n",
              "      display:flex;\n",
              "      flex-wrap:wrap;\n",
              "      gap: 12px;\n",
              "    }\n",
              "\n",
              "    .colab-df-convert {\n",
              "      background-color: #E8F0FE;\n",
              "      border: none;\n",
              "      border-radius: 50%;\n",
              "      cursor: pointer;\n",
              "      display: none;\n",
              "      fill: #1967D2;\n",
              "      height: 32px;\n",
              "      padding: 0 0 0 0;\n",
              "      width: 32px;\n",
              "    }\n",
              "\n",
              "    .colab-df-convert:hover {\n",
              "      background-color: #E2EBFA;\n",
              "      box-shadow: 0px 1px 2px rgba(60, 64, 67, 0.3), 0px 1px 3px 1px rgba(60, 64, 67, 0.15);\n",
              "      fill: #174EA6;\n",
              "    }\n",
              "\n",
              "    [theme=dark] .colab-df-convert {\n",
              "      background-color: #3B4455;\n",
              "      fill: #D2E3FC;\n",
              "    }\n",
              "\n",
              "    [theme=dark] .colab-df-convert:hover {\n",
              "      background-color: #434B5C;\n",
              "      box-shadow: 0px 1px 3px 1px rgba(0, 0, 0, 0.15);\n",
              "      filter: drop-shadow(0px 1px 2px rgba(0, 0, 0, 0.3));\n",
              "      fill: #FFFFFF;\n",
              "    }\n",
              "  </style>\n",
              "\n",
              "      <script>\n",
              "        const buttonEl =\n",
              "          document.querySelector('#df-6565d87f-a7af-46aa-832c-2bad76c32f02 button.colab-df-convert');\n",
              "        buttonEl.style.display =\n",
              "          google.colab.kernel.accessAllowed ? 'block' : 'none';\n",
              "\n",
              "        async function convertToInteractive(key) {\n",
              "          const element = document.querySelector('#df-6565d87f-a7af-46aa-832c-2bad76c32f02');\n",
              "          const dataTable =\n",
              "            await google.colab.kernel.invokeFunction('convertToInteractive',\n",
              "                                                     [key], {});\n",
              "          if (!dataTable) return;\n",
              "\n",
              "          const docLinkHtml = 'Like what you see? Visit the ' +\n",
              "            '<a target=\"_blank\" href=https://colab.research.google.com/notebooks/data_table.ipynb>data table notebook</a>'\n",
              "            + ' to learn more about interactive tables.';\n",
              "          element.innerHTML = '';\n",
              "          dataTable['output_type'] = 'display_data';\n",
              "          await google.colab.output.renderOutput(dataTable, element);\n",
              "          const docLink = document.createElement('div');\n",
              "          docLink.innerHTML = docLinkHtml;\n",
              "          element.appendChild(docLink);\n",
              "        }\n",
              "      </script>\n",
              "    </div>\n",
              "  </div>\n",
              "  "
            ]
          },
          "metadata": {},
          "execution_count": 7
        }
      ]
    },
    {
      "cell_type": "code",
      "source": [
        "# importing pandas as pd\n",
        "import pandas as pd\n",
        "  \n",
        "# dictionary of lists\n",
        "dict = {'name':[\"aparna\", \"pankaj\", \"sudhir\", \"Geeku\"],\n",
        "        'degree': [\"MBA\", \"BCA\", \"M.Tech\", \"MBA\"],\n",
        "        'score':[90, 40, 80, 98]}\n",
        " \n",
        "# creating a dataframe from a dictionary \n",
        "df = pd.DataFrame(dict)\n",
        " \n",
        "print(df)"
      ],
      "metadata": {
        "colab": {
          "base_uri": "https://localhost:8080/"
        },
        "id": "WWNchgOwCfTr",
        "outputId": "66851bb0-7f94-47d7-b83a-46e1d1e6c5eb"
      },
      "execution_count": null,
      "outputs": [
        {
          "output_type": "stream",
          "name": "stdout",
          "text": [
            "     name  degree  score\n",
            "0  aparna     MBA     90\n",
            "1  pankaj     BCA     40\n",
            "2  sudhir  M.Tech     80\n",
            "3   Geeku     MBA     98\n"
          ]
        }
      ]
    },
    {
      "cell_type": "code",
      "source": [
        "import pandas as pd\n",
        "  \n",
        "# dictionary of lists\n",
        "dict = {'name':[\"aparna\", \"pankaj\", \"sudhir\", \"Geeku\"],\n",
        "        'degree': [\"MBA\", \"BCA\", \"M.Tech\", \"MBA\"],\n",
        "        'score':[90, 40, 80, 98]}\n",
        " \n",
        "# creating a dataframe from a dictionary \n",
        "df = pd.DataFrame(dict)\n",
        " \n",
        "# iterating over rows using iterrows() function \n",
        "for i, j in df.iterrows():\n",
        "    print(list(j))\n",
        "    print()"
      ],
      "metadata": {
        "colab": {
          "base_uri": "https://localhost:8080/"
        },
        "id": "5h4H-l0TC3tG",
        "outputId": "f24aa274-9b95-4574-85d6-69cb6bb21035"
      },
      "execution_count": null,
      "outputs": [
        {
          "output_type": "stream",
          "name": "stdout",
          "text": [
            "['aparna', 'MBA', 90]\n",
            "\n",
            "['pankaj', 'BCA', 40]\n",
            "\n",
            "['sudhir', 'M.Tech', 80]\n",
            "\n",
            "['Geeku', 'MBA', 98]\n",
            "\n"
          ]
        }
      ]
    },
    {
      "cell_type": "code",
      "source": [
        "# creating a list of dataframe columns\n",
        "columns = list(df)\n",
        " \n",
        "for i in columns:\n",
        " \n",
        "    # printing the third element of the column\n",
        "    print (df[i][2])"
      ],
      "metadata": {
        "colab": {
          "base_uri": "https://localhost:8080/"
        },
        "id": "yd6G0L5FDAab",
        "outputId": "ae8714bd-8cf1-4fe9-c25e-7501969ba938"
      },
      "execution_count": null,
      "outputs": [
        {
          "output_type": "stream",
          "name": "stdout",
          "text": [
            "sudhir\n",
            "M.Tech\n",
            "80\n"
          ]
        }
      ]
    },
    {
      "cell_type": "code",
      "source": [
        "# function which return reverse of a string\n",
        " \n",
        "def isPalindrome(s):\n",
        "    j = s[::-1]\n",
        "    if s==j:\n",
        "      print(\"True\")\n",
        "\n",
        "isPalindrome(\"malyalam\")\n",
        "        "
      ],
      "metadata": {
        "id": "MxMOqaQ6Fuq4"
      },
      "execution_count": null,
      "outputs": []
    },
    {
      "cell_type": "code",
      "source": [
        "\n",
        "# function to check string is\n",
        "# palindrome or not\n",
        "def isPalindrome(str):\n",
        " \n",
        "    # Run loop from 0 to len/2\n",
        "    for i in range(0, int(len(str)/2)):\n",
        "        print(i)\n",
        "        if str[i] != str[len(str)-i-1]:\n",
        "            return False\n",
        "    return True\n",
        " \n",
        "# main function\n",
        "s = \"malayalam\"\n",
        "isPalindrome(s)\n",
        " "
      ],
      "metadata": {
        "colab": {
          "base_uri": "https://localhost:8080/"
        },
        "id": "C9Gvp7IwMUyE",
        "outputId": "549b5809-f256-4ae1-de74-4a1e69507c4d"
      },
      "execution_count": null,
      "outputs": [
        {
          "output_type": "stream",
          "name": "stdout",
          "text": [
            "0\n"
          ]
        },
        {
          "output_type": "execute_result",
          "data": {
            "text/plain": [
              "False"
            ]
          },
          "metadata": {},
          "execution_count": 42
        }
      ]
    },
    {
      "cell_type": "code",
      "source": [
        "# Python program to check\n",
        "# if a string is palindrome\n",
        "# or not\n",
        " \n",
        "x = \"malayalam\"\n",
        " \n",
        "w = x[::-1]\n",
        " \n",
        "if (x == w):\n",
        "    print(\"Yes\")\n",
        "else:\n",
        "    print(\"No\")"
      ],
      "metadata": {
        "colab": {
          "base_uri": "https://localhost:8080/"
        },
        "id": "B9nU7mwIUPI0",
        "outputId": "17fc8e78-4f5a-4fa2-f424-6afb11db146d"
      },
      "execution_count": null,
      "outputs": [
        {
          "output_type": "stream",
          "name": "stdout",
          "text": [
            "Yes\n"
          ]
        }
      ]
    },
    {
      "cell_type": "code",
      "source": [
        "def pallindrome(x):\n",
        "    w = x[::-1]\n",
        "    if (x==w):\n",
        "      print(\"yes\")\n",
        "    else:\n",
        "      print(\"nop\") \n",
        "\n",
        "pallindrome(\"malayalam\")       "
      ],
      "metadata": {
        "colab": {
          "base_uri": "https://localhost:8080/"
        },
        "id": "ZyfMk6FJUnTP",
        "outputId": "6fae945b-5427-42fb-f208-402679cd24a8"
      },
      "execution_count": null,
      "outputs": [
        {
          "output_type": "stream",
          "name": "stdout",
          "text": [
            "yes\n"
          ]
        }
      ]
    },
    {
      "cell_type": "code",
      "source": [
        "def insertionsort(A):\n",
        "    n = len(A)\n",
        "    for i in range(1,n):\n",
        "        cvalue = A[i]\n",
        "        print(\"the c values is:\",cvalue)\n",
        "        position = i\n",
        "        while position>0 and A[position-1]>cvalue:\n",
        "              A[position]=A[position-1]\n",
        "              position = position-1\n",
        "        A[position]=cvalue      \n"
      ],
      "metadata": {
        "id": "bp2epkZ5uueN"
      },
      "execution_count": null,
      "outputs": []
    },
    {
      "cell_type": "code",
      "source": [
        "# Python3 program to add two numbers\n",
        " \n",
        "num1 = 15\n",
        "num2 = 12\n",
        " \n",
        "# Adding two nos\n",
        "sum = num1 + num2\n",
        " \n",
        "# printing values\n",
        "print(\"Sum of {0} and {1} is {2}\" .format(num1, num2, sum))"
      ],
      "metadata": {
        "colab": {
          "base_uri": "https://localhost:8080/"
        },
        "id": "NoFjMG1HQwYT",
        "outputId": "c0c37742-19c6-4bfe-e09d-759961b84089"
      },
      "execution_count": null,
      "outputs": [
        {
          "output_type": "stream",
          "name": "stdout",
          "text": [
            "Sum of 15 and 12 is 27\n"
          ]
        }
      ]
    },
    {
      "cell_type": "code",
      "source": [
        "# Python3 program to add two numbers\n",
        " \n",
        "number1 = input(\"First number: \")\n",
        "number2 = input(\"\\nSecond number: \")\n",
        " \n",
        "# Adding two numbers\n",
        "# User might also enter float numbers\n",
        "sum = float(number1) + float(number2)\n",
        " \n",
        "# Display the sum\n",
        "# will print value in float\n",
        "print(\"The sum of {0} and {1} is {2}\" .format(number1, number2, sum))"
      ],
      "metadata": {
        "colab": {
          "base_uri": "https://localhost:8080/"
        },
        "id": "Isi1iGUQRX63",
        "outputId": "7aac967d-1835-4728-a9cc-c0be50533b83"
      },
      "execution_count": null,
      "outputs": [
        {
          "output_type": "stream",
          "name": "stdout",
          "text": [
            "First number: 345\n",
            "\n",
            "Second number: 456\n",
            "The sum of 345 and 456 is 801.0\n"
          ]
        }
      ]
    },
    {
      "cell_type": "code",
      "source": [
        "\n",
        "# Python3 program to add two numbers\n",
        " \n",
        "# Driver Code\n",
        "if __name__ == \"__main__\" :\n",
        "   \n",
        "  num1 = 15\n",
        "  num2 = 12\n",
        "   \n",
        "  # Adding two numbers\n",
        "  sum_twoNum = lambda num1, num2 : num1 + num2\n",
        "   \n",
        "  # printing values\n",
        "  print(\"Sum of {0} and {1} is {2};\" .format(num1, num2, sum_twoNum(num1, num2)))"
      ],
      "metadata": {
        "colab": {
          "base_uri": "https://localhost:8080/"
        },
        "id": "o4YFQip9Rugr",
        "outputId": "e4194bcb-b47f-45f9-ee94-4ffa504ef20e"
      },
      "execution_count": null,
      "outputs": [
        {
          "output_type": "stream",
          "name": "stdout",
          "text": [
            "Sum of 15 and 12 is 27;\n"
          ]
        }
      ]
    },
    {
      "cell_type": "code",
      "source": [
        "def factorial(n):\n",
        "    if (n==0 or n==1):\n",
        "      return 1\n",
        "    else:\n",
        "      return n*(factorial(n-1))\n",
        "\n",
        "\n",
        "factorial(5)      \n"
      ],
      "metadata": {
        "colab": {
          "base_uri": "https://localhost:8080/"
        },
        "id": "ZyFDIk5qSO8O",
        "outputId": "49dc8bf6-e34f-448f-f008-e80b60260a62"
      },
      "execution_count": null,
      "outputs": [
        {
          "output_type": "execute_result",
          "data": {
            "text/plain": [
              "120"
            ]
          },
          "metadata": {},
          "execution_count": 18
        }
      ]
    },
    {
      "cell_type": "code",
      "source": [
        "def factorial(n):\n",
        "    if n<0:\n",
        "        return 0\n",
        "    elif (n==0 or n==1):\n",
        "        return 1\n",
        "    else:\n",
        "        fact = 1\n",
        "        while n>0:\n",
        "             fact = fact*n\n",
        "             n=n-1\n",
        "    return fact      \n",
        "\n",
        "factorial(5)"
      ],
      "metadata": {
        "colab": {
          "base_uri": "https://localhost:8080/"
        },
        "id": "bZBLZOTwTA1e",
        "outputId": "a5e6463d-9cbd-49f2-ee9d-2b9338a0877a"
      },
      "execution_count": null,
      "outputs": [
        {
          "output_type": "execute_result",
          "data": {
            "text/plain": [
              "120"
            ]
          },
          "metadata": {},
          "execution_count": 22
        }
      ]
    },
    {
      "cell_type": "code",
      "source": [
        "\n",
        "# Python 3 program to find\n",
        "# factorial of given number\n",
        "  \n",
        "# Function to find factorial of given number\n",
        "def factorial(n):\n",
        "       \n",
        "    res = 1\n",
        "      \n",
        "    for i in range(2, n+1):\n",
        "        res *= i\n",
        "    return res\n",
        " # Driver Code\n",
        "num = 5;\n",
        "print(\"Factorial of\", num, \"is\",\n",
        "factorial(num))"
      ],
      "metadata": {
        "colab": {
          "base_uri": "https://localhost:8080/"
        },
        "id": "HxIoSBW1Ua7R",
        "outputId": "1711a52e-9f46-405b-c7ce-da31f47df092"
      },
      "execution_count": null,
      "outputs": [
        {
          "output_type": "stream",
          "name": "stdout",
          "text": [
            "Factorial of 5 is 120\n"
          ]
        }
      ]
    },
    {
      "cell_type": "code",
      "source": [
        "# Python 3 program to find\n",
        "# factorial of given number\n",
        "import math\n",
        " \n",
        "def factorial(n):\n",
        "    return(math.factorial(n))\n",
        " \n",
        " \n",
        "# Driver Code\n",
        "num = 5\n",
        "print(\"Factorial of\", num, \"is\",\n",
        "      factorial(num))\n",
        " \n",
        "# This code is contributed by Ashutosh Pandit"
      ],
      "metadata": {
        "colab": {
          "base_uri": "https://localhost:8080/"
        },
        "id": "AlHStUWPUllP",
        "outputId": "a1c5299e-6d03-4500-94d2-735be07b4543"
      },
      "execution_count": null,
      "outputs": [
        {
          "output_type": "stream",
          "name": "stdout",
          "text": [
            "Factorial of 5 is 120\n"
          ]
        }
      ]
    },
    {
      "cell_type": "code",
      "source": [
        "def simple_interest(p,t,r):\n",
        "    print('The principal is', p)\n",
        "    print('The time period is', t)\n",
        "    print('The rate of interest is',r)\n",
        "     \n",
        "    si = (p * t * r)/100\n",
        "     \n",
        "    print('The Simple Interest is', si)\n",
        "    return si\n",
        "     \n",
        "# Driver code\n",
        "simple_interest(8, 6, 8)"
      ],
      "metadata": {
        "id": "igEQIWY8VB4D",
        "outputId": "c4d369a7-e5e6-4cee-e629-dc200b76ddf9",
        "colab": {
          "base_uri": "https://localhost:8080/"
        }
      },
      "execution_count": null,
      "outputs": [
        {
          "output_type": "stream",
          "name": "stdout",
          "text": [
            "The principal is 8\n",
            "The time period is 6\n",
            "The rate of interest is 8\n",
            "The Simple Interest is 3.84\n"
          ]
        },
        {
          "output_type": "execute_result",
          "data": {
            "text/plain": [
              "3.84"
            ]
          },
          "metadata": {},
          "execution_count": 25
        }
      ]
    },
    {
      "cell_type": "code",
      "source": [
        "def simple_interest(p,t,r):\n",
        "    print('The principal is', p)\n",
        "    print('The time period is', t)\n",
        "    print('The rate of interest is',r)\n",
        "     \n",
        "    si = (p * t * r)/100\n",
        "     \n",
        "    print('The Simple Interest is', si)\n",
        "    return si\n",
        "     \n",
        "# Driver code\n",
        "simple_interest(8, 6, 8)"
      ],
      "metadata": {
        "colab": {
          "base_uri": "https://localhost:8080/"
        },
        "id": "jreNX341ZwMW",
        "outputId": "79cdf9d3-dbbe-438e-c793-c262a5739a67"
      },
      "execution_count": null,
      "outputs": [
        {
          "output_type": "stream",
          "name": "stdout",
          "text": [
            "The principal is 8\n",
            "The time period is 6\n",
            "The rate of interest is 8\n",
            "The Simple Interest is 3.84\n"
          ]
        },
        {
          "output_type": "execute_result",
          "data": {
            "text/plain": [
              "3.84"
            ]
          },
          "metadata": {},
          "execution_count": 1
        }
      ]
    },
    {
      "cell_type": "code",
      "source": [
        "import numpy as np\n",
        "  \n",
        "# function to print Checkerboard pattern\n",
        "def printcheckboard(n):\n",
        "      \n",
        "    print(\"Checkerboard pattern:\")\n",
        "  \n",
        "    # create a n * n matrix\n",
        "    x = np.zeros((n, n), dtype = int)\n",
        "  \n",
        "    # fill with 1 the alternate rows and columns\n",
        "    x[1::2, ::2] = 1\n",
        "    x[::2, 1::2] = 1\n",
        "      \n",
        "    # print the pattern\n",
        "    for i in range(n):\n",
        "        for j in range(n):\n",
        "            print(x[i][j], end =\" \") \n",
        "        print() \n",
        "  \n",
        "  \n",
        "# driver code\n",
        "n = 8\n",
        "printcheckboard(n)"
      ],
      "metadata": {
        "colab": {
          "base_uri": "https://localhost:8080/"
        },
        "id": "-haPwh8ua0lN",
        "outputId": "332526dc-87f2-4b9d-c5f1-6c81c8b219fb"
      },
      "execution_count": null,
      "outputs": [
        {
          "output_type": "stream",
          "name": "stdout",
          "text": [
            "Checkerboard pattern:\n",
            "0 1 0 1 0 1 0 1 \n",
            "1 0 1 0 1 0 1 0 \n",
            "0 1 0 1 0 1 0 1 \n",
            "1 0 1 0 1 0 1 0 \n",
            "0 1 0 1 0 1 0 1 \n",
            "1 0 1 0 1 0 1 0 \n",
            "0 1 0 1 0 1 0 1 \n",
            "1 0 1 0 1 0 1 0 \n"
          ]
        }
      ]
    },
    {
      "cell_type": "code",
      "source": [
        "x = np.zeros((n, n), dtype = int)\n",
        "  \n",
        "    # fill with 1 the alternate rows and columns\n",
        "x[1::2, ::2] = 3\n",
        "x[::2, 1::2] = 1\n",
        "x"
      ],
      "metadata": {
        "colab": {
          "base_uri": "https://localhost:8080/"
        },
        "id": "3TyPacgZa3yJ",
        "outputId": "8673c07f-b707-44c5-d04f-11c4879d050b"
      },
      "execution_count": null,
      "outputs": [
        {
          "output_type": "execute_result",
          "data": {
            "text/plain": [
              "array([[0, 1, 0, 1, 0, 1, 0, 1],\n",
              "       [3, 0, 3, 0, 3, 0, 3, 0],\n",
              "       [0, 1, 0, 1, 0, 1, 0, 1],\n",
              "       [3, 0, 3, 0, 3, 0, 3, 0],\n",
              "       [0, 1, 0, 1, 0, 1, 0, 1],\n",
              "       [3, 0, 3, 0, 3, 0, 3, 0],\n",
              "       [0, 1, 0, 1, 0, 1, 0, 1],\n",
              "       [3, 0, 3, 0, 3, 0, 3, 0]])"
            ]
          },
          "metadata": {},
          "execution_count": 7
        }
      ]
    },
    {
      "cell_type": "code",
      "source": [
        "\n",
        "# Python program to print nXn Assuming that n \n",
        "# is always even as a checkerboard was\n",
        "  \n",
        "import numpy as np\n",
        "def printcheckboard(n):\n",
        "    final = []\n",
        "    for i in range(n):\n",
        "        final.append(list(np.tile([0,1],int(n/2))) if i%2==0 else list(np.tile([1,0],int(n/2))))\n",
        "    print(np.array(final))\n",
        "  \n",
        "  \n",
        "# driver code\n",
        "n = 8\n",
        "printcheckboard(n)"
      ],
      "metadata": {
        "colab": {
          "base_uri": "https://localhost:8080/"
        },
        "id": "IUDiUi9ncc_T",
        "outputId": "f194383e-c8da-453e-8bf8-4fea1cfc6784"
      },
      "execution_count": null,
      "outputs": [
        {
          "output_type": "stream",
          "name": "stdout",
          "text": [
            "[[0 1 0 1 0 1 0 1]\n",
            " [1 0 1 0 1 0 1 0]\n",
            " [0 1 0 1 0 1 0 1]\n",
            " [1 0 1 0 1 0 1 0]\n",
            " [0 1 0 1 0 1 0 1]\n",
            " [1 0 1 0 1 0 1 0]\n",
            " [0 1 0 1 0 1 0 1]\n",
            " [1 0 1 0 1 0 1 0]]\n"
          ]
        }
      ]
    },
    {
      "cell_type": "code",
      "source": [
        "\n",
        "# function to print the pattern\n",
        "def pattern(n):\n",
        " \n",
        "    # traverse through the elements\n",
        "    # in n assuming it as a string\n",
        "    for i in n:\n",
        " \n",
        "        # print | for every line\n",
        "        print(\"|\", end = \"\")\n",
        " \n",
        "        # print i number of * s in\n",
        "        # each line\n",
        "        print(\"*\" * int(i))\n",
        " \n",
        "# get the input as string        \n",
        "n = \"41325\"\n",
        "pattern(n)"
      ],
      "metadata": {
        "colab": {
          "base_uri": "https://localhost:8080/"
        },
        "id": "x5DZ8LFEfDML",
        "outputId": "7b13936b-4baa-4d2b-dd0a-dc8da47a7734"
      },
      "execution_count": null,
      "outputs": [
        {
          "output_type": "stream",
          "name": "stdout",
          "text": [
            "|****\n",
            "|*\n",
            "|***\n",
            "|**\n",
            "|*****\n"
          ]
        }
      ]
    },
    {
      "cell_type": "code",
      "source": [
        "n = 41325\n",
        "x = []\n",
        "while n>0:\n",
        "    x.append(n%10)\n",
        "    n //= 10\n",
        "for i in range(len(x)-1,-1,-1):\n",
        "    print('|'+x[i]*'*')"
      ],
      "metadata": {
        "colab": {
          "base_uri": "https://localhost:8080/"
        },
        "id": "jakK-90Ufccm",
        "outputId": "4ea0eeb0-7ca2-4683-dc72-23b8f390b521"
      },
      "execution_count": null,
      "outputs": [
        {
          "output_type": "stream",
          "name": "stdout",
          "text": [
            "|****\n",
            "|*\n",
            "|***\n",
            "|**\n",
            "|*****\n"
          ]
        }
      ]
    },
    {
      "cell_type": "code",
      "source": [
        " \n",
        "def compound_interest(principle, rate, time):\n",
        " \n",
        "    # Calculates compound interest\n",
        "    Amount = principle * (pow((1 + rate / 100), time))\n",
        "    CI = Amount - principle\n",
        "    print(\"Compound interest is\", CI)\n",
        " \n",
        " \n",
        "# Driver Code\n",
        "compound_interest(10000, 10.25, 5)"
      ],
      "metadata": {
        "colab": {
          "base_uri": "https://localhost:8080/"
        },
        "id": "MRIAndn5fq7K",
        "outputId": "97f6e899-057e-4219-de6e-e67909475ac6"
      },
      "execution_count": null,
      "outputs": [
        {
          "output_type": "stream",
          "name": "stdout",
          "text": [
            "Compound interest is 6288.946267774416\n"
          ]
        }
      ]
    },
    {
      "cell_type": "code",
      "source": [
        "\n",
        "# Python code\n",
        "# To find compound interest\n",
        " \n",
        "# inputs\n",
        "p= 1200   # principle amount\n",
        "t= 2      # time\n",
        "r= 5.4    # rate\n",
        "# calculates the compound interest\n",
        "a=p*(1+(r/100))**t  # formula for calculating amount\n",
        "ci=a-p  # compound interest = amount - principal amount\n",
        "# printing compound interest value\n",
        "print(ci)"
      ],
      "metadata": {
        "colab": {
          "base_uri": "https://localhost:8080/"
        },
        "id": "-8fDc3YVfv3l",
        "outputId": "95b62f10-738b-4c5d-8cf4-f96b65b29298"
      },
      "execution_count": null,
      "outputs": [
        {
          "output_type": "stream",
          "name": "stdout",
          "text": [
            "133.0992000000001\n"
          ]
        }
      ]
    },
    {
      "cell_type": "code",
      "source": [
        "def power(x, y):\n",
        "     \n",
        "    if y == 0:\n",
        "        return 1\n",
        "    if y % 2 == 0:\n",
        "        return power(x, y // 2) * power(x, y // 2)\n",
        "         \n",
        "    return x * power(x, y // 2) * power(x, y // 2)\n",
        " \n",
        "# Function to calculate order of the number\n",
        "def order(x):\n",
        " \n",
        "    # Variable to store of the number\n",
        "    n = 0\n",
        "    while (x != 0):\n",
        "        n = n + 1\n",
        "        x = x // 10\n",
        "         \n",
        "    return n\n",
        " \n",
        "# Function to check whether the given\n",
        "# number is Armstrong number or not\n",
        "def isArmstrong(x):\n",
        "     \n",
        "    n = order(x)\n",
        "    print(n)\n",
        "    temp = x\n",
        "    sum1 = 0\n",
        "     \n",
        "    while (temp != 0):\n",
        "        r = temp % 10\n",
        "        print(range)\n",
        "        sum1 = sum1 + power(r, n)\n",
        "        print(sum1)\n",
        "        temp = temp // 10\n",
        "        print(temp)\n",
        " \n",
        "    # If condition satisfies\n",
        "    return (sum1 == x)\n",
        " \n",
        "# Driver code\n",
        "x = 153\n",
        "print(isArmstrong(x))\n",
        " \n",
        "x = 1253\n",
        "print(isArmstrong(x))"
      ],
      "metadata": {
        "colab": {
          "base_uri": "https://localhost:8080/"
        },
        "id": "3SG2DoEmhxOh",
        "outputId": "f2abfe7e-885a-4899-b5cd-08446d1356c5"
      },
      "execution_count": null,
      "outputs": [
        {
          "output_type": "stream",
          "name": "stdout",
          "text": [
            "3\n",
            "<class 'range'>\n",
            "27\n",
            "15\n",
            "<class 'range'>\n",
            "152\n",
            "1\n",
            "<class 'range'>\n",
            "153\n",
            "0\n",
            "True\n",
            "4\n",
            "<class 'range'>\n",
            "81\n",
            "125\n",
            "<class 'range'>\n",
            "706\n",
            "12\n",
            "<class 'range'>\n",
            "722\n",
            "1\n",
            "<class 'range'>\n",
            "723\n",
            "0\n",
            "False\n"
          ]
        }
      ]
    },
    {
      "cell_type": "code",
      "source": [
        "n = 153\n",
        "print(n,'\\n')  # or n=int(input()) -> taking input from user\n",
        "s = n \n",
        "print(s,'\\n') # assigning input value to the s variable\n",
        "b = len(str(n))\n",
        "print(b,'\\n')\n",
        "sum1 = 0\n",
        "while n != 0:\n",
        "    r = n % 10\n",
        "    print('the value of r is :',r,'\\n')\n",
        "    sum1 = sum1+(r**b)\n",
        "    print('the sum of is :',sum1,'\\n')\n",
        "    n = n//10\n",
        "    print('the n of is :',n,'\\n')\n",
        "if s == sum1:\n",
        "    print(\"The given number\", s, \"is armstrong number\")\n",
        "else:\n",
        "    print(\"The given number\", s, \"is not armstrong number\")"
      ],
      "metadata": {
        "colab": {
          "base_uri": "https://localhost:8080/"
        },
        "id": "DEB3g7ccdc8x",
        "outputId": "e82ebeb4-9aea-4289-8cf2-733b9914d715"
      },
      "execution_count": null,
      "outputs": [
        {
          "output_type": "stream",
          "name": "stdout",
          "text": [
            "153 \n",
            "\n",
            "153 \n",
            "\n",
            "3 \n",
            "\n",
            "the value of r is : 3 \n",
            "\n",
            "the sum of is : 27 \n",
            "\n",
            "the n of is : 15 \n",
            "\n",
            "the value of r is : 5 \n",
            "\n",
            "the sum of is : 152 \n",
            "\n",
            "the n of is : 1 \n",
            "\n",
            "the value of r is : 1 \n",
            "\n",
            "the sum of is : 153 \n",
            "\n",
            "the n of is : 0 \n",
            "\n",
            "The given number 153 is armstrong number\n"
          ]
        }
      ]
    },
    {
      "cell_type": "code",
      "source": [
        "# Python program to find Area of a circle\n",
        " \n",
        "def findArea(r):\n",
        "    PI = 3.142\n",
        "    return PI * (r*r);\n",
        " \n",
        "# Driver method\n",
        "print(\"Area is %.6f\" % findArea(5));"
      ],
      "metadata": {
        "colab": {
          "base_uri": "https://localhost:8080/"
        },
        "id": "-MB7YJxyiel7",
        "outputId": "f41e8323-b119-42d3-aa70-f8f52007dba8"
      },
      "execution_count": null,
      "outputs": [
        {
          "output_type": "stream",
          "name": "stdout",
          "text": [
            "Area is 78.550000\n"
          ]
        }
      ]
    },
    {
      "cell_type": "code",
      "source": [
        "# Python program to find Area of a circle using inbuild library\n",
        " \n",
        "import math\n",
        "def area(r):\n",
        " area = math.pi* pow(r,2)\n",
        " return print('Area of circle is:' ,area)\n",
        "area(4)\n",
        " "
      ],
      "metadata": {
        "colab": {
          "base_uri": "https://localhost:8080/"
        },
        "id": "jfezP1asiuX8",
        "outputId": "db6ac8e0-1a08-4240-d1b6-1dc221821f4d"
      },
      "execution_count": null,
      "outputs": [
        {
          "output_type": "stream",
          "name": "stdout",
          "text": [
            "Area of circle is: 50.26548245743669\n"
          ]
        }
      ]
    },
    {
      "cell_type": "code",
      "source": [
        "import numpy as np\n",
        "def perfectsquare(m):\n",
        "    n = list(np.arange(1,10))\n",
        "    divisors = []\n",
        "    for i in n:\n",
        "       if (m%i==0) and (m!=i):\n",
        "          divisors.append(i)   \n",
        "    \n",
        "    if sum(divisors)==m:\n",
        "       print(m , \" is a perfect number\")\n"
      ],
      "metadata": {
        "id": "Ke7J0_NWk_2i"
      },
      "execution_count": null,
      "outputs": []
    },
    {
      "cell_type": "code",
      "source": [
        "for n in range (10000):\n",
        "    if perfectsquare(n):\n",
        "       print(n , \" is a perfect number\")"
      ],
      "metadata": {
        "colab": {
          "base_uri": "https://localhost:8080/"
        },
        "id": "bCRenovclPP0",
        "outputId": "fd9b9004-ba1e-46d5-bec5-54def2202ede"
      },
      "execution_count": null,
      "outputs": [
        {
          "output_type": "stream",
          "name": "stdout",
          "text": [
            "6  is a perfect number\n",
            "24  is a perfect number\n"
          ]
        }
      ]
    },
    {
      "cell_type": "code",
      "source": [
        "\n",
        "# Python3 code to check if a given\n",
        "# number is perfect or not\n",
        " \n",
        "# Returns true if n is perfect\n",
        "def isPerfect( n ):\n",
        "     \n",
        "    # To store sum of divisors\n",
        "    sum = 1\n",
        "     \n",
        "    # Find all divisors and add them\n",
        "    i = 2\n",
        "    while i * i <= n:\n",
        "        if n % i == 0:\n",
        "            sum = sum + i + n/i\n",
        "        i += 1\n",
        "     \n",
        "    # If sum of divisors is equal to\n",
        "    # n, then n is a perfect number\n",
        "     \n",
        "    return (True if sum == n and n!=1 else False)\n",
        " \n",
        "# Driver program\n",
        "print(\"Below are all perfect numbers till 10000\")\n",
        "n = 2\n",
        "for n in range (10000):\n",
        "    if isPerfect (n):\n",
        "        print(n , \" is a perfect number\")"
      ],
      "metadata": {
        "colab": {
          "base_uri": "https://localhost:8080/"
        },
        "id": "vOXfmAeWuvyy",
        "outputId": "df89e081-fb04-4f90-9153-92e2a17e991d"
      },
      "execution_count": null,
      "outputs": [
        {
          "output_type": "stream",
          "name": "stdout",
          "text": [
            "Below are all perfect numbers till 10000\n",
            "6  is a perfect number\n",
            "28  is a perfect number\n",
            "496  is a perfect number\n",
            "8128  is a perfect number\n"
          ]
        }
      ]
    },
    {
      "cell_type": "code",
      "source": [
        "def isPrime(n):\n",
        "  #since 0 and 1 is not prime return false.\n",
        "  if(n==1 or n==0):\n",
        "    return False\n",
        "   \n",
        "  #Run a loop from 2 to n-1\n",
        "  for i in range(2,n):\n",
        "    #if the number is divisible by i, then n is not a prime number.\n",
        "    if(n%i==0):\n",
        "      return False\n",
        "   \n",
        "  #otherwise, n is prime number.\n",
        "  return True\n",
        " \n",
        " \n",
        " \n",
        "# Driver code\n",
        "N = 100;\n",
        "#check for every number from 1 to N\n",
        "for i in range(1,N+1):\n",
        "  #check if current number is prime\n",
        "  if(isPrime(i)):\n",
        "    print(i,end=\" \")"
      ],
      "metadata": {
        "id": "Pauqaqx1v0Wv",
        "outputId": "8f0d2cc4-d9a5-497e-80dd-8bb53639d888",
        "colab": {
          "base_uri": "https://localhost:8080/"
        }
      },
      "execution_count": null,
      "outputs": [
        {
          "output_type": "stream",
          "name": "stdout",
          "text": [
            "2 3 5 7 11 13 17 19 23 29 31 37 41 43 47 53 59 61 67 71 73 79 83 89 97 "
          ]
        }
      ]
    },
    {
      "cell_type": "code",
      "source": [
        "#function to check if a given number is prime\n",
        "def isPrime(n):\n",
        "  #since 0 and 1 is not prime return false.\n",
        "  if(n==1 or n==0):\n",
        "    return False\n",
        "   \n",
        "  #Run a loop from 2 to n/2\n",
        "  for i in range(2,(n//2)+1):\n",
        "    #if the number is divisible by i, then n is not a prime number.\n",
        "    if(n%i==0):\n",
        "      return False\n",
        "   \n",
        "  #otherwise, n is prime number.\n",
        "  return True\n",
        " \n",
        " \n",
        " \n",
        "# Driver code\n",
        "N = 100;\n",
        "#check for every number from 1 to N\n",
        "for i in range(1,N+1):\n",
        "  #check if current number is prime\n",
        "  if(isPrime(i)):\n",
        "    print(i,end=\" \")"
      ],
      "metadata": {
        "colab": {
          "base_uri": "https://localhost:8080/"
        },
        "id": "Zpo-rHrd3eBU",
        "outputId": "b5928950-e1df-4bea-df6d-b10b6f466c31"
      },
      "execution_count": null,
      "outputs": [
        {
          "output_type": "stream",
          "name": "stdout",
          "text": [
            "2 3 5 7 11 13 17 19 23 29 31 37 41 43 47 53 59 61 67 71 73 79 83 89 97 "
          ]
        }
      ]
    },
    {
      "cell_type": "code",
      "source": [
        "def isPrime(n):\n",
        "  #since 0 and 1 is not prime return false.\n",
        "  if(n==1 or n==0):\n",
        "    return False\n",
        "   \n",
        "  #Run a loop from 2 to square root of n.\n",
        "  for i in range(2,int(n**(1/2))+1):\n",
        "    #if the number is divisible by i, then n is not a prime number.\n",
        "    if(n%i==0):\n",
        "      return False\n",
        "   \n",
        "  #otherwise, n is prime number.\n",
        "  return True\n",
        " \n",
        " \n",
        " \n",
        "# Driver code\n",
        "N = 100;\n",
        "#check for every number from 1 to N\n",
        "for i in range(1,N+1):\n",
        "  #check if current number is prime\n",
        "  if(isPrime(i)):\n",
        "    print(i,end=\" \")"
      ],
      "metadata": {
        "colab": {
          "base_uri": "https://localhost:8080/"
        },
        "id": "HekTMO8j3iOZ",
        "outputId": "82f1a7ff-3be9-4199-bdab-7a9e86289eb0"
      },
      "execution_count": null,
      "outputs": [
        {
          "output_type": "stream",
          "name": "stdout",
          "text": [
            "2 3 5 7 11 13 17 19 23 29 31 37 41 43 47 53 59 61 67 71 73 79 83 89 97 "
          ]
        }
      ]
    },
    {
      "cell_type": "code",
      "source": [
        "def prime(x, y):\n",
        "    prime_list = []\n",
        "    for i in range(x, y):\n",
        "        if i == 0 or i == 1:\n",
        "            continue\n",
        "        else:\n",
        "            for j in range(2, int(i/2)+1):\n",
        "                if i % j == 0:\n",
        "                    break\n",
        "            else:\n",
        "                prime_list.append(i)\n",
        "    return prime_list\n",
        " \n",
        "# Driver program\n",
        "starting_range = 2\n",
        "ending_range = 7\n",
        "lst = prime(starting_range, ending_range)\n",
        "if len(lst) == 0:\n",
        "    print(\"There are no prime numbers in this range\")\n",
        "else:\n",
        "    print(\"The prime numbers in this range are: \", lst)"
      ],
      "metadata": {
        "colab": {
          "base_uri": "https://localhost:8080/"
        },
        "id": "X_UkY4h03-7r",
        "outputId": "6bf09936-b265-413d-83b3-0a7ca5132666"
      },
      "execution_count": null,
      "outputs": [
        {
          "output_type": "stream",
          "name": "stdout",
          "text": [
            "The prime numbers in this range are:  [2, 3, 5]\n"
          ]
        }
      ]
    },
    {
      "cell_type": "code",
      "source": [
        "num = 11\n",
        "# If given number is greater than 1\n",
        "if num > 1:\n",
        "    # Iterate from 2 to n / 2\n",
        "    for i in range(2, int(num/2)+1):\n",
        "        # If num is divisible by any number between\n",
        "        # 2 and n / 2, it is not prime\n",
        "        if (num % i) == 0:\n",
        "            print(num, \"is not a prime number\")\n",
        "            break\n",
        "    else:\n",
        "        print(num, \"is a prime number\")\n",
        "else:\n",
        "    print(num, \"is not a prime number\")"
      ],
      "metadata": {
        "id": "bF3Upl6P4uUP",
        "outputId": "fe424f7d-af1f-464e-f524-c41cff8b704a",
        "colab": {
          "base_uri": "https://localhost:8080/"
        }
      },
      "execution_count": null,
      "outputs": [
        {
          "output_type": "stream",
          "name": "stdout",
          "text": [
            "11 is a prime number\n"
          ]
        }
      ]
    },
    {
      "cell_type": "code",
      "source": [
        "from math import sqrt\n",
        "# n is the number to be check whether it is prime or not\n",
        "n = 1\n",
        " \n",
        "# this flag maintains status whether the n is prime or not\n",
        "prime_flag = 0\n",
        " \n",
        "if(n > 1):\n",
        "    for i in range(2, int(sqrt(n)) + 1):\n",
        "        if (n % i == 0):\n",
        "            prime_flag = 1\n",
        "            break\n",
        "    if (prime_flag == 0):\n",
        "        print(\"True\")\n",
        "    else:\n",
        "        print(\"False\")\n",
        "else:\n",
        "    print(\"False\")"
      ],
      "metadata": {
        "colab": {
          "base_uri": "https://localhost:8080/"
        },
        "id": "_6cW0eaeqAk-",
        "outputId": "e556226a-0125-4a4e-bcff-e639d0a5acff"
      },
      "execution_count": null,
      "outputs": [
        {
          "output_type": "stream",
          "name": "stdout",
          "text": [
            "False\n"
          ]
        }
      ]
    },
    {
      "cell_type": "code",
      "source": [
        " \n",
        "def Fibonacci(n):\n",
        "    if n<= 0:\n",
        "        print(\"Incorrect input\")\n",
        "    # First Fibonacci number is 0\n",
        "    elif n == 1:\n",
        "        return 0\n",
        "    # Second Fibonacci number is 1\n",
        "    elif n == 2:\n",
        "        return 1\n",
        "    else:\n",
        "        return Fibonacci(n-1)+Fibonacci(n-2)\n",
        " \n",
        "# Driver Program\n",
        " \n",
        "print(Fibonacci(10))\n",
        " "
      ],
      "metadata": {
        "colab": {
          "base_uri": "https://localhost:8080/"
        },
        "id": "y0RSzYTrq8xr",
        "outputId": "b8f04ee1-d65c-4459-f9f0-9a7676d1df4a"
      },
      "execution_count": null,
      "outputs": [
        {
          "output_type": "stream",
          "name": "stdout",
          "text": [
            "34\n"
          ]
        }
      ]
    },
    {
      "cell_type": "code",
      "source": [
        " \n",
        "FibArray = [0, 1]\n",
        " \n",
        "def fibonacci(n):\n",
        "    if n<0:\n",
        "        print(\"Incorrect input\")\n",
        "    elif n<= len(FibArray):\n",
        "        return FibArray[n-1]\n",
        "    else:\n",
        "        temp_fib = fibonacci(n-1)+fibonacci(n-2)\n",
        "        FibArray.append(temp_fib)\n",
        "        return temp_fib\n",
        " \n",
        "# Driver Program\n",
        " \n",
        "print(fibonacci(9))\n",
        " "
      ],
      "metadata": {
        "colab": {
          "base_uri": "https://localhost:8080/"
        },
        "id": "BKQOGf1IrNb5",
        "outputId": "dcf76a4f-0fb7-41ef-d56c-4f24d86ac4cd"
      },
      "execution_count": null,
      "outputs": [
        {
          "output_type": "stream",
          "name": "stdout",
          "text": [
            "21\n"
          ]
        }
      ]
    },
    {
      "cell_type": "code",
      "source": [
        "def fibonacci(n):\n",
        "    a = 0\n",
        "    b = 1\n",
        "    if n < 0:\n",
        "        print(\"Incorrect input\")\n",
        "    elif n == 0:\n",
        "        return a\n",
        "    elif n == 1:\n",
        "        return b\n",
        "    else:\n",
        "        for i in range(2, n):\n",
        "            c = a + b\n",
        "            a = b\n",
        "            b = c\n",
        "        return b\n",
        " \n",
        "# Driver Program\n",
        " \n",
        "print(fibonacci(9))\n",
        " "
      ],
      "metadata": {
        "colab": {
          "base_uri": "https://localhost:8080/"
        },
        "id": "TB9elOcsrc4T",
        "outputId": "c646d128-1792-46b6-f78d-277ceba8f948"
      },
      "execution_count": null,
      "outputs": [
        {
          "output_type": "stream",
          "name": "stdout",
          "text": [
            "21\n"
          ]
        }
      ]
    },
    {
      "cell_type": "code",
      "source": [
        "def fibonacci (n):\n",
        "   if n<= 0:\n",
        "     return \"Incorrect Output\"\n",
        "   data = [0, 1]\n",
        "   if n > 2:\n",
        "        for i in range (2, n):\n",
        "            data.append(data[i-1] + data[i-2])\n",
        "   return data[n-1]\n",
        " \n",
        "# Driver Program\n",
        " \n",
        "print(fibonacci(9))"
      ],
      "metadata": {
        "colab": {
          "base_uri": "https://localhost:8080/"
        },
        "id": "DlaBYVHArs7-",
        "outputId": "d3df322c-ef92-4d98-e67f-2c734340a462"
      },
      "execution_count": null,
      "outputs": [
        {
          "output_type": "stream",
          "name": "stdout",
          "text": [
            "21\n"
          ]
        }
      ]
    },
    {
      "cell_type": "code",
      "source": [
        "\n",
        "# To find the n-th Fibonacci Number using formula\n",
        "from math import sqrt\n",
        "# import square-root method from math library\n",
        "def nthFib(n):\n",
        "    res = (((1+sqrt(5))**n)-((1-sqrt(5)))**n)/(2**n*sqrt(5))\n",
        "    # compute the n-th fibonacci number\n",
        "    print(int(res),'is',str(n)+'th fibonacci number')\n",
        "    # format and print the number\n",
        "     \n",
        "# driver code\n",
        "nthFib(12)"
      ],
      "metadata": {
        "colab": {
          "base_uri": "https://localhost:8080/"
        },
        "id": "WaueuXpNsBUC",
        "outputId": "971ec265-7eab-41ea-8d60-339ff1037987"
      },
      "execution_count": null,
      "outputs": [
        {
          "output_type": "stream",
          "name": "stdout",
          "text": [
            "144 is 12th fibonacci number\n"
          ]
        }
      ]
    },
    {
      "cell_type": "code",
      "source": [
        "def Fibonacci(n):\n",
        "   \n",
        "    # Check if input is 0 then it will\n",
        "    # print incorrect input\n",
        "    if n < 0:\n",
        "        print(\"Incorrect input\")\n",
        " \n",
        "    # Check if n is 0\n",
        "    # then it will return 0\n",
        "    elif n == 0:\n",
        "        return 0\n",
        " \n",
        "    # Check if n is 1,2\n",
        "    # it will return 1\n",
        "    elif n == 1 or n == 2:\n",
        "        return 1\n",
        " \n",
        "    else:\n",
        "        return Fibonacci(n-1) + Fibonacci(n-2)\n",
        " \n",
        "# Driver Program\n",
        "print(Fibonacci(9))"
      ],
      "metadata": {
        "colab": {
          "base_uri": "https://localhost:8080/"
        },
        "id": "dnx96iM_sOZ-",
        "outputId": "ae83283d-feac-453b-82e5-f22f06cc2351"
      },
      "execution_count": null,
      "outputs": [
        {
          "output_type": "stream",
          "name": "stdout",
          "text": [
            "34\n"
          ]
        }
      ]
    },
    {
      "cell_type": "code",
      "source": [
        "FibArray = [0, 1]\n",
        " \n",
        "def fibonacci(n):\n",
        "   \n",
        "    # Check is n is less\n",
        "    # than 0\n",
        "    if n < 0:\n",
        "        print(\"Incorrect input\")\n",
        "         \n",
        "    # Check is n is less\n",
        "    # than len(FibArray)\n",
        "    elif n < len(FibArray):\n",
        "        return FibArray[n]\n",
        "    else:       \n",
        "        FibArray.append(fibonacci(n - 1) + fibonacci(n - 2))\n",
        "        return FibArray[n]\n",
        " \n",
        "# Driver Program\n",
        "print(fibonacci(9))"
      ],
      "metadata": {
        "colab": {
          "base_uri": "https://localhost:8080/"
        },
        "id": "oIwQamLxrIj_",
        "outputId": "96f3b5f1-0a30-40fe-98be-a8e5c3604ab9"
      },
      "execution_count": 1,
      "outputs": [
        {
          "output_type": "stream",
          "name": "stdout",
          "text": [
            "34\n"
          ]
        }
      ]
    },
    {
      "cell_type": "code",
      "source": [
        "def fibonacci(n):\n",
        "    a = 0\n",
        "    b = 1\n",
        "     \n",
        "    # Check is n is less\n",
        "    # than 0\n",
        "    if n < 0:\n",
        "        print(\"Incorrect input\")\n",
        "         \n",
        "    # Check is n is equal\n",
        "    # to 0\n",
        "    elif n == 0:\n",
        "        return 0\n",
        "       \n",
        "    # Check if n is equal to 1\n",
        "    elif n == 1:\n",
        "        return b\n",
        "    else:\n",
        "        for i in range(1, n):\n",
        "            c = a + b\n",
        "            a = b\n",
        "            b = c\n",
        "        return b\n",
        " \n",
        "# Driver Program\n",
        "print(fibonacci(9))"
      ],
      "metadata": {
        "colab": {
          "base_uri": "https://localhost:8080/"
        },
        "id": "vs-8v6RfrLeG",
        "outputId": "982659b8-c676-4de2-a9ee-baab864dc9fc"
      },
      "execution_count": 2,
      "outputs": [
        {
          "output_type": "stream",
          "name": "stdout",
          "text": [
            "34\n"
          ]
        }
      ]
    },
    {
      "cell_type": "code",
      "source": [
        "# python program to check if x is a perfect square\n",
        "import math\n",
        " \n",
        "# A utility function that returns true if x is perfect square\n",
        " \n",
        " \n",
        "def isPerfectSquare(x):\n",
        "    s = int(math.sqrt(x))\n",
        "    return s*s == x\n",
        " \n",
        "# Returns true if n is a Fibonacci Number, else false\n",
        " \n",
        " \n",
        "def isFibonacci(n):\n",
        " \n",
        "    # n is Fibonacci if one of 5*n*n + 4 or 5*n*n - 4 or both\n",
        "    # is a perfect square\n",
        "    return isPerfectSquare(5*n*n + 4) or isPerfectSquare(5*n*n - 4)\n",
        " \n",
        " \n",
        "# A utility function to test above functions\n",
        "for i in range(1, 11):\n",
        "    if (isFibonacci(i) == True):\n",
        "        print(i, \"is a Fibonacci Number\")\n",
        "    else:\n",
        "        print(i, \"is a not Fibonacci Number \")"
      ],
      "metadata": {
        "colab": {
          "base_uri": "https://localhost:8080/"
        },
        "id": "iD1V9D07rjU6",
        "outputId": "5fc4073e-a643-4b22-ff9a-efb7cf568c9b"
      },
      "execution_count": 3,
      "outputs": [
        {
          "output_type": "stream",
          "name": "stdout",
          "text": [
            "1 is a Fibonacci Number\n",
            "2 is a Fibonacci Number\n",
            "3 is a Fibonacci Number\n",
            "4 is a not Fibonacci Number \n",
            "5 is a Fibonacci Number\n",
            "6 is a not Fibonacci Number \n",
            "7 is a not Fibonacci Number \n",
            "8 is a Fibonacci Number\n",
            "9 is a not Fibonacci Number \n",
            "10 is a not Fibonacci Number \n"
          ]
        }
      ]
    },
    {
      "cell_type": "code",
      "source": [
        "def findPosition(k, n):\n",
        "    f1 = 0\n",
        "    f2 = 1\n",
        "    i =2;\n",
        "    while i!=0:\n",
        "        f3 = f1 + f2;\n",
        "        f1 = f2;\n",
        "        f2 = f3;\n",
        " \n",
        "        if f2%k == 0:\n",
        "            return n*i\n",
        " \n",
        "        i+=1\n",
        "         \n",
        "    return\n",
        " \n",
        " \n",
        "# Multiple no.\n",
        "n = 5;\n",
        "# Number of whose multiple we are finding\n",
        "k = 4;\n",
        " \n",
        "print(\"Position of n\\'th multiple of k in\"\n",
        "                \"Fibonacci Series is\", findPosition(k,n));"
      ],
      "metadata": {
        "colab": {
          "base_uri": "https://localhost:8080/"
        },
        "id": "k1vlZoS8r4EI",
        "outputId": "24bb39a4-1e0f-446d-863a-8b88dda011d1"
      },
      "execution_count": 4,
      "outputs": [
        {
          "output_type": "stream",
          "name": "stdout",
          "text": [
            "Position of n'th multiple of k inFibonacci Series is 30\n"
          ]
        }
      ]
    },
    {
      "cell_type": "code",
      "source": [
        "# Python program to print\n",
        "# ASCII Value of Character\n",
        " \n",
        "# In c we can assign different\n",
        "# characters of which we want ASCII value\n",
        " \n",
        "c = 'g'\n",
        "# print the ASCII value of assigned character in c\n",
        "print(\"The ASCII value of '\" + c + \"' is\", ord(c))"
      ],
      "metadata": {
        "colab": {
          "base_uri": "https://localhost:8080/"
        },
        "id": "hbSqaC-PsCff",
        "outputId": "9291d3b1-5bc1-4acb-f519-a84cb927686a"
      },
      "execution_count": 5,
      "outputs": [
        {
          "output_type": "stream",
          "name": "stdout",
          "text": [
            "The ASCII value of 'g' is 103\n"
          ]
        }
      ]
    },
    {
      "cell_type": "code",
      "source": [
        "print(\"Enter a String: \", end=\"\")\n",
        "text = input()\n",
        "textlength = len(text)\n",
        "for char in text:\n",
        "    ascii = ord(char)\n",
        "    print(char, \"\\t\", ascii)"
      ],
      "metadata": {
        "colab": {
          "base_uri": "https://localhost:8080/"
        },
        "id": "5N6PtcjgsS3e",
        "outputId": "6f2da380-513b-41a3-a691-3cfe275cf79f"
      },
      "execution_count": 6,
      "outputs": [
        {
          "output_type": "stream",
          "name": "stdout",
          "text": [
            "Enter a String: 567\n",
            "5 \t 53\n",
            "6 \t 54\n",
            "7 \t 55\n"
          ]
        }
      ]
    },
    {
      "cell_type": "code",
      "source": [
        "def squaresum(n) :\n",
        "  \n",
        "    # Iterate i from 1 \n",
        "    # and n finding \n",
        "    # square of i and\n",
        "    # add to sum.\n",
        "    sm = 0\n",
        "    for i in range(1, n+1) :\n",
        "        sm = sm + (i * i)\n",
        "      \n",
        "    return sm\n",
        "  \n",
        "# Driven Program\n",
        "n = 4\n",
        "print(squaresum(n))"
      ],
      "metadata": {
        "colab": {
          "base_uri": "https://localhost:8080/"
        },
        "id": "B7Ru0VgRs4gj",
        "outputId": "2bb2e346-8bb6-48f8-c74b-753ca11356a2"
      },
      "execution_count": 7,
      "outputs": [
        {
          "output_type": "stream",
          "name": "stdout",
          "text": [
            "30\n"
          ]
        }
      ]
    },
    {
      "cell_type": "code",
      "source": [
        "def squaresum(n) :\n",
        "    return (n * (n + 1) * (2 * n + 1)) // 6\n",
        "  \n",
        "# Driven Program\n",
        "n = 4\n",
        "print(squaresum(n))"
      ],
      "metadata": {
        "colab": {
          "base_uri": "https://localhost:8080/"
        },
        "id": "jHPFAJPps8yN",
        "outputId": "80d50644-cce9-4b52-cd85-5a54ab9a2341"
      },
      "execution_count": 8,
      "outputs": [
        {
          "output_type": "stream",
          "name": "stdout",
          "text": [
            "30\n"
          ]
        }
      ]
    },
    {
      "cell_type": "code",
      "source": [
        "def sumofcube(n):\n",
        "    sm = 0\n",
        "    for i in range (1,n+1):\n",
        "        sm = sm + (i*i*i)\n",
        "    return sm   \n",
        "\n",
        "sumofcube(5)     "
      ],
      "metadata": {
        "colab": {
          "base_uri": "https://localhost:8080/"
        },
        "id": "xKTn7wZXtFuz",
        "outputId": "3a9621f2-cfdb-440a-9d04-7bf9e987c93e"
      },
      "execution_count": 2,
      "outputs": [
        {
          "output_type": "execute_result",
          "data": {
            "text/plain": [
              "225"
            ]
          },
          "metadata": {},
          "execution_count": 2
        }
      ]
    },
    {
      "cell_type": "code",
      "source": [
        "def sumOfSeries(n):\n",
        "    x = (n * (n + 1)  / 2)\n",
        "    return (int)(x * x)\n",
        " \n",
        " \n",
        "  \n",
        "# Driver Function\n",
        "n = 5\n",
        "print(sumOfSeries(n))"
      ],
      "metadata": {
        "colab": {
          "base_uri": "https://localhost:8080/"
        },
        "id": "KfXGcoRphpNB",
        "outputId": "33d4a798-28fd-4abb-aeb7-621705edb0d2"
      },
      "execution_count": 3,
      "outputs": [
        {
          "output_type": "stream",
          "name": "stdout",
          "text": [
            "225\n"
          ]
        }
      ]
    },
    {
      "cell_type": "code",
      "source": [
        "def sumOfSeries(n):\n",
        "    x = 0\n",
        "    if n % 2 == 0 :\n",
        "        x = (n/2) * (n+1)\n",
        "    else:\n",
        "        x = ((n + 1) / 2) * n\n",
        "         \n",
        "    return (int)(x * x)\n",
        " "
      ],
      "metadata": {
        "id": "kDzzB6SEiEKN"
      },
      "execution_count": 4,
      "outputs": []
    },
    {
      "cell_type": "code",
      "source": [
        "n=5\n",
        "s=0\n",
        "# iterating loop up to given number n\n",
        "for i in range(1,n+1):\n",
        "    # adding cube sum using pow() function\n",
        "    s=s+pow(i,3)\n",
        "print(s)   "
      ],
      "metadata": {
        "colab": {
          "base_uri": "https://localhost:8080/"
        },
        "id": "WqoapxJ8iO7r",
        "outputId": "a13a924c-3553-4143-b2ae-1bf64617c633"
      },
      "execution_count": 5,
      "outputs": [
        {
          "output_type": "stream",
          "name": "stdout",
          "text": [
            "225\n"
          ]
        }
      ]
    },
    {
      "cell_type": "code",
      "source": [
        "def _sum(arr):\n",
        " \n",
        "    # initialize a variable\n",
        "    # to store the sum\n",
        "    # while iterating through\n",
        "    # the array later\n",
        "    sum = 0\n",
        " \n",
        "    # iterate through the array\n",
        "    # and add each element to the sum variable\n",
        "    # one at a time\n",
        "    for i in arr:\n",
        "        sum = sum + i\n",
        " \n",
        "    return(sum)\n",
        " \n",
        " \n",
        "# driver function\n",
        "arr = []\n",
        "# input values to list\n",
        "arr = [12, 3, 4, 15]\n",
        " \n",
        "# calculating length of array\n",
        "n = len(arr)\n",
        " \n",
        "ans = _sum(arr)\n",
        " \n",
        "# display sum\n",
        "print('Sum of the array is ', ans)"
      ],
      "metadata": {
        "colab": {
          "base_uri": "https://localhost:8080/"
        },
        "id": "hM2uR9qXjZBY",
        "outputId": "5608c4e5-eda1-47e1-d009-8912198f71a2"
      },
      "execution_count": 12,
      "outputs": [
        {
          "output_type": "stream",
          "name": "stdout",
          "text": [
            "Sum of the array is  34\n"
          ]
        }
      ]
    },
    {
      "cell_type": "code",
      "source": [
        "arr = []\n",
        " \n",
        "# input values to list\n",
        "arr = [12, 3, 4, 15]\n",
        " \n",
        "# sum() is an inbuilt function in python that adds\n",
        "# all the elements in list,set and tuples and returns\n",
        "# the value\n",
        "ans = sum(arr)\n",
        " \n",
        "# display sum\n",
        "print('Sum of the array is ', ans)"
      ],
      "metadata": {
        "colab": {
          "base_uri": "https://localhost:8080/"
        },
        "id": "ztxia1o8jcgh",
        "outputId": "8be7e1f2-7f95-4fbe-d7c4-3bcfb2f2d642"
      },
      "execution_count": 13,
      "outputs": [
        {
          "output_type": "stream",
          "name": "stdout",
          "text": [
            "Sum of the array is  34\n"
          ]
        }
      ]
    },
    {
      "cell_type": "code",
      "source": [
        "\n",
        "def largest(arr, n):\n",
        " \n",
        "    # Initialize maximum element\n",
        "    max = arr[0]\n",
        " \n",
        "    # Traverse array elements from second\n",
        "    # and compare every element with\n",
        "    # current max\n",
        "    for i in range(1, n):\n",
        "        if arr[i] > max:\n",
        "            max = arr[i]\n",
        "    return max\n",
        " \n",
        " \n",
        "# Driver Code\n",
        "arr = [10, 324, 45, 90, 9808]\n",
        "n = len(arr)\n",
        "Ans = largest(arr, n)\n",
        "print(\"Largest in given array \", Ans)"
      ],
      "metadata": {
        "colab": {
          "base_uri": "https://localhost:8080/"
        },
        "id": "E5hnGrF3ob2g",
        "outputId": "16fc5568-b6cf-489e-9bd5-44ae33335ea3"
      },
      "execution_count": 24,
      "outputs": [
        {
          "output_type": "stream",
          "name": "stdout",
          "text": [
            "Largest in given array  9808\n"
          ]
        }
      ]
    },
    {
      "cell_type": "code",
      "source": [
        "# in arr[] of size n\n",
        "def largest(arr, n):\n",
        "    ans = max(arr)\n",
        "    return ans;\n",
        " \n",
        "# Driver code\n",
        "if __name__ == '__main__':\n",
        "    arr = [10, 324, 45, 90, 9808]\n",
        "    n = len(arr)\n",
        "    print (\"Largest in given array \", largest(arr, n))"
      ],
      "metadata": {
        "colab": {
          "base_uri": "https://localhost:8080/"
        },
        "id": "4vzGPCgIpUGR",
        "outputId": "877732ca-85e8-41e7-c11b-1b6e4c19630d"
      },
      "execution_count": 25,
      "outputs": [
        {
          "output_type": "stream",
          "name": "stdout",
          "text": [
            "Largest in given array  9808\n"
          ]
        }
      ]
    },
    {
      "cell_type": "code",
      "source": [
        "def largest(arr, n):\n",
        " \n",
        "    # Sort the array\n",
        "    arr.sort()\n",
        " \n",
        "    # The last element of the\n",
        "    # array is the largest element\n",
        "    return arr[n-1]\n",
        "    # or return arr[-1]\n",
        " \n",
        "# Driver Code\n",
        "arr = [10, 324, 45, 90, 9808]\n",
        "n = len(arr)\n",
        "Ans = largest(arr, n)\n",
        "print(\"Largest in given array \", Ans)"
      ],
      "metadata": {
        "colab": {
          "base_uri": "https://localhost:8080/"
        },
        "id": "kV2DQLODpbyZ",
        "outputId": "516bbb63-83b6-480b-df0f-80bf026ecbcb"
      },
      "execution_count": 26,
      "outputs": [
        {
          "output_type": "stream",
          "name": "stdout",
          "text": [
            "Largest in given array  9808\n"
          ]
        }
      ]
    },
    {
      "cell_type": "code",
      "source": [
        "a = [12,3,34,556]\n",
        "b = a[:2]\n",
        "a = a[2:]\n",
        "a+b"
      ],
      "metadata": {
        "colab": {
          "base_uri": "https://localhost:8080/"
        },
        "id": "uini0cEWp4os",
        "outputId": "5c4209a3-007f-4f0d-d7d2-30f429ae5acb"
      },
      "execution_count": 29,
      "outputs": [
        {
          "output_type": "execute_result",
          "data": {
            "text/plain": [
              "[34, 556, 12, 3]"
            ]
          },
          "metadata": {},
          "execution_count": 29
        }
      ]
    },
    {
      "cell_type": "code",
      "source": [
        "def addsubarray(arr,d):\n",
        "    b = arr[:d]\n",
        "    arr = arr[d:]\n",
        "    return arr+b\n",
        "\n",
        "arr = [10,23,4,6,7,8,3,2,4,6,7,7,8,34,3,54,6,65,4,4,6,6]\n",
        "addsubarray(arr,9)    "
      ],
      "metadata": {
        "colab": {
          "base_uri": "https://localhost:8080/"
        },
        "id": "81esBU75qGBe",
        "outputId": "6bd165de-11b2-4f9f-c110-9a973f10e755"
      },
      "execution_count": 31,
      "outputs": [
        {
          "output_type": "execute_result",
          "data": {
            "text/plain": [
              "[6, 7, 7, 8, 34, 3, 54, 6, 65, 4, 4, 6, 6, 10, 23, 4, 6, 7, 8, 3, 2, 4]"
            ]
          },
          "metadata": {},
          "execution_count": 31
        }
      ]
    },
    {
      "cell_type": "code",
      "source": [
        "def rotateArray(arr, n, d):\n",
        "    temp = []\n",
        "    i = 0\n",
        "    while (i < d):\n",
        "        temp.append(arr[i])\n",
        "        i = i + 1\n",
        "    i = 0\n",
        "    while (d < n):\n",
        "        arr[i] = arr[d]\n",
        "        i = i + 1\n",
        "        d = d + 1\n",
        "    arr[:] = arr[: i] + temp\n",
        "    return arr"
      ],
      "metadata": {
        "id": "MZ8BFtDsrnNg"
      },
      "execution_count": 32,
      "outputs": []
    },
    {
      "cell_type": "code",
      "source": [
        "def leftRotate(arr, d, n):\n",
        "    for i in range(d):\n",
        "        leftRotatebyOne(arr, n)\n",
        " \n",
        "#Function to left Rotate arr[] of size n by 1*/\n",
        "def leftRotatebyOne(arr, n):\n",
        "    temp = arr[0]\n",
        "    for i in range(n-1):\n",
        "        arr[i] = arr[i+1]\n",
        "    arr[n-1] = temp\n",
        "         \n",
        " \n",
        "# utility function to print an array */\n",
        "def printArray(arr,size):\n",
        "    for i in range(size):\n",
        "        print (\"%d\"% arr[i],end=\" \")\n",
        " \n",
        "  \n",
        "# Driver program to test above functions */\n",
        "arr = [1, 2, 3, 4, 5, 6, 7]\n",
        "leftRotate(arr, 2, 7)\n",
        "printArray(arr, 7)\n",
        " "
      ],
      "metadata": {
        "colab": {
          "base_uri": "https://localhost:8080/"
        },
        "id": "JhkaXucir4ja",
        "outputId": "370fa915-2f54-48a9-8307-7af8fde8fc71"
      },
      "execution_count": 33,
      "outputs": [
        {
          "output_type": "stream",
          "name": "stdout",
          "text": [
            "3 4 5 6 7 1 2 "
          ]
        }
      ]
    }
  ]
}