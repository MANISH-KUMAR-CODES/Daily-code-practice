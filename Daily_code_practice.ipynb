{
  "nbformat": 4,
  "nbformat_minor": 0,
  "metadata": {
    "colab": {
      "name": "Daily code practice",
      "provenance": [],
      "authorship_tag": "ABX9TyMwZ2Zyvo8b635uFWuJjBL/",
      "include_colab_link": true
    },
    "kernelspec": {
      "name": "python3",
      "display_name": "Python 3"
    },
    "language_info": {
      "name": "python"
    }
  },
  "cells": [
    {
      "cell_type": "markdown",
      "metadata": {
        "id": "view-in-github",
        "colab_type": "text"
      },
      "source": [
        "<a href=\"https://colab.research.google.com/github/MANISH-KUMAR-CODES/Daily-code-practice/blob/main/Daily_code_practice.ipynb\" target=\"_parent\"><img src=\"https://colab.research.google.com/assets/colab-badge.svg\" alt=\"Open In Colab\"/></a>"
      ]
    },
    {
      "cell_type": "markdown",
      "source": [
        "## **In this notebook i will daily practice some codes. so  i never forget how to code and make myself strong in codings**"
      ],
      "metadata": {
        "id": "ojZlx7z4dul_"
      }
    },
    {
      "cell_type": "markdown",
      "source": [
        "## practice on one hot encoding using python"
      ],
      "metadata": {
        "id": "88xkaoP4ePEX"
      }
    },
    {
      "cell_type": "code",
      "source": [
        "import pandas as pd"
      ],
      "metadata": {
        "id": "FDkuS7haeGQq"
      },
      "execution_count": 1,
      "outputs": []
    },
    {
      "cell_type": "code",
      "source": [
        "df= pd.DataFrame({'Team' :[\"A\",\"A\",\"B\",\"B\",\"B\",\"B\",\"C\",\"C\",\"C\"],\n",
        "                    'points':[25,12,15,14,19,23,25,29,30]})\n",
        "#view DataFrame\n",
        "print(df)"
      ],
      "metadata": {
        "colab": {
          "base_uri": "https://localhost:8080/"
        },
        "id": "k4C62rcdech0",
        "outputId": "a0da7041-c328-47b9-b6ab-5a44f644b282"
      },
      "execution_count": 8,
      "outputs": [
        {
          "output_type": "stream",
          "name": "stdout",
          "text": [
            "  Team  points\n",
            "0    A      25\n",
            "1    A      12\n",
            "2    B      15\n",
            "3    B      14\n",
            "4    B      19\n",
            "5    B      23\n",
            "6    C      25\n",
            "7    C      29\n",
            "8    C      30\n"
          ]
        }
      ]
    },
    {
      "cell_type": "code",
      "source": [
        "from sklearn.preprocessing import OneHotEncoder\n",
        "#creating instance of one-hot-encoder\n",
        "Encoder = OneHotEncoder(handle_unknown = 'ignore')\n",
        "\n",
        "#perform one-hot encoding on 'team' column \n",
        "encoder_df = pd.DataFrame(Encoder.fit_transform(df[['Team']]).toarray()) # in fir transform we have to put a dataframe only ,we cannot put a series \n",
        "\n",
        "#merge one-hot encoded columns back with original DataFrame\n",
        "final_df = df.join(encoder_df)\n",
        "\n",
        "#view final df\n",
        "print(final_df)\n",
        "\n",
        "#drop 'team' column\n",
        "final_df.drop('Team',axis = 1,inplace = True)\n",
        "\n",
        "#view final df\n",
        "print(final_df)\n",
        "\n",
        "final_df.columns = ['points','TeamA','TeamB','TeamC']"
      ],
      "metadata": {
        "colab": {
          "base_uri": "https://localhost:8080/"
        },
        "id": "K6yvAZIxfdBO",
        "outputId": "522f266e-a79c-4c75-d864-af0376fbca9d"
      },
      "execution_count": 39,
      "outputs": [
        {
          "output_type": "stream",
          "name": "stdout",
          "text": [
            "  Team  points    0    1    2\n",
            "0    A      25  1.0  0.0  0.0\n",
            "1    A      12  1.0  0.0  0.0\n",
            "2    B      15  0.0  1.0  0.0\n",
            "3    B      14  0.0  1.0  0.0\n",
            "4    B      19  0.0  1.0  0.0\n",
            "5    B      23  0.0  1.0  0.0\n",
            "6    C      25  0.0  0.0  1.0\n",
            "7    C      29  0.0  0.0  1.0\n",
            "8    C      30  0.0  0.0  1.0\n",
            "   points    0    1    2\n",
            "0      25  1.0  0.0  0.0\n",
            "1      12  1.0  0.0  0.0\n",
            "2      15  0.0  1.0  0.0\n",
            "3      14  0.0  1.0  0.0\n",
            "4      19  0.0  1.0  0.0\n",
            "5      23  0.0  1.0  0.0\n",
            "6      25  0.0  0.0  1.0\n",
            "7      29  0.0  0.0  1.0\n",
            "8      30  0.0  0.0  1.0\n"
          ]
        }
      ]
    },
    {
      "cell_type": "code",
      "source": [
        "#view final df\n",
        "print(final_df)"
      ],
      "metadata": {
        "colab": {
          "base_uri": "https://localhost:8080/"
        },
        "id": "QLG6s-D2jvce",
        "outputId": "cf806627-d19a-4f25-cca5-aa391078b8be"
      },
      "execution_count": 37,
      "outputs": [
        {
          "output_type": "stream",
          "name": "stdout",
          "text": [
            "   points  TeamA  TeamB  TeamC\n",
            "0      25    1.0    0.0    0.0\n",
            "1      12    1.0    0.0    0.0\n",
            "2      15    0.0    1.0    0.0\n",
            "3      14    0.0    1.0    0.0\n",
            "4      19    0.0    1.0    0.0\n",
            "5      23    0.0    1.0    0.0\n",
            "6      25    0.0    0.0    1.0\n",
            "7      29    0.0    0.0    1.0\n",
            "8      30    0.0    0.0    1.0\n"
          ]
        }
      ]
    },
    {
      "cell_type": "code",
      "source": [
        "Encoder.fit_transform(df[['Team']]).toarray()"
      ],
      "metadata": {
        "colab": {
          "base_uri": "https://localhost:8080/"
        },
        "id": "Qnzh8pAjhtvo",
        "outputId": "64614bf8-7509-4056-ddb3-2fe7c96bf330"
      },
      "execution_count": 29,
      "outputs": [
        {
          "output_type": "execute_result",
          "data": {
            "text/plain": [
              "array([[1., 0., 0.],\n",
              "       [1., 0., 0.],\n",
              "       [0., 1., 0.],\n",
              "       [0., 1., 0.],\n",
              "       [0., 1., 0.],\n",
              "       [0., 1., 0.],\n",
              "       [0., 0., 1.],\n",
              "       [0., 0., 1.],\n",
              "       [0., 0., 1.]])"
            ]
          },
          "metadata": {},
          "execution_count": 29
        }
      ]
    },
    {
      "cell_type": "markdown",
      "source": [
        "### **using split function of python**"
      ],
      "metadata": {
        "id": "34u5FHBNbBZr"
      }
    },
    {
      "cell_type": "code",
      "source": [
        "x,y = input('Enter two Inputs:').split(\",\")\n",
        "print(\"Number of boys:\",x)\n",
        "print(\"Number of girls:\", y)"
      ],
      "metadata": {
        "colab": {
          "base_uri": "https://localhost:8080/"
        },
        "id": "BLeo0iJFbLJn",
        "outputId": "a329612e-7b14-4427-81b0-f5676aa7b3ed"
      },
      "execution_count": 5,
      "outputs": [
        {
          "output_type": "stream",
          "name": "stdout",
          "text": [
            "Enter two Inputs:45,67\n",
            "Number of boys: 45\n",
            "Number of girls: 67\n"
          ]
        }
      ]
    },
    {
      "cell_type": "code",
      "source": [
        "x,y,z = input(\"Taking three inputs:\").split(\",\")\n",
        "print(\"No. of boys:\",(x))\n",
        "print(\"No. of girls\",(y))\n",
        "print(\"No. of teachers:\",(z))\n",
        "print(\"No. of students in total:\",x+y+z)"
      ],
      "metadata": {
        "colab": {
          "base_uri": "https://localhost:8080/"
        },
        "id": "vx76vt1abT0n",
        "outputId": "9703cb6f-a0df-4b45-c1a4-9e63d3f2a431"
      },
      "execution_count": 16,
      "outputs": [
        {
          "output_type": "stream",
          "name": "stdout",
          "text": [
            "Taking three inputs:444,555,66\n",
            "No. of boys: 444\n",
            "No. of girls 555\n",
            "No. of teachers: 66\n",
            "No. of students in total: 44455566\n"
          ]
        }
      ]
    },
    {
      "cell_type": "code",
      "source": [
        "a,b = input(\"The two numbers are:\").split(',')\n",
        "print(\"First number is {} and second number is {}\".format(a,b))"
      ],
      "metadata": {
        "colab": {
          "base_uri": "https://localhost:8080/"
        },
        "id": "wuWme_GYeJQl",
        "outputId": "ada22306-a66d-4ed1-cc4f-a562483385c6"
      },
      "execution_count": 18,
      "outputs": [
        {
          "output_type": "stream",
          "name": "stdout",
          "text": [
            "The two numbers are:45,56\n",
            "First number is 45 and second number is 56\n"
          ]
        }
      ]
    },
    {
      "cell_type": "code",
      "source": [
        "# taking multiple inputs at a time \n",
        "# and type casting using list() function\n",
        "x = list(map(int,input(\"multiple inputs:\").split(',')))\n",
        "print(\"list of multiple inputs are:\",x)"
      ],
      "metadata": {
        "colab": {
          "base_uri": "https://localhost:8080/"
        },
        "id": "W2a8_0tZg8Hg",
        "outputId": "03527908-cf45-4c08-f825-9e872bd4beb9"
      },
      "execution_count": 23,
      "outputs": [
        {
          "output_type": "stream",
          "name": "stdout",
          "text": [
            "multiple inputs:46,235,35,35,34,23\n",
            "list of multiple inputs are: [46, 235, 35, 35, 34, 23]\n"
          ]
        }
      ]
    },
    {
      "cell_type": "code",
      "source": [
        "print(\"Geeks of Geeks \\n is the best for Dsa content\")\n",
        "print(\"Geeks of geeks \\n is the best for DSA\", end = '**')\n",
        "print('Geeks of geeks is the best')"
      ],
      "metadata": {
        "colab": {
          "base_uri": "https://localhost:8080/"
        },
        "id": "SZrXDxs5iaYc",
        "outputId": "c3c05a71-1f08-4d34-f540-60d94316655e"
      },
      "execution_count": 25,
      "outputs": [
        {
          "output_type": "stream",
          "name": "stdout",
          "text": [
            "Geeks of Geeks \n",
            " is the best for Dsa content\n",
            "Geeks of geeks \n",
            " is the best for DSA**Geeks of geeks is the best\n"
          ]
        }
      ]
    },
    {
      "cell_type": "markdown",
      "source": [
        "### **code to print in same line**"
      ],
      "metadata": {
        "id": "JAM3z-NNka-r"
      }
    },
    {
      "cell_type": "code",
      "source": [
        "print('Geeks',end = ' ')\n",
        "print(\"GeeksofGeeks\")"
      ],
      "metadata": {
        "colab": {
          "base_uri": "https://localhost:8080/"
        },
        "id": "Bzg-_w0QkaSv",
        "outputId": "45fe293e-bdcc-4752-e788-aa1547edfca9"
      },
      "execution_count": 27,
      "outputs": [
        {
          "output_type": "stream",
          "name": "stdout",
          "text": [
            "Geeks GeeksofGeeks\n"
          ]
        }
      ]
    },
    {
      "cell_type": "code",
      "source": [
        "a= [1,2,3,4,5]\n",
        "for i in range(5):\n",
        "   print(a[i],end =' ')"
      ],
      "metadata": {
        "colab": {
          "base_uri": "https://localhost:8080/"
        },
        "id": "JnFtcStMksRv",
        "outputId": "9beed354-798c-4278-f09b-4f5fe1532a1b"
      },
      "execution_count": 31,
      "outputs": [
        {
          "output_type": "stream",
          "name": "stdout",
          "text": [
            "1 2 3 4 5 "
          ]
        }
      ]
    },
    {
      "cell_type": "code",
      "source": [
        "l = [1,2,3,45,6,7]\n",
        "print(*l)"
      ],
      "metadata": {
        "colab": {
          "base_uri": "https://localhost:8080/"
        },
        "id": "CrT_6k2hljpE",
        "outputId": "508ac29b-f35e-44e4-c7ef-d81a422766c6"
      },
      "execution_count": 36,
      "outputs": [
        {
          "output_type": "stream",
          "name": "stdout",
          "text": [
            "1 2 3 45 6 7\n"
          ]
        }
      ]
    },
    {
      "cell_type": "code",
      "source": [
        "print('Red',\"Blue\",\"Green\", sep = \",\",end = '@')\n",
        "print('GeeksforGeeks')"
      ],
      "metadata": {
        "colab": {
          "base_uri": "https://localhost:8080/"
        },
        "id": "Zatt3AnrmmU1",
        "outputId": "8443191f-043b-44e9-af0d-d3d61290eab9"
      },
      "execution_count": 39,
      "outputs": [
        {
          "output_type": "stream",
          "name": "stdout",
          "text": [
            "Red,Blue,Green@GeeksforGeeks\n"
          ]
        }
      ]
    },
    {
      "cell_type": "code",
      "source": [
        "# using format() method with number\n",
        "print(\"Geeks :{0:2d}, Portal :{1:8.2f}\".\n",
        "      format(1200, 555.546))"
      ],
      "metadata": {
        "colab": {
          "base_uri": "https://localhost:8080/"
        },
        "id": "M9ZtePZ0pWxA",
        "outputId": "2cf5ed7c-233d-4b09-c215-e22f476b8502"
      },
      "execution_count": 47,
      "outputs": [
        {
          "output_type": "stream",
          "name": "stdout",
          "text": [
            "Geeks :1200, Portal :  555.55\n"
          ]
        }
      ]
    },
    {
      "cell_type": "code",
      "source": [
        "tab = {'geeks': 4127, 'for': 4098, 'geek': 8637678}\n",
        "\n",
        "print('Geeks: {0[geeks]:2d}; For: {0[for]:d}; '\n",
        "    'Geeks: {0[geek]:d}'.format(tab))"
      ],
      "metadata": {
        "colab": {
          "base_uri": "https://localhost:8080/"
        },
        "id": "kcN-1G7Jq2bB",
        "outputId": "b2d6a491-c1b1-40d4-9ef6-0659e91c9a42"
      },
      "execution_count": 51,
      "outputs": [
        {
          "output_type": "stream",
          "name": "stdout",
          "text": [
            "Geeks: 4127; For: 4098; Geeks: 8637678\n"
          ]
        }
      ]
    },
    {
      "cell_type": "code",
      "source": [
        "data = dict(fun =\"GeeksForGeeks\", adj =\"Portal\")\n",
        " \n",
        "# using format() in dictionary\n",
        "print(\"I love {fun} computer {adj}\".format(**data))"
      ],
      "metadata": {
        "colab": {
          "base_uri": "https://localhost:8080/"
        },
        "id": "kd5UsErprQKz",
        "outputId": "acc8c5c1-ec4f-4105-db65-cd00c0ea2846"
      },
      "execution_count": 55,
      "outputs": [
        {
          "output_type": "stream",
          "name": "stdout",
          "text": [
            "I love GeeksForGeeks computer Portal\n"
          ]
        }
      ]
    },
    {
      "cell_type": "code",
      "source": [
        "cstr = \"I love geeksforgeeks\"\n",
        "print(\"Centre alingned\")\n",
        "print(cstr.center(40,\"*\"))\n",
        "#left alingned\n",
        "print(cstr.ljust(40,'*'))\n",
        "#right alinged\n",
        "print(cstr.rjust(40,\"*\"))"
      ],
      "metadata": {
        "colab": {
          "base_uri": "https://localhost:8080/"
        },
        "id": "SzW_riON6vum",
        "outputId": "9d676c8b-ceee-422c-e624-eb3d4aa95e97"
      },
      "execution_count": 64,
      "outputs": [
        {
          "output_type": "stream",
          "name": "stdout",
          "text": [
            "Centre alingned\n",
            "**********I love geeksforgeeks**********\n",
            "I love geeksforgeeks********************\n",
            "********************I love geeksforgeeks\n"
          ]
        }
      ]
    },
    {
      "cell_type": "code",
      "source": [
        "# Examples of Bitwise operators\n",
        "a = 10\n",
        "b = 4\n",
        " \n",
        "# Print bitwise AND operation\n",
        "print(a & b)\n",
        " \n",
        "# Print bitwise OR operation\n",
        "print(a | b)\n",
        " \n",
        "# Print bitwise NOT operation\n",
        "print(~a)\n",
        " \n",
        "# print bitwise XOR operation\n",
        "print(a ^ b)\n",
        " \n",
        "# print bitwise right shift operation\n",
        "print(a >> 2)\n",
        " \n",
        "# print bitwise left shift operation\n",
        "print(a << 2)"
      ],
      "metadata": {
        "colab": {
          "base_uri": "https://localhost:8080/"
        },
        "id": "EMptYEsm-cCj",
        "outputId": "2c5e47f9-6cf5-420d-89ee-9faeabf17949"
      },
      "execution_count": 65,
      "outputs": [
        {
          "output_type": "stream",
          "name": "stdout",
          "text": [
            "0\n",
            "14\n",
            "-11\n",
            "14\n",
            "2\n",
            "40\n"
          ]
        }
      ]
    }
  ]
}